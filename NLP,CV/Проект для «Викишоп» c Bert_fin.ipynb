{
 "cells": [
  {
   "cell_type": "markdown",
   "metadata": {},
   "source": [
    "# Проект для «Викишоп» c Bert"
   ]
  },
  {
   "cell_type": "markdown",
   "metadata": {},
   "source": [
    "Интернет-магазин «Викишоп» запускает новый сервис. Теперь пользователи могут редактировать и дополнять описания товаров, как в вики-сообществах. То есть клиенты предлагают свои правки и комментируют изменения других. Магазину нужен инструмент, который будет искать токсичные комментарии и отправлять их на модерацию. \n",
    "\n",
    "Обучите модель классифицировать комментарии на позитивные и негативные. В вашем распоряжении набор данных с разметкой о токсичности правок.\n",
    "\n",
    "Постройте модель со значением метрики качества *F1* не меньше 0.75. \n",
    "\n",
    "**Инструкция по выполнению проекта**\n",
    "\n",
    "1. Загрузите и подготовьте данные.\n",
    "2. Обучите разные модели. \n",
    "3. Сделайте выводы.\n",
    "\n",
    "Для выполнения проекта применять *BERT* необязательно, но вы можете попробовать.\n",
    "\n",
    "**Описание данных**\n",
    "\n",
    "Данные находятся в файле `toxic_comments.csv`. Столбец *text* в нём содержит текст комментария, а *toxic* — целевой признак."
   ]
  },
  {
   "cell_type": "markdown",
   "metadata": {
    "toc": true
   },
   "source": [
    "<h1>Содержание<span class=\"tocSkip\"></span></h1>\n",
    "<div class=\"toc\"><ul class=\"toc-item\"><li><span><a href=\"#Подготовка\" data-toc-modified-id=\"Подготовка-1\"><span class=\"toc-item-num\">1&nbsp;&nbsp;</span>Подготовка</a></span><ul class=\"toc-item\"><li><span><a href=\"#Библиотеки\" data-toc-modified-id=\"Библиотеки-1.1\"><span class=\"toc-item-num\">1.1&nbsp;&nbsp;</span>Библиотеки</a></span></li></ul></li><li><span><a href=\"#Обучение\" data-toc-modified-id=\"Обучение-2\"><span class=\"toc-item-num\">2&nbsp;&nbsp;</span>Обучение</a></span><ul class=\"toc-item\"><li><ul class=\"toc-item\"><li><span><a href=\"#Лемматизация\" data-toc-modified-id=\"Лемматизация-2.0.1\"><span class=\"toc-item-num\">2.0.1&nbsp;&nbsp;</span>Лемматизация</a></span></li></ul></li><li><span><a href=\"#Векторизация\" data-toc-modified-id=\"Векторизация-2.1\"><span class=\"toc-item-num\">2.1&nbsp;&nbsp;</span>Векторизация</a></span></li><li><span><a href=\"#Pipeline\" data-toc-modified-id=\"Pipeline-2.2\"><span class=\"toc-item-num\">2.2&nbsp;&nbsp;</span>Pipeline</a></span><ul class=\"toc-item\"><li><span><a href=\"#Вывод\" data-toc-modified-id=\"Вывод-2.2.1\"><span class=\"toc-item-num\">2.2.1&nbsp;&nbsp;</span>Вывод</a></span></li></ul></li><li><span><a href=\"#Создание-эмбединга-с-помощью-Bert\" data-toc-modified-id=\"Создание-эмбединга-с-помощью-Bert-2.3\"><span class=\"toc-item-num\">2.3&nbsp;&nbsp;</span>Создание эмбединга с помощью Bert</a></span></li></ul></li><li><span><a href=\"#Выводы\" data-toc-modified-id=\"Выводы-3\"><span class=\"toc-item-num\">3&nbsp;&nbsp;</span>Выводы</a></span><ul class=\"toc-item\"><li><span><a href=\"#Подготовка\" data-toc-modified-id=\"Подготовка-3.1\"><span class=\"toc-item-num\">3.1&nbsp;&nbsp;</span>Подготовка</a></span></li><li><span><a href=\"#Модель\" data-toc-modified-id=\"Модель-3.2\"><span class=\"toc-item-num\">3.2&nbsp;&nbsp;</span>Модель</a></span></li></ul></li><li><span><a href=\"#Чек-лист-проверки\" data-toc-modified-id=\"Чек-лист-проверки-4\"><span class=\"toc-item-num\">4&nbsp;&nbsp;</span>Чек-лист проверки</a></span></li></ul></div>"
   ]
  },
  {
   "cell_type": "markdown",
   "metadata": {},
   "source": [
    "## Подготовка"
   ]
  },
  {
   "cell_type": "markdown",
   "metadata": {},
   "source": [
    "### Библиотеки "
   ]
  },
  {
   "cell_type": "code",
   "execution_count": null,
   "metadata": {},
   "outputs": [],
   "source": [
    "!pip install imblearn -q"
   ]
  },
  {
   "cell_type": "code",
   "execution_count": 2,
   "metadata": {},
   "outputs": [],
   "source": [
    "import pandas as pd\n",
    "import matplotlib.pyplot as plt\n",
    "from scipy import stats as st\n",
    "import numpy as np\n",
    "from IPython.display import display\n",
    "import seaborn as sns \n",
    "import math\n",
    "\n",
    "from sklearn.metrics import accuracy_score\n",
    "\n",
    "from sklearn.feature_extraction.text import TfidfVectorizer \n",
    "import nltk\n",
    "from nltk.corpus import stopwords \n",
    "import re\n",
    "\n",
    "from sklearn.model_selection import train_test_split\n",
    "from sklearn.pipeline import Pipeline \n",
    "from sklearn.compose import ColumnTransformer\n",
    "\n",
    "from sklearn.model_selection import StratifiedKFold\n",
    "from sklearn.model_selection import GridSearchCV,RandomizedSearchCV\n",
    "\n",
    "from sklearn.metrics import roc_auc_score\n",
    "from sklearn.metrics import f1_score\n",
    "\n",
    "from sklearn.linear_model import LogisticRegression\n",
    "from sklearn.ensemble import RandomForestClassifier\n",
    "from catboost import CatBoostClassifier\n",
    "\n",
    "from tqdm import tqdm\n",
    "from tqdm import notebook\n",
    "from joblib import Parallel, delayed\n",
    "\n",
    "from nltk.stem import WordNetLemmatizer\n",
    "from sklearn.metrics import f1_score\n",
    "from sklearn.metrics import confusion_matrix\n",
    "\n",
    "from transformers import pipeline\n",
    "import torch\n",
    "\n",
    "from imblearn.under_sampling import RandomUnderSampler\n",
    "from imblearn.pipeline import Pipeline\n",
    "\n",
    "from sklearn.ensemble import VotingClassifier\n",
    "from nltk.corpus import wordnet\n",
    "import warnings"
   ]
  },
  {
   "cell_type": "code",
   "execution_count": 3,
   "metadata": {},
   "outputs": [],
   "source": [
    "from sklearn.neighbors import KNeighborsClassifier"
   ]
  },
  {
   "cell_type": "code",
   "execution_count": 4,
   "metadata": {},
   "outputs": [],
   "source": [
    "from sklearn.experimental import enable_halving_search_cv\n",
    "from sklearn.model_selection import HalvingGridSearchCV"
   ]
  },
  {
   "cell_type": "code",
   "execution_count": 5,
   "metadata": {},
   "outputs": [],
   "source": [
    "RANDOM_STATE = 42\n",
    "pd.set_option('display.max_colwidth', None)"
   ]
  },
  {
   "cell_type": "code",
   "execution_count": 6,
   "metadata": {},
   "outputs": [],
   "source": [
    "try:\n",
    "    data = pd.read_csv('toxic_comments.csv')\n",
    "except:\n",
    "    print('smth wrong')"
   ]
  },
  {
   "cell_type": "code",
   "execution_count": 7,
   "metadata": {},
   "outputs": [
    {
     "data": {
      "text/html": [
       "<div>\n",
       "<style scoped>\n",
       "    .dataframe tbody tr th:only-of-type {\n",
       "        vertical-align: middle;\n",
       "    }\n",
       "\n",
       "    .dataframe tbody tr th {\n",
       "        vertical-align: top;\n",
       "    }\n",
       "\n",
       "    .dataframe thead th {\n",
       "        text-align: right;\n",
       "    }\n",
       "</style>\n",
       "<table border=\"1\" class=\"dataframe\">\n",
       "  <thead>\n",
       "    <tr style=\"text-align: right;\">\n",
       "      <th></th>\n",
       "      <th>Unnamed: 0</th>\n",
       "      <th>text</th>\n",
       "      <th>toxic</th>\n",
       "    </tr>\n",
       "  </thead>\n",
       "  <tbody>\n",
       "    <tr>\n",
       "      <th>0</th>\n",
       "      <td>0</td>\n",
       "      <td>Explanation\\nWhy the edits made under my username Hardcore Metallica Fan were reverted? They weren't vandalisms, just closure on some GAs after I voted at New York Dolls FAC. And please don't remove the template from the talk page since I'm retired now.89.205.38.27</td>\n",
       "      <td>0</td>\n",
       "    </tr>\n",
       "    <tr>\n",
       "      <th>1</th>\n",
       "      <td>1</td>\n",
       "      <td>D'aww! He matches this background colour I'm seemingly stuck with. Thanks.  (talk) 21:51, January 11, 2016 (UTC)</td>\n",
       "      <td>0</td>\n",
       "    </tr>\n",
       "    <tr>\n",
       "      <th>2</th>\n",
       "      <td>2</td>\n",
       "      <td>Hey man, I'm really not trying to edit war. It's just that this guy is constantly removing relevant information and talking to me through edits instead of my talk page. He seems to care more about the formatting than the actual info.</td>\n",
       "      <td>0</td>\n",
       "    </tr>\n",
       "    <tr>\n",
       "      <th>3</th>\n",
       "      <td>3</td>\n",
       "      <td>\"\\nMore\\nI can't make any real suggestions on improvement - I wondered if the section statistics should be later on, or a subsection of \"\"types of accidents\"\"  -I think the references may need tidying so that they are all in the exact same format ie date format etc. I can do that later on, if no-one else does first - if you have any preferences for formatting style on references or want to do it yourself please let me know.\\n\\nThere appears to be a backlog on articles for review so I guess there may be a delay until a reviewer turns up. It's listed in the relevant form eg Wikipedia:Good_article_nominations#Transport  \"</td>\n",
       "      <td>0</td>\n",
       "    </tr>\n",
       "    <tr>\n",
       "      <th>4</th>\n",
       "      <td>4</td>\n",
       "      <td>You, sir, are my hero. Any chance you remember what page that's on?</td>\n",
       "      <td>0</td>\n",
       "    </tr>\n",
       "  </tbody>\n",
       "</table>\n",
       "</div>"
      ],
      "text/plain": [
       "   Unnamed: 0  \\\n",
       "0           0   \n",
       "1           1   \n",
       "2           2   \n",
       "3           3   \n",
       "4           4   \n",
       "\n",
       "                                                                                                                                                                                                                                                                                                                                                                                                                                                                                                                                                                                                                                                 text  \\\n",
       "0                                                                                                                                                                                                                                                                                                                                                                           Explanation\\nWhy the edits made under my username Hardcore Metallica Fan were reverted? They weren't vandalisms, just closure on some GAs after I voted at New York Dolls FAC. And please don't remove the template from the talk page since I'm retired now.89.205.38.27   \n",
       "1                                                                                                                                                                                                                                                                                                                                                                                                                                                                                                                                    D'aww! He matches this background colour I'm seemingly stuck with. Thanks.  (talk) 21:51, January 11, 2016 (UTC)   \n",
       "2                                                                                                                                                                                                                                                                                                                                                                                                           Hey man, I'm really not trying to edit war. It's just that this guy is constantly removing relevant information and talking to me through edits instead of my talk page. He seems to care more about the formatting than the actual info.   \n",
       "3  \"\\nMore\\nI can't make any real suggestions on improvement - I wondered if the section statistics should be later on, or a subsection of \"\"types of accidents\"\"  -I think the references may need tidying so that they are all in the exact same format ie date format etc. I can do that later on, if no-one else does first - if you have any preferences for formatting style on references or want to do it yourself please let me know.\\n\\nThere appears to be a backlog on articles for review so I guess there may be a delay until a reviewer turns up. It's listed in the relevant form eg Wikipedia:Good_article_nominations#Transport  \"   \n",
       "4                                                                                                                                                                                                                                                                                                                                                                                                                                                                                                                                                                                 You, sir, are my hero. Any chance you remember what page that's on?   \n",
       "\n",
       "   toxic  \n",
       "0      0  \n",
       "1      0  \n",
       "2      0  \n",
       "3      0  \n",
       "4      0  "
      ]
     },
     "execution_count": 7,
     "metadata": {},
     "output_type": "execute_result"
    }
   ],
   "source": [
    "data.head(5)"
   ]
  },
  {
   "cell_type": "code",
   "execution_count": 8,
   "metadata": {},
   "outputs": [
    {
     "data": {
      "text/html": [
       "<div>\n",
       "<style scoped>\n",
       "    .dataframe tbody tr th:only-of-type {\n",
       "        vertical-align: middle;\n",
       "    }\n",
       "\n",
       "    .dataframe tbody tr th {\n",
       "        vertical-align: top;\n",
       "    }\n",
       "\n",
       "    .dataframe thead th {\n",
       "        text-align: right;\n",
       "    }\n",
       "</style>\n",
       "<table border=\"1\" class=\"dataframe\">\n",
       "  <thead>\n",
       "    <tr style=\"text-align: right;\">\n",
       "      <th></th>\n",
       "      <th>Unnamed: 0</th>\n",
       "      <th>text</th>\n",
       "      <th>toxic</th>\n",
       "    </tr>\n",
       "  </thead>\n",
       "  <tbody>\n",
       "    <tr>\n",
       "      <th>159287</th>\n",
       "      <td>159446</td>\n",
       "      <td>\":::::And for the second time of asking, when your view completely contradicts the coverage in reliable sources, why should anyone care what you feel? You can't even give a consistent argument - is the opening only supposed to mention significant aspects, or the \"\"most significant\"\" ones?   \\n\\n\"</td>\n",
       "      <td>0</td>\n",
       "    </tr>\n",
       "    <tr>\n",
       "      <th>159288</th>\n",
       "      <td>159447</td>\n",
       "      <td>You should be ashamed of yourself \\n\\nThat is a horrible thing you put on my talk page.  128.61.19.93</td>\n",
       "      <td>0</td>\n",
       "    </tr>\n",
       "    <tr>\n",
       "      <th>159289</th>\n",
       "      <td>159448</td>\n",
       "      <td>Spitzer \\n\\nUmm, theres no actual article for prostitution ring.  - Crunch Captain.</td>\n",
       "      <td>0</td>\n",
       "    </tr>\n",
       "    <tr>\n",
       "      <th>159290</th>\n",
       "      <td>159449</td>\n",
       "      <td>And it looks like it was actually you who put on the speedy to have the first version deleted now that I look at it.</td>\n",
       "      <td>0</td>\n",
       "    </tr>\n",
       "    <tr>\n",
       "      <th>159291</th>\n",
       "      <td>159450</td>\n",
       "      <td>\"\\nAnd ... I really don't think you understand.  I came here and my idea was bad right away.  What kind of community goes \"\"you have bad ideas\"\" go away, instead of helping rewrite them.   \"</td>\n",
       "      <td>0</td>\n",
       "    </tr>\n",
       "  </tbody>\n",
       "</table>\n",
       "</div>"
      ],
      "text/plain": [
       "        Unnamed: 0  \\\n",
       "159287      159446   \n",
       "159288      159447   \n",
       "159289      159448   \n",
       "159290      159449   \n",
       "159291      159450   \n",
       "\n",
       "                                                                                                                                                                                                                                                                                                             text  \\\n",
       "159287  \":::::And for the second time of asking, when your view completely contradicts the coverage in reliable sources, why should anyone care what you feel? You can't even give a consistent argument - is the opening only supposed to mention significant aspects, or the \"\"most significant\"\" ones?   \\n\\n\"   \n",
       "159288                                                                                                                                                                                                      You should be ashamed of yourself \\n\\nThat is a horrible thing you put on my talk page.  128.61.19.93   \n",
       "159289                                                                                                                                                                                                                        Spitzer \\n\\nUmm, theres no actual article for prostitution ring.  - Crunch Captain.   \n",
       "159290                                                                                                                                                                                       And it looks like it was actually you who put on the speedy to have the first version deleted now that I look at it.   \n",
       "159291                                                                                                             \"\\nAnd ... I really don't think you understand.  I came here and my idea was bad right away.  What kind of community goes \"\"you have bad ideas\"\" go away, instead of helping rewrite them.   \"   \n",
       "\n",
       "        toxic  \n",
       "159287      0  \n",
       "159288      0  \n",
       "159289      0  \n",
       "159290      0  \n",
       "159291      0  "
      ]
     },
     "execution_count": 8,
     "metadata": {},
     "output_type": "execute_result"
    }
   ],
   "source": [
    "data.tail(5)"
   ]
  },
  {
   "cell_type": "code",
   "execution_count": 9,
   "metadata": {},
   "outputs": [
    {
     "name": "stdout",
     "output_type": "stream",
     "text": [
      "<class 'pandas.core.frame.DataFrame'>\n",
      "RangeIndex: 159292 entries, 0 to 159291\n",
      "Data columns (total 3 columns):\n",
      " #   Column      Non-Null Count   Dtype \n",
      "---  ------      --------------   ----- \n",
      " 0   Unnamed: 0  159292 non-null  int64 \n",
      " 1   text        159292 non-null  object\n",
      " 2   toxic       159292 non-null  int64 \n",
      "dtypes: int64(2), object(1)\n",
      "memory usage: 3.6+ MB\n"
     ]
    }
   ],
   "source": [
    "data.info()"
   ]
  },
  {
   "cell_type": "code",
   "execution_count": 10,
   "metadata": {},
   "outputs": [
    {
     "data": {
      "image/png": "[encoded data removed]",
      "text/plain": [
       "<Figure size 640x480 with 1 Axes>"
      ]
     },
     "metadata": {},
     "output_type": "display_data"
    }
   ],
   "source": [
    "sns.countplot(data=data,x='toxic')\n",
    "plt.title('Количество токсичных сообщений')\n",
    "plt.ylabel('Количество')\n",
    "plt.show()"
   ]
  },
  {
   "cell_type": "code",
   "execution_count": 11,
   "metadata": {},
   "outputs": [
    {
     "data": {
      "text/plain": [
       "0    89.838787\n",
       "1    10.161213\n",
       "Name: toxic, dtype: float64"
      ]
     },
     "execution_count": 11,
     "metadata": {},
     "output_type": "execute_result"
    }
   ],
   "source": [
    "data['toxic'].value_counts(normalize=True)*100"
   ]
  },
  {
   "cell_type": "markdown",
   "metadata": {},
   "source": [
    "Количество строк 159292, пропуски отсутствуют, выражен дисбаланс классов"
   ]
  },
  {
   "cell_type": "markdown",
   "metadata": {},
   "source": [
    "## Обучение"
   ]
  },
  {
   "cell_type": "code",
   "execution_count": 56,
   "metadata": {},
   "outputs": [],
   "source": [
    "def clear_text(text):\n",
    "    text=str(text)\n",
    "    text = re.sub(r'https?:\\/\\/(?:www\\.)?[^\\s\\/$.?#]+\\.[^\\s\\/$.?#]+(?:\\/[^\\s]*)?|\\s*\\([Tt]alk\\).*$|[^a-zA-Z]', \n",
    "                  ' ', \n",
    "                  text)\n",
    "    return text"
   ]
  },
  {
   "cell_type": "code",
   "execution_count": 57,
   "metadata": {},
   "outputs": [],
   "source": [
    "data['text_lem'] = data['text'].apply(clear_text)\n",
    "data['text_lem'] = data['text_lem'].str.lower()"
   ]
  },
  {
   "cell_type": "markdown",
   "metadata": {},
   "source": [
    "#### Лемматизация"
   ]
  },
  {
   "cell_type": "code",
   "execution_count": 11,
   "metadata": {},
   "outputs": [
    {
     "name": "stderr",
     "output_type": "stream",
     "text": [
      "[nltk_data] Downloading package wordnet to\n",
      "[nltk_data]     C:\\Users\\baira\\AppData\\Roaming\\nltk_data...\n",
      "[nltk_data]   Package wordnet is already up-to-date!\n"
     ]
    }
   ],
   "source": [
    "nltk.download(\"wordnet\")\n",
    "wnl = WordNetLemmatizer()"
   ]
  },
  {
   "cell_type": "code",
   "execution_count": 12,
   "metadata": {},
   "outputs": [
    {
     "name": "stderr",
     "output_type": "stream",
     "text": [
      "[nltk_data] Downloading package punkt to\n",
      "[nltk_data]     C:\\Users\\baira\\AppData\\Roaming\\nltk_data...\n",
      "[nltk_data]   Package punkt is already up-to-date!\n"
     ]
    },
    {
     "data": {
      "text/plain": [
       "True"
      ]
     },
     "execution_count": 12,
     "metadata": {},
     "output_type": "execute_result"
    }
   ],
   "source": [
    "nltk.download('punkt')"
   ]
  },
  {
   "cell_type": "code",
   "execution_count": 13,
   "metadata": {},
   "outputs": [
    {
     "name": "stderr",
     "output_type": "stream",
     "text": [
      "[nltk_data] Downloading package averaged_perceptron_tagger to\n",
      "[nltk_data]     C:\\Users\\baira\\AppData\\Roaming\\nltk_data...\n",
      "[nltk_data]   Package averaged_perceptron_tagger is already up-to-\n",
      "[nltk_data]       date!\n"
     ]
    },
    {
     "data": {
      "text/plain": [
       "True"
      ]
     },
     "execution_count": 13,
     "metadata": {},
     "output_type": "execute_result"
    }
   ],
   "source": [
    "nltk.download('averaged_perceptron_tagger')"
   ]
  },
  {
   "cell_type": "code",
   "execution_count": 58,
   "metadata": {},
   "outputs": [],
   "source": [
    "def get_wordnet_pos(word):\n",
    "    \"\"\"Map POS tag to first character lemmatize() accepts\"\"\"\n",
    "    tag = nltk.pos_tag([word])[0][1][0].upper()\n",
    "    tag_dict = {\"J\": wordnet.ADJ,\n",
    "                \"N\": wordnet.NOUN,\n",
    "                \"V\": wordnet.VERB,\n",
    "                \"R\": wordnet.ADV}\n",
    "\n",
    "    return tag_dict.get(tag, wordnet.NOUN)"
   ]
  },
  {
   "cell_type": "code",
   "execution_count": 59,
   "metadata": {},
   "outputs": [],
   "source": [
    "def le(text):\n",
    "    doc = []\n",
    "    token = nltk.word_tokenize(text)\n",
    "    for word in token:\n",
    "        doc.append(wnl.lemmatize(word,get_wordnet_pos(word)))\n",
    "    return ' '.join(doc)"
   ]
  },
  {
   "cell_type": "code",
   "execution_count": 60,
   "metadata": {},
   "outputs": [
    {
     "data": {
      "text/plain": [
       "0    0.898388\n",
       "1    0.101612\n",
       "Name: toxic, dtype: float64"
      ]
     },
     "execution_count": 60,
     "metadata": {},
     "output_type": "execute_result"
    }
   ],
   "source": [
    "data['toxic'].value_counts(normalize=True)"
   ]
  },
  {
   "cell_type": "code",
   "execution_count": 62,
   "metadata": {},
   "outputs": [
    {
     "data": {
      "text/plain": [
       "79646.0"
      ]
     },
     "execution_count": 62,
     "metadata": {},
     "output_type": "execute_result"
    }
   ],
   "source": [
    "data.shape[0]/2"
   ]
  },
  {
   "cell_type": "code",
   "execution_count": 63,
   "metadata": {},
   "outputs": [],
   "source": [
    "data_balance = data.sample(79646)"
   ]
  },
  {
   "cell_type": "code",
   "execution_count": 64,
   "metadata": {},
   "outputs": [
    {
     "data": {
      "application/vnd.jupyter.widget-view+json": {
       "model_id": "71ee46fd876e43798ed82bb7e1da29ca",
       "version_major": 2,
       "version_minor": 0
      },
      "text/plain": [
       "  0%|          | 0/79646 [00:00<?, ?it/s]"
      ]
     },
     "metadata": {},
     "output_type": "display_data"
    }
   ],
   "source": [
    "data_balance['lemma'] = Parallel(n_jobs=-1,prefer=\"threads\")(delayed(le)(t) for t in notebook.tqdm(data_balance['text_lem']))"
   ]
  },
  {
   "cell_type": "code",
   "execution_count": 65,
   "metadata": {
    "scrolled": true
   },
   "outputs": [
    {
     "data": {
      "text/html": [
       "<div>\n",
       "<style scoped>\n",
       "    .dataframe tbody tr th:only-of-type {\n",
       "        vertical-align: middle;\n",
       "    }\n",
       "\n",
       "    .dataframe tbody tr th {\n",
       "        vertical-align: top;\n",
       "    }\n",
       "\n",
       "    .dataframe thead th {\n",
       "        text-align: right;\n",
       "    }\n",
       "</style>\n",
       "<table border=\"1\" class=\"dataframe\">\n",
       "  <thead>\n",
       "    <tr style=\"text-align: right;\">\n",
       "      <th></th>\n",
       "      <th>Unnamed: 0</th>\n",
       "      <th>text</th>\n",
       "      <th>toxic</th>\n",
       "      <th>text_lem</th>\n",
       "    </tr>\n",
       "  </thead>\n",
       "  <tbody>\n",
       "    <tr>\n",
       "      <th>0</th>\n",
       "      <td>0</td>\n",
       "      <td>Explanation\\nWhy the edits made under my username Hardcore Metallica Fan were reverted? They weren't vandalisms, just closure on some GAs after I voted at New York Dolls FAC. And please don't remove the template from the talk page since I'm retired now.89.205.38.27</td>\n",
       "      <td>0</td>\n",
       "      <td>explanation why the edits made under my username hardcore metallica fan were reverted  they weren t vandalisms  just closure on some gas after i voted at new york dolls fac  and please don t remove the template from the talk page since i m retired now</td>\n",
       "    </tr>\n",
       "    <tr>\n",
       "      <th>1</th>\n",
       "      <td>1</td>\n",
       "      <td>D'aww! He matches this background colour I'm seemingly stuck with. Thanks.  (talk) 21:51, January 11, 2016 (UTC)</td>\n",
       "      <td>0</td>\n",
       "      <td>d aww  he matches this background colour i m seemingly stuck with  thanks</td>\n",
       "    </tr>\n",
       "    <tr>\n",
       "      <th>2</th>\n",
       "      <td>2</td>\n",
       "      <td>Hey man, I'm really not trying to edit war. It's just that this guy is constantly removing relevant information and talking to me through edits instead of my talk page. He seems to care more about the formatting than the actual info.</td>\n",
       "      <td>0</td>\n",
       "      <td>hey man  i m really not trying to edit war  it s just that this guy is constantly removing relevant information and talking to me through edits instead of my talk page  he seems to care more about the formatting than the actual info</td>\n",
       "    </tr>\n",
       "    <tr>\n",
       "      <th>3</th>\n",
       "      <td>3</td>\n",
       "      <td>\"\\nMore\\nI can't make any real suggestions on improvement - I wondered if the section statistics should be later on, or a subsection of \"\"types of accidents\"\"  -I think the references may need tidying so that they are all in the exact same format ie date format etc. I can do that later on, if no-one else does first - if you have any preferences for formatting style on references or want to do it yourself please let me know.\\n\\nThere appears to be a backlog on articles for review so I guess there may be a delay until a reviewer turns up. It's listed in the relevant form eg Wikipedia:Good_article_nominations#Transport  \"</td>\n",
       "      <td>0</td>\n",
       "      <td>more i can t make any real suggestions on improvement   i wondered if the section statistics should be later on  or a subsection of   types of accidents     i think the references may need tidying so that they are all in the exact same format ie date format etc  i can do that later on  if no one else does first   if you have any preferences for formatting style on references or want to do it yourself please let me know   there appears to be a backlog on articles for review so i guess there may be a delay until a reviewer turns up  it s listed in the relevant form eg wikipedia good article nominations transport</td>\n",
       "    </tr>\n",
       "    <tr>\n",
       "      <th>4</th>\n",
       "      <td>4</td>\n",
       "      <td>You, sir, are my hero. Any chance you remember what page that's on?</td>\n",
       "      <td>0</td>\n",
       "      <td>you  sir  are my hero  any chance you remember what page that s on</td>\n",
       "    </tr>\n",
       "  </tbody>\n",
       "</table>\n",
       "</div>"
      ],
      "text/plain": [
       "   Unnamed: 0  \\\n",
       "0           0   \n",
       "1           1   \n",
       "2           2   \n",
       "3           3   \n",
       "4           4   \n",
       "\n",
       "                                                                                                                                                                                                                                                                                                                                                                                                                                                                                                                                                                                                                                                 text  \\\n",
       "0                                                                                                                                                                                                                                                                                                                                                                           Explanation\\nWhy the edits made under my username Hardcore Metallica Fan were reverted? They weren't vandalisms, just closure on some GAs after I voted at New York Dolls FAC. And please don't remove the template from the talk page since I'm retired now.89.205.38.27   \n",
       "1                                                                                                                                                                                                                                                                                                                                                                                                                                                                                                                                    D'aww! He matches this background colour I'm seemingly stuck with. Thanks.  (talk) 21:51, January 11, 2016 (UTC)   \n",
       "2                                                                                                                                                                                                                                                                                                                                                                                                           Hey man, I'm really not trying to edit war. It's just that this guy is constantly removing relevant information and talking to me through edits instead of my talk page. He seems to care more about the formatting than the actual info.   \n",
       "3  \"\\nMore\\nI can't make any real suggestions on improvement - I wondered if the section statistics should be later on, or a subsection of \"\"types of accidents\"\"  -I think the references may need tidying so that they are all in the exact same format ie date format etc. I can do that later on, if no-one else does first - if you have any preferences for formatting style on references or want to do it yourself please let me know.\\n\\nThere appears to be a backlog on articles for review so I guess there may be a delay until a reviewer turns up. It's listed in the relevant form eg Wikipedia:Good_article_nominations#Transport  \"   \n",
       "4                                                                                                                                                                                                                                                                                                                                                                                                                                                                                                                                                                                 You, sir, are my hero. Any chance you remember what page that's on?   \n",
       "\n",
       "   toxic  \\\n",
       "0      0   \n",
       "1      0   \n",
       "2      0   \n",
       "3      0   \n",
       "4      0   \n",
       "\n",
       "                                                                                                                                                                                                                                                                                                                                                                                                                                                                                                                                                                                                                                         text_lem  \n",
       "0                                                                                                                                                                                                                                                                                                                                                                        explanation why the edits made under my username hardcore metallica fan were reverted  they weren t vandalisms  just closure on some gas after i voted at new york dolls fac  and please don t remove the template from the talk page since i m retired now               \n",
       "1                                                                                                                                                                                                                                                                                                                                                                                                                                                                                                                                                                     d aww  he matches this background colour i m seemingly stuck with  thanks    \n",
       "2                                                                                                                                                                                                                                                                                                                                                                                                       hey man  i m really not trying to edit war  it s just that this guy is constantly removing relevant information and talking to me through edits instead of my talk page  he seems to care more about the formatting than the actual info   \n",
       "3    more i can t make any real suggestions on improvement   i wondered if the section statistics should be later on  or a subsection of   types of accidents     i think the references may need tidying so that they are all in the exact same format ie date format etc  i can do that later on  if no one else does first   if you have any preferences for formatting style on references or want to do it yourself please let me know   there appears to be a backlog on articles for review so i guess there may be a delay until a reviewer turns up  it s listed in the relevant form eg wikipedia good article nominations transport     \n",
       "4                                                                                                                                                                                                                                                                                                                                                                                                                                                                                                                                                                             you  sir  are my hero  any chance you remember what page that s on   "
      ]
     },
     "execution_count": 65,
     "metadata": {},
     "output_type": "execute_result"
    }
   ],
   "source": [
    "data.head(5)"
   ]
  },
  {
   "cell_type": "code",
   "execution_count": null,
   "metadata": {},
   "outputs": [],
   "source": [
    "# data_balance.to_csv(\"data_b.csv\", index=False) "
   ]
  },
  {
   "cell_type": "code",
   "execution_count": 30,
   "metadata": {},
   "outputs": [
    {
     "data": {
      "text/plain": [
       "(159292, 4)"
      ]
     },
     "execution_count": 30,
     "metadata": {},
     "output_type": "execute_result"
    }
   ],
   "source": [
    "data.shape"
   ]
  },
  {
   "cell_type": "code",
   "execution_count": 31,
   "metadata": {},
   "outputs": [
    {
     "data": {
      "text/plain": [
       "Unnamed: 0    0\n",
       "text          0\n",
       "toxic         0\n",
       "text_lem      0\n",
       "dtype: int64"
      ]
     },
     "execution_count": 31,
     "metadata": {},
     "output_type": "execute_result"
    }
   ],
   "source": [
    "data.isna().sum()"
   ]
  },
  {
   "cell_type": "markdown",
   "metadata": {},
   "source": [
    "### Векторизация"
   ]
  },
  {
   "cell_type": "code",
   "execution_count": 32,
   "metadata": {},
   "outputs": [
    {
     "name": "stderr",
     "output_type": "stream",
     "text": [
      "[nltk_data] Downloading package stopwords to\n",
      "[nltk_data]     C:\\Users\\baira\\AppData\\Roaming\\nltk_data...\n",
      "[nltk_data]   Package stopwords is already up-to-date!\n"
     ]
    }
   ],
   "source": [
    "nltk.download('stopwords')\n",
    "stop_words = set(stopwords.words('english')) \n",
    "count_tf_idf = TfidfVectorizer(stop_words=stop_words) "
   ]
  },
  {
   "cell_type": "code",
   "execution_count": 28,
   "metadata": {},
   "outputs": [
    {
     "data": {
      "text/plain": [
       "0    71473\n",
       "1     8173\n",
       "Name: toxic, dtype: int64"
      ]
     },
     "execution_count": 28,
     "metadata": {},
     "output_type": "execute_result"
    }
   ],
   "source": [
    "data_balance['toxic'].value_counts()"
   ]
  },
  {
   "cell_type": "code",
   "execution_count": 29,
   "metadata": {},
   "outputs": [],
   "source": [
    "X = data_balance['lemma']\n",
    "y = data_balance['toxic']\n",
    "\n",
    "X_train, X_test, y_train, y_test = train_test_split(X, y, \n",
    "  test_size=0.25, \n",
    "  random_state=42,\n",
    "  stratify=y)"
   ]
  },
  {
   "cell_type": "code",
   "execution_count": 30,
   "metadata": {},
   "outputs": [
    {
     "data": {
      "text/plain": [
       "[(59734,), (19912,), (59734,), (19912,)]"
      ]
     },
     "execution_count": 30,
     "metadata": {},
     "output_type": "execute_result"
    }
   ],
   "source": [
    "[i.shape for i in [X_train, X_test, y_train, y_test]]"
   ]
  },
  {
   "cell_type": "markdown",
   "metadata": {},
   "source": [
    "### Pipeline"
   ]
  },
  {
   "cell_type": "code",
   "execution_count": 72,
   "metadata": {},
   "outputs": [
    {
     "name": "stdout",
     "output_type": "stream",
     "text": [
      "Лучшая модель и её параметры:\n",
      "\n",
      " Pipeline(steps=[('vect',\n",
      "                 TfidfVectorizer(ngram_range=(1, 2),\n",
      "                                 stop_words=['haven', 'now', 'up', 'how', 'are',\n",
      "                                             'she', 'hers', 'me', 'very',\n",
      "                                             'most', 'there', 'doesn',\n",
      "                                             \"they're\", 'over', 'below', 'can',\n",
      "                                             'itself', \"i'd\", 'other', 'did',\n",
      "                                             \"mightn't\", 'off', 're', 'few',\n",
      "                                             'at', \"we'd\", 'if', \"haven't\",\n",
      "                                             'll', 'wouldn', ...],\n",
      "                                 sublinear_tf=True)),\n",
      "                ('models',\n",
      "                 LogisticRegression(C=14, class_weight='balanced',\n",
      "                                    max_iter=1000, random_state=42,\n",
      "                                    solver='saga'))])\n",
      "Метрика лучшей модели на тренировочной выборке: 0.7584338399202115\n"
     ]
    },
    {
     "name": "stderr",
     "output_type": "stream",
     "text": [
      "C:\\Users\\baira\\anaconda3\\envs\\practicum\\lib\\site-packages\\sklearn\\linear_model\\_sag.py:348: ConvergenceWarning: The max_iter was reached which means the coef_ did not converge\n",
      "  warnings.warn(\n"
     ]
    }
   ],
   "source": [
    "pipe_final = Pipeline([\n",
    "    ('vect',   TfidfVectorizer(stop_words=list(stop_words),sublinear_tf=True,ngram_range=(1, 2))),\n",
    "    # ('undersample', RandomUnderSampler(random_state=42)),\n",
    "    ('models', LogisticRegression(random_state=RANDOM_STATE))\n",
    "])\n",
    "param_grid=[\n",
    "    {\n",
    "        'models': [LogisticRegression(random_state=RANDOM_STATE,\n",
    "                                      class_weight='balanced',\n",
    "                                      solver='saga',max_iter=1000)],\n",
    "        'models__C':[0.1, 1, 10, 14],\n",
    "        'models__penalty': ['l1', 'l2']\n",
    "    },\n",
    "    {    \n",
    "        'models': [KNeighborsClassifier()],\n",
    "        'models__n_neighbors': [3, 5, 9,], \n",
    "        'models__weights': ['uniform', 'distance'],  \n",
    "        'models__metric': ['euclidean', 'minkowski'],  \n",
    "    },\n",
    "    {\n",
    "        'models':[RandomForestClassifier(random_state=RANDOM_STATE\n",
    "                                         , class_weight='balanced'\n",
    "                                        )],\n",
    "        'models__n_estimators':[500],\n",
    "        'models__max_depth': [5,20],\n",
    "        'models__min_samples_split': [2, 5]\n",
    "    }\n",
    "#     {\n",
    "#         'models':[CatBoostClassifier(verbose=False,loss_function='Logloss'\n",
    "#                                      , auto_class_weights='Balanced'\n",
    "#                                     )],\n",
    "#         'models__iterations': [50],\n",
    "#         'models__learning_rate': [0.01, 0.1],\n",
    "#         'models__depth': [4],\n",
    "# #         'models__l2_leaf_reg': [1,3]\n",
    "#    }\n",
    "]\n",
    "\n",
    "grid_search = HalvingGridSearchCV(\n",
    "    pipe_final,\n",
    "    param_grid,\n",
    "    cv=StratifiedKFold(n_splits=2, random_state=None, shuffle=False),\n",
    "    scoring='f1',\n",
    "    n_jobs=-1,\n",
    "    error_score='raise'\n",
    ")\n",
    "\n",
    "grid_search.fit(X_train,y_train)\n",
    "\n",
    "print('Лучшая модель и её параметры:\\n\\n', grid_search.best_estimator_)\n",
    "print ('Метрика лучшей модели на тренировочной выборке:', grid_search.best_score_)"
   ]
  },
  {
   "cell_type": "code",
   "execution_count": 101,
   "metadata": {},
   "outputs": [
    {
     "data": {
      "text/html": [
       "<div>\n",
       "<style scoped>\n",
       "    .dataframe tbody tr th:only-of-type {\n",
       "        vertical-align: middle;\n",
       "    }\n",
       "\n",
       "    .dataframe tbody tr th {\n",
       "        vertical-align: top;\n",
       "    }\n",
       "\n",
       "    .dataframe thead th {\n",
       "        text-align: right;\n",
       "    }\n",
       "</style>\n",
       "<table border=\"1\" class=\"dataframe\">\n",
       "  <thead>\n",
       "    <tr style=\"text-align: right;\">\n",
       "      <th></th>\n",
       "      <th>iter</th>\n",
       "      <th>n_resources</th>\n",
       "      <th>mean_fit_time</th>\n",
       "      <th>std_fit_time</th>\n",
       "      <th>mean_score_time</th>\n",
       "      <th>std_score_time</th>\n",
       "      <th>param_models</th>\n",
       "      <th>param_models__C</th>\n",
       "      <th>param_models__penalty</th>\n",
       "      <th>param_models__metric</th>\n",
       "      <th>...</th>\n",
       "      <th>params</th>\n",
       "      <th>split0_test_score</th>\n",
       "      <th>split1_test_score</th>\n",
       "      <th>mean_test_score</th>\n",
       "      <th>std_test_score</th>\n",
       "      <th>rank_test_score</th>\n",
       "      <th>split0_train_score</th>\n",
       "      <th>split1_train_score</th>\n",
       "      <th>mean_train_score</th>\n",
       "      <th>std_train_score</th>\n",
       "    </tr>\n",
       "  </thead>\n",
       "  <tbody>\n",
       "    <tr>\n",
       "      <th>34</th>\n",
       "      <td>2</td>\n",
       "      <td>59733</td>\n",
       "      <td>99.189596</td>\n",
       "      <td>71.118825</td>\n",
       "      <td>6.163101</td>\n",
       "      <td>0.586036</td>\n",
       "      <td>LogisticRegression(class_weight='balanced', max_iter=1000, random_state=42,\\n                   solver='saga')</td>\n",
       "      <td>14.0</td>\n",
       "      <td>l2</td>\n",
       "      <td>NaN</td>\n",
       "      <td>...</td>\n",
       "      <td>{'models': LogisticRegression(class_weight='balanced', max_iter=1000, random_state=42,\n",
       "                   solver='saga'), 'models__C': 14, 'models__penalty': 'l2'}</td>\n",
       "      <td>0.757262</td>\n",
       "      <td>0.759606</td>\n",
       "      <td>0.758434</td>\n",
       "      <td>0.001172</td>\n",
       "      <td>1</td>\n",
       "      <td>0.997234</td>\n",
       "      <td>0.995936</td>\n",
       "      <td>0.996585</td>\n",
       "      <td>0.000649</td>\n",
       "    </tr>\n",
       "    <tr>\n",
       "      <th>33</th>\n",
       "      <td>2</td>\n",
       "      <td>59733</td>\n",
       "      <td>96.803169</td>\n",
       "      <td>72.479025</td>\n",
       "      <td>6.492841</td>\n",
       "      <td>0.442850</td>\n",
       "      <td>LogisticRegression(class_weight='balanced', max_iter=1000, random_state=42,\\n                   solver='saga')</td>\n",
       "      <td>10.0</td>\n",
       "      <td>l2</td>\n",
       "      <td>NaN</td>\n",
       "      <td>...</td>\n",
       "      <td>{'models': LogisticRegression(class_weight='balanced', max_iter=1000, random_state=42,\n",
       "                   solver='saga'), 'models__C': 10, 'models__penalty': 'l2'}</td>\n",
       "      <td>0.756963</td>\n",
       "      <td>0.759306</td>\n",
       "      <td>0.758134</td>\n",
       "      <td>0.001172</td>\n",
       "      <td>2</td>\n",
       "      <td>0.996261</td>\n",
       "      <td>0.993513</td>\n",
       "      <td>0.994887</td>\n",
       "      <td>0.001374</td>\n",
       "    </tr>\n",
       "    <tr>\n",
       "      <th>32</th>\n",
       "      <td>2</td>\n",
       "      <td>59733</td>\n",
       "      <td>171.179939</td>\n",
       "      <td>1.340248</td>\n",
       "      <td>5.637415</td>\n",
       "      <td>0.254296</td>\n",
       "      <td>LogisticRegression(class_weight='balanced', max_iter=1000, random_state=42,\\n                   solver='saga')</td>\n",
       "      <td>1.0</td>\n",
       "      <td>l2</td>\n",
       "      <td>NaN</td>\n",
       "      <td>...</td>\n",
       "      <td>{'models': LogisticRegression(class_weight='balanced', max_iter=1000, random_state=42,\n",
       "                   solver='saga'), 'models__C': 1, 'models__penalty': 'l2'}</td>\n",
       "      <td>0.729643</td>\n",
       "      <td>0.718102</td>\n",
       "      <td>0.723872</td>\n",
       "      <td>0.005770</td>\n",
       "      <td>3</td>\n",
       "      <td>0.941797</td>\n",
       "      <td>0.925364</td>\n",
       "      <td>0.933581</td>\n",
       "      <td>0.008217</td>\n",
       "    </tr>\n",
       "  </tbody>\n",
       "</table>\n",
       "<p>3 rows × 25 columns</p>\n",
       "</div>"
      ],
      "text/plain": [
       "    iter  n_resources  mean_fit_time  std_fit_time  mean_score_time  \\\n",
       "34     2        59733      99.189596     71.118825         6.163101   \n",
       "33     2        59733      96.803169     72.479025         6.492841   \n",
       "32     2        59733     171.179939      1.340248         5.637415   \n",
       "\n",
       "    std_score_time  \\\n",
       "34        0.586036   \n",
       "33        0.442850   \n",
       "32        0.254296   \n",
       "\n",
       "                                                                                                      param_models  \\\n",
       "34  LogisticRegression(class_weight='balanced', max_iter=1000, random_state=42,\\n                   solver='saga')   \n",
       "33  LogisticRegression(class_weight='balanced', max_iter=1000, random_state=42,\\n                   solver='saga')   \n",
       "32  LogisticRegression(class_weight='balanced', max_iter=1000, random_state=42,\\n                   solver='saga')   \n",
       "\n",
       "    param_models__C param_models__penalty param_models__metric  ...  \\\n",
       "34             14.0                    l2                  NaN  ...   \n",
       "33             10.0                    l2                  NaN  ...   \n",
       "32              1.0                    l2                  NaN  ...   \n",
       "\n",
       "                                                                                                                                                                 params  \\\n",
       "34  {'models': LogisticRegression(class_weight='balanced', max_iter=1000, random_state=42,\n",
       "                   solver='saga'), 'models__C': 14, 'models__penalty': 'l2'}   \n",
       "33  {'models': LogisticRegression(class_weight='balanced', max_iter=1000, random_state=42,\n",
       "                   solver='saga'), 'models__C': 10, 'models__penalty': 'l2'}   \n",
       "32   {'models': LogisticRegression(class_weight='balanced', max_iter=1000, random_state=42,\n",
       "                   solver='saga'), 'models__C': 1, 'models__penalty': 'l2'}   \n",
       "\n",
       "   split0_test_score  split1_test_score  mean_test_score  std_test_score  \\\n",
       "34          0.757262           0.759606         0.758434        0.001172   \n",
       "33          0.756963           0.759306         0.758134        0.001172   \n",
       "32          0.729643           0.718102         0.723872        0.005770   \n",
       "\n",
       "   rank_test_score  split0_train_score  split1_train_score  mean_train_score  \\\n",
       "34               1            0.997234            0.995936          0.996585   \n",
       "33               2            0.996261            0.993513          0.994887   \n",
       "32               3            0.941797            0.925364          0.933581   \n",
       "\n",
       "    std_train_score  \n",
       "34         0.000649  \n",
       "33         0.001374  \n",
       "32         0.008217  \n",
       "\n",
       "[3 rows x 25 columns]"
      ]
     },
     "execution_count": 101,
     "metadata": {},
     "output_type": "execute_result"
    }
   ],
   "source": [
    "pd.DataFrame(grid_search.cv_results_).sort_values(by='rank_test_score',ascending=True).head(3)"
   ]
  },
  {
   "cell_type": "code",
   "execution_count": 81,
   "metadata": {},
   "outputs": [
    {
     "name": "stdout",
     "output_type": "stream",
     "text": [
      "0.7720156555772995\n"
     ]
    }
   ],
   "source": [
    "y_pred = grid_search.predict(X_test)\n",
    "print(f1_score(y_test,y_pred))"
   ]
  },
  {
   "cell_type": "code",
   "execution_count": 82,
   "metadata": {},
   "outputs": [
    {
     "data": {
      "image/png": "[encoded data removed]",
      "text/plain": [
       "<Figure size 640x480 with 2 Axes>"
      ]
     },
     "metadata": {},
     "output_type": "display_data"
    }
   ],
   "source": [
    "cm = confusion_matrix(y_test,y_pred)\n",
    "sns.heatmap(cm, annot=True, fmt='d', cmap='Blues_r')\n",
    "plt.ylabel('True label')\n",
    "plt.xlabel('Predicted'); "
   ]
  },
  {
   "cell_type": "markdown",
   "metadata": {},
   "source": [
    "#### Вывод\n",
    "Наилучшей результат покалаза модель\n",
    "- LogisticRegression(C=14,penalty='l2', class_weight='balanced',\n",
    "                                    max_iter=1000, random_state=42,\n",
    "                                    solver='saga')\n",
    "- Метрика f1 на кросс валидации 0.758\n",
    "- Метрика f1 на тестовой 0.77\n",
    "- Достигнуть метрики не удалось, попробуем модель на Bert"
   ]
  },
  {
   "cell_type": "markdown",
   "metadata": {},
   "source": [
    "### Создание эмбединга с помощью Bert"
   ]
  },
  {
   "cell_type": "code",
   "execution_count": 31,
   "metadata": {},
   "outputs": [],
   "source": [
    "df = pd.read_csv('data_b.csv')"
   ]
  },
  {
   "cell_type": "code",
   "execution_count": 25,
   "metadata": {},
   "outputs": [
    {
     "data": {
      "text/html": [
       "<div>\n",
       "<style scoped>\n",
       "    .dataframe tbody tr th:only-of-type {\n",
       "        vertical-align: middle;\n",
       "    }\n",
       "\n",
       "    .dataframe tbody tr th {\n",
       "        vertical-align: top;\n",
       "    }\n",
       "\n",
       "    .dataframe thead th {\n",
       "        text-align: right;\n",
       "    }\n",
       "</style>\n",
       "<table border=\"1\" class=\"dataframe\">\n",
       "  <thead>\n",
       "    <tr style=\"text-align: right;\">\n",
       "      <th></th>\n",
       "      <th>Unnamed: 0</th>\n",
       "      <th>text</th>\n",
       "      <th>toxic</th>\n",
       "      <th>text_lem</th>\n",
       "      <th>lemma</th>\n",
       "    </tr>\n",
       "  </thead>\n",
       "  <tbody>\n",
       "    <tr>\n",
       "      <th>0</th>\n",
       "      <td>97584</td>\n",
       "      <td>\"\\nI don't think that's necessary since those two buttons are in separate headings, which is clear enough for most users. Anyway, I've added some visual cues if the user hasn't filled in the corresponding textbox.  [talk... contribs...] \"</td>\n",
       "      <td>0</td>\n",
       "      <td>i don t think that s necessary since those two buttons are in separate headings  which is clear enough for most users  anyway  i ve added some visual cues if the user hasn t filled in the corresponding textbox    talk    contribs</td>\n",
       "      <td>i don t think that s necessary since those two button be in separate heading which be clear enough for most user anyway i ve add some visual cue if the user hasn t fill in the correspond textbox talk contribs</td>\n",
       "    </tr>\n",
       "    <tr>\n",
       "      <th>1</th>\n",
       "      <td>91969</td>\n",
       "      <td>As I have already stated on the R&amp;I; article Talk page, I am not going to make any more edits to that article for the rest of the year. When the article was unlocked on February 1, I made a lot of progress on that article and it continued until Ramdrake recovered from a health issue and started obstructing progress again, and he did it with the backing of Slrubenstein. Slrubenstein has been hanging out on that article for over 6 years. If you want to do something useful to help Wikipedia I would suggest that you review the obstructive editing behavior of Ramdrake across a number of articles and also how his buddies like Slrubenstein and Wobble work with him.</td>\n",
       "      <td>0</td>\n",
       "      <td>as i have already stated on the r i  article talk page  i am not going to make any more edits to that article for the rest of the year  when the article was unlocked on february    i made a lot of progress on that article and it continued until ramdrake recovered from a health issue and started obstructing progress again  and he did it with the backing of slrubenstein  slrubenstein has been hanging out on that article for over   years  if you want to do something useful to help wikipedia i would suggest that you review the obstructive editing behavior of ramdrake across a number of articles and also how his buddies like slrubenstein and wobble work with him</td>\n",
       "      <td>a i have already state on the r i article talk page i be not go to make any more edits to that article for the rest of the year when the article be unlocked on february i make a lot of progress on that article and it continued until ramdrake recover from a health issue and start obstruct progress again and he do it with the backing of slrubenstein slrubenstein have be hang out on that article for over year if you want to do something useful to help wikipedia i would suggest that you review the obstructive edit behavior of ramdrake across a number of article and also how his buddy like slrubenstein and wobble work with him</td>\n",
       "    </tr>\n",
       "    <tr>\n",
       "      <th>2</th>\n",
       "      <td>42460</td>\n",
       "      <td>Still, I regard this is another instance where I must ask some people not to shoot the messenger.</td>\n",
       "      <td>0</td>\n",
       "      <td>still  i regard this is another instance where i must ask some people not to shoot the messenger</td>\n",
       "      <td>still i regard this be another instance where i must ask some people not to shoot the messenger</td>\n",
       "    </tr>\n",
       "  </tbody>\n",
       "</table>\n",
       "</div>"
      ],
      "text/plain": [
       "   Unnamed: 0  \\\n",
       "0       97584   \n",
       "1       91969   \n",
       "2       42460   \n",
       "\n",
       "                                                                                                                                                                                                                                                                                                                                                                                                                                                                                                                                                                                                                                                                                         text  \\\n",
       "0                                                                                                                                                                                                                                                                                                                                                                                                                                              \"\\nI don't think that's necessary since those two buttons are in separate headings, which is clear enough for most users. Anyway, I've added some visual cues if the user hasn't filled in the corresponding textbox.  [talk... contribs...] \"   \n",
       "1  As I have already stated on the R&I; article Talk page, I am not going to make any more edits to that article for the rest of the year. When the article was unlocked on February 1, I made a lot of progress on that article and it continued until Ramdrake recovered from a health issue and started obstructing progress again, and he did it with the backing of Slrubenstein. Slrubenstein has been hanging out on that article for over 6 years. If you want to do something useful to help Wikipedia I would suggest that you review the obstructive editing behavior of Ramdrake across a number of articles and also how his buddies like Slrubenstein and Wobble work with him.   \n",
       "2                                                                                                                                                                                                                                                                                                                                                                                                                                                                                                                                                                                           Still, I regard this is another instance where I must ask some people not to shoot the messenger.   \n",
       "\n",
       "   toxic  \\\n",
       "0      0   \n",
       "1      0   \n",
       "2      0   \n",
       "\n",
       "                                                                                                                                                                                                                                                                                                                                                                                                                                                                                                                                                                                                                                                                                     text_lem  \\\n",
       "0                                                                                                                                                                                                                                                                                                                                                                                                                                                 i don t think that s necessary since those two buttons are in separate headings  which is clear enough for most users  anyway  i ve added some visual cues if the user hasn t filled in the corresponding textbox    talk    contribs         \n",
       "1  as i have already stated on the r i  article talk page  i am not going to make any more edits to that article for the rest of the year  when the article was unlocked on february    i made a lot of progress on that article and it continued until ramdrake recovered from a health issue and started obstructing progress again  and he did it with the backing of slrubenstein  slrubenstein has been hanging out on that article for over   years  if you want to do something useful to help wikipedia i would suggest that you review the obstructive editing behavior of ramdrake across a number of articles and also how his buddies like slrubenstein and wobble work with him    \n",
       "2                                                                                                                                                                                                                                                                                                                                                                                                                                                                                                                                                                                           still  i regard this is another instance where i must ask some people not to shoot the messenger    \n",
       "\n",
       "                                                                                                                                                                                                                                                                                                                                                                                                                                                                                                                                                                                                                                                   lemma  \n",
       "0                                                                                                                                                                                                                                                                                                                                                                                                                                       i don t think that s necessary since those two button be in separate heading which be clear enough for most user anyway i ve add some visual cue if the user hasn t fill in the correspond textbox talk contribs  \n",
       "1  a i have already state on the r i article talk page i be not go to make any more edits to that article for the rest of the year when the article be unlocked on february i make a lot of progress on that article and it continued until ramdrake recover from a health issue and start obstruct progress again and he do it with the backing of slrubenstein slrubenstein have be hang out on that article for over year if you want to do something useful to help wikipedia i would suggest that you review the obstructive edit behavior of ramdrake across a number of article and also how his buddy like slrubenstein and wobble work with him  \n",
       "2                                                                                                                                                                                                                                                                                                                                                                                                                                                                                                                                                        still i regard this be another instance where i must ask some people not to shoot the messenger  "
      ]
     },
     "execution_count": 25,
     "metadata": {},
     "output_type": "execute_result"
    }
   ],
   "source": [
    "df.head(3)"
   ]
  },
  {
   "cell_type": "code",
   "execution_count": 94,
   "metadata": {},
   "outputs": [
    {
     "name": "stderr",
     "output_type": "stream",
     "text": [
      "Device set to use cpu\n"
     ]
    },
    {
     "data": {
      "application/vnd.jupyter.widget-view+json": {
       "model_id": "6b4cc6c98dc749ac8f32c164fb48981b",
       "version_major": 2,
       "version_minor": 0
      },
      "text/plain": [
       "  0%|          | 0/100 [00:00<?, ?it/s]"
      ]
     },
     "metadata": {},
     "output_type": "display_data"
    }
   ],
   "source": [
    "extractor = pipeline(\n",
    "            tokenizer='google-bert/bert-base-uncased', \n",
    "            model=\"unitary/toxic-bert\",\n",
    "            task=\"feature-extraction\",\n",
    "            truncation=True,\n",
    "            padding=True,\n",
    "            framework=\"pt\",\n",
    "            device=0 if torch.cuda.is_available() else -1\n",
    "            )\n",
    "txtp = []\n",
    "\n",
    "\n",
    "for tx in  notebook.tqdm(df['text_lem']):\n",
    "    \n",
    "    ext = extractor(tx, return_tensors=\"pt\",truncation=True, padding=True)[0].numpy()[0] # это строка почему-то не работает в практикуме\n",
    "    \n",
    "    txtp.append(ext)\n"
   ]
  },
  {
   "cell_type": "markdown",
   "metadata": {},
   "source": [
    "**Эмбединги были получены через google colab и экспортированы сюда**"
   ]
  },
  {
   "cell_type": "code",
   "execution_count": 95,
   "metadata": {},
   "outputs": [],
   "source": [
    "# with open('txtp.txt', 'r') as f:\n",
    "#     txtp = [line.strip() for line in f.readlines()]\n",
    "# pp = ' '.join(txtp)\n",
    "\n",
    "# list_contents = re.findall(r'\\[(.*?)\\]', pp) \n",
    "# result = [s.split() for s in list_contents]\n",
    "\n",
    "# with open('y.txt', 'r') as f:\n",
    "#     loaded_list = [line.strip() for line in f.readlines()]\n",
    "\n",
    "# y_e = pd.Series(loaded_list).astype('int')"
   ]
  },
  {
   "cell_type": "code",
   "execution_count": 108,
   "metadata": {},
   "outputs": [],
   "source": [
    "# for i,num in enumerate(result):\n",
    "#     for j,numj in enumerate(num):\n",
    "#         result[i][j] = float(numj)"
   ]
  },
  {
   "cell_type": "code",
   "execution_count": 112,
   "metadata": {},
   "outputs": [],
   "source": [
    "X_train, X_test_1, y_train, y_test_1 = train_test_split(result, y_e, test_size=0.25, random_state=42\n",
    ")"
   ]
  },
  {
   "cell_type": "code",
   "execution_count": 114,
   "metadata": {},
   "outputs": [
    {
     "data": {
      "text/plain": [
       "[8250, 2750, 8250, 2750]"
      ]
     },
     "execution_count": 114,
     "metadata": {},
     "output_type": "execute_result"
    }
   ],
   "source": [
    "[len(i) for i in [X_train, X_test_1, y_train, y_test_1]]"
   ]
  },
  {
   "cell_type": "code",
   "execution_count": 116,
   "metadata": {},
   "outputs": [
    {
     "name": "stdout",
     "output_type": "stream",
     "text": [
      "Лучшая модель и её параметры:\n",
      "\n",
      " Pipeline(steps=[('models', KNeighborsClassifier(n_neighbors=9))])\n",
      "Метрика лучшей модели на тренировочной выборке: 0.9168613441686134\n"
     ]
    }
   ],
   "source": [
    "pipe_final = Pipeline([\n",
    "    ('models', LogisticRegression())\n",
    "])\n",
    "param_grid=[\n",
    "    {\n",
    "        'models': [LogisticRegression(random_state=RANDOM_STATE, class_weight='balanced',solver='saga',penalty='l2',C=0.5,max_iter=1000)]\n",
    "    },\n",
    "    {\n",
    "        'models':[RandomForestClassifier(random_state=RANDOM_STATE, class_weight='balanced')],\n",
    "        'models__max_depth': [None, 20],\n",
    "        'models__min_samples_split': [2, 5]\n",
    "    },   \n",
    "    {    \n",
    "        'models': [KNeighborsClassifier()],\n",
    "        'models__n_neighbors': [3, 5, 9], \n",
    "        'models__weights': ['uniform', 'distance'],  \n",
    "        'models__metric': ['euclidean', 'minkowski'],  \n",
    "    },\n",
    "    {\n",
    "        'models':[CatBoostClassifier(verbose=100,loss_function='Logloss',auto_class_weights='Balanced',task_type=\"GPU\", devices='0')],\n",
    "        'models__iterations': [50],\n",
    "        'models__learning_rate': [0.03, 0.1],\n",
    "        'models__depth': [3,6],\n",
    "        'models__l2_leaf_reg': [3]\n",
    "   }\n",
    "]\n",
    "\n",
    "bert_s = RandomizedSearchCV(\n",
    "    pipe_final,\n",
    "    param_grid,\n",
    "    cv=StratifiedKFold(n_splits=2, random_state=None, shuffle=False),\n",
    "    scoring='f1',\n",
    "    n_jobs=3,\n",
    "    error_score='raise'\n",
    ")\n",
    "\n",
    "bert_s.fit(X_train,y_train)\n",
    "\n",
    "print('Лучшая модель и её параметры:\\n\\n', bert_s.best_estimator_)\n",
    "print ('Метрика лучшей модели на тренировочной выборке:', bert_s.best_score_)"
   ]
  },
  {
   "cell_type": "code",
   "execution_count": 118,
   "metadata": {},
   "outputs": [
    {
     "data": {
      "text/html": [
       "<div>\n",
       "<style scoped>\n",
       "    .dataframe tbody tr th:only-of-type {\n",
       "        vertical-align: middle;\n",
       "    }\n",
       "\n",
       "    .dataframe tbody tr th {\n",
       "        vertical-align: top;\n",
       "    }\n",
       "\n",
       "    .dataframe thead th {\n",
       "        text-align: right;\n",
       "    }\n",
       "</style>\n",
       "<table border=\"1\" class=\"dataframe\">\n",
       "  <thead>\n",
       "    <tr style=\"text-align: right;\">\n",
       "      <th></th>\n",
       "      <th>mean_fit_time</th>\n",
       "      <th>std_fit_time</th>\n",
       "      <th>mean_score_time</th>\n",
       "      <th>std_score_time</th>\n",
       "      <th>param_models__weights</th>\n",
       "      <th>param_models__n_neighbors</th>\n",
       "      <th>param_models__metric</th>\n",
       "      <th>param_models</th>\n",
       "      <th>param_models__learning_rate</th>\n",
       "      <th>param_models__l2_leaf_reg</th>\n",
       "      <th>param_models__iterations</th>\n",
       "      <th>param_models__depth</th>\n",
       "      <th>param_models__min_samples_split</th>\n",
       "      <th>param_models__max_depth</th>\n",
       "      <th>params</th>\n",
       "      <th>split0_test_score</th>\n",
       "      <th>split1_test_score</th>\n",
       "      <th>mean_test_score</th>\n",
       "      <th>std_test_score</th>\n",
       "      <th>rank_test_score</th>\n",
       "    </tr>\n",
       "  </thead>\n",
       "  <tbody>\n",
       "    <tr>\n",
       "      <th>8</th>\n",
       "      <td>0.496960</td>\n",
       "      <td>0.017099</td>\n",
       "      <td>3.325474</td>\n",
       "      <td>0.074095</td>\n",
       "      <td>uniform</td>\n",
       "      <td>9.0</td>\n",
       "      <td>minkowski</td>\n",
       "      <td>KNeighborsClassifier()</td>\n",
       "      <td>NaN</td>\n",
       "      <td>NaN</td>\n",
       "      <td>NaN</td>\n",
       "      <td>NaN</td>\n",
       "      <td>NaN</td>\n",
       "      <td>NaN</td>\n",
       "      <td>{'models__weights': 'uniform', 'models__n_neighbors': 9, 'models__metric': 'minkowski', 'models': KNeighborsClassifier()}</td>\n",
       "      <td>0.911582</td>\n",
       "      <td>0.922141</td>\n",
       "      <td>0.916861</td>\n",
       "      <td>0.005280</td>\n",
       "      <td>1</td>\n",
       "    </tr>\n",
       "    <tr>\n",
       "      <th>9</th>\n",
       "      <td>9.876728</td>\n",
       "      <td>0.570757</td>\n",
       "      <td>0.290336</td>\n",
       "      <td>0.008369</td>\n",
       "      <td>NaN</td>\n",
       "      <td>NaN</td>\n",
       "      <td>NaN</td>\n",
       "      <td>RandomForestClassifier(class_weight='balanced', random_state=42)</td>\n",
       "      <td>NaN</td>\n",
       "      <td>NaN</td>\n",
       "      <td>NaN</td>\n",
       "      <td>NaN</td>\n",
       "      <td>5.0</td>\n",
       "      <td>None</td>\n",
       "      <td>{'models__min_samples_split': 5, 'models__max_depth': None, 'models': RandomForestClassifier(class_weight='balanced', random_state=42)}</td>\n",
       "      <td>0.905237</td>\n",
       "      <td>0.918984</td>\n",
       "      <td>0.912111</td>\n",
       "      <td>0.006874</td>\n",
       "      <td>2</td>\n",
       "    </tr>\n",
       "    <tr>\n",
       "      <th>0</th>\n",
       "      <td>0.464292</td>\n",
       "      <td>0.016580</td>\n",
       "      <td>2.222126</td>\n",
       "      <td>0.099568</td>\n",
       "      <td>uniform</td>\n",
       "      <td>5.0</td>\n",
       "      <td>minkowski</td>\n",
       "      <td>KNeighborsClassifier()</td>\n",
       "      <td>NaN</td>\n",
       "      <td>NaN</td>\n",
       "      <td>NaN</td>\n",
       "      <td>NaN</td>\n",
       "      <td>NaN</td>\n",
       "      <td>NaN</td>\n",
       "      <td>{'models__weights': 'uniform', 'models__n_neighbors': 5, 'models__metric': 'minkowski', 'models': KNeighborsClassifier()}</td>\n",
       "      <td>0.911330</td>\n",
       "      <td>0.910628</td>\n",
       "      <td>0.910979</td>\n",
       "      <td>0.000351</td>\n",
       "      <td>3</td>\n",
       "    </tr>\n",
       "  </tbody>\n",
       "</table>\n",
       "</div>"
      ],
      "text/plain": [
       "   mean_fit_time  std_fit_time  mean_score_time  std_score_time  \\\n",
       "8       0.496960      0.017099         3.325474        0.074095   \n",
       "9       9.876728      0.570757         0.290336        0.008369   \n",
       "0       0.464292      0.016580         2.222126        0.099568   \n",
       "\n",
       "  param_models__weights  param_models__n_neighbors param_models__metric  \\\n",
       "8               uniform                        9.0            minkowski   \n",
       "9                   NaN                        NaN                  NaN   \n",
       "0               uniform                        5.0            minkowski   \n",
       "\n",
       "                                                       param_models  \\\n",
       "8                                            KNeighborsClassifier()   \n",
       "9  RandomForestClassifier(class_weight='balanced', random_state=42)   \n",
       "0                                            KNeighborsClassifier()   \n",
       "\n",
       "   param_models__learning_rate  param_models__l2_leaf_reg  \\\n",
       "8                          NaN                        NaN   \n",
       "9                          NaN                        NaN   \n",
       "0                          NaN                        NaN   \n",
       "\n",
       "   param_models__iterations  param_models__depth  \\\n",
       "8                       NaN                  NaN   \n",
       "9                       NaN                  NaN   \n",
       "0                       NaN                  NaN   \n",
       "\n",
       "   param_models__min_samples_split param_models__max_depth  \\\n",
       "8                              NaN                     NaN   \n",
       "9                              5.0                    None   \n",
       "0                              NaN                     NaN   \n",
       "\n",
       "                                                                                                                                    params  \\\n",
       "8                {'models__weights': 'uniform', 'models__n_neighbors': 9, 'models__metric': 'minkowski', 'models': KNeighborsClassifier()}   \n",
       "9  {'models__min_samples_split': 5, 'models__max_depth': None, 'models': RandomForestClassifier(class_weight='balanced', random_state=42)}   \n",
       "0                {'models__weights': 'uniform', 'models__n_neighbors': 5, 'models__metric': 'minkowski', 'models': KNeighborsClassifier()}   \n",
       "\n",
       "   split0_test_score  split1_test_score  mean_test_score  std_test_score  \\\n",
       "8           0.911582           0.922141         0.916861        0.005280   \n",
       "9           0.905237           0.918984         0.912111        0.006874   \n",
       "0           0.911330           0.910628         0.910979        0.000351   \n",
       "\n",
       "   rank_test_score  \n",
       "8                1  \n",
       "9                2  \n",
       "0                3  "
      ]
     },
     "execution_count": 118,
     "metadata": {},
     "output_type": "execute_result"
    }
   ],
   "source": [
    "pd.DataFrame(bert_s.cv_results_).sort_values(by='rank_test_score',ascending=True).head(3)"
   ]
  },
  {
   "cell_type": "code",
   "execution_count": 125,
   "metadata": {},
   "outputs": [
    {
     "name": "stdout",
     "output_type": "stream",
     "text": [
      "Метрика на тестовых данных 0.8856088560885609\n"
     ]
    },
    {
     "data": {
      "image/png": "[encoded data removed]",
      "text/plain": [
       "<Figure size 640x480 with 2 Axes>"
      ]
     },
     "metadata": {},
     "output_type": "display_data"
    }
   ],
   "source": [
    "y_pred = bert_s.predict(X_test_1)\n",
    "print(f\"Метрика на тестовых данных {f1_score(y_test_1,y_pred)}\")\n",
    "cm = confusion_matrix(y_test_1,y_pred)\n",
    "sns.heatmap(cm, annot=True, fmt='d', cmap='Blues_r')\n",
    "plt.ylabel('True label')\n",
    "plt.xlabel('Predicted'); "
   ]
  },
  {
   "cell_type": "markdown",
   "metadata": {},
   "source": [
    "Вывод:\n",
    "Наилучший результат показала \n",
    "- KNeighborsClassifier(n_neighbors=9))])\n",
    "- Метрика лучшей модели на тренировочной выборке: 0.9168613441686134\n",
    "- Метрика f1 на тестовой 0.89"
   ]
  },
  {
   "cell_type": "markdown",
   "metadata": {},
   "source": [
    "## Выводы"
   ]
  },
  {
   "cell_type": "markdown",
   "metadata": {},
   "source": [
    "### Подготовка\n",
    "- Количество записей 159291 \n",
    "- Пропусков нет\n",
    "- Присутствует дисбаланс классов 90% обычных сообщений, 10% токсичных\n",
    "- Была проведена фильтрация сообщений и лемматизация"
   ]
  },
  {
   "cell_type": "markdown",
   "metadata": {},
   "source": [
    "### Модель\n",
    "Наилучшей результат покалаза модель обученная на эмбедингах\n",
    "\n",
    "- KNeighborsClassifier(n_neighbors=9))])\n",
    "- Метрика лучшей модели на тренировочной выборке: 0.91\n",
    "- Метрика f1 на тестовой 0.89"
   ]
  },
  {
   "cell_type": "markdown",
   "metadata": {},
   "source": [
    "Модель успешно обучена f1_score 0.91, что выше требуемого значения не меньше 0.75. Модель решает задачу бинарной классификации комментариев на позитивные и негативные. Для дальнейшего улучшения необходимо увеличить вычислительные мощности и уменьшить дисбаланс классов"
   ]
  }
 ],
 "metadata": {
  "ExecuteTimeLog": [
   {
    "duration": 433,
    "start_time": "2025-04-22T14:30:51.032Z"
   },
   {
    "duration": 115,
    "start_time": "2025-04-22T14:31:09.843Z"
   },
   {
    "duration": 956,
    "start_time": "2025-04-22T14:31:21.005Z"
   },
   {
    "duration": 19,
    "start_time": "2025-04-22T14:31:28.072Z"
   },
   {
    "duration": 33,
    "start_time": "2025-04-22T14:32:33.095Z"
   },
   {
    "duration": 5,
    "start_time": "2025-04-22T14:32:57.247Z"
   },
   {
    "duration": 7,
    "start_time": "2025-04-22T14:33:05.966Z"
   },
   {
    "duration": 1814,
    "start_time": "2025-04-23T11:45:51.161Z"
   },
   {
    "duration": 1017,
    "start_time": "2025-04-23T11:45:52.977Z"
   },
   {
    "duration": 15,
    "start_time": "2025-04-23T11:45:53.996Z"
   },
   {
    "duration": 34,
    "start_time": "2025-04-23T11:45:54.403Z"
   },
   {
    "duration": 7,
    "start_time": "2025-04-23T11:45:58.829Z"
   },
   {
    "duration": 33,
    "start_time": "2025-04-23T11:45:59.635Z"
   },
   {
    "duration": 980,
    "start_time": "2025-04-23T11:46:37.384Z"
   },
   {
    "duration": 206,
    "start_time": "2025-04-23T12:00:29.344Z"
   },
   {
    "duration": 3,
    "start_time": "2025-04-23T12:18:22.001Z"
   },
   {
    "duration": 141,
    "start_time": "2025-04-23T12:18:23.201Z"
   },
   {
    "duration": 3,
    "start_time": "2025-04-23T12:18:54.785Z"
   },
   {
    "duration": 4,
    "start_time": "2025-04-23T12:18:55.077Z"
   },
   {
    "duration": 3,
    "start_time": "2025-04-23T12:19:27.717Z"
   },
   {
    "duration": 3,
    "start_time": "2025-04-23T12:19:28.477Z"
   },
   {
    "duration": 3,
    "start_time": "2025-04-23T12:20:07.995Z"
   },
   {
    "duration": 4,
    "start_time": "2025-04-23T12:20:08.505Z"
   },
   {
    "duration": 4,
    "start_time": "2025-04-23T12:20:12.313Z"
   },
   {
    "duration": 7,
    "start_time": "2025-04-23T12:20:22.978Z"
   },
   {
    "duration": 3,
    "start_time": "2025-04-23T12:20:23.241Z"
   },
   {
    "duration": 3,
    "start_time": "2025-04-23T12:20:29.006Z"
   },
   {
    "duration": 4,
    "start_time": "2025-04-23T12:20:29.332Z"
   },
   {
    "duration": 3,
    "start_time": "2025-04-23T12:23:13.650Z"
   },
   {
    "duration": 3,
    "start_time": "2025-04-23T12:23:13.996Z"
   },
   {
    "duration": 3,
    "start_time": "2025-04-23T12:26:48.053Z"
   },
   {
    "duration": 22,
    "start_time": "2025-04-23T12:26:48.268Z"
   },
   {
    "duration": 16,
    "start_time": "2025-04-23T12:26:52.515Z"
   },
   {
    "duration": 18,
    "start_time": "2025-04-23T12:27:00.546Z"
   },
   {
    "duration": 15,
    "start_time": "2025-04-23T12:27:38.460Z"
   },
   {
    "duration": 3611,
    "start_time": "2025-04-23T12:27:55.633Z"
   },
   {
    "duration": 3,
    "start_time": "2025-04-23T12:29:02.647Z"
   },
   {
    "duration": 3559,
    "start_time": "2025-04-23T12:29:03.020Z"
   },
   {
    "duration": 3,
    "start_time": "2025-04-23T12:29:23.807Z"
   },
   {
    "duration": 2164,
    "start_time": "2025-04-23T12:29:24.024Z"
   },
   {
    "duration": 3,
    "start_time": "2025-04-23T12:29:32.209Z"
   },
   {
    "duration": 2213,
    "start_time": "2025-04-23T12:29:32.398Z"
   },
   {
    "duration": 1330,
    "start_time": "2025-04-23T12:31:59.036Z"
   },
   {
    "duration": 2242,
    "start_time": "2025-04-23T12:32:02.913Z"
   },
   {
    "duration": 5,
    "start_time": "2025-04-23T12:32:08.222Z"
   },
   {
    "duration": 5,
    "start_time": "2025-04-23T12:32:36.656Z"
   },
   {
    "duration": 51,
    "start_time": "2025-04-23T12:34:10.258Z"
   },
   {
    "duration": 1700,
    "start_time": "2025-04-23T12:34:15.842Z"
   },
   {
    "duration": 988,
    "start_time": "2025-04-23T12:34:17.544Z"
   },
   {
    "duration": 30,
    "start_time": "2025-04-23T12:34:20.679Z"
   },
   {
    "duration": 15,
    "start_time": "2025-04-23T12:34:22.791Z"
   },
   {
    "duration": 35,
    "start_time": "2025-04-23T12:34:30.950Z"
   },
   {
    "duration": 113,
    "start_time": "2025-04-23T12:34:45.926Z"
   },
   {
    "duration": 4,
    "start_time": "2025-04-23T12:34:58.314Z"
   },
   {
    "duration": 2,
    "start_time": "2025-04-23T12:37:32.360Z"
   },
   {
    "duration": 4428,
    "start_time": "2025-04-23T12:37:33.547Z"
   },
   {
    "duration": 3,
    "start_time": "2025-04-23T12:39:49.094Z"
   },
   {
    "duration": 4520,
    "start_time": "2025-04-23T12:39:49.674Z"
   },
   {
    "duration": 2159,
    "start_time": "2025-04-23T12:43:39.491Z"
   },
   {
    "duration": 4,
    "start_time": "2025-04-23T12:43:48.376Z"
   },
   {
    "duration": 4,
    "start_time": "2025-04-23T12:44:55.371Z"
   },
   {
    "duration": 104327,
    "start_time": "2025-04-23T12:44:55.579Z"
   },
   {
    "duration": 0,
    "start_time": "2025-04-23T12:46:39.908Z"
   },
   {
    "duration": 1721,
    "start_time": "2025-04-23T12:47:01.032Z"
   },
   {
    "duration": 968,
    "start_time": "2025-04-23T12:47:02.756Z"
   },
   {
    "duration": 2263,
    "start_time": "2025-04-23T12:47:08.555Z"
   },
   {
    "duration": 3,
    "start_time": "2025-04-23T12:47:13.014Z"
   },
   {
    "duration": 144,
    "start_time": "2025-04-23T12:48:18.408Z"
   },
   {
    "duration": 16,
    "start_time": "2025-04-23T12:48:28.926Z"
   },
   {
    "duration": 53,
    "start_time": "2025-04-23T12:48:49.849Z"
   },
   {
    "duration": 7,
    "start_time": "2025-04-23T12:48:56.828Z"
   },
   {
    "duration": 1748,
    "start_time": "2025-04-23T12:49:00.768Z"
   },
   {
    "duration": 966,
    "start_time": "2025-04-23T12:49:02.518Z"
   },
   {
    "duration": 2327,
    "start_time": "2025-04-23T12:49:06.805Z"
   },
   {
    "duration": 6,
    "start_time": "2025-04-23T12:49:09.134Z"
   },
   {
    "duration": 7,
    "start_time": "2025-04-23T12:50:29.615Z"
   },
   {
    "duration": 6847,
    "start_time": "2025-04-23T12:51:30.193Z"
   },
   {
    "duration": 5,
    "start_time": "2025-04-23T12:51:41.705Z"
   },
   {
    "duration": 96,
    "start_time": "2025-04-23T12:51:50.420Z"
   },
   {
    "duration": 4,
    "start_time": "2025-04-23T12:51:50.578Z"
   },
   {
    "duration": 2,
    "start_time": "2025-04-23T12:51:53.636Z"
   },
   {
    "duration": 4,
    "start_time": "2025-04-23T12:51:55.799Z"
   },
   {
    "duration": 2061,
    "start_time": "2025-04-23T12:52:10.247Z"
   },
   {
    "duration": 974,
    "start_time": "2025-04-23T12:52:12.311Z"
   },
   {
    "duration": 2325,
    "start_time": "2025-04-23T12:52:17.572Z"
   },
   {
    "duration": 36,
    "start_time": "2025-04-23T12:52:19.903Z"
   },
   {
    "duration": 7141,
    "start_time": "2025-04-23T12:52:26.154Z"
   },
   {
    "duration": 11,
    "start_time": "2025-04-23T12:52:33.297Z"
   },
   {
    "duration": 507646,
    "start_time": "2025-04-23T12:52:56.538Z"
   },
   {
    "duration": 0,
    "start_time": "2025-04-23T13:01:24.186Z"
   },
   {
    "duration": 5,
    "start_time": "2025-04-23T13:01:27.804Z"
   },
   {
    "duration": 2912,
    "start_time": "2025-04-23T13:01:35.967Z"
   },
   {
    "duration": 5,
    "start_time": "2025-04-23T13:01:44.337Z"
   },
   {
    "duration": 4,
    "start_time": "2025-04-23T13:01:54.745Z"
   },
   {
    "duration": 66,
    "start_time": "2025-04-23T13:02:59.412Z"
   },
   {
    "duration": 5,
    "start_time": "2025-04-23T13:03:14.161Z"
   },
   {
    "duration": 5,
    "start_time": "2025-04-23T13:03:16.962Z"
   },
   {
    "duration": 4,
    "start_time": "2025-04-23T13:03:21.944Z"
   },
   {
    "duration": 5,
    "start_time": "2025-04-23T13:03:24.314Z"
   },
   {
    "duration": 5,
    "start_time": "2025-04-23T13:04:14.173Z"
   },
   {
    "duration": 19,
    "start_time": "2025-04-23T13:04:28.849Z"
   },
   {
    "duration": 5,
    "start_time": "2025-04-23T13:04:32.572Z"
   },
   {
    "duration": 5,
    "start_time": "2025-04-23T13:04:36.583Z"
   },
   {
    "duration": 5,
    "start_time": "2025-04-23T13:04:42.267Z"
   },
   {
    "duration": 5,
    "start_time": "2025-04-23T13:04:44.766Z"
   },
   {
    "duration": 5,
    "start_time": "2025-04-23T13:04:46.914Z"
   },
   {
    "duration": 4,
    "start_time": "2025-04-23T13:15:24.040Z"
   },
   {
    "duration": 2831,
    "start_time": "2025-04-23T13:15:26.606Z"
   },
   {
    "duration": 6,
    "start_time": "2025-04-23T13:15:29.440Z"
   },
   {
    "duration": 5,
    "start_time": "2025-04-23T13:15:30.296Z"
   },
   {
    "duration": 5,
    "start_time": "2025-04-23T13:15:30.923Z"
   },
   {
    "duration": 5,
    "start_time": "2025-04-23T13:18:03.756Z"
   },
   {
    "duration": 4,
    "start_time": "2025-04-23T13:18:03.924Z"
   },
   {
    "duration": 4,
    "start_time": "2025-04-23T13:18:18.494Z"
   },
   {
    "duration": 5,
    "start_time": "2025-04-23T13:18:18.726Z"
   },
   {
    "duration": 5,
    "start_time": "2025-04-23T13:18:23.598Z"
   },
   {
    "duration": 4,
    "start_time": "2025-04-23T13:18:24.362Z"
   },
   {
    "duration": 4,
    "start_time": "2025-04-23T13:18:30.101Z"
   },
   {
    "duration": 5,
    "start_time": "2025-04-23T13:18:37.347Z"
   },
   {
    "duration": 4,
    "start_time": "2025-04-23T13:18:39.876Z"
   },
   {
    "duration": 6,
    "start_time": "2025-04-23T13:18:57.996Z"
   },
   {
    "duration": 7,
    "start_time": "2025-04-23T13:18:58.152Z"
   },
   {
    "duration": 4,
    "start_time": "2025-04-23T13:20:17.198Z"
   },
   {
    "duration": 4,
    "start_time": "2025-04-23T13:20:25.450Z"
   },
   {
    "duration": 4,
    "start_time": "2025-04-23T13:20:28.501Z"
   },
   {
    "duration": 4,
    "start_time": "2025-04-23T13:20:29.027Z"
   },
   {
    "duration": 67,
    "start_time": "2025-04-23T13:20:32.522Z"
   },
   {
    "duration": 3,
    "start_time": "2025-04-23T13:20:42.667Z"
   },
   {
    "duration": 5,
    "start_time": "2025-04-23T13:20:45.230Z"
   },
   {
    "duration": 5,
    "start_time": "2025-04-23T13:20:45.440Z"
   },
   {
    "duration": 4,
    "start_time": "2025-04-23T13:20:47.860Z"
   },
   {
    "duration": 4,
    "start_time": "2025-04-23T13:21:39.845Z"
   },
   {
    "duration": 5,
    "start_time": "2025-04-23T13:21:42.091Z"
   },
   {
    "duration": 4,
    "start_time": "2025-04-23T13:22:48.572Z"
   },
   {
    "duration": 4,
    "start_time": "2025-04-23T13:22:51.351Z"
   },
   {
    "duration": 4,
    "start_time": "2025-04-23T13:24:12.573Z"
   },
   {
    "duration": 5,
    "start_time": "2025-04-23T13:24:17.213Z"
   },
   {
    "duration": 4,
    "start_time": "2025-04-23T13:24:20.822Z"
   },
   {
    "duration": 3,
    "start_time": "2025-04-23T13:24:43.480Z"
   },
   {
    "duration": 4,
    "start_time": "2025-04-23T13:24:43.681Z"
   },
   {
    "duration": 4,
    "start_time": "2025-04-23T13:24:47.689Z"
   },
   {
    "duration": 4,
    "start_time": "2025-04-23T13:25:12.717Z"
   },
   {
    "duration": 4,
    "start_time": "2025-04-23T13:25:18.571Z"
   },
   {
    "duration": 49,
    "start_time": "2025-04-23T13:25:29.897Z"
   },
   {
    "duration": 4,
    "start_time": "2025-04-23T13:25:35.122Z"
   },
   {
    "duration": 46,
    "start_time": "2025-04-23T13:25:35.128Z"
   },
   {
    "duration": 0,
    "start_time": "2025-04-23T13:25:35.176Z"
   },
   {
    "duration": 0,
    "start_time": "2025-04-23T13:25:35.178Z"
   },
   {
    "duration": 0,
    "start_time": "2025-04-23T13:25:35.178Z"
   },
   {
    "duration": 1639,
    "start_time": "2025-04-23T13:25:40.140Z"
   },
   {
    "duration": 901,
    "start_time": "2025-04-23T13:25:41.781Z"
   },
   {
    "duration": 2233,
    "start_time": "2025-04-23T13:25:44.046Z"
   },
   {
    "duration": 8,
    "start_time": "2025-04-23T13:25:46.281Z"
   },
   {
    "duration": 6,
    "start_time": "2025-04-23T13:25:49.432Z"
   },
   {
    "duration": 3,
    "start_time": "2025-04-23T13:25:57.890Z"
   },
   {
    "duration": 6,
    "start_time": "2025-04-23T13:25:58.671Z"
   },
   {
    "duration": 3,
    "start_time": "2025-04-23T13:26:03.436Z"
   },
   {
    "duration": 4,
    "start_time": "2025-04-23T13:26:37.941Z"
   },
   {
    "duration": 5,
    "start_time": "2025-04-23T13:26:39.806Z"
   },
   {
    "duration": 4,
    "start_time": "2025-04-23T13:26:43.557Z"
   },
   {
    "duration": 4,
    "start_time": "2025-04-23T13:26:44.439Z"
   },
   {
    "duration": 4,
    "start_time": "2025-04-23T13:26:51.799Z"
   },
   {
    "duration": 5,
    "start_time": "2025-04-23T13:26:53.764Z"
   },
   {
    "duration": 4,
    "start_time": "2025-04-23T13:27:25.721Z"
   },
   {
    "duration": 4,
    "start_time": "2025-04-23T13:27:28.109Z"
   },
   {
    "duration": 4,
    "start_time": "2025-04-23T13:40:53.420Z"
   },
   {
    "duration": 4,
    "start_time": "2025-04-23T13:40:55.876Z"
   },
   {
    "duration": 4,
    "start_time": "2025-04-23T13:41:08.620Z"
   },
   {
    "duration": 3,
    "start_time": "2025-04-23T13:41:10.452Z"
   },
   {
    "duration": 4,
    "start_time": "2025-04-23T13:41:33.678Z"
   },
   {
    "duration": 4,
    "start_time": "2025-04-23T13:41:35.772Z"
   },
   {
    "duration": 3,
    "start_time": "2025-04-23T13:41:45.366Z"
   },
   {
    "duration": 4,
    "start_time": "2025-04-23T13:41:45.716Z"
   },
   {
    "duration": 2616,
    "start_time": "2025-04-23T13:41:57.030Z"
   },
   {
    "duration": 4,
    "start_time": "2025-04-23T13:42:07.297Z"
   },
   {
    "duration": 4,
    "start_time": "2025-04-23T13:42:20.158Z"
   },
   {
    "duration": 286921,
    "start_time": "2025-04-23T13:43:29.586Z"
   },
   {
    "duration": 14,
    "start_time": "2025-04-23T13:48:18.661Z"
   },
   {
    "duration": 54,
    "start_time": "2025-04-23T13:49:16.675Z"
   },
   {
    "duration": 0,
    "start_time": "2025-04-23T13:49:16.731Z"
   },
   {
    "duration": 0,
    "start_time": "2025-04-23T13:49:16.732Z"
   },
   {
    "duration": 0,
    "start_time": "2025-04-23T13:49:16.734Z"
   },
   {
    "duration": 0,
    "start_time": "2025-04-23T13:49:16.735Z"
   },
   {
    "duration": 0,
    "start_time": "2025-04-23T13:49:16.736Z"
   },
   {
    "duration": 7,
    "start_time": "2025-04-23T13:49:21.588Z"
   },
   {
    "duration": 1736,
    "start_time": "2025-04-23T13:49:24.802Z"
   },
   {
    "duration": 965,
    "start_time": "2025-04-23T13:49:26.540Z"
   },
   {
    "duration": 14,
    "start_time": "2025-04-23T13:49:27.507Z"
   },
   {
    "duration": 86,
    "start_time": "2025-04-23T13:49:27.523Z"
   },
   {
    "duration": 41,
    "start_time": "2025-04-23T13:49:27.611Z"
   },
   {
    "duration": 2328,
    "start_time": "2025-04-23T13:49:27.653Z"
   },
   {
    "duration": 47,
    "start_time": "2025-04-23T13:49:29.983Z"
   },
   {
    "duration": 7,
    "start_time": "2025-04-23T13:49:38.007Z"
   },
   {
    "duration": 3,
    "start_time": "2025-04-23T13:49:49.362Z"
   },
   {
    "duration": 8884,
    "start_time": "2025-04-23T13:50:23.194Z"
   },
   {
    "duration": 14,
    "start_time": "2025-04-23T13:50:36.284Z"
   },
   {
    "duration": 39569,
    "start_time": "2025-04-23T13:50:46.399Z"
   },
   {
    "duration": 941,
    "start_time": "2025-04-23T13:51:37.455Z"
   },
   {
    "duration": 920,
    "start_time": "2025-04-23T13:52:03.507Z"
   },
   {
    "duration": 18,
    "start_time": "2025-04-23T13:52:43.934Z"
   },
   {
    "duration": 913,
    "start_time": "2025-04-23T13:52:51.827Z"
   },
   {
    "duration": 1699,
    "start_time": "2025-04-23T13:53:37.332Z"
   },
   {
    "duration": 971,
    "start_time": "2025-04-23T13:53:39.033Z"
   },
   {
    "duration": 11,
    "start_time": "2025-04-23T13:53:40.006Z"
   },
   {
    "duration": 11,
    "start_time": "2025-04-23T13:53:40.019Z"
   },
   {
    "duration": 60,
    "start_time": "2025-04-23T13:53:40.032Z"
   },
   {
    "duration": 2278,
    "start_time": "2025-04-23T13:53:40.093Z"
   },
   {
    "duration": 40,
    "start_time": "2025-04-23T13:53:42.373Z"
   },
   {
    "duration": 4,
    "start_time": "2025-04-23T13:53:42.415Z"
   },
   {
    "duration": 6,
    "start_time": "2025-04-23T13:54:04.082Z"
   },
   {
    "duration": 140,
    "start_time": "2025-04-23T13:54:07.598Z"
   },
   {
    "duration": 4,
    "start_time": "2025-04-23T13:54:13.069Z"
   },
   {
    "duration": 10,
    "start_time": "2025-04-23T13:54:16.832Z"
   },
   {
    "duration": 4,
    "start_time": "2025-04-23T13:54:43.748Z"
   },
   {
    "duration": 1041321,
    "start_time": "2025-04-23T13:54:44.336Z"
   },
   {
    "duration": 0,
    "start_time": "2025-04-23T14:12:05.660Z"
   },
   {
    "duration": 6,
    "start_time": "2025-04-23T14:12:13.011Z"
   },
   {
    "duration": 3,
    "start_time": "2025-04-23T14:12:17.262Z"
   },
   {
    "duration": 3,
    "start_time": "2025-04-23T14:37:32.940Z"
   },
   {
    "duration": 4,
    "start_time": "2025-04-23T14:37:36.411Z"
   },
   {
    "duration": 4,
    "start_time": "2025-04-23T14:37:41.230Z"
   },
   {
    "duration": 4,
    "start_time": "2025-04-23T14:37:45.376Z"
   },
   {
    "duration": 4,
    "start_time": "2025-04-23T14:37:48.117Z"
   },
   {
    "duration": 3,
    "start_time": "2025-04-23T14:37:51.276Z"
   },
   {
    "duration": 3,
    "start_time": "2025-04-23T14:37:56.743Z"
   },
   {
    "duration": 7423927,
    "start_time": "2025-04-23T14:39:01.578Z"
   },
   {
    "duration": 5,
    "start_time": "2025-04-23T16:48:16.733Z"
   },
   {
    "duration": 353,
    "start_time": "2025-04-23T16:48:18.711Z"
   },
   {
    "duration": 5,
    "start_time": "2025-04-23T16:50:26.123Z"
   },
   {
    "duration": 218658,
    "start_time": "2025-04-23T16:50:27.229Z"
   },
   {
    "duration": 89545,
    "start_time": "2025-04-23T16:57:02.680Z"
   },
   {
    "duration": 11727,
    "start_time": "2025-04-23T16:58:39.403Z"
   },
   {
    "duration": 1043,
    "start_time": "2025-04-23T16:58:57.243Z"
   },
   {
    "duration": 7,
    "start_time": "2025-04-23T16:59:39.520Z"
   },
   {
    "duration": 13,
    "start_time": "2025-04-23T16:59:42.486Z"
   },
   {
    "duration": 3,
    "start_time": "2025-04-23T17:02:00.649Z"
   },
   {
    "duration": 100,
    "start_time": "2025-04-23T17:02:07.340Z"
   },
   {
    "duration": 64,
    "start_time": "2025-04-23T17:03:47.339Z"
   },
   {
    "duration": 1777,
    "start_time": "2025-04-23T17:03:53.473Z"
   },
   {
    "duration": 978,
    "start_time": "2025-04-23T17:03:55.252Z"
   },
   {
    "duration": 13,
    "start_time": "2025-04-23T17:03:56.231Z"
   },
   {
    "duration": 8,
    "start_time": "2025-04-23T17:03:56.245Z"
   },
   {
    "duration": 60,
    "start_time": "2025-04-23T17:03:56.255Z"
   },
   {
    "duration": 2348,
    "start_time": "2025-04-23T17:03:59.273Z"
   },
   {
    "duration": 88,
    "start_time": "2025-04-23T17:04:01.623Z"
   },
   {
    "duration": 4,
    "start_time": "2025-04-23T17:04:17.417Z"
   },
   {
    "duration": 96,
    "start_time": "2025-04-23T17:05:12.188Z"
   },
   {
    "duration": 4,
    "start_time": "2025-04-23T17:05:18.055Z"
   },
   {
    "duration": 19,
    "start_time": "2025-04-23T17:05:21.455Z"
   },
   {
    "duration": 21,
    "start_time": "2025-04-23T17:05:35.192Z"
   },
   {
    "duration": 4,
    "start_time": "2025-04-23T17:07:26.999Z"
   },
   {
    "duration": 53,
    "start_time": "2025-04-23T17:08:01.189Z"
   },
   {
    "duration": 1799,
    "start_time": "2025-04-23T17:08:05.535Z"
   },
   {
    "duration": 1005,
    "start_time": "2025-04-23T17:08:07.336Z"
   },
   {
    "duration": 12,
    "start_time": "2025-04-23T17:08:08.342Z"
   },
   {
    "duration": 28,
    "start_time": "2025-04-23T17:08:08.355Z"
   },
   {
    "duration": 47,
    "start_time": "2025-04-23T17:08:08.385Z"
   },
   {
    "duration": 2333,
    "start_time": "2025-04-23T17:08:08.434Z"
   },
   {
    "duration": 102,
    "start_time": "2025-04-23T17:08:10.769Z"
   },
   {
    "duration": 4,
    "start_time": "2025-04-23T17:08:20.348Z"
   },
   {
    "duration": 59,
    "start_time": "2025-04-23T17:09:53.313Z"
   },
   {
    "duration": 18,
    "start_time": "2025-04-23T17:10:25.495Z"
   },
   {
    "duration": 10331,
    "start_time": "2025-04-23T17:10:52.477Z"
   },
   {
    "duration": 6,
    "start_time": "2025-04-23T17:11:07.505Z"
   },
   {
    "duration": 4,
    "start_time": "2025-04-23T17:11:13.640Z"
   },
   {
    "duration": 3,
    "start_time": "2025-04-23T17:11:16.974Z"
   },
   {
    "duration": 5,
    "start_time": "2025-04-23T17:11:20.321Z"
   },
   {
    "duration": 4,
    "start_time": "2025-04-23T17:11:25.852Z"
   },
   {
    "duration": 12,
    "start_time": "2025-04-23T17:14:04.496Z"
   },
   {
    "duration": 3,
    "start_time": "2025-04-23T17:14:09.768Z"
   },
   {
    "duration": 5955,
    "start_time": "2025-04-23T17:14:14.377Z"
   },
   {
    "duration": 47,
    "start_time": "2025-04-23T17:14:25.150Z"
   },
   {
    "duration": 15,
    "start_time": "2025-04-23T17:17:30.573Z"
   },
   {
    "duration": 6,
    "start_time": "2025-04-23T17:19:18.603Z"
   },
   {
    "duration": 9,
    "start_time": "2025-04-23T17:19:22.318Z"
   },
   {
    "duration": 1727,
    "start_time": "2025-04-23T17:26:16.510Z"
   },
   {
    "duration": 997,
    "start_time": "2025-04-23T17:26:18.239Z"
   },
   {
    "duration": 12,
    "start_time": "2025-04-23T17:26:19.238Z"
   },
   {
    "duration": 7,
    "start_time": "2025-04-23T17:26:19.252Z"
   },
   {
    "duration": 56,
    "start_time": "2025-04-23T17:26:19.261Z"
   },
   {
    "duration": 2370,
    "start_time": "2025-04-23T17:26:19.319Z"
   },
   {
    "duration": 140,
    "start_time": "2025-04-23T17:26:21.704Z"
   },
   {
    "duration": 0,
    "start_time": "2025-04-23T17:26:21.845Z"
   },
   {
    "duration": 0,
    "start_time": "2025-04-23T17:26:21.847Z"
   },
   {
    "duration": 3,
    "start_time": "2025-04-23T17:26:49.137Z"
   },
   {
    "duration": 9919,
    "start_time": "2025-04-23T17:26:49.894Z"
   },
   {
    "duration": 320,
    "start_time": "2025-04-23T17:31:55.329Z"
   },
   {
    "duration": 1550,
    "start_time": "2025-04-23T17:32:05.174Z"
   },
   {
    "duration": 982,
    "start_time": "2025-04-23T17:32:06.726Z"
   },
   {
    "duration": 14,
    "start_time": "2025-04-23T17:32:07.710Z"
   },
   {
    "duration": 107,
    "start_time": "2025-04-23T17:32:07.726Z"
   },
   {
    "duration": 132,
    "start_time": "2025-04-23T17:32:07.834Z"
   },
   {
    "duration": 2374,
    "start_time": "2025-04-23T17:32:07.968Z"
   },
   {
    "duration": 20,
    "start_time": "2025-04-23T17:32:10.344Z"
   },
   {
    "duration": 10620,
    "start_time": "2025-04-23T17:32:10.366Z"
   },
   {
    "duration": 40437,
    "start_time": "2025-04-23T17:32:20.987Z"
   },
   {
    "duration": 0,
    "start_time": "2025-04-23T17:33:01.426Z"
   },
   {
    "duration": 435763,
    "start_time": "2025-04-23T17:33:31.985Z"
   },
   {
    "duration": 90,
    "start_time": "2025-04-23T17:48:14.438Z"
   },
   {
    "duration": 3,
    "start_time": "2025-04-23T17:48:32.100Z"
   },
   {
    "duration": 4,
    "start_time": "2025-04-23T17:48:38.011Z"
   },
   {
    "duration": 4,
    "start_time": "2025-04-23T17:48:41.525Z"
   },
   {
    "duration": 4,
    "start_time": "2025-04-23T17:52:48.632Z"
   },
   {
    "duration": 87,
    "start_time": "2025-04-23T17:52:55.451Z"
   },
   {
    "duration": 12,
    "start_time": "2025-04-23T17:53:01.744Z"
   },
   {
    "duration": 4,
    "start_time": "2025-04-23T17:53:07.821Z"
   },
   {
    "duration": 88,
    "start_time": "2025-04-23T17:53:17.192Z"
   },
   {
    "duration": 311,
    "start_time": "2025-04-23T17:53:42.253Z"
   },
   {
    "duration": 7758,
    "start_time": "2025-04-23T17:54:12.860Z"
   },
   {
    "duration": 7,
    "start_time": "2025-04-23T17:54:20.620Z"
   },
   {
    "duration": 11,
    "start_time": "2025-04-23T17:54:48.053Z"
   },
   {
    "duration": 11,
    "start_time": "2025-04-23T17:55:12.783Z"
   },
   {
    "duration": 38,
    "start_time": "2025-04-23T17:55:21.441Z"
   },
   {
    "duration": 23949,
    "start_time": "2025-04-23T17:55:23.695Z"
   },
   {
    "duration": 4,
    "start_time": "2025-04-23T17:55:47.646Z"
   },
   {
    "duration": 13,
    "start_time": "2025-04-23T17:55:47.652Z"
   },
   {
    "duration": 4,
    "start_time": "2025-04-23T17:57:55.981Z"
   },
   {
    "duration": 6,
    "start_time": "2025-04-23T17:57:59.074Z"
   },
   {
    "duration": 11,
    "start_time": "2025-04-23T18:00:45.449Z"
   },
   {
    "duration": 4028,
    "start_time": "2025-04-23T18:00:57.813Z"
   },
   {
    "duration": 4480,
    "start_time": "2025-04-23T18:01:31.532Z"
   },
   {
    "duration": 13,
    "start_time": "2025-04-23T18:01:36.014Z"
   },
   {
    "duration": 14,
    "start_time": "2025-04-23T18:01:50.247Z"
   },
   {
    "duration": 4636,
    "start_time": "2025-04-23T18:02:04.955Z"
   },
   {
    "duration": 4613,
    "start_time": "2025-04-23T18:10:55.444Z"
   },
   {
    "duration": 54,
    "start_time": "2025-04-23T18:24:35.777Z"
   },
   {
    "duration": 1716,
    "start_time": "2025-04-23T18:24:43.497Z"
   },
   {
    "duration": 972,
    "start_time": "2025-04-23T18:24:45.215Z"
   },
   {
    "duration": 2363,
    "start_time": "2025-04-23T18:24:50.192Z"
   },
   {
    "duration": 14,
    "start_time": "2025-04-23T18:24:52.557Z"
   },
   {
    "duration": 10197,
    "start_time": "2025-04-23T18:24:53.582Z"
   },
   {
    "duration": 130,
    "start_time": "2025-04-23T18:25:11.499Z"
   },
   {
    "duration": 7585,
    "start_time": "2025-04-23T18:25:12.791Z"
   },
   {
    "duration": 19,
    "start_time": "2025-04-23T18:25:52.500Z"
   },
   {
    "duration": 684816,
    "start_time": "2025-04-23T18:34:45.143Z"
   },
   {
    "duration": 9838,
    "start_time": "2025-04-23T18:46:15.279Z"
   },
   {
    "duration": 21,
    "start_time": "2025-04-23T18:48:11.102Z"
   },
   {
    "duration": 4,
    "start_time": "2025-04-23T18:48:20.701Z"
   },
   {
    "duration": 23,
    "start_time": "2025-04-23T18:48:55.574Z"
   },
   {
    "duration": 20,
    "start_time": "2025-04-23T18:49:16.034Z"
   },
   {
    "duration": 18,
    "start_time": "2025-04-23T18:49:28.171Z"
   },
   {
    "duration": 20,
    "start_time": "2025-04-23T18:49:38.609Z"
   },
   {
    "duration": 19,
    "start_time": "2025-04-23T18:49:49.897Z"
   },
   {
    "duration": 1558,
    "start_time": "2025-04-23T18:50:14.828Z"
   },
   {
    "duration": 4,
    "start_time": "2025-04-23T18:50:16.388Z"
   },
   {
    "duration": 22,
    "start_time": "2025-04-23T18:50:26.119Z"
   },
   {
    "duration": 19,
    "start_time": "2025-04-23T18:51:59.349Z"
   },
   {
    "duration": 540,
    "start_time": "2025-04-23T18:52:12.024Z"
   },
   {
    "duration": 3,
    "start_time": "2025-04-23T18:52:12.566Z"
   },
   {
    "duration": 1666,
    "start_time": "2025-04-23T19:36:21.721Z"
   },
   {
    "duration": 906,
    "start_time": "2025-04-23T19:36:23.388Z"
   },
   {
    "duration": 14,
    "start_time": "2025-04-23T19:36:24.296Z"
   },
   {
    "duration": 8,
    "start_time": "2025-04-23T19:36:24.312Z"
   },
   {
    "duration": 37,
    "start_time": "2025-04-23T19:36:24.713Z"
   },
   {
    "duration": 2365,
    "start_time": "2025-04-23T19:36:28.924Z"
   },
   {
    "duration": 24,
    "start_time": "2025-04-23T19:36:31.291Z"
   },
   {
    "duration": 10983,
    "start_time": "2025-04-23T19:36:32.215Z"
   },
   {
    "duration": 137,
    "start_time": "2025-04-23T19:43:50.220Z"
   },
   {
    "duration": 16,
    "start_time": "2025-04-23T19:44:01.355Z"
   },
   {
    "duration": 11,
    "start_time": "2025-04-23T19:44:09.752Z"
   },
   {
    "duration": 37,
    "start_time": "2025-04-23T19:44:17.745Z"
   },
   {
    "duration": 12,
    "start_time": "2025-04-23T19:44:35.488Z"
   },
   {
    "duration": 5913,
    "start_time": "2025-04-23T19:45:01.984Z"
   },
   {
    "duration": 20,
    "start_time": "2025-04-23T19:47:03.926Z"
   },
   {
    "duration": 21,
    "start_time": "2025-04-23T19:47:08.931Z"
   },
   {
    "duration": 4,
    "start_time": "2025-04-23T19:47:23.276Z"
   },
   {
    "duration": 10,
    "start_time": "2025-04-23T19:47:30.928Z"
   },
   {
    "duration": 4,
    "start_time": "2025-04-23T19:47:35.896Z"
   },
   {
    "duration": 20,
    "start_time": "2025-04-23T19:47:40.070Z"
   },
   {
    "duration": 30487,
    "start_time": "2025-04-23T19:49:29.030Z"
   },
   {
    "duration": 107,
    "start_time": "2025-04-23T19:52:18.335Z"
   },
   {
    "duration": 65,
    "start_time": "2025-04-23T19:52:45.831Z"
   },
   {
    "duration": 42,
    "start_time": "2025-04-23T19:52:56.405Z"
   },
   {
    "duration": 4599,
    "start_time": "2025-04-23T19:53:14.456Z"
   },
   {
    "duration": 197184,
    "start_time": "2025-04-23T19:53:34.582Z"
   },
   {
    "duration": 152644,
    "start_time": "2025-04-23T19:56:59.133Z"
   },
   {
    "duration": 10,
    "start_time": "2025-04-23T19:59:31.779Z"
   },
   {
    "duration": 4,
    "start_time": "2025-04-23T20:00:10.658Z"
   },
   {
    "duration": 4,
    "start_time": "2025-04-23T20:00:19.734Z"
   },
   {
    "duration": 4,
    "start_time": "2025-04-23T20:00:24.778Z"
   },
   {
    "duration": 4,
    "start_time": "2025-04-23T20:00:27.292Z"
   },
   {
    "duration": 4,
    "start_time": "2025-04-23T20:00:32.724Z"
   },
   {
    "duration": 4,
    "start_time": "2025-04-23T20:00:41.828Z"
   },
   {
    "duration": 6587,
    "start_time": "2025-04-23T20:01:03.369Z"
   },
   {
    "duration": 539833,
    "start_time": "2025-04-23T20:01:15.288Z"
   },
   {
    "duration": 2778,
    "start_time": "2025-04-23T20:10:26.117Z"
   },
   {
    "duration": 9,
    "start_time": "2025-04-23T20:10:32.470Z"
   },
   {
    "duration": 6,
    "start_time": "2025-04-23T20:10:40.682Z"
   },
   {
    "duration": 4,
    "start_time": "2025-04-23T20:10:45.583Z"
   },
   {
    "duration": 7,
    "start_time": "2025-04-23T20:10:52.046Z"
   },
   {
    "duration": 2592,
    "start_time": "2025-04-23T20:11:18.472Z"
   },
   {
    "duration": 4,
    "start_time": "2025-04-23T20:11:33.857Z"
   },
   {
    "duration": 1714,
    "start_time": "2025-04-23T20:12:14.710Z"
   },
   {
    "duration": 1011,
    "start_time": "2025-04-23T20:12:16.427Z"
   },
   {
    "duration": 14,
    "start_time": "2025-04-23T20:12:17.440Z"
   },
   {
    "duration": 66,
    "start_time": "2025-04-23T20:12:17.456Z"
   },
   {
    "duration": 84,
    "start_time": "2025-04-23T20:12:17.524Z"
   },
   {
    "duration": 2347,
    "start_time": "2025-04-23T20:12:18.336Z"
   },
   {
    "duration": 110,
    "start_time": "2025-04-23T20:12:20.685Z"
   },
   {
    "duration": 11686,
    "start_time": "2025-04-23T20:12:20.797Z"
   },
   {
    "duration": 11079,
    "start_time": "2025-04-23T20:12:32.486Z"
   },
   {
    "duration": 2611,
    "start_time": "2025-04-23T20:12:50.911Z"
   },
   {
    "duration": 60,
    "start_time": "2025-04-23T20:12:53.524Z"
   },
   {
    "duration": 153,
    "start_time": "2025-04-23T20:14:14.810Z"
   },
   {
    "duration": 66,
    "start_time": "2025-04-23T20:15:57.170Z"
   },
   {
    "duration": 137,
    "start_time": "2025-04-23T20:16:26.459Z"
   },
   {
    "duration": 3,
    "start_time": "2025-04-23T20:16:42.128Z"
   },
   {
    "duration": 4,
    "start_time": "2025-04-23T20:17:58.883Z"
   },
   {
    "duration": 4,
    "start_time": "2025-04-23T20:18:06.557Z"
   },
   {
    "duration": 5,
    "start_time": "2025-04-23T20:18:12.191Z"
   },
   {
    "duration": 83,
    "start_time": "2025-04-23T20:31:33.381Z"
   },
   {
    "duration": 13,
    "start_time": "2025-04-23T20:31:54.449Z"
   },
   {
    "duration": 3573,
    "start_time": "2025-04-23T20:32:03.560Z"
   },
   {
    "duration": 1818,
    "start_time": "2025-04-23T20:32:40.898Z"
   },
   {
    "duration": 957,
    "start_time": "2025-04-23T20:32:42.719Z"
   },
   {
    "duration": 14,
    "start_time": "2025-04-23T20:32:43.678Z"
   },
   {
    "duration": 9,
    "start_time": "2025-04-23T20:32:43.705Z"
   },
   {
    "duration": 44,
    "start_time": "2025-04-23T20:32:43.716Z"
   },
   {
    "duration": 2341,
    "start_time": "2025-04-23T20:32:46.177Z"
   },
   {
    "duration": 22,
    "start_time": "2025-04-23T20:32:48.520Z"
   },
   {
    "duration": 10976,
    "start_time": "2025-04-23T20:32:49.971Z"
   },
   {
    "duration": 24382,
    "start_time": "2025-04-23T20:34:36.839Z"
   },
   {
    "duration": 4829,
    "start_time": "2025-04-23T20:35:06.312Z"
   },
   {
    "duration": 34,
    "start_time": "2025-04-23T20:35:27.281Z"
   },
   {
    "duration": 4,
    "start_time": "2025-04-23T20:35:40.941Z"
   },
   {
    "duration": 386,
    "start_time": "2025-04-23T20:35:56.789Z"
   },
   {
    "duration": 21,
    "start_time": "2025-04-23T20:36:02.251Z"
   },
   {
    "duration": 46,
    "start_time": "2025-04-23T20:36:12.614Z"
   },
   {
    "duration": 21,
    "start_time": "2025-04-23T20:36:45.218Z"
   },
   {
    "duration": 21,
    "start_time": "2025-04-23T20:36:59.641Z"
   },
   {
    "duration": 36,
    "start_time": "2025-04-23T20:37:05.944Z"
   },
   {
    "duration": 35,
    "start_time": "2025-04-23T20:39:58.116Z"
   },
   {
    "duration": 24,
    "start_time": "2025-04-23T20:42:23.829Z"
   },
   {
    "duration": 3,
    "start_time": "2025-04-23T20:43:09.274Z"
   },
   {
    "duration": 4,
    "start_time": "2025-04-23T20:43:15.730Z"
   },
   {
    "duration": 7554,
    "start_time": "2025-04-23T20:43:22.293Z"
   },
   {
    "duration": 52,
    "start_time": "2025-04-23T20:43:36.616Z"
   },
   {
    "duration": 1717,
    "start_time": "2025-04-23T20:43:41.805Z"
   },
   {
    "duration": 1036,
    "start_time": "2025-04-23T20:43:43.524Z"
   },
   {
    "duration": 12,
    "start_time": "2025-04-23T20:43:44.562Z"
   },
   {
    "duration": 10,
    "start_time": "2025-04-23T20:43:44.576Z"
   },
   {
    "duration": 42,
    "start_time": "2025-04-23T20:43:44.605Z"
   },
   {
    "duration": 2582,
    "start_time": "2025-04-23T20:43:44.649Z"
   },
   {
    "duration": 8,
    "start_time": "2025-04-23T20:43:47.233Z"
   },
   {
    "duration": 11313,
    "start_time": "2025-04-23T20:43:47.242Z"
   },
   {
    "duration": 24547,
    "start_time": "2025-04-23T20:45:32.082Z"
   },
   {
    "duration": 4841,
    "start_time": "2025-04-23T20:45:56.631Z"
   },
   {
    "duration": 33,
    "start_time": "2025-04-23T20:46:13.058Z"
   },
   {
    "duration": 486,
    "start_time": "2025-04-23T20:47:09.526Z"
   },
   {
    "duration": 4,
    "start_time": "2025-04-23T20:47:10.709Z"
   },
   {
    "duration": 5,
    "start_time": "2025-04-23T20:47:16.333Z"
   },
   {
    "duration": 4227,
    "start_time": "2025-04-23T20:48:17.727Z"
   },
   {
    "duration": 3511,
    "start_time": "2025-04-23T20:49:09.171Z"
   },
   {
    "duration": 2991,
    "start_time": "2025-04-23T20:49:32.954Z"
   },
   {
    "duration": 1688,
    "start_time": "2025-04-23T20:51:57.425Z"
   },
   {
    "duration": 996,
    "start_time": "2025-04-23T20:51:59.116Z"
   },
   {
    "duration": 12,
    "start_time": "2025-04-23T20:52:00.114Z"
   },
   {
    "duration": 37,
    "start_time": "2025-04-23T20:52:00.128Z"
   },
   {
    "duration": 46,
    "start_time": "2025-04-23T20:52:00.168Z"
   },
   {
    "duration": 2381,
    "start_time": "2025-04-23T20:52:00.412Z"
   },
   {
    "duration": 12,
    "start_time": "2025-04-23T20:52:02.795Z"
   },
   {
    "duration": 10534,
    "start_time": "2025-04-23T20:52:02.809Z"
   },
   {
    "duration": 6019,
    "start_time": "2025-04-23T20:52:33.353Z"
   },
   {
    "duration": 1463,
    "start_time": "2025-04-23T20:52:56.097Z"
   },
   {
    "duration": 1698,
    "start_time": "2025-04-23T20:57:26.818Z"
   },
   {
    "duration": 938,
    "start_time": "2025-04-23T20:57:28.518Z"
   },
   {
    "duration": 16,
    "start_time": "2025-04-23T20:57:29.458Z"
   },
   {
    "duration": 9,
    "start_time": "2025-04-23T20:57:29.476Z"
   },
   {
    "duration": 36,
    "start_time": "2025-04-23T20:57:29.505Z"
   },
   {
    "duration": 3162,
    "start_time": "2025-04-23T20:57:29.543Z"
   },
   {
    "duration": 8,
    "start_time": "2025-04-23T20:57:32.706Z"
   },
   {
    "duration": 10274,
    "start_time": "2025-04-23T20:57:32.716Z"
   },
   {
    "duration": 3206,
    "start_time": "2025-04-23T20:58:06.123Z"
   },
   {
    "duration": 68,
    "start_time": "2025-04-23T20:59:17.851Z"
   },
   {
    "duration": 4592,
    "start_time": "2025-04-23T21:00:37.844Z"
   },
   {
    "duration": 863,
    "start_time": "2025-04-23T21:00:56.547Z"
   },
   {
    "duration": 1048,
    "start_time": "2025-04-23T21:00:57.413Z"
   },
   {
    "duration": 13,
    "start_time": "2025-04-23T21:00:58.463Z"
   },
   {
    "duration": 7,
    "start_time": "2025-04-23T21:00:58.539Z"
   },
   {
    "duration": 36,
    "start_time": "2025-04-23T21:00:58.714Z"
   },
   {
    "duration": 2322,
    "start_time": "2025-04-23T21:01:00.284Z"
   },
   {
    "duration": 21,
    "start_time": "2025-04-23T21:01:02.608Z"
   },
   {
    "duration": 11011,
    "start_time": "2025-04-23T21:01:02.631Z"
   },
   {
    "duration": 1736,
    "start_time": "2025-04-23T21:01:39.199Z"
   },
   {
    "duration": 952,
    "start_time": "2025-04-23T21:01:40.937Z"
   },
   {
    "duration": 16,
    "start_time": "2025-04-23T21:01:41.891Z"
   },
   {
    "duration": 10,
    "start_time": "2025-04-23T21:01:41.909Z"
   },
   {
    "duration": 37,
    "start_time": "2025-04-23T21:01:41.921Z"
   },
   {
    "duration": 2354,
    "start_time": "2025-04-23T21:01:41.960Z"
   },
   {
    "duration": 6,
    "start_time": "2025-04-23T21:01:44.316Z"
   },
   {
    "duration": 10189,
    "start_time": "2025-04-23T21:01:44.324Z"
   },
   {
    "duration": 9463,
    "start_time": "2025-04-23T21:02:00.620Z"
   },
   {
    "duration": 127515,
    "start_time": "2025-04-23T21:02:33.198Z"
   },
   {
    "duration": 10893,
    "start_time": "2025-04-23T21:04:58.057Z"
   },
   {
    "duration": 1715,
    "start_time": "2025-04-23T21:09:24.901Z"
   },
   {
    "duration": 971,
    "start_time": "2025-04-23T21:09:26.618Z"
   },
   {
    "duration": 20,
    "start_time": "2025-04-23T21:09:27.592Z"
   },
   {
    "duration": 8,
    "start_time": "2025-04-23T21:09:27.613Z"
   },
   {
    "duration": 40,
    "start_time": "2025-04-23T21:09:27.622Z"
   },
   {
    "duration": 2395,
    "start_time": "2025-04-23T21:09:28.215Z"
   },
   {
    "duration": 10,
    "start_time": "2025-04-23T21:09:30.611Z"
   },
   {
    "duration": 9983,
    "start_time": "2025-04-23T21:09:30.622Z"
   },
   {
    "duration": 1750,
    "start_time": "2025-04-23T21:10:02.467Z"
   },
   {
    "duration": 965,
    "start_time": "2025-04-23T21:10:04.219Z"
   },
   {
    "duration": 22,
    "start_time": "2025-04-23T21:10:05.186Z"
   },
   {
    "duration": 9,
    "start_time": "2025-04-23T21:10:05.210Z"
   },
   {
    "duration": 45,
    "start_time": "2025-04-23T21:10:05.220Z"
   },
   {
    "duration": 2484,
    "start_time": "2025-04-23T21:10:05.267Z"
   },
   {
    "duration": 30,
    "start_time": "2025-04-23T21:10:07.753Z"
   },
   {
    "duration": 10411,
    "start_time": "2025-04-23T21:10:07.785Z"
   },
   {
    "duration": 54683,
    "start_time": "2025-04-23T21:10:18.198Z"
   },
   {
    "duration": 8461,
    "start_time": "2025-04-23T21:11:33.719Z"
   },
   {
    "duration": 4,
    "start_time": "2025-04-23T21:11:46.793Z"
   },
   {
    "duration": 41,
    "start_time": "2025-04-23T21:11:53.780Z"
   },
   {
    "duration": 1700,
    "start_time": "2025-04-23T21:13:09.378Z"
   },
   {
    "duration": 965,
    "start_time": "2025-04-23T21:13:11.080Z"
   },
   {
    "duration": 13,
    "start_time": "2025-04-23T21:13:12.047Z"
   },
   {
    "duration": 8,
    "start_time": "2025-04-23T21:13:12.062Z"
   },
   {
    "duration": 84,
    "start_time": "2025-04-23T21:13:12.072Z"
   },
   {
    "duration": 2393,
    "start_time": "2025-04-23T21:13:12.323Z"
   },
   {
    "duration": 23,
    "start_time": "2025-04-23T21:13:14.719Z"
   },
   {
    "duration": 10409,
    "start_time": "2025-04-23T21:13:14.744Z"
   },
   {
    "duration": 10508,
    "start_time": "2025-04-23T21:13:25.155Z"
   },
   {
    "duration": 83,
    "start_time": "2025-04-23T21:13:35.665Z"
   },
   {
    "duration": 5956,
    "start_time": "2025-04-23T21:14:28.448Z"
   },
   {
    "duration": 67,
    "start_time": "2025-04-23T21:14:34.407Z"
   },
   {
    "duration": 4,
    "start_time": "2025-04-23T21:17:00.706Z"
   },
   {
    "duration": 5656,
    "start_time": "2025-04-23T21:17:21.932Z"
   },
   {
    "duration": 15,
    "start_time": "2025-04-23T21:17:27.591Z"
   },
   {
    "duration": 2159,
    "start_time": "2025-04-23T21:18:28.961Z"
   },
   {
    "duration": 5916,
    "start_time": "2025-04-23T21:18:53.788Z"
   },
   {
    "duration": 4,
    "start_time": "2025-04-23T21:18:59.706Z"
   },
   {
    "duration": 5942,
    "start_time": "2025-04-23T21:19:30.833Z"
   },
   {
    "duration": 11036,
    "start_time": "2025-04-23T21:20:25.168Z"
   },
   {
    "duration": 10326,
    "start_time": "2025-04-23T21:21:33.521Z"
   },
   {
    "duration": 5,
    "start_time": "2025-04-23T21:21:44.813Z"
   },
   {
    "duration": 6,
    "start_time": "2025-04-23T21:21:48.231Z"
   },
   {
    "duration": 5840,
    "start_time": "2025-04-23T21:21:51.008Z"
   },
   {
    "duration": 4,
    "start_time": "2025-04-23T21:21:56.850Z"
   },
   {
    "duration": 1688,
    "start_time": "2025-04-23T21:22:42.800Z"
   },
   {
    "duration": 932,
    "start_time": "2025-04-23T21:22:44.490Z"
   },
   {
    "duration": 12,
    "start_time": "2025-04-23T21:22:45.424Z"
   },
   {
    "duration": 16,
    "start_time": "2025-04-23T21:22:45.437Z"
   },
   {
    "duration": 39,
    "start_time": "2025-04-23T21:22:45.455Z"
   },
   {
    "duration": 2366,
    "start_time": "2025-04-23T21:22:45.616Z"
   },
   {
    "duration": 5,
    "start_time": "2025-04-23T21:22:47.984Z"
   },
   {
    "duration": 10194,
    "start_time": "2025-04-23T21:22:47.991Z"
   },
   {
    "duration": 8617,
    "start_time": "2025-04-23T21:22:58.187Z"
   },
   {
    "duration": 364,
    "start_time": "2025-04-23T21:23:08.352Z"
   },
   {
    "duration": 3544,
    "start_time": "2025-04-23T21:23:49.807Z"
   },
   {
    "duration": 1418,
    "start_time": "2025-04-23T21:24:27.432Z"
   },
   {
    "duration": 1257,
    "start_time": "2025-04-23T21:24:57.290Z"
   },
   {
    "duration": 3485,
    "start_time": "2025-04-23T21:25:11.563Z"
   },
   {
    "duration": 2705,
    "start_time": "2025-04-23T21:25:45.260Z"
   },
   {
    "duration": 2631,
    "start_time": "2025-04-23T21:25:51.411Z"
   },
   {
    "duration": 5823,
    "start_time": "2025-04-23T21:26:07.954Z"
   },
   {
    "duration": 27,
    "start_time": "2025-04-23T21:26:13.779Z"
   },
   {
    "duration": 6,
    "start_time": "2025-04-23T21:26:33.040Z"
   },
   {
    "duration": 7,
    "start_time": "2025-04-23T21:26:43.942Z"
   },
   {
    "duration": 5783,
    "start_time": "2025-04-23T21:27:17.157Z"
   },
   {
    "duration": 13,
    "start_time": "2025-04-23T21:27:30.016Z"
   },
   {
    "duration": 4,
    "start_time": "2025-04-23T21:28:00.245Z"
   },
   {
    "duration": 22,
    "start_time": "2025-04-23T21:28:08.578Z"
   },
   {
    "duration": 4,
    "start_time": "2025-04-23T21:28:12.412Z"
   },
   {
    "duration": 808,
    "start_time": "2025-04-23T21:28:12.612Z"
   },
   {
    "duration": 9,
    "start_time": "2025-04-23T21:28:13.422Z"
   },
   {
    "duration": 7,
    "start_time": "2025-04-23T21:28:13.976Z"
   },
   {
    "duration": 33,
    "start_time": "2025-04-23T21:28:14.171Z"
   },
   {
    "duration": 50,
    "start_time": "2025-04-23T21:28:19.157Z"
   },
   {
    "duration": 4694,
    "start_time": "2025-04-23T21:28:25.493Z"
   },
   {
    "duration": 17,
    "start_time": "2025-04-23T21:28:50.730Z"
   },
   {
    "duration": 870,
    "start_time": "2025-04-23T21:28:53.603Z"
   },
   {
    "duration": 961,
    "start_time": "2025-04-23T21:28:54.783Z"
   },
   {
    "duration": 12,
    "start_time": "2025-04-23T21:28:56.705Z"
   },
   {
    "duration": 8,
    "start_time": "2025-04-23T21:28:57.181Z"
   },
   {
    "duration": 38,
    "start_time": "2025-04-23T21:28:57.789Z"
   },
   {
    "duration": 2467,
    "start_time": "2025-04-23T21:28:59.749Z"
   },
   {
    "duration": 3,
    "start_time": "2025-04-23T21:29:03.153Z"
   },
   {
    "duration": 10372,
    "start_time": "2025-04-23T21:29:03.501Z"
   },
   {
    "duration": 159080,
    "start_time": "2025-04-23T21:29:13.875Z"
   },
   {
    "duration": 44093,
    "start_time": "2025-04-23T21:32:34.442Z"
   },
   {
    "duration": 69395,
    "start_time": "2025-04-23T21:33:21.295Z"
   },
   {
    "duration": 5710,
    "start_time": "2025-04-23T21:34:36.930Z"
   },
   {
    "duration": 43,
    "start_time": "2025-04-23T21:34:42.642Z"
   },
   {
    "duration": 10,
    "start_time": "2025-04-23T21:35:19.027Z"
   },
   {
    "duration": 4,
    "start_time": "2025-04-23T21:35:22.039Z"
   },
   {
    "duration": 1684,
    "start_time": "2025-04-23T21:41:48.909Z"
   },
   {
    "duration": 910,
    "start_time": "2025-04-23T21:41:50.595Z"
   },
   {
    "duration": 11,
    "start_time": "2025-04-23T21:41:51.506Z"
   },
   {
    "duration": 6,
    "start_time": "2025-04-23T21:41:51.519Z"
   },
   {
    "duration": 33,
    "start_time": "2025-04-23T21:41:51.527Z"
   },
   {
    "duration": 2385,
    "start_time": "2025-04-23T21:41:51.562Z"
   },
   {
    "duration": 4,
    "start_time": "2025-04-23T21:41:53.949Z"
   },
   {
    "duration": 10451,
    "start_time": "2025-04-23T21:41:53.956Z"
   },
   {
    "duration": 8881,
    "start_time": "2025-04-23T21:42:05.706Z"
   },
   {
    "duration": 52,
    "start_time": "2025-04-23T21:42:14.589Z"
   },
   {
    "duration": 6,
    "start_time": "2025-04-23T21:42:18.656Z"
   },
   {
    "duration": 3,
    "start_time": "2025-04-23T21:43:00.877Z"
   },
   {
    "duration": 12,
    "start_time": "2025-04-23T21:43:04.376Z"
   },
   {
    "duration": 4,
    "start_time": "2025-04-23T21:43:12.508Z"
   },
   {
    "duration": 11,
    "start_time": "2025-04-23T21:43:18.780Z"
   },
   {
    "duration": 6,
    "start_time": "2025-04-23T21:43:45.095Z"
   },
   {
    "duration": 4,
    "start_time": "2025-04-23T21:43:49.369Z"
   },
   {
    "duration": 5,
    "start_time": "2025-04-23T21:43:55.075Z"
   },
   {
    "duration": 2097,
    "start_time": "2025-04-24T11:41:13.364Z"
   },
   {
    "duration": 976,
    "start_time": "2025-04-24T11:41:15.463Z"
   },
   {
    "duration": 12,
    "start_time": "2025-04-24T11:41:16.441Z"
   },
   {
    "duration": 7,
    "start_time": "2025-04-24T11:41:16.455Z"
   },
   {
    "duration": 34,
    "start_time": "2025-04-24T11:41:17.074Z"
   },
   {
    "duration": 2310,
    "start_time": "2025-04-24T11:41:23.343Z"
   },
   {
    "duration": 7,
    "start_time": "2025-04-24T11:41:25.655Z"
   },
   {
    "duration": 10254,
    "start_time": "2025-04-24T11:41:25.664Z"
   },
   {
    "duration": 1631214,
    "start_time": "2025-04-24T11:41:36.150Z"
   },
   {
    "duration": 1675,
    "start_time": "2025-04-25T09:46:43.186Z"
   },
   {
    "duration": 905,
    "start_time": "2025-04-25T09:46:44.863Z"
   },
   {
    "duration": 11,
    "start_time": "2025-04-25T09:46:45.769Z"
   },
   {
    "duration": 6,
    "start_time": "2025-04-25T09:46:45.782Z"
   },
   {
    "duration": 33,
    "start_time": "2025-04-25T09:46:45.790Z"
   },
   {
    "duration": 128,
    "start_time": "2025-04-25T09:47:01.043Z"
   },
   {
    "duration": 10,
    "start_time": "2025-04-25T09:47:12.435Z"
   },
   {
    "duration": 49,
    "start_time": "2025-04-25T09:48:36.866Z"
   },
   {
    "duration": 11,
    "start_time": "2025-04-25T09:48:47.069Z"
   },
   {
    "duration": 257,
    "start_time": "2025-04-25T09:49:04.933Z"
   },
   {
    "duration": 6,
    "start_time": "2025-04-25T09:49:11.815Z"
   },
   {
    "duration": 2285,
    "start_time": "2025-04-25T09:49:20.745Z"
   },
   {
    "duration": 4,
    "start_time": "2025-04-25T09:49:34.558Z"
   },
   {
    "duration": 789,
    "start_time": "2025-04-25T09:49:34.808Z"
   },
   {
    "duration": 7,
    "start_time": "2025-04-25T09:49:35.599Z"
   },
   {
    "duration": 7,
    "start_time": "2025-04-25T09:49:36.576Z"
   },
   {
    "duration": 31,
    "start_time": "2025-04-25T09:49:36.778Z"
   },
   {
    "duration": 7,
    "start_time": "2025-04-25T09:49:44.972Z"
   },
   {
    "duration": 1601,
    "start_time": "2025-04-25T09:50:19.736Z"
   },
   {
    "duration": 871,
    "start_time": "2025-04-25T09:50:21.338Z"
   },
   {
    "duration": 11,
    "start_time": "2025-04-25T09:50:22.210Z"
   },
   {
    "duration": 22,
    "start_time": "2025-04-25T09:50:22.222Z"
   },
   {
    "duration": 31,
    "start_time": "2025-04-25T09:50:22.245Z"
   },
   {
    "duration": 2131,
    "start_time": "2025-04-25T09:50:22.277Z"
   },
   {
    "duration": 3,
    "start_time": "2025-04-25T09:50:26.784Z"
   },
   {
    "duration": 9486,
    "start_time": "2025-04-25T09:50:30.751Z"
   },
   {
    "duration": 116,
    "start_time": "2025-04-25T09:50:52.560Z"
   },
   {
    "duration": 4,
    "start_time": "2025-04-25T09:50:58.800Z"
   },
   {
    "duration": 6,
    "start_time": "2025-04-25T09:51:31.829Z"
   },
   {
    "duration": 815,
    "start_time": "2025-04-25T09:51:32.010Z"
   },
   {
    "duration": 11,
    "start_time": "2025-04-25T09:51:32.827Z"
   },
   {
    "duration": 10,
    "start_time": "2025-04-25T09:51:32.840Z"
   },
   {
    "duration": 30,
    "start_time": "2025-04-25T09:51:34.460Z"
   },
   {
    "duration": 7,
    "start_time": "2025-04-25T09:51:39.247Z"
   },
   {
    "duration": 43,
    "start_time": "2025-04-25T09:51:39.256Z"
   },
   {
    "duration": 1554,
    "start_time": "2025-04-25T09:51:43.471Z"
   },
   {
    "duration": 883,
    "start_time": "2025-04-25T09:51:45.027Z"
   },
   {
    "duration": 11,
    "start_time": "2025-04-25T09:51:45.911Z"
   },
   {
    "duration": 6,
    "start_time": "2025-04-25T09:51:45.923Z"
   },
   {
    "duration": 33,
    "start_time": "2025-04-25T09:51:45.931Z"
   },
   {
    "duration": 2397,
    "start_time": "2025-04-25T09:51:49.028Z"
   },
   {
    "duration": 3,
    "start_time": "2025-04-25T09:51:52.723Z"
   },
   {
    "duration": 86,
    "start_time": "2025-04-25T09:52:05.866Z"
   },
   {
    "duration": 11,
    "start_time": "2025-04-25T09:52:20.253Z"
   },
   {
    "duration": 10,
    "start_time": "2025-04-25T09:52:53.006Z"
   },
   {
    "duration": 12,
    "start_time": "2025-04-25T09:53:11.852Z"
   },
   {
    "duration": 11,
    "start_time": "2025-04-25T09:53:19.768Z"
   },
   {
    "duration": 11161,
    "start_time": "2025-04-25T10:20:54.409Z"
   },
   {
    "duration": 32311,
    "start_time": "2025-04-25T10:21:11.228Z"
   },
   {
    "duration": 10540,
    "start_time": "2025-04-25T10:23:26.302Z"
   },
   {
    "duration": 4,
    "start_time": "2025-04-25T10:23:39.298Z"
   },
   {
    "duration": 3,
    "start_time": "2025-04-25T10:23:45.278Z"
   },
   {
    "duration": 4,
    "start_time": "2025-04-25T10:23:50.840Z"
   },
   {
    "duration": 1464591,
    "start_time": "2025-04-25T10:24:35.063Z"
   },
   {
    "duration": 18,
    "start_time": "2025-04-25T10:52:11.503Z"
   },
   {
    "duration": 41,
    "start_time": "2025-04-25T10:52:16.403Z"
   },
   {
    "duration": 4,
    "start_time": "2025-04-25T10:52:25.558Z"
   },
   {
    "duration": 4,
    "start_time": "2025-04-25T10:52:30.827Z"
   },
   {
    "duration": 4,
    "start_time": "2025-04-25T10:52:34.571Z"
   },
   {
    "duration": 4,
    "start_time": "2025-04-25T10:52:39.296Z"
   },
   {
    "duration": 4,
    "start_time": "2025-04-25T10:52:50.472Z"
   },
   {
    "duration": 4,
    "start_time": "2025-04-25T10:53:11.678Z"
   },
   {
    "duration": 208,
    "start_time": "2025-04-25T10:53:39.373Z"
   },
   {
    "duration": 20,
    "start_time": "2025-04-25T10:53:43.673Z"
   },
   {
    "duration": 18,
    "start_time": "2025-04-25T10:53:53.359Z"
   },
   {
    "duration": 4,
    "start_time": "2025-04-25T10:53:58.131Z"
   },
   {
    "duration": 5,
    "start_time": "2025-04-25T10:54:21.601Z"
   },
   {
    "duration": 4,
    "start_time": "2025-04-25T11:02:12.496Z"
   },
   {
    "duration": 24,
    "start_time": "2025-04-25T11:02:30.621Z"
   },
   {
    "duration": 1478,
    "start_time": "2025-04-25T11:03:20.435Z"
   },
   {
    "duration": 27,
    "start_time": "2025-04-25T11:03:46.689Z"
   },
   {
    "duration": 1751,
    "start_time": "2025-04-25T11:04:06.214Z"
   },
   {
    "duration": 1300,
    "start_time": "2025-04-25T11:04:12.606Z"
   },
   {
    "duration": 38,
    "start_time": "2025-04-25T11:06:50.783Z"
   },
   {
    "duration": 48,
    "start_time": "2025-04-25T11:09:34.789Z"
   },
   {
    "duration": 5,
    "start_time": "2025-04-25T11:09:37.714Z"
   },
   {
    "duration": 25,
    "start_time": "2025-04-25T11:11:03.196Z"
   },
   {
    "duration": 20,
    "start_time": "2025-04-25T11:11:12.637Z"
   },
   {
    "duration": 17,
    "start_time": "2025-04-25T11:11:53.448Z"
   },
   {
    "duration": 19,
    "start_time": "2025-04-25T11:11:57.375Z"
   },
   {
    "duration": 6,
    "start_time": "2025-04-25T11:12:07.011Z"
   },
   {
    "duration": 29,
    "start_time": "2025-04-25T11:12:08.217Z"
   },
   {
    "duration": 35,
    "start_time": "2025-04-25T11:12:29.889Z"
   },
   {
    "duration": 16,
    "start_time": "2025-04-25T11:12:33.690Z"
   },
   {
    "duration": 7,
    "start_time": "2025-04-25T11:12:42.885Z"
   },
   {
    "duration": 18,
    "start_time": "2025-04-25T11:12:44.955Z"
   },
   {
    "duration": 29,
    "start_time": "2025-04-25T11:13:44.054Z"
   },
   {
    "duration": 21,
    "start_time": "2025-04-25T11:13:46.524Z"
   },
   {
    "duration": 6,
    "start_time": "2025-04-25T11:14:18.147Z"
   },
   {
    "duration": 6,
    "start_time": "2025-04-25T11:14:23.813Z"
   },
   {
    "duration": 15,
    "start_time": "2025-04-25T11:14:37.385Z"
   },
   {
    "duration": 16,
    "start_time": "2025-04-25T11:15:20.690Z"
   },
   {
    "duration": 9,
    "start_time": "2025-04-25T11:16:23.008Z"
   },
   {
    "duration": 18,
    "start_time": "2025-04-25T11:16:28.877Z"
   },
   {
    "duration": 8293,
    "start_time": "2025-04-25T11:17:47.569Z"
   },
   {
    "duration": 3,
    "start_time": "2025-04-25T11:18:45.684Z"
   },
   {
    "duration": 6772,
    "start_time": "2025-04-25T11:18:46.394Z"
   },
   {
    "duration": 94,
    "start_time": "2025-04-25T11:19:18.318Z"
   },
   {
    "duration": 7139,
    "start_time": "2025-04-25T11:19:19.258Z"
   },
   {
    "duration": 3,
    "start_time": "2025-04-25T11:19:31.427Z"
   },
   {
    "duration": 7019,
    "start_time": "2025-04-25T11:19:31.940Z"
   },
   {
    "duration": 3,
    "start_time": "2025-04-25T11:20:03.790Z"
   },
   {
    "duration": 7022,
    "start_time": "2025-04-25T11:20:04.410Z"
   },
   {
    "duration": 6934,
    "start_time": "2025-04-25T11:20:23.283Z"
   },
   {
    "duration": 7262,
    "start_time": "2025-04-25T11:20:43.977Z"
   },
   {
    "duration": 35,
    "start_time": "2025-04-25T11:20:52.591Z"
   },
   {
    "duration": 17,
    "start_time": "2025-04-25T11:21:47.683Z"
   },
   {
    "duration": 13,
    "start_time": "2025-04-25T11:21:55.181Z"
   },
   {
    "duration": 18,
    "start_time": "2025-04-25T11:22:08.466Z"
   },
   {
    "duration": 23,
    "start_time": "2025-04-25T11:22:44.249Z"
   },
   {
    "duration": 15,
    "start_time": "2025-04-25T11:23:02.019Z"
   },
   {
    "duration": 5578,
    "start_time": "2025-04-25T11:24:24.632Z"
   },
   {
    "duration": 3,
    "start_time": "2025-04-25T11:24:45.786Z"
   },
   {
    "duration": 5,
    "start_time": "2025-04-25T11:24:48.597Z"
   },
   {
    "duration": 20,
    "start_time": "2025-04-25T11:25:02.737Z"
   },
   {
    "duration": 17,
    "start_time": "2025-04-25T11:25:07.905Z"
   },
   {
    "duration": 27,
    "start_time": "2025-04-25T11:25:15.249Z"
   },
   {
    "duration": 144,
    "start_time": "2025-04-25T11:27:23.218Z"
   },
   {
    "duration": 151,
    "start_time": "2025-04-25T11:34:11.549Z"
   },
   {
    "duration": 136,
    "start_time": "2025-04-25T11:34:50.132Z"
   },
   {
    "duration": 2,
    "start_time": "2025-04-25T11:53:04.512Z"
   },
   {
    "duration": 9829,
    "start_time": "2025-04-25T11:53:05.097Z"
   },
   {
    "duration": 3,
    "start_time": "2025-04-25T11:53:43.020Z"
   },
   {
    "duration": 5,
    "start_time": "2025-04-25T11:53:46.523Z"
   },
   {
    "duration": 4,
    "start_time": "2025-04-25T11:53:50.660Z"
   },
   {
    "duration": 3,
    "start_time": "2025-04-25T11:54:15.022Z"
   },
   {
    "duration": 5608,
    "start_time": "2025-04-25T11:54:18.693Z"
   },
   {
    "duration": 32,
    "start_time": "2025-04-25T11:54:24.303Z"
   },
   {
    "duration": 17,
    "start_time": "2025-04-25T11:54:25.535Z"
   },
   {
    "duration": 23,
    "start_time": "2025-04-25T11:55:25.621Z"
   },
   {
    "duration": 2233229,
    "start_time": "2025-04-25T11:55:58.581Z"
   },
   {
    "duration": 41,
    "start_time": "2025-04-25T12:33:11.812Z"
   },
   {
    "duration": 66,
    "start_time": "2025-04-25T12:33:11.856Z"
   },
   {
    "duration": 4,
    "start_time": "2025-04-25T12:33:11.924Z"
   },
   {
    "duration": 1652,
    "start_time": "2025-04-25T12:47:47.937Z"
   },
   {
    "duration": 4,
    "start_time": "2025-04-25T12:47:49.593Z"
   },
   {
    "duration": 6,
    "start_time": "2025-04-25T12:47:49.598Z"
   },
   {
    "duration": 899,
    "start_time": "2025-04-25T12:47:50.587Z"
   },
   {
    "duration": 12,
    "start_time": "2025-04-25T12:47:51.488Z"
   },
   {
    "duration": 8,
    "start_time": "2025-04-25T12:47:51.501Z"
   },
   {
    "duration": 34,
    "start_time": "2025-04-25T12:47:52.318Z"
   },
   {
    "duration": 114,
    "start_time": "2025-04-25T12:47:53.183Z"
   },
   {
    "duration": 4,
    "start_time": "2025-04-25T12:47:58.372Z"
   },
   {
    "duration": 3,
    "start_time": "2025-04-25T12:48:10.560Z"
   },
   {
    "duration": 5647,
    "start_time": "2025-04-25T12:48:11.224Z"
   },
   {
    "duration": 13,
    "start_time": "2025-04-25T12:48:16.873Z"
   },
   {
    "duration": 219,
    "start_time": "2025-04-25T12:48:33.499Z"
   },
   {
    "duration": 61,
    "start_time": "2025-04-25T12:48:42.392Z"
   },
   {
    "duration": 124,
    "start_time": "2025-04-25T12:48:47.056Z"
   },
   {
    "duration": 4,
    "start_time": "2025-04-25T12:48:56.136Z"
   },
   {
    "duration": 84,
    "start_time": "2025-04-25T12:49:02.214Z"
   },
   {
    "duration": 82,
    "start_time": "2025-04-25T12:50:15.596Z"
   },
   {
    "duration": 13,
    "start_time": "2025-04-25T12:50:20.150Z"
   },
   {
    "duration": 6,
    "start_time": "2025-04-25T12:51:08.105Z"
   },
   {
    "duration": 15,
    "start_time": "2025-04-25T12:51:15.060Z"
   },
   {
    "duration": 50,
    "start_time": "2025-04-25T12:52:19.366Z"
   },
   {
    "duration": 18,
    "start_time": "2025-04-25T12:52:23.648Z"
   },
   {
    "duration": 14,
    "start_time": "2025-04-25T12:52:36.872Z"
   },
   {
    "duration": 5,
    "start_time": "2025-04-25T12:53:07.686Z"
   },
   {
    "duration": 16,
    "start_time": "2025-04-25T12:53:10.590Z"
   },
   {
    "duration": 106,
    "start_time": "2025-04-25T13:16:55.000Z"
   },
   {
    "duration": 127,
    "start_time": "2025-04-25T13:16:59.248Z"
   },
   {
    "duration": 9,
    "start_time": "2025-04-25T13:18:02.628Z"
   },
   {
    "duration": 10,
    "start_time": "2025-04-25T13:18:11.573Z"
   },
   {
    "duration": 13,
    "start_time": "2025-04-25T13:18:21.713Z"
   },
   {
    "duration": 17,
    "start_time": "2025-04-25T13:18:32.429Z"
   },
   {
    "duration": 17,
    "start_time": "2025-04-25T13:19:14.324Z"
   },
   {
    "duration": 6,
    "start_time": "2025-04-25T13:22:59.662Z"
   },
   {
    "duration": 5,
    "start_time": "2025-04-25T13:23:06.476Z"
   },
   {
    "duration": 16,
    "start_time": "2025-04-25T13:23:28.254Z"
   },
   {
    "duration": 121,
    "start_time": "2025-04-25T13:23:46.178Z"
   },
   {
    "duration": 6,
    "start_time": "2025-04-25T13:24:35.144Z"
   },
   {
    "duration": 9,
    "start_time": "2025-04-25T13:37:03.717Z"
   },
   {
    "duration": 9,
    "start_time": "2025-04-25T13:37:07.248Z"
   },
   {
    "duration": 13,
    "start_time": "2025-04-25T13:37:18.215Z"
   },
   {
    "duration": 63,
    "start_time": "2025-04-25T13:37:26.560Z"
   },
   {
    "duration": 14,
    "start_time": "2025-04-25T13:37:26.815Z"
   },
   {
    "duration": 8,
    "start_time": "2025-04-25T13:37:30.049Z"
   },
   {
    "duration": 8,
    "start_time": "2025-04-25T13:37:33.397Z"
   },
   {
    "duration": 5,
    "start_time": "2025-04-25T13:37:37.193Z"
   },
   {
    "duration": 108,
    "start_time": "2025-04-25T13:37:58.470Z"
   },
   {
    "duration": 14,
    "start_time": "2025-04-25T13:38:27.790Z"
   },
   {
    "duration": 5,
    "start_time": "2025-04-25T13:38:34.651Z"
   },
   {
    "duration": 5,
    "start_time": "2025-04-25T13:38:40.183Z"
   },
   {
    "duration": 13,
    "start_time": "2025-04-25T13:38:52.891Z"
   },
   {
    "duration": 112,
    "start_time": "2025-04-25T13:39:30.073Z"
   },
   {
    "duration": 9099,
    "start_time": "2025-04-25T13:41:05.223Z"
   },
   {
    "duration": 23535,
    "start_time": "2025-04-25T13:41:22.412Z"
   },
   {
    "duration": 4,
    "start_time": "2025-04-25T13:42:11.780Z"
   },
   {
    "duration": 119,
    "start_time": "2025-04-25T13:42:25.647Z"
   },
   {
    "duration": 20958,
    "start_time": "2025-04-25T13:42:53.893Z"
   },
   {
    "duration": 5,
    "start_time": "2025-04-25T13:43:14.854Z"
   },
   {
    "duration": 117473,
    "start_time": "2025-04-25T13:43:54.681Z"
   },
   {
    "duration": 1769,
    "start_time": "2025-04-25T13:46:16.527Z"
   },
   {
    "duration": 3,
    "start_time": "2025-04-25T13:46:18.297Z"
   },
   {
    "duration": 935,
    "start_time": "2025-04-25T13:46:18.301Z"
   },
   {
    "duration": 10,
    "start_time": "2025-04-25T13:46:19.515Z"
   },
   {
    "duration": 7,
    "start_time": "2025-04-25T13:46:20.724Z"
   },
   {
    "duration": 33,
    "start_time": "2025-04-25T13:46:20.749Z"
   },
   {
    "duration": 120,
    "start_time": "2025-04-25T13:46:23.345Z"
   },
   {
    "duration": 3,
    "start_time": "2025-04-25T13:46:32.599Z"
   },
   {
    "duration": 5584,
    "start_time": "2025-04-25T13:46:33.081Z"
   },
   {
    "duration": 13,
    "start_time": "2025-04-25T13:46:39.648Z"
   },
   {
    "duration": 134,
    "start_time": "2025-04-25T13:46:50.466Z"
   },
   {
    "duration": 3361,
    "start_time": "2025-04-25T13:46:54.955Z"
   },
   {
    "duration": 70,
    "start_time": "2025-04-25T13:47:02.271Z"
   },
   {
    "duration": 20047,
    "start_time": "2025-04-25T13:47:04.421Z"
   },
   {
    "duration": 4,
    "start_time": "2025-04-25T13:47:24.470Z"
   },
   {
    "duration": 4,
    "start_time": "2025-04-25T13:47:54.189Z"
   },
   {
    "duration": 103,
    "start_time": "2025-04-25T13:47:58.040Z"
   },
   {
    "duration": 7404,
    "start_time": "2025-04-25T13:47:58.405Z"
   },
   {
    "duration": 4,
    "start_time": "2025-04-25T13:48:05.811Z"
   },
   {
    "duration": 2105,
    "start_time": "2025-04-28T22:19:53.266Z"
   },
   {
    "duration": 3,
    "start_time": "2025-04-28T22:19:55.374Z"
   },
   {
    "duration": 974,
    "start_time": "2025-04-28T22:19:55.379Z"
   },
   {
    "duration": 11,
    "start_time": "2025-04-28T22:19:57.363Z"
   },
   {
    "duration": 7,
    "start_time": "2025-04-28T22:19:58.243Z"
   },
   {
    "duration": 35,
    "start_time": "2025-04-28T22:19:58.902Z"
   },
   {
    "duration": 131,
    "start_time": "2025-04-28T22:20:01.831Z"
   },
   {
    "duration": 3,
    "start_time": "2025-04-28T22:25:31.284Z"
   },
   {
    "duration": 138,
    "start_time": "2025-04-28T22:25:32.176Z"
   },
   {
    "duration": 6289,
    "start_time": "2025-04-28T22:25:38.045Z"
   },
   {
    "duration": 14,
    "start_time": "2025-04-28T22:26:21.398Z"
   },
   {
    "duration": 212,
    "start_time": "2025-04-28T22:27:29.418Z"
   },
   {
    "duration": 3,
    "start_time": "2025-04-28T22:27:34.501Z"
   },
   {
    "duration": 49854,
    "start_time": "2025-04-28T22:27:40.116Z"
   },
   {
    "duration": 15,
    "start_time": "2025-04-28T22:28:31.636Z"
   },
   {
    "duration": 9,
    "start_time": "2025-04-28T22:28:48.304Z"
   },
   {
    "duration": 4,
    "start_time": "2025-04-28T22:28:53.047Z"
   },
   {
    "duration": 81,
    "start_time": "2025-04-28T22:29:05.316Z"
   },
   {
    "duration": 175,
    "start_time": "2025-04-28T22:31:35.344Z"
   },
   {
    "duration": 6,
    "start_time": "2025-04-28T22:31:36.637Z"
   },
   {
    "duration": 111,
    "start_time": "2025-04-28T22:31:38.988Z"
   },
   {
    "duration": 6,
    "start_time": "2025-04-28T22:31:39.218Z"
   },
   {
    "duration": 105,
    "start_time": "2025-04-28T22:38:15.134Z"
   },
   {
    "duration": 7,
    "start_time": "2025-04-28T22:38:21.307Z"
   },
   {
    "duration": 8,
    "start_time": "2025-04-28T22:38:28.615Z"
   },
   {
    "duration": 14,
    "start_time": "2025-04-28T22:47:57.997Z"
   },
   {
    "duration": 19,
    "start_time": "2025-04-28T22:50:15.588Z"
   },
   {
    "duration": 13,
    "start_time": "2025-04-28T22:50:23.461Z"
   },
   {
    "duration": 70,
    "start_time": "2025-04-28T22:50:36.716Z"
   },
   {
    "duration": 7255,
    "start_time": "2025-04-28T22:50:54.660Z"
   },
   {
    "duration": 4,
    "start_time": "2025-04-28T22:51:01.917Z"
   },
   {
    "duration": 1806,
    "start_time": "2025-04-28T23:07:52.831Z"
   },
   {
    "duration": 3,
    "start_time": "2025-04-28T23:07:54.639Z"
   },
   {
    "duration": 986,
    "start_time": "2025-04-28T23:07:54.643Z"
   },
   {
    "duration": 11,
    "start_time": "2025-04-28T23:07:55.631Z"
   },
   {
    "duration": 7,
    "start_time": "2025-04-28T23:07:55.645Z"
   },
   {
    "duration": 56,
    "start_time": "2025-04-28T23:07:55.653Z"
   },
   {
    "duration": 145,
    "start_time": "2025-04-28T23:07:55.711Z"
   },
   {
    "duration": 8,
    "start_time": "2025-04-28T23:07:55.858Z"
   },
   {
    "duration": 3,
    "start_time": "2025-04-28T23:07:55.868Z"
   },
   {
    "duration": 6339,
    "start_time": "2025-04-28T23:07:55.872Z"
   },
   {
    "duration": 141,
    "start_time": "2025-04-28T23:08:02.212Z"
   },
   {
    "duration": 3,
    "start_time": "2025-04-28T23:08:02.355Z"
   },
   {
    "duration": 50180,
    "start_time": "2025-04-28T23:08:02.360Z"
   },
   {
    "duration": 9,
    "start_time": "2025-04-28T23:08:52.543Z"
   },
   {
    "duration": 10,
    "start_time": "2025-04-28T23:08:52.553Z"
   },
   {
    "duration": 91,
    "start_time": "2025-04-28T23:08:52.564Z"
   },
   {
    "duration": 9,
    "start_time": "2025-04-28T23:08:52.657Z"
   },
   {
    "duration": 19,
    "start_time": "2025-04-28T23:08:52.668Z"
   },
   {
    "duration": 116,
    "start_time": "2025-04-28T23:08:52.689Z"
   },
   {
    "duration": 7,
    "start_time": "2025-04-28T23:08:52.807Z"
   },
   {
    "duration": 77,
    "start_time": "2025-04-28T23:08:52.816Z"
   },
   {
    "duration": 7240,
    "start_time": "2025-04-28T23:08:52.895Z"
   },
   {
    "duration": 5,
    "start_time": "2025-04-28T23:09:00.137Z"
   },
   {
    "duration": 20,
    "start_time": "2025-04-28T23:09:04.666Z"
   },
   {
    "duration": 1375,
    "start_time": "2025-04-28T23:09:05.357Z"
   },
   {
    "duration": 4,
    "start_time": "2025-04-28T23:09:06.735Z"
   },
   {
    "duration": 3311535,
    "start_time": "2025-04-28T23:09:43.530Z"
   },
   {
    "duration": 5,
    "start_time": "2025-04-29T00:54:27.224Z"
   },
   {
    "duration": 55,
    "start_time": "2025-04-29T00:54:27.231Z"
   },
   {
    "duration": 942,
    "start_time": "2025-04-29T00:54:27.288Z"
   },
   {
    "duration": 8,
    "start_time": "2025-04-29T00:54:28.232Z"
   },
   {
    "duration": 9,
    "start_time": "2025-04-29T00:54:28.242Z"
   },
   {
    "duration": 34,
    "start_time": "2025-04-29T00:54:28.252Z"
   },
   {
    "duration": 133,
    "start_time": "2025-04-29T00:54:28.306Z"
   },
   {
    "duration": 7,
    "start_time": "2025-04-29T00:54:28.441Z"
   },
   {
    "duration": 4,
    "start_time": "2025-04-29T00:54:28.449Z"
   },
   {
    "duration": 6405,
    "start_time": "2025-04-29T00:54:28.454Z"
   },
   {
    "duration": 205,
    "start_time": "2025-04-29T00:54:34.861Z"
   },
   {
    "duration": 4,
    "start_time": "2025-04-29T00:54:35.067Z"
   },
   {
    "duration": 48777,
    "start_time": "2025-04-29T00:54:35.073Z"
   },
   {
    "duration": 9,
    "start_time": "2025-04-29T00:55:23.853Z"
   },
   {
    "duration": 12,
    "start_time": "2025-04-29T00:55:23.864Z"
   },
   {
    "duration": 90,
    "start_time": "2025-04-29T00:55:23.878Z"
   },
   {
    "duration": 33,
    "start_time": "2025-04-29T00:55:23.970Z"
   },
   {
    "duration": 6,
    "start_time": "2025-04-29T00:55:24.004Z"
   },
   {
    "duration": 104,
    "start_time": "2025-04-29T00:55:24.011Z"
   },
   {
    "duration": 5,
    "start_time": "2025-04-29T00:55:24.117Z"
   },
   {
    "duration": 25,
    "start_time": "2025-04-29T00:55:24.124Z"
   },
   {
    "duration": 1371,
    "start_time": "2025-04-29T00:55:24.150Z"
   },
   {
    "duration": 4,
    "start_time": "2025-04-29T00:55:25.523Z"
   },
   {
    "duration": 292052,
    "start_time": "2025-04-29T00:55:25.529Z"
   },
   {
    "duration": 27291,
    "start_time": "2025-04-29T01:06:00.352Z"
   },
   {
    "duration": 554098,
    "start_time": "2025-04-29T01:06:43.210Z"
   },
   {
    "duration": 11,
    "start_time": "2025-04-29T01:18:06.019Z"
   },
   {
    "duration": 10,
    "start_time": "2025-04-29T01:18:13.578Z"
   },
   {
    "duration": 4,
    "start_time": "2025-04-29T01:18:22.943Z"
   },
   {
    "duration": 9,
    "start_time": "2025-04-29T01:18:48.999Z"
   },
   {
    "duration": 12,
    "start_time": "2025-04-29T01:19:15.908Z"
   },
   {
    "duration": 266,
    "start_time": "2025-04-29T01:19:39.111Z"
   },
   {
    "duration": 14,
    "start_time": "2025-04-29T01:24:14.372Z"
   },
   {
    "duration": 2614,
    "start_time": "2025-04-29T01:24:29.829Z"
   },
   {
    "duration": 13188,
    "start_time": "2025-04-29T01:24:33.849Z"
   },
   {
    "duration": 17,
    "start_time": "2025-04-29T01:25:12.681Z"
   },
   {
    "duration": 6076,
    "start_time": "2025-04-29T01:25:23.859Z"
   },
   {
    "duration": 18,
    "start_time": "2025-04-29T01:28:01.956Z"
   },
   {
    "duration": 5650,
    "start_time": "2025-04-29T01:28:02.770Z"
   },
   {
    "duration": 5255,
    "start_time": "2025-04-29T01:28:43.175Z"
   },
   {
    "duration": 6,
    "start_time": "2025-04-29T01:32:37.066Z"
   },
   {
    "duration": 4,
    "start_time": "2025-04-29T01:32:59.643Z"
   },
   {
    "duration": 4948,
    "start_time": "2025-04-29T01:33:07.088Z"
   },
   {
    "duration": 10093,
    "start_time": "2025-04-29T01:33:52.363Z"
   },
   {
    "duration": 13995,
    "start_time": "2025-04-29T01:34:54.149Z"
   },
   {
    "duration": 20,
    "start_time": "2025-04-29T01:35:28.135Z"
   },
   {
    "duration": 5,
    "start_time": "2025-04-29T01:35:39.761Z"
   },
   {
    "duration": 15,
    "start_time": "2025-04-29T01:35:44.460Z"
   },
   {
    "duration": 7981,
    "start_time": "2025-04-29T01:35:53.370Z"
   },
   {
    "duration": 9088,
    "start_time": "2025-04-29T01:37:10.358Z"
   },
   {
    "duration": 5123,
    "start_time": "2025-04-29T07:43:58.763Z"
   },
   {
    "duration": 2,
    "start_time": "2025-04-29T07:44:03.888Z"
   },
   {
    "duration": 821,
    "start_time": "2025-04-29T07:44:13.856Z"
   },
   {
    "duration": 13,
    "start_time": "2025-04-29T07:44:17.973Z"
   },
   {
    "duration": 2,
    "start_time": "2025-04-29T07:44:26.638Z"
   },
   {
    "duration": 805,
    "start_time": "2025-04-29T07:44:27.395Z"
   },
   {
    "duration": 7,
    "start_time": "2025-04-29T07:44:28.202Z"
   },
   {
    "duration": 7,
    "start_time": "2025-04-29T07:44:30.883Z"
   },
   {
    "duration": 30,
    "start_time": "2025-04-29T07:44:33.085Z"
   },
   {
    "duration": 133,
    "start_time": "2025-04-29T07:44:34.209Z"
   },
   {
    "duration": 3,
    "start_time": "2025-04-29T07:44:38.519Z"
   },
   {
    "duration": 5377,
    "start_time": "2025-04-29T07:44:38.732Z"
   },
   {
    "duration": 176,
    "start_time": "2025-04-29T07:44:44.111Z"
   },
   {
    "duration": 3,
    "start_time": "2025-04-29T07:46:05.606Z"
   },
   {
    "duration": 42212,
    "start_time": "2025-04-29T07:46:06.933Z"
   },
   {
    "duration": 8,
    "start_time": "2025-04-29T07:46:49.147Z"
   },
   {
    "duration": 8,
    "start_time": "2025-04-29T07:46:49.156Z"
   },
   {
    "duration": 68,
    "start_time": "2025-04-29T07:46:49.166Z"
   },
   {
    "duration": 141,
    "start_time": "2025-04-29T07:46:56.251Z"
   },
   {
    "duration": 6,
    "start_time": "2025-04-29T07:47:00.286Z"
   },
   {
    "duration": 41,
    "start_time": "2025-04-29T07:47:21.196Z"
   },
   {
    "duration": 5,
    "start_time": "2025-04-29T07:47:23.829Z"
   },
   {
    "duration": 21,
    "start_time": "2025-04-29T07:47:33.891Z"
   },
   {
    "duration": 8,
    "start_time": "2025-04-29T07:47:44.254Z"
   },
   {
    "duration": 6,
    "start_time": "2025-04-29T07:47:45.248Z"
   },
   {
    "duration": 5,
    "start_time": "2025-04-29T07:47:58.364Z"
   },
   {
    "duration": 309,
    "start_time": "2025-04-29T07:54:28.317Z"
   },
   {
    "duration": 19,
    "start_time": "2025-04-29T07:54:49.714Z"
   },
   {
    "duration": 58655,
    "start_time": "2025-04-29T07:56:31.670Z"
   },
   {
    "duration": 59089,
    "start_time": "2025-04-29T07:59:18.485Z"
   },
   {
    "duration": 395584,
    "start_time": "2025-04-29T08:00:30.384Z"
   },
   {
    "duration": 4,
    "start_time": "2025-04-29T08:07:05.970Z"
   },
   {
    "duration": 65,
    "start_time": "2025-04-29T08:07:05.975Z"
   },
   {
    "duration": 5,
    "start_time": "2025-04-29T08:09:08.826Z"
   },
   {
    "duration": 4,
    "start_time": "2025-04-29T08:09:31.077Z"
   },
   {
    "duration": 5,
    "start_time": "2025-04-29T08:09:38.361Z"
   },
   {
    "duration": 29,
    "start_time": "2025-04-29T08:10:15.434Z"
   },
   {
    "duration": 20,
    "start_time": "2025-04-29T08:13:56.470Z"
   },
   {
    "duration": 391565,
    "start_time": "2025-04-29T08:14:02.789Z"
   },
   {
    "duration": 6,
    "start_time": "2025-04-29T08:20:50.117Z"
   },
   {
    "duration": 18,
    "start_time": "2025-04-29T08:22:47.073Z"
   },
   {
    "duration": 7624,
    "start_time": "2025-04-29T08:22:57.574Z"
   },
   {
    "duration": 39,
    "start_time": "2025-04-29T08:23:05.200Z"
   },
   {
    "duration": 26,
    "start_time": "2025-04-29T08:23:30.024Z"
   },
   {
    "duration": 22,
    "start_time": "2025-04-29T08:23:36.860Z"
   },
   {
    "duration": 22,
    "start_time": "2025-04-29T08:24:47.835Z"
   },
   {
    "duration": 20,
    "start_time": "2025-04-29T08:26:20.702Z"
   },
   {
    "duration": 17,
    "start_time": "2025-04-29T08:27:01.227Z"
   },
   {
    "duration": 19,
    "start_time": "2025-04-29T08:27:28.848Z"
   },
   {
    "duration": 4789,
    "start_time": "2025-04-29T08:28:21.421Z"
   },
   {
    "duration": 3,
    "start_time": "2025-04-29T08:28:26.212Z"
   },
   {
    "duration": 872,
    "start_time": "2025-04-29T08:28:26.216Z"
   },
   {
    "duration": 13,
    "start_time": "2025-04-29T08:28:28.973Z"
   },
   {
    "duration": 7,
    "start_time": "2025-04-29T08:28:29.165Z"
   },
   {
    "duration": 33,
    "start_time": "2025-04-29T08:28:29.535Z"
   },
   {
    "duration": 127,
    "start_time": "2025-04-29T08:28:30.165Z"
   },
   {
    "duration": 8,
    "start_time": "2025-04-29T08:28:30.347Z"
   },
   {
    "duration": 3,
    "start_time": "2025-04-29T08:28:32.016Z"
   },
   {
    "duration": 5815,
    "start_time": "2025-04-29T08:28:32.218Z"
   },
   {
    "duration": 252,
    "start_time": "2025-04-29T08:28:38.035Z"
   },
   {
    "duration": 4,
    "start_time": "2025-04-29T08:28:38.288Z"
   },
   {
    "duration": 39778,
    "start_time": "2025-04-29T08:28:38.294Z"
   },
   {
    "duration": 9,
    "start_time": "2025-04-29T08:29:18.074Z"
   },
   {
    "duration": 6,
    "start_time": "2025-04-29T08:29:18.085Z"
   },
   {
    "duration": 92,
    "start_time": "2025-04-29T08:29:18.092Z"
   },
   {
    "duration": 5,
    "start_time": "2025-04-29T08:29:18.186Z"
   },
   {
    "duration": 9,
    "start_time": "2025-04-29T08:29:18.193Z"
   },
   {
    "duration": 3,
    "start_time": "2025-04-29T08:29:18.203Z"
   },
   {
    "duration": 60,
    "start_time": "2025-04-29T08:29:18.208Z"
   },
   {
    "duration": 6,
    "start_time": "2025-04-29T08:29:18.270Z"
   },
   {
    "duration": 9,
    "start_time": "2025-04-29T08:29:18.278Z"
   },
   {
    "duration": 5,
    "start_time": "2025-04-29T08:29:18.289Z"
   },
   {
    "duration": 379,
    "start_time": "2025-04-29T08:29:27.390Z"
   },
   {
    "duration": 39,
    "start_time": "2025-04-29T08:29:54.688Z"
   },
   {
    "duration": 4,
    "start_time": "2025-04-29T08:30:35.878Z"
   },
   {
    "duration": 2,
    "start_time": "2025-04-29T08:30:55.329Z"
   },
   {
    "duration": 6,
    "start_time": "2025-04-29T08:30:57.583Z"
   },
   {
    "duration": 67,
    "start_time": "2025-04-29T08:31:02.880Z"
   },
   {
    "duration": 4,
    "start_time": "2025-04-29T08:31:05.508Z"
   },
   {
    "duration": 55,
    "start_time": "2025-04-29T08:31:06.972Z"
   },
   {
    "duration": 2,
    "start_time": "2025-04-29T08:32:43.793Z"
   },
   {
    "duration": 61,
    "start_time": "2025-04-29T08:32:46.416Z"
   },
   {
    "duration": 4710,
    "start_time": "2025-04-29T08:33:49.344Z"
   },
   {
    "duration": 3,
    "start_time": "2025-04-29T08:33:54.055Z"
   },
   {
    "duration": 887,
    "start_time": "2025-04-29T08:33:54.059Z"
   },
   {
    "duration": 19,
    "start_time": "2025-04-29T08:33:54.948Z"
   },
   {
    "duration": 27,
    "start_time": "2025-04-29T08:33:54.969Z"
   },
   {
    "duration": 32,
    "start_time": "2025-04-29T08:33:54.998Z"
   },
   {
    "duration": 123,
    "start_time": "2025-04-29T08:33:55.032Z"
   },
   {
    "duration": 7,
    "start_time": "2025-04-29T08:33:59.491Z"
   },
   {
    "duration": 3,
    "start_time": "2025-04-29T08:34:01.893Z"
   },
   {
    "duration": 5818,
    "start_time": "2025-04-29T08:34:02.647Z"
   },
   {
    "duration": 180,
    "start_time": "2025-04-29T08:34:09.199Z"
   },
   {
    "duration": 3,
    "start_time": "2025-04-29T08:34:14.878Z"
   },
   {
    "duration": 35524,
    "start_time": "2025-04-29T08:34:16.855Z"
   },
   {
    "duration": 8,
    "start_time": "2025-04-29T08:34:52.381Z"
   },
   {
    "duration": 55,
    "start_time": "2025-04-29T08:34:52.391Z"
   },
   {
    "duration": 80,
    "start_time": "2025-04-29T08:34:52.447Z"
   },
   {
    "duration": 3,
    "start_time": "2025-04-29T08:34:59.970Z"
   },
   {
    "duration": 33892,
    "start_time": "2025-04-29T08:35:00.940Z"
   },
   {
    "duration": 8,
    "start_time": "2025-04-29T08:35:34.834Z"
   },
   {
    "duration": 28,
    "start_time": "2025-04-29T08:35:34.843Z"
   },
   {
    "duration": 105,
    "start_time": "2025-04-29T08:35:34.873Z"
   },
   {
    "duration": 5,
    "start_time": "2025-04-29T08:35:40.389Z"
   },
   {
    "duration": 8,
    "start_time": "2025-04-29T08:35:44.874Z"
   },
   {
    "duration": 2,
    "start_time": "2025-04-29T08:35:47.249Z"
   },
   {
    "duration": 6,
    "start_time": "2025-04-29T08:35:49.399Z"
   },
   {
    "duration": 53,
    "start_time": "2025-04-29T08:35:51.247Z"
   },
   {
    "duration": 4,
    "start_time": "2025-04-29T08:35:54.489Z"
   },
   {
    "duration": 339,
    "start_time": "2025-04-29T08:35:57.481Z"
   },
   {
    "duration": 62,
    "start_time": "2025-04-29T08:36:45.562Z"
   },
   {
    "duration": 4,
    "start_time": "2025-04-29T08:37:20.050Z"
   },
   {
    "duration": 7,
    "start_time": "2025-04-29T08:37:39.097Z"
   },
   {
    "duration": 21,
    "start_time": "2025-04-29T08:38:08.717Z"
   },
   {
    "duration": 5,
    "start_time": "2025-04-29T08:38:14.461Z"
   },
   {
    "duration": 60,
    "start_time": "2025-04-29T08:38:21.947Z"
   },
   {
    "duration": 62,
    "start_time": "2025-04-29T08:38:42.506Z"
   },
   {
    "duration": 62,
    "start_time": "2025-04-29T08:38:46.074Z"
   },
   {
    "duration": 59,
    "start_time": "2025-04-29T08:39:07.393Z"
   },
   {
    "duration": 8043,
    "start_time": "2025-04-29T08:40:15.966Z"
   },
   {
    "duration": 64,
    "start_time": "2025-04-29T08:40:25.734Z"
   },
   {
    "duration": 21,
    "start_time": "2025-04-29T08:41:41.597Z"
   },
   {
    "duration": 19,
    "start_time": "2025-04-29T08:42:08.206Z"
   },
   {
    "duration": 18,
    "start_time": "2025-04-29T08:42:11.843Z"
   },
   {
    "duration": 6,
    "start_time": "2025-04-29T08:42:51.373Z"
   },
   {
    "duration": 5,
    "start_time": "2025-04-29T08:43:02.022Z"
   },
   {
    "duration": 8,
    "start_time": "2025-04-29T08:43:10.630Z"
   },
   {
    "duration": 30,
    "start_time": "2025-04-29T08:43:24.274Z"
   },
   {
    "duration": 18,
    "start_time": "2025-04-29T08:43:41.583Z"
   },
   {
    "duration": 4,
    "start_time": "2025-04-29T08:45:26.036Z"
   },
   {
    "duration": 39593,
    "start_time": "2025-04-29T08:45:28.255Z"
   },
   {
    "duration": 113966,
    "start_time": "2025-04-29T08:46:10.207Z"
   },
   {
    "duration": 5692694,
    "start_time": "2025-04-29T08:48:09.618Z"
   },
   {
    "duration": 5462,
    "start_time": "2025-04-29T16:50:00.818Z"
   },
   {
    "duration": 0,
    "start_time": "2025-04-29T16:50:06.282Z"
   },
   {
    "duration": 0,
    "start_time": "2025-04-29T16:50:06.283Z"
   },
   {
    "duration": 0,
    "start_time": "2025-04-29T16:50:06.285Z"
   },
   {
    "duration": 0,
    "start_time": "2025-04-29T16:50:06.286Z"
   },
   {
    "duration": 0,
    "start_time": "2025-04-29T16:50:06.287Z"
   },
   {
    "duration": 0,
    "start_time": "2025-04-29T16:50:06.288Z"
   },
   {
    "duration": 0,
    "start_time": "2025-04-29T16:50:06.289Z"
   },
   {
    "duration": 189,
    "start_time": "2025-04-29T16:50:22.173Z"
   },
   {
    "duration": 3,
    "start_time": "2025-04-29T16:50:22.374Z"
   },
   {
    "duration": 20,
    "start_time": "2025-04-29T16:50:26.398Z"
   },
   {
    "duration": 22,
    "start_time": "2025-04-29T16:50:28.427Z"
   },
   {
    "duration": 27,
    "start_time": "2025-04-29T16:50:33.712Z"
   },
   {
    "duration": 8481,
    "start_time": "2025-04-29T16:50:53.625Z"
   },
   {
    "duration": 52,
    "start_time": "2025-04-29T16:51:02.110Z"
   },
   {
    "duration": 0,
    "start_time": "2025-04-29T16:51:02.163Z"
   },
   {
    "duration": 0,
    "start_time": "2025-04-29T16:51:02.165Z"
   },
   {
    "duration": 0,
    "start_time": "2025-04-29T16:51:02.166Z"
   },
   {
    "duration": 0,
    "start_time": "2025-04-29T16:51:02.167Z"
   },
   {
    "duration": 18,
    "start_time": "2025-04-29T16:51:02.331Z"
   },
   {
    "duration": 20,
    "start_time": "2025-04-29T16:51:03.028Z"
   },
   {
    "duration": 20,
    "start_time": "2025-04-29T16:51:03.240Z"
   },
   {
    "duration": 27,
    "start_time": "2025-04-29T16:51:09.415Z"
   },
   {
    "duration": 2661,
    "start_time": "2025-04-29T16:51:24.585Z"
   },
   {
    "duration": 4986,
    "start_time": "2025-04-29T16:51:27.249Z"
   },
   {
    "duration": 4,
    "start_time": "2025-04-29T16:51:34.589Z"
   },
   {
    "duration": 942,
    "start_time": "2025-04-29T16:51:35.233Z"
   },
   {
    "duration": 15,
    "start_time": "2025-04-29T16:51:36.178Z"
   },
   {
    "duration": 8,
    "start_time": "2025-04-29T16:51:36.271Z"
   },
   {
    "duration": 33,
    "start_time": "2025-04-29T16:51:37.185Z"
   },
   {
    "duration": 136,
    "start_time": "2025-04-29T16:51:37.430Z"
   },
   {
    "duration": 8,
    "start_time": "2025-04-29T16:51:38.392Z"
   },
   {
    "duration": 180,
    "start_time": "2025-04-29T16:51:41.909Z"
   },
   {
    "duration": 3,
    "start_time": "2025-04-29T16:51:42.091Z"
   },
   {
    "duration": 1919,
    "start_time": "2025-04-29T16:51:47.116Z"
   },
   {
    "duration": 0,
    "start_time": "2025-04-29T16:51:49.037Z"
   },
   {
    "duration": 36650,
    "start_time": "2025-04-29T16:51:59.682Z"
   },
   {
    "duration": 10,
    "start_time": "2025-04-29T16:52:38.854Z"
   },
   {
    "duration": 3,
    "start_time": "2025-04-29T16:53:29.716Z"
   },
   {
    "duration": 5985,
    "start_time": "2025-04-29T16:53:30.149Z"
   },
   {
    "duration": 4,
    "start_time": "2025-04-29T16:53:40.126Z"
   },
   {
    "duration": 36874,
    "start_time": "2025-04-29T16:53:40.918Z"
   },
   {
    "duration": 10,
    "start_time": "2025-04-29T16:54:17.794Z"
   },
   {
    "duration": 5,
    "start_time": "2025-04-29T16:57:31.275Z"
   },
   {
    "duration": 80,
    "start_time": "2025-04-29T16:57:33.124Z"
   },
   {
    "duration": 4,
    "start_time": "2025-04-29T16:59:32.785Z"
   },
   {
    "duration": 92870,
    "start_time": "2025-04-29T16:59:33.869Z"
   },
   {
    "duration": 20,
    "start_time": "2025-04-29T17:01:06.741Z"
   },
   {
    "duration": 9,
    "start_time": "2025-04-29T17:01:13.114Z"
   },
   {
    "duration": 4,
    "start_time": "2025-04-29T17:01:43.528Z"
   },
   {
    "duration": 70,
    "start_time": "2025-04-29T17:01:43.736Z"
   },
   {
    "duration": 177,
    "start_time": "2025-04-29T17:01:47.453Z"
   },
   {
    "duration": 6,
    "start_time": "2025-04-29T17:02:56.079Z"
   },
   {
    "duration": 3,
    "start_time": "2025-04-29T17:03:22.501Z"
   },
   {
    "duration": 11,
    "start_time": "2025-04-29T17:03:26.668Z"
   },
   {
    "duration": 75,
    "start_time": "2025-04-29T17:03:30.722Z"
   },
   {
    "duration": 5,
    "start_time": "2025-04-29T17:03:35.732Z"
   },
   {
    "duration": 146,
    "start_time": "2025-04-29T17:05:08.140Z"
   },
   {
    "duration": 50,
    "start_time": "2025-04-29T17:05:21.804Z"
   },
   {
    "duration": 766059,
    "start_time": "2025-04-29T17:05:48.038Z"
   },
   {
    "duration": 3,
    "start_time": "2025-04-29T17:19:51.909Z"
   },
   {
    "duration": 28,
    "start_time": "2025-04-29T17:22:15.652Z"
   },
   {
    "duration": 38682,
    "start_time": "2025-04-29T17:22:25.424Z"
   },
   {
    "duration": 9662,
    "start_time": "2025-04-29T17:23:06.715Z"
   },
   {
    "duration": 73953,
    "start_time": "2025-04-29T17:23:31.223Z"
   },
   {
    "duration": 42,
    "start_time": "2025-04-29T17:24:57.310Z"
   },
   {
    "duration": 7,
    "start_time": "2025-04-29T17:24:58.128Z"
   },
   {
    "duration": 8,
    "start_time": "2025-04-29T17:25:00.832Z"
   },
   {
    "duration": 4,
    "start_time": "2025-04-29T17:25:06.418Z"
   },
   {
    "duration": 73401,
    "start_time": "2025-04-29T17:25:14.899Z"
   },
   {
    "duration": 71836,
    "start_time": "2025-04-29T17:28:12.793Z"
   },
   {
    "duration": 854,
    "start_time": "2025-04-29T17:33:27.680Z"
   },
   {
    "duration": 3,
    "start_time": "2025-04-29T17:33:36.290Z"
   },
   {
    "duration": 1581,
    "start_time": "2025-04-29T17:33:43.307Z"
   },
   {
    "duration": 0,
    "start_time": "2025-04-29T17:33:44.890Z"
   },
   {
    "duration": 143771,
    "start_time": "2025-04-29T17:33:55.652Z"
   },
   {
    "duration": 8,
    "start_time": "2025-04-29T17:36:34.330Z"
   },
   {
    "duration": 1570,
    "start_time": "2025-04-29T17:37:34.554Z"
   },
   {
    "duration": 4,
    "start_time": "2025-04-29T17:37:47.150Z"
   },
   {
    "duration": 6112,
    "start_time": "2025-04-29T17:37:47.369Z"
   },
   {
    "duration": 4,
    "start_time": "2025-04-29T17:38:00.736Z"
   },
   {
    "duration": 35352,
    "start_time": "2025-04-29T17:38:02.588Z"
   },
   {
    "duration": 19,
    "start_time": "2025-04-29T17:38:37.943Z"
   },
   {
    "duration": 3,
    "start_time": "2025-04-29T17:39:54.952Z"
   },
   {
    "duration": 36667,
    "start_time": "2025-04-29T17:39:55.817Z"
   },
   {
    "duration": 9,
    "start_time": "2025-04-29T17:40:32.486Z"
   },
   {
    "duration": 23115,
    "start_time": "2025-04-29T17:40:55.287Z"
   },
   {
    "duration": 5,
    "start_time": "2025-04-29T17:41:55.642Z"
   },
   {
    "duration": 3,
    "start_time": "2025-04-29T17:42:08.235Z"
   },
   {
    "duration": 93014,
    "start_time": "2025-04-29T17:42:10.251Z"
   },
   {
    "duration": 9,
    "start_time": "2025-04-29T17:43:43.267Z"
   },
   {
    "duration": 9,
    "start_time": "2025-04-29T17:44:09.591Z"
   },
   {
    "duration": 3,
    "start_time": "2025-04-29T17:49:34.772Z"
   },
   {
    "duration": 52,
    "start_time": "2025-04-29T17:49:36.525Z"
   },
   {
    "duration": 928,
    "start_time": "2025-04-29T17:49:40.559Z"
   },
   {
    "duration": 7982,
    "start_time": "2025-04-29T17:49:44.355Z"
   },
   {
    "duration": 17316,
    "start_time": "2025-04-29T17:50:22.127Z"
   },
   {
    "duration": 3622,
    "start_time": "2025-04-29T17:50:49.510Z"
   },
   {
    "duration": 4,
    "start_time": "2025-04-29T17:51:29.216Z"
   },
   {
    "duration": 11,
    "start_time": "2025-04-29T17:52:39.190Z"
   },
   {
    "duration": 11,
    "start_time": "2025-04-29T17:52:49.799Z"
   },
   {
    "duration": 3,
    "start_time": "2025-04-29T17:53:00.559Z"
   },
   {
    "duration": 14,
    "start_time": "2025-04-29T17:53:01.572Z"
   },
   {
    "duration": 84,
    "start_time": "2025-04-29T17:54:36.773Z"
   },
   {
    "duration": 3,
    "start_time": "2025-04-29T17:54:48.817Z"
   },
   {
    "duration": 157862,
    "start_time": "2025-04-29T17:54:50.958Z"
   },
   {
    "duration": 0,
    "start_time": "2025-04-29T17:57:28.822Z"
   },
   {
    "duration": 4,
    "start_time": "2025-04-29T17:58:07.012Z"
   },
   {
    "duration": 38,
    "start_time": "2025-04-29T17:58:34.717Z"
   },
   {
    "duration": 4,
    "start_time": "2025-04-29T17:58:46.419Z"
   },
   {
    "duration": 35,
    "start_time": "2025-04-29T17:58:53.154Z"
   },
   {
    "duration": 562,
    "start_time": "2025-04-29T18:00:48.320Z"
   },
   {
    "duration": 128,
    "start_time": "2025-04-29T18:00:53.242Z"
   },
   {
    "duration": 3,
    "start_time": "2025-04-29T18:01:17.071Z"
   },
   {
    "duration": 4,
    "start_time": "2025-04-29T18:01:18.390Z"
   },
   {
    "duration": 3,
    "start_time": "2025-04-29T18:01:21.030Z"
   },
   {
    "duration": 3,
    "start_time": "2025-04-29T18:01:23.954Z"
   },
   {
    "duration": 3,
    "start_time": "2025-04-29T18:02:57.177Z"
   },
   {
    "duration": 1219466,
    "start_time": "2025-04-29T18:02:59.615Z"
   },
   {
    "duration": 11,
    "start_time": "2025-04-29T18:23:19.083Z"
   },
   {
    "duration": 8,
    "start_time": "2025-04-29T18:23:19.095Z"
   },
   {
    "duration": 86,
    "start_time": "2025-04-29T18:23:19.105Z"
   },
   {
    "duration": 4,
    "start_time": "2025-04-29T18:26:35.851Z"
   },
   {
    "duration": 72,
    "start_time": "2025-04-29T18:26:36.443Z"
   },
   {
    "duration": 6,
    "start_time": "2025-04-29T18:26:40.440Z"
   },
   {
    "duration": 36,
    "start_time": "2025-04-29T18:26:44.160Z"
   },
   {
    "duration": 7,
    "start_time": "2025-04-29T18:26:45.972Z"
   },
   {
    "duration": 36453,
    "start_time": "2025-04-29T18:31:53.452Z"
   },
   {
    "duration": 3,
    "start_time": "2025-04-29T18:36:41.874Z"
   },
   {
    "duration": 11,
    "start_time": "2025-04-29T18:36:50.057Z"
   },
   {
    "duration": 7,
    "start_time": "2025-04-29T18:36:53.591Z"
   },
   {
    "duration": 7,
    "start_time": "2025-04-29T18:36:56.670Z"
   },
   {
    "duration": 70410,
    "start_time": "2025-04-29T18:36:58.317Z"
   },
   {
    "duration": 8,
    "start_time": "2025-04-29T18:38:44.692Z"
   },
   {
    "duration": 7,
    "start_time": "2025-04-29T18:38:49.128Z"
   },
   {
    "duration": 5,
    "start_time": "2025-04-29T18:38:52.810Z"
   },
   {
    "duration": 100321,
    "start_time": "2025-04-29T18:39:01.418Z"
   },
   {
    "duration": 103395,
    "start_time": "2025-04-29T18:41:23.501Z"
   },
   {
    "duration": 8343,
    "start_time": "2025-04-29T18:43:21.574Z"
   },
   {
    "duration": 416953,
    "start_time": "2025-04-29T18:43:35.378Z"
   },
   {
    "duration": 95079,
    "start_time": "2025-04-29T18:52:06.702Z"
   },
   {
    "duration": 43,
    "start_time": "2025-04-29T18:57:00.057Z"
   },
   {
    "duration": 45,
    "start_time": "2025-04-29T18:57:16.408Z"
   },
   {
    "duration": 24,
    "start_time": "2025-04-29T18:57:35.851Z"
   },
   {
    "duration": 43,
    "start_time": "2025-04-29T18:58:21.551Z"
   },
   {
    "duration": 48,
    "start_time": "2025-04-29T18:59:14.142Z"
   },
   {
    "duration": 42,
    "start_time": "2025-04-29T18:59:47.694Z"
   },
   {
    "duration": 45,
    "start_time": "2025-04-29T19:00:34.893Z"
   },
   {
    "duration": 42,
    "start_time": "2025-04-29T19:01:03.574Z"
   },
   {
    "duration": 30,
    "start_time": "2025-04-29T19:01:13.645Z"
   },
   {
    "duration": 1669,
    "start_time": "2025-04-29T19:01:23.924Z"
   },
   {
    "duration": 1671,
    "start_time": "2025-04-29T19:01:51.407Z"
   },
   {
    "duration": 1631,
    "start_time": "2025-04-29T19:02:07.278Z"
   },
   {
    "duration": 293498,
    "start_time": "2025-04-29T19:02:26.707Z"
   },
   {
    "duration": 3,
    "start_time": "2025-04-29T19:08:43.046Z"
   },
   {
    "duration": 8,
    "start_time": "2025-04-29T19:08:43.826Z"
   },
   {
    "duration": 74,
    "start_time": "2025-04-29T19:08:45.748Z"
   },
   {
    "duration": 5,
    "start_time": "2025-04-29T19:09:09.624Z"
   },
   {
    "duration": 25011,
    "start_time": "2025-04-29T19:13:55.030Z"
   },
   {
    "duration": 6708995,
    "start_time": "2025-04-29T19:14:24.641Z"
   },
   {
    "duration": 22,
    "start_time": "2025-04-29T21:11:46.225Z"
   },
   {
    "duration": 98,
    "start_time": "2025-04-29T21:11:50.125Z"
   },
   {
    "duration": 5,
    "start_time": "2025-04-29T21:12:01.112Z"
   },
   {
    "duration": 62,
    "start_time": "2025-04-29T21:12:02.401Z"
   },
   {
    "duration": 58,
    "start_time": "2025-04-29T21:13:52.729Z"
   },
   {
    "duration": 66,
    "start_time": "2025-04-29T21:15:00.159Z"
   },
   {
    "duration": 6,
    "start_time": "2025-04-29T21:15:30.454Z"
   },
   {
    "duration": 64,
    "start_time": "2025-04-29T21:15:31.391Z"
   },
   {
    "duration": 6,
    "start_time": "2025-04-29T21:15:58.137Z"
   },
   {
    "duration": 5257557,
    "start_time": "2025-04-29T21:15:59.639Z"
   },
   {
    "duration": 0,
    "start_time": "2025-04-29T22:43:37.198Z"
   },
   {
    "duration": 93,
    "start_time": "2025-04-29T22:43:53.632Z"
   },
   {
    "duration": 60,
    "start_time": "2025-04-29T22:44:02.059Z"
   },
   {
    "duration": 603180,
    "start_time": "2025-04-29T22:44:10.105Z"
   },
   {
    "duration": 19,
    "start_time": "2025-04-29T22:55:03.394Z"
   },
   {
    "duration": 110,
    "start_time": "2025-04-29T22:58:12.584Z"
   },
   {
    "duration": 1715845,
    "start_time": "2025-04-29T22:58:23.513Z"
   },
   {
    "duration": 21,
    "start_time": "2025-04-29T23:27:41.209Z"
   },
   {
    "duration": 5,
    "start_time": "2025-04-29T23:28:43.911Z"
   },
   {
    "duration": 5,
    "start_time": "2025-04-29T23:31:06.164Z"
   },
   {
    "duration": 88,
    "start_time": "2025-04-29T23:31:58.499Z"
   },
   {
    "duration": 5,
    "start_time": "2025-04-29T23:32:03.933Z"
   },
   {
    "duration": 4,
    "start_time": "2025-04-29T23:33:23.566Z"
   },
   {
    "duration": 6,
    "start_time": "2025-04-29T23:34:53.463Z"
   },
   {
    "duration": 3402792,
    "start_time": "2025-04-29T23:34:58.398Z"
   },
   {
    "duration": 0,
    "start_time": "2025-04-30T00:31:41.192Z"
   },
   {
    "duration": 4953,
    "start_time": "2025-04-30T00:31:56.139Z"
   },
   {
    "duration": 23,
    "start_time": "2025-04-30T00:32:10.805Z"
   },
   {
    "duration": 7,
    "start_time": "2025-04-30T00:32:18.319Z"
   },
   {
    "duration": 7,
    "start_time": "2025-04-30T00:32:28.283Z"
   },
   {
    "duration": 7,
    "start_time": "2025-04-30T00:32:29.127Z"
   },
   {
    "duration": 9,
    "start_time": "2025-04-30T00:32:31.222Z"
   },
   {
    "duration": 983,
    "start_time": "2025-04-30T00:32:43.707Z"
   },
   {
    "duration": 1114,
    "start_time": "2025-04-30T00:32:49.326Z"
   },
   {
    "duration": 226,
    "start_time": "2025-04-30T00:33:12.566Z"
   },
   {
    "duration": 921,
    "start_time": "2025-04-30T00:33:28.707Z"
   },
   {
    "duration": 3,
    "start_time": "2025-04-30T00:34:08.344Z"
   },
   {
    "duration": 7,
    "start_time": "2025-04-30T00:34:10.325Z"
   },
   {
    "duration": 70,
    "start_time": "2025-04-30T00:34:12.103Z"
   },
   {
    "duration": 5,
    "start_time": "2025-04-30T00:34:15.598Z"
   },
   {
    "duration": 158130,
    "start_time": "2025-04-30T00:34:34.769Z"
   },
   {
    "duration": 269034,
    "start_time": "2025-04-30T00:37:50.841Z"
   },
   {
    "duration": 4,
    "start_time": "2025-04-30T00:42:36.011Z"
   },
   {
    "duration": 11,
    "start_time": "2025-04-30T00:42:57.438Z"
   },
   {
    "duration": 6,
    "start_time": "2025-04-30T00:42:59.487Z"
   },
   {
    "duration": 10,
    "start_time": "2025-04-30T00:43:06.364Z"
   },
   {
    "duration": 4,
    "start_time": "2025-04-30T00:43:08.894Z"
   },
   {
    "duration": 5357,
    "start_time": "2025-04-30T00:43:23.226Z"
   },
   {
    "duration": 5393,
    "start_time": "2025-04-30T00:43:45.098Z"
   },
   {
    "duration": 6,
    "start_time": "2025-04-30T00:44:00.266Z"
   },
   {
    "duration": 41643,
    "start_time": "2025-04-30T00:44:04.609Z"
   },
   {
    "duration": 10703,
    "start_time": "2025-04-30T00:45:07.589Z"
   },
   {
    "duration": 59724,
    "start_time": "2025-04-30T00:45:20.729Z"
   },
   {
    "duration": 32159,
    "start_time": "2025-04-30T00:46:20.454Z"
   },
   {
    "duration": 59970,
    "start_time": "2025-04-30T00:47:04.976Z"
   },
   {
    "duration": 695,
    "start_time": "2025-04-30T00:48:22.296Z"
   },
   {
    "duration": 277114,
    "start_time": "2025-04-30T00:50:50.308Z"
   },
   {
    "duration": 19,
    "start_time": "2025-04-30T01:03:35.203Z"
   },
   {
    "duration": 19,
    "start_time": "2025-04-30T01:03:39.298Z"
   },
   {
    "duration": 5572,
    "start_time": "2025-04-30T01:04:18.443Z"
   },
   {
    "duration": 785127,
    "start_time": "2025-04-30T01:04:28.145Z"
   },
   {
    "duration": 7,
    "start_time": "2025-04-30T01:19:37.295Z"
   },
   {
    "duration": 34,
    "start_time": "2025-04-30T01:19:45.982Z"
   },
   {
    "duration": 8,
    "start_time": "2025-04-30T01:19:47.762Z"
   },
   {
    "duration": 14,
    "start_time": "2025-04-30T01:19:58.078Z"
   },
   {
    "duration": 6,
    "start_time": "2025-04-30T01:20:00.280Z"
   },
   {
    "duration": 28,
    "start_time": "2025-04-30T01:20:03.463Z"
   },
   {
    "duration": 6,
    "start_time": "2025-04-30T01:20:04.666Z"
   },
   {
    "duration": 42,
    "start_time": "2025-04-30T01:20:07.492Z"
   },
   {
    "duration": 37390,
    "start_time": "2025-04-30T01:20:23.736Z"
   },
   {
    "duration": 1954194,
    "start_time": "2025-04-30T01:21:14.404Z"
   },
   {
    "duration": 11,
    "start_time": "2025-04-30T01:54:33.883Z"
   },
   {
    "duration": 7,
    "start_time": "2025-04-30T01:54:35.879Z"
   },
   {
    "duration": 20,
    "start_time": "2025-04-30T01:54:38.169Z"
   },
   {
    "duration": 4,
    "start_time": "2025-04-30T01:54:40.551Z"
   },
   {
    "duration": 26,
    "start_time": "2025-04-30T01:54:56.244Z"
   },
   {
    "duration": 13332,
    "start_time": "2025-04-30T01:55:10.032Z"
   },
   {
    "duration": 0,
    "start_time": "2025-04-30T01:55:23.368Z"
   },
   {
    "duration": 0,
    "start_time": "2025-04-30T01:55:23.369Z"
   },
   {
    "duration": 143147,
    "start_time": "2025-04-30T01:55:25.703Z"
   },
   {
    "duration": 7,
    "start_time": "2025-04-30T01:57:54.574Z"
   },
   {
    "duration": 6,
    "start_time": "2025-04-30T01:57:56.632Z"
   },
   {
    "duration": 8,
    "start_time": "2025-04-30T01:57:58.777Z"
   },
   {
    "duration": 5,
    "start_time": "2025-04-30T01:58:00.371Z"
   },
   {
    "duration": 19856,
    "start_time": "2025-04-30T01:58:02.875Z"
   },
   {
    "duration": 8777,
    "start_time": "2025-04-30T01:58:55.653Z"
   },
   {
    "duration": 32851,
    "start_time": "2025-04-30T01:59:07.526Z"
   },
   {
    "duration": 8,
    "start_time": "2025-04-30T02:00:21.498Z"
   },
   {
    "duration": 33387,
    "start_time": "2025-04-30T02:00:23.774Z"
   },
   {
    "duration": 5,
    "start_time": "2025-04-30T02:01:18.935Z"
   },
   {
    "duration": 7,
    "start_time": "2025-04-30T02:01:23.614Z"
   },
   {
    "duration": 4,
    "start_time": "2025-04-30T02:01:25.483Z"
   },
   {
    "duration": 22,
    "start_time": "2025-04-30T02:01:31.554Z"
   },
   {
    "duration": 20,
    "start_time": "2025-04-30T02:02:16.826Z"
   },
   {
    "duration": 2,
    "start_time": "2025-04-30T02:02:21.636Z"
   },
   {
    "duration": 216231,
    "start_time": "2025-04-30T02:02:25.657Z"
   },
   {
    "duration": 11,
    "start_time": "2025-04-30T02:06:16.817Z"
   },
   {
    "duration": 7,
    "start_time": "2025-04-30T02:06:18.031Z"
   },
   {
    "duration": 10,
    "start_time": "2025-04-30T02:06:20.856Z"
   },
   {
    "duration": 4,
    "start_time": "2025-04-30T02:06:22.738Z"
   },
   {
    "duration": 12,
    "start_time": "2025-04-30T02:15:47.364Z"
   },
   {
    "duration": 5,
    "start_time": "2025-04-30T02:15:48.536Z"
   },
   {
    "duration": 24,
    "start_time": "2025-04-30T02:16:09.886Z"
   },
   {
    "duration": 6,
    "start_time": "2025-04-30T02:16:11.144Z"
   },
   {
    "duration": 10,
    "start_time": "2025-04-30T02:18:33.291Z"
   },
   {
    "duration": 7,
    "start_time": "2025-04-30T02:18:35.450Z"
   },
   {
    "duration": 64,
    "start_time": "2025-04-30T02:18:53.695Z"
   },
   {
    "duration": 32,
    "start_time": "2025-04-30T02:20:00.852Z"
   },
   {
    "duration": 6,
    "start_time": "2025-04-30T02:20:48.245Z"
   },
   {
    "duration": 30,
    "start_time": "2025-04-30T02:33:15.830Z"
   },
   {
    "duration": 52,
    "start_time": "2025-04-30T02:34:00.707Z"
   },
   {
    "duration": 10,
    "start_time": "2025-04-30T02:34:03.981Z"
   },
   {
    "duration": 20,
    "start_time": "2025-04-30T02:34:19.574Z"
   },
   {
    "duration": 20,
    "start_time": "2025-04-30T02:34:24.022Z"
   },
   {
    "duration": 4,
    "start_time": "2025-04-30T02:34:30.937Z"
   },
   {
    "duration": 4,
    "start_time": "2025-04-30T02:34:34.603Z"
   },
   {
    "duration": 4,
    "start_time": "2025-04-30T02:34:43.475Z"
   },
   {
    "duration": 20,
    "start_time": "2025-04-30T02:37:16.434Z"
   },
   {
    "duration": 7,
    "start_time": "2025-04-30T02:37:17.642Z"
   },
   {
    "duration": 26,
    "start_time": "2025-04-30T02:37:35.000Z"
   },
   {
    "duration": 5,
    "start_time": "2025-04-30T02:37:36.750Z"
   },
   {
    "duration": 27,
    "start_time": "2025-04-30T02:37:46.223Z"
   },
   {
    "duration": 6,
    "start_time": "2025-04-30T02:37:48.081Z"
   },
   {
    "duration": 5,
    "start_time": "2025-04-30T02:38:51.821Z"
   },
   {
    "duration": 32,
    "start_time": "2025-04-30T02:38:54.240Z"
   },
   {
    "duration": 4,
    "start_time": "2025-04-30T02:38:56.055Z"
   },
   {
    "duration": 20,
    "start_time": "2025-04-30T02:39:41.445Z"
   },
   {
    "duration": 4,
    "start_time": "2025-04-30T02:39:54.715Z"
   },
   {
    "duration": 4,
    "start_time": "2025-04-30T02:39:57.780Z"
   },
   {
    "duration": 3,
    "start_time": "2025-04-30T02:40:09.771Z"
   },
   {
    "duration": 6,
    "start_time": "2025-04-30T02:40:11.641Z"
   },
   {
    "duration": 69,
    "start_time": "2025-04-30T02:40:12.261Z"
   },
   {
    "duration": 45,
    "start_time": "2025-04-30T02:40:13.461Z"
   },
   {
    "duration": 4,
    "start_time": "2025-04-30T02:40:14.067Z"
   },
   {
    "duration": 4,
    "start_time": "2025-04-30T02:40:18.686Z"
   },
   {
    "duration": 4,
    "start_time": "2025-04-30T02:40:21.223Z"
   },
   {
    "duration": 4,
    "start_time": "2025-04-30T02:40:24.818Z"
   },
   {
    "duration": 277,
    "start_time": "2025-04-30T02:40:51.631Z"
   },
   {
    "duration": 90,
    "start_time": "2025-04-30T02:47:07.081Z"
   },
   {
    "duration": 3,
    "start_time": "2025-04-30T02:47:16.168Z"
   },
   {
    "duration": 49,
    "start_time": "2025-04-30T03:21:39.579Z"
   },
   {
    "duration": 29,
    "start_time": "2025-04-30T03:22:21.673Z"
   },
   {
    "duration": 24,
    "start_time": "2025-04-30T03:22:51.955Z"
   },
   {
    "duration": 49,
    "start_time": "2025-04-30T03:23:04.367Z"
   },
   {
    "duration": 68,
    "start_time": "2025-04-30T03:23:46.985Z"
   },
   {
    "duration": 3,
    "start_time": "2025-04-30T03:23:51.848Z"
   },
   {
    "duration": 6,
    "start_time": "2025-04-30T03:23:53.429Z"
   },
   {
    "duration": 72,
    "start_time": "2025-04-30T03:23:54.982Z"
   },
   {
    "duration": 5,
    "start_time": "2025-04-30T03:23:58.222Z"
   },
   {
    "duration": 2796891,
    "start_time": "2025-04-30T03:24:22.817Z"
   },
   {
    "duration": 15117810,
    "start_time": "2025-04-30T04:30:41.933Z"
   },
   {
    "duration": 13,
    "start_time": "2025-04-30T08:42:53.202Z"
   },
   {
    "duration": 6,
    "start_time": "2025-04-30T08:42:56.835Z"
   },
   {
    "duration": 12,
    "start_time": "2025-04-30T08:43:00.075Z"
   },
   {
    "duration": 5,
    "start_time": "2025-04-30T08:43:02.983Z"
   },
   {
    "duration": 23,
    "start_time": "2025-04-30T08:43:38.423Z"
   },
   {
    "duration": 6,
    "start_time": "2025-04-30T08:43:39.671Z"
   },
   {
    "duration": 29,
    "start_time": "2025-04-30T08:43:43.283Z"
   },
   {
    "duration": 4,
    "start_time": "2025-04-30T08:43:45.263Z"
   },
   {
    "duration": 2075988,
    "start_time": "2025-04-30T08:43:47.234Z"
   },
   {
    "duration": 12,
    "start_time": "2025-04-30T09:18:45.302Z"
   },
   {
    "duration": 6,
    "start_time": "2025-04-30T09:18:48.400Z"
   },
   {
    "duration": 18,
    "start_time": "2025-04-30T09:18:49.072Z"
   },
   {
    "duration": 4,
    "start_time": "2025-04-30T09:18:51.794Z"
   },
   {
    "duration": 566053,
    "start_time": "2025-04-30T09:18:53.500Z"
   },
   {
    "duration": 142,
    "start_time": "2025-04-30T09:37:39.869Z"
   },
   {
    "duration": 300,
    "start_time": "2025-04-30T09:37:42.924Z"
   },
   {
    "duration": 2,
    "start_time": "2025-04-30T09:40:56.417Z"
   },
   {
    "duration": 8,
    "start_time": "2025-04-30T09:40:57.978Z"
   },
   {
    "duration": 66,
    "start_time": "2025-04-30T09:40:59.708Z"
   },
   {
    "duration": 1356589,
    "start_time": "2025-04-30T09:41:01.889Z"
   },
   {
    "duration": 0,
    "start_time": "2025-04-30T10:03:38.489Z"
   },
   {
    "duration": 14,
    "start_time": "2025-04-30T10:03:57.377Z"
   },
   {
    "duration": 6,
    "start_time": "2025-04-30T10:03:59.684Z"
   },
   {
    "duration": 5,
    "start_time": "2025-04-30T10:04:02.697Z"
   },
   {
    "duration": 780146,
    "start_time": "2025-04-30T10:04:18.528Z"
   },
   {
    "duration": 14,
    "start_time": "2025-04-30T10:17:27.235Z"
   },
   {
    "duration": 6,
    "start_time": "2025-04-30T10:17:29.301Z"
   },
   {
    "duration": 11,
    "start_time": "2025-04-30T10:17:29.857Z"
   },
   {
    "duration": 511787,
    "start_time": "2025-04-30T10:17:32.200Z"
   },
   {
    "duration": 113,
    "start_time": "2025-04-30T10:26:19.331Z"
   },
   {
    "duration": 290,
    "start_time": "2025-04-30T10:26:21.428Z"
   },
   {
    "duration": 4,
    "start_time": "2025-04-30T10:30:15.346Z"
   },
   {
    "duration": 5,
    "start_time": "2025-04-30T10:30:17.758Z"
   },
   {
    "duration": 114,
    "start_time": "2025-04-30T10:33:13.015Z"
   },
   {
    "duration": 4,
    "start_time": "2025-04-30T10:33:15.942Z"
   },
   {
    "duration": 269,
    "start_time": "2025-04-30T10:34:35.150Z"
   },
   {
    "duration": 22,
    "start_time": "2025-04-30T10:34:54.542Z"
   },
   {
    "duration": 3,
    "start_time": "2025-04-30T10:35:18.796Z"
   },
   {
    "duration": 22,
    "start_time": "2025-04-30T10:35:43.138Z"
   },
   {
    "duration": 242,
    "start_time": "2025-04-30T10:35:47.488Z"
   },
   {
    "duration": 4,
    "start_time": "2025-04-30T10:36:39.637Z"
   },
   {
    "duration": 5,
    "start_time": "2025-04-30T10:36:49.083Z"
   }
  ],
  "kernelspec": {
   "display_name": "Python 3 (ipykernel)",
   "language": "python",
   "name": "python3"
  },
  "language_info": {
   "codemirror_mode": {
    "name": "ipython",
    "version": 3
   },
   "file_extension": ".py",
   "mimetype": "text/x-python",
   "name": "python",
   "nbconvert_exporter": "python",
   "pygments_lexer": "ipython3",
   "version": "3.9.20"
  },
  "toc": {
   "base_numbering": 1,
   "nav_menu": {},
   "number_sections": true,
   "sideBar": true,
   "skip_h1_title": true,
   "title_cell": "Содержание",
   "title_sidebar": "Contents",
   "toc_cell": true,
   "toc_position": {
    "height": "calc(100% - 180px)",
    "left": "10px",
    "top": "150px",
    "width": "302.391px"
   },
   "toc_section_display": true,
   "toc_window_display": false
  }
 },
 "nbformat": 4,
 "nbformat_minor": 4
}
