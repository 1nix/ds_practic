{
 "cells": [
  {
   "cell_type": "markdown",
   "metadata": {},
   "source": [
    "# Исследование данных интернет-магазина «Стримчик»\n",
    "\n",
    "Есть исторические данные по продажах игр, оценки пользователей и экспертов, жанры и платформы. Компании хочет провести анализ\n",
    "данных, найти закономерности и выявить факторы определяющие успешность будущей игры."
   ]
  },
  {
   "cell_type": "markdown",
   "metadata": {
    "toc": true
   },
   "source": [
    "<h1>Содержание<span class=\"tocSkip\"></span></h1>\n",
    "<div class=\"toc\"><ul class=\"toc-item\"><li><span><a href=\"#Описание-данных\" data-toc-modified-id=\"Описание-данных-1\"><span class=\"toc-item-num\">1&nbsp;&nbsp;</span>Описание данных</a></span><ul class=\"toc-item\"><li><span><a href=\"#Чтение-данных\" data-toc-modified-id=\"Чтение-данных-1.1\"><span class=\"toc-item-num\">1.1&nbsp;&nbsp;</span>Чтение данных</a></span></li></ul></li><li><span><a href=\"#Предобработка-данных\" data-toc-modified-id=\"Предобработка-данных-2\"><span class=\"toc-item-num\">2&nbsp;&nbsp;</span>Предобработка данных</a></span><ul class=\"toc-item\"><li><span><a href=\"#Переименование-столбцов\" data-toc-modified-id=\"Переименование-столбцов-2.1\"><span class=\"toc-item-num\">2.1&nbsp;&nbsp;</span>Переименование столбцов</a></span></li><li><span><a href=\"#Обработка-типов\" data-toc-modified-id=\"Обработка-типов-2.2\"><span class=\"toc-item-num\">2.2&nbsp;&nbsp;</span>Обработка типов</a></span></li><li><span><a href=\"#Проверка-пропусков\" data-toc-modified-id=\"Проверка-пропусков-2.3\"><span class=\"toc-item-num\">2.3&nbsp;&nbsp;</span>Проверка пропусков</a></span><ul class=\"toc-item\"><li><span><a href=\"#name\" data-toc-modified-id=\"name-2.3.1\"><span class=\"toc-item-num\">2.3.1&nbsp;&nbsp;</span>name</a></span></li><li><span><a href=\"#year\" data-toc-modified-id=\"year-2.3.2\"><span class=\"toc-item-num\">2.3.2&nbsp;&nbsp;</span>year</a></span></li><li><span><a href=\"#user_score\" data-toc-modified-id=\"user_score-2.3.3\"><span class=\"toc-item-num\">2.3.3&nbsp;&nbsp;</span>user_score</a></span></li><li><span><a href=\"#rating\" data-toc-modified-id=\"rating-2.3.4\"><span class=\"toc-item-num\">2.3.4&nbsp;&nbsp;</span>rating</a></span></li><li><span><a href=\"#Суммарные-продажи\" data-toc-modified-id=\"Суммарные-продажи-2.3.5\"><span class=\"toc-item-num\">2.3.5&nbsp;&nbsp;</span>Суммарные продажи</a></span></li><li><span><a href=\"#Проверка-на-дубликаты\" data-toc-modified-id=\"Проверка-на-дубликаты-2.3.6\"><span class=\"toc-item-num\">2.3.6&nbsp;&nbsp;</span>Проверка на дубликаты</a></span></li><li><span><a href=\"#Промежуточный-вывод\" data-toc-modified-id=\"Промежуточный-вывод-2.3.7\"><span class=\"toc-item-num\">2.3.7&nbsp;&nbsp;</span>Промежуточный вывод</a></span></li></ul></li></ul></li><li><span><a href=\"#Исследование-данных\" data-toc-modified-id=\"Исследование-данных-3\"><span class=\"toc-item-num\">3&nbsp;&nbsp;</span>Исследование данных</a></span><ul class=\"toc-item\"><li><span><a href=\"#Выпуск-игр-в-разные-годы\" data-toc-modified-id=\"Выпуск-игр-в-разные-годы-3.1\"><span class=\"toc-item-num\">3.1&nbsp;&nbsp;</span>Выпуск игр в разные годы</a></span></li><li><span><a href=\"#Продажи-по-платформам\" data-toc-modified-id=\"Продажи-по-платформам-3.2\"><span class=\"toc-item-num\">3.2&nbsp;&nbsp;</span>Продажи по платформам</a></span></li><li><span><a href=\"#Актуальный-период\" data-toc-modified-id=\"Актуальный-период-3.3\"><span class=\"toc-item-num\">3.3&nbsp;&nbsp;</span>Актуальный период</a></span><li><span><a href=\"#Актуальные-платфоры-по-продажам\" data-toc-modified-id=\"Актуальные-платфоры-по-продажам-3.4\"><span class=\"toc-item-num\">3.4&nbsp;&nbsp;</span>Актуальные платфоры по продажам</a></span></li><li><span><a href=\"#Диаграмма-размаха-по-платформам\" data-toc-modified-id=\"Диаграмма-размаха-по-платформам-3.5\"><span class=\"toc-item-num\">3.5&nbsp;&nbsp;</span>Диаграмма размаха по платформам</a></span></li><li><span><a href=\"#Влияние-отзывов-на-продажи-платформы-PS4\" data-toc-modified-id=\"Влияние-отзывов-на-продажи-платформы-PS4-3.6\"><span class=\"toc-item-num\">3.6&nbsp;&nbsp;</span>Влияние отзывов на продажи платформы PS4</a></span></li><li><span><a href=\"#Соотнести-выводы-с-продажами-игр-на-других-платформах.\" data-toc-modified-id=\"Соотнести-выводы-с-продажами-игр-на-других-платформах.-3.7\"><span class=\"toc-item-num\">3.7&nbsp;&nbsp;</span>Соотнести выводы с продажами игр на других платформах.</a></span></li><li><span><a href=\"#Распределение-игр-по-жанрам\" data-toc-modified-id=\"Распределение-игр-по-жанрам-3.8\"><span class=\"toc-item-num\">3.8&nbsp;&nbsp;</span>Распределение игр по жанрам</a></span></li><li><span><a href=\"#Промежуточный-вывод\" data-toc-modified-id=\"Промежуточный-вывод-3.9\"><span class=\"toc-item-num\">3.9&nbsp;&nbsp;</span>Промежуточный вывод</a></span></li></ul></li><li><span><a href=\"#Портрет-пользователя-каждого-региона\" data-toc-modified-id=\"Портрет-пользователя-каждого-региона-4\"><span class=\"toc-item-num\">4&nbsp;&nbsp;</span>Портрет пользователя каждого региона</a></span><ul class=\"toc-item\"><li><span><a href=\"#Вывод\" data-toc-modified-id=\"Вывод-4.1\"><span class=\"toc-item-num\">4.1&nbsp;&nbsp;</span>Вывод</a></span></li></ul></li><li><span><a href=\"#Проверка-гипотез\" data-toc-modified-id=\"Проверка-гипотез-5\"><span class=\"toc-item-num\">5&nbsp;&nbsp;</span>Проверка гипотез</a></span><ul class=\"toc-item\"><li><span><a href=\"#Средние-пользовательские-рейтинги\" data-toc-modified-id=\"Средние-пользовательские-рейтинги-5.1\"><span class=\"toc-item-num\">5.1&nbsp;&nbsp;</span>Средние пользовательские рейтинги</a></span></li><li><span><a href=\"#Средние-пользовательские-рейтинги-жанров-Action\" data-toc-modified-id=\"Средние-пользовательские-рейтинги-жанров-Action-5.2\"><span class=\"toc-item-num\">5.2&nbsp;&nbsp;</span>Средние пользовательские рейтинги жанров Action</a></span></li></ul></li><li><span><a href=\"#Итоговый-вывод\" data-toc-modified-id=\"Итоговый-вывод-6\"><span class=\"toc-item-num\">6&nbsp;&nbsp;</span>Итоговый вывод</a></span><ul class=\"toc-item\"><li><span><a href=\"#Предобработка-данных\" data-toc-modified-id=\"Предобработка-данных-6.1\"><span class=\"toc-item-num\">6.1&nbsp;&nbsp;</span>Предобработка данных</a></span></li><li><span><a href=\"#Исследование-данных\" data-toc-modified-id=\"Исследование-данных-6.2\"><span class=\"toc-item-num\">6.2&nbsp;&nbsp;</span>Исследование данных</a></span></li><li><span><a href=\"#Портрет-пользователя-каждого-региона\" data-toc-modified-id=\"Портрет-пользователя-каждого-региона-6.3\"><span class=\"toc-item-num\">6.3&nbsp;&nbsp;</span>Портрет пользователя каждого региона</a></span></li><li><span><a href=\"#Проверка-гипотез\" data-toc-modified-id=\"Проверка-гипотез-6.4\"><span class=\"toc-item-num\">6.4&nbsp;&nbsp;</span>Проверка гипотез</a></span></li><li><span><a href=\"#Общий-вывод\" data-toc-modified-id=\"Общий-вывод-6.5\"><span class=\"toc-item-num\">6.5&nbsp;&nbsp;</span>Общий вывод</a></span></li></ul></li></ul></div>"
   ]
  },
  {
   "cell_type": "markdown",
   "metadata": {},
   "source": [
    "## Описание данных"
   ]
  },
  {
   "cell_type": "markdown",
   "metadata": {},
   "source": [
    "- Name — название игры\n",
    "- Platform — платформа\n",
    "- Year_of_Release — год выпуска\n",
    "- Genre — жанр игры\n",
    "- NA_sales — продажи в Северной Америке (миллионы проданных копий)\n",
    "- EU_sales — продажи в Европе (миллионы проданных копий)\n",
    "- JP_sales — продажи в Японии (миллионы проданных копий)\n",
    "- Other_sales — продажи в других странах (миллионы проданных копий)\n",
    "- Critic_Score — оценка критиков (максимум 100)\n",
    "- User_Score — оценка пользователей (максимум 10)\n",
    "- Rating — рейтинг от организации ESRB (англ. Entertainment Software Rating Board). Эта ассоциация определяет рейтинг компьютерных игр и присваивает им подходящую возрастную категорию."
   ]
  },
  {
   "cell_type": "markdown",
   "metadata": {},
   "source": [
    "### Чтение данных"
   ]
  },
  {
   "cell_type": "code",
   "execution_count": 2,
   "metadata": {},
   "outputs": [],
   "source": [
    "import pandas as pd\n",
    "import matplotlib.pyplot as plt\n",
    "from scipy import stats as st\n",
    "import numpy as np\n",
    "import seaborn\n",
    "from IPython.display import display"
   ]
  },
  {
   "cell_type": "code",
   "execution_count": 3,
   "metadata": {},
   "outputs": [],
   "source": [
    "# Убрать лимит на изображаемое количество столбцов\n",
    "pd.options.display.max_columns = None\n",
    "\n",
    "# Показывать только 5 цйфр после запятой\n",
    "pd.options.display.precision = 5  # избавиться от научной нотации"
   ]
  },
  {
   "cell_type": "code",
   "execution_count": 4,
   "metadata": {},
   "outputs": [],
   "source": [
    "data = pd.read_csv('/datasets/games.csv')"
   ]
  },
  {
   "cell_type": "code",
   "execution_count": 5,
   "metadata": {},
   "outputs": [
    {
     "data": {
      "text/html": [
       "<div>\n",
       "<style scoped>\n",
       "    .dataframe tbody tr th:only-of-type {\n",
       "        vertical-align: middle;\n",
       "    }\n",
       "\n",
       "    .dataframe tbody tr th {\n",
       "        vertical-align: top;\n",
       "    }\n",
       "\n",
       "    .dataframe thead th {\n",
       "        text-align: right;\n",
       "    }\n",
       "</style>\n",
       "<table border=\"1\" class=\"dataframe\">\n",
       "  <thead>\n",
       "    <tr style=\"text-align: right;\">\n",
       "      <th></th>\n",
       "      <th>Name</th>\n",
       "      <th>Platform</th>\n",
       "      <th>Year_of_Release</th>\n",
       "      <th>Genre</th>\n",
       "      <th>NA_sales</th>\n",
       "      <th>EU_sales</th>\n",
       "      <th>JP_sales</th>\n",
       "      <th>Other_sales</th>\n",
       "      <th>Critic_Score</th>\n",
       "      <th>User_Score</th>\n",
       "      <th>Rating</th>\n",
       "    </tr>\n",
       "  </thead>\n",
       "  <tbody>\n",
       "    <tr>\n",
       "      <th>0</th>\n",
       "      <td>Wii Sports</td>\n",
       "      <td>Wii</td>\n",
       "      <td>2006.0</td>\n",
       "      <td>Sports</td>\n",
       "      <td>41.36</td>\n",
       "      <td>28.96</td>\n",
       "      <td>3.77</td>\n",
       "      <td>8.45</td>\n",
       "      <td>76.0</td>\n",
       "      <td>8</td>\n",
       "      <td>E</td>\n",
       "    </tr>\n",
       "    <tr>\n",
       "      <th>1</th>\n",
       "      <td>Super Mario Bros.</td>\n",
       "      <td>NES</td>\n",
       "      <td>1985.0</td>\n",
       "      <td>Platform</td>\n",
       "      <td>29.08</td>\n",
       "      <td>3.58</td>\n",
       "      <td>6.81</td>\n",
       "      <td>0.77</td>\n",
       "      <td>NaN</td>\n",
       "      <td>NaN</td>\n",
       "      <td>NaN</td>\n",
       "    </tr>\n",
       "    <tr>\n",
       "      <th>2</th>\n",
       "      <td>Mario Kart Wii</td>\n",
       "      <td>Wii</td>\n",
       "      <td>2008.0</td>\n",
       "      <td>Racing</td>\n",
       "      <td>15.68</td>\n",
       "      <td>12.76</td>\n",
       "      <td>3.79</td>\n",
       "      <td>3.29</td>\n",
       "      <td>82.0</td>\n",
       "      <td>8.3</td>\n",
       "      <td>E</td>\n",
       "    </tr>\n",
       "    <tr>\n",
       "      <th>3</th>\n",
       "      <td>Wii Sports Resort</td>\n",
       "      <td>Wii</td>\n",
       "      <td>2009.0</td>\n",
       "      <td>Sports</td>\n",
       "      <td>15.61</td>\n",
       "      <td>10.93</td>\n",
       "      <td>3.28</td>\n",
       "      <td>2.95</td>\n",
       "      <td>80.0</td>\n",
       "      <td>8</td>\n",
       "      <td>E</td>\n",
       "    </tr>\n",
       "    <tr>\n",
       "      <th>4</th>\n",
       "      <td>Pokemon Red/Pokemon Blue</td>\n",
       "      <td>GB</td>\n",
       "      <td>1996.0</td>\n",
       "      <td>Role-Playing</td>\n",
       "      <td>11.27</td>\n",
       "      <td>8.89</td>\n",
       "      <td>10.22</td>\n",
       "      <td>1.00</td>\n",
       "      <td>NaN</td>\n",
       "      <td>NaN</td>\n",
       "      <td>NaN</td>\n",
       "    </tr>\n",
       "    <tr>\n",
       "      <th>5</th>\n",
       "      <td>Tetris</td>\n",
       "      <td>GB</td>\n",
       "      <td>1989.0</td>\n",
       "      <td>Puzzle</td>\n",
       "      <td>23.20</td>\n",
       "      <td>2.26</td>\n",
       "      <td>4.22</td>\n",
       "      <td>0.58</td>\n",
       "      <td>NaN</td>\n",
       "      <td>NaN</td>\n",
       "      <td>NaN</td>\n",
       "    </tr>\n",
       "    <tr>\n",
       "      <th>6</th>\n",
       "      <td>New Super Mario Bros.</td>\n",
       "      <td>DS</td>\n",
       "      <td>2006.0</td>\n",
       "      <td>Platform</td>\n",
       "      <td>11.28</td>\n",
       "      <td>9.14</td>\n",
       "      <td>6.50</td>\n",
       "      <td>2.88</td>\n",
       "      <td>89.0</td>\n",
       "      <td>8.5</td>\n",
       "      <td>E</td>\n",
       "    </tr>\n",
       "    <tr>\n",
       "      <th>7</th>\n",
       "      <td>Wii Play</td>\n",
       "      <td>Wii</td>\n",
       "      <td>2006.0</td>\n",
       "      <td>Misc</td>\n",
       "      <td>13.96</td>\n",
       "      <td>9.18</td>\n",
       "      <td>2.93</td>\n",
       "      <td>2.84</td>\n",
       "      <td>58.0</td>\n",
       "      <td>6.6</td>\n",
       "      <td>E</td>\n",
       "    </tr>\n",
       "    <tr>\n",
       "      <th>8</th>\n",
       "      <td>New Super Mario Bros. Wii</td>\n",
       "      <td>Wii</td>\n",
       "      <td>2009.0</td>\n",
       "      <td>Platform</td>\n",
       "      <td>14.44</td>\n",
       "      <td>6.94</td>\n",
       "      <td>4.70</td>\n",
       "      <td>2.24</td>\n",
       "      <td>87.0</td>\n",
       "      <td>8.4</td>\n",
       "      <td>E</td>\n",
       "    </tr>\n",
       "    <tr>\n",
       "      <th>9</th>\n",
       "      <td>Duck Hunt</td>\n",
       "      <td>NES</td>\n",
       "      <td>1984.0</td>\n",
       "      <td>Shooter</td>\n",
       "      <td>26.93</td>\n",
       "      <td>0.63</td>\n",
       "      <td>0.28</td>\n",
       "      <td>0.47</td>\n",
       "      <td>NaN</td>\n",
       "      <td>NaN</td>\n",
       "      <td>NaN</td>\n",
       "    </tr>\n",
       "  </tbody>\n",
       "</table>\n",
       "</div>"
      ],
      "text/plain": [
       "                        Name Platform  Year_of_Release         Genre  \\\n",
       "0                 Wii Sports      Wii           2006.0        Sports   \n",
       "1          Super Mario Bros.      NES           1985.0      Platform   \n",
       "2             Mario Kart Wii      Wii           2008.0        Racing   \n",
       "3          Wii Sports Resort      Wii           2009.0        Sports   \n",
       "4   Pokemon Red/Pokemon Blue       GB           1996.0  Role-Playing   \n",
       "5                     Tetris       GB           1989.0        Puzzle   \n",
       "6      New Super Mario Bros.       DS           2006.0      Platform   \n",
       "7                   Wii Play      Wii           2006.0          Misc   \n",
       "8  New Super Mario Bros. Wii      Wii           2009.0      Platform   \n",
       "9                  Duck Hunt      NES           1984.0       Shooter   \n",
       "\n",
       "   NA_sales  EU_sales  JP_sales  Other_sales  Critic_Score User_Score Rating  \n",
       "0     41.36     28.96      3.77         8.45          76.0          8      E  \n",
       "1     29.08      3.58      6.81         0.77           NaN        NaN    NaN  \n",
       "2     15.68     12.76      3.79         3.29          82.0        8.3      E  \n",
       "3     15.61     10.93      3.28         2.95          80.0          8      E  \n",
       "4     11.27      8.89     10.22         1.00           NaN        NaN    NaN  \n",
       "5     23.20      2.26      4.22         0.58           NaN        NaN    NaN  \n",
       "6     11.28      9.14      6.50         2.88          89.0        8.5      E  \n",
       "7     13.96      9.18      2.93         2.84          58.0        6.6      E  \n",
       "8     14.44      6.94      4.70         2.24          87.0        8.4      E  \n",
       "9     26.93      0.63      0.28         0.47           NaN        NaN    NaN  "
      ]
     },
     "execution_count": 5,
     "metadata": {},
     "output_type": "execute_result"
    }
   ],
   "source": [
    "data.head(10)"
   ]
  },
  {
   "cell_type": "code",
   "execution_count": 6,
   "metadata": {},
   "outputs": [
    {
     "data": {
      "text/plain": [
       "Index(['Name', 'Platform', 'Year_of_Release', 'Genre', 'NA_sales', 'EU_sales',\n",
       "       'JP_sales', 'Other_sales', 'Critic_Score', 'User_Score', 'Rating'],\n",
       "      dtype='object')"
      ]
     },
     "execution_count": 6,
     "metadata": {},
     "output_type": "execute_result"
    }
   ],
   "source": [
    "data.columns"
   ]
  },
  {
   "cell_type": "code",
   "execution_count": 7,
   "metadata": {},
   "outputs": [
    {
     "name": "stdout",
     "output_type": "stream",
     "text": [
      "<class 'pandas.core.frame.DataFrame'>\n",
      "RangeIndex: 16715 entries, 0 to 16714\n",
      "Data columns (total 11 columns):\n",
      " #   Column           Non-Null Count  Dtype  \n",
      "---  ------           --------------  -----  \n",
      " 0   Name             16713 non-null  object \n",
      " 1   Platform         16715 non-null  object \n",
      " 2   Year_of_Release  16446 non-null  float64\n",
      " 3   Genre            16713 non-null  object \n",
      " 4   NA_sales         16715 non-null  float64\n",
      " 5   EU_sales         16715 non-null  float64\n",
      " 6   JP_sales         16715 non-null  float64\n",
      " 7   Other_sales      16715 non-null  float64\n",
      " 8   Critic_Score     8137 non-null   float64\n",
      " 9   User_Score       10014 non-null  object \n",
      " 10  Rating           9949 non-null   object \n",
      "dtypes: float64(6), object(5)\n",
      "memory usage: 1.4+ MB\n"
     ]
    }
   ],
   "source": [
    "data.info()"
   ]
  },
  {
   "cell_type": "code",
   "execution_count": 8,
   "metadata": {},
   "outputs": [
    {
     "data": {
      "text/html": [
       "<div>\n",
       "<style scoped>\n",
       "    .dataframe tbody tr th:only-of-type {\n",
       "        vertical-align: middle;\n",
       "    }\n",
       "\n",
       "    .dataframe tbody tr th {\n",
       "        vertical-align: top;\n",
       "    }\n",
       "\n",
       "    .dataframe thead th {\n",
       "        text-align: right;\n",
       "    }\n",
       "</style>\n",
       "<table border=\"1\" class=\"dataframe\">\n",
       "  <thead>\n",
       "    <tr style=\"text-align: right;\">\n",
       "      <th></th>\n",
       "      <th>Name</th>\n",
       "      <th>Platform</th>\n",
       "      <th>Year_of_Release</th>\n",
       "      <th>Genre</th>\n",
       "      <th>NA_sales</th>\n",
       "      <th>EU_sales</th>\n",
       "      <th>JP_sales</th>\n",
       "      <th>Other_sales</th>\n",
       "      <th>Critic_Score</th>\n",
       "      <th>User_Score</th>\n",
       "      <th>Rating</th>\n",
       "    </tr>\n",
       "  </thead>\n",
       "  <tbody>\n",
       "    <tr>\n",
       "      <th>count</th>\n",
       "      <td>16713</td>\n",
       "      <td>16715</td>\n",
       "      <td>16446.00000</td>\n",
       "      <td>16713</td>\n",
       "      <td>16715.00000</td>\n",
       "      <td>16715.00000</td>\n",
       "      <td>16715.00000</td>\n",
       "      <td>16715.00000</td>\n",
       "      <td>8137.00000</td>\n",
       "      <td>10014</td>\n",
       "      <td>9949</td>\n",
       "    </tr>\n",
       "    <tr>\n",
       "      <th>unique</th>\n",
       "      <td>11559</td>\n",
       "      <td>31</td>\n",
       "      <td>NaN</td>\n",
       "      <td>12</td>\n",
       "      <td>NaN</td>\n",
       "      <td>NaN</td>\n",
       "      <td>NaN</td>\n",
       "      <td>NaN</td>\n",
       "      <td>NaN</td>\n",
       "      <td>96</td>\n",
       "      <td>8</td>\n",
       "    </tr>\n",
       "    <tr>\n",
       "      <th>top</th>\n",
       "      <td>Need for Speed: Most Wanted</td>\n",
       "      <td>PS2</td>\n",
       "      <td>NaN</td>\n",
       "      <td>Action</td>\n",
       "      <td>NaN</td>\n",
       "      <td>NaN</td>\n",
       "      <td>NaN</td>\n",
       "      <td>NaN</td>\n",
       "      <td>NaN</td>\n",
       "      <td>tbd</td>\n",
       "      <td>E</td>\n",
       "    </tr>\n",
       "    <tr>\n",
       "      <th>freq</th>\n",
       "      <td>12</td>\n",
       "      <td>2161</td>\n",
       "      <td>NaN</td>\n",
       "      <td>3369</td>\n",
       "      <td>NaN</td>\n",
       "      <td>NaN</td>\n",
       "      <td>NaN</td>\n",
       "      <td>NaN</td>\n",
       "      <td>NaN</td>\n",
       "      <td>2424</td>\n",
       "      <td>3990</td>\n",
       "    </tr>\n",
       "    <tr>\n",
       "      <th>mean</th>\n",
       "      <td>NaN</td>\n",
       "      <td>NaN</td>\n",
       "      <td>2006.48462</td>\n",
       "      <td>NaN</td>\n",
       "      <td>0.26338</td>\n",
       "      <td>0.14506</td>\n",
       "      <td>0.07762</td>\n",
       "      <td>0.04734</td>\n",
       "      <td>68.96768</td>\n",
       "      <td>NaN</td>\n",
       "      <td>NaN</td>\n",
       "    </tr>\n",
       "    <tr>\n",
       "      <th>std</th>\n",
       "      <td>NaN</td>\n",
       "      <td>NaN</td>\n",
       "      <td>5.87705</td>\n",
       "      <td>NaN</td>\n",
       "      <td>0.81360</td>\n",
       "      <td>0.50334</td>\n",
       "      <td>0.30885</td>\n",
       "      <td>0.18673</td>\n",
       "      <td>13.93816</td>\n",
       "      <td>NaN</td>\n",
       "      <td>NaN</td>\n",
       "    </tr>\n",
       "    <tr>\n",
       "      <th>min</th>\n",
       "      <td>NaN</td>\n",
       "      <td>NaN</td>\n",
       "      <td>1980.00000</td>\n",
       "      <td>NaN</td>\n",
       "      <td>0.00000</td>\n",
       "      <td>0.00000</td>\n",
       "      <td>0.00000</td>\n",
       "      <td>0.00000</td>\n",
       "      <td>13.00000</td>\n",
       "      <td>NaN</td>\n",
       "      <td>NaN</td>\n",
       "    </tr>\n",
       "    <tr>\n",
       "      <th>25%</th>\n",
       "      <td>NaN</td>\n",
       "      <td>NaN</td>\n",
       "      <td>2003.00000</td>\n",
       "      <td>NaN</td>\n",
       "      <td>0.00000</td>\n",
       "      <td>0.00000</td>\n",
       "      <td>0.00000</td>\n",
       "      <td>0.00000</td>\n",
       "      <td>60.00000</td>\n",
       "      <td>NaN</td>\n",
       "      <td>NaN</td>\n",
       "    </tr>\n",
       "    <tr>\n",
       "      <th>50%</th>\n",
       "      <td>NaN</td>\n",
       "      <td>NaN</td>\n",
       "      <td>2007.00000</td>\n",
       "      <td>NaN</td>\n",
       "      <td>0.08000</td>\n",
       "      <td>0.02000</td>\n",
       "      <td>0.00000</td>\n",
       "      <td>0.01000</td>\n",
       "      <td>71.00000</td>\n",
       "      <td>NaN</td>\n",
       "      <td>NaN</td>\n",
       "    </tr>\n",
       "    <tr>\n",
       "      <th>75%</th>\n",
       "      <td>NaN</td>\n",
       "      <td>NaN</td>\n",
       "      <td>2010.00000</td>\n",
       "      <td>NaN</td>\n",
       "      <td>0.24000</td>\n",
       "      <td>0.11000</td>\n",
       "      <td>0.04000</td>\n",
       "      <td>0.03000</td>\n",
       "      <td>79.00000</td>\n",
       "      <td>NaN</td>\n",
       "      <td>NaN</td>\n",
       "    </tr>\n",
       "    <tr>\n",
       "      <th>max</th>\n",
       "      <td>NaN</td>\n",
       "      <td>NaN</td>\n",
       "      <td>2016.00000</td>\n",
       "      <td>NaN</td>\n",
       "      <td>41.36000</td>\n",
       "      <td>28.96000</td>\n",
       "      <td>10.22000</td>\n",
       "      <td>10.57000</td>\n",
       "      <td>98.00000</td>\n",
       "      <td>NaN</td>\n",
       "      <td>NaN</td>\n",
       "    </tr>\n",
       "  </tbody>\n",
       "</table>\n",
       "</div>"
      ],
      "text/plain": [
       "                               Name Platform  Year_of_Release   Genre  \\\n",
       "count                         16713    16715      16446.00000   16713   \n",
       "unique                        11559       31              NaN      12   \n",
       "top     Need for Speed: Most Wanted      PS2              NaN  Action   \n",
       "freq                             12     2161              NaN    3369   \n",
       "mean                            NaN      NaN       2006.48462     NaN   \n",
       "std                             NaN      NaN          5.87705     NaN   \n",
       "min                             NaN      NaN       1980.00000     NaN   \n",
       "25%                             NaN      NaN       2003.00000     NaN   \n",
       "50%                             NaN      NaN       2007.00000     NaN   \n",
       "75%                             NaN      NaN       2010.00000     NaN   \n",
       "max                             NaN      NaN       2016.00000     NaN   \n",
       "\n",
       "           NA_sales     EU_sales     JP_sales  Other_sales  Critic_Score  \\\n",
       "count   16715.00000  16715.00000  16715.00000  16715.00000    8137.00000   \n",
       "unique          NaN          NaN          NaN          NaN           NaN   \n",
       "top             NaN          NaN          NaN          NaN           NaN   \n",
       "freq            NaN          NaN          NaN          NaN           NaN   \n",
       "mean        0.26338      0.14506      0.07762      0.04734      68.96768   \n",
       "std         0.81360      0.50334      0.30885      0.18673      13.93816   \n",
       "min         0.00000      0.00000      0.00000      0.00000      13.00000   \n",
       "25%         0.00000      0.00000      0.00000      0.00000      60.00000   \n",
       "50%         0.08000      0.02000      0.00000      0.01000      71.00000   \n",
       "75%         0.24000      0.11000      0.04000      0.03000      79.00000   \n",
       "max        41.36000     28.96000     10.22000     10.57000      98.00000   \n",
       "\n",
       "       User_Score Rating  \n",
       "count       10014   9949  \n",
       "unique         96      8  \n",
       "top           tbd      E  \n",
       "freq         2424   3990  \n",
       "mean          NaN    NaN  \n",
       "std           NaN    NaN  \n",
       "min           NaN    NaN  \n",
       "25%           NaN    NaN  \n",
       "50%           NaN    NaN  \n",
       "75%           NaN    NaN  \n",
       "max           NaN    NaN  "
      ]
     },
     "execution_count": 8,
     "metadata": {},
     "output_type": "execute_result"
    }
   ],
   "source": [
    "data.describe(include='all')"
   ]
  },
  {
   "cell_type": "code",
   "execution_count": 9,
   "metadata": {
    "scrolled": true
   },
   "outputs": [
    {
     "data": {
      "text/plain": [
       "(16715, 11)"
      ]
     },
     "execution_count": 9,
     "metadata": {},
     "output_type": "execute_result"
    }
   ],
   "source": [
    "data.shape"
   ]
  },
  {
   "cell_type": "markdown",
   "metadata": {},
   "source": [
    "Количество строк 16715, в столбцах есть неполные данные, также часть колонок с неверными типами данных. Нужно посмотреть детально."
   ]
  },
  {
   "cell_type": "markdown",
   "metadata": {},
   "source": [
    "## Предобработка данных"
   ]
  },
  {
   "cell_type": "markdown",
   "metadata": {},
   "source": [
    "### Переименование столбцов"
   ]
  },
  {
   "cell_type": "code",
   "execution_count": 10,
   "metadata": {},
   "outputs": [],
   "source": [
    "data.columns = data.columns.str.lower()"
   ]
  },
  {
   "cell_type": "code",
   "execution_count": 11,
   "metadata": {
    "scrolled": true
   },
   "outputs": [
    {
     "data": {
      "text/plain": [
       "Index(['name', 'platform', 'year_of_release', 'genre', 'na_sales', 'eu_sales',\n",
       "       'jp_sales', 'other_sales', 'critic_score', 'user_score', 'rating'],\n",
       "      dtype='object')"
      ]
     },
     "execution_count": 11,
     "metadata": {},
     "output_type": "execute_result"
    }
   ],
   "source": [
    "data.columns"
   ]
  },
  {
   "cell_type": "markdown",
   "metadata": {},
   "source": [
    "Переименовали столбцы в нижний регистр"
   ]
  },
  {
   "cell_type": "markdown",
   "metadata": {},
   "source": [
    "### Обработка типов"
   ]
  },
  {
   "cell_type": "code",
   "execution_count": 12,
   "metadata": {},
   "outputs": [],
   "source": [
    "data = data.convert_dtypes()"
   ]
  },
  {
   "cell_type": "code",
   "execution_count": 13,
   "metadata": {
    "scrolled": true
   },
   "outputs": [
    {
     "name": "stdout",
     "output_type": "stream",
     "text": [
      "<class 'pandas.core.frame.DataFrame'>\n",
      "RangeIndex: 16715 entries, 0 to 16714\n",
      "Data columns (total 11 columns):\n",
      " #   Column           Non-Null Count  Dtype  \n",
      "---  ------           --------------  -----  \n",
      " 0   name             16713 non-null  string \n",
      " 1   platform         16715 non-null  string \n",
      " 2   year_of_release  16446 non-null  Int64  \n",
      " 3   genre            16713 non-null  string \n",
      " 4   na_sales         16715 non-null  Float64\n",
      " 5   eu_sales         16715 non-null  Float64\n",
      " 6   jp_sales         16715 non-null  Float64\n",
      " 7   other_sales      16715 non-null  Float64\n",
      " 8   critic_score     8137 non-null   Int64  \n",
      " 9   user_score       10014 non-null  string \n",
      " 10  rating           9949 non-null   string \n",
      "dtypes: Float64(4), Int64(2), string(5)\n",
      "memory usage: 1.5 MB\n"
     ]
    }
   ],
   "source": [
    "data.info()"
   ]
  },
  {
   "cell_type": "code",
   "execution_count": 14,
   "metadata": {},
   "outputs": [],
   "source": [
    "for i in ['na_sales','eu_sales','jp_sales','other_sales','critic_score']:\n",
    "    data[i] = data[i].astype('float64')"
   ]
  },
  {
   "cell_type": "code",
   "execution_count": 15,
   "metadata": {},
   "outputs": [
    {
     "name": "stdout",
     "output_type": "stream",
     "text": [
      "<class 'pandas.core.frame.DataFrame'>\n",
      "RangeIndex: 16715 entries, 0 to 16714\n",
      "Data columns (total 11 columns):\n",
      " #   Column           Non-Null Count  Dtype  \n",
      "---  ------           --------------  -----  \n",
      " 0   name             16713 non-null  string \n",
      " 1   platform         16715 non-null  string \n",
      " 2   year_of_release  16446 non-null  Int64  \n",
      " 3   genre            16713 non-null  string \n",
      " 4   na_sales         16715 non-null  float64\n",
      " 5   eu_sales         16715 non-null  float64\n",
      " 6   jp_sales         16715 non-null  float64\n",
      " 7   other_sales      16715 non-null  float64\n",
      " 8   critic_score     8137 non-null   float64\n",
      " 9   user_score       10014 non-null  string \n",
      " 10  rating           9949 non-null   string \n",
      "dtypes: Int64(1), float64(5), string(5)\n",
      "memory usage: 1.4 MB\n"
     ]
    }
   ],
   "source": [
    "data.info()"
   ]
  },
  {
   "cell_type": "markdown",
   "metadata": {},
   "source": [
    "Вывод: Изменели тип данных автоматическим методом `convert_dtypes()` `user_score`, содержит уникальное значение tbd, поэтому он преобразовался в строкое значение это надо исправить. Половина данных отсутствуют в рейтингах."
   ]
  },
  {
   "cell_type": "markdown",
   "metadata": {},
   "source": [
    "### Проверка пропусков "
   ]
  },
  {
   "cell_type": "markdown",
   "metadata": {},
   "source": [
    "#### name \n"
   ]
  },
  {
   "cell_type": "code",
   "execution_count": 16,
   "metadata": {
    "scrolled": true
   },
   "outputs": [
    {
     "data": {
      "text/plain": [
       "name                  2\n",
       "platform              0\n",
       "year_of_release     269\n",
       "genre                 2\n",
       "na_sales              0\n",
       "eu_sales              0\n",
       "jp_sales              0\n",
       "other_sales           0\n",
       "critic_score       8578\n",
       "user_score         6701\n",
       "rating             6766\n",
       "dtype: int64"
      ]
     },
     "execution_count": 16,
     "metadata": {},
     "output_type": "execute_result"
    }
   ],
   "source": [
    "data.isna().sum()"
   ]
  },
  {
   "cell_type": "code",
   "execution_count": 17,
   "metadata": {
    "scrolled": true
   },
   "outputs": [
    {
     "data": {
      "text/plain": [
       "name                0.01197\n",
       "platform            0.00000\n",
       "year_of_release     1.60933\n",
       "genre               0.01197\n",
       "na_sales            0.00000\n",
       "eu_sales            0.00000\n",
       "jp_sales            0.00000\n",
       "other_sales         0.00000\n",
       "critic_score       51.31917\n",
       "user_score         40.08974\n",
       "rating             40.47861\n",
       "dtype: float64"
      ]
     },
     "execution_count": 17,
     "metadata": {},
     "output_type": "execute_result"
    }
   ],
   "source": [
    "data.isna().sum()/data.shape[0] * 100"
   ]
  },
  {
   "cell_type": "code",
   "execution_count": 18,
   "metadata": {},
   "outputs": [
    {
     "data": {
      "text/html": [
       "<div>\n",
       "<style scoped>\n",
       "    .dataframe tbody tr th:only-of-type {\n",
       "        vertical-align: middle;\n",
       "    }\n",
       "\n",
       "    .dataframe tbody tr th {\n",
       "        vertical-align: top;\n",
       "    }\n",
       "\n",
       "    .dataframe thead th {\n",
       "        text-align: right;\n",
       "    }\n",
       "</style>\n",
       "<table border=\"1\" class=\"dataframe\">\n",
       "  <thead>\n",
       "    <tr style=\"text-align: right;\">\n",
       "      <th></th>\n",
       "      <th>name</th>\n",
       "      <th>platform</th>\n",
       "      <th>year_of_release</th>\n",
       "      <th>genre</th>\n",
       "      <th>na_sales</th>\n",
       "      <th>eu_sales</th>\n",
       "      <th>jp_sales</th>\n",
       "      <th>other_sales</th>\n",
       "      <th>critic_score</th>\n",
       "      <th>user_score</th>\n",
       "      <th>rating</th>\n",
       "    </tr>\n",
       "  </thead>\n",
       "  <tbody>\n",
       "    <tr>\n",
       "      <th>659</th>\n",
       "      <td>&lt;NA&gt;</td>\n",
       "      <td>GEN</td>\n",
       "      <td>1993</td>\n",
       "      <td>&lt;NA&gt;</td>\n",
       "      <td>1.78</td>\n",
       "      <td>0.53</td>\n",
       "      <td>0.00</td>\n",
       "      <td>0.08</td>\n",
       "      <td>NaN</td>\n",
       "      <td>&lt;NA&gt;</td>\n",
       "      <td>&lt;NA&gt;</td>\n",
       "    </tr>\n",
       "    <tr>\n",
       "      <th>14244</th>\n",
       "      <td>&lt;NA&gt;</td>\n",
       "      <td>GEN</td>\n",
       "      <td>1993</td>\n",
       "      <td>&lt;NA&gt;</td>\n",
       "      <td>0.00</td>\n",
       "      <td>0.00</td>\n",
       "      <td>0.03</td>\n",
       "      <td>0.00</td>\n",
       "      <td>NaN</td>\n",
       "      <td>&lt;NA&gt;</td>\n",
       "      <td>&lt;NA&gt;</td>\n",
       "    </tr>\n",
       "  </tbody>\n",
       "</table>\n",
       "</div>"
      ],
      "text/plain": [
       "       name platform  year_of_release genre  na_sales  eu_sales  jp_sales  \\\n",
       "659    <NA>      GEN             1993  <NA>      1.78      0.53      0.00   \n",
       "14244  <NA>      GEN             1993  <NA>      0.00      0.00      0.03   \n",
       "\n",
       "       other_sales  critic_score user_score rating  \n",
       "659           0.08           NaN       <NA>   <NA>  \n",
       "14244         0.00           NaN       <NA>   <NA>  "
      ]
     },
     "execution_count": 18,
     "metadata": {},
     "output_type": "execute_result"
    }
   ],
   "source": [
    "data[data['name'].isna()]"
   ]
  },
  {
   "cell_type": "code",
   "execution_count": 19,
   "metadata": {},
   "outputs": [],
   "source": [
    "data = data.dropna(subset=['name'])"
   ]
  },
  {
   "cell_type": "code",
   "execution_count": 20,
   "metadata": {},
   "outputs": [
    {
     "data": {
      "text/html": [
       "<div>\n",
       "<style scoped>\n",
       "    .dataframe tbody tr th:only-of-type {\n",
       "        vertical-align: middle;\n",
       "    }\n",
       "\n",
       "    .dataframe tbody tr th {\n",
       "        vertical-align: top;\n",
       "    }\n",
       "\n",
       "    .dataframe thead th {\n",
       "        text-align: right;\n",
       "    }\n",
       "</style>\n",
       "<table border=\"1\" class=\"dataframe\">\n",
       "  <thead>\n",
       "    <tr style=\"text-align: right;\">\n",
       "      <th></th>\n",
       "      <th>name</th>\n",
       "      <th>platform</th>\n",
       "      <th>year_of_release</th>\n",
       "      <th>genre</th>\n",
       "      <th>na_sales</th>\n",
       "      <th>eu_sales</th>\n",
       "      <th>jp_sales</th>\n",
       "      <th>other_sales</th>\n",
       "      <th>critic_score</th>\n",
       "      <th>user_score</th>\n",
       "      <th>rating</th>\n",
       "    </tr>\n",
       "  </thead>\n",
       "  <tbody>\n",
       "  </tbody>\n",
       "</table>\n",
       "</div>"
      ],
      "text/plain": [
       "Empty DataFrame\n",
       "Columns: [name, platform, year_of_release, genre, na_sales, eu_sales, jp_sales, other_sales, critic_score, user_score, rating]\n",
       "Index: []"
      ]
     },
     "execution_count": 20,
     "metadata": {},
     "output_type": "execute_result"
    }
   ],
   "source": [
    "data[data['name'].isna()]"
   ]
  },
  {
   "cell_type": "markdown",
   "metadata": {},
   "source": [
    "Вывод: Удалили пустые данные в колонке `name`"
   ]
  },
  {
   "cell_type": "markdown",
   "metadata": {},
   "source": [
    "#### year"
   ]
  },
  {
   "cell_type": "code",
   "execution_count": 21,
   "metadata": {
    "scrolled": true
   },
   "outputs": [
    {
     "data": {
      "text/html": [
       "<div>\n",
       "<style scoped>\n",
       "    .dataframe tbody tr th:only-of-type {\n",
       "        vertical-align: middle;\n",
       "    }\n",
       "\n",
       "    .dataframe tbody tr th {\n",
       "        vertical-align: top;\n",
       "    }\n",
       "\n",
       "    .dataframe thead th {\n",
       "        text-align: right;\n",
       "    }\n",
       "</style>\n",
       "<table border=\"1\" class=\"dataframe\">\n",
       "  <thead>\n",
       "    <tr style=\"text-align: right;\">\n",
       "      <th></th>\n",
       "      <th>name</th>\n",
       "      <th>platform</th>\n",
       "      <th>year_of_release</th>\n",
       "      <th>genre</th>\n",
       "      <th>na_sales</th>\n",
       "      <th>eu_sales</th>\n",
       "      <th>jp_sales</th>\n",
       "      <th>other_sales</th>\n",
       "      <th>critic_score</th>\n",
       "      <th>user_score</th>\n",
       "      <th>rating</th>\n",
       "    </tr>\n",
       "  </thead>\n",
       "  <tbody>\n",
       "    <tr>\n",
       "      <th>183</th>\n",
       "      <td>Madden NFL 2004</td>\n",
       "      <td>PS2</td>\n",
       "      <td>&lt;NA&gt;</td>\n",
       "      <td>Sports</td>\n",
       "      <td>4.26</td>\n",
       "      <td>0.26</td>\n",
       "      <td>0.01</td>\n",
       "      <td>0.71</td>\n",
       "      <td>94.0</td>\n",
       "      <td>8.5</td>\n",
       "      <td>E</td>\n",
       "    </tr>\n",
       "    <tr>\n",
       "      <th>377</th>\n",
       "      <td>FIFA Soccer 2004</td>\n",
       "      <td>PS2</td>\n",
       "      <td>&lt;NA&gt;</td>\n",
       "      <td>Sports</td>\n",
       "      <td>0.59</td>\n",
       "      <td>2.36</td>\n",
       "      <td>0.04</td>\n",
       "      <td>0.51</td>\n",
       "      <td>84.0</td>\n",
       "      <td>6.4</td>\n",
       "      <td>E</td>\n",
       "    </tr>\n",
       "    <tr>\n",
       "      <th>456</th>\n",
       "      <td>LEGO Batman: The Videogame</td>\n",
       "      <td>Wii</td>\n",
       "      <td>&lt;NA&gt;</td>\n",
       "      <td>Action</td>\n",
       "      <td>1.80</td>\n",
       "      <td>0.97</td>\n",
       "      <td>0.00</td>\n",
       "      <td>0.29</td>\n",
       "      <td>74.0</td>\n",
       "      <td>7.9</td>\n",
       "      <td>E10+</td>\n",
       "    </tr>\n",
       "    <tr>\n",
       "      <th>475</th>\n",
       "      <td>wwe Smackdown vs. Raw 2006</td>\n",
       "      <td>PS2</td>\n",
       "      <td>&lt;NA&gt;</td>\n",
       "      <td>Fighting</td>\n",
       "      <td>1.57</td>\n",
       "      <td>1.02</td>\n",
       "      <td>0.00</td>\n",
       "      <td>0.41</td>\n",
       "      <td>NaN</td>\n",
       "      <td>&lt;NA&gt;</td>\n",
       "      <td>&lt;NA&gt;</td>\n",
       "    </tr>\n",
       "    <tr>\n",
       "      <th>609</th>\n",
       "      <td>Space Invaders</td>\n",
       "      <td>2600</td>\n",
       "      <td>&lt;NA&gt;</td>\n",
       "      <td>Shooter</td>\n",
       "      <td>2.36</td>\n",
       "      <td>0.14</td>\n",
       "      <td>0.00</td>\n",
       "      <td>0.03</td>\n",
       "      <td>NaN</td>\n",
       "      <td>&lt;NA&gt;</td>\n",
       "      <td>&lt;NA&gt;</td>\n",
       "    </tr>\n",
       "    <tr>\n",
       "      <th>...</th>\n",
       "      <td>...</td>\n",
       "      <td>...</td>\n",
       "      <td>...</td>\n",
       "      <td>...</td>\n",
       "      <td>...</td>\n",
       "      <td>...</td>\n",
       "      <td>...</td>\n",
       "      <td>...</td>\n",
       "      <td>...</td>\n",
       "      <td>...</td>\n",
       "      <td>...</td>\n",
       "    </tr>\n",
       "    <tr>\n",
       "      <th>16373</th>\n",
       "      <td>PDC World Championship Darts 2008</td>\n",
       "      <td>PSP</td>\n",
       "      <td>&lt;NA&gt;</td>\n",
       "      <td>Sports</td>\n",
       "      <td>0.01</td>\n",
       "      <td>0.00</td>\n",
       "      <td>0.00</td>\n",
       "      <td>0.00</td>\n",
       "      <td>43.0</td>\n",
       "      <td>tbd</td>\n",
       "      <td>E10+</td>\n",
       "    </tr>\n",
       "    <tr>\n",
       "      <th>16405</th>\n",
       "      <td>Freaky Flyers</td>\n",
       "      <td>GC</td>\n",
       "      <td>&lt;NA&gt;</td>\n",
       "      <td>Racing</td>\n",
       "      <td>0.01</td>\n",
       "      <td>0.00</td>\n",
       "      <td>0.00</td>\n",
       "      <td>0.00</td>\n",
       "      <td>69.0</td>\n",
       "      <td>6.5</td>\n",
       "      <td>T</td>\n",
       "    </tr>\n",
       "    <tr>\n",
       "      <th>16448</th>\n",
       "      <td>Inversion</td>\n",
       "      <td>PC</td>\n",
       "      <td>&lt;NA&gt;</td>\n",
       "      <td>Shooter</td>\n",
       "      <td>0.01</td>\n",
       "      <td>0.00</td>\n",
       "      <td>0.00</td>\n",
       "      <td>0.00</td>\n",
       "      <td>59.0</td>\n",
       "      <td>6.7</td>\n",
       "      <td>M</td>\n",
       "    </tr>\n",
       "    <tr>\n",
       "      <th>16458</th>\n",
       "      <td>Hakuouki: Shinsengumi Kitan</td>\n",
       "      <td>PS3</td>\n",
       "      <td>&lt;NA&gt;</td>\n",
       "      <td>Adventure</td>\n",
       "      <td>0.01</td>\n",
       "      <td>0.00</td>\n",
       "      <td>0.00</td>\n",
       "      <td>0.00</td>\n",
       "      <td>NaN</td>\n",
       "      <td>&lt;NA&gt;</td>\n",
       "      <td>&lt;NA&gt;</td>\n",
       "    </tr>\n",
       "    <tr>\n",
       "      <th>16522</th>\n",
       "      <td>Virtua Quest</td>\n",
       "      <td>GC</td>\n",
       "      <td>&lt;NA&gt;</td>\n",
       "      <td>Role-Playing</td>\n",
       "      <td>0.01</td>\n",
       "      <td>0.00</td>\n",
       "      <td>0.00</td>\n",
       "      <td>0.00</td>\n",
       "      <td>55.0</td>\n",
       "      <td>5.5</td>\n",
       "      <td>T</td>\n",
       "    </tr>\n",
       "  </tbody>\n",
       "</table>\n",
       "<p>269 rows × 11 columns</p>\n",
       "</div>"
      ],
      "text/plain": [
       "                                    name platform  year_of_release  \\\n",
       "183                      Madden NFL 2004      PS2             <NA>   \n",
       "377                     FIFA Soccer 2004      PS2             <NA>   \n",
       "456           LEGO Batman: The Videogame      Wii             <NA>   \n",
       "475           wwe Smackdown vs. Raw 2006      PS2             <NA>   \n",
       "609                       Space Invaders     2600             <NA>   \n",
       "...                                  ...      ...              ...   \n",
       "16373  PDC World Championship Darts 2008      PSP             <NA>   \n",
       "16405                      Freaky Flyers       GC             <NA>   \n",
       "16448                          Inversion       PC             <NA>   \n",
       "16458        Hakuouki: Shinsengumi Kitan      PS3             <NA>   \n",
       "16522                       Virtua Quest       GC             <NA>   \n",
       "\n",
       "              genre  na_sales  eu_sales  jp_sales  other_sales  critic_score  \\\n",
       "183          Sports      4.26      0.26      0.01         0.71          94.0   \n",
       "377          Sports      0.59      2.36      0.04         0.51          84.0   \n",
       "456          Action      1.80      0.97      0.00         0.29          74.0   \n",
       "475        Fighting      1.57      1.02      0.00         0.41           NaN   \n",
       "609         Shooter      2.36      0.14      0.00         0.03           NaN   \n",
       "...             ...       ...       ...       ...          ...           ...   \n",
       "16373        Sports      0.01      0.00      0.00         0.00          43.0   \n",
       "16405        Racing      0.01      0.00      0.00         0.00          69.0   \n",
       "16448       Shooter      0.01      0.00      0.00         0.00          59.0   \n",
       "16458     Adventure      0.01      0.00      0.00         0.00           NaN   \n",
       "16522  Role-Playing      0.01      0.00      0.00         0.00          55.0   \n",
       "\n",
       "      user_score rating  \n",
       "183          8.5      E  \n",
       "377          6.4      E  \n",
       "456          7.9   E10+  \n",
       "475         <NA>   <NA>  \n",
       "609         <NA>   <NA>  \n",
       "...          ...    ...  \n",
       "16373        tbd   E10+  \n",
       "16405        6.5      T  \n",
       "16448        6.7      M  \n",
       "16458       <NA>   <NA>  \n",
       "16522        5.5      T  \n",
       "\n",
       "[269 rows x 11 columns]"
      ]
     },
     "execution_count": 21,
     "metadata": {},
     "output_type": "execute_result"
    }
   ],
   "source": [
    "data[data['year_of_release'].isna()]"
   ]
  },
  {
   "cell_type": "code",
   "execution_count": 22,
   "metadata": {
    "scrolled": true
   },
   "outputs": [
    {
     "data": {
      "text/plain": [
       "1980       9\n",
       "1981      46\n",
       "1982      36\n",
       "1983      17\n",
       "1984      14\n",
       "1985      14\n",
       "1986      21\n",
       "1987      16\n",
       "1988      15\n",
       "1989      17\n",
       "1990      16\n",
       "1991      41\n",
       "1992      43\n",
       "1993      60\n",
       "1994     121\n",
       "1995     219\n",
       "1996     263\n",
       "1997     289\n",
       "1998     379\n",
       "1999     338\n",
       "2000     350\n",
       "2001     482\n",
       "2002     829\n",
       "2003     775\n",
       "2004     762\n",
       "2005     939\n",
       "2006    1006\n",
       "2007    1197\n",
       "2008    1427\n",
       "2009    1426\n",
       "2010    1255\n",
       "2011    1136\n",
       "2012     653\n",
       "2013     544\n",
       "2014     581\n",
       "2015     606\n",
       "2016     502\n",
       "NaN      269\n",
       "Name: year_of_release, dtype: Int64"
      ]
     },
     "execution_count": 22,
     "metadata": {},
     "output_type": "execute_result"
    }
   ],
   "source": [
    "data['year_of_release'].value_counts(dropna=False).sort_index() #провекра на пропуск определенного года"
   ]
  },
  {
   "cell_type": "code",
   "execution_count": 23,
   "metadata": {},
   "outputs": [],
   "source": [
    "data = data.dropna(subset=['year_of_release'])"
   ]
  },
  {
   "cell_type": "code",
   "execution_count": 24,
   "metadata": {},
   "outputs": [
    {
     "data": {
      "text/plain": [
       "0"
      ]
     },
     "execution_count": 24,
     "metadata": {},
     "output_type": "execute_result"
    }
   ],
   "source": [
    "data['year_of_release'].isna().sum()"
   ]
  },
  {
   "cell_type": "markdown",
   "metadata": {},
   "source": [
    "Вывод: В колонке year_of_release в 269 строк отсутсвуют данные, можно удалить данные, они занимают меньше 2%"
   ]
  },
  {
   "cell_type": "markdown",
   "metadata": {},
   "source": [
    "#### user_score"
   ]
  },
  {
   "cell_type": "code",
   "execution_count": 25,
   "metadata": {
    "scrolled": true
   },
   "outputs": [
    {
     "data": {
      "text/html": [
       "<div>\n",
       "<style scoped>\n",
       "    .dataframe tbody tr th:only-of-type {\n",
       "        vertical-align: middle;\n",
       "    }\n",
       "\n",
       "    .dataframe tbody tr th {\n",
       "        vertical-align: top;\n",
       "    }\n",
       "\n",
       "    .dataframe thead th {\n",
       "        text-align: right;\n",
       "    }\n",
       "</style>\n",
       "<table border=\"1\" class=\"dataframe\">\n",
       "  <thead>\n",
       "    <tr style=\"text-align: right;\">\n",
       "      <th></th>\n",
       "      <th>name</th>\n",
       "      <th>platform</th>\n",
       "      <th>year_of_release</th>\n",
       "      <th>genre</th>\n",
       "      <th>na_sales</th>\n",
       "      <th>eu_sales</th>\n",
       "      <th>jp_sales</th>\n",
       "      <th>other_sales</th>\n",
       "      <th>critic_score</th>\n",
       "      <th>user_score</th>\n",
       "      <th>rating</th>\n",
       "    </tr>\n",
       "  </thead>\n",
       "  <tbody>\n",
       "    <tr>\n",
       "      <th>119</th>\n",
       "      <td>Zumba Fitness</td>\n",
       "      <td>Wii</td>\n",
       "      <td>2010</td>\n",
       "      <td>Sports</td>\n",
       "      <td>3.45</td>\n",
       "      <td>2.59</td>\n",
       "      <td>0.0</td>\n",
       "      <td>0.66</td>\n",
       "      <td>NaN</td>\n",
       "      <td>tbd</td>\n",
       "      <td>E</td>\n",
       "    </tr>\n",
       "    <tr>\n",
       "      <th>301</th>\n",
       "      <td>Namco Museum: 50th Anniversary</td>\n",
       "      <td>PS2</td>\n",
       "      <td>2005</td>\n",
       "      <td>Misc</td>\n",
       "      <td>2.08</td>\n",
       "      <td>1.35</td>\n",
       "      <td>0.0</td>\n",
       "      <td>0.54</td>\n",
       "      <td>61.0</td>\n",
       "      <td>tbd</td>\n",
       "      <td>E10+</td>\n",
       "    </tr>\n",
       "    <tr>\n",
       "      <th>520</th>\n",
       "      <td>Zumba Fitness 2</td>\n",
       "      <td>Wii</td>\n",
       "      <td>2011</td>\n",
       "      <td>Sports</td>\n",
       "      <td>1.51</td>\n",
       "      <td>1.03</td>\n",
       "      <td>0.0</td>\n",
       "      <td>0.27</td>\n",
       "      <td>NaN</td>\n",
       "      <td>tbd</td>\n",
       "      <td>T</td>\n",
       "    </tr>\n",
       "    <tr>\n",
       "      <th>645</th>\n",
       "      <td>uDraw Studio</td>\n",
       "      <td>Wii</td>\n",
       "      <td>2010</td>\n",
       "      <td>Misc</td>\n",
       "      <td>1.65</td>\n",
       "      <td>0.57</td>\n",
       "      <td>0.0</td>\n",
       "      <td>0.20</td>\n",
       "      <td>71.0</td>\n",
       "      <td>tbd</td>\n",
       "      <td>E</td>\n",
       "    </tr>\n",
       "    <tr>\n",
       "      <th>718</th>\n",
       "      <td>Just Dance Kids</td>\n",
       "      <td>Wii</td>\n",
       "      <td>2010</td>\n",
       "      <td>Misc</td>\n",
       "      <td>1.52</td>\n",
       "      <td>0.54</td>\n",
       "      <td>0.0</td>\n",
       "      <td>0.18</td>\n",
       "      <td>NaN</td>\n",
       "      <td>tbd</td>\n",
       "      <td>E</td>\n",
       "    </tr>\n",
       "    <tr>\n",
       "      <th>...</th>\n",
       "      <td>...</td>\n",
       "      <td>...</td>\n",
       "      <td>...</td>\n",
       "      <td>...</td>\n",
       "      <td>...</td>\n",
       "      <td>...</td>\n",
       "      <td>...</td>\n",
       "      <td>...</td>\n",
       "      <td>...</td>\n",
       "      <td>...</td>\n",
       "      <td>...</td>\n",
       "    </tr>\n",
       "    <tr>\n",
       "      <th>16695</th>\n",
       "      <td>Planet Monsters</td>\n",
       "      <td>GBA</td>\n",
       "      <td>2001</td>\n",
       "      <td>Action</td>\n",
       "      <td>0.01</td>\n",
       "      <td>0.00</td>\n",
       "      <td>0.0</td>\n",
       "      <td>0.00</td>\n",
       "      <td>67.0</td>\n",
       "      <td>tbd</td>\n",
       "      <td>E</td>\n",
       "    </tr>\n",
       "    <tr>\n",
       "      <th>16697</th>\n",
       "      <td>Bust-A-Move 3000</td>\n",
       "      <td>GC</td>\n",
       "      <td>2003</td>\n",
       "      <td>Puzzle</td>\n",
       "      <td>0.01</td>\n",
       "      <td>0.00</td>\n",
       "      <td>0.0</td>\n",
       "      <td>0.00</td>\n",
       "      <td>53.0</td>\n",
       "      <td>tbd</td>\n",
       "      <td>E</td>\n",
       "    </tr>\n",
       "    <tr>\n",
       "      <th>16698</th>\n",
       "      <td>Mega Brain Boost</td>\n",
       "      <td>DS</td>\n",
       "      <td>2008</td>\n",
       "      <td>Puzzle</td>\n",
       "      <td>0.01</td>\n",
       "      <td>0.00</td>\n",
       "      <td>0.0</td>\n",
       "      <td>0.00</td>\n",
       "      <td>48.0</td>\n",
       "      <td>tbd</td>\n",
       "      <td>E</td>\n",
       "    </tr>\n",
       "    <tr>\n",
       "      <th>16704</th>\n",
       "      <td>Plushees</td>\n",
       "      <td>DS</td>\n",
       "      <td>2008</td>\n",
       "      <td>Simulation</td>\n",
       "      <td>0.01</td>\n",
       "      <td>0.00</td>\n",
       "      <td>0.0</td>\n",
       "      <td>0.00</td>\n",
       "      <td>NaN</td>\n",
       "      <td>tbd</td>\n",
       "      <td>E</td>\n",
       "    </tr>\n",
       "    <tr>\n",
       "      <th>16706</th>\n",
       "      <td>Men in Black II: Alien Escape</td>\n",
       "      <td>GC</td>\n",
       "      <td>2003</td>\n",
       "      <td>Shooter</td>\n",
       "      <td>0.01</td>\n",
       "      <td>0.00</td>\n",
       "      <td>0.0</td>\n",
       "      <td>0.00</td>\n",
       "      <td>NaN</td>\n",
       "      <td>tbd</td>\n",
       "      <td>T</td>\n",
       "    </tr>\n",
       "  </tbody>\n",
       "</table>\n",
       "<p>2376 rows × 11 columns</p>\n",
       "</div>"
      ],
      "text/plain": [
       "                                 name platform  year_of_release       genre  \\\n",
       "119                     Zumba Fitness      Wii             2010      Sports   \n",
       "301    Namco Museum: 50th Anniversary      PS2             2005        Misc   \n",
       "520                   Zumba Fitness 2      Wii             2011      Sports   \n",
       "645                      uDraw Studio      Wii             2010        Misc   \n",
       "718                   Just Dance Kids      Wii             2010        Misc   \n",
       "...                               ...      ...              ...         ...   \n",
       "16695                 Planet Monsters      GBA             2001      Action   \n",
       "16697                Bust-A-Move 3000       GC             2003      Puzzle   \n",
       "16698                Mega Brain Boost       DS             2008      Puzzle   \n",
       "16704                        Plushees       DS             2008  Simulation   \n",
       "16706   Men in Black II: Alien Escape       GC             2003     Shooter   \n",
       "\n",
       "       na_sales  eu_sales  jp_sales  other_sales  critic_score user_score  \\\n",
       "119        3.45      2.59       0.0         0.66           NaN        tbd   \n",
       "301        2.08      1.35       0.0         0.54          61.0        tbd   \n",
       "520        1.51      1.03       0.0         0.27           NaN        tbd   \n",
       "645        1.65      0.57       0.0         0.20          71.0        tbd   \n",
       "718        1.52      0.54       0.0         0.18           NaN        tbd   \n",
       "...         ...       ...       ...          ...           ...        ...   \n",
       "16695      0.01      0.00       0.0         0.00          67.0        tbd   \n",
       "16697      0.01      0.00       0.0         0.00          53.0        tbd   \n",
       "16698      0.01      0.00       0.0         0.00          48.0        tbd   \n",
       "16704      0.01      0.00       0.0         0.00           NaN        tbd   \n",
       "16706      0.01      0.00       0.0         0.00           NaN        tbd   \n",
       "\n",
       "      rating  \n",
       "119        E  \n",
       "301     E10+  \n",
       "520        T  \n",
       "645        E  \n",
       "718        E  \n",
       "...      ...  \n",
       "16695      E  \n",
       "16697      E  \n",
       "16698      E  \n",
       "16704      E  \n",
       "16706      T  \n",
       "\n",
       "[2376 rows x 11 columns]"
      ]
     },
     "execution_count": 25,
     "metadata": {},
     "output_type": "execute_result"
    }
   ],
   "source": [
    "data.query('user_score == \"tbd\"')"
   ]
  },
  {
   "cell_type": "markdown",
   "metadata": {},
   "source": [
    "tbd = to be determined, что переводится будет определено, возможно связано с сайтом, откуда получали данные. Предлагаю обнулить `critic_score`,`user_score` все отсутствующие данные "
   ]
  },
  {
   "cell_type": "code",
   "execution_count": 26,
   "metadata": {},
   "outputs": [],
   "source": [
    "data['user_score'] = pd.to_numeric(data['user_score'], errors='coerce')"
   ]
  },
  {
   "cell_type": "code",
   "execution_count": 27,
   "metadata": {},
   "outputs": [
    {
     "data": {
      "text/plain": [
       "0    8.0\n",
       "1    NaN\n",
       "2    8.3\n",
       "Name: user_score, dtype: float64"
      ]
     },
     "execution_count": 27,
     "metadata": {},
     "output_type": "execute_result"
    }
   ],
   "source": [
    "data['user_score'].head(3)"
   ]
  },
  {
   "cell_type": "markdown",
   "metadata": {},
   "source": [
    "#### rating"
   ]
  },
  {
   "cell_type": "code",
   "execution_count": 28,
   "metadata": {
    "scrolled": true
   },
   "outputs": [
    {
     "data": {
      "text/plain": [
       "6676"
      ]
     },
     "execution_count": 28,
     "metadata": {},
     "output_type": "execute_result"
    }
   ],
   "source": [
    "data['rating'].isna().sum()"
   ]
  },
  {
   "cell_type": "code",
   "execution_count": 29,
   "metadata": {},
   "outputs": [],
   "source": [
    "data['rating'] = data['rating'].fillna('unknown')"
   ]
  },
  {
   "cell_type": "markdown",
   "metadata": {},
   "source": [
    "**Вывод**\n",
    "Организации ESRB осуществляет деятельность в США и Канаде с этим связаны пропуски в данных рейтинга, а не с ошибкой заполнения данных "
   ]
  },
  {
   "cell_type": "markdown",
   "metadata": {},
   "source": [
    "#### Суммарные продажи "
   ]
  },
  {
   "cell_type": "code",
   "execution_count": 30,
   "metadata": {},
   "outputs": [],
   "source": [
    "data['total_sales'] = data['na_sales'] + data['eu_sales'] + data['jp_sales'] + data['other_sales']"
   ]
  },
  {
   "cell_type": "code",
   "execution_count": 31,
   "metadata": {
    "scrolled": true
   },
   "outputs": [
    {
     "data": {
      "text/plain": [
       "0        82.54\n",
       "1        40.24\n",
       "2        35.52\n",
       "3        32.77\n",
       "4        31.38\n",
       "         ...  \n",
       "16710     0.01\n",
       "16711     0.01\n",
       "16712     0.01\n",
       "16713     0.01\n",
       "16714     0.01\n",
       "Name: total_sales, Length: 16444, dtype: float64"
      ]
     },
     "execution_count": 31,
     "metadata": {},
     "output_type": "execute_result"
    }
   ],
   "source": [
    "data['total_sales']"
   ]
  },
  {
   "cell_type": "markdown",
   "metadata": {},
   "source": [
    "#### Проверка на дубликаты"
   ]
  },
  {
   "cell_type": "code",
   "execution_count": 32,
   "metadata": {
    "scrolled": true
   },
   "outputs": [
    {
     "data": {
      "text/html": [
       "<div>\n",
       "<style scoped>\n",
       "    .dataframe tbody tr th:only-of-type {\n",
       "        vertical-align: middle;\n",
       "    }\n",
       "\n",
       "    .dataframe tbody tr th {\n",
       "        vertical-align: top;\n",
       "    }\n",
       "\n",
       "    .dataframe thead th {\n",
       "        text-align: right;\n",
       "    }\n",
       "</style>\n",
       "<table border=\"1\" class=\"dataframe\">\n",
       "  <thead>\n",
       "    <tr style=\"text-align: right;\">\n",
       "      <th></th>\n",
       "      <th>name</th>\n",
       "      <th>platform</th>\n",
       "      <th>year_of_release</th>\n",
       "      <th>genre</th>\n",
       "      <th>na_sales</th>\n",
       "      <th>eu_sales</th>\n",
       "      <th>jp_sales</th>\n",
       "      <th>other_sales</th>\n",
       "      <th>critic_score</th>\n",
       "      <th>user_score</th>\n",
       "      <th>rating</th>\n",
       "      <th>total_sales</th>\n",
       "    </tr>\n",
       "  </thead>\n",
       "  <tbody>\n",
       "  </tbody>\n",
       "</table>\n",
       "</div>"
      ],
      "text/plain": [
       "Empty DataFrame\n",
       "Columns: [name, platform, year_of_release, genre, na_sales, eu_sales, jp_sales, other_sales, critic_score, user_score, rating, total_sales]\n",
       "Index: []"
      ]
     },
     "execution_count": 32,
     "metadata": {},
     "output_type": "execute_result"
    }
   ],
   "source": [
    "data[data.duplicated()]"
   ]
  },
  {
   "cell_type": "code",
   "execution_count": 33,
   "metadata": {},
   "outputs": [
    {
     "data": {
      "text/plain": [
       "name               11426\n",
       "platform              31\n",
       "year_of_release       37\n",
       "genre                 12\n",
       "na_sales             401\n",
       "eu_sales             307\n",
       "jp_sales             244\n",
       "other_sales          155\n",
       "critic_score          81\n",
       "user_score            95\n",
       "rating                 9\n",
       "total_sales         1004\n",
       "dtype: int64"
      ]
     },
     "execution_count": 33,
     "metadata": {},
     "output_type": "execute_result"
    }
   ],
   "source": [
    "data.nunique()"
   ]
  },
  {
   "cell_type": "code",
   "execution_count": 34,
   "metadata": {},
   "outputs": [
    {
     "data": {
      "text/html": [
       "<div>\n",
       "<style scoped>\n",
       "    .dataframe tbody tr th:only-of-type {\n",
       "        vertical-align: middle;\n",
       "    }\n",
       "\n",
       "    .dataframe tbody tr th {\n",
       "        vertical-align: top;\n",
       "    }\n",
       "\n",
       "    .dataframe thead th {\n",
       "        text-align: right;\n",
       "    }\n",
       "</style>\n",
       "<table border=\"1\" class=\"dataframe\">\n",
       "  <thead>\n",
       "    <tr style=\"text-align: right;\">\n",
       "      <th></th>\n",
       "      <th>name</th>\n",
       "      <th>platform</th>\n",
       "      <th>year_of_release</th>\n",
       "      <th>genre</th>\n",
       "      <th>na_sales</th>\n",
       "      <th>eu_sales</th>\n",
       "      <th>jp_sales</th>\n",
       "      <th>other_sales</th>\n",
       "      <th>critic_score</th>\n",
       "      <th>user_score</th>\n",
       "      <th>rating</th>\n",
       "      <th>total_sales</th>\n",
       "    </tr>\n",
       "  </thead>\n",
       "  <tbody>\n",
       "    <tr>\n",
       "      <th>604</th>\n",
       "      <td>Madden NFL 13</td>\n",
       "      <td>PS3</td>\n",
       "      <td>2012</td>\n",
       "      <td>Sports</td>\n",
       "      <td>2.11</td>\n",
       "      <td>0.22</td>\n",
       "      <td>0.0</td>\n",
       "      <td>0.23</td>\n",
       "      <td>83.0</td>\n",
       "      <td>5.5</td>\n",
       "      <td>E</td>\n",
       "      <td>2.56</td>\n",
       "    </tr>\n",
       "    <tr>\n",
       "      <th>16230</th>\n",
       "      <td>Madden NFL 13</td>\n",
       "      <td>PS3</td>\n",
       "      <td>2012</td>\n",
       "      <td>Sports</td>\n",
       "      <td>0.00</td>\n",
       "      <td>0.01</td>\n",
       "      <td>0.0</td>\n",
       "      <td>0.00</td>\n",
       "      <td>83.0</td>\n",
       "      <td>5.5</td>\n",
       "      <td>E</td>\n",
       "      <td>0.01</td>\n",
       "    </tr>\n",
       "  </tbody>\n",
       "</table>\n",
       "</div>"
      ],
      "text/plain": [
       "                name platform  year_of_release   genre  na_sales  eu_sales  \\\n",
       "604    Madden NFL 13      PS3             2012  Sports      2.11      0.22   \n",
       "16230  Madden NFL 13      PS3             2012  Sports      0.00      0.01   \n",
       "\n",
       "       jp_sales  other_sales  critic_score  user_score rating  total_sales  \n",
       "604         0.0         0.23          83.0         5.5      E         2.56  \n",
       "16230       0.0         0.00          83.0         5.5      E         0.01  "
      ]
     },
     "execution_count": 34,
     "metadata": {},
     "output_type": "execute_result"
    }
   ],
   "source": [
    "data[data[['name', 'platform','year_of_release']].duplicated(keep=False)]"
   ]
  },
  {
   "cell_type": "code",
   "execution_count": 35,
   "metadata": {},
   "outputs": [],
   "source": [
    "data = data.drop(data[data[['name', 'platform','year_of_release']].duplicated(keep=\"first\")].index).reset_index()"
   ]
  },
  {
   "cell_type": "code",
   "execution_count": 36,
   "metadata": {},
   "outputs": [
    {
     "data": {
      "text/html": [
       "<div>\n",
       "<style scoped>\n",
       "    .dataframe tbody tr th:only-of-type {\n",
       "        vertical-align: middle;\n",
       "    }\n",
       "\n",
       "    .dataframe tbody tr th {\n",
       "        vertical-align: top;\n",
       "    }\n",
       "\n",
       "    .dataframe thead th {\n",
       "        text-align: right;\n",
       "    }\n",
       "</style>\n",
       "<table border=\"1\" class=\"dataframe\">\n",
       "  <thead>\n",
       "    <tr style=\"text-align: right;\">\n",
       "      <th></th>\n",
       "      <th>index</th>\n",
       "      <th>name</th>\n",
       "      <th>platform</th>\n",
       "      <th>year_of_release</th>\n",
       "      <th>genre</th>\n",
       "      <th>na_sales</th>\n",
       "      <th>eu_sales</th>\n",
       "      <th>jp_sales</th>\n",
       "      <th>other_sales</th>\n",
       "      <th>critic_score</th>\n",
       "      <th>user_score</th>\n",
       "      <th>rating</th>\n",
       "      <th>total_sales</th>\n",
       "    </tr>\n",
       "  </thead>\n",
       "  <tbody>\n",
       "  </tbody>\n",
       "</table>\n",
       "</div>"
      ],
      "text/plain": [
       "Empty DataFrame\n",
       "Columns: [index, name, platform, year_of_release, genre, na_sales, eu_sales, jp_sales, other_sales, critic_score, user_score, rating, total_sales]\n",
       "Index: []"
      ]
     },
     "execution_count": 36,
     "metadata": {},
     "output_type": "execute_result"
    }
   ],
   "source": [
    "data[data[['name', 'platform','year_of_release']].duplicated(keep=False)]"
   ]
  },
  {
   "cell_type": "code",
   "execution_count": 37,
   "metadata": {
    "scrolled": true
   },
   "outputs": [
    {
     "data": {
      "text/html": [
       "<div>\n",
       "<style scoped>\n",
       "    .dataframe tbody tr th:only-of-type {\n",
       "        vertical-align: middle;\n",
       "    }\n",
       "\n",
       "    .dataframe tbody tr th {\n",
       "        vertical-align: top;\n",
       "    }\n",
       "\n",
       "    .dataframe thead th {\n",
       "        text-align: right;\n",
       "    }\n",
       "</style>\n",
       "<table border=\"1\" class=\"dataframe\">\n",
       "  <thead>\n",
       "    <tr style=\"text-align: right;\">\n",
       "      <th></th>\n",
       "      <th>index</th>\n",
       "      <th>name</th>\n",
       "      <th>platform</th>\n",
       "      <th>year_of_release</th>\n",
       "      <th>genre</th>\n",
       "      <th>na_sales</th>\n",
       "      <th>eu_sales</th>\n",
       "      <th>jp_sales</th>\n",
       "      <th>other_sales</th>\n",
       "      <th>critic_score</th>\n",
       "      <th>user_score</th>\n",
       "      <th>rating</th>\n",
       "      <th>total_sales</th>\n",
       "    </tr>\n",
       "  </thead>\n",
       "  <tbody>\n",
       "    <tr>\n",
       "      <th>503</th>\n",
       "      <td>507</td>\n",
       "      <td>Madden NFL 13</td>\n",
       "      <td>X360</td>\n",
       "      <td>2012</td>\n",
       "      <td>Sports</td>\n",
       "      <td>2.53</td>\n",
       "      <td>0.15</td>\n",
       "      <td>0.0</td>\n",
       "      <td>0.17</td>\n",
       "      <td>81.0</td>\n",
       "      <td>5.8</td>\n",
       "      <td>E</td>\n",
       "      <td>2.85</td>\n",
       "    </tr>\n",
       "    <tr>\n",
       "      <th>600</th>\n",
       "      <td>604</td>\n",
       "      <td>Madden NFL 13</td>\n",
       "      <td>PS3</td>\n",
       "      <td>2012</td>\n",
       "      <td>Sports</td>\n",
       "      <td>2.11</td>\n",
       "      <td>0.22</td>\n",
       "      <td>0.0</td>\n",
       "      <td>0.23</td>\n",
       "      <td>83.0</td>\n",
       "      <td>5.5</td>\n",
       "      <td>E</td>\n",
       "      <td>2.56</td>\n",
       "    </tr>\n",
       "    <tr>\n",
       "      <th>3933</th>\n",
       "      <td>3986</td>\n",
       "      <td>Madden NFL 13</td>\n",
       "      <td>Wii</td>\n",
       "      <td>2012</td>\n",
       "      <td>Sports</td>\n",
       "      <td>0.47</td>\n",
       "      <td>0.00</td>\n",
       "      <td>0.0</td>\n",
       "      <td>0.03</td>\n",
       "      <td>NaN</td>\n",
       "      <td>7.3</td>\n",
       "      <td>E</td>\n",
       "      <td>0.50</td>\n",
       "    </tr>\n",
       "    <tr>\n",
       "      <th>5800</th>\n",
       "      <td>5887</td>\n",
       "      <td>Madden NFL 13</td>\n",
       "      <td>PSV</td>\n",
       "      <td>2012</td>\n",
       "      <td>Sports</td>\n",
       "      <td>0.28</td>\n",
       "      <td>0.00</td>\n",
       "      <td>0.0</td>\n",
       "      <td>0.02</td>\n",
       "      <td>63.0</td>\n",
       "      <td>7.3</td>\n",
       "      <td>E</td>\n",
       "      <td>0.30</td>\n",
       "    </tr>\n",
       "    <tr>\n",
       "      <th>6956</th>\n",
       "      <td>7066</td>\n",
       "      <td>Madden NFL 13</td>\n",
       "      <td>WiiU</td>\n",
       "      <td>2012</td>\n",
       "      <td>Sports</td>\n",
       "      <td>0.21</td>\n",
       "      <td>0.00</td>\n",
       "      <td>0.0</td>\n",
       "      <td>0.02</td>\n",
       "      <td>75.0</td>\n",
       "      <td>6.7</td>\n",
       "      <td>E</td>\n",
       "      <td>0.23</td>\n",
       "    </tr>\n",
       "  </tbody>\n",
       "</table>\n",
       "</div>"
      ],
      "text/plain": [
       "      index           name platform  year_of_release   genre  na_sales  \\\n",
       "503     507  Madden NFL 13     X360             2012  Sports      2.53   \n",
       "600     604  Madden NFL 13      PS3             2012  Sports      2.11   \n",
       "3933   3986  Madden NFL 13      Wii             2012  Sports      0.47   \n",
       "5800   5887  Madden NFL 13      PSV             2012  Sports      0.28   \n",
       "6956   7066  Madden NFL 13     WiiU             2012  Sports      0.21   \n",
       "\n",
       "      eu_sales  jp_sales  other_sales  critic_score  user_score rating  \\\n",
       "503       0.15       0.0         0.17          81.0         5.8      E   \n",
       "600       0.22       0.0         0.23          83.0         5.5      E   \n",
       "3933      0.00       0.0         0.03           NaN         7.3      E   \n",
       "5800      0.00       0.0         0.02          63.0         7.3      E   \n",
       "6956      0.00       0.0         0.02          75.0         6.7      E   \n",
       "\n",
       "      total_sales  \n",
       "503          2.85  \n",
       "600          2.56  \n",
       "3933         0.50  \n",
       "5800         0.30  \n",
       "6956         0.23  "
      ]
     },
     "execution_count": 37,
     "metadata": {},
     "output_type": "execute_result"
    }
   ],
   "source": [
    "data.query('name==\"Madden NFL 13\"')"
   ]
  },
  {
   "cell_type": "markdown",
   "metadata": {},
   "source": [
    "Убрали неявный дубликат Madden NFL 13"
   ]
  },
  {
   "cell_type": "markdown",
   "metadata": {},
   "source": [
    "#### Промежуточный вывод\n",
    "- Преобразовали типы данных\n",
    "- Удалили пустые строки в `name`\n",
    "- Удалили менее 2% отсутствующих данных `year`\n",
    "- Дубликаты явные \n",
    "- Удалили неявный дубликат Madden NFL 13\n",
    "- Заменили значение *tbd* `, user_score` на NaN\n",
    "- `rating` заменили пустые строки на `unknown`\n",
    "- Организации ESRB осуществляет деятельность в США и Канаде с этим связаны пропуски в данных `rating`, а не с ошибкой заполнения данных \n",
    "- Добавили колонку total_sales сумарное значение "
   ]
  },
  {
   "cell_type": "markdown",
   "metadata": {},
   "source": [
    "## Исследование данных"
   ]
  },
  {
   "cell_type": "markdown",
   "metadata": {},
   "source": [
    "### Выпуск игр в разные годы"
   ]
  },
  {
   "cell_type": "code",
   "execution_count": 39,
   "metadata": {
    "scrolled": true
   },
   "outputs": [
    {
     "data": {
      "text/html": [
       "<div>\n",
       "<style scoped>\n",
       "    .dataframe tbody tr th:only-of-type {\n",
       "        vertical-align: middle;\n",
       "    }\n",
       "\n",
       "    .dataframe tbody tr th {\n",
       "        vertical-align: top;\n",
       "    }\n",
       "\n",
       "    .dataframe thead th {\n",
       "        text-align: right;\n",
       "    }\n",
       "</style>\n",
       "<table border=\"1\" class=\"dataframe\">\n",
       "  <thead>\n",
       "    <tr style=\"text-align: right;\">\n",
       "      <th></th>\n",
       "      <th>games_count</th>\n",
       "    </tr>\n",
       "    <tr>\n",
       "      <th>year_of_release</th>\n",
       "      <th></th>\n",
       "    </tr>\n",
       "  </thead>\n",
       "  <tbody>\n",
       "    <tr>\n",
       "      <th>1980</th>\n",
       "      <td>9</td>\n",
       "    </tr>\n",
       "    <tr>\n",
       "      <th>1981</th>\n",
       "      <td>46</td>\n",
       "    </tr>\n",
       "    <tr>\n",
       "      <th>1982</th>\n",
       "      <td>36</td>\n",
       "    </tr>\n",
       "    <tr>\n",
       "      <th>1983</th>\n",
       "      <td>17</td>\n",
       "    </tr>\n",
       "    <tr>\n",
       "      <th>1984</th>\n",
       "      <td>14</td>\n",
       "    </tr>\n",
       "    <tr>\n",
       "      <th>1985</th>\n",
       "      <td>14</td>\n",
       "    </tr>\n",
       "    <tr>\n",
       "      <th>1986</th>\n",
       "      <td>21</td>\n",
       "    </tr>\n",
       "    <tr>\n",
       "      <th>1987</th>\n",
       "      <td>16</td>\n",
       "    </tr>\n",
       "    <tr>\n",
       "      <th>1988</th>\n",
       "      <td>15</td>\n",
       "    </tr>\n",
       "    <tr>\n",
       "      <th>1989</th>\n",
       "      <td>17</td>\n",
       "    </tr>\n",
       "    <tr>\n",
       "      <th>1990</th>\n",
       "      <td>16</td>\n",
       "    </tr>\n",
       "    <tr>\n",
       "      <th>1991</th>\n",
       "      <td>41</td>\n",
       "    </tr>\n",
       "    <tr>\n",
       "      <th>1992</th>\n",
       "      <td>43</td>\n",
       "    </tr>\n",
       "    <tr>\n",
       "      <th>1993</th>\n",
       "      <td>60</td>\n",
       "    </tr>\n",
       "    <tr>\n",
       "      <th>1994</th>\n",
       "      <td>121</td>\n",
       "    </tr>\n",
       "    <tr>\n",
       "      <th>1995</th>\n",
       "      <td>219</td>\n",
       "    </tr>\n",
       "    <tr>\n",
       "      <th>1996</th>\n",
       "      <td>263</td>\n",
       "    </tr>\n",
       "    <tr>\n",
       "      <th>1997</th>\n",
       "      <td>289</td>\n",
       "    </tr>\n",
       "    <tr>\n",
       "      <th>1998</th>\n",
       "      <td>379</td>\n",
       "    </tr>\n",
       "    <tr>\n",
       "      <th>1999</th>\n",
       "      <td>338</td>\n",
       "    </tr>\n",
       "    <tr>\n",
       "      <th>2000</th>\n",
       "      <td>350</td>\n",
       "    </tr>\n",
       "    <tr>\n",
       "      <th>2001</th>\n",
       "      <td>482</td>\n",
       "    </tr>\n",
       "    <tr>\n",
       "      <th>2002</th>\n",
       "      <td>829</td>\n",
       "    </tr>\n",
       "    <tr>\n",
       "      <th>2003</th>\n",
       "      <td>775</td>\n",
       "    </tr>\n",
       "    <tr>\n",
       "      <th>2004</th>\n",
       "      <td>762</td>\n",
       "    </tr>\n",
       "    <tr>\n",
       "      <th>2005</th>\n",
       "      <td>939</td>\n",
       "    </tr>\n",
       "    <tr>\n",
       "      <th>2006</th>\n",
       "      <td>1006</td>\n",
       "    </tr>\n",
       "    <tr>\n",
       "      <th>2007</th>\n",
       "      <td>1197</td>\n",
       "    </tr>\n",
       "    <tr>\n",
       "      <th>2008</th>\n",
       "      <td>1427</td>\n",
       "    </tr>\n",
       "    <tr>\n",
       "      <th>2009</th>\n",
       "      <td>1426</td>\n",
       "    </tr>\n",
       "    <tr>\n",
       "      <th>2010</th>\n",
       "      <td>1255</td>\n",
       "    </tr>\n",
       "    <tr>\n",
       "      <th>2011</th>\n",
       "      <td>1136</td>\n",
       "    </tr>\n",
       "    <tr>\n",
       "      <th>2012</th>\n",
       "      <td>652</td>\n",
       "    </tr>\n",
       "    <tr>\n",
       "      <th>2013</th>\n",
       "      <td>544</td>\n",
       "    </tr>\n",
       "    <tr>\n",
       "      <th>2014</th>\n",
       "      <td>581</td>\n",
       "    </tr>\n",
       "    <tr>\n",
       "      <th>2015</th>\n",
       "      <td>606</td>\n",
       "    </tr>\n",
       "    <tr>\n",
       "      <th>2016</th>\n",
       "      <td>502</td>\n",
       "    </tr>\n",
       "  </tbody>\n",
       "</table>\n",
       "</div>"
      ],
      "text/plain": [
       "                 games_count\n",
       "year_of_release             \n",
       "1980                       9\n",
       "1981                      46\n",
       "1982                      36\n",
       "1983                      17\n",
       "1984                      14\n",
       "1985                      14\n",
       "1986                      21\n",
       "1987                      16\n",
       "1988                      15\n",
       "1989                      17\n",
       "1990                      16\n",
       "1991                      41\n",
       "1992                      43\n",
       "1993                      60\n",
       "1994                     121\n",
       "1995                     219\n",
       "1996                     263\n",
       "1997                     289\n",
       "1998                     379\n",
       "1999                     338\n",
       "2000                     350\n",
       "2001                     482\n",
       "2002                     829\n",
       "2003                     775\n",
       "2004                     762\n",
       "2005                     939\n",
       "2006                    1006\n",
       "2007                    1197\n",
       "2008                    1427\n",
       "2009                    1426\n",
       "2010                    1255\n",
       "2011                    1136\n",
       "2012                     652\n",
       "2013                     544\n",
       "2014                     581\n",
       "2015                     606\n",
       "2016                     502"
      ]
     },
     "execution_count": 39,
     "metadata": {},
     "output_type": "execute_result"
    }
   ],
   "source": [
    "games_count = data.groupby(['year_of_release']).agg(games_count=('name', 'count'))\n",
    "games_count"
   ]
  },
  {
   "cell_type": "code",
   "execution_count": 40,
   "metadata": {},
   "outputs": [
    {
     "data": {
      "image/png": "[encoded data removed]",
      "text/plain": [
       "<Figure size 720x360 with 1 Axes>"
      ]
     },
     "metadata": {
      "needs_background": "light"
     },
     "output_type": "display_data"
    }
   ],
   "source": [
    "games_count.plot.bar(figsize=(10, 5))\n",
    "plt.title('Количество игр по годам')\n",
    "plt.xlabel('Года')\n",
    "plt.ylabel('Количество')\n",
    "plt.show()"
   ]
  },
  {
   "cell_type": "code",
   "execution_count": 41,
   "metadata": {},
   "outputs": [
    {
     "data": {
      "image/png": "[encoded data removed]",
      "text/plain": [
       "<Figure size 288x432 with 1 Axes>"
      ]
     },
     "metadata": {
      "needs_background": "light"
     },
     "output_type": "display_data"
    }
   ],
   "source": [
    "plt.figure(figsize=(4, 6))\n",
    "seaborn.boxplot(y='year_of_release', data=data)\n",
    "plt.grid(True)\n",
    "plt.xlabel('Колонка year_of_release')\n",
    "plt.ylabel('Года')\n",
    "plt.title('Диаграмма размаха по годам выпуска')\n",
    "plt.show()"
   ]
  },
  {
   "cell_type": "code",
   "execution_count": 42,
   "metadata": {},
   "outputs": [
    {
     "data": {
      "text/html": [
       "<div>\n",
       "<style scoped>\n",
       "    .dataframe tbody tr th:only-of-type {\n",
       "        vertical-align: middle;\n",
       "    }\n",
       "\n",
       "    .dataframe tbody tr th {\n",
       "        vertical-align: top;\n",
       "    }\n",
       "\n",
       "    .dataframe thead th {\n",
       "        text-align: right;\n",
       "    }\n",
       "</style>\n",
       "<table border=\"1\" class=\"dataframe\">\n",
       "  <thead>\n",
       "    <tr style=\"text-align: right;\">\n",
       "      <th></th>\n",
       "      <th>games_count</th>\n",
       "    </tr>\n",
       "  </thead>\n",
       "  <tbody>\n",
       "    <tr>\n",
       "      <th>count</th>\n",
       "      <td>37.00000</td>\n",
       "    </tr>\n",
       "    <tr>\n",
       "      <th>mean</th>\n",
       "      <td>444.40541</td>\n",
       "    </tr>\n",
       "    <tr>\n",
       "      <th>std</th>\n",
       "      <td>451.59153</td>\n",
       "    </tr>\n",
       "    <tr>\n",
       "      <th>min</th>\n",
       "      <td>9.00000</td>\n",
       "    </tr>\n",
       "    <tr>\n",
       "      <th>25%</th>\n",
       "      <td>36.00000</td>\n",
       "    </tr>\n",
       "    <tr>\n",
       "      <th>50%</th>\n",
       "      <td>338.00000</td>\n",
       "    </tr>\n",
       "    <tr>\n",
       "      <th>75%</th>\n",
       "      <td>762.00000</td>\n",
       "    </tr>\n",
       "    <tr>\n",
       "      <th>max</th>\n",
       "      <td>1427.00000</td>\n",
       "    </tr>\n",
       "  </tbody>\n",
       "</table>\n",
       "</div>"
      ],
      "text/plain": [
       "       games_count\n",
       "count     37.00000\n",
       "mean     444.40541\n",
       "std      451.59153\n",
       "min        9.00000\n",
       "25%       36.00000\n",
       "50%      338.00000\n",
       "75%      762.00000\n",
       "max     1427.00000"
      ]
     },
     "execution_count": 42,
     "metadata": {},
     "output_type": "execute_result"
    }
   ],
   "source": [
    "games_count.describe()"
   ]
  },
  {
   "cell_type": "code",
   "execution_count": 43,
   "metadata": {},
   "outputs": [],
   "source": [
    "good_stat =  data.query('year_of_release >=1995')"
   ]
  },
  {
   "cell_type": "code",
   "execution_count": 44,
   "metadata": {},
   "outputs": [
    {
     "data": {
      "text/plain": [
       "<IntegerArray>\n",
       "[2006, 2008, 2009, 1996, 2005, 1999, 2007, 2010, 2013, 2004, 2002, 2001, 2011,\n",
       " 1998, 2015, 2012, 2014, 1997, 2016, 2003, 2000, 1995]\n",
       "Length: 22, dtype: Int64"
      ]
     },
     "execution_count": 44,
     "metadata": {},
     "output_type": "execute_result"
    }
   ],
   "source": [
    "good_stat['year_of_release'].unique()"
   ]
  },
  {
   "cell_type": "markdown",
   "metadata": {},
   "source": [
    "**Вывод**\n",
    "Как мы видим, производство игр росло экспоненциально и достигло пиков 2008, 2009 годов, затем резко упало, скорее всего связано с экономическим кризисом 2008 года. Имеем небольшое число выпущенных игр до 1995 можно от них избавится."
   ]
  },
  {
   "cell_type": "markdown",
   "metadata": {},
   "source": [
    "### Продажи по платформам"
   ]
  },
  {
   "cell_type": "code",
   "execution_count": 45,
   "metadata": {
    "scrolled": true
   },
   "outputs": [
    {
     "data": {
      "text/html": [
       "<div>\n",
       "<style scoped>\n",
       "    .dataframe tbody tr th:only-of-type {\n",
       "        vertical-align: middle;\n",
       "    }\n",
       "\n",
       "    .dataframe tbody tr th {\n",
       "        vertical-align: top;\n",
       "    }\n",
       "\n",
       "    .dataframe thead th {\n",
       "        text-align: right;\n",
       "    }\n",
       "</style>\n",
       "<table border=\"1\" class=\"dataframe\">\n",
       "  <thead>\n",
       "    <tr style=\"text-align: right;\">\n",
       "      <th></th>\n",
       "      <th>total_sales</th>\n",
       "    </tr>\n",
       "    <tr>\n",
       "      <th>platform</th>\n",
       "      <th></th>\n",
       "    </tr>\n",
       "  </thead>\n",
       "  <tbody>\n",
       "    <tr>\n",
       "      <th>PS2</th>\n",
       "      <td>1233.56</td>\n",
       "    </tr>\n",
       "    <tr>\n",
       "      <th>X360</th>\n",
       "      <td>961.24</td>\n",
       "    </tr>\n",
       "    <tr>\n",
       "      <th>PS3</th>\n",
       "      <td>931.33</td>\n",
       "    </tr>\n",
       "    <tr>\n",
       "      <th>Wii</th>\n",
       "      <td>891.18</td>\n",
       "    </tr>\n",
       "    <tr>\n",
       "      <th>DS</th>\n",
       "      <td>802.76</td>\n",
       "    </tr>\n",
       "  </tbody>\n",
       "</table>\n",
       "</div>"
      ],
      "text/plain": [
       "          total_sales\n",
       "platform             \n",
       "PS2           1233.56\n",
       "X360           961.24\n",
       "PS3            931.33\n",
       "Wii            891.18\n",
       "DS             802.76"
      ]
     },
     "execution_count": 45,
     "metadata": {},
     "output_type": "execute_result"
    }
   ],
   "source": [
    "platform_ = good_stat.groupby('platform').agg({'total_sales':'sum'}).sort_values(by='total_sales',ascending=False)\n",
    "platform_.head(5)"
   ]
  },
  {
   "cell_type": "code",
   "execution_count": 46,
   "metadata": {
    "scrolled": true
   },
   "outputs": [
    {
     "data": {
      "image/png": "[encoded data removed]",
      "text/plain": [
       "<Figure size 432x288 with 1 Axes>"
      ]
     },
     "metadata": {
      "needs_background": "light"
     },
     "output_type": "display_data"
    },
    {
     "data": {
      "image/png": "[encoded data removed]",
      "text/plain": [
       "<Figure size 432x288 with 1 Axes>"
      ]
     },
     "metadata": {
      "needs_background": "light"
     },
     "output_type": "display_data"
    },
    {
     "data": {
      "image/png": "[encoded data removed]",
      "text/plain": [
       "<Figure size 432x288 with 1 Axes>"
      ]
     },
     "metadata": {
      "needs_background": "light"
     },
     "output_type": "display_data"
    },
    {
     "data": {
      "image/png": "[encoded data removed]",
      "text/plain": [
       "<Figure size 432x288 with 1 Axes>"
      ]
     },
     "metadata": {
      "needs_background": "light"
     },
     "output_type": "display_data"
    },
    {
     "data": {
      "image/png": "[encoded data removed]",
      "text/plain": [
       "<Figure size 432x288 with 1 Axes>"
      ]
     },
     "metadata": {
      "needs_background": "light"
     },
     "output_type": "display_data"
    }
   ],
   "source": [
    "for i in platform_.index[:5]:\n",
    "    try:\n",
    "        pl = good_stat.query('platform == @i')\n",
    "        pl.groupby(['year_of_release'])['total_sales'].sum().plot.bar()\n",
    "        plt.title(f'{i} Продажи по годам')\n",
    "        plt.xlabel('Года')\n",
    "        plt.ylabel('Миллионы копий')\n",
    "        plt.show()\n",
    "    except:\n",
    "        print('smt wront', i)\n"
   ]
  },
  {
   "cell_type": "code",
   "execution_count": 47,
   "metadata": {
    "scrolled": true
   },
   "outputs": [
    {
     "data": {
      "text/plain": [
       "7.0"
      ]
     },
     "execution_count": 47,
     "metadata": {},
     "output_type": "execute_result"
    }
   ],
   "source": [
    "age_ = good_stat.groupby('platform')['year_of_release'].agg(['min', 'max'])\n",
    "(age_[min]-age_[max] + 1).median()"
   ]
  },
  {
   "cell_type": "markdown",
   "metadata": {},
   "source": [
    "**Вывод**\n",
    "- Наибольшие суммарные продажи среди платформ \n",
    "1. PS2\t1233.56\n",
    "2. X360\t961.24\n",
    "3. PS3\t931.34\n",
    "4. Wii\t891.18\n",
    "5. DS\t802.76\n",
    "- Пики продаж по годам \n",
    "1. PS2  2004г 200млн\n",
    "2. X360 2010г 160млн\n",
    "3. PS3  2011  160млн\n",
    "4. Wii  2009  200млн\n",
    "5. DS   2007  140млн\n",
    "\n",
    "- В среднем характерный срок жизни платформы 7 лет"
   ]
  },
  {
   "cell_type": "markdown",
   "metadata": {},
   "source": [
    "### Актуальный период"
   ]
  },
  {
   "cell_type": "code",
   "execution_count": 49,
   "metadata": {},
   "outputs": [],
   "source": [
    "actual_data = good_stat.query('year_of_release >=2013')"
   ]
  },
  {
   "cell_type": "code",
   "execution_count": 50,
   "metadata": {},
   "outputs": [
    {
     "data": {
      "text/plain": [
       "2015    606\n",
       "2014    581\n",
       "2013    544\n",
       "2016    502\n",
       "Name: year_of_release, dtype: Int64"
      ]
     },
     "execution_count": 50,
     "metadata": {},
     "output_type": "execute_result"
    }
   ],
   "source": [
    "actual_data['year_of_release'].value_counts()"
   ]
  },
  {
   "cell_type": "markdown",
   "metadata": {},
   "source": [
    "**Вывод**\n",
    "В ходе исследования жизни платформ разумно взять актуальный период 3 года включительно, именно эти данные помогут построить прогноз на следующий год"
   ]
  },
  {
   "cell_type": "markdown",
   "metadata": {},
   "source": [
    "### Актуальные платфоры по продажам"
   ]
  },
  {
   "cell_type": "code",
   "execution_count": 51,
   "metadata": {
    "scrolled": true
   },
   "outputs": [
    {
     "data": {
      "image/png": "[encoded data removed]",
      "text/plain": [
       "<Figure size 432x288 with 1 Axes>"
      ]
     },
     "metadata": {
      "needs_background": "light"
     },
     "output_type": "display_data"
    },
    {
     "data": {
      "image/png": "[encoded data removed]",
      "text/plain": [
       "<Figure size 432x288 with 1 Axes>"
      ]
     },
     "metadata": {
      "needs_background": "light"
     },
     "output_type": "display_data"
    },
    {
     "data": {
      "image/png": "[encoded data removed]",
      "text/plain": [
       "<Figure size 432x288 with 1 Axes>"
      ]
     },
     "metadata": {
      "needs_background": "light"
     },
     "output_type": "display_data"
    },
    {
     "data": {
      "image/png": "[encoded data removed]",
      "text/plain": [
       "<Figure size 432x288 with 1 Axes>"
      ]
     },
     "metadata": {
      "needs_background": "light"
     },
     "output_type": "display_data"
    },
    {
     "data": {
      "image/png": "[encoded data removed]",
      "text/plain": [
       "<Figure size 432x288 with 1 Axes>"
      ]
     },
     "metadata": {
      "needs_background": "light"
     },
     "output_type": "display_data"
    },
    {
     "data": {
      "image/png": "[encoded data removed]",
      "text/plain": [
       "<Figure size 432x288 with 1 Axes>"
      ]
     },
     "metadata": {
      "needs_background": "light"
     },
     "output_type": "display_data"
    },
    {
     "data": {
      "image/png": "[encoded data removed]",
      "text/plain": [
       "<Figure size 432x288 with 1 Axes>"
      ]
     },
     "metadata": {
      "needs_background": "light"
     },
     "output_type": "display_data"
    },
    {
     "data": {
      "image/png": "[encoded data removed]",
      "text/plain": [
       "<Figure size 432x288 with 1 Axes>"
      ]
     },
     "metadata": {
      "needs_background": "light"
     },
     "output_type": "display_data"
    },
    {
     "data": {
      "image/png": "[encoded data removed]",
      "text/plain": [
       "<Figure size 432x288 with 1 Axes>"
      ]
     },
     "metadata": {
      "needs_background": "light"
     },
     "output_type": "display_data"
    },
    {
     "data": {
      "image/png": "[encoded data removed]",
      "text/plain": [
       "<Figure size 432x288 with 1 Axes>"
      ]
     },
     "metadata": {
      "needs_background": "light"
     },
     "output_type": "display_data"
    },
    {
     "data": {
      "image/png": "[encoded data removed]",
      "text/plain": [
       "<Figure size 432x288 with 1 Axes>"
      ]
     },
     "metadata": {
      "needs_background": "light"
     },
     "output_type": "display_data"
    }
   ],
   "source": [
    "for i in actual_data['platform'].unique():\n",
    "    try:\n",
    "        pl = actual_data.query('platform == @i')\n",
    "        pl.groupby(['year_of_release'])['total_sales'].sum().plot.bar()\n",
    "        plt.title(f'{i} Продажи по годам')\n",
    "        plt.xlabel('Года')\n",
    "        plt.ylabel('Миллионы копий')\n",
    "        plt.show()\n",
    "    except:\n",
    "        print('smt wrong', {i})"
   ]
  },
  {
   "cell_type": "code",
   "execution_count": 52,
   "metadata": {},
   "outputs": [
    {
     "data": {
      "text/html": [
       "<style  type=\"text/css\" >\n",
       "#T_f7573_row0_col0,#T_f7573_row0_col3,#T_f7573_row0_col5,#T_f7573_row0_col7,#T_f7573_row0_col9,#T_f7573_row1_col2,#T_f7573_row1_col6,#T_f7573_row1_col8,#T_f7573_row2_col4,#T_f7573_row2_col10{\n",
       "            background-color:  #67000d;\n",
       "            color:  #f1f1f1;\n",
       "        }#T_f7573_row0_col2{\n",
       "            background-color:  #9d0d14;\n",
       "            color:  #f1f1f1;\n",
       "        }#T_f7573_row0_col4,#T_f7573_row0_col10,#T_f7573_row3_col0,#T_f7573_row3_col2,#T_f7573_row3_col3,#T_f7573_row3_col5,#T_f7573_row3_col6,#T_f7573_row3_col7,#T_f7573_row3_col8,#T_f7573_row3_col9{\n",
       "            background-color:  #fff5f0;\n",
       "            color:  #000000;\n",
       "        }#T_f7573_row0_col6{\n",
       "            background-color:  #b21218;\n",
       "            color:  #f1f1f1;\n",
       "        }#T_f7573_row0_col8{\n",
       "            background-color:  #71020e;\n",
       "            color:  #f1f1f1;\n",
       "        }#T_f7573_row1_col0{\n",
       "            background-color:  #dc2924;\n",
       "            color:  #f1f1f1;\n",
       "        }#T_f7573_row1_col3{\n",
       "            background-color:  #fc8969;\n",
       "            color:  #000000;\n",
       "        }#T_f7573_row1_col4{\n",
       "            background-color:  #bd151a;\n",
       "            color:  #f1f1f1;\n",
       "        }#T_f7573_row1_col5{\n",
       "            background-color:  #fee8de;\n",
       "            color:  #000000;\n",
       "        }#T_f7573_row1_col7{\n",
       "            background-color:  #fc8262;\n",
       "            color:  #000000;\n",
       "        }#T_f7573_row1_col9{\n",
       "            background-color:  #fc9070;\n",
       "            color:  #000000;\n",
       "        }#T_f7573_row1_col10{\n",
       "            background-color:  #ab1016;\n",
       "            color:  #f1f1f1;\n",
       "        }#T_f7573_row2_col0{\n",
       "            background-color:  #fca98c;\n",
       "            color:  #000000;\n",
       "        }#T_f7573_row2_col2{\n",
       "            background-color:  #fc8767;\n",
       "            color:  #000000;\n",
       "        }#T_f7573_row2_col3,#T_f7573_row2_col9{\n",
       "            background-color:  #fee1d4;\n",
       "            color:  #000000;\n",
       "        }#T_f7573_row2_col5{\n",
       "            background-color:  #ffefe8;\n",
       "            color:  #000000;\n",
       "        }#T_f7573_row2_col6{\n",
       "            background-color:  #fcb89e;\n",
       "            color:  #000000;\n",
       "        }#T_f7573_row2_col7{\n",
       "            background-color:  #fee2d5;\n",
       "            color:  #000000;\n",
       "        }#T_f7573_row2_col8{\n",
       "            background-color:  #e12d26;\n",
       "            color:  #f1f1f1;\n",
       "        }#T_f7573_row3_col4{\n",
       "            background-color:  #fb7555;\n",
       "            color:  #000000;\n",
       "        }#T_f7573_row3_col10{\n",
       "            background-color:  #fdd2bf;\n",
       "            color:  #000000;\n",
       "        }</style><table id=\"T_f7573_\" ><thead>    <tr>        <th class=\"index_name level0\" >platform</th>        <th class=\"col_heading level0 col0\" >3DS</th>        <th class=\"col_heading level0 col1\" >DS</th>        <th class=\"col_heading level0 col2\" >PC</th>        <th class=\"col_heading level0 col3\" >PS3</th>        <th class=\"col_heading level0 col4\" >PS4</th>        <th class=\"col_heading level0 col5\" >PSP</th>        <th class=\"col_heading level0 col6\" >PSV</th>        <th class=\"col_heading level0 col7\" >Wii</th>        <th class=\"col_heading level0 col8\" >WiiU</th>        <th class=\"col_heading level0 col9\" >X360</th>        <th class=\"col_heading level0 col10\" >XOne</th>    </tr>    <tr>        <th class=\"index_name level0\" >year_of_release</th>        <th class=\"blank\" ></th>        <th class=\"blank\" ></th>        <th class=\"blank\" ></th>        <th class=\"blank\" ></th>        <th class=\"blank\" ></th>        <th class=\"blank\" ></th>        <th class=\"blank\" ></th>        <th class=\"blank\" ></th>        <th class=\"blank\" ></th>        <th class=\"blank\" ></th>        <th class=\"blank\" ></th>    </tr></thead><tbody>\n",
       "                <tr>\n",
       "                        <th id=\"T_f7573_level0_row0\" class=\"row_heading level0 row0\" >2013</th>\n",
       "                        <td id=\"T_f7573_row0_col0\" class=\"data row0 col0\" >56.57000</td>\n",
       "                        <td id=\"T_f7573_row0_col1\" class=\"data row0 col1\" >1.54000</td>\n",
       "                        <td id=\"T_f7573_row0_col2\" class=\"data row0 col2\" >12.38000</td>\n",
       "                        <td id=\"T_f7573_row0_col3\" class=\"data row0 col3\" >113.25000</td>\n",
       "                        <td id=\"T_f7573_row0_col4\" class=\"data row0 col4\" >25.99000</td>\n",
       "                        <td id=\"T_f7573_row0_col5\" class=\"data row0 col5\" >3.14000</td>\n",
       "                        <td id=\"T_f7573_row0_col6\" class=\"data row0 col6\" >10.59000</td>\n",
       "                        <td id=\"T_f7573_row0_col7\" class=\"data row0 col7\" >8.59000</td>\n",
       "                        <td id=\"T_f7573_row0_col8\" class=\"data row0 col8\" >21.65000</td>\n",
       "                        <td id=\"T_f7573_row0_col9\" class=\"data row0 col9\" >88.58000</td>\n",
       "                        <td id=\"T_f7573_row0_col10\" class=\"data row0 col10\" >18.96000</td>\n",
       "            </tr>\n",
       "            <tr>\n",
       "                        <th id=\"T_f7573_level0_row1\" class=\"row_heading level0 row1\" >2014</th>\n",
       "                        <td id=\"T_f7573_row1_col0\" class=\"data row1 col0\" >43.76000</td>\n",
       "                        <td id=\"T_f7573_row1_col1\" class=\"data row1 col1\" >0.00000</td>\n",
       "                        <td id=\"T_f7573_row1_col2\" class=\"data row1 col2\" >13.28000</td>\n",
       "                        <td id=\"T_f7573_row1_col3\" class=\"data row1 col3\" >47.76000</td>\n",
       "                        <td id=\"T_f7573_row1_col4\" class=\"data row1 col4\" >100.00000</td>\n",
       "                        <td id=\"T_f7573_row1_col5\" class=\"data row1 col5\" >0.24000</td>\n",
       "                        <td id=\"T_f7573_row1_col6\" class=\"data row1 col6\" >11.90000</td>\n",
       "                        <td id=\"T_f7573_row1_col7\" class=\"data row1 col7\" >3.75000</td>\n",
       "                        <td id=\"T_f7573_row1_col8\" class=\"data row1 col8\" >22.03000</td>\n",
       "                        <td id=\"T_f7573_row1_col9\" class=\"data row1 col9\" >34.74000</td>\n",
       "                        <td id=\"T_f7573_row1_col10\" class=\"data row1 col10\" >54.07000</td>\n",
       "            </tr>\n",
       "            <tr>\n",
       "                        <th id=\"T_f7573_level0_row2\" class=\"row_heading level0 row2\" >2015</th>\n",
       "                        <td id=\"T_f7573_row2_col0\" class=\"data row2 col0\" >27.78000</td>\n",
       "                        <td id=\"T_f7573_row2_col1\" class=\"data row2 col1\" >0.00000</td>\n",
       "                        <td id=\"T_f7573_row2_col2\" class=\"data row2 col2\" >8.52000</td>\n",
       "                        <td id=\"T_f7573_row2_col3\" class=\"data row2 col3\" >16.82000</td>\n",
       "                        <td id=\"T_f7573_row2_col4\" class=\"data row2 col4\" >118.90000</td>\n",
       "                        <td id=\"T_f7573_row2_col5\" class=\"data row2 col5\" >0.12000</td>\n",
       "                        <td id=\"T_f7573_row2_col6\" class=\"data row2 col6\" >6.25000</td>\n",
       "                        <td id=\"T_f7573_row2_col7\" class=\"data row2 col7\" >1.14000</td>\n",
       "                        <td id=\"T_f7573_row2_col8\" class=\"data row2 col8\" >16.35000</td>\n",
       "                        <td id=\"T_f7573_row2_col9\" class=\"data row2 col9\" >11.96000</td>\n",
       "                        <td id=\"T_f7573_row2_col10\" class=\"data row2 col10\" >60.14000</td>\n",
       "            </tr>\n",
       "            <tr>\n",
       "                        <th id=\"T_f7573_level0_row3\" class=\"row_heading level0 row3\" >2016</th>\n",
       "                        <td id=\"T_f7573_row3_col0\" class=\"data row3 col0\" >15.14000</td>\n",
       "                        <td id=\"T_f7573_row3_col1\" class=\"data row3 col1\" >0.00000</td>\n",
       "                        <td id=\"T_f7573_row3_col2\" class=\"data row3 col2\" >5.25000</td>\n",
       "                        <td id=\"T_f7573_row3_col3\" class=\"data row3 col3\" >3.60000</td>\n",
       "                        <td id=\"T_f7573_row3_col4\" class=\"data row3 col4\" >69.25000</td>\n",
       "                        <td id=\"T_f7573_row3_col5\" class=\"data row3 col5\" >0.00000</td>\n",
       "                        <td id=\"T_f7573_row3_col6\" class=\"data row3 col6\" >4.25000</td>\n",
       "                        <td id=\"T_f7573_row3_col7\" class=\"data row3 col7\" >0.18000</td>\n",
       "                        <td id=\"T_f7573_row3_col8\" class=\"data row3 col8\" >4.60000</td>\n",
       "                        <td id=\"T_f7573_row3_col9\" class=\"data row3 col9\" >1.52000</td>\n",
       "                        <td id=\"T_f7573_row3_col10\" class=\"data row3 col10\" >26.15000</td>\n",
       "            </tr>\n",
       "    </tbody></table>"
      ],
      "text/plain": [
       "<pandas.io.formats.style.Styler at 0x7fcc2eb026a0>"
      ]
     },
     "execution_count": 52,
     "metadata": {},
     "output_type": "execute_result"
    }
   ],
   "source": [
    "pivot = actual_data.pivot_table(index=['year_of_release'],columns='platform',values='total_sales',aggfunc='sum').fillna(0)\n",
    "pivot.style.background_gradient(\n",
    "    subset=['PS4', '3DS', 'XOne', 'WiiU', 'PS3', 'X360', 'PC', 'Wii', 'PSV', 'PSP'], cmap=\"Reds\"\n",
    ")"
   ]
  },
  {
   "cell_type": "markdown",
   "metadata": {},
   "source": [
    "**Вывод**\n",
    "- Потенциальные лидерами по продажам за последние годы PS4 **118.9** млн и XOne **60,14** млн копий\n",
    "- Тенденция к снижению  3DS, PC, PSV, WiiU, X360, PS3\n",
    "- Поддержка psp прекращены в 2014"
   ]
  },
  {
   "cell_type": "markdown",
   "metadata": {},
   "source": [
    "### Диаграмма размаха по платформам"
   ]
  },
  {
   "cell_type": "code",
   "execution_count": 53,
   "metadata": {},
   "outputs": [
    {
     "data": {
      "image/png": "[encoded data removed]",
      "text/plain": [
       "<Figure size 720x432 with 1 Axes>"
      ]
     },
     "metadata": {
      "needs_background": "light"
     },
     "output_type": "display_data"
    }
   ],
   "source": [
    "plt.figure(figsize=(10, 6))\n",
    "seaborn.boxplot(x='platform', y='total_sales', data=actual_data)\n",
    "\n",
    "plt.xlabel('Платформа')\n",
    "plt.ylabel('Глобальные продажи игр млн копий')\n",
    "plt.title('График по глобальным продажам игр в разбивке по платформам')\n",
    "plt.show()"
   ]
  },
  {
   "cell_type": "code",
   "execution_count": 54,
   "metadata": {},
   "outputs": [
    {
     "data": {
      "image/png": "[encoded data removed]",
      "text/plain": [
       "<Figure size 720x432 with 1 Axes>"
      ]
     },
     "metadata": {
      "needs_background": "light"
     },
     "output_type": "display_data"
    }
   ],
   "source": [
    "plt.figure(figsize=(10, 6))\n",
    "seaborn.boxplot(x='platform', y='total_sales', data=actual_data)\n",
    "plt.ylim(0,2)\n",
    "plt.xlabel('Платформа')\n",
    "plt.ylabel('Глобальные продажи игр млн копий')\n",
    "plt.title('График по глобальным продажам игр в разбивке по платформам')\n",
    "plt.show()"
   ]
  },
  {
   "cell_type": "code",
   "execution_count": 55,
   "metadata": {},
   "outputs": [
    {
     "data": {
      "text/html": [
       "<div>\n",
       "<style scoped>\n",
       "    .dataframe tbody tr th:only-of-type {\n",
       "        vertical-align: middle;\n",
       "    }\n",
       "\n",
       "    .dataframe tbody tr th {\n",
       "        vertical-align: top;\n",
       "    }\n",
       "\n",
       "    .dataframe thead th {\n",
       "        text-align: right;\n",
       "    }\n",
       "</style>\n",
       "<table border=\"1\" class=\"dataframe\">\n",
       "  <thead>\n",
       "    <tr style=\"text-align: right;\">\n",
       "      <th>platform</th>\n",
       "      <th>3DS</th>\n",
       "      <th>DS</th>\n",
       "      <th>PC</th>\n",
       "      <th>PS3</th>\n",
       "      <th>PS4</th>\n",
       "      <th>PSP</th>\n",
       "      <th>PSV</th>\n",
       "      <th>Wii</th>\n",
       "      <th>WiiU</th>\n",
       "      <th>X360</th>\n",
       "      <th>XOne</th>\n",
       "    </tr>\n",
       "  </thead>\n",
       "  <tbody>\n",
       "    <tr>\n",
       "      <th>count</th>\n",
       "      <td>4.00000</td>\n",
       "      <td>4.000</td>\n",
       "      <td>4.0000</td>\n",
       "      <td>4.00000</td>\n",
       "      <td>4.00000</td>\n",
       "      <td>4.00000</td>\n",
       "      <td>4.00000</td>\n",
       "      <td>4.00000</td>\n",
       "      <td>4.00000</td>\n",
       "      <td>4.00000</td>\n",
       "      <td>4.00000</td>\n",
       "    </tr>\n",
       "    <tr>\n",
       "      <th>mean</th>\n",
       "      <td>35.81250</td>\n",
       "      <td>0.385</td>\n",
       "      <td>9.8575</td>\n",
       "      <td>45.35750</td>\n",
       "      <td>78.53500</td>\n",
       "      <td>0.87500</td>\n",
       "      <td>8.24750</td>\n",
       "      <td>3.41500</td>\n",
       "      <td>16.15750</td>\n",
       "      <td>34.20000</td>\n",
       "      <td>39.83000</td>\n",
       "    </tr>\n",
       "    <tr>\n",
       "      <th>std</th>\n",
       "      <td>18.12834</td>\n",
       "      <td>0.770</td>\n",
       "      <td>3.7011</td>\n",
       "      <td>48.89868</td>\n",
       "      <td>40.56792</td>\n",
       "      <td>1.51318</td>\n",
       "      <td>3.59621</td>\n",
       "      <td>3.76536</td>\n",
       "      <td>8.12951</td>\n",
       "      <td>38.81613</td>\n",
       "      <td>20.31398</td>\n",
       "    </tr>\n",
       "    <tr>\n",
       "      <th>min</th>\n",
       "      <td>15.14000</td>\n",
       "      <td>0.000</td>\n",
       "      <td>5.2500</td>\n",
       "      <td>3.60000</td>\n",
       "      <td>25.99000</td>\n",
       "      <td>0.00000</td>\n",
       "      <td>4.25000</td>\n",
       "      <td>0.18000</td>\n",
       "      <td>4.60000</td>\n",
       "      <td>1.52000</td>\n",
       "      <td>18.96000</td>\n",
       "    </tr>\n",
       "    <tr>\n",
       "      <th>25%</th>\n",
       "      <td>24.62000</td>\n",
       "      <td>0.000</td>\n",
       "      <td>7.7025</td>\n",
       "      <td>13.51500</td>\n",
       "      <td>58.43500</td>\n",
       "      <td>0.09000</td>\n",
       "      <td>5.75000</td>\n",
       "      <td>0.90000</td>\n",
       "      <td>13.41250</td>\n",
       "      <td>9.35000</td>\n",
       "      <td>24.35250</td>\n",
       "    </tr>\n",
       "    <tr>\n",
       "      <th>50%</th>\n",
       "      <td>35.77000</td>\n",
       "      <td>0.000</td>\n",
       "      <td>10.4500</td>\n",
       "      <td>32.29000</td>\n",
       "      <td>84.62500</td>\n",
       "      <td>0.18000</td>\n",
       "      <td>8.42000</td>\n",
       "      <td>2.44500</td>\n",
       "      <td>19.00000</td>\n",
       "      <td>23.35000</td>\n",
       "      <td>40.11000</td>\n",
       "    </tr>\n",
       "    <tr>\n",
       "      <th>75%</th>\n",
       "      <td>46.96250</td>\n",
       "      <td>0.385</td>\n",
       "      <td>12.6050</td>\n",
       "      <td>64.13250</td>\n",
       "      <td>104.72500</td>\n",
       "      <td>0.96500</td>\n",
       "      <td>10.91750</td>\n",
       "      <td>4.96000</td>\n",
       "      <td>21.74500</td>\n",
       "      <td>48.20000</td>\n",
       "      <td>55.58750</td>\n",
       "    </tr>\n",
       "    <tr>\n",
       "      <th>max</th>\n",
       "      <td>56.57000</td>\n",
       "      <td>1.540</td>\n",
       "      <td>13.2800</td>\n",
       "      <td>113.25000</td>\n",
       "      <td>118.90000</td>\n",
       "      <td>3.14000</td>\n",
       "      <td>11.90000</td>\n",
       "      <td>8.59000</td>\n",
       "      <td>22.03000</td>\n",
       "      <td>88.58000</td>\n",
       "      <td>60.14000</td>\n",
       "    </tr>\n",
       "  </tbody>\n",
       "</table>\n",
       "</div>"
      ],
      "text/plain": [
       "platform       3DS     DS       PC        PS3        PS4      PSP       PSV  \\\n",
       "count      4.00000  4.000   4.0000    4.00000    4.00000  4.00000   4.00000   \n",
       "mean      35.81250  0.385   9.8575   45.35750   78.53500  0.87500   8.24750   \n",
       "std       18.12834  0.770   3.7011   48.89868   40.56792  1.51318   3.59621   \n",
       "min       15.14000  0.000   5.2500    3.60000   25.99000  0.00000   4.25000   \n",
       "25%       24.62000  0.000   7.7025   13.51500   58.43500  0.09000   5.75000   \n",
       "50%       35.77000  0.000  10.4500   32.29000   84.62500  0.18000   8.42000   \n",
       "75%       46.96250  0.385  12.6050   64.13250  104.72500  0.96500  10.91750   \n",
       "max       56.57000  1.540  13.2800  113.25000  118.90000  3.14000  11.90000   \n",
       "\n",
       "platform      Wii      WiiU      X360      XOne  \n",
       "count     4.00000   4.00000   4.00000   4.00000  \n",
       "mean      3.41500  16.15750  34.20000  39.83000  \n",
       "std       3.76536   8.12951  38.81613  20.31398  \n",
       "min       0.18000   4.60000   1.52000  18.96000  \n",
       "25%       0.90000  13.41250   9.35000  24.35250  \n",
       "50%       2.44500  19.00000  23.35000  40.11000  \n",
       "75%       4.96000  21.74500  48.20000  55.58750  \n",
       "max       8.59000  22.03000  88.58000  60.14000  "
      ]
     },
     "execution_count": 55,
     "metadata": {},
     "output_type": "execute_result"
    }
   ],
   "source": [
    "pivot.describe()"
   ]
  },
  {
   "cell_type": "markdown",
   "metadata": {},
   "source": [
    "**Вывод**\n",
    "- Медианные лидеры по продажам игр у PS4 XOne, с медианной 100 и 54 млн соответственно\n",
    "- Максимальное количество проданной игры у PS4 118.9 млн\n",
    "- Среднее значение у PS4 96.05 млн, XOne 46.78 млн\n",
    "- Медианное значение значение млн копий за последние 3 годы\n",
    " - 3DS = 27.78\n",
    " - PC = 8.5\n",
    " - PS3 = 16.82\n",
    " - PS4 = 100\n",
    " - PSV = 6.25\n",
    " - Wii = 1.14\n",
    " - WiiU = 16.35\n",
    " - X360 = 11.96\n",
    " - XOne = 54.07"
   ]
  },
  {
   "cell_type": "markdown",
   "metadata": {},
   "source": [
    "### Влияние отзывов на продажи платформы PS4"
   ]
  },
  {
   "cell_type": "code",
   "execution_count": 56,
   "metadata": {},
   "outputs": [],
   "source": [
    "platform_ps4 = actual_data.copy()\n",
    "platform_ps4 = actual_data[actual_data['platform']=='PS4']"
   ]
  },
  {
   "cell_type": "code",
   "execution_count": 57,
   "metadata": {},
   "outputs": [
    {
     "data": {
      "text/plain": [
       "index                0\n",
       "name                 0\n",
       "platform             0\n",
       "year_of_release      0\n",
       "genre                0\n",
       "na_sales             0\n",
       "eu_sales             0\n",
       "jp_sales             0\n",
       "other_sales          0\n",
       "critic_score       140\n",
       "user_score         135\n",
       "rating               0\n",
       "total_sales          0\n",
       "dtype: int64"
      ]
     },
     "execution_count": 57,
     "metadata": {},
     "output_type": "execute_result"
    }
   ],
   "source": [
    "platform_ps4.isna().sum()"
   ]
  },
  {
   "cell_type": "code",
   "execution_count": 58,
   "metadata": {},
   "outputs": [],
   "source": [
    "platform_ps4 = platform_ps4.dropna()"
   ]
  },
  {
   "cell_type": "code",
   "execution_count": 59,
   "metadata": {},
   "outputs": [
    {
     "data": {
      "image/png": "[encoded data removed]",
      "text/plain": [
       "<Figure size 432x288 with 1 Axes>"
      ]
     },
     "metadata": {
      "needs_background": "light"
     },
     "output_type": "display_data"
    }
   ],
   "source": [
    "platform_ps4.plot(kind='scatter', x='user_score', y='total_sales')\n",
    "plt.title(f'Диаграмма рассеяния для PS4')\n",
    "plt.xlabel('Оценка пользователей')\n",
    "plt.ylabel('Продажи')\n",
    "plt.grid(True)\n",
    "plt.show()"
   ]
  },
  {
   "cell_type": "code",
   "execution_count": 60,
   "metadata": {
    "scrolled": true
   },
   "outputs": [
    {
     "data": {
      "image/png": "[encoded data removed]",
      "text/plain": [
       "<Figure size 432x288 with 1 Axes>"
      ]
     },
     "metadata": {
      "needs_background": "light"
     },
     "output_type": "display_data"
    }
   ],
   "source": [
    "platform_ps4.plot(kind='scatter', x='critic_score', y='total_sales')\n",
    "plt.title(f'Диаграмма рассеяния для PS4')\n",
    "plt.xlabel('Оценка критиков')\n",
    "plt.ylabel('Продажи')\n",
    "plt.grid(True)\n",
    "plt.show()"
   ]
  },
  {
   "cell_type": "code",
   "execution_count": 61,
   "metadata": {
    "scrolled": true
   },
   "outputs": [
    {
     "name": "stdout",
     "output_type": "stream",
     "text": [
      "<class 'pandas.core.frame.DataFrame'>\n",
      "Int64Index: 249 entries, 42 to 16258\n",
      "Data columns (total 13 columns):\n",
      " #   Column           Non-Null Count  Dtype  \n",
      "---  ------           --------------  -----  \n",
      " 0   index            249 non-null    int64  \n",
      " 1   name             249 non-null    string \n",
      " 2   platform         249 non-null    string \n",
      " 3   year_of_release  249 non-null    Int64  \n",
      " 4   genre            249 non-null    string \n",
      " 5   na_sales         249 non-null    float64\n",
      " 6   eu_sales         249 non-null    float64\n",
      " 7   jp_sales         249 non-null    float64\n",
      " 8   other_sales      249 non-null    float64\n",
      " 9   critic_score     249 non-null    float64\n",
      " 10  user_score       249 non-null    float64\n",
      " 11  rating           249 non-null    string \n",
      " 12  total_sales      249 non-null    float64\n",
      "dtypes: Int64(1), float64(7), int64(1), string(4)\n",
      "memory usage: 27.5 KB\n"
     ]
    }
   ],
   "source": [
    "platform_ps4['total_sales'] = platform_ps4['total_sales'].astype('float64')\n",
    "platform_ps4['critic_score'] = platform_ps4['critic_score'].astype('float64')\n",
    "platform_ps4.info()"
   ]
  },
  {
   "cell_type": "code",
   "execution_count": 62,
   "metadata": {},
   "outputs": [
    {
     "data": {
      "text/plain": [
       "0.40589480145836687"
      ]
     },
     "metadata": {},
     "output_type": "display_data"
    },
    {
     "data": {
      "text/plain": [
       "-0.03362497596528878"
      ]
     },
     "metadata": {},
     "output_type": "display_data"
    }
   ],
   "source": [
    "display(platform_ps4['critic_score'].corr(platform_ps4['total_sales']))\n",
    "display(platform_ps4['user_score'].corr(platform_ps4['total_sales']))"
   ]
  },
  {
   "cell_type": "markdown",
   "metadata": {},
   "source": [
    "**Вывод**\n",
    "Провели анализ корреляции влияние отзывов пользователей и критиков на продажи у платформы PS3.\n",
    "- Присутствует средняя корреляция между отывами критиков и продажами\n",
    "- Отсутствует корреляция между отзывами пользователей и продажами\n",
    "\n",
    "Возможно разница связана с тем, что критикам предоставляется ранний доступ и они охватывают больше аудиторию"
   ]
  },
  {
   "cell_type": "markdown",
   "metadata": {},
   "source": [
    "### Соотнести выводы с продажами игр на других платформах."
   ]
  },
  {
   "cell_type": "code",
   "execution_count": 63,
   "metadata": {},
   "outputs": [
    {
     "data": {
      "image/png": "[encoded data removed]",
      "text/plain": [
       "<Figure size 720x720 with 6 Axes>"
      ]
     },
     "metadata": {
      "needs_background": "light"
     },
     "output_type": "display_data"
    }
   ],
   "source": [
    "fig, axes = plt.subplots(3, 2, figsize=(10, 10))\n",
    "pls = ['XOne','3DS','WiiU']\n",
    "for i,pl in enumerate(pls):\n",
    "    platform_ = actual_data.query('platform == @pl')\n",
    "\n",
    "    axes[i,0].scatter(x='user_score', y='total_sales',data=platform_)\n",
    "    axes[i,1].scatter(x='critic_score', y='total_sales',data=platform_)\n",
    "    \n",
    "    axes[i,0].set_title(f'Между пользователями и продажами для {pl}')\n",
    "    axes[i,1].set_title(f'Между критиками и продажами для {pl}')\n",
    "    \n",
    "    axes[i,0].set_xlabel(f'Оценка пользователей')\n",
    "    axes[i,0].set_ylabel(f'Продажи')\n",
    "    \n",
    "    axes[i,1].set_xlabel(f'Оценка критиков')\n",
    "    axes[i,1].set_ylabel(f'Продажи')\n",
    "    \n",
    "    axes[i,0].grid(True)\n",
    "    axes[i,1].grid(True)\n",
    "    \n",
    "plt.suptitle(\"Диаграммы рассеяния по различным платформам\", fontsize=18)\n",
    "plt.tight_layout()\n",
    "plt.show()"
   ]
  },
  {
   "cell_type": "code",
   "execution_count": 64,
   "metadata": {},
   "outputs": [
    {
     "data": {
      "text/plain": [
       "'Корреляция продаж к оценкам критиков XOne, 0.4169983280084017'"
      ]
     },
     "metadata": {},
     "output_type": "display_data"
    },
    {
     "data": {
      "text/plain": [
       "'Корреляция продаж к оценкам критиков 3DS, 0.3570566142288103'"
      ]
     },
     "metadata": {},
     "output_type": "display_data"
    },
    {
     "data": {
      "text/plain": [
       "'Корреляция продаж к оценкам критиков WiiU, 0.3764149065423912'"
      ]
     },
     "metadata": {},
     "output_type": "display_data"
    },
    {
     "data": {
      "text/plain": [
       "'Корреляция продаж к оценкам пользователей XOne, -0.06892505328279414'"
      ]
     },
     "metadata": {},
     "output_type": "display_data"
    },
    {
     "data": {
      "text/plain": [
       "'Корреляция продаж к оценкам пользователей 3DS, 0.24150411773563016'"
      ]
     },
     "metadata": {},
     "output_type": "display_data"
    },
    {
     "data": {
      "text/plain": [
       "'Корреляция продаж к оценкам пользователей WiiU, 0.4193304819266187'"
      ]
     },
     "metadata": {},
     "output_type": "display_data"
    }
   ],
   "source": [
    "for i in pls:\n",
    "    platform_ = actual_data.query('platform == @i')\n",
    "    cr = platform_['critic_score'].corr(platform_['total_sales'])\n",
    "    display(f'Корреляция продаж к оценкам критиков {i}, {cr}')\n",
    "for i in pls:\n",
    "    platform_ = actual_data.query('platform == @i')\n",
    "    us = platform_['user_score'].corr(platform_['total_sales'])\n",
    "    display(f'Корреляция продаж к оценкам пользователей {i}, {us}')       "
   ]
  },
  {
   "cell_type": "markdown",
   "metadata": {},
   "source": [
    "Вывод:\n",
    "- Связь между отзывам критиков и продажами, коррелируют с популярными платформами PS4,XOne,WiiU,3DS. Люди присматривают к отзывам критиков\n",
    "- На платформа WiiU, 3DS есть средняя связь между продажами и оценкой пользователей, но не коррелируют между XOne и PS4. Возможно, это связано откуда мы получали информацию или спецификой платформы"
   ]
  },
  {
   "cell_type": "markdown",
   "metadata": {},
   "source": [
    "### Распределение игр по жанрам"
   ]
  },
  {
   "cell_type": "code",
   "execution_count": 65,
   "metadata": {
    "scrolled": true
   },
   "outputs": [
    {
     "data": {
      "image/png": "[encoded data removed]",
      "text/plain": [
       "<Figure size 432x288 with 1 Axes>"
      ]
     },
     "metadata": {
      "needs_background": "light"
     },
     "output_type": "display_data"
    }
   ],
   "source": [
    "actual_data.groupby('genre').agg({'name':'count'}).plot.bar()\n",
    "plt.title('Распределение по жанрам за 3лет вкл')\n",
    "plt.ylabel('Количество игр')\n",
    "plt.xlabel('Жанры')\n",
    "plt.legend('')\n",
    "plt.grid(True)\n",
    "plt.show()"
   ]
  },
  {
   "cell_type": "code",
   "execution_count": 82,
   "metadata": {},
   "outputs": [
    {
     "data": {
      "image/png": "[encoded data removed]",
      "text/plain": [
       "<Figure size 432x288 with 1 Axes>"
      ]
     },
     "metadata": {
      "needs_background": "light"
     },
     "output_type": "display_data"
    }
   ],
   "source": [
    "actual_data.groupby('genre').agg({'total_sales':'median'}).sort_values(by='total_sales', ascending=True).plot.bar()\n",
    "plt.title('Распределение проданных копий по жанрам за 3лет вкл')\n",
    "plt.ylabel('Медиана проданных копий')\n",
    "plt.xlabel('Жанры')\n",
    "plt.legend('')\n",
    "plt.grid(True)\n",
    "plt.show()"
   ]
  },
  {
   "cell_type": "markdown",
   "metadata": {},
   "source": [
    "**Вывод**\n",
    "- Наибольшее количество созданных и проданных игр за 3 года включительно принадлежит жанрам Action\n",
    "- Adventure, RPG, Misc, Sports в среднем вышло одинаковое количество\n",
    "- Хорошие медианные продажи показывают жанры \n",
    " - Shooter количество проданных копий 500т\n",
    " - Platform, Sports проданных копий 250т\n",
    " - Остальные жанры иммеют около 100т \n",
    "- Самые низкие продажи принадлежат жанрам Adventure, Puzzle, Strategy\n",
    "- Выделяется жанр Adventure, где коэффициент количество выпущенных на проданных намного ниже остальных жанров \n"
   ]
  },
  {
   "cell_type": "markdown",
   "metadata": {},
   "source": [
    "### Промежуточный вывод\n",
    "- Количество выпускаемых росло экспоненциально и достигло пиков 2008, 2009 годов, затем резко упало, скорее всего связано с экономическим кризисом 2008 года. Имеем небольшое число выпущенных игр до 1995 можно от них избавится.\n",
    "- Наибольшие суммарные продажи среди платформ\n",
    " - PS2 1233.56\n",
    " - X360 961.24\n",
    " - PS3 931.34\n",
    "- Пики продаж по годам\n",
    " - PS2 2004г 200млн\n",
    " - X360 2010г 160млн\n",
    " - PS3 2011 160млн\n",
    "- В среднем характерный срок жизни платформы 7 лет\n",
    "- Потенциальные лидерами по продажам за последние годы PS4 118.9 млн и XOne 60,14 млн копий\n",
    "- Тенденция к снижению 3DS, PC, PSV, WiiU, X360, PS3\n",
    "- В ходе исследования жизни платформ разумно взять актуальный период **`3 года`** включительно, именно эти данные помогут построить прогноз на следующий год\n",
    "- Медианные лидеры по продажам игр у PS4 XOne, с медианной 100 и 54 млн соответственно\n",
    "- Максимальное количество проданной игры у PS4 118.9 млн\n",
    "- Среднее значение у PS4 96.05 млн, XOne 46.78 млн\n",
    "- Медианное значение значение млн копий за последние 3 годы\n",
    " - 3DS = 27.78\n",
    " - PC = 8.5\n",
    " - PS3 = 16.82\n",
    " - PS4 = 100\n",
    " - PSV = 6.25\n",
    " - Wii = 1.14\n",
    " - WiiU = 16.35\n",
    " - X360 = 11.96\n",
    " - XOne = 54.07\n",
    "- У DC, PSP, Wii есть тайтлы, которые имеют сильный выброс\n",
    "- Провели анализ корреляции влияние отзывов пользователей и критиков на продажи у платформ.\n",
    " - Связь между отзывам критиков и продажами, коррелируют с популярными платформами PS4,XOne,WiiU,3DS. Люди присматривают к отзывам критиков\n",
    "- На платформа WiiU, 3DS есть средняя связь между продажами и оценкой пользователей, но не коррелируют между XOne и PS4. Возможно, это связано откуда мы получали информацию.\n",
    "- Наибольшее количество созданных и проданных игр за 3 года включительно принадлежит жанрам Action\n",
    "- Adventure, RPG, Misc, Sports в среднем вышло одинаковое количество\n",
    "- Хорошие медианные продажи показывают жанры \n",
    " - Shooter количество проданных копий 500т\n",
    " - Platform, Sports проданных копий 250т\n",
    " - Остальные жанры иммеют около 100т \n",
    "- Самые низкие продажи принадлежат жанрам Adventure, Puzzle, Strategy\n",
    "- Выделяется жанр Adventure, где коэффициент количество выпущенных на проданных намного ниже остальных жанров \n"
   ]
  },
  {
   "cell_type": "markdown",
   "metadata": {},
   "source": [
    "## Портрет пользователя каждого региона"
   ]
  },
  {
   "cell_type": "code",
   "execution_count": 67,
   "metadata": {},
   "outputs": [],
   "source": [
    "def portrait(region):\n",
    "    print('Топ 5 платформ в регионе \\n',actual_data.groupby('platform').agg({region:'sum'})\n",
    "          .sort_values(by=region ,ascending=False)\n",
    "          .head(5))\n",
    "    print()\n",
    "    print('Топ 5 жанров в регионе \\n',actual_data.groupby('genre').agg({region:'median'})\n",
    "          .sort_values(by=region ,ascending=False)\n",
    "          .head(5))\n",
    "    print()\n",
    "    k = actual_data.copy()\n",
    "    k['rating'] = pd.factorize(k['rating'])[0]\n",
    "    print('Корреляция между рейтингом и регионом',k['rating'].corr(k[region]))"
   ]
  },
  {
   "cell_type": "code",
   "execution_count": 68,
   "metadata": {
    "scrolled": true
   },
   "outputs": [
    {
     "name": "stdout",
     "output_type": "stream",
     "text": [
      "Топ 5 платформ в регионе \n",
      "           na_sales\n",
      "platform          \n",
      "PS4         108.74\n",
      "XOne         93.12\n",
      "X360         81.66\n",
      "PS3          63.50\n",
      "3DS          38.20\n",
      "\n",
      "Топ 5 жанров в регионе \n",
      "           na_sales\n",
      "genre             \n",
      "Shooter      0.200\n",
      "Platform     0.090\n",
      "Sports       0.080\n",
      "Fighting     0.045\n",
      "Racing       0.030\n",
      "\n",
      "Корреляция между рейтингом и регионом -0.05887207432616984\n"
     ]
    }
   ],
   "source": [
    "portrait('na_sales')"
   ]
  },
  {
   "cell_type": "code",
   "execution_count": 69,
   "metadata": {
    "scrolled": true
   },
   "outputs": [
    {
     "name": "stdout",
     "output_type": "stream",
     "text": [
      "Топ 5 платформ в регионе \n",
      "           eu_sales\n",
      "platform          \n",
      "PS4         141.09\n",
      "PS3          67.81\n",
      "XOne         51.59\n",
      "X360         42.52\n",
      "3DS          30.96\n",
      "\n",
      "Топ 5 жанров в регионе \n",
      "             eu_sales\n",
      "genre               \n",
      "Shooter        0.190\n",
      "Platform       0.080\n",
      "Racing         0.060\n",
      "Sports         0.050\n",
      "Simulation     0.035\n",
      "\n",
      "Корреляция между рейтингом и регионом -0.06189288443818195\n"
     ]
    }
   ],
   "source": [
    "portrait('eu_sales')"
   ]
  },
  {
   "cell_type": "code",
   "execution_count": 70,
   "metadata": {
    "scrolled": true
   },
   "outputs": [
    {
     "name": "stdout",
     "output_type": "stream",
     "text": [
      "Топ 5 платформ в регионе \n",
      "           jp_sales\n",
      "platform          \n",
      "3DS          67.81\n",
      "PS3          23.35\n",
      "PSV          18.59\n",
      "PS4          15.96\n",
      "WiiU         10.88\n",
      "\n",
      "Топ 5 жанров в регионе \n",
      "               jp_sales\n",
      "genre                 \n",
      "Role-Playing      0.05\n",
      "Fighting          0.03\n",
      "Misc              0.02\n",
      "Puzzle            0.02\n",
      "Action            0.01\n",
      "\n",
      "Корреляция между рейтингом и регионом -0.03934934136624959\n"
     ]
    }
   ],
   "source": [
    "portrait('jp_sales')"
   ]
  },
  {
   "cell_type": "code",
   "execution_count": 71,
   "metadata": {
    "scrolled": true
   },
   "outputs": [
    {
     "data": {
      "image/png": "[encoded data removed]",
      "text/plain": [
       "<Figure size 1080x360 with 3 Axes>"
      ]
     },
     "metadata": {},
     "output_type": "display_data"
    }
   ],
   "source": [
    "fig, axes = plt.subplots(1, 3, figsize=(15, 5))\n",
    "sal = ['na_sales', 'eu_sales', 'jp_sales']\n",
    "titles = ['NA', 'EU', 'JP']                         \n",
    "for i, region in enumerate(sal):\n",
    "    r = actual_data.groupby('platform').agg({region:'sum'})\\\n",
    "        .sort_values(by=region ,ascending=False)\\\n",
    "        .head(5)\n",
    "    r[region] = r[region]/r[region].sum()*100\n",
    "    r[region].plot(kind='pie', ax=axes[i], title = titles[i],autopct='%1.1f%%', legend=False)\n",
    "    axes[i].set_ylabel('')\n",
    "    \n",
    "fig.suptitle('Топ 5 продаж платформ', fontsize=16)\n",
    "plt.tight_layout()\n",
    "plt.show()\n"
   ]
  },
  {
   "cell_type": "code",
   "execution_count": 72,
   "metadata": {
    "scrolled": true
   },
   "outputs": [
    {
     "data": {
      "image/png": "[encoded data removed]",
      "text/plain": [
       "<Figure size 1080x360 with 3 Axes>"
      ]
     },
     "metadata": {},
     "output_type": "display_data"
    }
   ],
   "source": [
    "fig, axes = plt.subplots(1, 3, figsize=(15, 5))\n",
    "sal = ['na_sales', 'eu_sales', 'jp_sales']\n",
    "titles = ['NA', 'EU', 'JP']                         \n",
    "for i, region in enumerate(sal):\n",
    "    r = actual_data.groupby('genre').agg({region:'sum'})\\\n",
    "        .sort_values(by=region ,ascending=False)\n",
    "    top_5 = r.copy()\n",
    "    top_5 = top_5.head(5)\n",
    "    others = r.tail(len(r) - 5)\n",
    "    top_5.loc['others'] = others[region].sum()\n",
    "    top_5[region] = top_5[region]/top_5[region].sum()*100\n",
    "    top_5[region].plot(kind='pie', ax=axes[i], title = titles[i], autopct='%1.1f%%', legend=False)\n",
    "    axes[i].set_ylabel('')\n",
    "    \n",
    "fig.suptitle('Топ 5 продаж жанров', fontsize=16)\n",
    "plt.tight_layout()\n",
    "plt.show()"
   ]
  },
  {
   "cell_type": "code",
   "execution_count": 73,
   "metadata": {},
   "outputs": [
    {
     "data": {
      "image/png": "[encoded data removed]",
      "text/plain": [
       "<Figure size 1080x360 with 3 Axes>"
      ]
     },
     "metadata": {},
     "output_type": "display_data"
    }
   ],
   "source": [
    "fig, axes = plt.subplots(1, 3, figsize=(15, 5))\n",
    "sal = ['na_sales', 'eu_sales', 'jp_sales']\n",
    "titles = ['NA', 'EU', 'JP']                         \n",
    "for i, region in enumerate(sal):\n",
    "    r = actual_data.groupby('rating').agg({region:'sum'})\\\n",
    "        .sort_values(by=region ,ascending=False)\n",
    "    r[region] = r[region]/r[region].sum()*100\n",
    "    r[region].plot(kind='pie', ax=axes[i], title = titles[i],autopct='%1.1f%%', legend=False)\n",
    "    axes[i].set_ylabel('')\n",
    "    \n",
    "fig.suptitle('Доля продаж по рейтингам', fontsize=16)\n",
    "plt.tight_layout()\n",
    "plt.show()"
   ]
  },
  {
   "cell_type": "markdown",
   "metadata": {},
   "source": [
    "### Вывод\n",
    "1. Топ 5 платформ по регионам \n",
    " - Наибольшую долю занимает PS4 в Европе и Америке\n",
    " - В Японии большая доля принадлежит 3DS\n",
    " - Второй по популярности в Америке XOne, в Европе и Японии PS3\n",
    " - Разница связана с тем, что на PS4 тайтлы выходят качественее \n",
    " - 3DS владеет японская компания Нинтендо, поэтому такая высокая доля продаж в Японии \n",
    "2. Топ 5 жанров по регионам\n",
    " - Вкусы у Америки и Европы совпадают жанрово, различаются только rpg и misc\n",
    " - В Японии больше предпочитают rpg\n",
    " - Возможно разница связана с тем, что крупный тайтлы больше популярны в западных странах, чем в Японии, так же связано с рынком самих платформ, rgp чаще выходят и более популярны там на 3DS\n",
    "3. Наибольшая доля продаж в Европе и Америке принадлежит Mature, затем E\n",
    " - Так как ESRB Америконская ассоциация, по Японии отсутствуют данные"
   ]
  },
  {
   "cell_type": "markdown",
   "metadata": {},
   "source": [
    "## Проверка гипотез"
   ]
  },
  {
   "cell_type": "markdown",
   "metadata": {},
   "source": [
    "### Средние пользовательские рейтинги\n",
    "Гипотеза H0: Средние пользовательские рейтинги платформ Xbox One и PC одинаковые\n",
    "\n",
    "Альтернативная H1: Средние пользовательские рейтинги платформ Xbox One разные"
   ]
  },
  {
   "cell_type": "code",
   "execution_count": 74,
   "metadata": {},
   "outputs": [],
   "source": [
    "user_x1 = actual_data[actual_data['platform']=='XOne']['user_score'].dropna()\n",
    "user_pc = actual_data[actual_data['platform']=='PC']['user_score'].dropna()\n",
    "alpha = 0.05"
   ]
  },
  {
   "cell_type": "code",
   "execution_count": 75,
   "metadata": {},
   "outputs": [
    {
     "name": "stdout",
     "output_type": "stream",
     "text": [
      "p-value: 0.14012658403611647\n"
     ]
    }
   ],
   "source": [
    "# так как мы сравниваем две разные выборки используем метод ttest_ind\n",
    "result = st.ttest_ind(user_x1,user_pc) \n",
    "print(f'p-value: {result.pvalue}')"
   ]
  },
  {
   "cell_type": "code",
   "execution_count": 76,
   "metadata": {},
   "outputs": [
    {
     "name": "stdout",
     "output_type": "stream",
     "text": [
      "Нет оснований отвергнуть нулевую гипотезу\n"
     ]
    }
   ],
   "source": [
    "if result.pvalue < alpha:\n",
    "    print('Отвергаем нулевую гипотезу')\n",
    "else:\n",
    "    print('Нет оснований отвергнуть нулевую гипотезу')"
   ]
  },
  {
   "cell_type": "code",
   "execution_count": 77,
   "metadata": {},
   "outputs": [
    {
     "data": {
      "text/plain": [
       "6.521428571428572"
      ]
     },
     "metadata": {},
     "output_type": "display_data"
    },
    {
     "data": {
      "text/plain": [
       "6.2696774193548395"
      ]
     },
     "metadata": {},
     "output_type": "display_data"
    }
   ],
   "source": [
    "display(user_x1.mean())\n",
    "display(user_pc.mean())"
   ]
  },
  {
   "cell_type": "markdown",
   "metadata": {},
   "source": [
    "Вывод:\n",
    "Значение pvalue 0.14 Нет оснований отвергнуть нулевую гипотезу, что средний пользовательский рейтинг одинаков.\n",
    "\n",
    "Средний пользовательский рейтинг выборки XOne = 6.5\n",
    "\n",
    "Средний пользовательский рейтинг выборки PC = 6.3\n",
    "\n",
    "**Выбор статистического критерия**\n",
    "Для проверки этих гипотез мы можем использовать `t-тест` для независимых выборок (если у нас есть два независимых набора данных, например, рейтинги для двух платформ). Этот тест позволяет проверить, различаются ли средние значения двух групп (в данном случае — пользовательских рейтингов для разных платформ)."
   ]
  },
  {
   "cell_type": "markdown",
   "metadata": {},
   "source": [
    "### Средние пользовательские рейтинги жанров Action\n",
    "Гипотез H0: Средние пользовательские рейтинги жанров Action (англ. «действие», экшен-игры) и Sports (англ. «спортивные соревнования») одинаковые.\n",
    "\n",
    "Альтернативня H1: Средние пользовательские рейтинги разные"
   ]
  },
  {
   "cell_type": "code",
   "execution_count": 78,
   "metadata": {},
   "outputs": [],
   "source": [
    "action_g = actual_data[actual_data['genre']=='Action']['user_score'].dropna()\n",
    "sports_g = actual_data[actual_data['genre']=='Sports']['user_score'].dropna()\n",
    "alpha = 0.05"
   ]
  },
  {
   "cell_type": "code",
   "execution_count": 79,
   "metadata": {},
   "outputs": [
    {
     "name": "stdout",
     "output_type": "stream",
     "text": [
      "p-value: 0.14012658403611647\n"
     ]
    }
   ],
   "source": [
    "# так как мы сравниваем две разные выборки используем метод ttest_ind\n",
    "result = st.ttest_ind(user_x1,user_pc)\n",
    "print(f'p-value: {result.pvalue}')"
   ]
  },
  {
   "cell_type": "code",
   "execution_count": 80,
   "metadata": {},
   "outputs": [
    {
     "name": "stdout",
     "output_type": "stream",
     "text": [
      "Нет оснований отвергнуть нулевую гипотезу\n"
     ]
    }
   ],
   "source": [
    "if result.pvalue < alpha:\n",
    "    print('Отвергаем нулевую гипотезу')\n",
    "else:\n",
    "    print('Нет оснований отвергнуть нулевую гипотезу')"
   ]
  },
  {
   "cell_type": "code",
   "execution_count": 81,
   "metadata": {},
   "outputs": [
    {
     "data": {
      "text/plain": [
       "6.837532133676092"
      ]
     },
     "metadata": {},
     "output_type": "display_data"
    },
    {
     "data": {
      "text/plain": [
       "5.238124999999999"
      ]
     },
     "metadata": {},
     "output_type": "display_data"
    }
   ],
   "source": [
    "display(action_g.mean())\n",
    "display(sports_g.mean())"
   ]
  },
  {
   "cell_type": "markdown",
   "metadata": {},
   "source": [
    "Вывод: Нет оснований отвергнуть нулевую гипотезу рейтинги жанров Action и Sports` pvalue 0.9` значимо одинаково\n",
    "Средний пользовательский рейтинг выборки Action = 6.8\n",
    "\n",
    "Средний пользовательский рейтинг выборки Sports = 5.2\n",
    "\n",
    "**Выбор статистического критерия**\n",
    "Для проверки этих гипотез мы можем использовать `t-тест` для независимых выборок (если у нас есть два независимых набора данных, например, рейтинги для двух жанров). Этот тест позволяет проверить, различаются ли средние значения двух групп (в данном случае — пользовательских рейтингов для разных жанров).\n",
    "\n",
    "**Формирование гипотез** основывается на предложении, что разницы нет. Это стандартная практика при статистическом исследовании выборок. Альтернативную гипотезу взяли такую, чтобы проверит различие между выборками. Использовали параметр двосторонней гипотезы, чтобы проверить выходит ли значения дальше уровня значимости"
   ]
  },
  {
   "cell_type": "markdown",
   "metadata": {},
   "source": [
    "## Итоговый вывод"
   ]
  },
  {
   "cell_type": "markdown",
   "metadata": {},
   "source": [
    "### Предобработка данных\n",
    "- Переименовали столбцы в нижний регистр\n",
    "- Убрали `tbd` в колонке `user_score` \n",
    "- Удалил пустые значения в `name` и `year`\n",
    "- Преобразовали типы данных\n",
    "- Дубликаты явные\n",
    "- Удалили неявный дубликат Madden NFL 13\n",
    "- `rating` заменили пустые строки на `unknown`\n",
    "- Организации ESRB осуществляет деятельность в США и Канаде с этим связаны пропуски в данных rating, а не с ошибкой заполнения данных\n",
    "- Добавили колонку `total_sales` сумарное продажи"
   ]
  },
  {
   "cell_type": "markdown",
   "metadata": {},
   "source": [
    "### Исследование данных\n",
    "- Количество выпускаемых росло экспоненциально и достигло пиков 2008, 2009 годов, затем резко упало, скорее всего связано с экономическим кризисом 2008 года. \n",
    "- Наибольшие суммарные продажи среди платформ\n",
    "| PS2| X360| PS3|\n",
    "| :----: | :---: |:------:|\n",
    "| 1233.56 | 961.24 | 931.34 |\n",
    "- Пики продаж по годам\n",
    "| PS2    | X360  | PS3|\n",
    "| :----: | :---: |:------:|\n",
    "| 2004г | 2010г | 2011 |\n",
    "| 200млн | 160млн| 160млн |\n",
    "\n",
    "- **В среднем характерный срок жизни платформы 7 лет**\n",
    "- Потенциальные лидерами по продажам за последние годы PS4 118.9 млн и XOne 60,14 млн копий\n",
    "- Тенденция к снижению 3DS, PC, PSV, WiiU, X360, PS3\n",
    "- В ходе исследования жизни платформ разумно взять актуальный период **`3 года`** включительно, именно эти данные помогут построить прогноз на следующий год\n",
    "- Медианные лидеры по продажам игр у PS4 XOne, с медианной 100 и 54 млн соответственно\n",
    "- Максимальное количество проданной игры у PS4 118.9 млн\n",
    "- Среднее значение у PS4 96.05 млн, XOne 46.78 млн\n",
    "- Медианное значение значение млн копий за последние 3 годы\n",
    " - 3DS = 27.78\n",
    " - PC = 8.5\n",
    " - PS3 = 16.82\n",
    " - PS4 = 100\n",
    " - PSV = 6.25\n",
    " - Wii = 1.14\n",
    " - WiiU = 16.35\n",
    " - X360 = 11.96\n",
    " - XOne = 54.07\n",
    "- У DC, PSP, Wii есть тайтлы, которые имеют сильный выброс\n",
    "- Провели анализ корреляции влияние отзывов пользователей и критиков на продажи у платформ.\n",
    " - Связь между отзывам критиков и продажами, коррелируют с популярными платформами PS4,XOne,WiiU,3DS. Люди присматривают к отзывам критиков\n",
    "- На платформа WiiU, 3DS есть средняя связь между продажами и оценкой пользователей, но не коррелируют между XOne и PS4. Возможно, это связано откуда мы получали информацию или спецификой платформы\n",
    "- Наибольшее количество созданных и проданных игр за 3 года включительно принадлежит жанрам Action\n",
    "- Adventure, RPG, Misc, Sports в среднем вышло одинаковое количество\n",
    "- Хорошие медианные продажи показывают жанры \n",
    " - Shooter количество проданных копий 500т\n",
    " - Platform, Sports проданных копий 250т\n",
    " - Остальные жанры иммеют около 100т \n",
    "- Самые низкие продажи принадлежат жанрам Adventure, Puzzle, Strategy\n",
    "- Выделяется жанр Adventure, где коэффициент количество выпущенных на проданных намного ниже остальных жанров  \n"
   ]
  },
  {
   "cell_type": "markdown",
   "metadata": {},
   "source": [
    "### Портрет пользователя каждого региона\n",
    "1. Топ 5 платформ по регионам \n",
    " - Наибольшую долю занимает PS4 в Европе и Америке\n",
    " - В Японии большая доля принадлежит 3DS\n",
    " - Второй по популярности в Америке XOne, в Европе и Японии PS3\n",
    " - Разница связана с тем, что на PS4 тайтлы выходят качественее \n",
    " - 3DS владеет японская компания Нинтендо, поэтому такая высокая доля продаж в Японии \n",
    "2. Топ 5 жанров по регионам\n",
    " - Вкусы у Америки и Европы совпадают жанрово, различаются только rpg и misc\n",
    " - В Японии больше предпочитают rpg\n",
    " - Возможно разница связана с тем, что крупный тайтлы больше популярны в западных странах, чем в Японии, так же связано с рынком самих платформ, rgp чаще выходят и более популярны там на 3DS\n",
    "3. Наибольшая доля продаж в Европе и Америке принадлежит Mature, затем E\n",
    " - Так как ESRB Америконская ассоциация, по Японии отсутствуют данные"
   ]
  },
  {
   "cell_type": "markdown",
   "metadata": {},
   "source": [
    "### Проверка гипотез\n",
    "1. Гипотеза: пользовательские рейтинги платформ Xbox One и PC одинаковые\n",
    "    Вывод\n",
    "    Значение pvalue 0.14 Нет оснований отвергнуть нулевую гипотезу, средний пользовательский рейтинг возможно одинаков.\n",
    "\n",
    "    - Средний пользовательский рейтинг выборки XOne = 6.51\n",
    "    - Средний пользовательский рейтинг выборки PC = 6.3\n",
    "\n",
    "   **Выбор статистического критерия**\n",
    "    Для проверки этих гипотез мы можем использовать `t-тест` для независимых выборок (если у нас есть два независимых набора данных, например, рейтинги для двух платформ). Этот тест позволяет проверить, различаются ли средние значения двух групп (в данном случае — пользовательских рейтингов для разных платформ).\n",
    "\n",
    "\n",
    "2. Гипотеза о различиях рейтинги жанров Action и Sports \n",
    "    Вывод: Нет оснований отвергнуть нулевую гипотезу, рейтинги жанров Action и Sports` pvalue 0.9` значимо одинаково\n",
    "\n",
    "    - Средний пользовательский рейтинг выборки Action = 6.8\n",
    "    - Средний пользовательский рейтинг выборки Sports = 5.2\n",
    "\n",
    "   **Выбор статистического критерия**\n",
    "    Для проверки этих гипотез мы можем использовать `t-тест` для независимых выборок (если у нас есть два независимых набора данных, например, рейтинги для двух жанров). Этот тест позволяет проверить, различаются ли средние значения двух групп (в данном случае — пользовательских рейтингов для разных жанров).\n",
    "\n"
   ]
  },
  {
   "cell_type": "markdown",
   "metadata": {},
   "source": [
    "### Общий вывод\n",
    "В данном иследовании провели ретроспективный анализ исторических данных по продажах игр, оценки пользователей и экспертов, жанры и платформы. Нашли закономерности и выявить факторы определяющие успешность будущей игры. Выявили, что время жизни платформ около 3 лет и следует планировать около этого горизонта времени. Мнение критиков влияют на продажи игр. В много общего между Америкой и Европой в жанрах, но разные в предпочтении платформ. Наиоблее актуальные платформы 3DS и PS4, XOne "
   ]
  },
  {
   "cell_type": "code",
   "execution_count": null,
   "metadata": {},
   "outputs": [],
   "source": []
  }
 ],
 "metadata": {
  "ExecuteTimeLog": [
   {
    "duration": 1313,
    "start_time": "2024-12-09T15:09:26.191Z"
   },
   {
    "duration": 111,
    "start_time": "2024-12-09T15:10:34.118Z"
   },
   {
    "duration": 6,
    "start_time": "2024-12-09T15:10:46.555Z"
   },
   {
    "duration": 19,
    "start_time": "2024-12-09T15:10:55.720Z"
   },
   {
    "duration": 103,
    "start_time": "2024-12-09T15:11:54.030Z"
   },
   {
    "duration": 4,
    "start_time": "2024-12-09T15:11:57.931Z"
   },
   {
    "duration": 497,
    "start_time": "2024-12-09T15:15:24.889Z"
   },
   {
    "duration": 470,
    "start_time": "2024-12-09T15:15:47.082Z"
   },
   {
    "duration": 2,
    "start_time": "2024-12-09T15:16:14.095Z"
   },
   {
    "duration": 2,
    "start_time": "2024-12-09T15:16:50.450Z"
   },
   {
    "duration": 2,
    "start_time": "2024-12-09T15:22:36.591Z"
   },
   {
    "duration": 10,
    "start_time": "2024-12-09T15:22:52.475Z"
   },
   {
    "duration": 20,
    "start_time": "2024-12-09T15:23:12.012Z"
   },
   {
    "duration": 2,
    "start_time": "2024-12-09T15:25:47.947Z"
   },
   {
    "duration": 3,
    "start_time": "2024-12-09T15:48:18.136Z"
   },
   {
    "duration": 10,
    "start_time": "2024-12-09T15:48:24.515Z"
   },
   {
    "duration": 9,
    "start_time": "2024-12-09T15:48:32.679Z"
   },
   {
    "duration": 8,
    "start_time": "2024-12-09T15:48:45.351Z"
   },
   {
    "duration": 55,
    "start_time": "2024-12-09T15:48:52.189Z"
   },
   {
    "duration": 4,
    "start_time": "2024-12-09T15:48:55.288Z"
   },
   {
    "duration": 10,
    "start_time": "2024-12-09T15:48:55.750Z"
   },
   {
    "duration": 4,
    "start_time": "2024-12-09T15:49:00.932Z"
   },
   {
    "duration": 15,
    "start_time": "2024-12-09T15:53:47.121Z"
   },
   {
    "duration": 7,
    "start_time": "2024-12-09T15:53:55.947Z"
   },
   {
    "duration": 2,
    "start_time": "2024-12-09T15:54:45.861Z"
   },
   {
    "duration": 10,
    "start_time": "2024-12-09T15:58:03.360Z"
   },
   {
    "duration": 64,
    "start_time": "2024-12-09T15:58:55.063Z"
   },
   {
    "duration": 16,
    "start_time": "2024-12-09T15:59:01.050Z"
   },
   {
    "duration": 16,
    "start_time": "2024-12-09T15:59:05.218Z"
   },
   {
    "duration": 55,
    "start_time": "2024-12-09T15:59:16.957Z"
   },
   {
    "duration": 16,
    "start_time": "2024-12-09T15:59:18.683Z"
   },
   {
    "duration": 4,
    "start_time": "2024-12-09T15:59:19.269Z"
   },
   {
    "duration": 15,
    "start_time": "2024-12-09T15:59:19.745Z"
   },
   {
    "duration": 1704,
    "start_time": "2024-12-09T16:01:12.572Z"
   },
   {
    "duration": 4,
    "start_time": "2024-12-09T16:02:22.285Z"
   },
   {
    "duration": 3,
    "start_time": "2024-12-09T16:02:24.070Z"
   },
   {
    "duration": 4,
    "start_time": "2024-12-09T16:02:24.464Z"
   },
   {
    "duration": 7,
    "start_time": "2024-12-09T16:02:26.759Z"
   },
   {
    "duration": 107,
    "start_time": "2024-12-09T16:02:42.082Z"
   },
   {
    "duration": 12,
    "start_time": "2024-12-09T16:02:48.766Z"
   },
   {
    "duration": 6,
    "start_time": "2024-12-09T16:02:52.470Z"
   },
   {
    "duration": 29,
    "start_time": "2024-12-09T16:05:25.834Z"
   },
   {
    "duration": 52,
    "start_time": "2024-12-09T16:05:53.601Z"
   },
   {
    "duration": 87,
    "start_time": "2024-12-09T16:06:39.252Z"
   },
   {
    "duration": 80,
    "start_time": "2024-12-09T16:06:48.614Z"
   },
   {
    "duration": 51,
    "start_time": "2024-12-09T16:06:52.131Z"
   },
   {
    "duration": 13,
    "start_time": "2024-12-09T16:09:27.397Z"
   },
   {
    "duration": 6,
    "start_time": "2024-12-09T16:09:27.997Z"
   },
   {
    "duration": 13,
    "start_time": "2024-12-09T16:19:45.235Z"
   },
   {
    "duration": 5,
    "start_time": "2024-12-09T16:19:45.761Z"
   },
   {
    "duration": 83,
    "start_time": "2024-12-09T16:19:51.351Z"
   },
   {
    "duration": 6,
    "start_time": "2024-12-09T16:19:51.747Z"
   },
   {
    "duration": 13,
    "start_time": "2024-12-09T16:19:55.792Z"
   },
   {
    "duration": 12,
    "start_time": "2024-12-09T16:28:09.552Z"
   },
   {
    "duration": 6,
    "start_time": "2024-12-09T16:28:09.934Z"
   },
   {
    "duration": 14,
    "start_time": "2024-12-09T16:33:58.223Z"
   },
   {
    "duration": 5,
    "start_time": "2024-12-09T16:33:58.688Z"
   },
   {
    "duration": 5,
    "start_time": "2024-12-09T16:37:02.426Z"
   },
   {
    "duration": 6,
    "start_time": "2024-12-09T16:37:03.036Z"
   },
   {
    "duration": 6,
    "start_time": "2024-12-09T16:37:14.122Z"
   },
   {
    "duration": 5,
    "start_time": "2024-12-09T16:37:14.983Z"
   },
   {
    "duration": 6,
    "start_time": "2024-12-09T16:37:18.571Z"
   },
   {
    "duration": 6,
    "start_time": "2024-12-09T16:37:18.937Z"
   },
   {
    "duration": 56,
    "start_time": "2024-12-09T16:37:25.261Z"
   },
   {
    "duration": 3,
    "start_time": "2024-12-09T16:37:28.786Z"
   },
   {
    "duration": 5,
    "start_time": "2024-12-09T16:37:29.090Z"
   },
   {
    "duration": 7,
    "start_time": "2024-12-09T16:37:31.733Z"
   },
   {
    "duration": 6,
    "start_time": "2024-12-09T16:37:32.068Z"
   },
   {
    "duration": 15,
    "start_time": "2024-12-09T16:38:08.691Z"
   },
   {
    "duration": 6,
    "start_time": "2024-12-09T16:38:23.043Z"
   },
   {
    "duration": 16,
    "start_time": "2024-12-09T16:38:23.886Z"
   },
   {
    "duration": 9,
    "start_time": "2024-12-09T16:38:28.839Z"
   },
   {
    "duration": 5,
    "start_time": "2024-12-09T16:38:29.403Z"
   },
   {
    "duration": 55,
    "start_time": "2024-12-09T16:38:34.915Z"
   },
   {
    "duration": 3,
    "start_time": "2024-12-09T16:38:37.997Z"
   },
   {
    "duration": 15,
    "start_time": "2024-12-09T16:40:20.143Z"
   },
   {
    "duration": 6,
    "start_time": "2024-12-09T16:40:43.657Z"
   },
   {
    "duration": 6,
    "start_time": "2024-12-09T16:40:44.354Z"
   },
   {
    "duration": 5,
    "start_time": "2024-12-09T16:40:52.936Z"
   },
   {
    "duration": 7,
    "start_time": "2024-12-09T16:40:57.235Z"
   },
   {
    "duration": 6,
    "start_time": "2024-12-09T16:40:57.869Z"
   },
   {
    "duration": 6,
    "start_time": "2024-12-09T16:41:07.179Z"
   },
   {
    "duration": 8,
    "start_time": "2024-12-09T16:41:07.847Z"
   },
   {
    "duration": 34,
    "start_time": "2024-12-09T16:44:42.018Z"
   },
   {
    "duration": 7,
    "start_time": "2024-12-09T16:44:42.444Z"
   },
   {
    "duration": 6,
    "start_time": "2024-12-09T16:45:03.378Z"
   },
   {
    "duration": 2,
    "start_time": "2024-12-09T16:45:09.731Z"
   },
   {
    "duration": 57,
    "start_time": "2024-12-09T16:45:09.735Z"
   },
   {
    "duration": 15,
    "start_time": "2024-12-09T16:45:09.794Z"
   },
   {
    "duration": 11,
    "start_time": "2024-12-09T16:45:09.810Z"
   },
   {
    "duration": 15,
    "start_time": "2024-12-09T16:45:09.823Z"
   },
   {
    "duration": 58,
    "start_time": "2024-12-09T16:45:09.839Z"
   },
   {
    "duration": 4,
    "start_time": "2024-12-09T16:45:09.898Z"
   },
   {
    "duration": 6,
    "start_time": "2024-12-09T16:45:09.903Z"
   },
   {
    "duration": 5,
    "start_time": "2024-12-09T16:45:09.910Z"
   },
   {
    "duration": 18,
    "start_time": "2024-12-09T16:45:09.917Z"
   },
   {
    "duration": 12,
    "start_time": "2024-12-09T16:46:30.398Z"
   },
   {
    "duration": 7,
    "start_time": "2024-12-09T16:46:30.803Z"
   },
   {
    "duration": 14,
    "start_time": "2024-12-09T16:47:20.918Z"
   },
   {
    "duration": 6,
    "start_time": "2024-12-09T16:47:21.671Z"
   },
   {
    "duration": 3,
    "start_time": "2024-12-09T16:47:38.503Z"
   },
   {
    "duration": 67,
    "start_time": "2024-12-09T16:47:38.507Z"
   },
   {
    "duration": 16,
    "start_time": "2024-12-09T16:47:38.576Z"
   },
   {
    "duration": 22,
    "start_time": "2024-12-09T16:47:38.594Z"
   },
   {
    "duration": 22,
    "start_time": "2024-12-09T16:47:38.617Z"
   },
   {
    "duration": 65,
    "start_time": "2024-12-09T16:47:38.640Z"
   },
   {
    "duration": 4,
    "start_time": "2024-12-09T16:47:38.706Z"
   },
   {
    "duration": 19,
    "start_time": "2024-12-09T16:47:38.712Z"
   },
   {
    "duration": 21,
    "start_time": "2024-12-09T16:47:38.732Z"
   },
   {
    "duration": 11,
    "start_time": "2024-12-09T16:47:38.756Z"
   },
   {
    "duration": 6,
    "start_time": "2024-12-09T16:48:07.313Z"
   },
   {
    "duration": 8,
    "start_time": "2024-12-09T16:48:16.969Z"
   },
   {
    "duration": 9,
    "start_time": "2024-12-09T16:48:43.186Z"
   },
   {
    "duration": 7,
    "start_time": "2024-12-09T16:48:43.804Z"
   },
   {
    "duration": 6,
    "start_time": "2024-12-09T16:48:47.461Z"
   },
   {
    "duration": 30,
    "start_time": "2024-12-09T16:49:29.199Z"
   },
   {
    "duration": 9,
    "start_time": "2024-12-09T16:49:52.444Z"
   },
   {
    "duration": 22,
    "start_time": "2024-12-09T16:50:03.131Z"
   },
   {
    "duration": 3,
    "start_time": "2024-12-09T16:53:38.934Z"
   },
   {
    "duration": 73,
    "start_time": "2024-12-09T16:53:38.939Z"
   },
   {
    "duration": 17,
    "start_time": "2024-12-09T16:53:39.014Z"
   },
   {
    "duration": 18,
    "start_time": "2024-12-09T16:53:39.033Z"
   },
   {
    "duration": 26,
    "start_time": "2024-12-09T16:53:39.053Z"
   },
   {
    "duration": 51,
    "start_time": "2024-12-09T16:53:39.080Z"
   },
   {
    "duration": 4,
    "start_time": "2024-12-09T16:53:39.133Z"
   },
   {
    "duration": 39,
    "start_time": "2024-12-09T16:53:39.139Z"
   },
   {
    "duration": 4,
    "start_time": "2024-12-09T16:53:39.180Z"
   },
   {
    "duration": 8,
    "start_time": "2024-12-09T16:53:42.443Z"
   },
   {
    "duration": 5,
    "start_time": "2024-12-09T16:53:43.857Z"
   },
   {
    "duration": 7,
    "start_time": "2024-12-09T16:53:52.223Z"
   },
   {
    "duration": 3,
    "start_time": "2024-12-09T16:54:57.844Z"
   },
   {
    "duration": 56,
    "start_time": "2024-12-09T16:54:57.849Z"
   },
   {
    "duration": 16,
    "start_time": "2024-12-09T16:54:57.907Z"
   },
   {
    "duration": 4,
    "start_time": "2024-12-09T16:54:57.925Z"
   },
   {
    "duration": 14,
    "start_time": "2024-12-09T16:54:57.931Z"
   },
   {
    "duration": 62,
    "start_time": "2024-12-09T16:54:57.947Z"
   },
   {
    "duration": 4,
    "start_time": "2024-12-09T16:54:58.010Z"
   },
   {
    "duration": 19,
    "start_time": "2024-12-09T16:54:58.015Z"
   },
   {
    "duration": 7,
    "start_time": "2024-12-09T16:54:58.035Z"
   },
   {
    "duration": 5,
    "start_time": "2024-12-09T16:56:04.536Z"
   },
   {
    "duration": 5,
    "start_time": "2024-12-09T16:56:26.480Z"
   },
   {
    "duration": 6,
    "start_time": "2024-12-09T16:56:42.830Z"
   },
   {
    "duration": 5,
    "start_time": "2024-12-09T16:56:52.716Z"
   },
   {
    "duration": 6,
    "start_time": "2024-12-09T16:57:01.956Z"
   },
   {
    "duration": 6,
    "start_time": "2024-12-09T16:57:05.147Z"
   },
   {
    "duration": 8,
    "start_time": "2024-12-09T16:57:08.138Z"
   },
   {
    "duration": 7,
    "start_time": "2024-12-09T16:57:15.875Z"
   },
   {
    "duration": 5,
    "start_time": "2024-12-09T16:57:32.105Z"
   },
   {
    "duration": 5,
    "start_time": "2024-12-09T16:57:51.281Z"
   },
   {
    "duration": 5,
    "start_time": "2024-12-09T16:58:09.746Z"
   },
   {
    "duration": 5,
    "start_time": "2024-12-09T16:58:54.864Z"
   },
   {
    "duration": 6,
    "start_time": "2024-12-09T16:59:01.583Z"
   },
   {
    "duration": 5,
    "start_time": "2024-12-09T16:59:20.090Z"
   },
   {
    "duration": 5,
    "start_time": "2024-12-09T16:59:54.624Z"
   },
   {
    "duration": 7,
    "start_time": "2024-12-09T16:59:58.034Z"
   },
   {
    "duration": 4,
    "start_time": "2024-12-09T17:00:09.910Z"
   },
   {
    "duration": 8,
    "start_time": "2024-12-09T17:19:16.461Z"
   },
   {
    "duration": 12,
    "start_time": "2024-12-09T17:19:21.835Z"
   },
   {
    "duration": 8,
    "start_time": "2024-12-09T17:19:48.026Z"
   },
   {
    "duration": 8,
    "start_time": "2024-12-09T17:19:57.321Z"
   },
   {
    "duration": 4,
    "start_time": "2024-12-09T17:20:16.068Z"
   },
   {
    "duration": 6,
    "start_time": "2024-12-09T17:20:21.602Z"
   },
   {
    "duration": 2,
    "start_time": "2024-12-09T17:20:30.001Z"
   },
   {
    "duration": 92,
    "start_time": "2024-12-09T17:20:30.005Z"
   },
   {
    "duration": 17,
    "start_time": "2024-12-09T17:20:30.099Z"
   },
   {
    "duration": 34,
    "start_time": "2024-12-09T17:20:30.117Z"
   },
   {
    "duration": 43,
    "start_time": "2024-12-09T17:20:30.153Z"
   },
   {
    "duration": 61,
    "start_time": "2024-12-09T17:20:30.198Z"
   },
   {
    "duration": 7,
    "start_time": "2024-12-09T17:20:30.260Z"
   },
   {
    "duration": 23,
    "start_time": "2024-12-09T17:20:30.269Z"
   },
   {
    "duration": 33,
    "start_time": "2024-12-09T17:20:30.294Z"
   },
   {
    "duration": 6,
    "start_time": "2024-12-09T17:20:35.437Z"
   },
   {
    "duration": 4,
    "start_time": "2024-12-09T17:20:41.775Z"
   },
   {
    "duration": 6,
    "start_time": "2024-12-09T17:20:42.176Z"
   },
   {
    "duration": 3,
    "start_time": "2024-12-09T17:21:10.901Z"
   },
   {
    "duration": 57,
    "start_time": "2024-12-09T17:21:10.905Z"
   },
   {
    "duration": 15,
    "start_time": "2024-12-09T17:21:10.964Z"
   },
   {
    "duration": 4,
    "start_time": "2024-12-09T17:21:10.981Z"
   },
   {
    "duration": 18,
    "start_time": "2024-12-09T17:21:10.987Z"
   },
   {
    "duration": 62,
    "start_time": "2024-12-09T17:21:11.006Z"
   },
   {
    "duration": 4,
    "start_time": "2024-12-09T17:21:11.069Z"
   },
   {
    "duration": 5,
    "start_time": "2024-12-09T17:21:11.074Z"
   },
   {
    "duration": 13,
    "start_time": "2024-12-09T17:21:11.081Z"
   },
   {
    "duration": 6,
    "start_time": "2024-12-09T17:21:12.611Z"
   },
   {
    "duration": 4,
    "start_time": "2024-12-09T17:21:31.228Z"
   },
   {
    "duration": 5,
    "start_time": "2024-12-09T17:21:31.576Z"
   },
   {
    "duration": 2,
    "start_time": "2024-12-09T17:21:42.586Z"
   },
   {
    "duration": 74,
    "start_time": "2024-12-09T17:21:42.590Z"
   },
   {
    "duration": 15,
    "start_time": "2024-12-09T17:21:42.666Z"
   },
   {
    "duration": 7,
    "start_time": "2024-12-09T17:21:42.683Z"
   },
   {
    "duration": 35,
    "start_time": "2024-12-09T17:21:42.692Z"
   },
   {
    "duration": 52,
    "start_time": "2024-12-09T17:21:42.729Z"
   },
   {
    "duration": 5,
    "start_time": "2024-12-09T17:21:42.783Z"
   },
   {
    "duration": 12,
    "start_time": "2024-12-09T17:21:42.789Z"
   },
   {
    "duration": 9,
    "start_time": "2024-12-09T17:21:42.803Z"
   },
   {
    "duration": 11,
    "start_time": "2024-12-09T17:21:44.821Z"
   },
   {
    "duration": 93,
    "start_time": "2024-12-09T17:23:36.946Z"
   },
   {
    "duration": 9,
    "start_time": "2024-12-09T17:23:42.233Z"
   },
   {
    "duration": 11,
    "start_time": "2024-12-09T17:24:05.724Z"
   },
   {
    "duration": 11,
    "start_time": "2024-12-09T17:24:15.095Z"
   },
   {
    "duration": 18,
    "start_time": "2024-12-09T17:24:48.388Z"
   },
   {
    "duration": 8,
    "start_time": "2024-12-09T17:28:26.797Z"
   },
   {
    "duration": 9,
    "start_time": "2024-12-09T17:28:28.822Z"
   },
   {
    "duration": 21,
    "start_time": "2024-12-09T17:29:32.693Z"
   },
   {
    "duration": 22,
    "start_time": "2024-12-09T17:44:13.917Z"
   },
   {
    "duration": 17,
    "start_time": "2024-12-09T17:44:50.241Z"
   },
   {
    "duration": 4,
    "start_time": "2024-12-09T17:47:55.194Z"
   },
   {
    "duration": 16,
    "start_time": "2024-12-09T17:47:58.580Z"
   },
   {
    "duration": 57,
    "start_time": "2024-12-09T17:48:03.744Z"
   },
   {
    "duration": 17,
    "start_time": "2024-12-09T17:48:04.271Z"
   },
   {
    "duration": 14,
    "start_time": "2024-12-09T17:48:08.639Z"
   },
   {
    "duration": 1314,
    "start_time": "2024-12-09T17:53:26.063Z"
   },
   {
    "duration": 16,
    "start_time": "2024-12-09T17:53:50.744Z"
   },
   {
    "duration": 5,
    "start_time": "2024-12-09T17:53:59.560Z"
   },
   {
    "duration": 1471,
    "start_time": "2024-12-09T17:55:29.230Z"
   },
   {
    "duration": 3,
    "start_time": "2024-12-09T17:55:38.274Z"
   },
   {
    "duration": 4,
    "start_time": "2024-12-09T17:55:38.279Z"
   },
   {
    "duration": 64,
    "start_time": "2024-12-09T17:55:38.285Z"
   },
   {
    "duration": 19,
    "start_time": "2024-12-09T17:55:38.351Z"
   },
   {
    "duration": 26,
    "start_time": "2024-12-09T17:55:38.372Z"
   },
   {
    "duration": 40,
    "start_time": "2024-12-09T17:55:38.399Z"
   },
   {
    "duration": 67,
    "start_time": "2024-12-09T17:55:38.441Z"
   },
   {
    "duration": 4,
    "start_time": "2024-12-09T17:55:38.509Z"
   },
   {
    "duration": 5,
    "start_time": "2024-12-09T17:55:38.514Z"
   },
   {
    "duration": 10,
    "start_time": "2024-12-09T17:55:38.520Z"
   },
   {
    "duration": 24,
    "start_time": "2024-12-09T17:55:38.532Z"
   },
   {
    "duration": 348,
    "start_time": "2024-12-09T17:55:38.557Z"
   },
   {
    "duration": 465,
    "start_time": "2024-12-09T17:55:40.560Z"
   },
   {
    "duration": 6,
    "start_time": "2024-12-09T17:55:52.235Z"
   },
   {
    "duration": 366,
    "start_time": "2024-12-09T17:57:55.437Z"
   },
   {
    "duration": 21,
    "start_time": "2024-12-09T17:58:01.620Z"
   },
   {
    "duration": 8,
    "start_time": "2024-12-09T17:58:27.299Z"
   },
   {
    "duration": 8,
    "start_time": "2024-12-09T17:58:45.121Z"
   },
   {
    "duration": 9,
    "start_time": "2024-12-09T17:58:56.303Z"
   },
   {
    "duration": 6,
    "start_time": "2024-12-09T17:59:00.619Z"
   },
   {
    "duration": 11,
    "start_time": "2024-12-09T18:13:29.678Z"
   },
   {
    "duration": 23,
    "start_time": "2024-12-09T18:13:51.486Z"
   },
   {
    "duration": 14,
    "start_time": "2024-12-09T18:15:11.052Z"
   },
   {
    "duration": 14,
    "start_time": "2024-12-09T18:15:51.538Z"
   },
   {
    "duration": 19,
    "start_time": "2024-12-09T18:16:00.779Z"
   },
   {
    "duration": 9,
    "start_time": "2024-12-09T18:16:01.951Z"
   },
   {
    "duration": 3,
    "start_time": "2024-12-09T18:16:08.659Z"
   },
   {
    "duration": 22,
    "start_time": "2024-12-09T18:16:08.664Z"
   },
   {
    "duration": 64,
    "start_time": "2024-12-09T18:16:08.688Z"
   },
   {
    "duration": 22,
    "start_time": "2024-12-09T18:16:08.754Z"
   },
   {
    "duration": 5,
    "start_time": "2024-12-09T18:16:08.778Z"
   },
   {
    "duration": 26,
    "start_time": "2024-12-09T18:16:08.784Z"
   },
   {
    "duration": 61,
    "start_time": "2024-12-09T18:16:08.812Z"
   },
   {
    "duration": 4,
    "start_time": "2024-12-09T18:16:08.874Z"
   },
   {
    "duration": 23,
    "start_time": "2024-12-09T18:16:08.879Z"
   },
   {
    "duration": 4,
    "start_time": "2024-12-09T18:16:08.904Z"
   },
   {
    "duration": 20,
    "start_time": "2024-12-09T18:16:12.908Z"
   },
   {
    "duration": 15,
    "start_time": "2024-12-09T18:16:13.940Z"
   },
   {
    "duration": 34,
    "start_time": "2024-12-09T18:16:26.464Z"
   },
   {
    "duration": 15,
    "start_time": "2024-12-09T18:16:35.653Z"
   },
   {
    "duration": 16,
    "start_time": "2024-12-09T18:16:52.576Z"
   },
   {
    "duration": 20,
    "start_time": "2024-12-09T18:16:57.896Z"
   },
   {
    "duration": 5,
    "start_time": "2024-12-09T18:17:15.407Z"
   },
   {
    "duration": 19,
    "start_time": "2024-12-09T18:18:44.794Z"
   },
   {
    "duration": 10,
    "start_time": "2024-12-09T18:18:45.602Z"
   },
   {
    "duration": 5,
    "start_time": "2024-12-09T18:18:51.934Z"
   },
   {
    "duration": 17,
    "start_time": "2024-12-09T18:19:01.887Z"
   },
   {
    "duration": 13,
    "start_time": "2024-12-09T18:19:02.275Z"
   },
   {
    "duration": 15,
    "start_time": "2024-12-09T18:19:07.792Z"
   },
   {
    "duration": 15,
    "start_time": "2024-12-09T18:19:12.350Z"
   },
   {
    "duration": 18,
    "start_time": "2024-12-09T18:19:29.651Z"
   },
   {
    "duration": 15,
    "start_time": "2024-12-09T18:19:30.267Z"
   },
   {
    "duration": 15,
    "start_time": "2024-12-09T18:19:55.481Z"
   },
   {
    "duration": 11,
    "start_time": "2024-12-09T18:20:00.166Z"
   },
   {
    "duration": 11,
    "start_time": "2024-12-09T18:20:04.642Z"
   },
   {
    "duration": 6,
    "start_time": "2024-12-09T18:25:42.897Z"
   },
   {
    "duration": 6,
    "start_time": "2024-12-09T18:26:36.396Z"
   },
   {
    "duration": 7,
    "start_time": "2024-12-09T18:26:58.183Z"
   },
   {
    "duration": 6,
    "start_time": "2024-12-09T18:27:08.473Z"
   },
   {
    "duration": 7,
    "start_time": "2024-12-09T18:27:48.251Z"
   },
   {
    "duration": 9,
    "start_time": "2024-12-09T18:27:59.536Z"
   },
   {
    "duration": 8,
    "start_time": "2024-12-09T18:28:06.099Z"
   },
   {
    "duration": 6,
    "start_time": "2024-12-09T18:28:42.730Z"
   },
   {
    "duration": 6,
    "start_time": "2024-12-09T18:30:01.591Z"
   },
   {
    "duration": 7,
    "start_time": "2024-12-09T18:30:23.852Z"
   },
   {
    "duration": 1332,
    "start_time": "2024-12-10T11:36:27.101Z"
   },
   {
    "duration": 2,
    "start_time": "2024-12-10T11:36:28.436Z"
   },
   {
    "duration": 130,
    "start_time": "2024-12-10T11:36:28.440Z"
   },
   {
    "duration": 19,
    "start_time": "2024-12-10T11:36:28.572Z"
   },
   {
    "duration": 10,
    "start_time": "2024-12-10T11:36:28.593Z"
   },
   {
    "duration": 40,
    "start_time": "2024-12-10T11:36:28.605Z"
   },
   {
    "duration": 50,
    "start_time": "2024-12-10T11:36:28.647Z"
   },
   {
    "duration": 3,
    "start_time": "2024-12-10T11:36:28.699Z"
   },
   {
    "duration": 8,
    "start_time": "2024-12-10T11:36:28.704Z"
   },
   {
    "duration": 24,
    "start_time": "2024-12-10T11:36:28.714Z"
   },
   {
    "duration": 19,
    "start_time": "2024-12-10T11:36:28.740Z"
   },
   {
    "duration": 106,
    "start_time": "2024-12-10T11:36:28.761Z"
   },
   {
    "duration": 0,
    "start_time": "2024-12-10T11:36:28.869Z"
   },
   {
    "duration": 0,
    "start_time": "2024-12-10T11:36:28.870Z"
   },
   {
    "duration": 0,
    "start_time": "2024-12-10T11:36:28.872Z"
   },
   {
    "duration": 0,
    "start_time": "2024-12-10T11:36:28.873Z"
   },
   {
    "duration": 0,
    "start_time": "2024-12-10T11:36:28.875Z"
   },
   {
    "duration": 0,
    "start_time": "2024-12-10T11:36:28.876Z"
   },
   {
    "duration": 9,
    "start_time": "2024-12-10T11:36:42.351Z"
   },
   {
    "duration": 90,
    "start_time": "2024-12-10T11:37:57.797Z"
   },
   {
    "duration": 106,
    "start_time": "2024-12-10T11:38:00.796Z"
   },
   {
    "duration": 91,
    "start_time": "2024-12-10T11:38:22.270Z"
   },
   {
    "duration": 9,
    "start_time": "2024-12-10T11:38:29.319Z"
   },
   {
    "duration": 15,
    "start_time": "2024-12-10T11:38:36.366Z"
   },
   {
    "duration": 12,
    "start_time": "2024-12-10T11:38:44.126Z"
   },
   {
    "duration": 14,
    "start_time": "2024-12-10T11:38:44.920Z"
   },
   {
    "duration": 11,
    "start_time": "2024-12-10T11:38:47.836Z"
   },
   {
    "duration": 10,
    "start_time": "2024-12-10T11:38:48.624Z"
   },
   {
    "duration": 22,
    "start_time": "2024-12-10T11:38:52.202Z"
   },
   {
    "duration": 7,
    "start_time": "2024-12-10T11:38:53.550Z"
   },
   {
    "duration": 7,
    "start_time": "2024-12-10T11:40:22.402Z"
   },
   {
    "duration": 4,
    "start_time": "2024-12-10T11:41:14.759Z"
   },
   {
    "duration": 14,
    "start_time": "2024-12-10T11:41:50.321Z"
   },
   {
    "duration": 25,
    "start_time": "2024-12-10T11:42:22.075Z"
   },
   {
    "duration": 12,
    "start_time": "2024-12-10T11:50:11.476Z"
   },
   {
    "duration": 12,
    "start_time": "2024-12-10T11:51:53.636Z"
   },
   {
    "duration": 12,
    "start_time": "2024-12-10T11:52:51.741Z"
   },
   {
    "duration": 12,
    "start_time": "2024-12-10T11:52:55.553Z"
   },
   {
    "duration": 476,
    "start_time": "2024-12-10T11:53:14.047Z"
   },
   {
    "duration": 495,
    "start_time": "2024-12-10T11:53:27.987Z"
   },
   {
    "duration": 84,
    "start_time": "2024-12-10T11:53:42.206Z"
   },
   {
    "duration": 85,
    "start_time": "2024-12-10T11:53:50.827Z"
   },
   {
    "duration": 460,
    "start_time": "2024-12-10T11:53:59.426Z"
   },
   {
    "duration": 469,
    "start_time": "2024-12-10T11:54:06.103Z"
   },
   {
    "duration": 707,
    "start_time": "2024-12-10T11:55:09.488Z"
   },
   {
    "duration": 26,
    "start_time": "2024-12-10T11:55:28.738Z"
   },
   {
    "duration": 1562,
    "start_time": "2024-12-10T11:59:10.517Z"
   },
   {
    "duration": 29,
    "start_time": "2024-12-10T11:59:28.265Z"
   },
   {
    "duration": 101,
    "start_time": "2024-12-10T12:02:29.346Z"
   },
   {
    "duration": 18,
    "start_time": "2024-12-10T12:02:59.123Z"
   },
   {
    "duration": 65,
    "start_time": "2024-12-10T12:03:45.454Z"
   },
   {
    "duration": 17,
    "start_time": "2024-12-10T12:03:55.473Z"
   },
   {
    "duration": 14,
    "start_time": "2024-12-10T12:04:17.406Z"
   },
   {
    "duration": 9,
    "start_time": "2024-12-10T12:04:25.673Z"
   },
   {
    "duration": 20,
    "start_time": "2024-12-10T12:04:30.146Z"
   },
   {
    "duration": 15,
    "start_time": "2024-12-10T12:05:21.152Z"
   },
   {
    "duration": 12,
    "start_time": "2024-12-10T12:05:55.405Z"
   },
   {
    "duration": 14,
    "start_time": "2024-12-10T12:06:05.831Z"
   },
   {
    "duration": 712,
    "start_time": "2024-12-10T12:06:51.695Z"
   },
   {
    "duration": 9,
    "start_time": "2024-12-10T12:07:45.282Z"
   },
   {
    "duration": 14,
    "start_time": "2024-12-10T12:07:53.071Z"
   },
   {
    "duration": 3,
    "start_time": "2024-12-10T12:08:07.630Z"
   },
   {
    "duration": 10,
    "start_time": "2024-12-10T12:08:07.635Z"
   },
   {
    "duration": 83,
    "start_time": "2024-12-10T12:08:07.647Z"
   },
   {
    "duration": 62,
    "start_time": "2024-12-10T12:08:07.731Z"
   },
   {
    "duration": 77,
    "start_time": "2024-12-10T12:08:07.795Z"
   },
   {
    "duration": 48,
    "start_time": "2024-12-10T12:08:07.874Z"
   },
   {
    "duration": 57,
    "start_time": "2024-12-10T12:08:07.924Z"
   },
   {
    "duration": 4,
    "start_time": "2024-12-10T12:08:07.982Z"
   },
   {
    "duration": 25,
    "start_time": "2024-12-10T12:08:07.989Z"
   },
   {
    "duration": 25,
    "start_time": "2024-12-10T12:08:08.016Z"
   },
   {
    "duration": 39,
    "start_time": "2024-12-10T12:08:08.043Z"
   },
   {
    "duration": 19,
    "start_time": "2024-12-10T12:08:08.084Z"
   },
   {
    "duration": 26,
    "start_time": "2024-12-10T12:08:08.107Z"
   },
   {
    "duration": 36,
    "start_time": "2024-12-10T12:08:08.135Z"
   },
   {
    "duration": 71,
    "start_time": "2024-12-10T12:08:08.173Z"
   },
   {
    "duration": 52,
    "start_time": "2024-12-10T12:08:08.246Z"
   },
   {
    "duration": 11,
    "start_time": "2024-12-10T12:08:08.299Z"
   },
   {
    "duration": 36,
    "start_time": "2024-12-10T12:08:08.311Z"
   },
   {
    "duration": 7,
    "start_time": "2024-12-10T12:08:08.349Z"
   },
   {
    "duration": 39,
    "start_time": "2024-12-10T12:08:08.358Z"
   },
   {
    "duration": 9,
    "start_time": "2024-12-10T12:08:13.231Z"
   },
   {
    "duration": 15,
    "start_time": "2024-12-10T12:08:14.026Z"
   },
   {
    "duration": 4,
    "start_time": "2024-12-10T12:08:56.114Z"
   },
   {
    "duration": 14,
    "start_time": "2024-12-10T12:09:02.549Z"
   },
   {
    "duration": 9,
    "start_time": "2024-12-10T12:10:56.467Z"
   },
   {
    "duration": 7,
    "start_time": "2024-12-10T12:11:14.153Z"
   },
   {
    "duration": 7,
    "start_time": "2024-12-10T12:11:36.203Z"
   },
   {
    "duration": 18,
    "start_time": "2024-12-10T12:12:30.927Z"
   },
   {
    "duration": 22,
    "start_time": "2024-12-10T12:12:44.428Z"
   },
   {
    "duration": 3,
    "start_time": "2024-12-10T12:13:09.850Z"
   },
   {
    "duration": 24,
    "start_time": "2024-12-10T12:13:09.854Z"
   },
   {
    "duration": 75,
    "start_time": "2024-12-10T12:13:09.880Z"
   },
   {
    "duration": 20,
    "start_time": "2024-12-10T12:13:09.957Z"
   },
   {
    "duration": 31,
    "start_time": "2024-12-10T12:13:09.979Z"
   },
   {
    "duration": 47,
    "start_time": "2024-12-10T12:13:10.011Z"
   },
   {
    "duration": 56,
    "start_time": "2024-12-10T12:13:10.059Z"
   },
   {
    "duration": 9,
    "start_time": "2024-12-10T12:13:10.117Z"
   },
   {
    "duration": 28,
    "start_time": "2024-12-10T12:13:10.128Z"
   },
   {
    "duration": 56,
    "start_time": "2024-12-10T12:13:10.158Z"
   },
   {
    "duration": 51,
    "start_time": "2024-12-10T12:13:10.215Z"
   },
   {
    "duration": 60,
    "start_time": "2024-12-10T12:13:10.268Z"
   },
   {
    "duration": 18,
    "start_time": "2024-12-10T12:13:10.330Z"
   },
   {
    "duration": 12,
    "start_time": "2024-12-10T12:13:10.350Z"
   },
   {
    "duration": 51,
    "start_time": "2024-12-10T12:13:10.364Z"
   },
   {
    "duration": 32,
    "start_time": "2024-12-10T12:13:10.417Z"
   },
   {
    "duration": 15,
    "start_time": "2024-12-10T12:13:10.450Z"
   },
   {
    "duration": 36,
    "start_time": "2024-12-10T12:13:10.467Z"
   },
   {
    "duration": 6,
    "start_time": "2024-12-10T12:13:10.505Z"
   },
   {
    "duration": 33,
    "start_time": "2024-12-10T12:13:10.513Z"
   },
   {
    "duration": 10,
    "start_time": "2024-12-10T12:16:11.766Z"
   },
   {
    "duration": 9,
    "start_time": "2024-12-10T12:16:22.404Z"
   },
   {
    "duration": 14,
    "start_time": "2024-12-10T12:16:25.707Z"
   },
   {
    "duration": 17,
    "start_time": "2024-12-10T12:16:34.243Z"
   },
   {
    "duration": 4,
    "start_time": "2024-12-10T12:17:05.192Z"
   },
   {
    "duration": 5,
    "start_time": "2024-12-10T12:17:09.857Z"
   },
   {
    "duration": 15,
    "start_time": "2024-12-10T12:17:10.374Z"
   },
   {
    "duration": 7,
    "start_time": "2024-12-10T12:17:12.179Z"
   },
   {
    "duration": 5,
    "start_time": "2024-12-10T12:17:15.411Z"
   },
   {
    "duration": 14,
    "start_time": "2024-12-10T12:17:19.578Z"
   },
   {
    "duration": 5,
    "start_time": "2024-12-10T12:24:34.182Z"
   },
   {
    "duration": 6,
    "start_time": "2024-12-10T12:24:40.787Z"
   },
   {
    "duration": 2,
    "start_time": "2024-12-10T12:27:55.208Z"
   },
   {
    "duration": 0,
    "start_time": "2024-12-10T12:28:57.720Z"
   },
   {
    "duration": 11,
    "start_time": "2024-12-10T12:29:00.540Z"
   },
   {
    "duration": 136,
    "start_time": "2024-12-10T12:29:42.446Z"
   },
   {
    "duration": 116,
    "start_time": "2024-12-10T12:30:29.848Z"
   },
   {
    "duration": 9,
    "start_time": "2024-12-10T12:53:12.973Z"
   },
   {
    "duration": 8,
    "start_time": "2024-12-10T12:53:19.024Z"
   },
   {
    "duration": 22,
    "start_time": "2024-12-10T12:53:50.475Z"
   },
   {
    "duration": 678,
    "start_time": "2024-12-10T12:54:31.604Z"
   },
   {
    "duration": 19,
    "start_time": "2024-12-10T12:55:45.360Z"
   },
   {
    "duration": 97,
    "start_time": "2024-12-10T12:56:55.213Z"
   },
   {
    "duration": 42,
    "start_time": "2024-12-10T12:57:00.433Z"
   },
   {
    "duration": 13,
    "start_time": "2024-12-10T12:58:22.354Z"
   },
   {
    "duration": 14,
    "start_time": "2024-12-10T13:00:36.084Z"
   },
   {
    "duration": 16,
    "start_time": "2024-12-10T13:01:00.715Z"
   },
   {
    "duration": 329,
    "start_time": "2024-12-10T13:01:08.672Z"
   },
   {
    "duration": 100,
    "start_time": "2024-12-10T13:01:54.696Z"
   },
   {
    "duration": 349,
    "start_time": "2024-12-10T13:02:02.962Z"
   },
   {
    "duration": 329,
    "start_time": "2024-12-10T13:02:14.937Z"
   },
   {
    "duration": 320,
    "start_time": "2024-12-10T13:02:23.645Z"
   },
   {
    "duration": 114,
    "start_time": "2024-12-10T13:02:28.812Z"
   },
   {
    "duration": 312,
    "start_time": "2024-12-10T13:02:39.011Z"
   },
   {
    "duration": 1405,
    "start_time": "2024-12-10T13:13:58.575Z"
   },
   {
    "duration": 24,
    "start_time": "2024-12-10T13:14:13.853Z"
   },
   {
    "duration": 14,
    "start_time": "2024-12-10T13:14:52.516Z"
   },
   {
    "duration": 7,
    "start_time": "2024-12-10T13:15:03.371Z"
   },
   {
    "duration": 34,
    "start_time": "2024-12-10T13:18:19.109Z"
   },
   {
    "duration": 32,
    "start_time": "2024-12-10T13:18:31.956Z"
   },
   {
    "duration": 32,
    "start_time": "2024-12-10T13:18:40.760Z"
   },
   {
    "duration": 1415,
    "start_time": "2024-12-10T13:20:58.607Z"
   },
   {
    "duration": 59,
    "start_time": "2024-12-10T13:21:12.237Z"
   },
   {
    "duration": 62,
    "start_time": "2024-12-10T13:21:25.597Z"
   },
   {
    "duration": 33,
    "start_time": "2024-12-10T13:21:35.261Z"
   },
   {
    "duration": 16,
    "start_time": "2024-12-10T13:21:47.046Z"
   },
   {
    "duration": 6,
    "start_time": "2024-12-10T13:23:32.040Z"
   },
   {
    "duration": 7,
    "start_time": "2024-12-10T13:23:40.153Z"
   },
   {
    "duration": 12,
    "start_time": "2024-12-10T13:25:08.384Z"
   },
   {
    "duration": 13,
    "start_time": "2024-12-10T13:29:55.947Z"
   },
   {
    "duration": 15,
    "start_time": "2024-12-10T13:30:01.329Z"
   },
   {
    "duration": 11,
    "start_time": "2024-12-10T13:30:08.629Z"
   },
   {
    "duration": 9,
    "start_time": "2024-12-10T13:59:53.617Z"
   },
   {
    "duration": 15,
    "start_time": "2024-12-10T14:00:09.089Z"
   },
   {
    "duration": 6,
    "start_time": "2024-12-10T14:00:30.405Z"
   },
   {
    "duration": 2,
    "start_time": "2024-12-10T14:01:15.166Z"
   },
   {
    "duration": 2,
    "start_time": "2024-12-10T14:20:07.141Z"
   },
   {
    "duration": 81,
    "start_time": "2024-12-10T14:21:28.990Z"
   },
   {
    "duration": 21,
    "start_time": "2024-12-10T14:21:34.730Z"
   },
   {
    "duration": 21,
    "start_time": "2024-12-10T14:22:03.816Z"
   },
   {
    "duration": 26,
    "start_time": "2024-12-10T14:22:39.966Z"
   },
   {
    "duration": 19,
    "start_time": "2024-12-10T14:22:43.124Z"
   },
   {
    "duration": 21,
    "start_time": "2024-12-10T14:22:47.992Z"
   },
   {
    "duration": 20,
    "start_time": "2024-12-10T14:24:40.026Z"
   },
   {
    "duration": 9,
    "start_time": "2024-12-10T14:24:56.142Z"
   },
   {
    "duration": 12,
    "start_time": "2024-12-10T14:25:46.279Z"
   },
   {
    "duration": 13,
    "start_time": "2024-12-10T14:25:49.745Z"
   },
   {
    "duration": 12,
    "start_time": "2024-12-10T14:26:31.051Z"
   },
   {
    "duration": 14,
    "start_time": "2024-12-10T14:27:04.170Z"
   },
   {
    "duration": 11,
    "start_time": "2024-12-10T14:27:15.762Z"
   },
   {
    "duration": 12,
    "start_time": "2024-12-10T14:27:41.448Z"
   },
   {
    "duration": 8,
    "start_time": "2024-12-10T14:27:54.795Z"
   },
   {
    "duration": 12,
    "start_time": "2024-12-10T14:28:13.179Z"
   },
   {
    "duration": 12,
    "start_time": "2024-12-10T14:28:45.179Z"
   },
   {
    "duration": 12,
    "start_time": "2024-12-10T14:29:10.513Z"
   },
   {
    "duration": 7,
    "start_time": "2024-12-10T14:34:43.160Z"
   },
   {
    "duration": 8,
    "start_time": "2024-12-10T14:34:46.605Z"
   },
   {
    "duration": 12,
    "start_time": "2024-12-10T14:35:26.542Z"
   },
   {
    "duration": 8,
    "start_time": "2024-12-10T14:35:45.431Z"
   },
   {
    "duration": 12,
    "start_time": "2024-12-10T14:35:50.202Z"
   },
   {
    "duration": 10,
    "start_time": "2024-12-10T14:37:18.094Z"
   },
   {
    "duration": 12,
    "start_time": "2024-12-10T14:37:27.479Z"
   },
   {
    "duration": 817,
    "start_time": "2024-12-10T14:41:17.522Z"
   },
   {
    "duration": 765,
    "start_time": "2024-12-10T14:41:29.759Z"
   },
   {
    "duration": 12,
    "start_time": "2024-12-10T14:42:07.064Z"
   },
   {
    "duration": 11,
    "start_time": "2024-12-10T14:42:11.711Z"
   },
   {
    "duration": 14,
    "start_time": "2024-12-10T14:42:16.612Z"
   },
   {
    "duration": 825,
    "start_time": "2024-12-10T14:42:27.845Z"
   },
   {
    "duration": 5,
    "start_time": "2024-12-10T14:42:43.109Z"
   },
   {
    "duration": 5,
    "start_time": "2024-12-10T14:42:59.667Z"
   },
   {
    "duration": 4,
    "start_time": "2024-12-10T14:43:05.838Z"
   },
   {
    "duration": 10,
    "start_time": "2024-12-10T14:43:11.698Z"
   },
   {
    "duration": 31,
    "start_time": "2024-12-10T14:43:44.058Z"
   },
   {
    "duration": 747,
    "start_time": "2024-12-10T14:43:56.559Z"
   },
   {
    "duration": 649,
    "start_time": "2024-12-10T14:44:02.931Z"
   },
   {
    "duration": 3,
    "start_time": "2024-12-10T14:45:07.395Z"
   },
   {
    "duration": 20,
    "start_time": "2024-12-10T14:45:07.400Z"
   },
   {
    "duration": 71,
    "start_time": "2024-12-10T14:45:07.421Z"
   },
   {
    "duration": 15,
    "start_time": "2024-12-10T14:45:07.494Z"
   },
   {
    "duration": 36,
    "start_time": "2024-12-10T14:45:07.511Z"
   },
   {
    "duration": 21,
    "start_time": "2024-12-10T14:45:07.549Z"
   },
   {
    "duration": 58,
    "start_time": "2024-12-10T14:45:07.572Z"
   },
   {
    "duration": 4,
    "start_time": "2024-12-10T14:45:07.631Z"
   },
   {
    "duration": 6,
    "start_time": "2024-12-10T14:45:07.637Z"
   },
   {
    "duration": 60,
    "start_time": "2024-12-10T14:45:07.645Z"
   },
   {
    "duration": 29,
    "start_time": "2024-12-10T14:45:07.707Z"
   },
   {
    "duration": 22,
    "start_time": "2024-12-10T14:45:07.737Z"
   },
   {
    "duration": 11,
    "start_time": "2024-12-10T14:45:07.764Z"
   },
   {
    "duration": 35,
    "start_time": "2024-12-10T14:45:07.777Z"
   },
   {
    "duration": 16,
    "start_time": "2024-12-10T14:45:07.814Z"
   },
   {
    "duration": 33,
    "start_time": "2024-12-10T14:45:07.832Z"
   },
   {
    "duration": 24,
    "start_time": "2024-12-10T14:45:07.867Z"
   },
   {
    "duration": 44,
    "start_time": "2024-12-10T14:45:07.892Z"
   },
   {
    "duration": 6,
    "start_time": "2024-12-10T14:45:07.938Z"
   },
   {
    "duration": 45,
    "start_time": "2024-12-10T14:45:07.946Z"
   },
   {
    "duration": 8,
    "start_time": "2024-12-10T14:45:07.993Z"
   },
   {
    "duration": 46,
    "start_time": "2024-12-10T14:45:08.003Z"
   },
   {
    "duration": 17,
    "start_time": "2024-12-10T14:45:08.050Z"
   },
   {
    "duration": 5,
    "start_time": "2024-12-10T14:45:08.068Z"
   },
   {
    "duration": 23,
    "start_time": "2024-12-10T14:45:08.074Z"
   },
   {
    "duration": 13,
    "start_time": "2024-12-10T14:45:08.098Z"
   },
   {
    "duration": 14,
    "start_time": "2024-12-10T14:45:08.113Z"
   },
   {
    "duration": 34,
    "start_time": "2024-12-10T14:45:08.129Z"
   },
   {
    "duration": 34,
    "start_time": "2024-12-10T14:45:08.164Z"
   },
   {
    "duration": 105,
    "start_time": "2024-12-10T14:45:08.200Z"
   },
   {
    "duration": 31,
    "start_time": "2024-12-10T14:45:08.307Z"
   },
   {
    "duration": 331,
    "start_time": "2024-12-10T14:45:08.340Z"
   },
   {
    "duration": 131,
    "start_time": "2024-12-10T14:45:08.673Z"
   },
   {
    "duration": 11,
    "start_time": "2024-12-10T14:45:08.805Z"
   },
   {
    "duration": 28,
    "start_time": "2024-12-10T14:45:08.817Z"
   },
   {
    "duration": 19,
    "start_time": "2024-12-10T14:45:08.846Z"
   },
   {
    "duration": 14,
    "start_time": "2024-12-10T14:45:08.868Z"
   },
   {
    "duration": 621,
    "start_time": "2024-12-10T14:45:11.303Z"
   },
   {
    "duration": 6,
    "start_time": "2024-12-10T14:47:14.066Z"
   },
   {
    "duration": 147,
    "start_time": "2024-12-10T14:47:17.296Z"
   },
   {
    "duration": 255,
    "start_time": "2024-12-10T14:47:23.830Z"
   },
   {
    "duration": 641,
    "start_time": "2024-12-10T14:48:25.859Z"
   },
   {
    "duration": 677,
    "start_time": "2024-12-10T14:48:33.783Z"
   },
   {
    "duration": 262,
    "start_time": "2024-12-10T14:50:56.817Z"
   },
   {
    "duration": 10,
    "start_time": "2024-12-10T14:51:12.056Z"
   },
   {
    "duration": 119,
    "start_time": "2024-12-10T14:51:29.215Z"
   },
   {
    "duration": 100,
    "start_time": "2024-12-10T14:51:35.890Z"
   },
   {
    "duration": 308,
    "start_time": "2024-12-10T14:51:51.534Z"
   },
   {
    "duration": 179,
    "start_time": "2024-12-10T14:52:32.507Z"
   },
   {
    "duration": 180,
    "start_time": "2024-12-10T14:52:53.657Z"
   },
   {
    "duration": 6,
    "start_time": "2024-12-10T15:03:04.650Z"
   },
   {
    "duration": 23,
    "start_time": "2024-12-10T15:03:16.086Z"
   },
   {
    "duration": 15,
    "start_time": "2024-12-10T15:04:40.329Z"
   },
   {
    "duration": 636,
    "start_time": "2024-12-10T15:06:05.624Z"
   },
   {
    "duration": 26,
    "start_time": "2024-12-10T15:07:59.478Z"
   },
   {
    "duration": 623,
    "start_time": "2024-12-10T15:08:05.627Z"
   },
   {
    "duration": 632,
    "start_time": "2024-12-10T15:08:14.029Z"
   },
   {
    "duration": 10,
    "start_time": "2024-12-10T15:12:20.250Z"
   },
   {
    "duration": 9,
    "start_time": "2024-12-10T15:12:30.507Z"
   },
   {
    "duration": 6,
    "start_time": "2024-12-10T15:12:56.614Z"
   },
   {
    "duration": 137,
    "start_time": "2024-12-10T15:16:22.684Z"
   },
   {
    "duration": 136,
    "start_time": "2024-12-10T15:16:59.538Z"
   },
   {
    "duration": 227,
    "start_time": "2024-12-10T15:17:12.403Z"
   },
   {
    "duration": 161,
    "start_time": "2024-12-10T15:17:19.232Z"
   },
   {
    "duration": 131,
    "start_time": "2024-12-10T15:17:25.406Z"
   },
   {
    "duration": 174,
    "start_time": "2024-12-10T15:17:29.945Z"
   },
   {
    "duration": 176,
    "start_time": "2024-12-10T15:18:24.845Z"
   },
   {
    "duration": 181,
    "start_time": "2024-12-10T15:18:28.960Z"
   },
   {
    "duration": 168,
    "start_time": "2024-12-10T15:18:35.713Z"
   },
   {
    "duration": 177,
    "start_time": "2024-12-10T15:30:06.696Z"
   },
   {
    "duration": 11,
    "start_time": "2024-12-10T15:30:44.763Z"
   },
   {
    "duration": 5,
    "start_time": "2024-12-10T15:30:48.944Z"
   },
   {
    "duration": 8,
    "start_time": "2024-12-10T15:31:26.593Z"
   },
   {
    "duration": 9,
    "start_time": "2024-12-10T15:33:08.744Z"
   },
   {
    "duration": 458,
    "start_time": "2024-12-10T15:33:18.599Z"
   },
   {
    "duration": 1970,
    "start_time": "2024-12-10T15:33:27.745Z"
   },
   {
    "duration": 892,
    "start_time": "2024-12-10T15:33:41.643Z"
   },
   {
    "duration": 877,
    "start_time": "2024-12-10T15:33:46.984Z"
   },
   {
    "duration": 86,
    "start_time": "2024-12-10T15:34:57.325Z"
   },
   {
    "duration": 18,
    "start_time": "2024-12-10T15:36:11.410Z"
   },
   {
    "duration": 1436,
    "start_time": "2024-12-10T15:44:08.449Z"
   },
   {
    "duration": 1440,
    "start_time": "2024-12-10T15:47:18.412Z"
   },
   {
    "duration": 10,
    "start_time": "2024-12-10T15:49:24.882Z"
   },
   {
    "duration": 7,
    "start_time": "2024-12-10T15:52:18.017Z"
   },
   {
    "duration": 26,
    "start_time": "2024-12-10T15:52:24.002Z"
   },
   {
    "duration": 7,
    "start_time": "2024-12-10T15:52:37.636Z"
   },
   {
    "duration": 25,
    "start_time": "2024-12-10T15:57:31.010Z"
   },
   {
    "duration": 27,
    "start_time": "2024-12-10T15:57:46.733Z"
   },
   {
    "duration": 30,
    "start_time": "2024-12-10T15:57:57.945Z"
   },
   {
    "duration": 30,
    "start_time": "2024-12-10T15:58:00.627Z"
   },
   {
    "duration": 69,
    "start_time": "2024-12-10T15:58:07.040Z"
   },
   {
    "duration": 33,
    "start_time": "2024-12-10T15:58:46.606Z"
   },
   {
    "duration": 782,
    "start_time": "2024-12-10T15:59:27.459Z"
   },
   {
    "duration": 743,
    "start_time": "2024-12-10T16:00:13.064Z"
   },
   {
    "duration": 769,
    "start_time": "2024-12-10T16:00:27.832Z"
   },
   {
    "duration": 791,
    "start_time": "2024-12-10T16:01:48.931Z"
   },
   {
    "duration": 21,
    "start_time": "2024-12-10T16:05:56.849Z"
   },
   {
    "duration": 14,
    "start_time": "2024-12-10T16:07:15.471Z"
   },
   {
    "duration": 11,
    "start_time": "2024-12-10T16:07:25.627Z"
   },
   {
    "duration": 7,
    "start_time": "2024-12-10T16:07:37.128Z"
   },
   {
    "duration": 16,
    "start_time": "2024-12-10T16:07:42.592Z"
   },
   {
    "duration": 18,
    "start_time": "2024-12-10T16:07:46.823Z"
   },
   {
    "duration": 16,
    "start_time": "2024-12-10T16:07:56.634Z"
   },
   {
    "duration": 11,
    "start_time": "2024-12-10T16:08:03.054Z"
   },
   {
    "duration": 11,
    "start_time": "2024-12-10T16:08:18.485Z"
   },
   {
    "duration": 13,
    "start_time": "2024-12-10T16:08:37.509Z"
   },
   {
    "duration": 11,
    "start_time": "2024-12-10T16:09:10.350Z"
   },
   {
    "duration": 11,
    "start_time": "2024-12-10T16:09:25.573Z"
   },
   {
    "duration": 2,
    "start_time": "2024-12-10T16:11:47.037Z"
   },
   {
    "duration": 9,
    "start_time": "2024-12-10T16:11:47.041Z"
   },
   {
    "duration": 59,
    "start_time": "2024-12-10T16:11:47.052Z"
   },
   {
    "duration": 15,
    "start_time": "2024-12-10T16:11:47.113Z"
   },
   {
    "duration": 4,
    "start_time": "2024-12-10T16:11:47.130Z"
   },
   {
    "duration": 15,
    "start_time": "2024-12-10T16:11:47.135Z"
   },
   {
    "duration": 52,
    "start_time": "2024-12-10T16:11:47.152Z"
   },
   {
    "duration": 3,
    "start_time": "2024-12-10T16:11:47.206Z"
   },
   {
    "duration": 25,
    "start_time": "2024-12-10T16:11:47.212Z"
   },
   {
    "duration": 7,
    "start_time": "2024-12-10T16:11:47.239Z"
   },
   {
    "duration": 31,
    "start_time": "2024-12-10T16:11:47.247Z"
   },
   {
    "duration": 15,
    "start_time": "2024-12-10T16:11:47.280Z"
   },
   {
    "duration": 17,
    "start_time": "2024-12-10T16:11:47.296Z"
   },
   {
    "duration": 12,
    "start_time": "2024-12-10T16:11:47.314Z"
   },
   {
    "duration": 25,
    "start_time": "2024-12-10T16:11:47.327Z"
   },
   {
    "duration": 27,
    "start_time": "2024-12-10T16:11:47.354Z"
   },
   {
    "duration": 11,
    "start_time": "2024-12-10T16:11:47.383Z"
   },
   {
    "duration": 31,
    "start_time": "2024-12-10T16:11:47.395Z"
   },
   {
    "duration": 10,
    "start_time": "2024-12-10T16:11:47.428Z"
   },
   {
    "duration": 15,
    "start_time": "2024-12-10T16:11:47.440Z"
   },
   {
    "duration": 5,
    "start_time": "2024-12-10T16:11:47.457Z"
   },
   {
    "duration": 26,
    "start_time": "2024-12-10T16:11:47.464Z"
   },
   {
    "duration": 8,
    "start_time": "2024-12-10T16:11:47.492Z"
   },
   {
    "duration": 7,
    "start_time": "2024-12-10T16:11:47.503Z"
   },
   {
    "duration": 28,
    "start_time": "2024-12-10T16:11:47.511Z"
   },
   {
    "duration": 5,
    "start_time": "2024-12-10T16:11:49.681Z"
   },
   {
    "duration": 6,
    "start_time": "2024-12-10T16:11:51.529Z"
   },
   {
    "duration": 24,
    "start_time": "2024-12-10T16:11:58.357Z"
   },
   {
    "duration": 14,
    "start_time": "2024-12-10T16:12:14.345Z"
   },
   {
    "duration": 3,
    "start_time": "2024-12-10T16:12:30.275Z"
   },
   {
    "duration": 51,
    "start_time": "2024-12-10T16:12:30.279Z"
   },
   {
    "duration": 90,
    "start_time": "2024-12-10T16:12:30.331Z"
   },
   {
    "duration": 16,
    "start_time": "2024-12-10T16:12:30.424Z"
   },
   {
    "duration": 21,
    "start_time": "2024-12-10T16:12:30.441Z"
   },
   {
    "duration": 36,
    "start_time": "2024-12-10T16:12:30.464Z"
   },
   {
    "duration": 55,
    "start_time": "2024-12-10T16:12:30.503Z"
   },
   {
    "duration": 4,
    "start_time": "2024-12-10T16:12:30.560Z"
   },
   {
    "duration": 6,
    "start_time": "2024-12-10T16:12:30.567Z"
   },
   {
    "duration": 13,
    "start_time": "2024-12-10T16:12:30.574Z"
   },
   {
    "duration": 58,
    "start_time": "2024-12-10T16:12:30.589Z"
   },
   {
    "duration": 15,
    "start_time": "2024-12-10T16:12:30.648Z"
   },
   {
    "duration": 17,
    "start_time": "2024-12-10T16:12:30.665Z"
   },
   {
    "duration": 22,
    "start_time": "2024-12-10T16:12:30.684Z"
   },
   {
    "duration": 40,
    "start_time": "2024-12-10T16:12:30.708Z"
   },
   {
    "duration": 33,
    "start_time": "2024-12-10T16:12:30.749Z"
   },
   {
    "duration": 12,
    "start_time": "2024-12-10T16:12:30.784Z"
   },
   {
    "duration": 44,
    "start_time": "2024-12-10T16:12:30.798Z"
   },
   {
    "duration": 7,
    "start_time": "2024-12-10T16:12:30.843Z"
   },
   {
    "duration": 34,
    "start_time": "2024-12-10T16:12:30.852Z"
   },
   {
    "duration": 51,
    "start_time": "2024-12-10T16:12:30.887Z"
   },
   {
    "duration": 60,
    "start_time": "2024-12-10T16:12:30.940Z"
   },
   {
    "duration": 8,
    "start_time": "2024-12-10T16:12:31.002Z"
   },
   {
    "duration": 39,
    "start_time": "2024-12-10T16:12:31.013Z"
   },
   {
    "duration": 28,
    "start_time": "2024-12-10T16:12:31.054Z"
   },
   {
    "duration": 8,
    "start_time": "2024-12-10T16:12:31.083Z"
   },
   {
    "duration": 25,
    "start_time": "2024-12-10T16:12:31.092Z"
   },
   {
    "duration": 42,
    "start_time": "2024-12-10T16:12:31.118Z"
   },
   {
    "duration": 34,
    "start_time": "2024-12-10T16:12:31.161Z"
   },
   {
    "duration": 88,
    "start_time": "2024-12-10T16:12:31.197Z"
   },
   {
    "duration": 15,
    "start_time": "2024-12-10T16:12:31.287Z"
   },
   {
    "duration": 338,
    "start_time": "2024-12-10T16:12:31.303Z"
   },
   {
    "duration": 134,
    "start_time": "2024-12-10T16:12:31.643Z"
   },
   {
    "duration": 11,
    "start_time": "2024-12-10T16:12:31.779Z"
   },
   {
    "duration": 19,
    "start_time": "2024-12-10T16:12:31.791Z"
   },
   {
    "duration": 8,
    "start_time": "2024-12-10T16:12:34.496Z"
   },
   {
    "duration": 6,
    "start_time": "2024-12-10T16:12:35.896Z"
   },
   {
    "duration": 12,
    "start_time": "2024-12-10T16:12:37.942Z"
   },
   {
    "duration": 811,
    "start_time": "2024-12-10T16:12:41.800Z"
   },
   {
    "duration": 11,
    "start_time": "2024-12-10T16:12:43.718Z"
   },
   {
    "duration": 7,
    "start_time": "2024-12-10T16:25:31.518Z"
   },
   {
    "duration": 7,
    "start_time": "2024-12-10T16:25:56.500Z"
   },
   {
    "duration": 757,
    "start_time": "2024-12-10T16:37:27.384Z"
   },
   {
    "duration": 5,
    "start_time": "2024-12-10T16:44:01.077Z"
   },
   {
    "duration": 76,
    "start_time": "2024-12-10T16:54:27.815Z"
   },
   {
    "duration": 1761,
    "start_time": "2024-12-10T16:54:44.702Z"
   },
   {
    "duration": 1763,
    "start_time": "2024-12-10T16:55:27.355Z"
   },
   {
    "duration": 9,
    "start_time": "2024-12-10T16:56:29.324Z"
   },
   {
    "duration": 1649,
    "start_time": "2024-12-10T16:56:36.974Z"
   },
   {
    "duration": 10,
    "start_time": "2024-12-10T16:56:55.484Z"
   },
   {
    "duration": 11,
    "start_time": "2024-12-10T16:57:01.430Z"
   },
   {
    "duration": 786,
    "start_time": "2024-12-10T16:57:46.955Z"
   },
   {
    "duration": 10,
    "start_time": "2024-12-10T16:58:03.467Z"
   },
   {
    "duration": 1540,
    "start_time": "2024-12-10T17:00:08.631Z"
   },
   {
    "duration": 302,
    "start_time": "2024-12-10T17:11:57.337Z"
   },
   {
    "duration": 47,
    "start_time": "2024-12-10T17:12:01.681Z"
   },
   {
    "duration": 62,
    "start_time": "2024-12-10T17:12:13.933Z"
   },
   {
    "duration": 13,
    "start_time": "2024-12-10T17:13:50.042Z"
   },
   {
    "duration": 1363,
    "start_time": "2024-12-10T17:13:55.946Z"
   },
   {
    "duration": 48,
    "start_time": "2024-12-10T17:14:14.134Z"
   },
   {
    "duration": 49,
    "start_time": "2024-12-10T17:14:25.524Z"
   },
   {
    "duration": 103,
    "start_time": "2024-12-10T17:14:42.048Z"
   },
   {
    "duration": 54,
    "start_time": "2024-12-10T17:14:47.942Z"
   },
   {
    "duration": 18,
    "start_time": "2024-12-10T17:16:26.814Z"
   },
   {
    "duration": 60,
    "start_time": "2024-12-10T17:16:54.491Z"
   },
   {
    "duration": 62,
    "start_time": "2024-12-10T17:17:11.527Z"
   },
   {
    "duration": 17,
    "start_time": "2024-12-10T17:18:06.922Z"
   },
   {
    "duration": 61,
    "start_time": "2024-12-10T17:18:35.678Z"
   },
   {
    "duration": 45,
    "start_time": "2024-12-10T17:19:31.463Z"
   },
   {
    "duration": 58,
    "start_time": "2024-12-10T17:19:36.293Z"
   },
   {
    "duration": 65,
    "start_time": "2024-12-10T17:20:51.559Z"
   },
   {
    "duration": 285,
    "start_time": "2024-12-10T17:21:21.387Z"
   },
   {
    "duration": 328,
    "start_time": "2024-12-10T17:21:38.066Z"
   },
   {
    "duration": 103,
    "start_time": "2024-12-10T17:21:51.276Z"
   },
   {
    "duration": 60,
    "start_time": "2024-12-10T17:21:55.359Z"
   },
   {
    "duration": 62,
    "start_time": "2024-12-10T17:22:01.104Z"
   },
   {
    "duration": 64,
    "start_time": "2024-12-10T17:22:07.312Z"
   },
   {
    "duration": 49,
    "start_time": "2024-12-10T17:23:02.321Z"
   },
   {
    "duration": 45,
    "start_time": "2024-12-10T17:23:14.259Z"
   },
   {
    "duration": 54,
    "start_time": "2024-12-10T17:23:24.377Z"
   },
   {
    "duration": 56,
    "start_time": "2024-12-10T17:28:31.021Z"
   },
   {
    "duration": 16,
    "start_time": "2024-12-10T17:29:53.601Z"
   },
   {
    "duration": 58,
    "start_time": "2024-12-10T17:29:59.470Z"
   },
   {
    "duration": 47,
    "start_time": "2024-12-10T17:32:26.186Z"
   },
   {
    "duration": 58,
    "start_time": "2024-12-10T17:32:34.809Z"
   },
   {
    "duration": 64,
    "start_time": "2024-12-10T17:33:11.191Z"
   },
   {
    "duration": 57,
    "start_time": "2024-12-10T17:33:18.396Z"
   },
   {
    "duration": 62,
    "start_time": "2024-12-10T17:33:30.514Z"
   },
   {
    "duration": 66,
    "start_time": "2024-12-10T17:36:43.332Z"
   },
   {
    "duration": 67,
    "start_time": "2024-12-10T17:37:31.124Z"
   },
   {
    "duration": 69,
    "start_time": "2024-12-10T17:37:44.062Z"
   },
   {
    "duration": 122,
    "start_time": "2024-12-10T17:38:42.268Z"
   },
   {
    "duration": 72,
    "start_time": "2024-12-10T17:39:13.007Z"
   },
   {
    "duration": 749,
    "start_time": "2024-12-10T17:40:55.289Z"
   },
   {
    "duration": 124,
    "start_time": "2024-12-10T17:41:29.432Z"
   },
   {
    "duration": 72,
    "start_time": "2024-12-10T17:41:42.714Z"
   },
   {
    "duration": 57,
    "start_time": "2024-12-10T17:43:37.220Z"
   },
   {
    "duration": 27,
    "start_time": "2024-12-10T17:43:42.550Z"
   },
   {
    "duration": 27,
    "start_time": "2024-12-10T17:44:57.272Z"
   },
   {
    "duration": 361,
    "start_time": "2024-12-10T17:45:18.004Z"
   },
   {
    "duration": 352,
    "start_time": "2024-12-10T17:46:50.187Z"
   },
   {
    "duration": 27,
    "start_time": "2024-12-10T17:47:00.257Z"
   },
   {
    "duration": 24,
    "start_time": "2024-12-10T17:47:24.452Z"
   },
   {
    "duration": 24,
    "start_time": "2024-12-10T17:47:52.410Z"
   },
   {
    "duration": 9,
    "start_time": "2024-12-10T17:48:01.887Z"
   },
   {
    "duration": 8,
    "start_time": "2024-12-10T17:48:09.783Z"
   },
   {
    "duration": 8,
    "start_time": "2024-12-10T17:48:29.934Z"
   },
   {
    "duration": 9,
    "start_time": "2024-12-10T17:48:33.733Z"
   },
   {
    "duration": 23,
    "start_time": "2024-12-10T17:48:38.946Z"
   },
   {
    "duration": 13,
    "start_time": "2024-12-10T17:48:48.949Z"
   },
   {
    "duration": 25,
    "start_time": "2024-12-10T17:49:35.763Z"
   },
   {
    "duration": 314,
    "start_time": "2024-12-10T17:49:46.154Z"
   },
   {
    "duration": 25,
    "start_time": "2024-12-10T17:51:08.672Z"
   },
   {
    "duration": 342,
    "start_time": "2024-12-10T17:52:48.032Z"
   },
   {
    "duration": 352,
    "start_time": "2024-12-10T17:53:31.487Z"
   },
   {
    "duration": 333,
    "start_time": "2024-12-10T17:53:56.105Z"
   },
   {
    "duration": 17,
    "start_time": "2024-12-10T17:54:17.445Z"
   },
   {
    "duration": 29,
    "start_time": "2024-12-10T17:54:25.436Z"
   },
   {
    "duration": 85,
    "start_time": "2024-12-10T17:58:14.746Z"
   },
   {
    "duration": 43,
    "start_time": "2024-12-10T17:58:24.684Z"
   },
   {
    "duration": 11,
    "start_time": "2024-12-10T18:05:06.082Z"
   },
   {
    "duration": 30,
    "start_time": "2024-12-10T18:05:32.917Z"
   },
   {
    "duration": 42,
    "start_time": "2024-12-10T18:05:41.229Z"
   },
   {
    "duration": 233,
    "start_time": "2024-12-10T18:05:48.275Z"
   },
   {
    "duration": 231,
    "start_time": "2024-12-10T18:08:06.558Z"
   },
   {
    "duration": 38,
    "start_time": "2024-12-10T18:08:52.534Z"
   },
   {
    "duration": 40,
    "start_time": "2024-12-10T18:11:40.270Z"
   },
   {
    "duration": 26,
    "start_time": "2024-12-10T18:29:52.939Z"
   },
   {
    "duration": 23,
    "start_time": "2024-12-10T18:32:05.501Z"
   },
   {
    "duration": 93,
    "start_time": "2024-12-10T18:32:31.765Z"
   },
   {
    "duration": 2438,
    "start_time": "2024-12-10T18:32:37.444Z"
   },
   {
    "duration": 4457,
    "start_time": "2024-12-10T18:32:53.483Z"
   },
   {
    "duration": 6,
    "start_time": "2024-12-11T10:29:00.230Z"
   },
   {
    "duration": 3,
    "start_time": "2024-12-11T10:29:06.080Z"
   },
   {
    "duration": 35,
    "start_time": "2024-12-11T10:29:06.084Z"
   },
   {
    "duration": 77,
    "start_time": "2024-12-11T10:29:06.121Z"
   },
   {
    "duration": 16,
    "start_time": "2024-12-11T10:29:06.200Z"
   },
   {
    "duration": 13,
    "start_time": "2024-12-11T10:29:06.217Z"
   },
   {
    "duration": 22,
    "start_time": "2024-12-11T10:29:06.232Z"
   },
   {
    "duration": 52,
    "start_time": "2024-12-11T10:29:06.256Z"
   },
   {
    "duration": 4,
    "start_time": "2024-12-11T10:29:06.309Z"
   },
   {
    "duration": 51,
    "start_time": "2024-12-11T10:29:06.316Z"
   },
   {
    "duration": 7,
    "start_time": "2024-12-11T10:29:06.369Z"
   },
   {
    "duration": 25,
    "start_time": "2024-12-11T10:29:06.377Z"
   },
   {
    "duration": 29,
    "start_time": "2024-12-11T10:29:06.404Z"
   },
   {
    "duration": 25,
    "start_time": "2024-12-11T10:29:06.435Z"
   },
   {
    "duration": 29,
    "start_time": "2024-12-11T10:29:06.462Z"
   },
   {
    "duration": 15,
    "start_time": "2024-12-11T10:29:06.493Z"
   },
   {
    "duration": 42,
    "start_time": "2024-12-11T10:29:06.510Z"
   },
   {
    "duration": 21,
    "start_time": "2024-12-11T10:29:06.553Z"
   },
   {
    "duration": 27,
    "start_time": "2024-12-11T10:29:06.576Z"
   },
   {
    "duration": 7,
    "start_time": "2024-12-11T10:29:06.605Z"
   },
   {
    "duration": 17,
    "start_time": "2024-12-11T10:29:06.614Z"
   },
   {
    "duration": 19,
    "start_time": "2024-12-11T10:29:06.633Z"
   },
   {
    "duration": 31,
    "start_time": "2024-12-11T10:29:06.654Z"
   },
   {
    "duration": 27,
    "start_time": "2024-12-11T10:29:06.687Z"
   },
   {
    "duration": 20,
    "start_time": "2024-12-11T10:29:06.718Z"
   },
   {
    "duration": 20,
    "start_time": "2024-12-11T10:29:06.739Z"
   },
   {
    "duration": 21,
    "start_time": "2024-12-11T10:29:06.760Z"
   },
   {
    "duration": 33,
    "start_time": "2024-12-11T10:29:06.782Z"
   },
   {
    "duration": 57,
    "start_time": "2024-12-11T10:29:06.817Z"
   },
   {
    "duration": 79,
    "start_time": "2024-12-11T10:29:06.876Z"
   },
   {
    "duration": 63,
    "start_time": "2024-12-11T10:29:06.957Z"
   },
   {
    "duration": 19,
    "start_time": "2024-12-11T10:29:07.022Z"
   },
   {
    "duration": 359,
    "start_time": "2024-12-11T10:29:07.043Z"
   },
   {
    "duration": 143,
    "start_time": "2024-12-11T10:29:07.403Z"
   },
   {
    "duration": 12,
    "start_time": "2024-12-11T10:29:07.547Z"
   },
   {
    "duration": 9,
    "start_time": "2024-12-11T10:29:07.561Z"
   },
   {
    "duration": 6,
    "start_time": "2024-12-11T10:29:07.571Z"
   },
   {
    "duration": 18,
    "start_time": "2024-12-11T10:29:07.578Z"
   },
   {
    "duration": 949,
    "start_time": "2024-12-11T10:29:07.598Z"
   },
   {
    "duration": 11,
    "start_time": "2024-12-11T10:29:08.548Z"
   },
   {
    "duration": 10,
    "start_time": "2024-12-11T10:29:08.560Z"
   },
   {
    "duration": 6,
    "start_time": "2024-12-11T10:29:08.572Z"
   },
   {
    "duration": 1713,
    "start_time": "2024-12-11T10:29:08.579Z"
   },
   {
    "duration": 52,
    "start_time": "2024-12-11T10:29:10.293Z"
   },
   {
    "duration": 248,
    "start_time": "2024-12-11T10:29:10.347Z"
   },
   {
    "duration": 48,
    "start_time": "2024-12-11T10:29:10.596Z"
   },
   {
    "duration": 27,
    "start_time": "2024-12-11T10:29:19.452Z"
   },
   {
    "duration": 7,
    "start_time": "2024-12-11T10:29:30.770Z"
   },
   {
    "duration": 7,
    "start_time": "2024-12-11T10:36:03.289Z"
   },
   {
    "duration": 106,
    "start_time": "2024-12-11T10:37:32.842Z"
   },
   {
    "duration": 13,
    "start_time": "2024-12-11T10:37:44.777Z"
   },
   {
    "duration": 8,
    "start_time": "2024-12-11T10:38:01.960Z"
   },
   {
    "duration": 3,
    "start_time": "2024-12-11T10:38:09.070Z"
   },
   {
    "duration": 176,
    "start_time": "2024-12-11T10:47:05.830Z"
   },
   {
    "duration": 157,
    "start_time": "2024-12-11T10:47:26.531Z"
   },
   {
    "duration": 294,
    "start_time": "2024-12-11T10:48:09.544Z"
   },
   {
    "duration": 159,
    "start_time": "2024-12-11T10:49:33.884Z"
   },
   {
    "duration": 162,
    "start_time": "2024-12-11T10:49:40.060Z"
   },
   {
    "duration": 7,
    "start_time": "2024-12-11T10:50:02.268Z"
   },
   {
    "duration": 155,
    "start_time": "2024-12-11T10:50:04.334Z"
   },
   {
    "duration": 165,
    "start_time": "2024-12-11T10:50:05.402Z"
   },
   {
    "duration": 7,
    "start_time": "2024-12-11T10:50:21.727Z"
   },
   {
    "duration": 226,
    "start_time": "2024-12-11T10:50:23.187Z"
   },
   {
    "duration": 162,
    "start_time": "2024-12-11T10:50:24.617Z"
   },
   {
    "duration": 6,
    "start_time": "2024-12-11T10:50:42.476Z"
   },
   {
    "duration": 149,
    "start_time": "2024-12-11T10:50:44.042Z"
   },
   {
    "duration": 155,
    "start_time": "2024-12-11T10:50:44.860Z"
   },
   {
    "duration": 7,
    "start_time": "2024-12-11T11:15:46.860Z"
   },
   {
    "duration": 7,
    "start_time": "2024-12-11T11:15:59.377Z"
   },
   {
    "duration": 149,
    "start_time": "2024-12-11T11:16:10.255Z"
   },
   {
    "duration": 5,
    "start_time": "2024-12-11T11:16:16.083Z"
   },
   {
    "duration": 148,
    "start_time": "2024-12-11T11:16:18.605Z"
   },
   {
    "duration": 155,
    "start_time": "2024-12-11T11:16:23.410Z"
   },
   {
    "duration": 13,
    "start_time": "2024-12-11T11:16:47.278Z"
   },
   {
    "duration": 566,
    "start_time": "2024-12-11T11:18:41.907Z"
   },
   {
    "duration": 273,
    "start_time": "2024-12-11T11:19:53.009Z"
   },
   {
    "duration": 320,
    "start_time": "2024-12-11T11:20:17.836Z"
   },
   {
    "duration": 280,
    "start_time": "2024-12-11T11:20:31.621Z"
   },
   {
    "duration": 272,
    "start_time": "2024-12-11T11:21:44.724Z"
   },
   {
    "duration": 10,
    "start_time": "2024-12-11T11:21:51.062Z"
   },
   {
    "duration": 12,
    "start_time": "2024-12-11T11:21:57.239Z"
   },
   {
    "duration": 24,
    "start_time": "2024-12-11T11:22:47.364Z"
   },
   {
    "duration": 268,
    "start_time": "2024-12-11T11:22:50.564Z"
   },
   {
    "duration": 5,
    "start_time": "2024-12-11T11:23:08.592Z"
   },
   {
    "duration": 8,
    "start_time": "2024-12-11T11:23:14.799Z"
   },
   {
    "duration": 17,
    "start_time": "2024-12-11T11:23:20.074Z"
   },
   {
    "duration": 11,
    "start_time": "2024-12-11T11:23:32.872Z"
   },
   {
    "duration": 5,
    "start_time": "2024-12-11T11:23:55.285Z"
   },
   {
    "duration": 319,
    "start_time": "2024-12-11T11:23:56.801Z"
   },
   {
    "duration": 13,
    "start_time": "2024-12-11T11:24:21.393Z"
   },
   {
    "duration": 262,
    "start_time": "2024-12-11T11:24:36.103Z"
   },
   {
    "duration": 4,
    "start_time": "2024-12-11T11:26:01.101Z"
   },
   {
    "duration": 283,
    "start_time": "2024-12-11T11:26:05.582Z"
   },
   {
    "duration": 4,
    "start_time": "2024-12-11T11:26:19.052Z"
   },
   {
    "duration": 301,
    "start_time": "2024-12-11T11:26:20.577Z"
   },
   {
    "duration": 14,
    "start_time": "2024-12-11T11:27:57.881Z"
   },
   {
    "duration": 83,
    "start_time": "2024-12-11T11:29:10.349Z"
   },
   {
    "duration": 14,
    "start_time": "2024-12-11T11:29:18.272Z"
   },
   {
    "duration": 269,
    "start_time": "2024-12-11T11:29:24.079Z"
   },
   {
    "duration": 15,
    "start_time": "2024-12-11T11:32:14.400Z"
   },
   {
    "duration": 310,
    "start_time": "2024-12-11T11:36:59.404Z"
   },
   {
    "duration": 9,
    "start_time": "2024-12-11T11:38:23.878Z"
   },
   {
    "duration": 4,
    "start_time": "2024-12-11T11:38:26.368Z"
   },
   {
    "duration": 5,
    "start_time": "2024-12-11T11:40:38.768Z"
   },
   {
    "duration": 17,
    "start_time": "2024-12-11T11:40:41.208Z"
   },
   {
    "duration": 259,
    "start_time": "2024-12-11T11:40:45.916Z"
   },
   {
    "duration": 6,
    "start_time": "2024-12-11T11:42:39.573Z"
   },
   {
    "duration": 155,
    "start_time": "2024-12-11T11:42:41.611Z"
   },
   {
    "duration": 160,
    "start_time": "2024-12-11T11:42:42.676Z"
   },
   {
    "duration": 15,
    "start_time": "2024-12-11T11:42:44.990Z"
   },
   {
    "duration": 350,
    "start_time": "2024-12-11T11:42:49.820Z"
   },
   {
    "duration": 5,
    "start_time": "2024-12-11T11:44:31.970Z"
   },
   {
    "duration": 4,
    "start_time": "2024-12-11T11:44:35.490Z"
   },
   {
    "duration": 14,
    "start_time": "2024-12-11T11:44:36.068Z"
   },
   {
    "duration": 6,
    "start_time": "2024-12-11T11:59:09.599Z"
   },
   {
    "duration": 6,
    "start_time": "2024-12-11T11:59:12.443Z"
   },
   {
    "duration": 147,
    "start_time": "2024-12-11T11:59:13.089Z"
   },
   {
    "duration": 170,
    "start_time": "2024-12-11T11:59:14.825Z"
   },
   {
    "duration": 14,
    "start_time": "2024-12-11T11:59:19.464Z"
   },
   {
    "duration": 314,
    "start_time": "2024-12-11T12:02:00.673Z"
   },
   {
    "duration": 5,
    "start_time": "2024-12-11T12:02:15.138Z"
   },
   {
    "duration": 5,
    "start_time": "2024-12-11T12:02:23.421Z"
   },
   {
    "duration": 7,
    "start_time": "2024-12-11T12:03:21.874Z"
   },
   {
    "duration": 154,
    "start_time": "2024-12-11T12:03:23.408Z"
   },
   {
    "duration": 194,
    "start_time": "2024-12-11T12:03:24.672Z"
   },
   {
    "duration": 14,
    "start_time": "2024-12-11T12:03:28.772Z"
   },
   {
    "duration": 309,
    "start_time": "2024-12-11T12:03:38.360Z"
   },
   {
    "duration": 14,
    "start_time": "2024-12-11T12:03:46.272Z"
   },
   {
    "duration": 13,
    "start_time": "2024-12-11T12:04:38.814Z"
   },
   {
    "duration": 7,
    "start_time": "2024-12-11T12:07:05.221Z"
   },
   {
    "duration": 5,
    "start_time": "2024-12-11T12:07:08.807Z"
   },
   {
    "duration": 8,
    "start_time": "2024-12-11T12:07:09.321Z"
   },
   {
    "duration": 7,
    "start_time": "2024-12-11T12:07:13.178Z"
   },
   {
    "duration": 151,
    "start_time": "2024-12-11T12:07:14.269Z"
   },
   {
    "duration": 169,
    "start_time": "2024-12-11T12:07:15.230Z"
   },
   {
    "duration": 14,
    "start_time": "2024-12-11T12:07:16.353Z"
   },
   {
    "duration": 6,
    "start_time": "2024-12-11T12:09:24.511Z"
   },
   {
    "duration": 7,
    "start_time": "2024-12-11T12:09:27.395Z"
   },
   {
    "duration": 7,
    "start_time": "2024-12-11T12:09:30.406Z"
   },
   {
    "duration": 155,
    "start_time": "2024-12-11T12:09:31.206Z"
   },
   {
    "duration": 158,
    "start_time": "2024-12-11T12:09:32.463Z"
   },
   {
    "duration": 12,
    "start_time": "2024-12-11T12:09:35.573Z"
   },
   {
    "duration": 297,
    "start_time": "2024-12-11T12:09:41.393Z"
   },
   {
    "duration": 8,
    "start_time": "2024-12-11T12:11:19.302Z"
   },
   {
    "duration": 7,
    "start_time": "2024-12-11T12:11:20.807Z"
   },
   {
    "duration": 6,
    "start_time": "2024-12-11T12:12:02.036Z"
   },
   {
    "duration": 9,
    "start_time": "2024-12-11T12:12:02.604Z"
   },
   {
    "duration": 8,
    "start_time": "2024-12-11T12:12:03.374Z"
   },
   {
    "duration": 132,
    "start_time": "2024-12-11T12:12:04.798Z"
   },
   {
    "duration": 134,
    "start_time": "2024-12-11T12:12:06.022Z"
   },
   {
    "duration": 14,
    "start_time": "2024-12-11T12:12:08.910Z"
   },
   {
    "duration": 13,
    "start_time": "2024-12-11T12:12:41.567Z"
   },
   {
    "duration": 298,
    "start_time": "2024-12-11T12:12:46.930Z"
   },
   {
    "duration": 8,
    "start_time": "2024-12-11T12:13:21.336Z"
   },
   {
    "duration": 9,
    "start_time": "2024-12-11T12:13:35.654Z"
   },
   {
    "duration": 8,
    "start_time": "2024-12-11T12:13:40.693Z"
   },
   {
    "duration": 4,
    "start_time": "2024-12-11T12:23:18.820Z"
   },
   {
    "duration": 4,
    "start_time": "2024-12-11T12:23:23.262Z"
   },
   {
    "duration": 4,
    "start_time": "2024-12-11T12:23:27.551Z"
   },
   {
    "duration": 4,
    "start_time": "2024-12-11T12:23:34.842Z"
   },
   {
    "duration": 3,
    "start_time": "2024-12-11T12:23:39.169Z"
   },
   {
    "duration": 5,
    "start_time": "2024-12-11T12:23:42.415Z"
   },
   {
    "duration": 4,
    "start_time": "2024-12-11T12:23:46.331Z"
   },
   {
    "duration": 11,
    "start_time": "2024-12-11T12:23:54.980Z"
   },
   {
    "duration": 3,
    "start_time": "2024-12-11T12:26:12.557Z"
   },
   {
    "duration": 15,
    "start_time": "2024-12-11T12:26:12.561Z"
   },
   {
    "duration": 69,
    "start_time": "2024-12-11T12:26:12.577Z"
   },
   {
    "duration": 18,
    "start_time": "2024-12-11T12:26:12.648Z"
   },
   {
    "duration": 13,
    "start_time": "2024-12-11T12:26:12.667Z"
   },
   {
    "duration": 47,
    "start_time": "2024-12-11T12:26:12.682Z"
   },
   {
    "duration": 54,
    "start_time": "2024-12-11T12:26:12.731Z"
   },
   {
    "duration": 3,
    "start_time": "2024-12-11T12:26:12.787Z"
   },
   {
    "duration": 13,
    "start_time": "2024-12-11T12:26:12.793Z"
   },
   {
    "duration": 25,
    "start_time": "2024-12-11T12:26:12.807Z"
   },
   {
    "duration": 27,
    "start_time": "2024-12-11T12:26:12.833Z"
   },
   {
    "duration": 15,
    "start_time": "2024-12-11T12:26:12.862Z"
   },
   {
    "duration": 11,
    "start_time": "2024-12-11T12:26:12.878Z"
   },
   {
    "duration": 14,
    "start_time": "2024-12-11T12:26:12.890Z"
   },
   {
    "duration": 29,
    "start_time": "2024-12-11T12:26:12.906Z"
   },
   {
    "duration": 11,
    "start_time": "2024-12-11T12:26:12.936Z"
   },
   {
    "duration": 10,
    "start_time": "2024-12-11T12:26:12.948Z"
   },
   {
    "duration": 36,
    "start_time": "2024-12-11T12:26:12.960Z"
   },
   {
    "duration": 7,
    "start_time": "2024-12-11T12:26:12.997Z"
   },
   {
    "duration": 24,
    "start_time": "2024-12-11T12:26:13.006Z"
   },
   {
    "duration": 4,
    "start_time": "2024-12-11T12:26:13.032Z"
   },
   {
    "duration": 27,
    "start_time": "2024-12-11T12:26:13.038Z"
   },
   {
    "duration": 9,
    "start_time": "2024-12-11T12:26:13.067Z"
   },
   {
    "duration": 5,
    "start_time": "2024-12-11T12:26:13.079Z"
   },
   {
    "duration": 27,
    "start_time": "2024-12-11T12:26:13.085Z"
   },
   {
    "duration": 25,
    "start_time": "2024-12-11T12:26:13.114Z"
   },
   {
    "duration": 6,
    "start_time": "2024-12-11T12:26:13.141Z"
   },
   {
    "duration": 29,
    "start_time": "2024-12-11T12:26:13.148Z"
   },
   {
    "duration": 34,
    "start_time": "2024-12-11T12:26:13.179Z"
   },
   {
    "duration": 70,
    "start_time": "2024-12-11T12:26:13.215Z"
   },
   {
    "duration": 15,
    "start_time": "2024-12-11T12:26:13.287Z"
   },
   {
    "duration": 456,
    "start_time": "2024-12-11T12:26:13.304Z"
   },
   {
    "duration": 136,
    "start_time": "2024-12-11T12:26:13.762Z"
   },
   {
    "duration": 12,
    "start_time": "2024-12-11T12:26:13.900Z"
   },
   {
    "duration": 22,
    "start_time": "2024-12-11T12:26:13.914Z"
   },
   {
    "duration": 7,
    "start_time": "2024-12-11T12:26:13.938Z"
   },
   {
    "duration": 13,
    "start_time": "2024-12-11T12:26:13.946Z"
   },
   {
    "duration": 865,
    "start_time": "2024-12-11T12:26:13.960Z"
   },
   {
    "duration": 10,
    "start_time": "2024-12-11T12:26:14.829Z"
   },
   {
    "duration": 7,
    "start_time": "2024-12-11T12:26:14.841Z"
   },
   {
    "duration": 16,
    "start_time": "2024-12-11T12:26:14.849Z"
   },
   {
    "duration": 1713,
    "start_time": "2024-12-11T12:26:14.866Z"
   },
   {
    "duration": 51,
    "start_time": "2024-12-11T12:26:16.580Z"
   },
   {
    "duration": 249,
    "start_time": "2024-12-11T12:26:16.633Z"
   },
   {
    "duration": 47,
    "start_time": "2024-12-11T12:26:16.884Z"
   },
   {
    "duration": 7,
    "start_time": "2024-12-11T12:26:16.932Z"
   },
   {
    "duration": 14,
    "start_time": "2024-12-11T12:26:16.940Z"
   },
   {
    "duration": 20,
    "start_time": "2024-12-11T12:26:16.955Z"
   },
   {
    "duration": 129,
    "start_time": "2024-12-11T12:26:16.976Z"
   },
   {
    "duration": 136,
    "start_time": "2024-12-11T12:26:17.106Z"
   },
   {
    "duration": 2,
    "start_time": "2024-12-11T12:26:17.244Z"
   },
   {
    "duration": 22,
    "start_time": "2024-12-11T12:26:17.247Z"
   },
   {
    "duration": 10,
    "start_time": "2024-12-11T12:26:19.713Z"
   },
   {
    "duration": 4,
    "start_time": "2024-12-11T12:26:25.215Z"
   },
   {
    "duration": 14,
    "start_time": "2024-12-11T12:26:33.939Z"
   },
   {
    "duration": 351,
    "start_time": "2024-12-11T12:27:05.809Z"
   },
   {
    "duration": 14,
    "start_time": "2024-12-11T12:28:39.108Z"
   },
   {
    "duration": 1484,
    "start_time": "2024-12-11T12:28:39.812Z"
   },
   {
    "duration": 13,
    "start_time": "2024-12-11T12:29:28.441Z"
   },
   {
    "duration": 820,
    "start_time": "2024-12-11T12:29:32.300Z"
   },
   {
    "duration": 6,
    "start_time": "2024-12-11T12:35:26.184Z"
   },
   {
    "duration": 8,
    "start_time": "2024-12-11T12:35:26.593Z"
   },
   {
    "duration": 8,
    "start_time": "2024-12-11T12:35:28.807Z"
   },
   {
    "duration": 130,
    "start_time": "2024-12-11T12:35:29.615Z"
   },
   {
    "duration": 134,
    "start_time": "2024-12-11T12:35:30.909Z"
   },
   {
    "duration": 14,
    "start_time": "2024-12-11T12:35:32.837Z"
   },
   {
    "duration": 7,
    "start_time": "2024-12-11T12:35:43.072Z"
   },
   {
    "duration": 9,
    "start_time": "2024-12-11T12:35:43.319Z"
   },
   {
    "duration": 8,
    "start_time": "2024-12-11T12:35:45.566Z"
   },
   {
    "duration": 127,
    "start_time": "2024-12-11T12:35:47.340Z"
   },
   {
    "duration": 131,
    "start_time": "2024-12-11T12:36:04.503Z"
   },
   {
    "duration": 13,
    "start_time": "2024-12-11T12:36:07.347Z"
   },
   {
    "duration": 13,
    "start_time": "2024-12-11T12:36:09.834Z"
   },
   {
    "duration": 283,
    "start_time": "2024-12-11T12:36:13.269Z"
   },
   {
    "duration": 306,
    "start_time": "2024-12-11T12:36:30.866Z"
   },
   {
    "duration": 124,
    "start_time": "2024-12-11T12:37:11.274Z"
   },
   {
    "duration": 294,
    "start_time": "2024-12-11T12:38:07.043Z"
   },
   {
    "duration": 290,
    "start_time": "2024-12-11T12:38:31.214Z"
   },
   {
    "duration": 13,
    "start_time": "2024-12-11T12:39:05.304Z"
   },
   {
    "duration": 6,
    "start_time": "2024-12-11T12:39:09.389Z"
   },
   {
    "duration": 5,
    "start_time": "2024-12-11T12:39:52.176Z"
   },
   {
    "duration": 28,
    "start_time": "2024-12-11T12:39:58.313Z"
   },
   {
    "duration": 14,
    "start_time": "2024-12-11T12:40:10.382Z"
   },
   {
    "duration": 6,
    "start_time": "2024-12-11T12:40:29.454Z"
   },
   {
    "duration": 26,
    "start_time": "2024-12-11T12:40:57.558Z"
   },
   {
    "duration": 7,
    "start_time": "2024-12-11T12:41:21.234Z"
   },
   {
    "duration": 8,
    "start_time": "2024-12-11T12:41:21.584Z"
   },
   {
    "duration": 7,
    "start_time": "2024-12-11T12:41:25.407Z"
   },
   {
    "duration": 8,
    "start_time": "2024-12-11T12:41:25.828Z"
   },
   {
    "duration": 7,
    "start_time": "2024-12-11T12:41:26.472Z"
   },
   {
    "duration": 125,
    "start_time": "2024-12-11T12:41:27.198Z"
   },
   {
    "duration": 128,
    "start_time": "2024-12-11T12:41:28.091Z"
   },
   {
    "duration": 14,
    "start_time": "2024-12-11T12:41:29.262Z"
   },
   {
    "duration": 13,
    "start_time": "2024-12-11T12:41:31.928Z"
   },
   {
    "duration": 5,
    "start_time": "2024-12-11T12:41:36.348Z"
   },
   {
    "duration": 6,
    "start_time": "2024-12-11T12:41:51.216Z"
   },
   {
    "duration": 5,
    "start_time": "2024-12-11T12:42:04.184Z"
   },
   {
    "duration": 3,
    "start_time": "2024-12-11T12:42:23.871Z"
   },
   {
    "duration": 5,
    "start_time": "2024-12-11T12:54:38.199Z"
   },
   {
    "duration": 683,
    "start_time": "2024-12-11T12:54:43.659Z"
   },
   {
    "duration": 5,
    "start_time": "2024-12-11T12:55:30.571Z"
   },
   {
    "duration": 76,
    "start_time": "2024-12-11T12:57:24.608Z"
   },
   {
    "duration": 52,
    "start_time": "2024-12-11T12:57:44.827Z"
   },
   {
    "duration": 50,
    "start_time": "2024-12-11T12:58:05.781Z"
   },
   {
    "duration": 65,
    "start_time": "2024-12-11T12:58:12.441Z"
   },
   {
    "duration": 67,
    "start_time": "2024-12-11T12:58:27.704Z"
   },
   {
    "duration": 29,
    "start_time": "2024-12-11T12:58:40.188Z"
   },
   {
    "duration": 116,
    "start_time": "2024-12-11T12:58:56.392Z"
   },
   {
    "duration": 290,
    "start_time": "2024-12-11T12:59:05.910Z"
   },
   {
    "duration": 2,
    "start_time": "2024-12-11T13:00:55.061Z"
   },
   {
    "duration": 5,
    "start_time": "2024-12-11T13:02:57.660Z"
   },
   {
    "duration": 6,
    "start_time": "2024-12-11T13:07:17.882Z"
   },
   {
    "duration": 15,
    "start_time": "2024-12-11T13:07:25.213Z"
   },
   {
    "duration": 3,
    "start_time": "2024-12-11T13:07:43.442Z"
   },
   {
    "duration": 30,
    "start_time": "2024-12-11T13:07:43.447Z"
   },
   {
    "duration": 61,
    "start_time": "2024-12-11T13:07:43.479Z"
   },
   {
    "duration": 18,
    "start_time": "2024-12-11T13:07:43.542Z"
   },
   {
    "duration": 11,
    "start_time": "2024-12-11T13:07:43.562Z"
   },
   {
    "duration": 20,
    "start_time": "2024-12-11T13:07:43.575Z"
   },
   {
    "duration": 66,
    "start_time": "2024-12-11T13:07:43.598Z"
   },
   {
    "duration": 5,
    "start_time": "2024-12-11T13:07:43.666Z"
   },
   {
    "duration": 52,
    "start_time": "2024-12-11T13:07:43.673Z"
   },
   {
    "duration": 30,
    "start_time": "2024-12-11T13:07:43.727Z"
   },
   {
    "duration": 19,
    "start_time": "2024-12-11T13:07:46.618Z"
   },
   {
    "duration": 16,
    "start_time": "2024-12-11T13:07:47.096Z"
   },
   {
    "duration": 6,
    "start_time": "2024-12-11T13:07:49.014Z"
   },
   {
    "duration": 17,
    "start_time": "2024-12-11T13:07:53.499Z"
   },
   {
    "duration": 14,
    "start_time": "2024-12-11T13:08:01.887Z"
   },
   {
    "duration": 12,
    "start_time": "2024-12-11T13:08:04.141Z"
   },
   {
    "duration": 17,
    "start_time": "2024-12-11T13:08:07.035Z"
   },
   {
    "duration": 11,
    "start_time": "2024-12-11T13:08:10.845Z"
   },
   {
    "duration": 12,
    "start_time": "2024-12-11T13:08:11.301Z"
   },
   {
    "duration": 3,
    "start_time": "2024-12-11T13:08:38.868Z"
   },
   {
    "duration": 17,
    "start_time": "2024-12-11T13:08:38.873Z"
   },
   {
    "duration": 59,
    "start_time": "2024-12-11T13:08:38.892Z"
   },
   {
    "duration": 17,
    "start_time": "2024-12-11T13:08:38.953Z"
   },
   {
    "duration": 12,
    "start_time": "2024-12-11T13:08:38.973Z"
   },
   {
    "duration": 17,
    "start_time": "2024-12-11T13:08:38.987Z"
   },
   {
    "duration": 76,
    "start_time": "2024-12-11T13:08:39.006Z"
   },
   {
    "duration": 3,
    "start_time": "2024-12-11T13:08:39.084Z"
   },
   {
    "duration": 11,
    "start_time": "2024-12-11T13:08:39.089Z"
   },
   {
    "duration": 35,
    "start_time": "2024-12-11T13:08:39.102Z"
   },
   {
    "duration": 19,
    "start_time": "2024-12-11T13:08:39.140Z"
   },
   {
    "duration": 15,
    "start_time": "2024-12-11T13:08:39.160Z"
   },
   {
    "duration": 44,
    "start_time": "2024-12-11T13:08:39.177Z"
   },
   {
    "duration": 31,
    "start_time": "2024-12-11T13:08:39.223Z"
   },
   {
    "duration": 16,
    "start_time": "2024-12-11T13:08:39.256Z"
   },
   {
    "duration": 22,
    "start_time": "2024-12-11T13:08:39.274Z"
   },
   {
    "duration": 16,
    "start_time": "2024-12-11T13:08:39.299Z"
   },
   {
    "duration": 18,
    "start_time": "2024-12-11T13:08:39.317Z"
   },
   {
    "duration": 26,
    "start_time": "2024-12-11T13:08:39.337Z"
   },
   {
    "duration": 54,
    "start_time": "2024-12-11T13:08:39.365Z"
   },
   {
    "duration": 15,
    "start_time": "2024-12-11T13:08:39.421Z"
   },
   {
    "duration": 23,
    "start_time": "2024-12-11T13:08:39.438Z"
   },
   {
    "duration": 4,
    "start_time": "2024-12-11T13:08:39.463Z"
   },
   {
    "duration": 44,
    "start_time": "2024-12-11T13:08:39.468Z"
   },
   {
    "duration": 16,
    "start_time": "2024-12-11T13:08:39.514Z"
   },
   {
    "duration": 18,
    "start_time": "2024-12-11T13:08:39.532Z"
   },
   {
    "duration": 15,
    "start_time": "2024-12-11T13:08:39.552Z"
   },
   {
    "duration": 13,
    "start_time": "2024-12-11T13:08:39.568Z"
   },
   {
    "duration": 21,
    "start_time": "2024-12-11T13:08:39.584Z"
   },
   {
    "duration": 5,
    "start_time": "2024-12-11T13:08:41.329Z"
   },
   {
    "duration": 6,
    "start_time": "2024-12-11T13:08:41.802Z"
   },
   {
    "duration": 25,
    "start_time": "2024-12-11T13:08:48.101Z"
   },
   {
    "duration": 23,
    "start_time": "2024-12-11T13:08:48.762Z"
   },
   {
    "duration": 64,
    "start_time": "2024-12-11T13:08:52.147Z"
   },
   {
    "duration": 15,
    "start_time": "2024-12-11T13:08:56.167Z"
   },
   {
    "duration": 349,
    "start_time": "2024-12-11T13:08:59.048Z"
   },
   {
    "duration": 128,
    "start_time": "2024-12-11T13:09:00.593Z"
   },
   {
    "duration": 12,
    "start_time": "2024-12-11T13:09:04.398Z"
   },
   {
    "duration": 10,
    "start_time": "2024-12-11T13:09:08.393Z"
   },
   {
    "duration": 7,
    "start_time": "2024-12-11T13:09:09.381Z"
   },
   {
    "duration": 14,
    "start_time": "2024-12-11T13:09:13.491Z"
   },
   {
    "duration": 851,
    "start_time": "2024-12-11T13:09:17.493Z"
   },
   {
    "duration": 3,
    "start_time": "2024-12-11T13:09:27.598Z"
   },
   {
    "duration": 5,
    "start_time": "2024-12-11T13:09:27.603Z"
   },
   {
    "duration": 66,
    "start_time": "2024-12-11T13:09:27.609Z"
   },
   {
    "duration": 16,
    "start_time": "2024-12-11T13:09:27.677Z"
   },
   {
    "duration": 47,
    "start_time": "2024-12-11T13:09:27.695Z"
   },
   {
    "duration": 44,
    "start_time": "2024-12-11T13:09:27.744Z"
   },
   {
    "duration": 64,
    "start_time": "2024-12-11T13:09:27.790Z"
   },
   {
    "duration": 4,
    "start_time": "2024-12-11T13:09:27.856Z"
   },
   {
    "duration": 36,
    "start_time": "2024-12-11T13:09:27.863Z"
   },
   {
    "duration": 11,
    "start_time": "2024-12-11T13:09:27.901Z"
   },
   {
    "duration": 32,
    "start_time": "2024-12-11T13:09:27.914Z"
   },
   {
    "duration": 17,
    "start_time": "2024-12-11T13:09:27.947Z"
   },
   {
    "duration": 6,
    "start_time": "2024-12-11T13:09:27.966Z"
   },
   {
    "duration": 27,
    "start_time": "2024-12-11T13:09:27.974Z"
   },
   {
    "duration": 30,
    "start_time": "2024-12-11T13:09:28.002Z"
   },
   {
    "duration": 13,
    "start_time": "2024-12-11T13:09:28.033Z"
   },
   {
    "duration": 18,
    "start_time": "2024-12-11T13:09:28.048Z"
   },
   {
    "duration": 9,
    "start_time": "2024-12-11T13:09:28.068Z"
   },
   {
    "duration": 10,
    "start_time": "2024-12-11T13:09:28.079Z"
   },
   {
    "duration": 55,
    "start_time": "2024-12-11T13:09:28.091Z"
   },
   {
    "duration": 8,
    "start_time": "2024-12-11T13:09:28.148Z"
   },
   {
    "duration": 18,
    "start_time": "2024-12-11T13:09:28.158Z"
   },
   {
    "duration": 16,
    "start_time": "2024-12-11T13:09:28.177Z"
   },
   {
    "duration": 35,
    "start_time": "2024-12-11T13:09:28.197Z"
   },
   {
    "duration": 9,
    "start_time": "2024-12-11T13:09:28.234Z"
   },
   {
    "duration": 10,
    "start_time": "2024-12-11T13:09:28.244Z"
   },
   {
    "duration": 15,
    "start_time": "2024-12-11T13:09:28.255Z"
   },
   {
    "duration": 9,
    "start_time": "2024-12-11T13:09:28.272Z"
   },
   {
    "duration": 5,
    "start_time": "2024-12-11T13:09:28.283Z"
   },
   {
    "duration": 10,
    "start_time": "2024-12-11T13:09:28.290Z"
   },
   {
    "duration": 49,
    "start_time": "2024-12-11T13:09:28.302Z"
   },
   {
    "duration": 31,
    "start_time": "2024-12-11T13:09:28.352Z"
   },
   {
    "duration": 88,
    "start_time": "2024-12-11T13:09:28.385Z"
   },
   {
    "duration": 15,
    "start_time": "2024-12-11T13:09:28.475Z"
   },
   {
    "duration": 458,
    "start_time": "2024-12-11T13:09:28.492Z"
   },
   {
    "duration": 135,
    "start_time": "2024-12-11T13:09:28.952Z"
   },
   {
    "duration": 12,
    "start_time": "2024-12-11T13:09:29.088Z"
   },
   {
    "duration": 10,
    "start_time": "2024-12-11T13:09:29.101Z"
   },
   {
    "duration": 22,
    "start_time": "2024-12-11T13:09:29.112Z"
   },
   {
    "duration": 13,
    "start_time": "2024-12-11T13:09:29.135Z"
   },
   {
    "duration": 874,
    "start_time": "2024-12-11T13:09:29.150Z"
   },
   {
    "duration": 11,
    "start_time": "2024-12-11T13:09:30.029Z"
   },
   {
    "duration": 39,
    "start_time": "2024-12-11T13:09:30.042Z"
   },
   {
    "duration": 46,
    "start_time": "2024-12-11T13:09:30.082Z"
   },
   {
    "duration": 1746,
    "start_time": "2024-12-11T13:09:30.130Z"
   },
   {
    "duration": 38,
    "start_time": "2024-12-11T13:09:33.658Z"
   },
   {
    "duration": 3,
    "start_time": "2024-12-11T13:09:41.193Z"
   },
   {
    "duration": 26,
    "start_time": "2024-12-11T13:09:41.198Z"
   },
   {
    "duration": 66,
    "start_time": "2024-12-11T13:09:41.225Z"
   },
   {
    "duration": 16,
    "start_time": "2024-12-11T13:09:41.294Z"
   },
   {
    "duration": 27,
    "start_time": "2024-12-11T13:09:41.312Z"
   },
   {
    "duration": 41,
    "start_time": "2024-12-11T13:09:41.341Z"
   },
   {
    "duration": 56,
    "start_time": "2024-12-11T13:09:41.384Z"
   },
   {
    "duration": 5,
    "start_time": "2024-12-11T13:09:41.441Z"
   },
   {
    "duration": 13,
    "start_time": "2024-12-11T13:09:41.448Z"
   },
   {
    "duration": 9,
    "start_time": "2024-12-11T13:09:41.463Z"
   },
   {
    "duration": 20,
    "start_time": "2024-12-11T13:09:41.473Z"
   },
   {
    "duration": 19,
    "start_time": "2024-12-11T13:09:41.495Z"
   },
   {
    "duration": 18,
    "start_time": "2024-12-11T13:09:41.516Z"
   },
   {
    "duration": 19,
    "start_time": "2024-12-11T13:09:41.536Z"
   },
   {
    "duration": 23,
    "start_time": "2024-12-11T13:09:41.557Z"
   },
   {
    "duration": 13,
    "start_time": "2024-12-11T13:09:41.582Z"
   },
   {
    "duration": 14,
    "start_time": "2024-12-11T13:09:41.597Z"
   },
   {
    "duration": 22,
    "start_time": "2024-12-11T13:09:41.612Z"
   },
   {
    "duration": 23,
    "start_time": "2024-12-11T13:09:41.636Z"
   },
   {
    "duration": 33,
    "start_time": "2024-12-11T13:09:41.661Z"
   },
   {
    "duration": 18,
    "start_time": "2024-12-11T13:09:41.696Z"
   },
   {
    "duration": 23,
    "start_time": "2024-12-11T13:09:41.715Z"
   },
   {
    "duration": 5,
    "start_time": "2024-12-11T13:09:41.739Z"
   },
   {
    "duration": 32,
    "start_time": "2024-12-11T13:09:41.748Z"
   },
   {
    "duration": 9,
    "start_time": "2024-12-11T13:09:41.781Z"
   },
   {
    "duration": 23,
    "start_time": "2024-12-11T13:09:41.791Z"
   },
   {
    "duration": 25,
    "start_time": "2024-12-11T13:09:41.815Z"
   },
   {
    "duration": 47,
    "start_time": "2024-12-11T13:09:41.842Z"
   },
   {
    "duration": 11,
    "start_time": "2024-12-11T13:09:41.890Z"
   },
   {
    "duration": 28,
    "start_time": "2024-12-11T13:09:41.902Z"
   },
   {
    "duration": 26,
    "start_time": "2024-12-11T13:09:41.932Z"
   },
   {
    "duration": 24,
    "start_time": "2024-12-11T13:09:41.960Z"
   },
   {
    "duration": 78,
    "start_time": "2024-12-11T13:09:41.986Z"
   },
   {
    "duration": 14,
    "start_time": "2024-12-11T13:09:42.066Z"
   },
   {
    "duration": 348,
    "start_time": "2024-12-11T13:09:42.082Z"
   },
   {
    "duration": 134,
    "start_time": "2024-12-11T13:09:42.431Z"
   },
   {
    "duration": 12,
    "start_time": "2024-12-11T13:09:42.566Z"
   },
   {
    "duration": 23,
    "start_time": "2024-12-11T13:09:42.579Z"
   },
   {
    "duration": 14,
    "start_time": "2024-12-11T13:09:42.604Z"
   },
   {
    "duration": 17,
    "start_time": "2024-12-11T13:09:42.619Z"
   },
   {
    "duration": 932,
    "start_time": "2024-12-11T13:09:42.638Z"
   },
   {
    "duration": 11,
    "start_time": "2024-12-11T13:09:43.572Z"
   },
   {
    "duration": 7,
    "start_time": "2024-12-11T13:09:43.584Z"
   },
   {
    "duration": 8,
    "start_time": "2024-12-11T13:09:43.592Z"
   },
   {
    "duration": 1618,
    "start_time": "2024-12-11T13:09:43.601Z"
   },
   {
    "duration": 153,
    "start_time": "2024-12-11T13:09:45.221Z"
   },
   {
    "duration": 252,
    "start_time": "2024-12-11T13:09:45.375Z"
   },
   {
    "duration": 40,
    "start_time": "2024-12-11T13:09:45.628Z"
   },
   {
    "duration": 5,
    "start_time": "2024-12-11T13:09:45.670Z"
   },
   {
    "duration": 11,
    "start_time": "2024-12-11T13:09:45.677Z"
   },
   {
    "duration": 6,
    "start_time": "2024-12-11T13:09:45.689Z"
   },
   {
    "duration": 152,
    "start_time": "2024-12-11T13:09:45.697Z"
   },
   {
    "duration": 145,
    "start_time": "2024-12-11T13:09:45.851Z"
   },
   {
    "duration": 14,
    "start_time": "2024-12-11T13:09:45.998Z"
   },
   {
    "duration": 24,
    "start_time": "2024-12-11T13:09:46.014Z"
   },
   {
    "duration": 9,
    "start_time": "2024-12-11T13:09:46.040Z"
   },
   {
    "duration": 58,
    "start_time": "2024-12-11T13:09:55.547Z"
   },
   {
    "duration": 60,
    "start_time": "2024-12-11T13:11:23.835Z"
   },
   {
    "duration": 12,
    "start_time": "2024-12-11T13:15:37.113Z"
   },
   {
    "duration": 13,
    "start_time": "2024-12-11T13:25:06.773Z"
   },
   {
    "duration": 32,
    "start_time": "2024-12-11T13:25:39.101Z"
   },
   {
    "duration": 10,
    "start_time": "2024-12-11T13:26:34.574Z"
   },
   {
    "duration": 1628,
    "start_time": "2024-12-11T13:28:42.112Z"
   },
   {
    "duration": 11,
    "start_time": "2024-12-11T13:29:21.843Z"
   },
   {
    "duration": 12,
    "start_time": "2024-12-11T13:29:34.199Z"
   },
   {
    "duration": 14,
    "start_time": "2024-12-11T13:29:43.403Z"
   },
   {
    "duration": 11,
    "start_time": "2024-12-11T13:29:55.651Z"
   },
   {
    "duration": 16,
    "start_time": "2024-12-11T13:30:05.816Z"
   },
   {
    "duration": 22,
    "start_time": "2024-12-11T13:30:10.440Z"
   },
   {
    "duration": 30,
    "start_time": "2024-12-11T13:31:25.242Z"
   },
   {
    "duration": 19,
    "start_time": "2024-12-11T13:31:52.886Z"
   },
   {
    "duration": 20,
    "start_time": "2024-12-11T13:34:22.612Z"
   },
   {
    "duration": 32,
    "start_time": "2024-12-11T13:34:29.326Z"
   },
   {
    "duration": 1655,
    "start_time": "2024-12-11T13:34:48.825Z"
   },
   {
    "duration": 33,
    "start_time": "2024-12-11T13:35:02.733Z"
   },
   {
    "duration": 30,
    "start_time": "2024-12-11T13:35:44.671Z"
   },
   {
    "duration": 31,
    "start_time": "2024-12-11T13:35:52.498Z"
   },
   {
    "duration": 31,
    "start_time": "2024-12-11T13:36:52.816Z"
   },
   {
    "duration": 26,
    "start_time": "2024-12-11T13:43:33.315Z"
   },
   {
    "duration": 21,
    "start_time": "2024-12-11T13:43:44.523Z"
   },
   {
    "duration": 26,
    "start_time": "2024-12-11T13:43:51.930Z"
   },
   {
    "duration": 25,
    "start_time": "2024-12-11T13:43:54.438Z"
   },
   {
    "duration": 24,
    "start_time": "2024-12-11T13:43:59.705Z"
   },
   {
    "duration": 34,
    "start_time": "2024-12-11T13:44:04.404Z"
   },
   {
    "duration": 10,
    "start_time": "2024-12-11T13:48:17.275Z"
   },
   {
    "duration": 5,
    "start_time": "2024-12-11T13:48:22.011Z"
   },
   {
    "duration": 25,
    "start_time": "2024-12-11T13:50:28.846Z"
   },
   {
    "duration": 131,
    "start_time": "2024-12-11T13:51:14.394Z"
   },
   {
    "duration": 15,
    "start_time": "2024-12-11T13:51:22.592Z"
   },
   {
    "duration": 11,
    "start_time": "2024-12-11T13:51:31.277Z"
   },
   {
    "duration": 150,
    "start_time": "2024-12-11T13:51:38.917Z"
   },
   {
    "duration": 11,
    "start_time": "2024-12-11T13:51:48.653Z"
   },
   {
    "duration": 11,
    "start_time": "2024-12-11T13:52:02.874Z"
   },
   {
    "duration": 144,
    "start_time": "2024-12-11T13:52:08.773Z"
   },
   {
    "duration": 12,
    "start_time": "2024-12-11T13:52:16.880Z"
   },
   {
    "duration": 168,
    "start_time": "2024-12-11T13:55:17.067Z"
   },
   {
    "duration": 183,
    "start_time": "2024-12-11T13:55:22.747Z"
   },
   {
    "duration": 207,
    "start_time": "2024-12-11T13:56:56.639Z"
   },
   {
    "duration": 206,
    "start_time": "2024-12-11T13:57:03.602Z"
   },
   {
    "duration": 210,
    "start_time": "2024-12-11T13:57:31.253Z"
   },
   {
    "duration": 332,
    "start_time": "2024-12-11T13:58:45.087Z"
   },
   {
    "duration": 192,
    "start_time": "2024-12-11T13:58:51.283Z"
   },
   {
    "duration": 196,
    "start_time": "2024-12-11T14:00:55.223Z"
   },
   {
    "duration": 204,
    "start_time": "2024-12-11T14:01:20.955Z"
   },
   {
    "duration": 194,
    "start_time": "2024-12-11T14:02:19.855Z"
   },
   {
    "duration": 200,
    "start_time": "2024-12-11T14:03:09.620Z"
   },
   {
    "duration": 196,
    "start_time": "2024-12-11T14:03:29.695Z"
   },
   {
    "duration": 216,
    "start_time": "2024-12-11T14:03:33.746Z"
   },
   {
    "duration": 22,
    "start_time": "2024-12-11T14:19:45.492Z"
   },
   {
    "duration": 26,
    "start_time": "2024-12-11T14:22:10.469Z"
   },
   {
    "duration": 2,
    "start_time": "2024-12-11T14:30:12.714Z"
   },
   {
    "duration": 3,
    "start_time": "2024-12-11T14:37:36.063Z"
   },
   {
    "duration": 7,
    "start_time": "2024-12-11T14:37:54.667Z"
   },
   {
    "duration": 3,
    "start_time": "2024-12-11T14:38:23.198Z"
   },
   {
    "duration": 7,
    "start_time": "2024-12-11T14:38:35.497Z"
   },
   {
    "duration": 8,
    "start_time": "2024-12-11T14:38:59.320Z"
   },
   {
    "duration": 11,
    "start_time": "2024-12-11T14:39:22.166Z"
   },
   {
    "duration": 24,
    "start_time": "2024-12-11T14:40:14.389Z"
   },
   {
    "duration": 43,
    "start_time": "2024-12-11T14:41:15.106Z"
   },
   {
    "duration": 10,
    "start_time": "2024-12-11T14:41:28.180Z"
   },
   {
    "duration": 7,
    "start_time": "2024-12-11T14:41:29.181Z"
   },
   {
    "duration": 1597,
    "start_time": "2024-12-11T14:41:32.851Z"
   },
   {
    "duration": 27,
    "start_time": "2024-12-11T14:41:37.062Z"
   },
   {
    "duration": 37,
    "start_time": "2024-12-11T14:41:50.173Z"
   },
   {
    "duration": 239,
    "start_time": "2024-12-11T14:42:07.349Z"
   },
   {
    "duration": 37,
    "start_time": "2024-12-11T14:42:10.762Z"
   },
   {
    "duration": 7,
    "start_time": "2024-12-11T14:42:21.906Z"
   },
   {
    "duration": 7,
    "start_time": "2024-12-11T14:42:23.268Z"
   },
   {
    "duration": 31,
    "start_time": "2024-12-11T14:42:38.094Z"
   },
   {
    "duration": 194,
    "start_time": "2024-12-11T14:42:51.596Z"
   },
   {
    "duration": 201,
    "start_time": "2024-12-11T14:42:54.871Z"
   },
   {
    "duration": 11,
    "start_time": "2024-12-11T14:42:59.715Z"
   },
   {
    "duration": 23,
    "start_time": "2024-12-11T14:44:07.310Z"
   },
   {
    "duration": 11,
    "start_time": "2024-12-11T14:44:21.916Z"
   },
   {
    "duration": 13,
    "start_time": "2024-12-11T14:45:16.495Z"
   },
   {
    "duration": 13,
    "start_time": "2024-12-11T14:45:44.965Z"
   },
   {
    "duration": 12,
    "start_time": "2024-12-11T14:45:52.712Z"
   },
   {
    "duration": 8,
    "start_time": "2024-12-11T14:46:20.174Z"
   },
   {
    "duration": 3,
    "start_time": "2024-12-11T14:46:47.159Z"
   },
   {
    "duration": 9,
    "start_time": "2024-12-11T14:46:47.810Z"
   },
   {
    "duration": 12,
    "start_time": "2024-12-11T14:46:59.460Z"
   },
   {
    "duration": 16,
    "start_time": "2024-12-11T14:47:29.522Z"
   },
   {
    "duration": 16,
    "start_time": "2024-12-11T14:48:03.661Z"
   },
   {
    "duration": 5,
    "start_time": "2024-12-11T14:49:12.497Z"
   },
   {
    "duration": 16,
    "start_time": "2024-12-11T14:49:13.124Z"
   },
   {
    "duration": 4,
    "start_time": "2024-12-11T14:50:18.264Z"
   },
   {
    "duration": 14,
    "start_time": "2024-12-11T14:50:18.863Z"
   },
   {
    "duration": 16,
    "start_time": "2024-12-11T14:50:28.457Z"
   },
   {
    "duration": 14,
    "start_time": "2024-12-11T14:50:29.219Z"
   },
   {
    "duration": 792,
    "start_time": "2024-12-11T14:51:58.727Z"
   },
   {
    "duration": 83,
    "start_time": "2024-12-11T14:52:47.342Z"
   },
   {
    "duration": 70,
    "start_time": "2024-12-11T14:52:55.699Z"
   },
   {
    "duration": 19,
    "start_time": "2024-12-11T14:53:27.375Z"
   },
   {
    "duration": 18,
    "start_time": "2024-12-11T14:53:43.604Z"
   },
   {
    "duration": 19,
    "start_time": "2024-12-11T14:54:04.916Z"
   },
   {
    "duration": 29,
    "start_time": "2024-12-11T14:54:20.074Z"
   },
   {
    "duration": 28,
    "start_time": "2024-12-11T14:54:31.200Z"
   },
   {
    "duration": 20,
    "start_time": "2024-12-11T14:54:46.540Z"
   },
   {
    "duration": 132,
    "start_time": "2024-12-11T14:55:09.913Z"
   },
   {
    "duration": 6,
    "start_time": "2024-12-11T14:55:16.524Z"
   },
   {
    "duration": 16,
    "start_time": "2024-12-11T14:55:23.517Z"
   },
   {
    "duration": 26,
    "start_time": "2024-12-11T14:55:28.245Z"
   },
   {
    "duration": 10,
    "start_time": "2024-12-11T14:55:44.784Z"
   },
   {
    "duration": 25,
    "start_time": "2024-12-11T14:55:51.946Z"
   },
   {
    "duration": 24,
    "start_time": "2024-12-11T14:56:50.211Z"
   },
   {
    "duration": 26,
    "start_time": "2024-12-11T14:57:20.808Z"
   },
   {
    "duration": 17,
    "start_time": "2024-12-11T14:57:38.052Z"
   },
   {
    "duration": 13,
    "start_time": "2024-12-11T15:08:36.200Z"
   },
   {
    "duration": 338,
    "start_time": "2024-12-11T15:08:43.280Z"
   },
   {
    "duration": 4,
    "start_time": "2024-12-11T15:13:32.248Z"
   },
   {
    "duration": 15,
    "start_time": "2024-12-11T15:13:35.511Z"
   },
   {
    "duration": 14,
    "start_time": "2024-12-11T15:14:32.059Z"
   },
   {
    "duration": 4,
    "start_time": "2024-12-11T15:14:33.551Z"
   },
   {
    "duration": 24,
    "start_time": "2024-12-11T15:14:34.109Z"
   },
   {
    "duration": 5,
    "start_time": "2024-12-11T15:14:44.275Z"
   },
   {
    "duration": 19,
    "start_time": "2024-12-11T15:14:45.833Z"
   },
   {
    "duration": 18,
    "start_time": "2024-12-11T15:14:54.564Z"
   },
   {
    "duration": 18,
    "start_time": "2024-12-11T15:14:55.432Z"
   },
   {
    "duration": 6,
    "start_time": "2024-12-11T15:17:24.792Z"
   },
   {
    "duration": 17,
    "start_time": "2024-12-11T15:17:25.376Z"
   },
   {
    "duration": 4,
    "start_time": "2024-12-11T15:18:13.327Z"
   },
   {
    "duration": 18,
    "start_time": "2024-12-11T15:18:14.883Z"
   },
   {
    "duration": 4,
    "start_time": "2024-12-11T15:18:26.691Z"
   },
   {
    "duration": 18,
    "start_time": "2024-12-11T15:18:28.442Z"
   },
   {
    "duration": 5,
    "start_time": "2024-12-11T15:18:43.764Z"
   },
   {
    "duration": 20,
    "start_time": "2024-12-11T15:18:45.214Z"
   },
   {
    "duration": 5,
    "start_time": "2024-12-11T15:19:03.952Z"
   },
   {
    "duration": 5,
    "start_time": "2024-12-11T15:19:06.107Z"
   },
   {
    "duration": 20,
    "start_time": "2024-12-11T15:19:07.546Z"
   },
   {
    "duration": 88,
    "start_time": "2024-12-11T15:19:19.383Z"
   },
   {
    "duration": 108,
    "start_time": "2024-12-11T15:19:31.853Z"
   },
   {
    "duration": 123,
    "start_time": "2024-12-11T15:19:37.609Z"
   },
   {
    "duration": 92,
    "start_time": "2024-12-11T15:20:21.607Z"
   },
   {
    "duration": 113,
    "start_time": "2024-12-11T15:20:29.304Z"
   },
   {
    "duration": 91,
    "start_time": "2024-12-11T15:21:08.062Z"
   },
   {
    "duration": 112,
    "start_time": "2024-12-11T15:21:33.585Z"
   },
   {
    "duration": 6,
    "start_time": "2024-12-11T15:21:48.301Z"
   },
   {
    "duration": 19,
    "start_time": "2024-12-11T15:21:50.355Z"
   },
   {
    "duration": 4,
    "start_time": "2024-12-11T15:22:27.303Z"
   },
   {
    "duration": 19,
    "start_time": "2024-12-11T15:22:29.191Z"
   },
   {
    "duration": 27,
    "start_time": "2024-12-11T15:24:57.356Z"
   },
   {
    "duration": 27,
    "start_time": "2024-12-11T15:25:01.903Z"
   },
   {
    "duration": 5,
    "start_time": "2024-12-11T15:39:58.183Z"
   },
   {
    "duration": 17,
    "start_time": "2024-12-11T15:40:00.207Z"
   },
   {
    "duration": 17,
    "start_time": "2024-12-11T15:40:05.110Z"
   },
   {
    "duration": 4,
    "start_time": "2024-12-11T15:40:38.878Z"
   },
   {
    "duration": 18,
    "start_time": "2024-12-11T15:40:40.235Z"
   },
   {
    "duration": 5,
    "start_time": "2024-12-11T15:53:28.211Z"
   },
   {
    "duration": 17,
    "start_time": "2024-12-11T15:53:30.843Z"
   },
   {
    "duration": 17,
    "start_time": "2024-12-11T15:53:33.879Z"
   },
   {
    "duration": 16,
    "start_time": "2024-12-11T15:53:39.188Z"
   },
   {
    "duration": 4,
    "start_time": "2024-12-11T15:54:19.956Z"
   },
   {
    "duration": 30,
    "start_time": "2024-12-11T15:54:20.682Z"
   },
   {
    "duration": 4,
    "start_time": "2024-12-11T15:54:45.275Z"
   },
   {
    "duration": 30,
    "start_time": "2024-12-11T15:54:45.967Z"
   },
   {
    "duration": 5,
    "start_time": "2024-12-11T15:55:02.254Z"
   },
   {
    "duration": 18,
    "start_time": "2024-12-11T15:55:03.333Z"
   },
   {
    "duration": 17,
    "start_time": "2024-12-11T15:55:04.088Z"
   },
   {
    "duration": 18,
    "start_time": "2024-12-11T15:55:04.631Z"
   },
   {
    "duration": 5,
    "start_time": "2024-12-11T15:55:40.756Z"
   },
   {
    "duration": 17,
    "start_time": "2024-12-11T15:55:42.278Z"
   },
   {
    "duration": 17,
    "start_time": "2024-12-11T15:55:45.551Z"
   },
   {
    "duration": 18,
    "start_time": "2024-12-11T15:55:46.160Z"
   },
   {
    "duration": 5,
    "start_time": "2024-12-11T16:06:57.270Z"
   },
   {
    "duration": 29,
    "start_time": "2024-12-11T16:06:58.676Z"
   },
   {
    "duration": 5,
    "start_time": "2024-12-11T16:07:05.571Z"
   },
   {
    "duration": 17,
    "start_time": "2024-12-11T16:07:06.228Z"
   },
   {
    "duration": 6,
    "start_time": "2024-12-11T16:07:19.248Z"
   },
   {
    "duration": 28,
    "start_time": "2024-12-11T16:07:24.660Z"
   },
   {
    "duration": 7,
    "start_time": "2024-12-11T16:07:43.347Z"
   },
   {
    "duration": 7,
    "start_time": "2024-12-11T16:07:46.543Z"
   },
   {
    "duration": 24,
    "start_time": "2024-12-11T16:12:19.977Z"
   },
   {
    "duration": 27,
    "start_time": "2024-12-11T16:12:29.197Z"
   },
   {
    "duration": 14,
    "start_time": "2024-12-11T16:29:33.045Z"
   },
   {
    "duration": 4,
    "start_time": "2024-12-11T16:29:39.441Z"
   },
   {
    "duration": 5,
    "start_time": "2024-12-11T16:29:57.620Z"
   },
   {
    "duration": 7,
    "start_time": "2024-12-11T16:30:14.512Z"
   },
   {
    "duration": 4,
    "start_time": "2024-12-11T16:31:38.520Z"
   },
   {
    "duration": 7,
    "start_time": "2024-12-11T16:31:51.570Z"
   },
   {
    "duration": 4,
    "start_time": "2024-12-11T16:31:52.651Z"
   },
   {
    "duration": 10,
    "start_time": "2024-12-11T16:32:18.517Z"
   },
   {
    "duration": 4,
    "start_time": "2024-12-11T16:32:22.803Z"
   },
   {
    "duration": 6,
    "start_time": "2024-12-11T16:32:37.234Z"
   },
   {
    "duration": 11,
    "start_time": "2024-12-11T16:33:10.021Z"
   },
   {
    "duration": 4,
    "start_time": "2024-12-11T16:33:11.077Z"
   },
   {
    "duration": 10,
    "start_time": "2024-12-11T16:33:54.006Z"
   },
   {
    "duration": 4,
    "start_time": "2024-12-11T16:33:58.517Z"
   },
   {
    "duration": 90,
    "start_time": "2024-12-11T16:35:22.501Z"
   },
   {
    "duration": 94,
    "start_time": "2024-12-11T16:35:29.278Z"
   },
   {
    "duration": 3,
    "start_time": "2024-12-11T16:36:34.827Z"
   },
   {
    "duration": 3,
    "start_time": "2024-12-11T16:47:26.423Z"
   },
   {
    "duration": 9,
    "start_time": "2024-12-11T16:50:29.868Z"
   },
   {
    "duration": 4,
    "start_time": "2024-12-11T16:50:42.023Z"
   },
   {
    "duration": 5,
    "start_time": "2024-12-11T16:50:48.272Z"
   },
   {
    "duration": 147,
    "start_time": "2024-12-11T16:54:41.100Z"
   },
   {
    "duration": 4,
    "start_time": "2024-12-11T16:57:17.756Z"
   },
   {
    "duration": 5,
    "start_time": "2024-12-11T16:57:25.563Z"
   },
   {
    "duration": 3,
    "start_time": "2024-12-11T16:57:42.282Z"
   },
   {
    "duration": 2,
    "start_time": "2024-12-11T16:58:11.779Z"
   },
   {
    "duration": 3,
    "start_time": "2024-12-11T17:02:17.270Z"
   },
   {
    "duration": 2,
    "start_time": "2024-12-11T17:22:01.004Z"
   },
   {
    "duration": 3,
    "start_time": "2024-12-11T17:28:49.278Z"
   },
   {
    "duration": 7,
    "start_time": "2024-12-11T17:28:49.283Z"
   },
   {
    "duration": 56,
    "start_time": "2024-12-11T17:28:49.292Z"
   },
   {
    "duration": 16,
    "start_time": "2024-12-11T17:28:49.351Z"
   },
   {
    "duration": 5,
    "start_time": "2024-12-11T17:28:49.369Z"
   },
   {
    "duration": 18,
    "start_time": "2024-12-11T17:28:49.375Z"
   },
   {
    "duration": 88,
    "start_time": "2024-12-11T17:28:49.395Z"
   },
   {
    "duration": 5,
    "start_time": "2024-12-11T17:28:49.485Z"
   },
   {
    "duration": 4,
    "start_time": "2024-12-11T17:28:49.492Z"
   },
   {
    "duration": 5,
    "start_time": "2024-12-11T17:28:49.529Z"
   },
   {
    "duration": 36,
    "start_time": "2024-12-11T17:28:49.536Z"
   },
   {
    "duration": 15,
    "start_time": "2024-12-11T17:28:49.573Z"
   },
   {
    "duration": 6,
    "start_time": "2024-12-11T17:28:49.589Z"
   },
   {
    "duration": 45,
    "start_time": "2024-12-11T17:28:49.597Z"
   },
   {
    "duration": 12,
    "start_time": "2024-12-11T17:28:49.644Z"
   },
   {
    "duration": 14,
    "start_time": "2024-12-11T17:28:49.658Z"
   },
   {
    "duration": 21,
    "start_time": "2024-12-11T17:28:49.674Z"
   },
   {
    "duration": 34,
    "start_time": "2024-12-11T17:28:49.697Z"
   },
   {
    "duration": 11,
    "start_time": "2024-12-11T17:28:49.733Z"
   },
   {
    "duration": 35,
    "start_time": "2024-12-11T17:28:49.745Z"
   },
   {
    "duration": 10,
    "start_time": "2024-12-11T17:28:49.782Z"
   },
   {
    "duration": 17,
    "start_time": "2024-12-11T17:28:49.794Z"
   },
   {
    "duration": 5,
    "start_time": "2024-12-11T17:28:49.830Z"
   },
   {
    "duration": 33,
    "start_time": "2024-12-11T17:28:49.842Z"
   },
   {
    "duration": 10,
    "start_time": "2024-12-11T17:28:49.877Z"
   },
   {
    "duration": 23,
    "start_time": "2024-12-11T17:28:49.888Z"
   },
   {
    "duration": 7,
    "start_time": "2024-12-11T17:28:49.913Z"
   },
   {
    "duration": 12,
    "start_time": "2024-12-11T17:28:49.922Z"
   },
   {
    "duration": 8,
    "start_time": "2024-12-11T17:28:49.935Z"
   },
   {
    "duration": 6,
    "start_time": "2024-12-11T17:28:49.945Z"
   },
   {
    "duration": 27,
    "start_time": "2024-12-11T17:28:49.953Z"
   },
   {
    "duration": 52,
    "start_time": "2024-12-11T17:28:49.982Z"
   },
   {
    "duration": 67,
    "start_time": "2024-12-11T17:28:50.036Z"
   },
   {
    "duration": 31,
    "start_time": "2024-12-11T17:28:50.104Z"
   },
   {
    "duration": 380,
    "start_time": "2024-12-11T17:28:50.137Z"
   },
   {
    "duration": 142,
    "start_time": "2024-12-11T17:28:50.518Z"
   },
   {
    "duration": 12,
    "start_time": "2024-12-11T17:28:50.662Z"
   },
   {
    "duration": 13,
    "start_time": "2024-12-11T17:28:50.676Z"
   },
   {
    "duration": 13,
    "start_time": "2024-12-11T17:28:50.691Z"
   },
   {
    "duration": 35,
    "start_time": "2024-12-11T17:28:50.705Z"
   },
   {
    "duration": 1019,
    "start_time": "2024-12-11T17:28:50.742Z"
   },
   {
    "duration": 11,
    "start_time": "2024-12-11T17:28:51.763Z"
   },
   {
    "duration": 20,
    "start_time": "2024-12-11T17:28:51.775Z"
   },
   {
    "duration": 23,
    "start_time": "2024-12-11T17:28:51.797Z"
   },
   {
    "duration": 1685,
    "start_time": "2024-12-11T17:28:51.822Z"
   },
   {
    "duration": 45,
    "start_time": "2024-12-11T17:28:53.509Z"
   },
   {
    "duration": 242,
    "start_time": "2024-12-11T17:28:53.556Z"
   },
   {
    "duration": 49,
    "start_time": "2024-12-11T17:28:53.800Z"
   },
   {
    "duration": 6,
    "start_time": "2024-12-11T17:28:53.851Z"
   },
   {
    "duration": 21,
    "start_time": "2024-12-11T17:28:53.858Z"
   },
   {
    "duration": 12,
    "start_time": "2024-12-11T17:28:53.880Z"
   },
   {
    "duration": 145,
    "start_time": "2024-12-11T17:28:53.893Z"
   },
   {
    "duration": 163,
    "start_time": "2024-12-11T17:28:54.039Z"
   },
   {
    "duration": 13,
    "start_time": "2024-12-11T17:28:54.204Z"
   },
   {
    "duration": 13,
    "start_time": "2024-12-11T17:28:54.229Z"
   },
   {
    "duration": 18,
    "start_time": "2024-12-11T17:28:54.244Z"
   },
   {
    "duration": 34,
    "start_time": "2024-12-11T17:28:54.263Z"
   },
   {
    "duration": 204,
    "start_time": "2024-12-11T17:28:54.298Z"
   },
   {
    "duration": 230,
    "start_time": "2024-12-11T17:28:54.504Z"
   },
   {
    "duration": 8,
    "start_time": "2024-12-11T17:28:54.736Z"
   },
   {
    "duration": 36,
    "start_time": "2024-12-11T17:28:54.746Z"
   },
   {
    "duration": 18,
    "start_time": "2024-12-11T17:28:54.784Z"
   },
   {
    "duration": 33,
    "start_time": "2024-12-11T17:28:54.804Z"
   },
   {
    "duration": 7,
    "start_time": "2024-12-11T17:28:54.839Z"
   },
   {
    "duration": 84,
    "start_time": "2024-12-11T17:28:54.848Z"
   },
   {
    "duration": 11,
    "start_time": "2024-12-11T17:28:54.934Z"
   },
   {
    "duration": 10,
    "start_time": "2024-12-11T17:28:54.947Z"
   },
   {
    "duration": 5,
    "start_time": "2024-12-11T17:28:54.958Z"
   },
   {
    "duration": 21,
    "start_time": "2024-12-11T17:28:54.968Z"
   },
   {
    "duration": 345,
    "start_time": "2024-12-11T17:31:26.637Z"
   },
   {
    "duration": 11,
    "start_time": "2024-12-11T17:33:15.493Z"
   },
   {
    "duration": 15,
    "start_time": "2024-12-11T17:33:19.660Z"
   },
   {
    "duration": 1217,
    "start_time": "2024-12-11T17:47:00.448Z"
   },
   {
    "duration": 2,
    "start_time": "2024-12-11T17:47:01.667Z"
   },
   {
    "duration": 70,
    "start_time": "2024-12-11T17:47:01.671Z"
   },
   {
    "duration": 20,
    "start_time": "2024-12-11T17:47:01.743Z"
   },
   {
    "duration": 19,
    "start_time": "2024-12-11T17:47:01.764Z"
   },
   {
    "duration": 48,
    "start_time": "2024-12-11T17:47:01.785Z"
   },
   {
    "duration": 85,
    "start_time": "2024-12-11T17:47:01.835Z"
   },
   {
    "duration": 5,
    "start_time": "2024-12-11T17:47:01.922Z"
   },
   {
    "duration": 37,
    "start_time": "2024-12-11T17:47:01.928Z"
   },
   {
    "duration": 15,
    "start_time": "2024-12-11T17:47:01.968Z"
   },
   {
    "duration": 25,
    "start_time": "2024-12-11T17:47:01.984Z"
   },
   {
    "duration": 30,
    "start_time": "2024-12-11T17:47:02.011Z"
   },
   {
    "duration": 20,
    "start_time": "2024-12-11T17:47:02.042Z"
   },
   {
    "duration": 46,
    "start_time": "2024-12-11T17:47:02.063Z"
   },
   {
    "duration": 10,
    "start_time": "2024-12-11T17:47:02.111Z"
   },
   {
    "duration": 39,
    "start_time": "2024-12-11T17:47:02.123Z"
   },
   {
    "duration": 19,
    "start_time": "2024-12-11T17:47:02.164Z"
   },
   {
    "duration": 19,
    "start_time": "2024-12-11T17:47:02.184Z"
   },
   {
    "duration": 50,
    "start_time": "2024-12-11T17:47:02.205Z"
   },
   {
    "duration": 39,
    "start_time": "2024-12-11T17:47:02.257Z"
   },
   {
    "duration": 7,
    "start_time": "2024-12-11T17:47:02.298Z"
   },
   {
    "duration": 25,
    "start_time": "2024-12-11T17:47:02.307Z"
   },
   {
    "duration": 30,
    "start_time": "2024-12-11T17:47:02.334Z"
   },
   {
    "duration": 58,
    "start_time": "2024-12-11T17:47:02.366Z"
   },
   {
    "duration": 32,
    "start_time": "2024-12-11T17:47:02.426Z"
   },
   {
    "duration": 24,
    "start_time": "2024-12-11T17:47:02.460Z"
   },
   {
    "duration": 13,
    "start_time": "2024-12-11T17:47:02.485Z"
   },
   {
    "duration": 21,
    "start_time": "2024-12-11T17:47:02.502Z"
   },
   {
    "duration": 52,
    "start_time": "2024-12-11T17:47:02.524Z"
   },
   {
    "duration": 33,
    "start_time": "2024-12-11T17:47:02.578Z"
   },
   {
    "duration": 50,
    "start_time": "2024-12-11T17:47:02.613Z"
   },
   {
    "duration": 28,
    "start_time": "2024-12-11T17:47:02.664Z"
   },
   {
    "duration": 79,
    "start_time": "2024-12-11T17:47:02.693Z"
   },
   {
    "duration": 16,
    "start_time": "2024-12-11T17:47:02.774Z"
   },
   {
    "duration": 383,
    "start_time": "2024-12-11T17:47:02.792Z"
   },
   {
    "duration": 137,
    "start_time": "2024-12-11T17:47:03.177Z"
   },
   {
    "duration": 16,
    "start_time": "2024-12-11T17:47:03.316Z"
   },
   {
    "duration": 24,
    "start_time": "2024-12-11T17:47:03.334Z"
   },
   {
    "duration": 44,
    "start_time": "2024-12-11T17:47:03.360Z"
   },
   {
    "duration": 67,
    "start_time": "2024-12-11T17:47:03.406Z"
   },
   {
    "duration": 853,
    "start_time": "2024-12-11T17:47:03.475Z"
   },
   {
    "duration": 11,
    "start_time": "2024-12-11T17:47:04.330Z"
   },
   {
    "duration": 15,
    "start_time": "2024-12-11T17:47:04.344Z"
   },
   {
    "duration": 13,
    "start_time": "2024-12-11T17:47:04.362Z"
   },
   {
    "duration": 1613,
    "start_time": "2024-12-11T17:47:04.377Z"
   },
   {
    "duration": 171,
    "start_time": "2024-12-11T17:47:05.992Z"
   },
   {
    "duration": 248,
    "start_time": "2024-12-11T17:47:06.165Z"
   },
   {
    "duration": 45,
    "start_time": "2024-12-11T17:47:06.414Z"
   },
   {
    "duration": 6,
    "start_time": "2024-12-11T17:47:06.461Z"
   },
   {
    "duration": 12,
    "start_time": "2024-12-11T17:47:06.468Z"
   },
   {
    "duration": 21,
    "start_time": "2024-12-11T17:47:06.481Z"
   },
   {
    "duration": 145,
    "start_time": "2024-12-11T17:47:06.503Z"
   },
   {
    "duration": 147,
    "start_time": "2024-12-11T17:47:06.650Z"
   },
   {
    "duration": 13,
    "start_time": "2024-12-11T17:47:06.799Z"
   },
   {
    "duration": 31,
    "start_time": "2024-12-11T17:47:06.814Z"
   },
   {
    "duration": 15,
    "start_time": "2024-12-11T17:47:06.847Z"
   },
   {
    "duration": 32,
    "start_time": "2024-12-11T17:47:06.863Z"
   },
   {
    "duration": 218,
    "start_time": "2024-12-11T17:47:06.897Z"
   },
   {
    "duration": 202,
    "start_time": "2024-12-11T17:47:07.117Z"
   },
   {
    "duration": 9,
    "start_time": "2024-12-11T17:47:07.321Z"
   },
   {
    "duration": 27,
    "start_time": "2024-12-11T17:47:07.332Z"
   },
   {
    "duration": 16,
    "start_time": "2024-12-11T17:47:07.360Z"
   },
   {
    "duration": 28,
    "start_time": "2024-12-11T17:47:07.378Z"
   },
   {
    "duration": 26,
    "start_time": "2024-12-11T17:47:07.408Z"
   },
   {
    "duration": 7,
    "start_time": "2024-12-11T17:47:07.436Z"
   },
   {
    "duration": 6,
    "start_time": "2024-12-11T17:47:07.445Z"
   },
   {
    "duration": 9,
    "start_time": "2024-12-11T17:47:07.452Z"
   },
   {
    "duration": 4,
    "start_time": "2024-12-11T17:47:07.463Z"
   },
   {
    "duration": 4,
    "start_time": "2024-12-11T17:47:07.468Z"
   },
   {
    "duration": 99,
    "start_time": "2024-12-11T18:14:55.966Z"
   },
   {
    "duration": 30,
    "start_time": "2024-12-11T18:18:44.505Z"
   },
   {
    "duration": 47,
    "start_time": "2024-12-12T09:46:09.180Z"
   },
   {
    "duration": 1307,
    "start_time": "2024-12-12T09:46:14.678Z"
   },
   {
    "duration": 2,
    "start_time": "2024-12-12T09:46:15.987Z"
   },
   {
    "duration": 218,
    "start_time": "2024-12-12T09:46:15.990Z"
   },
   {
    "duration": 16,
    "start_time": "2024-12-12T09:46:16.209Z"
   },
   {
    "duration": 4,
    "start_time": "2024-12-12T09:46:16.226Z"
   },
   {
    "duration": 13,
    "start_time": "2024-12-12T09:46:16.231Z"
   },
   {
    "duration": 67,
    "start_time": "2024-12-12T09:46:16.245Z"
   },
   {
    "duration": 4,
    "start_time": "2024-12-12T09:46:16.313Z"
   },
   {
    "duration": 7,
    "start_time": "2024-12-12T09:46:16.318Z"
   },
   {
    "duration": 7,
    "start_time": "2024-12-12T09:46:16.327Z"
   },
   {
    "duration": 17,
    "start_time": "2024-12-12T09:46:16.335Z"
   },
   {
    "duration": 13,
    "start_time": "2024-12-12T09:46:16.353Z"
   },
   {
    "duration": 15,
    "start_time": "2024-12-12T09:46:16.367Z"
   },
   {
    "duration": 12,
    "start_time": "2024-12-12T09:46:16.383Z"
   },
   {
    "duration": 9,
    "start_time": "2024-12-12T09:46:16.411Z"
   },
   {
    "duration": 16,
    "start_time": "2024-12-12T09:46:16.421Z"
   },
   {
    "duration": 12,
    "start_time": "2024-12-12T09:46:16.438Z"
   },
   {
    "duration": 7,
    "start_time": "2024-12-12T09:46:16.451Z"
   },
   {
    "duration": 10,
    "start_time": "2024-12-12T09:46:16.460Z"
   },
   {
    "duration": 23,
    "start_time": "2024-12-12T09:46:16.471Z"
   },
   {
    "duration": 7,
    "start_time": "2024-12-12T09:46:16.511Z"
   },
   {
    "duration": 18,
    "start_time": "2024-12-12T09:46:16.519Z"
   },
   {
    "duration": 4,
    "start_time": "2024-12-12T09:46:16.538Z"
   },
   {
    "duration": 26,
    "start_time": "2024-12-12T09:46:16.543Z"
   },
   {
    "duration": 8,
    "start_time": "2024-12-12T09:46:16.570Z"
   },
   {
    "duration": 12,
    "start_time": "2024-12-12T09:46:16.580Z"
   },
   {
    "duration": 18,
    "start_time": "2024-12-12T09:46:16.593Z"
   },
   {
    "duration": 4,
    "start_time": "2024-12-12T09:46:16.614Z"
   },
   {
    "duration": 16,
    "start_time": "2024-12-12T09:46:16.620Z"
   },
   {
    "duration": 11,
    "start_time": "2024-12-12T09:46:16.637Z"
   },
   {
    "duration": 24,
    "start_time": "2024-12-12T09:46:16.649Z"
   },
   {
    "duration": 20,
    "start_time": "2024-12-12T09:46:16.675Z"
   },
   {
    "duration": 5,
    "start_time": "2024-12-12T09:46:20.761Z"
   },
   {
    "duration": 5,
    "start_time": "2024-12-12T09:47:07.885Z"
   },
   {
    "duration": 1271,
    "start_time": "2024-12-12T09:47:27.738Z"
   },
   {
    "duration": 2,
    "start_time": "2024-12-12T09:47:41.002Z"
   },
   {
    "duration": 6,
    "start_time": "2024-12-12T09:47:41.006Z"
   },
   {
    "duration": 52,
    "start_time": "2024-12-12T09:47:41.013Z"
   },
   {
    "duration": 13,
    "start_time": "2024-12-12T09:47:41.066Z"
   },
   {
    "duration": 4,
    "start_time": "2024-12-12T09:47:41.080Z"
   },
   {
    "duration": 12,
    "start_time": "2024-12-12T09:47:41.086Z"
   },
   {
    "duration": 49,
    "start_time": "2024-12-12T09:47:41.099Z"
   },
   {
    "duration": 3,
    "start_time": "2024-12-12T09:47:41.150Z"
   },
   {
    "duration": 10,
    "start_time": "2024-12-12T09:47:41.154Z"
   },
   {
    "duration": 4,
    "start_time": "2024-12-12T09:47:41.166Z"
   },
   {
    "duration": 14,
    "start_time": "2024-12-12T09:47:41.171Z"
   },
   {
    "duration": 28,
    "start_time": "2024-12-12T09:47:41.186Z"
   },
   {
    "duration": 5,
    "start_time": "2024-12-12T09:47:41.215Z"
   },
   {
    "duration": 12,
    "start_time": "2024-12-12T09:47:41.221Z"
   },
   {
    "duration": 8,
    "start_time": "2024-12-12T09:47:41.235Z"
   },
   {
    "duration": 24,
    "start_time": "2024-12-12T09:47:41.244Z"
   },
   {
    "duration": 12,
    "start_time": "2024-12-12T09:47:41.269Z"
   },
   {
    "duration": 9,
    "start_time": "2024-12-12T09:47:41.282Z"
   },
   {
    "duration": 25,
    "start_time": "2024-12-12T09:47:41.292Z"
   },
   {
    "duration": 19,
    "start_time": "2024-12-12T09:47:41.318Z"
   },
   {
    "duration": 7,
    "start_time": "2024-12-12T09:47:41.338Z"
   },
   {
    "duration": 10,
    "start_time": "2024-12-12T09:47:41.346Z"
   },
   {
    "duration": 5,
    "start_time": "2024-12-12T09:47:41.357Z"
   },
   {
    "duration": 29,
    "start_time": "2024-12-12T09:47:41.363Z"
   },
   {
    "duration": 8,
    "start_time": "2024-12-12T09:47:41.411Z"
   },
   {
    "duration": 7,
    "start_time": "2024-12-12T09:47:41.421Z"
   },
   {
    "duration": 17,
    "start_time": "2024-12-12T09:47:41.430Z"
   },
   {
    "duration": 5,
    "start_time": "2024-12-12T09:47:41.448Z"
   },
   {
    "duration": 7,
    "start_time": "2024-12-12T09:47:41.454Z"
   },
   {
    "duration": 11,
    "start_time": "2024-12-12T09:47:41.462Z"
   },
   {
    "duration": 20,
    "start_time": "2024-12-12T09:47:41.474Z"
   },
   {
    "duration": 25,
    "start_time": "2024-12-12T09:47:41.496Z"
   },
   {
    "duration": 5,
    "start_time": "2024-12-12T09:47:41.523Z"
   },
   {
    "duration": 6,
    "start_time": "2024-12-12T09:47:43.929Z"
   },
   {
    "duration": 3,
    "start_time": "2024-12-12T09:48:33.901Z"
   },
   {
    "duration": 22,
    "start_time": "2024-12-12T09:48:33.906Z"
   },
   {
    "duration": 79,
    "start_time": "2024-12-12T09:48:33.929Z"
   },
   {
    "duration": 13,
    "start_time": "2024-12-12T09:48:34.010Z"
   },
   {
    "duration": 35,
    "start_time": "2024-12-12T09:48:34.024Z"
   },
   {
    "duration": 32,
    "start_time": "2024-12-12T09:48:34.060Z"
   },
   {
    "duration": 61,
    "start_time": "2024-12-12T09:48:34.094Z"
   },
   {
    "duration": 3,
    "start_time": "2024-12-12T09:48:34.156Z"
   },
   {
    "duration": 16,
    "start_time": "2024-12-12T09:48:34.160Z"
   },
   {
    "duration": 20,
    "start_time": "2024-12-12T09:48:34.177Z"
   },
   {
    "duration": 25,
    "start_time": "2024-12-12T09:48:34.199Z"
   },
   {
    "duration": 25,
    "start_time": "2024-12-12T09:48:34.225Z"
   },
   {
    "duration": 17,
    "start_time": "2024-12-12T09:48:34.251Z"
   },
   {
    "duration": 42,
    "start_time": "2024-12-12T09:48:34.269Z"
   },
   {
    "duration": 23,
    "start_time": "2024-12-12T09:48:34.313Z"
   },
   {
    "duration": 17,
    "start_time": "2024-12-12T09:48:34.337Z"
   },
   {
    "duration": 27,
    "start_time": "2024-12-12T09:48:34.356Z"
   },
   {
    "duration": 13,
    "start_time": "2024-12-12T09:48:34.385Z"
   },
   {
    "duration": 21,
    "start_time": "2024-12-12T09:48:34.399Z"
   },
   {
    "duration": 43,
    "start_time": "2024-12-12T09:48:34.422Z"
   },
   {
    "duration": 11,
    "start_time": "2024-12-12T09:48:34.466Z"
   },
   {
    "duration": 25,
    "start_time": "2024-12-12T09:48:34.478Z"
   },
   {
    "duration": 12,
    "start_time": "2024-12-12T09:48:34.504Z"
   },
   {
    "duration": 39,
    "start_time": "2024-12-12T09:48:34.517Z"
   },
   {
    "duration": 19,
    "start_time": "2024-12-12T09:48:34.557Z"
   },
   {
    "duration": 29,
    "start_time": "2024-12-12T09:48:34.577Z"
   },
   {
    "duration": 12,
    "start_time": "2024-12-12T09:48:34.607Z"
   },
   {
    "duration": 10,
    "start_time": "2024-12-12T09:48:34.620Z"
   },
   {
    "duration": 4,
    "start_time": "2024-12-12T09:48:34.632Z"
   },
   {
    "duration": 8,
    "start_time": "2024-12-12T09:48:34.637Z"
   },
   {
    "duration": 24,
    "start_time": "2024-12-12T09:48:34.646Z"
   },
   {
    "duration": 16,
    "start_time": "2024-12-12T09:48:34.672Z"
   },
   {
    "duration": 5,
    "start_time": "2024-12-12T09:48:34.690Z"
   },
   {
    "duration": 10,
    "start_time": "2024-12-12T09:58:33.221Z"
   },
   {
    "duration": 3,
    "start_time": "2024-12-12T09:59:20.264Z"
   },
   {
    "duration": 3,
    "start_time": "2024-12-12T09:59:20.268Z"
   },
   {
    "duration": 53,
    "start_time": "2024-12-12T09:59:20.272Z"
   },
   {
    "duration": 16,
    "start_time": "2024-12-12T09:59:20.327Z"
   },
   {
    "duration": 12,
    "start_time": "2024-12-12T09:59:20.344Z"
   },
   {
    "duration": 31,
    "start_time": "2024-12-12T09:59:20.357Z"
   },
   {
    "duration": 48,
    "start_time": "2024-12-12T09:59:20.389Z"
   },
   {
    "duration": 3,
    "start_time": "2024-12-12T09:59:20.439Z"
   },
   {
    "duration": 12,
    "start_time": "2024-12-12T09:59:20.443Z"
   },
   {
    "duration": 29,
    "start_time": "2024-12-12T09:59:20.456Z"
   },
   {
    "duration": 28,
    "start_time": "2024-12-12T09:59:20.486Z"
   },
   {
    "duration": 18,
    "start_time": "2024-12-12T09:59:20.517Z"
   },
   {
    "duration": 6,
    "start_time": "2024-12-12T09:59:20.537Z"
   },
   {
    "duration": 13,
    "start_time": "2024-12-12T09:59:20.544Z"
   },
   {
    "duration": 10,
    "start_time": "2024-12-12T09:59:20.558Z"
   },
   {
    "duration": 22,
    "start_time": "2024-12-12T09:59:20.569Z"
   },
   {
    "duration": 30,
    "start_time": "2024-12-12T09:59:20.592Z"
   },
   {
    "duration": 8,
    "start_time": "2024-12-12T09:59:20.623Z"
   },
   {
    "duration": 25,
    "start_time": "2024-12-12T09:59:20.632Z"
   },
   {
    "duration": 35,
    "start_time": "2024-12-12T09:59:20.659Z"
   },
   {
    "duration": 8,
    "start_time": "2024-12-12T09:59:20.696Z"
   },
   {
    "duration": 12,
    "start_time": "2024-12-12T09:59:20.705Z"
   },
   {
    "duration": 8,
    "start_time": "2024-12-12T09:59:20.718Z"
   },
   {
    "duration": 28,
    "start_time": "2024-12-12T09:59:20.727Z"
   },
   {
    "duration": 8,
    "start_time": "2024-12-12T09:59:20.757Z"
   },
   {
    "duration": 21,
    "start_time": "2024-12-12T09:59:20.767Z"
   },
   {
    "duration": 16,
    "start_time": "2024-12-12T09:59:20.790Z"
   },
   {
    "duration": 7,
    "start_time": "2024-12-12T09:59:20.808Z"
   },
   {
    "duration": 7,
    "start_time": "2024-12-12T09:59:20.816Z"
   },
   {
    "duration": 13,
    "start_time": "2024-12-12T09:59:20.825Z"
   },
   {
    "duration": 30,
    "start_time": "2024-12-12T09:59:20.839Z"
   },
   {
    "duration": 17,
    "start_time": "2024-12-12T09:59:20.871Z"
   },
   {
    "duration": 6,
    "start_time": "2024-12-12T09:59:20.889Z"
   },
   {
    "duration": 69,
    "start_time": "2024-12-12T09:59:40.158Z"
   },
   {
    "duration": 70,
    "start_time": "2024-12-12T09:59:59.503Z"
   },
   {
    "duration": 73,
    "start_time": "2024-12-12T10:00:24.475Z"
   },
   {
    "duration": 95,
    "start_time": "2024-12-12T10:00:50.489Z"
   },
   {
    "duration": 71,
    "start_time": "2024-12-12T10:00:56.914Z"
   },
   {
    "duration": 80,
    "start_time": "2024-12-12T10:01:08.360Z"
   },
   {
    "duration": 4,
    "start_time": "2024-12-12T10:09:13.532Z"
   },
   {
    "duration": 71,
    "start_time": "2024-12-12T10:12:50.377Z"
   },
   {
    "duration": 82,
    "start_time": "2024-12-12T10:13:01.602Z"
   },
   {
    "duration": 5,
    "start_time": "2024-12-12T10:17:12.123Z"
   },
   {
    "duration": 3,
    "start_time": "2024-12-12T10:36:44.440Z"
   },
   {
    "duration": 12,
    "start_time": "2024-12-12T10:36:44.446Z"
   },
   {
    "duration": 64,
    "start_time": "2024-12-12T10:36:44.459Z"
   },
   {
    "duration": 13,
    "start_time": "2024-12-12T10:36:44.524Z"
   },
   {
    "duration": 10,
    "start_time": "2024-12-12T10:36:44.538Z"
   },
   {
    "duration": 15,
    "start_time": "2024-12-12T10:36:44.549Z"
   },
   {
    "duration": 56,
    "start_time": "2024-12-12T10:36:44.565Z"
   },
   {
    "duration": 3,
    "start_time": "2024-12-12T10:36:44.622Z"
   },
   {
    "duration": 13,
    "start_time": "2024-12-12T10:36:44.626Z"
   },
   {
    "duration": 6,
    "start_time": "2024-12-12T10:36:44.640Z"
   },
   {
    "duration": 17,
    "start_time": "2024-12-12T10:36:44.648Z"
   },
   {
    "duration": 12,
    "start_time": "2024-12-12T10:36:44.666Z"
   },
   {
    "duration": 4,
    "start_time": "2024-12-12T10:36:44.679Z"
   },
   {
    "duration": 27,
    "start_time": "2024-12-12T10:36:44.685Z"
   },
   {
    "duration": 9,
    "start_time": "2024-12-12T10:36:44.713Z"
   },
   {
    "duration": 10,
    "start_time": "2024-12-12T10:36:44.723Z"
   },
   {
    "duration": 12,
    "start_time": "2024-12-12T10:36:44.734Z"
   },
   {
    "duration": 7,
    "start_time": "2024-12-12T10:36:44.747Z"
   },
   {
    "duration": 7,
    "start_time": "2024-12-12T10:36:44.756Z"
   },
   {
    "duration": 48,
    "start_time": "2024-12-12T10:36:44.764Z"
   },
   {
    "duration": 6,
    "start_time": "2024-12-12T10:36:44.813Z"
   },
   {
    "duration": 8,
    "start_time": "2024-12-12T10:36:44.820Z"
   },
   {
    "duration": 3,
    "start_time": "2024-12-12T10:36:44.829Z"
   },
   {
    "duration": 22,
    "start_time": "2024-12-12T10:36:44.833Z"
   },
   {
    "duration": 7,
    "start_time": "2024-12-12T10:36:44.856Z"
   },
   {
    "duration": 5,
    "start_time": "2024-12-12T10:36:44.864Z"
   },
   {
    "duration": 6,
    "start_time": "2024-12-12T10:36:44.870Z"
   },
   {
    "duration": 35,
    "start_time": "2024-12-12T10:36:44.877Z"
   },
   {
    "duration": 5,
    "start_time": "2024-12-12T10:36:44.916Z"
   },
   {
    "duration": 7,
    "start_time": "2024-12-12T10:36:44.922Z"
   },
   {
    "duration": 21,
    "start_time": "2024-12-12T10:36:44.930Z"
   },
   {
    "duration": 16,
    "start_time": "2024-12-12T10:36:44.953Z"
   },
   {
    "duration": 4,
    "start_time": "2024-12-12T10:36:44.971Z"
   },
   {
    "duration": 9,
    "start_time": "2024-12-12T10:36:48.665Z"
   },
   {
    "duration": 52,
    "start_time": "2024-12-12T10:47:00.374Z"
   },
   {
    "duration": 90,
    "start_time": "2024-12-12T10:49:30.093Z"
   },
   {
    "duration": 3,
    "start_time": "2024-12-12T10:50:48.639Z"
   },
   {
    "duration": 6,
    "start_time": "2024-12-12T10:50:48.643Z"
   },
   {
    "duration": 48,
    "start_time": "2024-12-12T10:50:48.650Z"
   },
   {
    "duration": 12,
    "start_time": "2024-12-12T10:50:48.700Z"
   },
   {
    "duration": 9,
    "start_time": "2024-12-12T10:50:48.714Z"
   },
   {
    "duration": 16,
    "start_time": "2024-12-12T10:50:48.724Z"
   },
   {
    "duration": 44,
    "start_time": "2024-12-12T10:50:48.742Z"
   },
   {
    "duration": 3,
    "start_time": "2024-12-12T10:50:48.812Z"
   },
   {
    "duration": 3,
    "start_time": "2024-12-12T10:50:48.817Z"
   },
   {
    "duration": 3,
    "start_time": "2024-12-12T10:50:48.823Z"
   },
   {
    "duration": 15,
    "start_time": "2024-12-12T10:50:48.827Z"
   },
   {
    "duration": 11,
    "start_time": "2024-12-12T10:50:48.843Z"
   },
   {
    "duration": 8,
    "start_time": "2024-12-12T10:50:48.855Z"
   },
   {
    "duration": 13,
    "start_time": "2024-12-12T10:50:48.864Z"
   },
   {
    "duration": 8,
    "start_time": "2024-12-12T10:50:48.910Z"
   },
   {
    "duration": 9,
    "start_time": "2024-12-12T10:50:48.919Z"
   },
   {
    "duration": 11,
    "start_time": "2024-12-12T10:50:48.930Z"
   },
   {
    "duration": 7,
    "start_time": "2024-12-12T10:50:48.942Z"
   },
   {
    "duration": 9,
    "start_time": "2024-12-12T10:50:48.950Z"
   },
   {
    "duration": 52,
    "start_time": "2024-12-12T10:50:48.960Z"
   },
   {
    "duration": 7,
    "start_time": "2024-12-12T10:50:49.014Z"
   },
   {
    "duration": 10,
    "start_time": "2024-12-12T10:50:49.022Z"
   },
   {
    "duration": 5,
    "start_time": "2024-12-12T10:50:49.033Z"
   },
   {
    "duration": 26,
    "start_time": "2024-12-12T10:50:49.040Z"
   },
   {
    "duration": 8,
    "start_time": "2024-12-12T10:50:49.069Z"
   },
   {
    "duration": 8,
    "start_time": "2024-12-12T10:50:49.078Z"
   },
   {
    "duration": 25,
    "start_time": "2024-12-12T10:50:49.087Z"
   },
   {
    "duration": 4,
    "start_time": "2024-12-12T10:50:49.113Z"
   },
   {
    "duration": 5,
    "start_time": "2024-12-12T10:50:49.118Z"
   },
   {
    "duration": 5,
    "start_time": "2024-12-12T10:50:49.124Z"
   },
   {
    "duration": 26,
    "start_time": "2024-12-12T10:50:49.130Z"
   },
   {
    "duration": 18,
    "start_time": "2024-12-12T10:50:49.158Z"
   },
   {
    "duration": 6,
    "start_time": "2024-12-12T10:50:49.177Z"
   },
   {
    "duration": 102,
    "start_time": "2024-12-12T10:50:53.176Z"
   },
   {
    "duration": 3,
    "start_time": "2024-12-12T10:54:46.464Z"
   },
   {
    "duration": 10,
    "start_time": "2024-12-12T10:54:46.468Z"
   },
   {
    "duration": 60,
    "start_time": "2024-12-12T10:54:46.480Z"
   },
   {
    "duration": 13,
    "start_time": "2024-12-12T10:54:46.541Z"
   },
   {
    "duration": 3,
    "start_time": "2024-12-12T10:54:46.556Z"
   },
   {
    "duration": 22,
    "start_time": "2024-12-12T10:54:46.560Z"
   },
   {
    "duration": 55,
    "start_time": "2024-12-12T10:54:46.583Z"
   },
   {
    "duration": 3,
    "start_time": "2024-12-12T10:54:46.639Z"
   },
   {
    "duration": 16,
    "start_time": "2024-12-12T10:54:46.644Z"
   },
   {
    "duration": 12,
    "start_time": "2024-12-12T10:54:46.661Z"
   },
   {
    "duration": 13,
    "start_time": "2024-12-12T10:54:46.675Z"
   },
   {
    "duration": 12,
    "start_time": "2024-12-12T10:54:46.689Z"
   },
   {
    "duration": 10,
    "start_time": "2024-12-12T10:54:46.703Z"
   },
   {
    "duration": 12,
    "start_time": "2024-12-12T10:54:46.714Z"
   },
   {
    "duration": 8,
    "start_time": "2024-12-12T10:54:46.728Z"
   },
   {
    "duration": 9,
    "start_time": "2024-12-12T10:54:46.737Z"
   },
   {
    "duration": 12,
    "start_time": "2024-12-12T10:54:46.747Z"
   },
   {
    "duration": 7,
    "start_time": "2024-12-12T10:54:46.760Z"
   },
   {
    "duration": 8,
    "start_time": "2024-12-12T10:54:46.768Z"
   },
   {
    "duration": 19,
    "start_time": "2024-12-12T10:54:46.811Z"
   },
   {
    "duration": 6,
    "start_time": "2024-12-12T10:54:46.831Z"
   },
   {
    "duration": 13,
    "start_time": "2024-12-12T10:54:46.839Z"
   },
   {
    "duration": 4,
    "start_time": "2024-12-12T10:54:46.853Z"
   },
   {
    "duration": 18,
    "start_time": "2024-12-12T10:54:46.859Z"
   },
   {
    "duration": 7,
    "start_time": "2024-12-12T10:54:46.878Z"
   },
   {
    "duration": 28,
    "start_time": "2024-12-12T10:54:46.886Z"
   },
   {
    "duration": 12,
    "start_time": "2024-12-12T10:54:46.916Z"
   },
   {
    "duration": 5,
    "start_time": "2024-12-12T10:54:46.929Z"
   },
   {
    "duration": 3,
    "start_time": "2024-12-12T10:54:46.937Z"
   },
   {
    "duration": 9,
    "start_time": "2024-12-12T10:54:46.941Z"
   },
   {
    "duration": 21,
    "start_time": "2024-12-12T10:54:46.951Z"
   },
   {
    "duration": 17,
    "start_time": "2024-12-12T10:54:46.973Z"
   },
   {
    "duration": 21,
    "start_time": "2024-12-12T10:54:46.992Z"
   },
   {
    "duration": 34,
    "start_time": "2024-12-12T10:54:50.733Z"
   },
   {
    "duration": 25,
    "start_time": "2024-12-12T10:55:15.872Z"
   },
   {
    "duration": 53,
    "start_time": "2024-12-12T10:55:25.276Z"
   },
   {
    "duration": 4,
    "start_time": "2024-12-12T10:59:08.093Z"
   },
   {
    "duration": 6,
    "start_time": "2024-12-12T10:59:08.098Z"
   },
   {
    "duration": 55,
    "start_time": "2024-12-12T10:59:08.106Z"
   },
   {
    "duration": 14,
    "start_time": "2024-12-12T10:59:08.162Z"
   },
   {
    "duration": 18,
    "start_time": "2024-12-12T10:59:08.178Z"
   },
   {
    "duration": 17,
    "start_time": "2024-12-12T10:59:08.198Z"
   },
   {
    "duration": 46,
    "start_time": "2024-12-12T10:59:08.217Z"
   },
   {
    "duration": 3,
    "start_time": "2024-12-12T10:59:08.264Z"
   },
   {
    "duration": 2,
    "start_time": "2024-12-12T10:59:08.269Z"
   },
   {
    "duration": 3,
    "start_time": "2024-12-12T10:59:08.274Z"
   },
   {
    "duration": 43,
    "start_time": "2024-12-12T10:59:08.278Z"
   },
   {
    "duration": 11,
    "start_time": "2024-12-12T10:59:08.322Z"
   },
   {
    "duration": 5,
    "start_time": "2024-12-12T10:59:08.335Z"
   },
   {
    "duration": 20,
    "start_time": "2024-12-12T10:59:08.341Z"
   },
   {
    "duration": 8,
    "start_time": "2024-12-12T10:59:08.362Z"
   },
   {
    "duration": 8,
    "start_time": "2024-12-12T10:59:08.372Z"
   },
   {
    "duration": 32,
    "start_time": "2024-12-12T10:59:08.381Z"
   },
   {
    "duration": 8,
    "start_time": "2024-12-12T10:59:08.414Z"
   },
   {
    "duration": 8,
    "start_time": "2024-12-12T10:59:08.423Z"
   },
   {
    "duration": 27,
    "start_time": "2024-12-12T10:59:08.432Z"
   },
   {
    "duration": 5,
    "start_time": "2024-12-12T10:59:08.461Z"
   },
   {
    "duration": 7,
    "start_time": "2024-12-12T10:59:08.467Z"
   },
   {
    "duration": 7,
    "start_time": "2024-12-12T10:59:08.475Z"
   },
   {
    "duration": 35,
    "start_time": "2024-12-12T10:59:08.483Z"
   },
   {
    "duration": 7,
    "start_time": "2024-12-12T10:59:08.521Z"
   },
   {
    "duration": 8,
    "start_time": "2024-12-12T10:59:08.529Z"
   },
   {
    "duration": 9,
    "start_time": "2024-12-12T10:59:08.538Z"
   },
   {
    "duration": 7,
    "start_time": "2024-12-12T10:59:08.548Z"
   },
   {
    "duration": 4,
    "start_time": "2024-12-12T10:59:08.557Z"
   },
   {
    "duration": 4,
    "start_time": "2024-12-12T10:59:08.563Z"
   },
   {
    "duration": 20,
    "start_time": "2024-12-12T10:59:08.568Z"
   },
   {
    "duration": 35,
    "start_time": "2024-12-12T10:59:08.589Z"
   },
   {
    "duration": 6,
    "start_time": "2024-12-12T10:59:08.625Z"
   },
   {
    "duration": 6,
    "start_time": "2024-12-12T10:59:10.624Z"
   },
   {
    "duration": 17,
    "start_time": "2024-12-12T10:59:13.367Z"
   },
   {
    "duration": 106,
    "start_time": "2024-12-12T10:59:39.108Z"
   },
   {
    "duration": 4,
    "start_time": "2024-12-12T11:01:10.956Z"
   },
   {
    "duration": 18,
    "start_time": "2024-12-12T11:01:17.401Z"
   },
   {
    "duration": 7,
    "start_time": "2024-12-12T11:01:31.380Z"
   },
   {
    "duration": 23,
    "start_time": "2024-12-12T11:01:45.839Z"
   },
   {
    "duration": 13,
    "start_time": "2024-12-12T11:03:17.256Z"
   },
   {
    "duration": 17,
    "start_time": "2024-12-12T11:03:23.284Z"
   },
   {
    "duration": 3,
    "start_time": "2024-12-12T11:03:33.637Z"
   },
   {
    "duration": 12,
    "start_time": "2024-12-12T11:03:33.642Z"
   },
   {
    "duration": 53,
    "start_time": "2024-12-12T11:03:33.656Z"
   },
   {
    "duration": 14,
    "start_time": "2024-12-12T11:03:33.711Z"
   },
   {
    "duration": 28,
    "start_time": "2024-12-12T11:03:33.727Z"
   },
   {
    "duration": 23,
    "start_time": "2024-12-12T11:03:33.756Z"
   },
   {
    "duration": 40,
    "start_time": "2024-12-12T11:03:33.781Z"
   },
   {
    "duration": 4,
    "start_time": "2024-12-12T11:03:33.823Z"
   },
   {
    "duration": 19,
    "start_time": "2024-12-12T11:03:33.828Z"
   },
   {
    "duration": 10,
    "start_time": "2024-12-12T11:03:33.848Z"
   },
   {
    "duration": 13,
    "start_time": "2024-12-12T11:03:33.860Z"
   },
   {
    "duration": 37,
    "start_time": "2024-12-12T11:03:33.874Z"
   },
   {
    "duration": 28,
    "start_time": "2024-12-12T11:03:33.912Z"
   },
   {
    "duration": 25,
    "start_time": "2024-12-12T11:03:33.941Z"
   },
   {
    "duration": 16,
    "start_time": "2024-12-12T11:03:33.967Z"
   },
   {
    "duration": 14,
    "start_time": "2024-12-12T11:03:33.984Z"
   },
   {
    "duration": 25,
    "start_time": "2024-12-12T11:03:34.000Z"
   },
   {
    "duration": 16,
    "start_time": "2024-12-12T11:03:34.026Z"
   },
   {
    "duration": 20,
    "start_time": "2024-12-12T11:03:34.044Z"
   },
   {
    "duration": 34,
    "start_time": "2024-12-12T11:03:34.065Z"
   },
   {
    "duration": 27,
    "start_time": "2024-12-12T11:03:34.100Z"
   },
   {
    "duration": 20,
    "start_time": "2024-12-12T11:03:34.129Z"
   },
   {
    "duration": 6,
    "start_time": "2024-12-12T11:03:34.151Z"
   },
   {
    "duration": 34,
    "start_time": "2024-12-12T11:03:34.158Z"
   },
   {
    "duration": 27,
    "start_time": "2024-12-12T11:03:34.193Z"
   },
   {
    "duration": 15,
    "start_time": "2024-12-12T11:03:34.221Z"
   },
   {
    "duration": 10,
    "start_time": "2024-12-12T11:03:34.237Z"
   },
   {
    "duration": 12,
    "start_time": "2024-12-12T11:03:34.249Z"
   },
   {
    "duration": 18,
    "start_time": "2024-12-12T11:03:34.264Z"
   },
   {
    "duration": 17,
    "start_time": "2024-12-12T11:03:34.284Z"
   },
   {
    "duration": 31,
    "start_time": "2024-12-12T11:03:34.303Z"
   },
   {
    "duration": 25,
    "start_time": "2024-12-12T11:03:34.335Z"
   },
   {
    "duration": 24,
    "start_time": "2024-12-12T11:03:34.361Z"
   },
   {
    "duration": 12,
    "start_time": "2024-12-12T11:03:34.386Z"
   },
   {
    "duration": 11,
    "start_time": "2024-12-12T11:03:37.679Z"
   },
   {
    "duration": 33,
    "start_time": "2024-12-12T11:03:54.367Z"
   },
   {
    "duration": 3,
    "start_time": "2024-12-12T11:09:30.143Z"
   },
   {
    "duration": 62,
    "start_time": "2024-12-12T11:09:30.149Z"
   },
   {
    "duration": 88,
    "start_time": "2024-12-12T11:09:30.213Z"
   },
   {
    "duration": 14,
    "start_time": "2024-12-12T11:09:30.302Z"
   },
   {
    "duration": 49,
    "start_time": "2024-12-12T11:09:30.317Z"
   },
   {
    "duration": 58,
    "start_time": "2024-12-12T11:09:30.368Z"
   },
   {
    "duration": 112,
    "start_time": "2024-12-12T11:09:30.427Z"
   },
   {
    "duration": 3,
    "start_time": "2024-12-12T11:09:30.541Z"
   },
   {
    "duration": 6,
    "start_time": "2024-12-12T11:09:30.546Z"
   },
   {
    "duration": 6,
    "start_time": "2024-12-12T11:09:30.554Z"
   },
   {
    "duration": 34,
    "start_time": "2024-12-12T11:09:30.562Z"
   },
   {
    "duration": 21,
    "start_time": "2024-12-12T11:09:30.598Z"
   },
   {
    "duration": 15,
    "start_time": "2024-12-12T11:09:30.621Z"
   },
   {
    "duration": 18,
    "start_time": "2024-12-12T11:09:30.638Z"
   },
   {
    "duration": 21,
    "start_time": "2024-12-12T11:09:30.658Z"
   },
   {
    "duration": 20,
    "start_time": "2024-12-12T11:09:30.681Z"
   },
   {
    "duration": 18,
    "start_time": "2024-12-12T11:09:30.703Z"
   },
   {
    "duration": 25,
    "start_time": "2024-12-12T11:09:30.722Z"
   },
   {
    "duration": 44,
    "start_time": "2024-12-12T11:09:30.748Z"
   },
   {
    "duration": 36,
    "start_time": "2024-12-12T11:09:30.793Z"
   },
   {
    "duration": 13,
    "start_time": "2024-12-12T11:09:30.831Z"
   },
   {
    "duration": 8,
    "start_time": "2024-12-12T11:09:30.846Z"
   },
   {
    "duration": 4,
    "start_time": "2024-12-12T11:09:30.856Z"
   },
   {
    "duration": 32,
    "start_time": "2024-12-12T11:09:30.861Z"
   },
   {
    "duration": 7,
    "start_time": "2024-12-12T11:09:30.894Z"
   },
   {
    "duration": 10,
    "start_time": "2024-12-12T11:09:30.903Z"
   },
   {
    "duration": 14,
    "start_time": "2024-12-12T11:09:30.914Z"
   },
   {
    "duration": 22,
    "start_time": "2024-12-12T11:09:30.929Z"
   },
   {
    "duration": 3,
    "start_time": "2024-12-12T11:09:30.954Z"
   },
   {
    "duration": 31,
    "start_time": "2024-12-12T11:09:30.959Z"
   },
   {
    "duration": 30,
    "start_time": "2024-12-12T11:09:30.991Z"
   },
   {
    "duration": 24,
    "start_time": "2024-12-12T11:09:31.023Z"
   },
   {
    "duration": 27,
    "start_time": "2024-12-12T11:09:31.048Z"
   },
   {
    "duration": 36,
    "start_time": "2024-12-12T11:09:31.076Z"
   },
   {
    "duration": 37,
    "start_time": "2024-12-12T11:10:16.393Z"
   },
   {
    "duration": 41,
    "start_time": "2024-12-12T11:11:15.172Z"
   },
   {
    "duration": 126,
    "start_time": "2024-12-12T11:18:00.524Z"
   },
   {
    "duration": 117,
    "start_time": "2024-12-12T11:28:38.172Z"
   },
   {
    "duration": 110,
    "start_time": "2024-12-12T11:34:24.839Z"
   },
   {
    "duration": 115,
    "start_time": "2024-12-12T11:34:32.821Z"
   },
   {
    "duration": 19,
    "start_time": "2024-12-12T11:38:45.053Z"
   },
   {
    "duration": 22,
    "start_time": "2024-12-12T11:39:05.734Z"
   },
   {
    "duration": 383,
    "start_time": "2024-12-12T11:40:46.507Z"
   },
   {
    "duration": 19,
    "start_time": "2024-12-12T11:40:53.731Z"
   },
   {
    "duration": 18,
    "start_time": "2024-12-12T11:45:07.990Z"
   },
   {
    "duration": 19,
    "start_time": "2024-12-12T11:45:15.970Z"
   },
   {
    "duration": 61,
    "start_time": "2024-12-12T11:57:18.657Z"
   },
   {
    "duration": 3,
    "start_time": "2024-12-12T11:57:22.435Z"
   },
   {
    "duration": 28,
    "start_time": "2024-12-12T11:57:22.440Z"
   },
   {
    "duration": 65,
    "start_time": "2024-12-12T11:57:22.470Z"
   },
   {
    "duration": 12,
    "start_time": "2024-12-12T11:57:22.537Z"
   },
   {
    "duration": 29,
    "start_time": "2024-12-12T11:57:22.551Z"
   },
   {
    "duration": 23,
    "start_time": "2024-12-12T11:57:22.581Z"
   },
   {
    "duration": 82,
    "start_time": "2024-12-12T11:57:22.605Z"
   },
   {
    "duration": 3,
    "start_time": "2024-12-12T11:57:22.689Z"
   },
   {
    "duration": 18,
    "start_time": "2024-12-12T11:57:22.693Z"
   },
   {
    "duration": 29,
    "start_time": "2024-12-12T11:57:22.712Z"
   },
   {
    "duration": 19,
    "start_time": "2024-12-12T11:57:22.743Z"
   },
   {
    "duration": 28,
    "start_time": "2024-12-12T11:57:22.763Z"
   },
   {
    "duration": 21,
    "start_time": "2024-12-12T11:57:22.792Z"
   },
   {
    "duration": 17,
    "start_time": "2024-12-12T11:57:22.814Z"
   },
   {
    "duration": 18,
    "start_time": "2024-12-12T11:57:22.832Z"
   },
   {
    "duration": 59,
    "start_time": "2024-12-12T11:57:22.851Z"
   },
   {
    "duration": 45,
    "start_time": "2024-12-12T11:57:22.911Z"
   },
   {
    "duration": 10,
    "start_time": "2024-12-12T11:57:22.958Z"
   },
   {
    "duration": 10,
    "start_time": "2024-12-12T11:57:22.969Z"
   },
   {
    "duration": 57,
    "start_time": "2024-12-12T11:57:22.980Z"
   },
   {
    "duration": 14,
    "start_time": "2024-12-12T11:57:23.039Z"
   },
   {
    "duration": 7,
    "start_time": "2024-12-12T11:57:23.054Z"
   },
   {
    "duration": 4,
    "start_time": "2024-12-12T11:57:23.062Z"
   },
   {
    "duration": 34,
    "start_time": "2024-12-12T11:57:23.067Z"
   },
   {
    "duration": 12,
    "start_time": "2024-12-12T11:57:23.102Z"
   },
   {
    "duration": 15,
    "start_time": "2024-12-12T11:57:23.115Z"
   },
   {
    "duration": 28,
    "start_time": "2024-12-12T11:57:23.131Z"
   },
   {
    "duration": 34,
    "start_time": "2024-12-12T11:57:23.160Z"
   },
   {
    "duration": 19,
    "start_time": "2024-12-12T11:57:23.197Z"
   },
   {
    "duration": 16,
    "start_time": "2024-12-12T11:57:23.217Z"
   },
   {
    "duration": 32,
    "start_time": "2024-12-12T11:57:23.234Z"
   },
   {
    "duration": 43,
    "start_time": "2024-12-12T11:57:23.267Z"
   },
   {
    "duration": 19,
    "start_time": "2024-12-12T11:57:23.311Z"
   },
   {
    "duration": 81,
    "start_time": "2024-12-12T11:57:23.331Z"
   },
   {
    "duration": 43,
    "start_time": "2024-12-12T11:57:23.413Z"
   },
   {
    "duration": 125,
    "start_time": "2024-12-12T11:57:23.458Z"
   },
   {
    "duration": 88,
    "start_time": "2024-12-12T11:57:23.585Z"
   },
   {
    "duration": 11,
    "start_time": "2024-12-12T11:57:23.675Z"
   },
   {
    "duration": 291,
    "start_time": "2024-12-12T11:57:23.687Z"
   },
   {
    "duration": 115,
    "start_time": "2024-12-12T11:57:23.980Z"
   },
   {
    "duration": 22,
    "start_time": "2024-12-12T11:57:24.097Z"
   },
   {
    "duration": 28,
    "start_time": "2024-12-12T11:57:24.120Z"
   },
   {
    "duration": 36,
    "start_time": "2024-12-12T11:57:24.149Z"
   },
   {
    "duration": 30,
    "start_time": "2024-12-12T11:57:24.187Z"
   },
   {
    "duration": 672,
    "start_time": "2024-12-12T11:57:24.218Z"
   },
   {
    "duration": 9,
    "start_time": "2024-12-12T11:57:24.891Z"
   },
   {
    "duration": 9,
    "start_time": "2024-12-12T11:58:13.229Z"
   },
   {
    "duration": 2,
    "start_time": "2024-12-12T11:58:41.139Z"
   },
   {
    "duration": 100,
    "start_time": "2024-12-12T11:59:07.298Z"
   },
   {
    "duration": 93,
    "start_time": "2024-12-12T11:59:14.409Z"
   },
   {
    "duration": 104,
    "start_time": "2024-12-12T11:59:31.068Z"
   },
   {
    "duration": 175,
    "start_time": "2024-12-12T11:59:36.904Z"
   },
   {
    "duration": 11,
    "start_time": "2024-12-12T12:00:11.962Z"
   },
   {
    "duration": 18,
    "start_time": "2024-12-12T12:09:29.850Z"
   },
   {
    "duration": 24,
    "start_time": "2024-12-12T12:09:30.628Z"
   },
   {
    "duration": 3,
    "start_time": "2024-12-12T12:09:37.592Z"
   },
   {
    "duration": 7,
    "start_time": "2024-12-12T12:09:37.596Z"
   },
   {
    "duration": 51,
    "start_time": "2024-12-12T12:09:37.604Z"
   },
   {
    "duration": 13,
    "start_time": "2024-12-12T12:09:37.656Z"
   },
   {
    "duration": 12,
    "start_time": "2024-12-12T12:09:37.671Z"
   },
   {
    "duration": 28,
    "start_time": "2024-12-12T12:09:37.684Z"
   },
   {
    "duration": 41,
    "start_time": "2024-12-12T12:09:37.713Z"
   },
   {
    "duration": 2,
    "start_time": "2024-12-12T12:09:37.756Z"
   },
   {
    "duration": 5,
    "start_time": "2024-12-12T12:09:37.759Z"
   },
   {
    "duration": 5,
    "start_time": "2024-12-12T12:09:37.766Z"
   },
   {
    "duration": 41,
    "start_time": "2024-12-12T12:09:37.772Z"
   },
   {
    "duration": 12,
    "start_time": "2024-12-12T12:09:37.815Z"
   },
   {
    "duration": 4,
    "start_time": "2024-12-12T12:09:37.829Z"
   },
   {
    "duration": 13,
    "start_time": "2024-12-12T12:09:37.835Z"
   },
   {
    "duration": 9,
    "start_time": "2024-12-12T12:09:37.849Z"
   },
   {
    "duration": 9,
    "start_time": "2024-12-12T12:09:37.859Z"
   },
   {
    "duration": 49,
    "start_time": "2024-12-12T12:09:37.870Z"
   },
   {
    "duration": 12,
    "start_time": "2024-12-12T12:09:37.922Z"
   },
   {
    "duration": 13,
    "start_time": "2024-12-12T12:09:37.936Z"
   },
   {
    "duration": 30,
    "start_time": "2024-12-12T12:09:37.951Z"
   },
   {
    "duration": 32,
    "start_time": "2024-12-12T12:09:37.983Z"
   },
   {
    "duration": 8,
    "start_time": "2024-12-12T12:09:38.017Z"
   },
   {
    "duration": 4,
    "start_time": "2024-12-12T12:09:38.026Z"
   },
   {
    "duration": 20,
    "start_time": "2024-12-12T12:09:38.031Z"
   },
   {
    "duration": 8,
    "start_time": "2024-12-12T12:09:38.054Z"
   },
   {
    "duration": 5,
    "start_time": "2024-12-12T12:09:38.063Z"
   },
   {
    "duration": 5,
    "start_time": "2024-12-12T12:09:38.069Z"
   },
   {
    "duration": 38,
    "start_time": "2024-12-12T12:09:38.075Z"
   },
   {
    "duration": 3,
    "start_time": "2024-12-12T12:09:38.115Z"
   },
   {
    "duration": 7,
    "start_time": "2024-12-12T12:09:38.119Z"
   },
   {
    "duration": 31,
    "start_time": "2024-12-12T12:09:38.128Z"
   },
   {
    "duration": 19,
    "start_time": "2024-12-12T12:09:38.160Z"
   },
   {
    "duration": 31,
    "start_time": "2024-12-12T12:09:38.181Z"
   },
   {
    "duration": 19,
    "start_time": "2024-12-12T12:09:38.214Z"
   },
   {
    "duration": 18,
    "start_time": "2024-12-12T12:09:40.562Z"
   },
   {
    "duration": 19,
    "start_time": "2024-12-12T12:09:44.338Z"
   },
   {
    "duration": 21,
    "start_time": "2024-12-12T12:11:37.816Z"
   },
   {
    "duration": 14,
    "start_time": "2024-12-12T12:12:20.332Z"
   },
   {
    "duration": 9,
    "start_time": "2024-12-12T12:12:56.086Z"
   },
   {
    "duration": 13,
    "start_time": "2024-12-12T12:13:06.474Z"
   },
   {
    "duration": 17,
    "start_time": "2024-12-12T12:13:07.340Z"
   },
   {
    "duration": 3,
    "start_time": "2024-12-12T12:13:16.360Z"
   },
   {
    "duration": 7,
    "start_time": "2024-12-12T12:13:16.364Z"
   },
   {
    "duration": 51,
    "start_time": "2024-12-12T12:13:16.372Z"
   },
   {
    "duration": 12,
    "start_time": "2024-12-12T12:13:16.425Z"
   },
   {
    "duration": 5,
    "start_time": "2024-12-12T12:13:16.439Z"
   },
   {
    "duration": 17,
    "start_time": "2024-12-12T12:13:16.445Z"
   },
   {
    "duration": 55,
    "start_time": "2024-12-12T12:13:16.464Z"
   },
   {
    "duration": 2,
    "start_time": "2024-12-12T12:13:16.521Z"
   },
   {
    "duration": 10,
    "start_time": "2024-12-12T12:13:16.525Z"
   },
   {
    "duration": 8,
    "start_time": "2024-12-12T12:13:16.537Z"
   },
   {
    "duration": 15,
    "start_time": "2024-12-12T12:13:16.546Z"
   },
   {
    "duration": 12,
    "start_time": "2024-12-12T12:13:16.562Z"
   },
   {
    "duration": 28,
    "start_time": "2024-12-12T12:13:16.576Z"
   },
   {
    "duration": 12,
    "start_time": "2024-12-12T12:13:16.605Z"
   },
   {
    "duration": 9,
    "start_time": "2024-12-12T12:13:16.619Z"
   },
   {
    "duration": 9,
    "start_time": "2024-12-12T12:13:16.630Z"
   },
   {
    "duration": 13,
    "start_time": "2024-12-12T12:13:16.641Z"
   },
   {
    "duration": 23,
    "start_time": "2024-12-12T12:13:16.656Z"
   },
   {
    "duration": 20,
    "start_time": "2024-12-12T12:13:16.680Z"
   },
   {
    "duration": 20,
    "start_time": "2024-12-12T12:13:16.701Z"
   },
   {
    "duration": 6,
    "start_time": "2024-12-12T12:13:16.723Z"
   },
   {
    "duration": 8,
    "start_time": "2024-12-12T12:13:16.730Z"
   },
   {
    "duration": 7,
    "start_time": "2024-12-12T12:13:16.740Z"
   },
   {
    "duration": 33,
    "start_time": "2024-12-12T12:13:16.748Z"
   },
   {
    "duration": 7,
    "start_time": "2024-12-12T12:13:16.785Z"
   },
   {
    "duration": 21,
    "start_time": "2024-12-12T12:13:16.794Z"
   },
   {
    "duration": 13,
    "start_time": "2024-12-12T12:13:16.816Z"
   },
   {
    "duration": 8,
    "start_time": "2024-12-12T12:13:16.830Z"
   },
   {
    "duration": 4,
    "start_time": "2024-12-12T12:13:16.839Z"
   },
   {
    "duration": 13,
    "start_time": "2024-12-12T12:13:16.844Z"
   },
   {
    "duration": 46,
    "start_time": "2024-12-12T12:13:16.858Z"
   },
   {
    "duration": 17,
    "start_time": "2024-12-12T12:13:16.905Z"
   },
   {
    "duration": 16,
    "start_time": "2024-12-12T12:13:16.923Z"
   },
   {
    "duration": 387,
    "start_time": "2024-12-12T12:13:20.465Z"
   },
   {
    "duration": 14,
    "start_time": "2024-12-12T12:13:29.644Z"
   },
   {
    "duration": 22,
    "start_time": "2024-12-12T12:13:30.305Z"
   },
   {
    "duration": 3,
    "start_time": "2024-12-12T12:13:38.359Z"
   },
   {
    "duration": 21,
    "start_time": "2024-12-12T12:13:38.365Z"
   },
   {
    "duration": 57,
    "start_time": "2024-12-12T12:13:38.387Z"
   },
   {
    "duration": 13,
    "start_time": "2024-12-12T12:13:38.445Z"
   },
   {
    "duration": 4,
    "start_time": "2024-12-12T12:13:38.460Z"
   },
   {
    "duration": 11,
    "start_time": "2024-12-12T12:13:38.465Z"
   },
   {
    "duration": 64,
    "start_time": "2024-12-12T12:13:38.478Z"
   },
   {
    "duration": 3,
    "start_time": "2024-12-12T12:13:38.544Z"
   },
   {
    "duration": 4,
    "start_time": "2024-12-12T12:13:38.549Z"
   },
   {
    "duration": 5,
    "start_time": "2024-12-12T12:13:38.554Z"
   },
   {
    "duration": 22,
    "start_time": "2024-12-12T12:13:38.561Z"
   },
   {
    "duration": 30,
    "start_time": "2024-12-12T12:13:38.585Z"
   },
   {
    "duration": 4,
    "start_time": "2024-12-12T12:13:38.617Z"
   },
   {
    "duration": 14,
    "start_time": "2024-12-12T12:13:38.622Z"
   },
   {
    "duration": 8,
    "start_time": "2024-12-12T12:13:38.638Z"
   },
   {
    "duration": 9,
    "start_time": "2024-12-12T12:13:38.647Z"
   },
   {
    "duration": 12,
    "start_time": "2024-12-12T12:13:38.657Z"
   },
   {
    "duration": 8,
    "start_time": "2024-12-12T12:13:38.670Z"
   },
   {
    "duration": 33,
    "start_time": "2024-12-12T12:13:38.679Z"
   },
   {
    "duration": 16,
    "start_time": "2024-12-12T12:13:38.713Z"
   },
   {
    "duration": 5,
    "start_time": "2024-12-12T12:13:38.731Z"
   },
   {
    "duration": 13,
    "start_time": "2024-12-12T12:13:38.737Z"
   },
   {
    "duration": 25,
    "start_time": "2024-12-12T12:13:38.751Z"
   },
   {
    "duration": 20,
    "start_time": "2024-12-12T12:13:38.777Z"
   },
   {
    "duration": 7,
    "start_time": "2024-12-12T12:13:38.799Z"
   },
   {
    "duration": 4,
    "start_time": "2024-12-12T12:13:38.808Z"
   },
   {
    "duration": 4,
    "start_time": "2024-12-12T12:13:38.814Z"
   },
   {
    "duration": 6,
    "start_time": "2024-12-12T12:13:38.819Z"
   },
   {
    "duration": 4,
    "start_time": "2024-12-12T12:13:38.828Z"
   },
   {
    "duration": 6,
    "start_time": "2024-12-12T12:13:38.833Z"
   },
   {
    "duration": 25,
    "start_time": "2024-12-12T12:13:38.840Z"
   },
   {
    "duration": 17,
    "start_time": "2024-12-12T12:13:38.866Z"
   },
   {
    "duration": 41,
    "start_time": "2024-12-12T12:13:38.885Z"
   },
   {
    "duration": 6,
    "start_time": "2024-12-12T12:13:59.854Z"
   },
   {
    "duration": 15,
    "start_time": "2024-12-12T12:14:00.858Z"
   },
   {
    "duration": 56,
    "start_time": "2024-12-12T12:14:46.275Z"
   },
   {
    "duration": 1514,
    "start_time": "2024-12-12T12:14:56.729Z"
   },
   {
    "duration": 1410,
    "start_time": "2024-12-12T12:15:24.052Z"
   },
   {
    "duration": 3,
    "start_time": "2024-12-12T12:15:42.865Z"
   },
   {
    "duration": 4,
    "start_time": "2024-12-12T12:15:48.429Z"
   },
   {
    "duration": 11,
    "start_time": "2024-12-12T12:15:59.088Z"
   },
   {
    "duration": 14,
    "start_time": "2024-12-12T12:16:27.857Z"
   },
   {
    "duration": 16,
    "start_time": "2024-12-12T12:16:29.704Z"
   },
   {
    "duration": 4,
    "start_time": "2024-12-12T12:16:30.574Z"
   },
   {
    "duration": 1562,
    "start_time": "2024-12-12T12:16:36.740Z"
   },
   {
    "duration": 3,
    "start_time": "2024-12-12T12:16:43.222Z"
   },
   {
    "duration": 3,
    "start_time": "2024-12-12T12:18:10.184Z"
   },
   {
    "duration": 12,
    "start_time": "2024-12-12T12:18:10.189Z"
   },
   {
    "duration": 58,
    "start_time": "2024-12-12T12:18:10.203Z"
   },
   {
    "duration": 13,
    "start_time": "2024-12-12T12:18:10.263Z"
   },
   {
    "duration": 6,
    "start_time": "2024-12-12T12:18:10.278Z"
   },
   {
    "duration": 16,
    "start_time": "2024-12-12T12:18:10.285Z"
   },
   {
    "duration": 41,
    "start_time": "2024-12-12T12:18:10.303Z"
   },
   {
    "duration": 3,
    "start_time": "2024-12-12T12:18:10.345Z"
   },
   {
    "duration": 8,
    "start_time": "2024-12-12T12:18:10.349Z"
   },
   {
    "duration": 17,
    "start_time": "2024-12-12T12:18:10.358Z"
   },
   {
    "duration": 31,
    "start_time": "2024-12-12T12:18:10.377Z"
   },
   {
    "duration": 14,
    "start_time": "2024-12-12T12:18:10.409Z"
   },
   {
    "duration": 5,
    "start_time": "2024-12-12T12:18:10.425Z"
   },
   {
    "duration": 11,
    "start_time": "2024-12-12T12:18:10.431Z"
   },
   {
    "duration": 9,
    "start_time": "2024-12-12T12:18:10.443Z"
   },
   {
    "duration": 12,
    "start_time": "2024-12-12T12:18:10.453Z"
   },
   {
    "duration": 14,
    "start_time": "2024-12-12T12:18:10.467Z"
   },
   {
    "duration": 28,
    "start_time": "2024-12-12T12:18:10.483Z"
   },
   {
    "duration": 9,
    "start_time": "2024-12-12T12:18:10.512Z"
   },
   {
    "duration": 27,
    "start_time": "2024-12-12T12:18:10.522Z"
   },
   {
    "duration": 5,
    "start_time": "2024-12-12T12:18:10.551Z"
   },
   {
    "duration": 29,
    "start_time": "2024-12-12T12:18:10.558Z"
   },
   {
    "duration": 16,
    "start_time": "2024-12-12T12:18:10.588Z"
   },
   {
    "duration": 22,
    "start_time": "2024-12-12T12:18:10.606Z"
   },
   {
    "duration": 17,
    "start_time": "2024-12-12T12:18:10.630Z"
   },
   {
    "duration": 20,
    "start_time": "2024-12-12T12:18:10.649Z"
   },
   {
    "duration": 10,
    "start_time": "2024-12-12T12:18:10.671Z"
   },
   {
    "duration": 24,
    "start_time": "2024-12-12T12:18:10.684Z"
   },
   {
    "duration": 6,
    "start_time": "2024-12-12T12:18:10.711Z"
   },
   {
    "duration": 9,
    "start_time": "2024-12-12T12:18:10.719Z"
   },
   {
    "duration": 24,
    "start_time": "2024-12-12T12:18:10.729Z"
   },
   {
    "duration": 18,
    "start_time": "2024-12-12T12:18:10.754Z"
   },
   {
    "duration": 28,
    "start_time": "2024-12-12T12:18:10.774Z"
   },
   {
    "duration": 20,
    "start_time": "2024-12-12T12:18:10.803Z"
   },
   {
    "duration": 21,
    "start_time": "2024-12-12T12:18:10.825Z"
   },
   {
    "duration": 4,
    "start_time": "2024-12-12T12:18:17.378Z"
   },
   {
    "duration": 3,
    "start_time": "2024-12-12T12:18:23.525Z"
   },
   {
    "duration": 16,
    "start_time": "2024-12-12T12:18:45.832Z"
   },
   {
    "duration": 3,
    "start_time": "2024-12-12T12:18:57.364Z"
   },
   {
    "duration": 6,
    "start_time": "2024-12-12T12:18:57.371Z"
   },
   {
    "duration": 51,
    "start_time": "2024-12-12T12:18:57.379Z"
   },
   {
    "duration": 13,
    "start_time": "2024-12-12T12:18:57.431Z"
   },
   {
    "duration": 16,
    "start_time": "2024-12-12T12:18:57.446Z"
   },
   {
    "duration": 12,
    "start_time": "2024-12-12T12:18:57.463Z"
   },
   {
    "duration": 54,
    "start_time": "2024-12-12T12:18:57.476Z"
   },
   {
    "duration": 3,
    "start_time": "2024-12-12T12:18:57.531Z"
   },
   {
    "duration": 34,
    "start_time": "2024-12-12T12:18:57.535Z"
   },
   {
    "duration": 15,
    "start_time": "2024-12-12T12:18:57.571Z"
   },
   {
    "duration": 15,
    "start_time": "2024-12-12T12:18:57.588Z"
   },
   {
    "duration": 14,
    "start_time": "2024-12-12T12:18:57.604Z"
   },
   {
    "duration": 5,
    "start_time": "2024-12-12T12:18:57.619Z"
   },
   {
    "duration": 45,
    "start_time": "2024-12-12T12:18:57.625Z"
   },
   {
    "duration": 8,
    "start_time": "2024-12-12T12:18:57.672Z"
   },
   {
    "duration": 19,
    "start_time": "2024-12-12T12:18:57.681Z"
   },
   {
    "duration": 11,
    "start_time": "2024-12-12T12:18:57.702Z"
   },
   {
    "duration": 7,
    "start_time": "2024-12-12T12:18:57.715Z"
   },
   {
    "duration": 13,
    "start_time": "2024-12-12T12:18:57.723Z"
   },
   {
    "duration": 24,
    "start_time": "2024-12-12T12:18:57.737Z"
   },
   {
    "duration": 19,
    "start_time": "2024-12-12T12:18:57.763Z"
   },
   {
    "duration": 12,
    "start_time": "2024-12-12T12:18:57.784Z"
   },
   {
    "duration": 4,
    "start_time": "2024-12-12T12:18:57.797Z"
   },
   {
    "duration": 32,
    "start_time": "2024-12-12T12:18:57.802Z"
   },
   {
    "duration": 25,
    "start_time": "2024-12-12T12:18:57.837Z"
   },
   {
    "duration": 19,
    "start_time": "2024-12-12T12:18:57.864Z"
   },
   {
    "duration": 5,
    "start_time": "2024-12-12T12:18:57.885Z"
   },
   {
    "duration": 4,
    "start_time": "2024-12-12T12:18:57.892Z"
   },
   {
    "duration": 11,
    "start_time": "2024-12-12T12:18:57.898Z"
   },
   {
    "duration": 7,
    "start_time": "2024-12-12T12:18:57.912Z"
   },
   {
    "duration": 31,
    "start_time": "2024-12-12T12:18:57.921Z"
   },
   {
    "duration": 28,
    "start_time": "2024-12-12T12:18:57.954Z"
   },
   {
    "duration": 44,
    "start_time": "2024-12-12T12:18:57.983Z"
   },
   {
    "duration": 16,
    "start_time": "2024-12-12T12:19:00.881Z"
   },
   {
    "duration": 19,
    "start_time": "2024-12-12T12:19:27.006Z"
   },
   {
    "duration": 17,
    "start_time": "2024-12-12T12:19:28.010Z"
   },
   {
    "duration": 15,
    "start_time": "2024-12-12T12:19:28.634Z"
   },
   {
    "duration": 15,
    "start_time": "2024-12-12T12:19:34.273Z"
   },
   {
    "duration": 14,
    "start_time": "2024-12-12T12:19:46.933Z"
   },
   {
    "duration": 2,
    "start_time": "2024-12-12T12:19:56.325Z"
   },
   {
    "duration": 14,
    "start_time": "2024-12-12T12:19:56.331Z"
   },
   {
    "duration": 81,
    "start_time": "2024-12-12T12:19:56.347Z"
   },
   {
    "duration": 13,
    "start_time": "2024-12-12T12:19:56.429Z"
   },
   {
    "duration": 35,
    "start_time": "2024-12-12T12:19:56.444Z"
   },
   {
    "duration": 25,
    "start_time": "2024-12-12T12:19:56.481Z"
   },
   {
    "duration": 64,
    "start_time": "2024-12-12T12:19:56.508Z"
   },
   {
    "duration": 4,
    "start_time": "2024-12-12T12:19:56.573Z"
   },
   {
    "duration": 18,
    "start_time": "2024-12-12T12:19:56.578Z"
   },
   {
    "duration": 83,
    "start_time": "2024-12-12T12:19:56.597Z"
   },
   {
    "duration": 31,
    "start_time": "2024-12-12T12:19:56.682Z"
   },
   {
    "duration": 26,
    "start_time": "2024-12-12T12:19:56.714Z"
   },
   {
    "duration": 5,
    "start_time": "2024-12-12T12:19:56.742Z"
   },
   {
    "duration": 40,
    "start_time": "2024-12-12T12:19:56.748Z"
   },
   {
    "duration": 18,
    "start_time": "2024-12-12T12:19:56.789Z"
   },
   {
    "duration": 51,
    "start_time": "2024-12-12T12:19:56.808Z"
   },
   {
    "duration": 28,
    "start_time": "2024-12-12T12:19:56.861Z"
   },
   {
    "duration": 32,
    "start_time": "2024-12-12T12:19:56.890Z"
   },
   {
    "duration": 17,
    "start_time": "2024-12-12T12:19:56.924Z"
   },
   {
    "duration": 35,
    "start_time": "2024-12-12T12:19:56.943Z"
   },
   {
    "duration": 5,
    "start_time": "2024-12-12T12:19:56.980Z"
   },
   {
    "duration": 33,
    "start_time": "2024-12-12T12:19:56.987Z"
   },
   {
    "duration": 14,
    "start_time": "2024-12-12T12:19:57.022Z"
   },
   {
    "duration": 36,
    "start_time": "2024-12-12T12:19:57.038Z"
   },
   {
    "duration": 8,
    "start_time": "2024-12-12T12:19:57.076Z"
   },
   {
    "duration": 23,
    "start_time": "2024-12-12T12:19:57.085Z"
   },
   {
    "duration": 39,
    "start_time": "2024-12-12T12:19:57.110Z"
   },
   {
    "duration": 15,
    "start_time": "2024-12-12T12:19:57.150Z"
   },
   {
    "duration": 34,
    "start_time": "2024-12-12T12:19:57.168Z"
   },
   {
    "duration": 7,
    "start_time": "2024-12-12T12:19:57.203Z"
   },
   {
    "duration": 42,
    "start_time": "2024-12-12T12:19:57.211Z"
   },
   {
    "duration": 21,
    "start_time": "2024-12-12T12:19:57.255Z"
   },
   {
    "duration": 16,
    "start_time": "2024-12-12T12:19:57.277Z"
   },
   {
    "duration": 25,
    "start_time": "2024-12-12T12:19:57.294Z"
   },
   {
    "duration": 32,
    "start_time": "2024-12-12T12:19:57.320Z"
   },
   {
    "duration": 14,
    "start_time": "2024-12-12T12:19:57.353Z"
   },
   {
    "duration": 15,
    "start_time": "2024-12-12T12:19:57.368Z"
   },
   {
    "duration": 3,
    "start_time": "2024-12-12T12:20:40.538Z"
   },
   {
    "duration": 6,
    "start_time": "2024-12-12T12:20:40.543Z"
   },
   {
    "duration": 49,
    "start_time": "2024-12-12T12:20:40.551Z"
   },
   {
    "duration": 20,
    "start_time": "2024-12-12T12:20:40.601Z"
   },
   {
    "duration": 13,
    "start_time": "2024-12-12T12:20:40.628Z"
   },
   {
    "duration": 30,
    "start_time": "2024-12-12T12:20:40.642Z"
   },
   {
    "duration": 55,
    "start_time": "2024-12-12T12:20:40.673Z"
   },
   {
    "duration": 4,
    "start_time": "2024-12-12T12:20:40.729Z"
   },
   {
    "duration": 11,
    "start_time": "2024-12-12T12:20:40.735Z"
   },
   {
    "duration": 8,
    "start_time": "2024-12-12T12:20:40.748Z"
   },
   {
    "duration": 18,
    "start_time": "2024-12-12T12:20:40.758Z"
   },
   {
    "duration": 12,
    "start_time": "2024-12-12T12:20:40.777Z"
   },
   {
    "duration": 23,
    "start_time": "2024-12-12T12:20:40.790Z"
   },
   {
    "duration": 12,
    "start_time": "2024-12-12T12:20:40.814Z"
   },
   {
    "duration": 9,
    "start_time": "2024-12-12T12:20:40.828Z"
   },
   {
    "duration": 10,
    "start_time": "2024-12-12T12:20:40.839Z"
   },
   {
    "duration": 13,
    "start_time": "2024-12-12T12:20:40.851Z"
   },
   {
    "duration": 50,
    "start_time": "2024-12-12T12:20:40.865Z"
   },
   {
    "duration": 10,
    "start_time": "2024-12-12T12:20:40.916Z"
   },
   {
    "duration": 17,
    "start_time": "2024-12-12T12:20:40.927Z"
   },
   {
    "duration": 5,
    "start_time": "2024-12-12T12:20:40.945Z"
   },
   {
    "duration": 18,
    "start_time": "2024-12-12T12:20:40.952Z"
   },
   {
    "duration": 10,
    "start_time": "2024-12-12T12:20:40.971Z"
   },
   {
    "duration": 37,
    "start_time": "2024-12-12T12:20:40.982Z"
   },
   {
    "duration": 8,
    "start_time": "2024-12-12T12:20:41.022Z"
   },
   {
    "duration": 7,
    "start_time": "2024-12-12T12:20:41.032Z"
   },
   {
    "duration": 6,
    "start_time": "2024-12-12T12:20:41.040Z"
   },
   {
    "duration": 24,
    "start_time": "2024-12-12T12:20:41.048Z"
   },
   {
    "duration": 16,
    "start_time": "2024-12-12T12:20:41.073Z"
   },
   {
    "duration": 10,
    "start_time": "2024-12-12T12:20:41.090Z"
   },
   {
    "duration": 24,
    "start_time": "2024-12-12T12:20:41.101Z"
   },
   {
    "duration": 20,
    "start_time": "2024-12-12T12:20:41.127Z"
   },
   {
    "duration": 23,
    "start_time": "2024-12-12T12:20:41.149Z"
   },
   {
    "duration": 21,
    "start_time": "2024-12-12T12:20:41.173Z"
   },
   {
    "duration": 29,
    "start_time": "2024-12-12T12:20:41.195Z"
   },
   {
    "duration": 14,
    "start_time": "2024-12-12T12:20:41.225Z"
   },
   {
    "duration": 16,
    "start_time": "2024-12-12T12:20:41.240Z"
   },
   {
    "duration": 3,
    "start_time": "2024-12-12T12:26:01.599Z"
   },
   {
    "duration": 12,
    "start_time": "2024-12-12T12:26:01.604Z"
   },
   {
    "duration": 79,
    "start_time": "2024-12-12T12:26:01.618Z"
   },
   {
    "duration": 13,
    "start_time": "2024-12-12T12:26:01.699Z"
   },
   {
    "duration": 28,
    "start_time": "2024-12-12T12:26:01.713Z"
   },
   {
    "duration": 48,
    "start_time": "2024-12-12T12:26:01.743Z"
   },
   {
    "duration": 66,
    "start_time": "2024-12-12T12:26:01.792Z"
   },
   {
    "duration": 3,
    "start_time": "2024-12-12T12:26:01.859Z"
   },
   {
    "duration": 43,
    "start_time": "2024-12-12T12:26:01.864Z"
   },
   {
    "duration": 58,
    "start_time": "2024-12-12T12:26:01.908Z"
   },
   {
    "duration": 48,
    "start_time": "2024-12-12T12:26:01.968Z"
   },
   {
    "duration": 43,
    "start_time": "2024-12-12T12:26:02.018Z"
   },
   {
    "duration": 47,
    "start_time": "2024-12-12T12:26:02.062Z"
   },
   {
    "duration": 55,
    "start_time": "2024-12-12T12:26:02.111Z"
   },
   {
    "duration": 17,
    "start_time": "2024-12-12T12:26:02.168Z"
   },
   {
    "duration": 36,
    "start_time": "2024-12-12T12:26:02.186Z"
   },
   {
    "duration": 49,
    "start_time": "2024-12-12T12:26:02.223Z"
   },
   {
    "duration": 59,
    "start_time": "2024-12-12T12:26:02.274Z"
   },
   {
    "duration": 64,
    "start_time": "2024-12-12T12:26:02.335Z"
   },
   {
    "duration": 105,
    "start_time": "2024-12-12T12:26:02.400Z"
   },
   {
    "duration": 53,
    "start_time": "2024-12-12T12:26:02.507Z"
   },
   {
    "duration": 49,
    "start_time": "2024-12-12T12:26:02.562Z"
   },
   {
    "duration": 98,
    "start_time": "2024-12-12T12:26:02.612Z"
   },
   {
    "duration": 69,
    "start_time": "2024-12-12T12:26:02.712Z"
   },
   {
    "duration": 9,
    "start_time": "2024-12-12T12:26:02.782Z"
   },
   {
    "duration": 46,
    "start_time": "2024-12-12T12:26:02.792Z"
   },
   {
    "duration": 50,
    "start_time": "2024-12-12T12:26:02.840Z"
   },
   {
    "duration": 36,
    "start_time": "2024-12-12T12:26:02.892Z"
   },
   {
    "duration": 36,
    "start_time": "2024-12-12T12:26:02.930Z"
   },
   {
    "duration": 53,
    "start_time": "2024-12-12T12:26:02.967Z"
   },
   {
    "duration": 46,
    "start_time": "2024-12-12T12:26:03.021Z"
   },
   {
    "duration": 22,
    "start_time": "2024-12-12T12:26:03.068Z"
   },
   {
    "duration": 17,
    "start_time": "2024-12-12T12:26:09.308Z"
   },
   {
    "duration": 17,
    "start_time": "2024-12-12T12:26:14.893Z"
   },
   {
    "duration": 18,
    "start_time": "2024-12-12T12:26:27.368Z"
   },
   {
    "duration": 17,
    "start_time": "2024-12-12T12:26:37.298Z"
   },
   {
    "duration": 19,
    "start_time": "2024-12-12T12:26:37.949Z"
   },
   {
    "duration": 15,
    "start_time": "2024-12-12T12:26:40.057Z"
   },
   {
    "duration": 50,
    "start_time": "2024-12-12T12:29:09.733Z"
   },
   {
    "duration": 108,
    "start_time": "2024-12-12T12:29:46.644Z"
   },
   {
    "duration": 10,
    "start_time": "2024-12-12T12:30:37.675Z"
   },
   {
    "duration": 48,
    "start_time": "2024-12-12T12:44:04.577Z"
   },
   {
    "duration": 6,
    "start_time": "2024-12-12T12:44:13.145Z"
   },
   {
    "duration": 6,
    "start_time": "2024-12-12T12:44:21.969Z"
   },
   {
    "duration": 1144,
    "start_time": "2024-12-12T12:45:51.216Z"
   },
   {
    "duration": 6,
    "start_time": "2024-12-12T12:46:57.180Z"
   },
   {
    "duration": 6,
    "start_time": "2024-12-12T12:47:00.430Z"
   },
   {
    "duration": 6,
    "start_time": "2024-12-12T12:47:02.241Z"
   },
   {
    "duration": 965,
    "start_time": "2024-12-12T12:47:05.514Z"
   },
   {
    "duration": 123,
    "start_time": "2024-12-12T12:47:17.490Z"
   },
   {
    "duration": 3,
    "start_time": "2024-12-12T12:47:47.468Z"
   },
   {
    "duration": 4,
    "start_time": "2024-12-12T12:47:59.108Z"
   },
   {
    "duration": 24,
    "start_time": "2024-12-12T12:48:10.725Z"
   },
   {
    "duration": 28,
    "start_time": "2024-12-12T12:48:34.698Z"
   },
   {
    "duration": 51,
    "start_time": "2024-12-12T12:58:30.984Z"
   },
   {
    "duration": 10,
    "start_time": "2024-12-12T12:58:44.146Z"
   },
   {
    "duration": 880,
    "start_time": "2024-12-12T12:59:19.956Z"
   },
   {
    "duration": 11,
    "start_time": "2024-12-12T13:02:06.605Z"
   },
   {
    "duration": 923,
    "start_time": "2024-12-12T13:02:28.130Z"
   },
   {
    "duration": 401,
    "start_time": "2024-12-12T13:03:52.253Z"
   },
   {
    "duration": 223,
    "start_time": "2024-12-12T13:04:38.793Z"
   },
   {
    "duration": 10,
    "start_time": "2024-12-12T13:08:50.140Z"
   },
   {
    "duration": 9,
    "start_time": "2024-12-12T13:08:55.966Z"
   },
   {
    "duration": 207,
    "start_time": "2024-12-12T13:09:02.399Z"
   },
   {
    "duration": 341,
    "start_time": "2024-12-12T13:10:01.383Z"
   },
   {
    "duration": 213,
    "start_time": "2024-12-12T13:10:14.800Z"
   },
   {
    "duration": 212,
    "start_time": "2024-12-12T13:11:01.532Z"
   },
   {
    "duration": 210,
    "start_time": "2024-12-12T13:11:08.980Z"
   },
   {
    "duration": 224,
    "start_time": "2024-12-12T13:11:43.019Z"
   },
   {
    "duration": 286,
    "start_time": "2024-12-12T13:11:47.457Z"
   },
   {
    "duration": 219,
    "start_time": "2024-12-12T13:12:04.671Z"
   },
   {
    "duration": 216,
    "start_time": "2024-12-12T13:13:06.056Z"
   },
   {
    "duration": 220,
    "start_time": "2024-12-12T13:13:07.320Z"
   },
   {
    "duration": 29,
    "start_time": "2024-12-12T13:13:28.901Z"
   },
   {
    "duration": 8,
    "start_time": "2024-12-12T13:24:14.929Z"
   },
   {
    "duration": 4,
    "start_time": "2024-12-12T13:24:18.082Z"
   },
   {
    "duration": 5,
    "start_time": "2024-12-12T13:24:30.828Z"
   },
   {
    "duration": 7,
    "start_time": "2024-12-12T13:47:30.909Z"
   },
   {
    "duration": 3,
    "start_time": "2024-12-12T13:47:36.838Z"
   },
   {
    "duration": 17,
    "start_time": "2024-12-12T13:47:36.842Z"
   },
   {
    "duration": 52,
    "start_time": "2024-12-12T13:47:36.860Z"
   },
   {
    "duration": 13,
    "start_time": "2024-12-12T13:47:36.913Z"
   },
   {
    "duration": 5,
    "start_time": "2024-12-12T13:47:36.927Z"
   },
   {
    "duration": 13,
    "start_time": "2024-12-12T13:47:36.933Z"
   },
   {
    "duration": 41,
    "start_time": "2024-12-12T13:47:36.947Z"
   },
   {
    "duration": 4,
    "start_time": "2024-12-12T13:47:36.989Z"
   },
   {
    "duration": 3,
    "start_time": "2024-12-12T13:47:37.011Z"
   },
   {
    "duration": 32,
    "start_time": "2024-12-12T13:47:37.015Z"
   },
   {
    "duration": 24,
    "start_time": "2024-12-12T13:47:37.049Z"
   },
   {
    "duration": 12,
    "start_time": "2024-12-12T13:47:37.074Z"
   },
   {
    "duration": 5,
    "start_time": "2024-12-12T13:47:37.087Z"
   },
   {
    "duration": 38,
    "start_time": "2024-12-12T13:47:37.093Z"
   },
   {
    "duration": 9,
    "start_time": "2024-12-12T13:47:37.132Z"
   },
   {
    "duration": 16,
    "start_time": "2024-12-12T13:47:37.142Z"
   },
   {
    "duration": 19,
    "start_time": "2024-12-12T13:47:37.159Z"
   },
   {
    "duration": 14,
    "start_time": "2024-12-12T13:47:37.179Z"
   },
   {
    "duration": 10,
    "start_time": "2024-12-12T13:47:37.195Z"
   },
   {
    "duration": 22,
    "start_time": "2024-12-12T13:47:37.206Z"
   },
   {
    "duration": 6,
    "start_time": "2024-12-12T13:47:37.230Z"
   },
   {
    "duration": 7,
    "start_time": "2024-12-12T13:47:37.237Z"
   },
   {
    "duration": 18,
    "start_time": "2024-12-12T13:47:37.246Z"
   },
   {
    "duration": 20,
    "start_time": "2024-12-12T13:47:37.266Z"
   },
   {
    "duration": 7,
    "start_time": "2024-12-12T13:47:37.287Z"
   },
   {
    "duration": 17,
    "start_time": "2024-12-12T13:47:37.295Z"
   },
   {
    "duration": 4,
    "start_time": "2024-12-12T13:47:37.313Z"
   },
   {
    "duration": 4,
    "start_time": "2024-12-12T13:47:37.320Z"
   },
   {
    "duration": 4,
    "start_time": "2024-12-12T13:47:37.326Z"
   },
   {
    "duration": 7,
    "start_time": "2024-12-12T13:47:37.331Z"
   },
   {
    "duration": 34,
    "start_time": "2024-12-12T13:47:37.339Z"
   },
   {
    "duration": 17,
    "start_time": "2024-12-12T13:47:37.374Z"
   },
   {
    "duration": 29,
    "start_time": "2024-12-12T13:47:37.392Z"
   },
   {
    "duration": 14,
    "start_time": "2024-12-12T13:47:37.422Z"
   },
   {
    "duration": 13,
    "start_time": "2024-12-12T13:47:37.438Z"
   },
   {
    "duration": 14,
    "start_time": "2024-12-12T13:47:37.453Z"
   },
   {
    "duration": 88,
    "start_time": "2024-12-12T13:47:37.469Z"
   },
   {
    "duration": 13,
    "start_time": "2024-12-12T13:47:37.559Z"
   },
   {
    "duration": 293,
    "start_time": "2024-12-12T13:47:37.573Z"
   },
   {
    "duration": 149,
    "start_time": "2024-12-12T13:47:37.867Z"
   },
   {
    "duration": 10,
    "start_time": "2024-12-12T13:47:38.018Z"
   },
   {
    "duration": 8,
    "start_time": "2024-12-12T13:47:38.029Z"
   },
   {
    "duration": 6,
    "start_time": "2024-12-12T13:47:38.038Z"
   },
   {
    "duration": 18,
    "start_time": "2024-12-12T13:47:38.045Z"
   },
   {
    "duration": 778,
    "start_time": "2024-12-12T13:47:38.064Z"
   },
   {
    "duration": 10,
    "start_time": "2024-12-12T13:47:38.843Z"
   },
   {
    "duration": 25,
    "start_time": "2024-12-12T13:47:38.855Z"
   },
   {
    "duration": 30,
    "start_time": "2024-12-12T13:47:38.881Z"
   },
   {
    "duration": 7,
    "start_time": "2024-12-12T13:47:38.913Z"
   },
   {
    "duration": 1054,
    "start_time": "2024-12-12T13:47:38.921Z"
   },
   {
    "duration": 37,
    "start_time": "2024-12-12T13:47:39.976Z"
   },
   {
    "duration": 229,
    "start_time": "2024-12-12T13:47:40.015Z"
   },
   {
    "duration": 225,
    "start_time": "2024-12-12T13:47:40.246Z"
   },
   {
    "duration": 39,
    "start_time": "2024-12-12T13:47:40.473Z"
   },
   {
    "duration": 5,
    "start_time": "2024-12-12T13:47:40.514Z"
   },
   {
    "duration": 13,
    "start_time": "2024-12-12T13:47:40.520Z"
   },
   {
    "duration": 6,
    "start_time": "2024-12-12T13:47:40.534Z"
   },
   {
    "duration": 133,
    "start_time": "2024-12-12T13:47:40.541Z"
   },
   {
    "duration": 136,
    "start_time": "2024-12-12T13:47:40.675Z"
   },
   {
    "duration": 11,
    "start_time": "2024-12-12T13:47:40.812Z"
   },
   {
    "duration": 6,
    "start_time": "2024-12-12T13:47:43.320Z"
   },
   {
    "duration": 3,
    "start_time": "2024-12-12T13:48:51.070Z"
   },
   {
    "duration": 28,
    "start_time": "2024-12-12T13:48:51.076Z"
   },
   {
    "duration": 52,
    "start_time": "2024-12-12T13:48:51.106Z"
   },
   {
    "duration": 14,
    "start_time": "2024-12-12T13:48:51.160Z"
   },
   {
    "duration": 6,
    "start_time": "2024-12-12T13:48:51.176Z"
   },
   {
    "duration": 25,
    "start_time": "2024-12-12T13:48:51.184Z"
   },
   {
    "duration": 50,
    "start_time": "2024-12-12T13:48:51.210Z"
   },
   {
    "duration": 3,
    "start_time": "2024-12-12T13:48:51.261Z"
   },
   {
    "duration": 13,
    "start_time": "2024-12-12T13:48:51.265Z"
   },
   {
    "duration": 7,
    "start_time": "2024-12-12T13:48:51.279Z"
   },
   {
    "duration": 22,
    "start_time": "2024-12-12T13:48:51.289Z"
   },
   {
    "duration": 12,
    "start_time": "2024-12-12T13:48:51.312Z"
   },
   {
    "duration": 21,
    "start_time": "2024-12-12T13:48:51.326Z"
   },
   {
    "duration": 12,
    "start_time": "2024-12-12T13:48:51.348Z"
   },
   {
    "duration": 9,
    "start_time": "2024-12-12T13:48:51.362Z"
   },
   {
    "duration": 9,
    "start_time": "2024-12-12T13:48:51.372Z"
   },
   {
    "duration": 31,
    "start_time": "2024-12-12T13:48:51.383Z"
   },
   {
    "duration": 7,
    "start_time": "2024-12-12T13:48:51.415Z"
   },
   {
    "duration": 19,
    "start_time": "2024-12-12T13:48:51.423Z"
   },
   {
    "duration": 24,
    "start_time": "2024-12-12T13:48:51.443Z"
   },
   {
    "duration": 5,
    "start_time": "2024-12-12T13:48:51.468Z"
   },
   {
    "duration": 9,
    "start_time": "2024-12-12T13:48:51.474Z"
   },
   {
    "duration": 4,
    "start_time": "2024-12-12T13:48:51.484Z"
   },
   {
    "duration": 36,
    "start_time": "2024-12-12T13:48:51.489Z"
   },
   {
    "duration": 20,
    "start_time": "2024-12-12T13:48:51.526Z"
   },
   {
    "duration": 6,
    "start_time": "2024-12-12T13:48:51.547Z"
   },
   {
    "duration": 22,
    "start_time": "2024-12-12T13:48:51.554Z"
   },
   {
    "duration": 7,
    "start_time": "2024-12-12T13:48:51.577Z"
   },
   {
    "duration": 4,
    "start_time": "2024-12-12T13:48:51.588Z"
   },
   {
    "duration": 5,
    "start_time": "2024-12-12T13:48:51.593Z"
   },
   {
    "duration": 21,
    "start_time": "2024-12-12T13:48:51.600Z"
   },
   {
    "duration": 38,
    "start_time": "2024-12-12T13:48:51.622Z"
   },
   {
    "duration": 21,
    "start_time": "2024-12-12T13:48:51.662Z"
   },
   {
    "duration": 13,
    "start_time": "2024-12-12T13:48:51.685Z"
   },
   {
    "duration": 18,
    "start_time": "2024-12-12T13:48:51.700Z"
   },
   {
    "duration": 14,
    "start_time": "2024-12-12T13:48:51.719Z"
   },
   {
    "duration": 84,
    "start_time": "2024-12-12T13:48:51.735Z"
   },
   {
    "duration": 12,
    "start_time": "2024-12-12T13:48:51.821Z"
   },
   {
    "duration": 279,
    "start_time": "2024-12-12T13:48:51.834Z"
   },
   {
    "duration": 114,
    "start_time": "2024-12-12T13:48:52.114Z"
   },
   {
    "duration": 9,
    "start_time": "2024-12-12T13:48:52.229Z"
   },
   {
    "duration": 10,
    "start_time": "2024-12-12T13:48:52.240Z"
   },
   {
    "duration": 12,
    "start_time": "2024-12-12T13:48:52.252Z"
   },
   {
    "duration": 33,
    "start_time": "2024-12-12T13:48:52.265Z"
   },
   {
    "duration": 739,
    "start_time": "2024-12-12T13:48:52.300Z"
   },
   {
    "duration": 9,
    "start_time": "2024-12-12T13:48:53.040Z"
   },
   {
    "duration": 57,
    "start_time": "2024-12-12T13:48:53.050Z"
   },
   {
    "duration": 5,
    "start_time": "2024-12-12T13:48:53.108Z"
   },
   {
    "duration": 27,
    "start_time": "2024-12-12T13:48:53.114Z"
   },
   {
    "duration": 1037,
    "start_time": "2024-12-12T13:48:53.142Z"
   },
   {
    "duration": 21,
    "start_time": "2024-12-12T13:48:54.180Z"
   },
   {
    "duration": 215,
    "start_time": "2024-12-12T13:48:54.210Z"
   },
   {
    "duration": 228,
    "start_time": "2024-12-12T13:48:54.426Z"
   },
   {
    "duration": 28,
    "start_time": "2024-12-12T13:48:54.655Z"
   },
   {
    "duration": 6,
    "start_time": "2024-12-12T13:48:54.684Z"
   },
   {
    "duration": 23,
    "start_time": "2024-12-12T13:48:54.691Z"
   },
   {
    "duration": 54,
    "start_time": "2024-12-12T13:48:54.716Z"
   },
   {
    "duration": 123,
    "start_time": "2024-12-12T13:48:54.771Z"
   },
   {
    "duration": 133,
    "start_time": "2024-12-12T13:48:54.895Z"
   },
   {
    "duration": 11,
    "start_time": "2024-12-12T13:48:55.029Z"
   },
   {
    "duration": 56,
    "start_time": "2024-12-12T13:48:55.042Z"
   },
   {
    "duration": 6,
    "start_time": "2024-12-12T13:48:58.339Z"
   },
   {
    "duration": 345,
    "start_time": "2024-12-12T14:45:26.605Z"
   },
   {
    "duration": 114,
    "start_time": "2024-12-12T14:45:54.964Z"
   },
   {
    "duration": 348,
    "start_time": "2024-12-12T14:46:02.468Z"
   },
   {
    "duration": 461,
    "start_time": "2024-12-12T14:46:33.974Z"
   },
   {
    "duration": 374,
    "start_time": "2024-12-12T14:46:44.050Z"
   },
   {
    "duration": 343,
    "start_time": "2024-12-12T14:46:48.304Z"
   },
   {
    "duration": 355,
    "start_time": "2024-12-12T14:47:23.616Z"
   },
   {
    "duration": 346,
    "start_time": "2024-12-12T14:48:53.836Z"
   },
   {
    "duration": 358,
    "start_time": "2024-12-12T14:49:04.310Z"
   },
   {
    "duration": 4,
    "start_time": "2024-12-12T14:49:17.226Z"
   },
   {
    "duration": 11,
    "start_time": "2024-12-12T14:49:17.232Z"
   },
   {
    "duration": 55,
    "start_time": "2024-12-12T14:49:17.245Z"
   },
   {
    "duration": 14,
    "start_time": "2024-12-12T14:49:17.301Z"
   },
   {
    "duration": 23,
    "start_time": "2024-12-12T14:49:17.319Z"
   },
   {
    "duration": 44,
    "start_time": "2024-12-12T14:49:17.343Z"
   },
   {
    "duration": 43,
    "start_time": "2024-12-12T14:49:17.388Z"
   },
   {
    "duration": 4,
    "start_time": "2024-12-12T14:49:17.433Z"
   },
   {
    "duration": 19,
    "start_time": "2024-12-12T14:49:17.439Z"
   },
   {
    "duration": 12,
    "start_time": "2024-12-12T14:49:17.460Z"
   },
   {
    "duration": 34,
    "start_time": "2024-12-12T14:49:17.475Z"
   },
   {
    "duration": 12,
    "start_time": "2024-12-12T14:49:17.510Z"
   },
   {
    "duration": 14,
    "start_time": "2024-12-12T14:49:17.523Z"
   },
   {
    "duration": 15,
    "start_time": "2024-12-12T14:49:17.539Z"
   },
   {
    "duration": 37,
    "start_time": "2024-12-12T14:49:17.555Z"
   },
   {
    "duration": 13,
    "start_time": "2024-12-12T14:49:17.593Z"
   },
   {
    "duration": 12,
    "start_time": "2024-12-12T14:49:17.607Z"
   },
   {
    "duration": 9,
    "start_time": "2024-12-12T14:49:17.620Z"
   },
   {
    "duration": 14,
    "start_time": "2024-12-12T14:49:17.631Z"
   },
   {
    "duration": 17,
    "start_time": "2024-12-12T14:49:17.646Z"
   },
   {
    "duration": 6,
    "start_time": "2024-12-12T14:49:17.664Z"
   },
   {
    "duration": 6,
    "start_time": "2024-12-12T14:49:17.672Z"
   },
   {
    "duration": 7,
    "start_time": "2024-12-12T14:49:17.679Z"
   },
   {
    "duration": 42,
    "start_time": "2024-12-12T14:49:17.687Z"
   },
   {
    "duration": 9,
    "start_time": "2024-12-12T14:49:17.730Z"
   },
   {
    "duration": 7,
    "start_time": "2024-12-12T14:49:17.740Z"
   },
   {
    "duration": 4,
    "start_time": "2024-12-12T14:49:17.749Z"
   },
   {
    "duration": 6,
    "start_time": "2024-12-12T14:49:17.755Z"
   },
   {
    "duration": 9,
    "start_time": "2024-12-12T14:49:17.764Z"
   },
   {
    "duration": 7,
    "start_time": "2024-12-12T14:49:17.774Z"
   },
   {
    "duration": 46,
    "start_time": "2024-12-12T14:49:17.783Z"
   },
   {
    "duration": 20,
    "start_time": "2024-12-12T14:49:17.831Z"
   },
   {
    "duration": 22,
    "start_time": "2024-12-12T14:49:17.852Z"
   },
   {
    "duration": 39,
    "start_time": "2024-12-12T14:49:17.877Z"
   },
   {
    "duration": 29,
    "start_time": "2024-12-12T14:49:17.918Z"
   },
   {
    "duration": 31,
    "start_time": "2024-12-12T14:49:17.949Z"
   },
   {
    "duration": 94,
    "start_time": "2024-12-12T14:49:17.982Z"
   },
   {
    "duration": 13,
    "start_time": "2024-12-12T14:49:18.077Z"
   },
   {
    "duration": 300,
    "start_time": "2024-12-12T14:49:18.093Z"
   },
   {
    "duration": 118,
    "start_time": "2024-12-12T14:49:18.395Z"
   },
   {
    "duration": 9,
    "start_time": "2024-12-12T14:49:18.515Z"
   },
   {
    "duration": 14,
    "start_time": "2024-12-12T14:49:18.525Z"
   },
   {
    "duration": 11,
    "start_time": "2024-12-12T14:49:18.540Z"
   },
   {
    "duration": 50,
    "start_time": "2024-12-12T14:49:18.552Z"
   },
   {
    "duration": 791,
    "start_time": "2024-12-12T14:49:18.603Z"
   },
   {
    "duration": 16,
    "start_time": "2024-12-12T14:49:19.396Z"
   },
   {
    "duration": 25,
    "start_time": "2024-12-12T14:49:19.413Z"
   },
   {
    "duration": 6,
    "start_time": "2024-12-12T14:49:19.439Z"
   },
   {
    "duration": 6,
    "start_time": "2024-12-12T14:49:19.446Z"
   },
   {
    "duration": 978,
    "start_time": "2024-12-12T14:49:19.454Z"
   },
   {
    "duration": 23,
    "start_time": "2024-12-12T14:49:20.434Z"
   },
   {
    "duration": 331,
    "start_time": "2024-12-12T14:49:20.459Z"
   },
   {
    "duration": 221,
    "start_time": "2024-12-12T14:49:20.792Z"
   },
   {
    "duration": 28,
    "start_time": "2024-12-12T14:49:21.015Z"
   },
   {
    "duration": 5,
    "start_time": "2024-12-12T14:49:21.044Z"
   },
   {
    "duration": 5,
    "start_time": "2024-12-12T14:49:21.051Z"
   },
   {
    "duration": 5,
    "start_time": "2024-12-12T14:49:21.058Z"
   },
   {
    "duration": 155,
    "start_time": "2024-12-12T14:49:21.064Z"
   },
   {
    "duration": 136,
    "start_time": "2024-12-12T14:49:21.221Z"
   },
   {
    "duration": 12,
    "start_time": "2024-12-12T14:49:21.359Z"
   },
   {
    "duration": 11,
    "start_time": "2024-12-12T14:49:21.373Z"
   },
   {
    "duration": 353,
    "start_time": "2024-12-12T14:49:24.877Z"
   },
   {
    "duration": 345,
    "start_time": "2024-12-12T14:49:58.768Z"
   },
   {
    "duration": 347,
    "start_time": "2024-12-12T14:50:12.012Z"
   },
   {
    "duration": 350,
    "start_time": "2024-12-12T14:50:28.847Z"
   },
   {
    "duration": 368,
    "start_time": "2024-12-12T14:50:47.361Z"
   },
   {
    "duration": 464,
    "start_time": "2024-12-12T14:51:36.269Z"
   },
   {
    "duration": 98,
    "start_time": "2024-12-12T14:53:24.564Z"
   },
   {
    "duration": 21,
    "start_time": "2024-12-12T14:53:37.626Z"
   },
   {
    "duration": 6,
    "start_time": "2024-12-12T14:53:46.389Z"
   },
   {
    "duration": 953,
    "start_time": "2024-12-12T14:53:51.108Z"
   },
   {
    "duration": 23,
    "start_time": "2024-12-12T14:53:56.610Z"
   },
   {
    "duration": 44,
    "start_time": "2024-12-12T14:54:20.985Z"
   },
   {
    "duration": 5,
    "start_time": "2024-12-12T14:54:24.558Z"
   },
   {
    "duration": 4,
    "start_time": "2024-12-12T14:54:30.442Z"
   },
   {
    "duration": 28,
    "start_time": "2024-12-12T14:54:42.128Z"
   },
   {
    "duration": 211,
    "start_time": "2024-12-12T14:54:52.753Z"
   },
   {
    "duration": 317,
    "start_time": "2024-12-12T14:54:57.364Z"
   },
   {
    "duration": 6,
    "start_time": "2024-12-12T14:55:17.941Z"
   },
   {
    "duration": 7,
    "start_time": "2024-12-12T14:55:18.529Z"
   },
   {
    "duration": 116,
    "start_time": "2024-12-12T14:55:34.752Z"
   },
   {
    "duration": 372,
    "start_time": "2024-12-12T14:55:50.243Z"
   },
   {
    "duration": 41,
    "start_time": "2024-12-12T14:56:09.663Z"
   },
   {
    "duration": 5,
    "start_time": "2024-12-12T14:56:15.711Z"
   },
   {
    "duration": 410,
    "start_time": "2024-12-12T14:56:29.459Z"
   },
   {
    "duration": 404,
    "start_time": "2024-12-12T14:57:49.475Z"
   },
   {
    "duration": 6,
    "start_time": "2024-12-12T14:59:28.352Z"
   },
   {
    "duration": 1166,
    "start_time": "2024-12-12T14:59:42.708Z"
   },
   {
    "duration": 27,
    "start_time": "2024-12-12T14:59:47.293Z"
   },
   {
    "duration": 230,
    "start_time": "2024-12-12T15:00:08.089Z"
   },
   {
    "duration": 234,
    "start_time": "2024-12-12T15:00:12.436Z"
   },
   {
    "duration": 31,
    "start_time": "2024-12-12T15:00:28.030Z"
   },
   {
    "duration": 384,
    "start_time": "2024-12-12T15:00:37.389Z"
   },
   {
    "duration": 153,
    "start_time": "2024-12-12T15:05:16.072Z"
   },
   {
    "duration": 162,
    "start_time": "2024-12-12T15:06:16.155Z"
   },
   {
    "duration": 173,
    "start_time": "2024-12-12T15:07:17.777Z"
   },
   {
    "duration": 11,
    "start_time": "2024-12-12T15:19:45.252Z"
   },
   {
    "duration": 12,
    "start_time": "2024-12-12T15:20:38.894Z"
   },
   {
    "duration": 12,
    "start_time": "2024-12-12T15:23:01.312Z"
   },
   {
    "duration": 868,
    "start_time": "2024-12-12T15:23:15.969Z"
   },
   {
    "duration": 196,
    "start_time": "2024-12-12T15:23:25.459Z"
   },
   {
    "duration": 389,
    "start_time": "2024-12-12T15:23:35.941Z"
   },
   {
    "duration": 196,
    "start_time": "2024-12-12T15:24:35.087Z"
   },
   {
    "duration": 132,
    "start_time": "2024-12-12T15:25:55.393Z"
   },
   {
    "duration": 76,
    "start_time": "2024-12-12T15:26:23.050Z"
   },
   {
    "duration": 57,
    "start_time": "2024-12-12T15:37:44.083Z"
   },
   {
    "duration": 66,
    "start_time": "2024-12-12T15:40:39.594Z"
   },
   {
    "duration": 223,
    "start_time": "2024-12-12T15:41:08.202Z"
   },
   {
    "duration": 203,
    "start_time": "2024-12-12T15:42:15.129Z"
   },
   {
    "duration": 216,
    "start_time": "2024-12-12T15:43:45.608Z"
   },
   {
    "duration": 361,
    "start_time": "2024-12-12T15:47:17.594Z"
   },
   {
    "duration": 214,
    "start_time": "2024-12-12T15:49:15.705Z"
   },
   {
    "duration": 201,
    "start_time": "2024-12-12T15:50:25.732Z"
   },
   {
    "duration": 203,
    "start_time": "2024-12-12T15:51:17.290Z"
   },
   {
    "duration": 206,
    "start_time": "2024-12-12T15:51:50.142Z"
   },
   {
    "duration": 348,
    "start_time": "2024-12-12T15:52:02.481Z"
   },
   {
    "duration": 209,
    "start_time": "2024-12-12T15:52:11.144Z"
   },
   {
    "duration": 195,
    "start_time": "2024-12-12T15:53:10.202Z"
   },
   {
    "duration": 189,
    "start_time": "2024-12-12T15:53:38.425Z"
   },
   {
    "duration": 213,
    "start_time": "2024-12-12T15:57:31.785Z"
   },
   {
    "duration": 422,
    "start_time": "2024-12-12T15:57:45.631Z"
   },
   {
    "duration": 354,
    "start_time": "2024-12-12T15:59:17.075Z"
   },
   {
    "duration": 355,
    "start_time": "2024-12-12T15:59:57.331Z"
   },
   {
    "duration": 378,
    "start_time": "2024-12-12T16:00:35.537Z"
   },
   {
    "duration": 320,
    "start_time": "2024-12-12T16:01:42.293Z"
   },
   {
    "duration": 346,
    "start_time": "2024-12-12T16:02:19.772Z"
   },
   {
    "duration": 45,
    "start_time": "2024-12-12T16:02:40.834Z"
   },
   {
    "duration": 219,
    "start_time": "2024-12-12T16:02:52.077Z"
   },
   {
    "duration": 218,
    "start_time": "2024-12-12T16:03:01.203Z"
   },
   {
    "duration": 62,
    "start_time": "2024-12-12T16:09:50.784Z"
   },
   {
    "duration": 42,
    "start_time": "2024-12-12T16:09:57.527Z"
   },
   {
    "duration": 48,
    "start_time": "2024-12-12T16:10:03.168Z"
   },
   {
    "duration": 206,
    "start_time": "2024-12-12T16:10:12.647Z"
   },
   {
    "duration": 227,
    "start_time": "2024-12-12T16:10:33.447Z"
   },
   {
    "duration": 337,
    "start_time": "2024-12-12T16:10:48.169Z"
   },
   {
    "duration": 325,
    "start_time": "2024-12-12T16:11:49.698Z"
   },
   {
    "duration": 383,
    "start_time": "2024-12-12T16:11:55.643Z"
   },
   {
    "duration": 332,
    "start_time": "2024-12-12T16:12:16.485Z"
   },
   {
    "duration": 361,
    "start_time": "2024-12-12T16:12:29.561Z"
   },
   {
    "duration": 480,
    "start_time": "2024-12-12T16:12:38.123Z"
   },
   {
    "duration": 213,
    "start_time": "2024-12-12T16:13:19.778Z"
   },
   {
    "duration": 364,
    "start_time": "2024-12-12T16:23:50.100Z"
   },
   {
    "duration": 357,
    "start_time": "2024-12-12T16:29:17.868Z"
   },
   {
    "duration": 345,
    "start_time": "2024-12-12T16:29:24.505Z"
   },
   {
    "duration": 383,
    "start_time": "2024-12-12T16:30:41.247Z"
   },
   {
    "duration": 367,
    "start_time": "2024-12-12T16:30:56.897Z"
   },
   {
    "duration": 391,
    "start_time": "2024-12-12T16:31:02.140Z"
   },
   {
    "duration": 52,
    "start_time": "2024-12-12T16:33:41.023Z"
   },
   {
    "duration": 241,
    "start_time": "2024-12-12T16:33:47.868Z"
   },
   {
    "duration": 48,
    "start_time": "2024-12-12T16:38:39.400Z"
   },
   {
    "duration": 45,
    "start_time": "2024-12-12T16:39:15.551Z"
   },
   {
    "duration": 58,
    "start_time": "2024-12-12T16:39:22.813Z"
   },
   {
    "duration": 210,
    "start_time": "2024-12-12T16:39:42.460Z"
   },
   {
    "duration": 345,
    "start_time": "2024-12-12T16:39:53.364Z"
   },
   {
    "duration": 276,
    "start_time": "2024-12-12T16:39:59.295Z"
   },
   {
    "duration": 1065,
    "start_time": "2024-12-12T16:40:44.328Z"
   },
   {
    "duration": 913,
    "start_time": "2024-12-12T16:41:24.833Z"
   },
   {
    "duration": 234,
    "start_time": "2024-12-12T16:41:38.028Z"
   },
   {
    "duration": 950,
    "start_time": "2024-12-12T16:41:41.844Z"
   },
   {
    "duration": 906,
    "start_time": "2024-12-12T16:42:55.250Z"
   },
   {
    "duration": 941,
    "start_time": "2024-12-12T16:43:18.423Z"
   },
   {
    "duration": 1496,
    "start_time": "2024-12-12T16:44:01.387Z"
   },
   {
    "duration": 1067,
    "start_time": "2024-12-12T16:44:19.009Z"
   },
   {
    "duration": 345,
    "start_time": "2024-12-12T16:44:46.649Z"
   },
   {
    "duration": 496,
    "start_time": "2024-12-12T16:45:26.339Z"
   },
   {
    "duration": 507,
    "start_time": "2024-12-12T16:45:33.114Z"
   },
   {
    "duration": 478,
    "start_time": "2024-12-12T16:45:40.654Z"
   },
   {
    "duration": 374,
    "start_time": "2024-12-12T16:45:49.162Z"
   },
   {
    "duration": 961,
    "start_time": "2024-12-12T16:48:06.788Z"
   },
   {
    "duration": 349,
    "start_time": "2024-12-12T16:48:21.369Z"
   },
   {
    "duration": 329,
    "start_time": "2024-12-12T16:48:34.800Z"
   },
   {
    "duration": 536,
    "start_time": "2024-12-12T16:49:25.232Z"
   },
   {
    "duration": 395,
    "start_time": "2024-12-12T16:52:03.454Z"
   },
   {
    "duration": 361,
    "start_time": "2024-12-12T16:54:20.991Z"
   },
   {
    "duration": 396,
    "start_time": "2024-12-12T16:54:37.446Z"
   },
   {
    "duration": 80,
    "start_time": "2024-12-12T16:54:50.211Z"
   },
   {
    "duration": 373,
    "start_time": "2024-12-12T16:54:54.977Z"
   },
   {
    "duration": 417,
    "start_time": "2024-12-12T16:56:36.169Z"
   },
   {
    "duration": 8,
    "start_time": "2024-12-12T17:11:44.513Z"
   },
   {
    "duration": 6,
    "start_time": "2024-12-12T17:11:47.291Z"
   },
   {
    "duration": 3,
    "start_time": "2024-12-12T17:11:49.018Z"
   },
   {
    "duration": 2,
    "start_time": "2024-12-12T17:11:54.791Z"
   },
   {
    "duration": 6,
    "start_time": "2024-12-12T17:13:52.166Z"
   },
   {
    "duration": 7,
    "start_time": "2024-12-12T17:16:08.954Z"
   },
   {
    "duration": 8,
    "start_time": "2024-12-12T17:16:15.093Z"
   },
   {
    "duration": 9,
    "start_time": "2024-12-12T17:16:17.930Z"
   },
   {
    "duration": 5,
    "start_time": "2024-12-12T17:16:20.039Z"
   },
   {
    "duration": 2,
    "start_time": "2024-12-12T17:42:28.386Z"
   },
   {
    "duration": 4,
    "start_time": "2024-12-12T17:42:28.390Z"
   },
   {
    "duration": 51,
    "start_time": "2024-12-12T17:42:28.395Z"
   },
   {
    "duration": 13,
    "start_time": "2024-12-12T17:42:28.448Z"
   },
   {
    "duration": 3,
    "start_time": "2024-12-12T17:42:28.463Z"
   },
   {
    "duration": 21,
    "start_time": "2024-12-12T17:42:28.468Z"
   },
   {
    "duration": 56,
    "start_time": "2024-12-12T17:42:28.490Z"
   },
   {
    "duration": 4,
    "start_time": "2024-12-12T17:42:28.548Z"
   },
   {
    "duration": 3,
    "start_time": "2024-12-12T17:42:28.553Z"
   },
   {
    "duration": 4,
    "start_time": "2024-12-12T17:42:28.557Z"
   },
   {
    "duration": 14,
    "start_time": "2024-12-12T17:42:28.563Z"
   },
   {
    "duration": 41,
    "start_time": "2024-12-12T17:42:28.579Z"
   },
   {
    "duration": 5,
    "start_time": "2024-12-12T17:42:28.622Z"
   },
   {
    "duration": 20,
    "start_time": "2024-12-12T17:42:28.629Z"
   },
   {
    "duration": 9,
    "start_time": "2024-12-12T17:42:28.650Z"
   },
   {
    "duration": 11,
    "start_time": "2024-12-12T17:42:28.660Z"
   },
   {
    "duration": 45,
    "start_time": "2024-12-12T17:42:28.673Z"
   },
   {
    "duration": 9,
    "start_time": "2024-12-12T17:42:28.719Z"
   },
   {
    "duration": 9,
    "start_time": "2024-12-12T17:42:28.730Z"
   },
   {
    "duration": 21,
    "start_time": "2024-12-12T17:42:28.741Z"
   },
   {
    "duration": 7,
    "start_time": "2024-12-12T17:42:28.763Z"
   },
   {
    "duration": 7,
    "start_time": "2024-12-12T17:42:28.771Z"
   },
   {
    "duration": 35,
    "start_time": "2024-12-12T17:42:28.779Z"
   },
   {
    "duration": 20,
    "start_time": "2024-12-12T17:42:28.816Z"
   },
   {
    "duration": 8,
    "start_time": "2024-12-12T17:42:28.837Z"
   },
   {
    "duration": 6,
    "start_time": "2024-12-12T17:42:28.846Z"
   },
   {
    "duration": 5,
    "start_time": "2024-12-12T17:42:28.853Z"
   },
   {
    "duration": 6,
    "start_time": "2024-12-12T17:42:28.859Z"
   },
   {
    "duration": 6,
    "start_time": "2024-12-12T17:42:28.867Z"
   },
   {
    "duration": 5,
    "start_time": "2024-12-12T17:42:28.876Z"
   },
   {
    "duration": 55,
    "start_time": "2024-12-12T17:42:28.882Z"
   },
   {
    "duration": 17,
    "start_time": "2024-12-12T17:42:28.939Z"
   },
   {
    "duration": 16,
    "start_time": "2024-12-12T17:42:28.957Z"
   },
   {
    "duration": 13,
    "start_time": "2024-12-12T17:42:28.974Z"
   },
   {
    "duration": 29,
    "start_time": "2024-12-12T17:42:28.988Z"
   },
   {
    "duration": 15,
    "start_time": "2024-12-12T17:42:29.018Z"
   },
   {
    "duration": 85,
    "start_time": "2024-12-12T17:42:29.035Z"
   },
   {
    "duration": 12,
    "start_time": "2024-12-12T17:42:29.121Z"
   },
   {
    "duration": 284,
    "start_time": "2024-12-12T17:42:29.134Z"
   },
   {
    "duration": 127,
    "start_time": "2024-12-12T17:42:29.420Z"
   },
   {
    "duration": 10,
    "start_time": "2024-12-12T17:42:29.549Z"
   },
   {
    "duration": 15,
    "start_time": "2024-12-12T17:42:29.561Z"
   },
   {
    "duration": 4,
    "start_time": "2024-12-12T17:42:29.577Z"
   },
   {
    "duration": 16,
    "start_time": "2024-12-12T17:42:29.583Z"
   },
   {
    "duration": 813,
    "start_time": "2024-12-12T17:42:29.600Z"
   },
   {
    "duration": 8,
    "start_time": "2024-12-12T17:42:30.414Z"
   },
   {
    "duration": 49,
    "start_time": "2024-12-12T17:42:30.423Z"
   },
   {
    "duration": 5,
    "start_time": "2024-12-12T17:42:30.474Z"
   },
   {
    "duration": 26,
    "start_time": "2024-12-12T17:42:30.480Z"
   },
   {
    "duration": 1109,
    "start_time": "2024-12-12T17:42:30.507Z"
   },
   {
    "duration": 28,
    "start_time": "2024-12-12T17:42:31.617Z"
   },
   {
    "duration": 234,
    "start_time": "2024-12-12T17:42:31.646Z"
   },
   {
    "duration": 367,
    "start_time": "2024-12-12T17:42:31.881Z"
   },
   {
    "duration": 30,
    "start_time": "2024-12-12T17:42:32.249Z"
   },
   {
    "duration": 4,
    "start_time": "2024-12-12T17:42:32.281Z"
   },
   {
    "duration": 19,
    "start_time": "2024-12-12T17:42:32.286Z"
   },
   {
    "duration": 5,
    "start_time": "2024-12-12T17:42:32.311Z"
   },
   {
    "duration": 137,
    "start_time": "2024-12-12T17:42:32.317Z"
   },
   {
    "duration": 144,
    "start_time": "2024-12-12T17:42:32.455Z"
   },
   {
    "duration": 16,
    "start_time": "2024-12-12T17:42:32.600Z"
   },
   {
    "duration": 24,
    "start_time": "2024-12-12T17:42:32.618Z"
   },
   {
    "duration": 418,
    "start_time": "2024-12-12T17:42:32.644Z"
   },
   {
    "duration": 188,
    "start_time": "2024-12-12T17:42:33.064Z"
   },
   {
    "duration": 166,
    "start_time": "2024-12-12T17:42:33.253Z"
   },
   {
    "duration": 5,
    "start_time": "2024-12-12T17:42:33.421Z"
   },
   {
    "duration": 25,
    "start_time": "2024-12-12T17:42:33.428Z"
   },
   {
    "duration": 12,
    "start_time": "2024-12-12T17:42:33.454Z"
   },
   {
    "duration": 13,
    "start_time": "2024-12-12T17:42:33.468Z"
   },
   {
    "duration": 412,
    "start_time": "2024-12-12T17:42:33.483Z"
   },
   {
    "duration": 437,
    "start_time": "2024-12-12T17:42:33.896Z"
   },
   {
    "duration": 398,
    "start_time": "2024-12-12T17:42:34.335Z"
   },
   {
    "duration": 6,
    "start_time": "2024-12-12T17:42:34.734Z"
   },
   {
    "duration": 16,
    "start_time": "2024-12-12T17:42:34.741Z"
   },
   {
    "duration": 21,
    "start_time": "2024-12-12T17:42:34.759Z"
   },
   {
    "duration": 21,
    "start_time": "2024-12-12T17:42:34.781Z"
   },
   {
    "duration": 7,
    "start_time": "2024-12-12T17:42:34.803Z"
   },
   {
    "duration": 28,
    "start_time": "2024-12-12T17:42:34.811Z"
   },
   {
    "duration": 20,
    "start_time": "2024-12-12T17:42:34.841Z"
   },
   {
    "duration": 17,
    "start_time": "2024-12-12T17:42:34.862Z"
   },
   {
    "duration": 1165,
    "start_time": "2024-12-12T17:56:26.306Z"
   },
   {
    "duration": 3,
    "start_time": "2024-12-12T17:56:27.473Z"
   },
   {
    "duration": 91,
    "start_time": "2024-12-12T17:56:27.478Z"
   },
   {
    "duration": 19,
    "start_time": "2024-12-12T17:56:27.572Z"
   },
   {
    "duration": 4,
    "start_time": "2024-12-12T17:56:27.593Z"
   },
   {
    "duration": 14,
    "start_time": "2024-12-12T17:56:27.599Z"
   },
   {
    "duration": 65,
    "start_time": "2024-12-12T17:56:27.615Z"
   },
   {
    "duration": 3,
    "start_time": "2024-12-12T17:56:27.682Z"
   },
   {
    "duration": 3,
    "start_time": "2024-12-12T17:56:27.686Z"
   },
   {
    "duration": 4,
    "start_time": "2024-12-12T17:56:27.692Z"
   },
   {
    "duration": 21,
    "start_time": "2024-12-12T17:56:27.697Z"
   },
   {
    "duration": 30,
    "start_time": "2024-12-12T17:56:27.720Z"
   },
   {
    "duration": 6,
    "start_time": "2024-12-12T17:56:27.751Z"
   },
   {
    "duration": 14,
    "start_time": "2024-12-12T17:56:27.758Z"
   },
   {
    "duration": 9,
    "start_time": "2024-12-12T17:56:27.774Z"
   },
   {
    "duration": 67,
    "start_time": "2024-12-12T17:56:27.784Z"
   },
   {
    "duration": 13,
    "start_time": "2024-12-12T17:56:27.853Z"
   },
   {
    "duration": 8,
    "start_time": "2024-12-12T17:56:27.868Z"
   },
   {
    "duration": 8,
    "start_time": "2024-12-12T17:56:27.878Z"
   },
   {
    "duration": 19,
    "start_time": "2024-12-12T17:56:27.887Z"
   },
   {
    "duration": 6,
    "start_time": "2024-12-12T17:56:27.907Z"
   },
   {
    "duration": 36,
    "start_time": "2024-12-12T17:56:27.915Z"
   },
   {
    "duration": 4,
    "start_time": "2024-12-12T17:56:27.953Z"
   },
   {
    "duration": 23,
    "start_time": "2024-12-12T17:56:27.959Z"
   },
   {
    "duration": 8,
    "start_time": "2024-12-12T17:56:27.983Z"
   },
   {
    "duration": 5,
    "start_time": "2024-12-12T17:56:27.992Z"
   },
   {
    "duration": 4,
    "start_time": "2024-12-12T17:56:27.998Z"
   },
   {
    "duration": 42,
    "start_time": "2024-12-12T17:56:28.006Z"
   },
   {
    "duration": 6,
    "start_time": "2024-12-12T17:56:28.049Z"
   },
   {
    "duration": 5,
    "start_time": "2024-12-12T17:56:28.057Z"
   },
   {
    "duration": 22,
    "start_time": "2024-12-12T17:56:28.063Z"
   },
   {
    "duration": 21,
    "start_time": "2024-12-12T17:56:28.086Z"
   },
   {
    "duration": 48,
    "start_time": "2024-12-12T17:56:28.108Z"
   },
   {
    "duration": 16,
    "start_time": "2024-12-12T17:56:28.157Z"
   },
   {
    "duration": 15,
    "start_time": "2024-12-12T17:56:28.174Z"
   },
   {
    "duration": 16,
    "start_time": "2024-12-12T17:56:28.191Z"
   },
   {
    "duration": 98,
    "start_time": "2024-12-12T17:56:28.208Z"
   },
   {
    "duration": 15,
    "start_time": "2024-12-12T17:56:28.307Z"
   },
   {
    "duration": 324,
    "start_time": "2024-12-12T17:56:28.324Z"
   },
   {
    "duration": 123,
    "start_time": "2024-12-12T17:56:28.650Z"
   },
   {
    "duration": 11,
    "start_time": "2024-12-12T17:56:28.775Z"
   },
   {
    "duration": 11,
    "start_time": "2024-12-12T17:56:28.788Z"
   },
   {
    "duration": 7,
    "start_time": "2024-12-12T17:56:28.800Z"
   },
   {
    "duration": 38,
    "start_time": "2024-12-12T17:56:28.809Z"
   },
   {
    "duration": 726,
    "start_time": "2024-12-12T17:56:28.849Z"
   },
   {
    "duration": 10,
    "start_time": "2024-12-12T17:56:29.576Z"
   },
   {
    "duration": 24,
    "start_time": "2024-12-12T17:56:29.588Z"
   },
   {
    "duration": 5,
    "start_time": "2024-12-12T17:56:29.614Z"
   },
   {
    "duration": 25,
    "start_time": "2024-12-12T17:56:29.621Z"
   },
   {
    "duration": 1275,
    "start_time": "2024-12-12T17:56:29.648Z"
   },
   {
    "duration": 77,
    "start_time": "2024-12-12T17:56:30.924Z"
   },
   {
    "duration": 300,
    "start_time": "2024-12-12T17:56:31.002Z"
   },
   {
    "duration": 244,
    "start_time": "2024-12-12T17:56:31.303Z"
   },
   {
    "duration": 31,
    "start_time": "2024-12-12T17:56:31.549Z"
   },
   {
    "duration": 5,
    "start_time": "2024-12-12T17:56:31.582Z"
   },
   {
    "duration": 11,
    "start_time": "2024-12-12T17:56:31.588Z"
   },
   {
    "duration": 6,
    "start_time": "2024-12-12T17:56:31.600Z"
   },
   {
    "duration": 160,
    "start_time": "2024-12-12T17:56:31.607Z"
   },
   {
    "duration": 151,
    "start_time": "2024-12-12T17:56:31.768Z"
   },
   {
    "duration": 12,
    "start_time": "2024-12-12T17:56:31.920Z"
   },
   {
    "duration": 22,
    "start_time": "2024-12-12T17:56:31.933Z"
   },
   {
    "duration": 428,
    "start_time": "2024-12-12T17:56:31.957Z"
   },
   {
    "duration": 191,
    "start_time": "2024-12-12T17:56:32.386Z"
   },
   {
    "duration": 203,
    "start_time": "2024-12-12T17:56:32.578Z"
   },
   {
    "duration": 5,
    "start_time": "2024-12-12T17:56:32.783Z"
   },
   {
    "duration": 46,
    "start_time": "2024-12-12T17:56:32.790Z"
   },
   {
    "duration": 22,
    "start_time": "2024-12-12T17:56:32.838Z"
   },
   {
    "duration": 13,
    "start_time": "2024-12-12T17:56:32.861Z"
   },
   {
    "duration": 501,
    "start_time": "2024-12-12T17:56:32.875Z"
   },
   {
    "duration": 452,
    "start_time": "2024-12-12T17:56:33.378Z"
   },
   {
    "duration": 401,
    "start_time": "2024-12-12T17:56:33.831Z"
   },
   {
    "duration": 12,
    "start_time": "2024-12-12T17:56:34.234Z"
   },
   {
    "duration": 29,
    "start_time": "2024-12-12T17:56:34.247Z"
   },
   {
    "duration": 14,
    "start_time": "2024-12-12T17:56:34.278Z"
   },
   {
    "duration": 9,
    "start_time": "2024-12-12T17:56:34.293Z"
   },
   {
    "duration": 6,
    "start_time": "2024-12-12T17:56:34.304Z"
   },
   {
    "duration": 3,
    "start_time": "2024-12-12T17:56:34.311Z"
   },
   {
    "duration": 9,
    "start_time": "2024-12-12T17:56:34.316Z"
   },
   {
    "duration": 7,
    "start_time": "2024-12-12T17:56:34.327Z"
   },
   {
    "duration": 52,
    "start_time": "2024-12-13T12:35:33.580Z"
   },
   {
    "duration": 1280,
    "start_time": "2024-12-13T12:35:39.189Z"
   },
   {
    "duration": 3,
    "start_time": "2024-12-13T12:35:40.471Z"
   },
   {
    "duration": 206,
    "start_time": "2024-12-13T12:35:40.475Z"
   },
   {
    "duration": 20,
    "start_time": "2024-12-13T12:35:40.683Z"
   },
   {
    "duration": 27,
    "start_time": "2024-12-13T12:35:40.705Z"
   },
   {
    "duration": 33,
    "start_time": "2024-12-13T12:35:40.734Z"
   },
   {
    "duration": 51,
    "start_time": "2024-12-13T12:35:40.768Z"
   },
   {
    "duration": 4,
    "start_time": "2024-12-13T12:35:40.820Z"
   },
   {
    "duration": 8,
    "start_time": "2024-12-13T12:35:40.825Z"
   },
   {
    "duration": 35,
    "start_time": "2024-12-13T12:35:40.835Z"
   },
   {
    "duration": 17,
    "start_time": "2024-12-13T12:35:40.871Z"
   },
   {
    "duration": 44,
    "start_time": "2024-12-13T12:35:40.889Z"
   },
   {
    "duration": 8,
    "start_time": "2024-12-13T12:35:40.934Z"
   },
   {
    "duration": 16,
    "start_time": "2024-12-13T12:35:40.944Z"
   },
   {
    "duration": 17,
    "start_time": "2024-12-13T12:35:40.962Z"
   },
   {
    "duration": 45,
    "start_time": "2024-12-13T12:35:40.981Z"
   },
   {
    "duration": 61,
    "start_time": "2024-12-13T12:35:41.028Z"
   },
   {
    "duration": 16,
    "start_time": "2024-12-13T12:35:41.090Z"
   },
   {
    "duration": 64,
    "start_time": "2024-12-13T12:35:41.108Z"
   },
   {
    "duration": 53,
    "start_time": "2024-12-13T12:35:41.174Z"
   },
   {
    "duration": 76,
    "start_time": "2024-12-13T12:35:41.229Z"
   },
   {
    "duration": 32,
    "start_time": "2024-12-13T12:35:41.307Z"
   },
   {
    "duration": 24,
    "start_time": "2024-12-13T12:35:41.341Z"
   },
   {
    "duration": 59,
    "start_time": "2024-12-13T12:35:41.366Z"
   },
   {
    "duration": 21,
    "start_time": "2024-12-13T12:35:41.427Z"
   },
   {
    "duration": 14,
    "start_time": "2024-12-13T12:35:41.449Z"
   },
   {
    "duration": 15,
    "start_time": "2024-12-13T12:35:41.464Z"
   },
   {
    "duration": 11,
    "start_time": "2024-12-13T12:35:41.482Z"
   },
   {
    "duration": 25,
    "start_time": "2024-12-13T12:35:41.494Z"
   },
   {
    "duration": 23,
    "start_time": "2024-12-13T12:35:41.520Z"
   },
   {
    "duration": 33,
    "start_time": "2024-12-13T12:35:41.545Z"
   },
   {
    "duration": 21,
    "start_time": "2024-12-13T12:35:41.580Z"
   },
   {
    "duration": 19,
    "start_time": "2024-12-13T12:35:41.602Z"
   },
   {
    "duration": 31,
    "start_time": "2024-12-13T12:35:41.622Z"
   },
   {
    "duration": 16,
    "start_time": "2024-12-13T12:35:41.654Z"
   },
   {
    "duration": 16,
    "start_time": "2024-12-13T12:35:41.671Z"
   },
   {
    "duration": 96,
    "start_time": "2024-12-13T12:35:41.689Z"
   },
   {
    "duration": 14,
    "start_time": "2024-12-13T12:35:41.786Z"
   },
   {
    "duration": 323,
    "start_time": "2024-12-13T12:35:41.801Z"
   },
   {
    "duration": 144,
    "start_time": "2024-12-13T12:35:42.125Z"
   },
   {
    "duration": 124,
    "start_time": "2024-12-13T12:35:51.699Z"
   },
   {
    "duration": 133,
    "start_time": "2024-12-13T12:36:03.123Z"
   },
   {
    "duration": 244,
    "start_time": "2024-12-13T12:36:19.492Z"
   },
   {
    "duration": 308,
    "start_time": "2024-12-13T12:39:56.755Z"
   },
   {
    "duration": 240,
    "start_time": "2024-12-13T12:40:09.631Z"
   },
   {
    "duration": 263,
    "start_time": "2024-12-13T12:40:39.153Z"
   },
   {
    "duration": 259,
    "start_time": "2024-12-13T12:40:45.362Z"
   },
   {
    "duration": 269,
    "start_time": "2024-12-13T12:40:53.944Z"
   },
   {
    "duration": 252,
    "start_time": "2024-12-13T12:41:34.794Z"
   },
   {
    "duration": 315,
    "start_time": "2024-12-13T12:41:45.748Z"
   },
   {
    "duration": 244,
    "start_time": "2024-12-13T12:41:52.380Z"
   },
   {
    "duration": 249,
    "start_time": "2024-12-13T12:42:01.279Z"
   },
   {
    "duration": 244,
    "start_time": "2024-12-13T12:42:14.251Z"
   },
   {
    "duration": 117,
    "start_time": "2024-12-13T12:43:34.889Z"
   },
   {
    "duration": 426,
    "start_time": "2024-12-13T12:55:53.827Z"
   },
   {
    "duration": 9,
    "start_time": "2024-12-13T12:56:03.808Z"
   },
   {
    "duration": 0,
    "start_time": "2024-12-13T12:56:03.819Z"
   },
   {
    "duration": 7,
    "start_time": "2024-12-13T12:56:03.824Z"
   },
   {
    "duration": 74,
    "start_time": "2024-12-13T12:56:03.833Z"
   },
   {
    "duration": 0,
    "start_time": "2024-12-13T12:56:03.910Z"
   },
   {
    "duration": 0,
    "start_time": "2024-12-13T12:56:03.912Z"
   },
   {
    "duration": 0,
    "start_time": "2024-12-13T12:56:03.913Z"
   },
   {
    "duration": 0,
    "start_time": "2024-12-13T12:56:03.915Z"
   },
   {
    "duration": 0,
    "start_time": "2024-12-13T12:56:03.917Z"
   },
   {
    "duration": 0,
    "start_time": "2024-12-13T12:56:03.918Z"
   },
   {
    "duration": 0,
    "start_time": "2024-12-13T12:56:03.919Z"
   },
   {
    "duration": 0,
    "start_time": "2024-12-13T12:56:03.921Z"
   },
   {
    "duration": 0,
    "start_time": "2024-12-13T12:56:03.923Z"
   },
   {
    "duration": 0,
    "start_time": "2024-12-13T12:56:03.925Z"
   },
   {
    "duration": 0,
    "start_time": "2024-12-13T12:56:03.927Z"
   },
   {
    "duration": 0,
    "start_time": "2024-12-13T12:56:03.928Z"
   },
   {
    "duration": 0,
    "start_time": "2024-12-13T12:56:03.930Z"
   },
   {
    "duration": 3,
    "start_time": "2024-12-13T12:56:09.652Z"
   },
   {
    "duration": 12,
    "start_time": "2024-12-13T12:56:09.658Z"
   },
   {
    "duration": 65,
    "start_time": "2024-12-13T12:56:09.672Z"
   },
   {
    "duration": 15,
    "start_time": "2024-12-13T12:56:09.739Z"
   },
   {
    "duration": 6,
    "start_time": "2024-12-13T12:56:09.756Z"
   },
   {
    "duration": 36,
    "start_time": "2024-12-13T12:56:09.764Z"
   },
   {
    "duration": 62,
    "start_time": "2024-12-13T12:56:09.802Z"
   },
   {
    "duration": 3,
    "start_time": "2024-12-13T12:56:09.866Z"
   },
   {
    "duration": 15,
    "start_time": "2024-12-13T12:56:09.871Z"
   },
   {
    "duration": 50,
    "start_time": "2024-12-13T12:56:09.888Z"
   },
   {
    "duration": 28,
    "start_time": "2024-12-13T12:56:09.941Z"
   },
   {
    "duration": 61,
    "start_time": "2024-12-13T12:56:09.970Z"
   },
   {
    "duration": 24,
    "start_time": "2024-12-13T12:56:10.034Z"
   },
   {
    "duration": 37,
    "start_time": "2024-12-13T12:56:10.060Z"
   },
   {
    "duration": 18,
    "start_time": "2024-12-13T12:56:10.099Z"
   },
   {
    "duration": 11,
    "start_time": "2024-12-13T12:56:10.118Z"
   },
   {
    "duration": 44,
    "start_time": "2024-12-13T12:56:10.131Z"
   },
   {
    "duration": 12,
    "start_time": "2024-12-13T12:56:10.177Z"
   },
   {
    "duration": 40,
    "start_time": "2024-12-13T12:56:10.190Z"
   },
   {
    "duration": 24,
    "start_time": "2024-12-13T12:56:10.231Z"
   },
   {
    "duration": 7,
    "start_time": "2024-12-13T12:56:10.256Z"
   },
   {
    "duration": 9,
    "start_time": "2024-12-13T12:56:10.264Z"
   },
   {
    "duration": 14,
    "start_time": "2024-12-13T12:56:10.274Z"
   },
   {
    "duration": 41,
    "start_time": "2024-12-13T12:56:10.289Z"
   },
   {
    "duration": 24,
    "start_time": "2024-12-13T12:56:10.332Z"
   },
   {
    "duration": 40,
    "start_time": "2024-12-13T12:56:10.358Z"
   },
   {
    "duration": 34,
    "start_time": "2024-12-13T12:56:10.400Z"
   },
   {
    "duration": 11,
    "start_time": "2024-12-13T12:56:10.435Z"
   },
   {
    "duration": 5,
    "start_time": "2024-12-13T12:56:10.449Z"
   },
   {
    "duration": 85,
    "start_time": "2024-12-13T12:56:10.456Z"
   },
   {
    "duration": 35,
    "start_time": "2024-12-13T12:56:10.542Z"
   },
   {
    "duration": 20,
    "start_time": "2024-12-13T12:56:10.578Z"
   },
   {
    "duration": 30,
    "start_time": "2024-12-13T12:56:10.600Z"
   },
   {
    "duration": 32,
    "start_time": "2024-12-13T12:56:10.631Z"
   },
   {
    "duration": 44,
    "start_time": "2024-12-13T12:56:10.665Z"
   },
   {
    "duration": 107,
    "start_time": "2024-12-13T12:56:10.710Z"
   },
   {
    "duration": 105,
    "start_time": "2024-12-13T12:56:10.818Z"
   },
   {
    "duration": 13,
    "start_time": "2024-12-13T12:56:10.925Z"
   },
   {
    "duration": 376,
    "start_time": "2024-12-13T12:56:10.939Z"
   },
   {
    "duration": 129,
    "start_time": "2024-12-13T12:56:11.316Z"
   },
   {
    "duration": 13,
    "start_time": "2024-12-13T12:56:11.446Z"
   },
   {
    "duration": 10,
    "start_time": "2024-12-13T12:56:11.461Z"
   },
   {
    "duration": 5,
    "start_time": "2024-12-13T12:56:11.473Z"
   },
   {
    "duration": 64,
    "start_time": "2024-12-13T12:56:11.480Z"
   },
   {
    "duration": 727,
    "start_time": "2024-12-13T12:56:11.546Z"
   },
   {
    "duration": 10,
    "start_time": "2024-12-13T12:56:12.274Z"
   },
   {
    "duration": 61,
    "start_time": "2024-12-13T12:56:12.285Z"
   },
   {
    "duration": 15,
    "start_time": "2024-12-13T12:56:12.347Z"
   },
   {
    "duration": 19,
    "start_time": "2024-12-13T12:56:12.363Z"
   },
   {
    "duration": 1288,
    "start_time": "2024-12-13T12:56:12.384Z"
   },
   {
    "duration": 65,
    "start_time": "2024-12-13T12:56:13.674Z"
   },
   {
    "duration": 288,
    "start_time": "2024-12-13T12:56:13.740Z"
   },
   {
    "duration": 329,
    "start_time": "2024-12-13T12:56:14.030Z"
   },
   {
    "duration": 32,
    "start_time": "2024-12-13T12:56:14.360Z"
   },
   {
    "duration": 7,
    "start_time": "2024-12-13T12:56:14.394Z"
   },
   {
    "duration": 26,
    "start_time": "2024-12-13T12:56:14.402Z"
   },
   {
    "duration": 26,
    "start_time": "2024-12-13T12:56:14.430Z"
   },
   {
    "duration": 150,
    "start_time": "2024-12-13T12:56:14.458Z"
   },
   {
    "duration": 156,
    "start_time": "2024-12-13T12:56:14.609Z"
   },
   {
    "duration": 13,
    "start_time": "2024-12-13T12:56:14.766Z"
   },
   {
    "duration": 12,
    "start_time": "2024-12-13T12:56:14.781Z"
   },
   {
    "duration": 329,
    "start_time": "2024-12-13T12:56:17.389Z"
   },
   {
    "duration": 449,
    "start_time": "2024-12-13T12:57:12.876Z"
   },
   {
    "duration": 4,
    "start_time": "2024-12-13T12:57:19.775Z"
   },
   {
    "duration": 434,
    "start_time": "2024-12-13T13:02:13.260Z"
   },
   {
    "duration": 451,
    "start_time": "2024-12-13T13:02:27.577Z"
   },
   {
    "duration": 388,
    "start_time": "2024-12-13T13:02:41.336Z"
   },
   {
    "duration": 423,
    "start_time": "2024-12-13T13:02:47.786Z"
   },
   {
    "duration": 447,
    "start_time": "2024-12-13T13:03:04.347Z"
   },
   {
    "duration": 338,
    "start_time": "2024-12-13T13:04:20.587Z"
   },
   {
    "duration": 490,
    "start_time": "2024-12-13T13:06:04.142Z"
   },
   {
    "duration": 407,
    "start_time": "2024-12-13T13:06:51.338Z"
   },
   {
    "duration": 427,
    "start_time": "2024-12-13T13:07:01.745Z"
   },
   {
    "duration": 467,
    "start_time": "2024-12-13T13:10:02.750Z"
   },
   {
    "duration": 485,
    "start_time": "2024-12-13T13:11:07.948Z"
   },
   {
    "duration": 601,
    "start_time": "2024-12-13T13:11:22.176Z"
   },
   {
    "duration": 479,
    "start_time": "2024-12-13T13:11:41.977Z"
   },
   {
    "duration": 459,
    "start_time": "2024-12-13T13:23:34.536Z"
   },
   {
    "duration": 503,
    "start_time": "2024-12-13T13:25:31.000Z"
   },
   {
    "duration": 659,
    "start_time": "2024-12-13T13:26:00.207Z"
   },
   {
    "duration": 483,
    "start_time": "2024-12-13T13:27:49.820Z"
   },
   {
    "duration": 481,
    "start_time": "2024-12-13T13:28:21.852Z"
   },
   {
    "duration": 480,
    "start_time": "2024-12-13T13:32:56.697Z"
   },
   {
    "duration": 507,
    "start_time": "2024-12-13T13:33:44.081Z"
   },
   {
    "duration": 3,
    "start_time": "2024-12-13T13:34:07.357Z"
   },
   {
    "duration": 59,
    "start_time": "2024-12-13T13:35:18.516Z"
   },
   {
    "duration": 438,
    "start_time": "2024-12-13T13:35:30.525Z"
   },
   {
    "duration": 448,
    "start_time": "2024-12-13T13:36:01.012Z"
   },
   {
    "duration": 430,
    "start_time": "2024-12-13T13:36:18.385Z"
   },
   {
    "duration": 514,
    "start_time": "2024-12-13T13:37:59.128Z"
   },
   {
    "duration": 42,
    "start_time": "2024-12-13T13:38:09.048Z"
   },
   {
    "duration": 53,
    "start_time": "2024-12-13T13:38:14.251Z"
   },
   {
    "duration": 49,
    "start_time": "2024-12-13T13:38:20.358Z"
   },
   {
    "duration": 825,
    "start_time": "2024-12-13T13:38:25.417Z"
   },
   {
    "duration": 4,
    "start_time": "2024-12-13T13:38:30.207Z"
   },
   {
    "duration": 19,
    "start_time": "2024-12-13T13:40:04.456Z"
   },
   {
    "duration": 3,
    "start_time": "2024-12-13T13:40:09.882Z"
   },
   {
    "duration": 492,
    "start_time": "2024-12-13T13:40:22.825Z"
   },
   {
    "duration": 483,
    "start_time": "2024-12-13T13:40:33.197Z"
   },
   {
    "duration": 494,
    "start_time": "2024-12-13T13:40:54.892Z"
   },
   {
    "duration": 558,
    "start_time": "2024-12-13T13:45:36.921Z"
   },
   {
    "duration": 482,
    "start_time": "2024-12-13T13:45:41.966Z"
   },
   {
    "duration": 480,
    "start_time": "2024-12-13T13:46:40.665Z"
   },
   {
    "duration": 800,
    "start_time": "2024-12-13T13:46:55.628Z"
   },
   {
    "duration": 537,
    "start_time": "2024-12-13T13:49:59.375Z"
   },
   {
    "duration": 494,
    "start_time": "2024-12-13T13:50:17.839Z"
   },
   {
    "duration": 778,
    "start_time": "2024-12-13T13:50:37.279Z"
   },
   {
    "duration": 567,
    "start_time": "2024-12-13T13:50:49.067Z"
   },
   {
    "duration": 891,
    "start_time": "2024-12-13T13:50:54.823Z"
   },
   {
    "duration": 783,
    "start_time": "2024-12-13T13:51:06.277Z"
   },
   {
    "duration": 771,
    "start_time": "2024-12-13T13:51:15.706Z"
   },
   {
    "duration": 408,
    "start_time": "2024-12-13T13:51:42.396Z"
   },
   {
    "duration": 933,
    "start_time": "2024-12-13T13:51:59.865Z"
   },
   {
    "duration": 897,
    "start_time": "2024-12-13T13:55:13.356Z"
   },
   {
    "duration": 812,
    "start_time": "2024-12-13T13:55:55.802Z"
   },
   {
    "duration": 845,
    "start_time": "2024-12-13T13:56:11.537Z"
   },
   {
    "duration": 858,
    "start_time": "2024-12-13T13:57:47.491Z"
   },
   {
    "duration": 794,
    "start_time": "2024-12-13T13:57:53.597Z"
   },
   {
    "duration": 812,
    "start_time": "2024-12-13T13:58:37.194Z"
   },
   {
    "duration": 1033,
    "start_time": "2024-12-13T13:58:46.082Z"
   },
   {
    "duration": 870,
    "start_time": "2024-12-13T13:58:59.095Z"
   },
   {
    "duration": 802,
    "start_time": "2024-12-13T13:59:05.197Z"
   },
   {
    "duration": 801,
    "start_time": "2024-12-13T13:59:56.032Z"
   },
   {
    "duration": 841,
    "start_time": "2024-12-13T14:00:07.285Z"
   },
   {
    "duration": 843,
    "start_time": "2024-12-13T14:00:28.027Z"
   },
   {
    "duration": 797,
    "start_time": "2024-12-13T14:00:49.162Z"
   },
   {
    "duration": 838,
    "start_time": "2024-12-13T14:00:53.781Z"
   },
   {
    "duration": 944,
    "start_time": "2024-12-13T14:01:09.333Z"
   },
   {
    "duration": 907,
    "start_time": "2024-12-13T14:01:13.322Z"
   },
   {
    "duration": 786,
    "start_time": "2024-12-13T14:02:09.837Z"
   },
   {
    "duration": 796,
    "start_time": "2024-12-13T14:02:21.937Z"
   },
   {
    "duration": 919,
    "start_time": "2024-12-13T14:02:32.734Z"
   },
   {
    "duration": 836,
    "start_time": "2024-12-13T14:02:47.503Z"
   },
   {
    "duration": 790,
    "start_time": "2024-12-13T14:02:59.372Z"
   },
   {
    "duration": 896,
    "start_time": "2024-12-13T14:06:47.407Z"
   },
   {
    "duration": 491,
    "start_time": "2024-12-13T14:08:30.649Z"
   },
   {
    "duration": 479,
    "start_time": "2024-12-13T14:08:35.375Z"
   },
   {
    "duration": 487,
    "start_time": "2024-12-13T14:09:02.627Z"
   },
   {
    "duration": 886,
    "start_time": "2024-12-13T14:09:07.769Z"
   },
   {
    "duration": 472,
    "start_time": "2024-12-13T14:11:48.882Z"
   },
   {
    "duration": 798,
    "start_time": "2024-12-13T14:11:56.119Z"
   },
   {
    "duration": 803,
    "start_time": "2024-12-13T14:12:15.085Z"
   },
   {
    "duration": 939,
    "start_time": "2024-12-13T14:12:57.753Z"
   },
   {
    "duration": 831,
    "start_time": "2024-12-13T14:13:20.051Z"
   },
   {
    "duration": 15,
    "start_time": "2024-12-13T14:14:05.293Z"
   },
   {
    "duration": 110,
    "start_time": "2024-12-13T14:14:43.276Z"
   },
   {
    "duration": 17,
    "start_time": "2024-12-13T14:16:34.674Z"
   },
   {
    "duration": 130,
    "start_time": "2024-12-13T14:17:37.459Z"
   },
   {
    "duration": 10,
    "start_time": "2024-12-13T14:17:44.318Z"
   },
   {
    "duration": 12,
    "start_time": "2024-12-13T14:17:56.586Z"
   },
   {
    "duration": 12,
    "start_time": "2024-12-13T14:19:09.395Z"
   },
   {
    "duration": 172,
    "start_time": "2024-12-13T14:19:44.576Z"
   },
   {
    "duration": 179,
    "start_time": "2024-12-13T14:19:48.992Z"
   },
   {
    "duration": 187,
    "start_time": "2024-12-13T14:20:15.982Z"
   },
   {
    "duration": 179,
    "start_time": "2024-12-13T14:20:19.122Z"
   },
   {
    "duration": 5,
    "start_time": "2024-12-13T14:21:42.008Z"
   },
   {
    "duration": 16,
    "start_time": "2024-12-13T14:21:43.232Z"
   },
   {
    "duration": 14,
    "start_time": "2024-12-13T14:21:43.832Z"
   },
   {
    "duration": 15,
    "start_time": "2024-12-13T14:21:44.325Z"
   },
   {
    "duration": 392,
    "start_time": "2024-12-13T14:21:44.935Z"
   },
   {
    "duration": 424,
    "start_time": "2024-12-13T14:21:45.820Z"
   },
   {
    "duration": 395,
    "start_time": "2024-12-13T14:21:46.625Z"
   },
   {
    "duration": 3,
    "start_time": "2024-12-13T14:35:53.787Z"
   },
   {
    "duration": 21,
    "start_time": "2024-12-13T14:35:53.793Z"
   },
   {
    "duration": 65,
    "start_time": "2024-12-13T14:35:53.816Z"
   },
   {
    "duration": 21,
    "start_time": "2024-12-13T14:35:53.883Z"
   },
   {
    "duration": 16,
    "start_time": "2024-12-13T14:35:53.907Z"
   },
   {
    "duration": 45,
    "start_time": "2024-12-13T14:35:53.924Z"
   },
   {
    "duration": 52,
    "start_time": "2024-12-13T14:35:53.971Z"
   },
   {
    "duration": 3,
    "start_time": "2024-12-13T14:35:54.024Z"
   },
   {
    "duration": 3,
    "start_time": "2024-12-13T14:35:54.053Z"
   },
   {
    "duration": 7,
    "start_time": "2024-12-13T14:35:54.057Z"
   },
   {
    "duration": 35,
    "start_time": "2024-12-13T14:35:54.066Z"
   },
   {
    "duration": 13,
    "start_time": "2024-12-13T14:35:54.103Z"
   },
   {
    "duration": 5,
    "start_time": "2024-12-13T14:35:54.118Z"
   },
   {
    "duration": 50,
    "start_time": "2024-12-13T14:35:54.124Z"
   },
   {
    "duration": 9,
    "start_time": "2024-12-13T14:35:54.176Z"
   },
   {
    "duration": 36,
    "start_time": "2024-12-13T14:35:54.186Z"
   },
   {
    "duration": 19,
    "start_time": "2024-12-13T14:35:54.224Z"
   },
   {
    "duration": 19,
    "start_time": "2024-12-13T14:35:54.245Z"
   },
   {
    "duration": 16,
    "start_time": "2024-12-13T14:35:54.265Z"
   },
   {
    "duration": 61,
    "start_time": "2024-12-13T14:35:54.283Z"
   },
   {
    "duration": 8,
    "start_time": "2024-12-13T14:35:54.345Z"
   },
   {
    "duration": 10,
    "start_time": "2024-12-13T14:35:54.355Z"
   },
   {
    "duration": 30,
    "start_time": "2024-12-13T14:35:54.367Z"
   },
   {
    "duration": 30,
    "start_time": "2024-12-13T14:35:54.399Z"
   },
   {
    "duration": 9,
    "start_time": "2024-12-13T14:35:54.431Z"
   },
   {
    "duration": 83,
    "start_time": "2024-12-13T14:35:54.441Z"
   },
   {
    "duration": 47,
    "start_time": "2024-12-13T14:35:54.526Z"
   },
   {
    "duration": 32,
    "start_time": "2024-12-13T14:35:54.575Z"
   },
   {
    "duration": 20,
    "start_time": "2024-12-13T14:35:54.612Z"
   },
   {
    "duration": 63,
    "start_time": "2024-12-13T14:35:54.633Z"
   },
   {
    "duration": 73,
    "start_time": "2024-12-13T14:35:54.698Z"
   },
   {
    "duration": 22,
    "start_time": "2024-12-13T14:35:54.774Z"
   },
   {
    "duration": 22,
    "start_time": "2024-12-13T14:35:54.797Z"
   },
   {
    "duration": 37,
    "start_time": "2024-12-13T14:35:54.821Z"
   },
   {
    "duration": 16,
    "start_time": "2024-12-13T14:35:54.860Z"
   },
   {
    "duration": 17,
    "start_time": "2024-12-13T14:35:54.878Z"
   },
   {
    "duration": 109,
    "start_time": "2024-12-13T14:35:54.896Z"
   },
   {
    "duration": 15,
    "start_time": "2024-12-13T14:35:55.007Z"
   },
   {
    "duration": 310,
    "start_time": "2024-12-13T14:35:55.023Z"
   },
   {
    "duration": 245,
    "start_time": "2024-12-13T14:35:55.334Z"
   },
   {
    "duration": 10,
    "start_time": "2024-12-13T14:35:55.581Z"
   },
   {
    "duration": 29,
    "start_time": "2024-12-13T14:35:55.593Z"
   },
   {
    "duration": 14,
    "start_time": "2024-12-13T14:35:55.624Z"
   },
   {
    "duration": 18,
    "start_time": "2024-12-13T14:35:55.640Z"
   },
   {
    "duration": 745,
    "start_time": "2024-12-13T14:35:55.660Z"
   },
   {
    "duration": 10,
    "start_time": "2024-12-13T14:35:56.407Z"
   },
   {
    "duration": 39,
    "start_time": "2024-12-13T14:35:56.418Z"
   },
   {
    "duration": 5,
    "start_time": "2024-12-13T14:35:56.459Z"
   },
   {
    "duration": 7,
    "start_time": "2024-12-13T14:35:56.466Z"
   },
   {
    "duration": 1195,
    "start_time": "2024-12-13T14:35:56.475Z"
   },
   {
    "duration": 31,
    "start_time": "2024-12-13T14:35:57.671Z"
   },
   {
    "duration": 374,
    "start_time": "2024-12-13T14:35:57.703Z"
   },
   {
    "duration": 257,
    "start_time": "2024-12-13T14:35:58.079Z"
   },
   {
    "duration": 43,
    "start_time": "2024-12-13T14:35:58.338Z"
   },
   {
    "duration": 5,
    "start_time": "2024-12-13T14:35:58.383Z"
   },
   {
    "duration": 8,
    "start_time": "2024-12-13T14:35:58.389Z"
   },
   {
    "duration": 19,
    "start_time": "2024-12-13T14:35:58.398Z"
   },
   {
    "duration": 145,
    "start_time": "2024-12-13T14:35:58.419Z"
   },
   {
    "duration": 147,
    "start_time": "2024-12-13T14:35:58.566Z"
   },
   {
    "duration": 12,
    "start_time": "2024-12-13T14:35:58.715Z"
   },
   {
    "duration": 13,
    "start_time": "2024-12-13T14:35:58.728Z"
   },
   {
    "duration": 838,
    "start_time": "2024-12-13T14:35:58.743Z"
   },
   {
    "duration": 11,
    "start_time": "2024-12-13T14:35:59.582Z"
   },
   {
    "duration": 202,
    "start_time": "2024-12-13T14:35:59.594Z"
   },
   {
    "duration": 179,
    "start_time": "2024-12-13T14:35:59.797Z"
   },
   {
    "duration": 4,
    "start_time": "2024-12-13T14:35:59.977Z"
   },
   {
    "duration": 21,
    "start_time": "2024-12-13T14:35:59.982Z"
   },
   {
    "duration": 14,
    "start_time": "2024-12-13T14:36:00.005Z"
   },
   {
    "duration": 36,
    "start_time": "2024-12-13T14:36:00.020Z"
   },
   {
    "duration": 460,
    "start_time": "2024-12-13T14:36:00.057Z"
   },
   {
    "duration": 661,
    "start_time": "2024-12-13T14:36:00.519Z"
   },
   {
    "duration": 505,
    "start_time": "2024-12-13T14:36:01.182Z"
   },
   {
    "duration": 7,
    "start_time": "2024-12-13T14:36:01.688Z"
   },
   {
    "duration": 12,
    "start_time": "2024-12-13T14:36:01.696Z"
   },
   {
    "duration": 8,
    "start_time": "2024-12-13T14:36:01.710Z"
   },
   {
    "duration": 17,
    "start_time": "2024-12-13T14:36:01.720Z"
   },
   {
    "duration": 30,
    "start_time": "2024-12-13T14:36:01.738Z"
   },
   {
    "duration": 11,
    "start_time": "2024-12-13T14:36:01.769Z"
   },
   {
    "duration": 36,
    "start_time": "2024-12-13T14:36:01.781Z"
   },
   {
    "duration": 48,
    "start_time": "2024-12-13T14:36:01.818Z"
   },
   {
    "duration": 31,
    "start_time": "2024-12-13T14:38:53.230Z"
   },
   {
    "duration": 12,
    "start_time": "2024-12-13T14:39:09.120Z"
   },
   {
    "duration": 13,
    "start_time": "2024-12-13T14:39:15.586Z"
   },
   {
    "duration": 11,
    "start_time": "2024-12-13T14:39:35.448Z"
   },
   {
    "duration": 129,
    "start_time": "2024-12-13T14:40:20.217Z"
   },
   {
    "duration": 936,
    "start_time": "2024-12-13T14:40:41.636Z"
   },
   {
    "duration": 137,
    "start_time": "2024-12-13T14:40:55.239Z"
   },
   {
    "duration": 25,
    "start_time": "2024-12-13T14:42:27.723Z"
   },
   {
    "duration": 32,
    "start_time": "2024-12-13T14:43:02.516Z"
   },
   {
    "duration": 8,
    "start_time": "2024-12-13T14:59:50.563Z"
   },
   {
    "duration": 3,
    "start_time": "2024-12-13T15:01:12.496Z"
   },
   {
    "duration": 13,
    "start_time": "2024-12-13T15:01:12.503Z"
   },
   {
    "duration": 62,
    "start_time": "2024-12-13T15:01:12.517Z"
   },
   {
    "duration": 14,
    "start_time": "2024-12-13T15:01:12.581Z"
   },
   {
    "duration": 6,
    "start_time": "2024-12-13T15:01:12.597Z"
   },
   {
    "duration": 20,
    "start_time": "2024-12-13T15:01:12.604Z"
   },
   {
    "duration": 60,
    "start_time": "2024-12-13T15:01:12.625Z"
   },
   {
    "duration": 4,
    "start_time": "2024-12-13T15:01:12.686Z"
   },
   {
    "duration": 4,
    "start_time": "2024-12-13T15:01:12.691Z"
   },
   {
    "duration": 13,
    "start_time": "2024-12-13T15:01:12.696Z"
   },
   {
    "duration": 15,
    "start_time": "2024-12-13T15:01:12.711Z"
   },
   {
    "duration": 32,
    "start_time": "2024-12-13T15:01:12.727Z"
   },
   {
    "duration": 5,
    "start_time": "2024-12-13T15:01:12.761Z"
   },
   {
    "duration": 15,
    "start_time": "2024-12-13T15:01:12.767Z"
   },
   {
    "duration": 9,
    "start_time": "2024-12-13T15:01:12.783Z"
   },
   {
    "duration": 11,
    "start_time": "2024-12-13T15:01:12.793Z"
   },
   {
    "duration": 13,
    "start_time": "2024-12-13T15:01:12.806Z"
   },
   {
    "duration": 37,
    "start_time": "2024-12-13T15:01:12.821Z"
   },
   {
    "duration": 11,
    "start_time": "2024-12-13T15:01:12.860Z"
   },
   {
    "duration": 20,
    "start_time": "2024-12-13T15:01:12.873Z"
   },
   {
    "duration": 8,
    "start_time": "2024-12-13T15:01:12.895Z"
   },
   {
    "duration": 9,
    "start_time": "2024-12-13T15:01:12.904Z"
   },
   {
    "duration": 39,
    "start_time": "2024-12-13T15:01:12.915Z"
   },
   {
    "duration": 25,
    "start_time": "2024-12-13T15:01:12.955Z"
   },
   {
    "duration": 9,
    "start_time": "2024-12-13T15:01:12.981Z"
   },
   {
    "duration": 22,
    "start_time": "2024-12-13T15:01:12.991Z"
   },
   {
    "duration": 7,
    "start_time": "2024-12-13T15:01:16.831Z"
   },
   {
    "duration": 8,
    "start_time": "2024-12-13T15:02:02.162Z"
   },
   {
    "duration": 4,
    "start_time": "2024-12-13T15:05:02.976Z"
   },
   {
    "duration": 30,
    "start_time": "2024-12-13T15:05:02.981Z"
   },
   {
    "duration": 66,
    "start_time": "2024-12-13T15:05:03.013Z"
   },
   {
    "duration": 16,
    "start_time": "2024-12-13T15:05:03.080Z"
   },
   {
    "duration": 40,
    "start_time": "2024-12-13T15:05:03.097Z"
   },
   {
    "duration": 23,
    "start_time": "2024-12-13T15:05:03.139Z"
   },
   {
    "duration": 54,
    "start_time": "2024-12-13T15:05:03.163Z"
   },
   {
    "duration": 3,
    "start_time": "2024-12-13T15:05:03.219Z"
   },
   {
    "duration": 25,
    "start_time": "2024-12-13T15:05:03.224Z"
   },
   {
    "duration": 17,
    "start_time": "2024-12-13T15:05:03.250Z"
   },
   {
    "duration": 44,
    "start_time": "2024-12-13T15:05:03.270Z"
   },
   {
    "duration": 32,
    "start_time": "2024-12-13T15:05:03.316Z"
   },
   {
    "duration": 5,
    "start_time": "2024-12-13T15:05:03.350Z"
   },
   {
    "duration": 21,
    "start_time": "2024-12-13T15:05:03.357Z"
   },
   {
    "duration": 26,
    "start_time": "2024-12-13T15:05:03.379Z"
   },
   {
    "duration": 20,
    "start_time": "2024-12-13T15:05:03.407Z"
   },
   {
    "duration": 37,
    "start_time": "2024-12-13T15:05:03.429Z"
   },
   {
    "duration": 74,
    "start_time": "2024-12-13T15:05:03.468Z"
   },
   {
    "duration": 23,
    "start_time": "2024-12-13T15:05:03.544Z"
   },
   {
    "duration": 50,
    "start_time": "2024-12-13T15:05:03.569Z"
   },
   {
    "duration": 9,
    "start_time": "2024-12-13T15:05:03.620Z"
   },
   {
    "duration": 20,
    "start_time": "2024-12-13T15:05:03.630Z"
   },
   {
    "duration": 56,
    "start_time": "2024-12-13T15:05:03.652Z"
   },
   {
    "duration": 63,
    "start_time": "2024-12-13T15:05:03.710Z"
   },
   {
    "duration": 9,
    "start_time": "2024-12-13T15:05:03.775Z"
   },
   {
    "duration": 30,
    "start_time": "2024-12-13T15:05:03.787Z"
   },
   {
    "duration": 28,
    "start_time": "2024-12-13T15:05:03.819Z"
   },
   {
    "duration": 13,
    "start_time": "2024-12-13T15:05:03.849Z"
   },
   {
    "duration": 0,
    "start_time": "2024-12-13T15:05:03.865Z"
   },
   {
    "duration": 0,
    "start_time": "2024-12-13T15:05:03.867Z"
   },
   {
    "duration": 1,
    "start_time": "2024-12-13T15:05:03.868Z"
   },
   {
    "duration": 0,
    "start_time": "2024-12-13T15:05:03.870Z"
   },
   {
    "duration": 0,
    "start_time": "2024-12-13T15:05:03.871Z"
   },
   {
    "duration": 0,
    "start_time": "2024-12-13T15:05:03.873Z"
   },
   {
    "duration": 0,
    "start_time": "2024-12-13T15:05:03.874Z"
   },
   {
    "duration": 0,
    "start_time": "2024-12-13T15:05:03.876Z"
   },
   {
    "duration": 0,
    "start_time": "2024-12-13T15:05:03.878Z"
   },
   {
    "duration": 0,
    "start_time": "2024-12-13T15:05:03.879Z"
   },
   {
    "duration": 0,
    "start_time": "2024-12-13T15:05:03.880Z"
   },
   {
    "duration": 0,
    "start_time": "2024-12-13T15:05:03.882Z"
   },
   {
    "duration": 0,
    "start_time": "2024-12-13T15:05:03.883Z"
   },
   {
    "duration": 0,
    "start_time": "2024-12-13T15:05:03.884Z"
   },
   {
    "duration": 0,
    "start_time": "2024-12-13T15:05:03.885Z"
   },
   {
    "duration": 0,
    "start_time": "2024-12-13T15:05:03.886Z"
   },
   {
    "duration": 0,
    "start_time": "2024-12-13T15:05:03.888Z"
   },
   {
    "duration": 0,
    "start_time": "2024-12-13T15:05:03.890Z"
   },
   {
    "duration": 0,
    "start_time": "2024-12-13T15:05:03.891Z"
   },
   {
    "duration": 0,
    "start_time": "2024-12-13T15:05:03.892Z"
   },
   {
    "duration": 0,
    "start_time": "2024-12-13T15:05:03.894Z"
   },
   {
    "duration": 0,
    "start_time": "2024-12-13T15:05:03.895Z"
   },
   {
    "duration": 0,
    "start_time": "2024-12-13T15:05:03.897Z"
   },
   {
    "duration": 0,
    "start_time": "2024-12-13T15:05:03.898Z"
   },
   {
    "duration": 0,
    "start_time": "2024-12-13T15:05:03.953Z"
   },
   {
    "duration": 0,
    "start_time": "2024-12-13T15:05:03.954Z"
   },
   {
    "duration": 0,
    "start_time": "2024-12-13T15:05:03.956Z"
   },
   {
    "duration": 0,
    "start_time": "2024-12-13T15:05:03.959Z"
   },
   {
    "duration": 0,
    "start_time": "2024-12-13T15:05:03.960Z"
   },
   {
    "duration": 0,
    "start_time": "2024-12-13T15:05:03.961Z"
   },
   {
    "duration": 0,
    "start_time": "2024-12-13T15:05:03.963Z"
   },
   {
    "duration": 0,
    "start_time": "2024-12-13T15:05:03.964Z"
   },
   {
    "duration": 1,
    "start_time": "2024-12-13T15:05:03.965Z"
   },
   {
    "duration": 0,
    "start_time": "2024-12-13T15:05:03.967Z"
   },
   {
    "duration": 0,
    "start_time": "2024-12-13T15:05:03.968Z"
   },
   {
    "duration": 0,
    "start_time": "2024-12-13T15:05:03.971Z"
   },
   {
    "duration": 0,
    "start_time": "2024-12-13T15:05:03.974Z"
   },
   {
    "duration": 0,
    "start_time": "2024-12-13T15:05:03.974Z"
   },
   {
    "duration": 0,
    "start_time": "2024-12-13T15:05:03.975Z"
   },
   {
    "duration": 0,
    "start_time": "2024-12-13T15:05:03.977Z"
   },
   {
    "duration": 0,
    "start_time": "2024-12-13T15:05:03.978Z"
   },
   {
    "duration": 0,
    "start_time": "2024-12-13T15:05:03.979Z"
   },
   {
    "duration": 0,
    "start_time": "2024-12-13T15:05:03.979Z"
   },
   {
    "duration": 0,
    "start_time": "2024-12-13T15:05:03.980Z"
   },
   {
    "duration": 0,
    "start_time": "2024-12-13T15:05:03.981Z"
   },
   {
    "duration": 0,
    "start_time": "2024-12-13T15:05:03.982Z"
   },
   {
    "duration": 0,
    "start_time": "2024-12-13T15:05:03.983Z"
   },
   {
    "duration": 0,
    "start_time": "2024-12-13T15:05:03.984Z"
   },
   {
    "duration": 0,
    "start_time": "2024-12-13T15:05:03.985Z"
   },
   {
    "duration": 0,
    "start_time": "2024-12-13T15:05:03.985Z"
   },
   {
    "duration": 0,
    "start_time": "2024-12-13T15:05:03.988Z"
   },
   {
    "duration": 0,
    "start_time": "2024-12-13T15:05:03.992Z"
   },
   {
    "duration": 0,
    "start_time": "2024-12-13T15:05:03.994Z"
   },
   {
    "duration": 897,
    "start_time": "2024-12-13T15:05:17.365Z"
   },
   {
    "duration": 819,
    "start_time": "2024-12-13T15:05:27.158Z"
   },
   {
    "duration": 5,
    "start_time": "2024-12-13T15:05:33.363Z"
   },
   {
    "duration": 5,
    "start_time": "2024-12-13T15:05:39.168Z"
   },
   {
    "duration": 21,
    "start_time": "2024-12-13T15:06:37.241Z"
   },
   {
    "duration": 1238,
    "start_time": "2024-12-13T15:09:44.011Z"
   },
   {
    "duration": 4,
    "start_time": "2024-12-13T15:09:45.253Z"
   },
   {
    "duration": 96,
    "start_time": "2024-12-13T15:09:45.260Z"
   },
   {
    "duration": 18,
    "start_time": "2024-12-13T15:09:45.359Z"
   },
   {
    "duration": 14,
    "start_time": "2024-12-13T15:09:45.379Z"
   },
   {
    "duration": 18,
    "start_time": "2024-12-13T15:09:45.394Z"
   },
   {
    "duration": 60,
    "start_time": "2024-12-13T15:09:45.413Z"
   },
   {
    "duration": 3,
    "start_time": "2024-12-13T15:09:45.474Z"
   },
   {
    "duration": 26,
    "start_time": "2024-12-13T15:09:45.479Z"
   },
   {
    "duration": 25,
    "start_time": "2024-12-13T15:09:45.508Z"
   },
   {
    "duration": 28,
    "start_time": "2024-12-13T15:09:45.534Z"
   },
   {
    "duration": 14,
    "start_time": "2024-12-13T15:09:45.564Z"
   },
   {
    "duration": 10,
    "start_time": "2024-12-13T15:09:45.580Z"
   },
   {
    "duration": 20,
    "start_time": "2024-12-13T15:09:45.591Z"
   },
   {
    "duration": 35,
    "start_time": "2024-12-13T15:09:45.612Z"
   },
   {
    "duration": 16,
    "start_time": "2024-12-13T15:09:45.648Z"
   },
   {
    "duration": 41,
    "start_time": "2024-12-13T15:09:45.665Z"
   },
   {
    "duration": 17,
    "start_time": "2024-12-13T15:09:45.707Z"
   },
   {
    "duration": 18,
    "start_time": "2024-12-13T15:09:45.726Z"
   },
   {
    "duration": 52,
    "start_time": "2024-12-13T15:09:45.745Z"
   },
   {
    "duration": 7,
    "start_time": "2024-12-13T15:09:45.798Z"
   },
   {
    "duration": 11,
    "start_time": "2024-12-13T15:09:45.806Z"
   },
   {
    "duration": 17,
    "start_time": "2024-12-13T15:09:45.818Z"
   },
   {
    "duration": 33,
    "start_time": "2024-12-13T15:09:45.836Z"
   },
   {
    "duration": 9,
    "start_time": "2024-12-13T15:09:45.870Z"
   },
   {
    "duration": 17,
    "start_time": "2024-12-13T15:09:45.880Z"
   },
   {
    "duration": 23,
    "start_time": "2024-12-13T15:09:45.899Z"
   },
   {
    "duration": 3,
    "start_time": "2024-12-13T15:09:45.928Z"
   },
   {
    "duration": 7,
    "start_time": "2024-12-13T15:09:45.933Z"
   },
   {
    "duration": 16,
    "start_time": "2024-12-13T15:09:45.941Z"
   },
   {
    "duration": 14,
    "start_time": "2024-12-13T15:09:45.959Z"
   },
   {
    "duration": 27,
    "start_time": "2024-12-13T15:09:45.975Z"
   },
   {
    "duration": 22,
    "start_time": "2024-12-13T15:09:46.004Z"
   },
   {
    "duration": 31,
    "start_time": "2024-12-13T15:09:46.028Z"
   },
   {
    "duration": 19,
    "start_time": "2024-12-13T15:09:46.061Z"
   },
   {
    "duration": 19,
    "start_time": "2024-12-13T15:09:46.081Z"
   },
   {
    "duration": 17,
    "start_time": "2024-12-13T15:09:46.101Z"
   },
   {
    "duration": 111,
    "start_time": "2024-12-13T15:09:46.119Z"
   },
   {
    "duration": 27,
    "start_time": "2024-12-13T15:09:46.232Z"
   },
   {
    "duration": 319,
    "start_time": "2024-12-13T15:09:46.260Z"
   },
   {
    "duration": 134,
    "start_time": "2024-12-13T15:09:46.581Z"
   },
   {
    "duration": 11,
    "start_time": "2024-12-13T15:09:46.716Z"
   },
   {
    "duration": 32,
    "start_time": "2024-12-13T15:09:46.728Z"
   },
   {
    "duration": 8,
    "start_time": "2024-12-13T15:09:46.762Z"
   },
   {
    "duration": 16,
    "start_time": "2024-12-13T15:09:46.771Z"
   },
   {
    "duration": 780,
    "start_time": "2024-12-13T15:09:46.789Z"
   },
   {
    "duration": 10,
    "start_time": "2024-12-13T15:09:47.570Z"
   },
   {
    "duration": 46,
    "start_time": "2024-12-13T15:09:47.581Z"
   },
   {
    "duration": 5,
    "start_time": "2024-12-13T15:09:47.629Z"
   },
   {
    "duration": 34,
    "start_time": "2024-12-13T15:09:47.636Z"
   },
   {
    "duration": 1313,
    "start_time": "2024-12-13T15:09:47.672Z"
   },
   {
    "duration": 78,
    "start_time": "2024-12-13T15:09:48.987Z"
   },
   {
    "duration": 313,
    "start_time": "2024-12-13T15:09:49.067Z"
   },
   {
    "duration": 265,
    "start_time": "2024-12-13T15:09:49.381Z"
   },
   {
    "duration": 38,
    "start_time": "2024-12-13T15:09:49.647Z"
   },
   {
    "duration": 78,
    "start_time": "2024-12-13T15:09:49.687Z"
   },
   {
    "duration": 11,
    "start_time": "2024-12-13T15:09:49.767Z"
   },
   {
    "duration": 8,
    "start_time": "2024-12-13T15:09:49.779Z"
   },
   {
    "duration": 141,
    "start_time": "2024-12-13T15:09:49.789Z"
   },
   {
    "duration": 143,
    "start_time": "2024-12-13T15:09:49.931Z"
   },
   {
    "duration": 12,
    "start_time": "2024-12-13T15:09:50.076Z"
   },
   {
    "duration": 13,
    "start_time": "2024-12-13T15:09:50.089Z"
   },
   {
    "duration": 1478,
    "start_time": "2024-12-13T15:09:50.103Z"
   },
   {
    "duration": 25,
    "start_time": "2024-12-13T15:09:51.583Z"
   },
   {
    "duration": 265,
    "start_time": "2024-12-13T15:09:51.653Z"
   },
   {
    "duration": 335,
    "start_time": "2024-12-13T15:09:51.920Z"
   },
   {
    "duration": 5,
    "start_time": "2024-12-13T15:09:52.256Z"
   },
   {
    "duration": 27,
    "start_time": "2024-12-13T15:09:52.262Z"
   },
   {
    "duration": 66,
    "start_time": "2024-12-13T15:09:52.290Z"
   },
   {
    "duration": 14,
    "start_time": "2024-12-13T15:09:52.358Z"
   },
   {
    "duration": 897,
    "start_time": "2024-12-13T15:09:52.374Z"
   },
   {
    "duration": 784,
    "start_time": "2024-12-13T15:09:53.272Z"
   },
   {
    "duration": 710,
    "start_time": "2024-12-13T15:09:54.058Z"
   },
   {
    "duration": 7,
    "start_time": "2024-12-13T15:09:54.769Z"
   },
   {
    "duration": 76,
    "start_time": "2024-12-13T15:09:54.777Z"
   },
   {
    "duration": 44,
    "start_time": "2024-12-13T15:09:54.855Z"
   },
   {
    "duration": 55,
    "start_time": "2024-12-13T15:09:54.900Z"
   },
   {
    "duration": 102,
    "start_time": "2024-12-13T15:09:54.957Z"
   },
   {
    "duration": 100,
    "start_time": "2024-12-13T15:09:55.060Z"
   },
   {
    "duration": 98,
    "start_time": "2024-12-13T15:09:55.161Z"
   },
   {
    "duration": 19,
    "start_time": "2024-12-13T15:09:55.261Z"
   },
   {
    "duration": 73876,
    "start_time": "2024-12-13T15:10:05.317Z"
   },
   {
    "duration": 0,
    "start_time": "2024-12-13T15:12:23.382Z"
   },
   {
    "duration": 24,
    "start_time": "2024-12-13T15:12:48.480Z"
   },
   {
    "duration": 856,
    "start_time": "2024-12-13T15:15:40.982Z"
   },
   {
    "duration": 9,
    "start_time": "2024-12-13T15:16:06.445Z"
   },
   {
    "duration": 980,
    "start_time": "2024-12-13T15:16:29.652Z"
   },
   {
    "duration": 25,
    "start_time": "2024-12-13T15:16:56.076Z"
   },
   {
    "duration": 153,
    "start_time": "2024-12-13T15:18:30.605Z"
   },
   {
    "duration": 176,
    "start_time": "2024-12-13T15:18:44.240Z"
   },
   {
    "duration": 136,
    "start_time": "2024-12-13T15:18:49.983Z"
   },
   {
    "duration": 117,
    "start_time": "2024-12-13T15:19:02.556Z"
   },
   {
    "duration": 129,
    "start_time": "2024-12-13T15:19:08.989Z"
   },
   {
    "duration": 129,
    "start_time": "2024-12-13T15:19:12.278Z"
   },
   {
    "duration": 180,
    "start_time": "2024-12-13T15:19:17.118Z"
   },
   {
    "duration": 157,
    "start_time": "2024-12-13T15:19:23.082Z"
   },
   {
    "duration": 142,
    "start_time": "2024-12-13T15:19:32.472Z"
   },
   {
    "duration": 195,
    "start_time": "2024-12-13T15:20:02.320Z"
   },
   {
    "duration": 163,
    "start_time": "2024-12-13T15:20:05.809Z"
   },
   {
    "duration": 147,
    "start_time": "2024-12-13T15:20:09.606Z"
   },
   {
    "duration": 158,
    "start_time": "2024-12-13T15:20:13.319Z"
   },
   {
    "duration": 152,
    "start_time": "2024-12-13T15:20:19.311Z"
   },
   {
    "duration": 160,
    "start_time": "2024-12-13T15:20:31.550Z"
   },
   {
    "duration": 148,
    "start_time": "2024-12-13T15:20:52.766Z"
   },
   {
    "duration": 165,
    "start_time": "2024-12-13T15:20:58.291Z"
   },
   {
    "duration": 148,
    "start_time": "2024-12-13T15:21:02.543Z"
   },
   {
    "duration": 150,
    "start_time": "2024-12-13T15:35:51.537Z"
   },
   {
    "duration": 133,
    "start_time": "2024-12-13T15:36:59.177Z"
   },
   {
    "duration": 147,
    "start_time": "2024-12-13T15:37:07.858Z"
   },
   {
    "duration": 136,
    "start_time": "2024-12-13T15:37:12.796Z"
   },
   {
    "duration": 146,
    "start_time": "2024-12-13T15:40:33.172Z"
   },
   {
    "duration": 830,
    "start_time": "2024-12-13T15:44:33.199Z"
   },
   {
    "duration": 30,
    "start_time": "2024-12-13T15:44:41.568Z"
   },
   {
    "duration": 145,
    "start_time": "2024-12-13T15:45:29.090Z"
   },
   {
    "duration": 46,
    "start_time": "2024-12-13T15:46:06.889Z"
   },
   {
    "duration": 816,
    "start_time": "2024-12-13T15:46:12.753Z"
   },
   {
    "duration": 911,
    "start_time": "2024-12-13T15:46:52.008Z"
   },
   {
    "duration": 1288,
    "start_time": "2024-12-13T15:59:12.987Z"
   },
   {
    "duration": 3,
    "start_time": "2024-12-13T15:59:14.276Z"
   },
   {
    "duration": 73,
    "start_time": "2024-12-13T15:59:14.280Z"
   },
   {
    "duration": 18,
    "start_time": "2024-12-13T15:59:14.355Z"
   },
   {
    "duration": 13,
    "start_time": "2024-12-13T15:59:14.374Z"
   },
   {
    "duration": 21,
    "start_time": "2024-12-13T15:59:14.389Z"
   },
   {
    "duration": 56,
    "start_time": "2024-12-13T15:59:14.412Z"
   },
   {
    "duration": 3,
    "start_time": "2024-12-13T15:59:14.470Z"
   },
   {
    "duration": 30,
    "start_time": "2024-12-13T15:59:14.474Z"
   },
   {
    "duration": 6,
    "start_time": "2024-12-13T15:59:14.507Z"
   },
   {
    "duration": 22,
    "start_time": "2024-12-13T15:59:14.514Z"
   },
   {
    "duration": 14,
    "start_time": "2024-12-13T15:59:14.537Z"
   },
   {
    "duration": 5,
    "start_time": "2024-12-13T15:59:14.552Z"
   },
   {
    "duration": 40,
    "start_time": "2024-12-13T15:59:14.558Z"
   },
   {
    "duration": 10,
    "start_time": "2024-12-13T15:59:14.600Z"
   },
   {
    "duration": 10,
    "start_time": "2024-12-13T15:59:14.611Z"
   },
   {
    "duration": 25,
    "start_time": "2024-12-13T15:59:14.623Z"
   },
   {
    "duration": 9,
    "start_time": "2024-12-13T15:59:14.650Z"
   },
   {
    "duration": 16,
    "start_time": "2024-12-13T15:59:14.661Z"
   },
   {
    "duration": 38,
    "start_time": "2024-12-13T15:59:14.678Z"
   },
   {
    "duration": 7,
    "start_time": "2024-12-13T15:59:14.717Z"
   },
   {
    "duration": 9,
    "start_time": "2024-12-13T15:59:14.726Z"
   },
   {
    "duration": 14,
    "start_time": "2024-12-13T15:59:14.736Z"
   },
   {
    "duration": 26,
    "start_time": "2024-12-13T15:59:14.752Z"
   },
   {
    "duration": 9,
    "start_time": "2024-12-13T15:59:14.780Z"
   },
   {
    "duration": 22,
    "start_time": "2024-12-13T15:59:14.790Z"
   },
   {
    "duration": 6,
    "start_time": "2024-12-13T15:59:14.814Z"
   },
   {
    "duration": 8,
    "start_time": "2024-12-13T15:59:14.825Z"
   },
   {
    "duration": 21,
    "start_time": "2024-12-13T15:59:14.835Z"
   },
   {
    "duration": 10,
    "start_time": "2024-12-13T15:59:14.858Z"
   },
   {
    "duration": 29,
    "start_time": "2024-12-13T15:59:14.869Z"
   },
   {
    "duration": 22,
    "start_time": "2024-12-13T15:59:14.900Z"
   },
   {
    "duration": 32,
    "start_time": "2024-12-13T15:59:14.923Z"
   },
   {
    "duration": 16,
    "start_time": "2024-12-13T15:59:14.957Z"
   },
   {
    "duration": 16,
    "start_time": "2024-12-13T15:59:14.975Z"
   },
   {
    "duration": 16,
    "start_time": "2024-12-13T15:59:14.992Z"
   },
   {
    "duration": 165,
    "start_time": "2024-12-13T15:59:15.010Z"
   },
   {
    "duration": 15,
    "start_time": "2024-12-13T15:59:15.176Z"
   },
   {
    "duration": 323,
    "start_time": "2024-12-13T15:59:15.192Z"
   },
   {
    "duration": 132,
    "start_time": "2024-12-13T15:59:15.516Z"
   },
   {
    "duration": 10,
    "start_time": "2024-12-13T15:59:15.649Z"
   },
   {
    "duration": 17,
    "start_time": "2024-12-13T15:59:15.661Z"
   },
   {
    "duration": 16,
    "start_time": "2024-12-13T15:59:15.679Z"
   },
   {
    "duration": 16,
    "start_time": "2024-12-13T15:59:15.696Z"
   },
   {
    "duration": 769,
    "start_time": "2024-12-13T15:59:15.714Z"
   },
   {
    "duration": 10,
    "start_time": "2024-12-13T15:59:16.485Z"
   },
   {
    "duration": 35,
    "start_time": "2024-12-13T15:59:16.497Z"
   },
   {
    "duration": 19,
    "start_time": "2024-12-13T15:59:16.534Z"
   },
   {
    "duration": 7,
    "start_time": "2024-12-13T15:59:16.554Z"
   },
   {
    "duration": 1283,
    "start_time": "2024-12-13T15:59:16.562Z"
   },
   {
    "duration": 74,
    "start_time": "2024-12-13T15:59:17.847Z"
   },
   {
    "duration": 321,
    "start_time": "2024-12-13T15:59:17.922Z"
   },
   {
    "duration": 259,
    "start_time": "2024-12-13T15:59:18.244Z"
   },
   {
    "duration": 35,
    "start_time": "2024-12-13T15:59:18.504Z"
   },
   {
    "duration": 15,
    "start_time": "2024-12-13T15:59:18.541Z"
   },
   {
    "duration": 9,
    "start_time": "2024-12-13T15:59:18.557Z"
   },
   {
    "duration": 6,
    "start_time": "2024-12-13T15:59:18.567Z"
   },
   {
    "duration": 158,
    "start_time": "2024-12-13T15:59:18.574Z"
   },
   {
    "duration": 153,
    "start_time": "2024-12-13T15:59:18.734Z"
   },
   {
    "duration": 13,
    "start_time": "2024-12-13T15:59:18.889Z"
   },
   {
    "duration": 13,
    "start_time": "2024-12-13T15:59:18.903Z"
   },
   {
    "duration": 1379,
    "start_time": "2024-12-13T15:59:18.918Z"
   },
   {
    "duration": 65,
    "start_time": "2024-12-13T15:59:20.299Z"
   },
   {
    "duration": 338,
    "start_time": "2024-12-13T15:59:20.365Z"
   },
   {
    "duration": 197,
    "start_time": "2024-12-13T15:59:20.705Z"
   },
   {
    "duration": 4,
    "start_time": "2024-12-13T15:59:20.903Z"
   },
   {
    "duration": 14,
    "start_time": "2024-12-13T15:59:20.909Z"
   },
   {
    "duration": 30,
    "start_time": "2024-12-13T15:59:20.925Z"
   },
   {
    "duration": 13,
    "start_time": "2024-12-13T15:59:20.957Z"
   },
   {
    "duration": 525,
    "start_time": "2024-12-13T15:59:20.972Z"
   },
   {
    "duration": 439,
    "start_time": "2024-12-13T15:59:21.499Z"
   },
   {
    "duration": 422,
    "start_time": "2024-12-13T15:59:21.940Z"
   },
   {
    "duration": 8,
    "start_time": "2024-12-13T15:59:22.364Z"
   },
   {
    "duration": 5,
    "start_time": "2024-12-13T15:59:22.374Z"
   },
   {
    "duration": 6,
    "start_time": "2024-12-13T15:59:22.381Z"
   },
   {
    "duration": 8,
    "start_time": "2024-12-13T15:59:22.389Z"
   },
   {
    "duration": 7,
    "start_time": "2024-12-13T15:59:22.398Z"
   },
   {
    "duration": 5,
    "start_time": "2024-12-13T15:59:22.406Z"
   },
   {
    "duration": 41,
    "start_time": "2024-12-13T15:59:22.412Z"
   },
   {
    "duration": 12,
    "start_time": "2024-12-13T15:59:22.455Z"
   },
   {
    "duration": 1164,
    "start_time": "2024-12-13T16:11:51.789Z"
   },
   {
    "duration": 2,
    "start_time": "2024-12-13T16:11:52.955Z"
   },
   {
    "duration": 57,
    "start_time": "2024-12-13T16:11:52.958Z"
   },
   {
    "duration": 18,
    "start_time": "2024-12-13T16:11:53.017Z"
   },
   {
    "duration": 4,
    "start_time": "2024-12-13T16:11:53.036Z"
   },
   {
    "duration": 17,
    "start_time": "2024-12-13T16:11:53.041Z"
   },
   {
    "duration": 60,
    "start_time": "2024-12-13T16:11:53.059Z"
   },
   {
    "duration": 4,
    "start_time": "2024-12-13T16:11:53.120Z"
   },
   {
    "duration": 39,
    "start_time": "2024-12-13T16:11:53.125Z"
   },
   {
    "duration": 20,
    "start_time": "2024-12-13T16:11:53.166Z"
   },
   {
    "duration": 33,
    "start_time": "2024-12-13T16:11:53.188Z"
   },
   {
    "duration": 57,
    "start_time": "2024-12-13T16:11:53.223Z"
   },
   {
    "duration": 23,
    "start_time": "2024-12-13T16:11:53.282Z"
   },
   {
    "duration": 13,
    "start_time": "2024-12-13T16:11:53.307Z"
   },
   {
    "duration": 39,
    "start_time": "2024-12-13T16:11:53.322Z"
   },
   {
    "duration": 11,
    "start_time": "2024-12-13T16:11:53.362Z"
   },
   {
    "duration": 24,
    "start_time": "2024-12-13T16:11:53.375Z"
   },
   {
    "duration": 26,
    "start_time": "2024-12-13T16:11:53.400Z"
   },
   {
    "duration": 32,
    "start_time": "2024-12-13T16:11:53.428Z"
   },
   {
    "duration": 39,
    "start_time": "2024-12-13T16:11:53.461Z"
   },
   {
    "duration": 18,
    "start_time": "2024-12-13T16:11:53.502Z"
   },
   {
    "duration": 43,
    "start_time": "2024-12-13T16:11:53.521Z"
   },
   {
    "duration": 5,
    "start_time": "2024-12-13T16:11:53.566Z"
   },
   {
    "duration": 25,
    "start_time": "2024-12-13T16:11:53.572Z"
   },
   {
    "duration": 8,
    "start_time": "2024-12-13T16:11:53.599Z"
   },
   {
    "duration": 7,
    "start_time": "2024-12-13T16:11:53.609Z"
   },
   {
    "duration": 11,
    "start_time": "2024-12-13T16:11:53.618Z"
   },
   {
    "duration": 5,
    "start_time": "2024-12-13T16:11:53.633Z"
   },
   {
    "duration": 5,
    "start_time": "2024-12-13T16:11:53.652Z"
   },
   {
    "duration": 7,
    "start_time": "2024-12-13T16:11:53.659Z"
   },
   {
    "duration": 28,
    "start_time": "2024-12-13T16:11:53.667Z"
   },
   {
    "duration": 21,
    "start_time": "2024-12-13T16:11:53.696Z"
   },
   {
    "duration": 45,
    "start_time": "2024-12-13T16:11:53.719Z"
   },
   {
    "duration": 18,
    "start_time": "2024-12-13T16:11:53.766Z"
   },
   {
    "duration": 27,
    "start_time": "2024-12-13T16:11:53.785Z"
   },
   {
    "duration": 24,
    "start_time": "2024-12-13T16:11:53.813Z"
   },
   {
    "duration": 172,
    "start_time": "2024-12-13T16:11:53.838Z"
   },
   {
    "duration": 14,
    "start_time": "2024-12-13T16:11:54.011Z"
   },
   {
    "duration": 315,
    "start_time": "2024-12-13T16:11:54.026Z"
   },
   {
    "duration": 126,
    "start_time": "2024-12-13T16:11:54.343Z"
   },
   {
    "duration": 12,
    "start_time": "2024-12-13T16:11:54.470Z"
   },
   {
    "duration": 10,
    "start_time": "2024-12-13T16:11:54.483Z"
   },
   {
    "duration": 30,
    "start_time": "2024-12-13T16:11:54.494Z"
   },
   {
    "duration": 19,
    "start_time": "2024-12-13T16:11:54.525Z"
   },
   {
    "duration": 764,
    "start_time": "2024-12-13T16:11:54.545Z"
   },
   {
    "duration": 10,
    "start_time": "2024-12-13T16:11:55.311Z"
   },
   {
    "duration": 39,
    "start_time": "2024-12-13T16:11:55.323Z"
   },
   {
    "duration": 6,
    "start_time": "2024-12-13T16:11:55.363Z"
   },
   {
    "duration": 6,
    "start_time": "2024-12-13T16:11:55.370Z"
   },
   {
    "duration": 1280,
    "start_time": "2024-12-13T16:11:55.378Z"
   },
   {
    "duration": 64,
    "start_time": "2024-12-13T16:11:56.660Z"
   },
   {
    "duration": 321,
    "start_time": "2024-12-13T16:11:56.726Z"
   },
   {
    "duration": 251,
    "start_time": "2024-12-13T16:11:57.052Z"
   },
   {
    "duration": 32,
    "start_time": "2024-12-13T16:11:57.304Z"
   },
   {
    "duration": 20,
    "start_time": "2024-12-13T16:11:57.337Z"
   },
   {
    "duration": 7,
    "start_time": "2024-12-13T16:11:57.359Z"
   },
   {
    "duration": 6,
    "start_time": "2024-12-13T16:11:57.367Z"
   },
   {
    "duration": 162,
    "start_time": "2024-12-13T16:11:57.374Z"
   },
   {
    "duration": 151,
    "start_time": "2024-12-13T16:11:57.537Z"
   },
   {
    "duration": 12,
    "start_time": "2024-12-13T16:11:57.690Z"
   },
   {
    "duration": 16,
    "start_time": "2024-12-13T16:11:57.703Z"
   },
   {
    "duration": 861,
    "start_time": "2024-12-13T16:11:57.721Z"
   },
   {
    "duration": 27,
    "start_time": "2024-12-13T16:11:58.583Z"
   },
   {
    "duration": 198,
    "start_time": "2024-12-13T16:11:58.611Z"
   },
   {
    "duration": 178,
    "start_time": "2024-12-13T16:11:58.811Z"
   },
   {
    "duration": 5,
    "start_time": "2024-12-13T16:11:58.990Z"
   },
   {
    "duration": 31,
    "start_time": "2024-12-13T16:11:58.996Z"
   },
   {
    "duration": 14,
    "start_time": "2024-12-13T16:11:59.029Z"
   },
   {
    "duration": 13,
    "start_time": "2024-12-13T16:11:59.052Z"
   },
   {
    "duration": 508,
    "start_time": "2024-12-13T16:11:59.066Z"
   },
   {
    "duration": 457,
    "start_time": "2024-12-13T16:11:59.575Z"
   },
   {
    "duration": 436,
    "start_time": "2024-12-13T16:12:00.033Z"
   },
   {
    "duration": 6,
    "start_time": "2024-12-13T16:12:00.471Z"
   },
   {
    "duration": 45,
    "start_time": "2024-12-13T16:12:00.479Z"
   },
   {
    "duration": 34,
    "start_time": "2024-12-13T16:12:00.525Z"
   },
   {
    "duration": 61,
    "start_time": "2024-12-13T16:12:00.560Z"
   },
   {
    "duration": 78,
    "start_time": "2024-12-13T16:12:00.623Z"
   },
   {
    "duration": 45,
    "start_time": "2024-12-13T16:12:00.703Z"
   },
   {
    "duration": 54,
    "start_time": "2024-12-13T16:12:00.750Z"
   },
   {
    "duration": 40,
    "start_time": "2024-12-13T16:12:00.806Z"
   },
   {
    "duration": 49,
    "start_time": "2024-12-13T18:01:03.486Z"
   },
   {
    "duration": 1297,
    "start_time": "2024-12-13T18:01:11.364Z"
   },
   {
    "duration": 3,
    "start_time": "2024-12-13T18:01:12.663Z"
   },
   {
    "duration": 167,
    "start_time": "2024-12-13T18:01:12.668Z"
   },
   {
    "duration": 19,
    "start_time": "2024-12-13T18:01:12.837Z"
   },
   {
    "duration": 29,
    "start_time": "2024-12-13T18:01:12.858Z"
   },
   {
    "duration": 31,
    "start_time": "2024-12-13T18:01:12.889Z"
   },
   {
    "duration": 58,
    "start_time": "2024-12-13T18:01:12.922Z"
   },
   {
    "duration": 30,
    "start_time": "2024-12-13T18:01:12.982Z"
   },
   {
    "duration": 29,
    "start_time": "2024-12-13T18:01:13.014Z"
   },
   {
    "duration": 26,
    "start_time": "2024-12-13T18:01:13.046Z"
   },
   {
    "duration": 33,
    "start_time": "2024-12-13T18:01:13.074Z"
   },
   {
    "duration": 23,
    "start_time": "2024-12-13T18:01:13.109Z"
   },
   {
    "duration": 21,
    "start_time": "2024-12-13T18:01:13.134Z"
   },
   {
    "duration": 38,
    "start_time": "2024-12-13T18:01:13.156Z"
   },
   {
    "duration": 47,
    "start_time": "2024-12-13T18:01:13.196Z"
   },
   {
    "duration": 31,
    "start_time": "2024-12-13T18:01:13.245Z"
   },
   {
    "duration": 30,
    "start_time": "2024-12-13T18:01:13.278Z"
   },
   {
    "duration": 9,
    "start_time": "2024-12-13T18:01:13.310Z"
   },
   {
    "duration": 40,
    "start_time": "2024-12-13T18:01:13.320Z"
   },
   {
    "duration": 23,
    "start_time": "2024-12-13T18:01:13.362Z"
   },
   {
    "duration": 17,
    "start_time": "2024-12-13T18:01:13.387Z"
   },
   {
    "duration": 17,
    "start_time": "2024-12-13T18:01:13.406Z"
   },
   {
    "duration": 13,
    "start_time": "2024-12-13T18:01:13.424Z"
   },
   {
    "duration": 55,
    "start_time": "2024-12-13T18:01:13.438Z"
   },
   {
    "duration": 16,
    "start_time": "2024-12-13T18:01:13.494Z"
   },
   {
    "duration": 33,
    "start_time": "2024-12-13T18:01:13.512Z"
   },
   {
    "duration": 18,
    "start_time": "2024-12-13T18:01:13.547Z"
   },
   {
    "duration": 29,
    "start_time": "2024-12-13T18:01:13.569Z"
   },
   {
    "duration": 27,
    "start_time": "2024-12-13T18:01:13.599Z"
   },
   {
    "duration": 34,
    "start_time": "2024-12-13T18:01:13.628Z"
   },
   {
    "duration": 45,
    "start_time": "2024-12-13T18:01:13.663Z"
   },
   {
    "duration": 31,
    "start_time": "2024-12-13T18:01:13.709Z"
   },
   {
    "duration": 38,
    "start_time": "2024-12-13T18:01:13.741Z"
   },
   {
    "duration": 25,
    "start_time": "2024-12-13T18:01:13.780Z"
   },
   {
    "duration": 32,
    "start_time": "2024-12-13T18:01:13.806Z"
   },
   {
    "duration": 42,
    "start_time": "2024-12-13T18:01:13.839Z"
   },
   {
    "duration": 95,
    "start_time": "2024-12-13T18:01:13.882Z"
   },
   {
    "duration": 14,
    "start_time": "2024-12-13T18:01:13.978Z"
   },
   {
    "duration": 338,
    "start_time": "2024-12-13T18:01:13.993Z"
   },
   {
    "duration": 135,
    "start_time": "2024-12-13T18:01:14.332Z"
   },
   {
    "duration": 11,
    "start_time": "2024-12-13T18:01:14.468Z"
   },
   {
    "duration": 35,
    "start_time": "2024-12-13T18:01:14.481Z"
   },
   {
    "duration": 30,
    "start_time": "2024-12-13T18:01:14.517Z"
   },
   {
    "duration": 61,
    "start_time": "2024-12-13T18:01:14.549Z"
   },
   {
    "duration": 770,
    "start_time": "2024-12-13T18:01:14.612Z"
   },
   {
    "duration": 10,
    "start_time": "2024-12-13T18:01:15.384Z"
   },
   {
    "duration": 63,
    "start_time": "2024-12-13T18:01:15.395Z"
   },
   {
    "duration": 31,
    "start_time": "2024-12-13T18:01:15.459Z"
   },
   {
    "duration": 65,
    "start_time": "2024-12-13T18:01:15.491Z"
   },
   {
    "duration": 1271,
    "start_time": "2024-12-13T18:01:15.557Z"
   },
   {
    "duration": 80,
    "start_time": "2024-12-13T18:01:16.829Z"
   },
   {
    "duration": 313,
    "start_time": "2024-12-13T18:01:16.910Z"
   },
   {
    "duration": 259,
    "start_time": "2024-12-13T18:01:17.225Z"
   },
   {
    "duration": 48,
    "start_time": "2024-12-13T18:01:17.485Z"
   },
   {
    "duration": 4,
    "start_time": "2024-12-13T18:01:17.535Z"
   },
   {
    "duration": 12,
    "start_time": "2024-12-13T18:01:17.541Z"
   },
   {
    "duration": 25,
    "start_time": "2024-12-13T18:01:17.554Z"
   },
   {
    "duration": 141,
    "start_time": "2024-12-13T18:01:17.580Z"
   },
   {
    "duration": 150,
    "start_time": "2024-12-13T18:01:17.723Z"
   },
   {
    "duration": 12,
    "start_time": "2024-12-13T18:01:17.875Z"
   },
   {
    "duration": 9,
    "start_time": "2024-12-13T18:01:17.888Z"
   },
   {
    "duration": 944,
    "start_time": "2024-12-13T18:01:17.898Z"
   },
   {
    "duration": 24,
    "start_time": "2024-12-13T18:01:18.844Z"
   },
   {
    "duration": 187,
    "start_time": "2024-12-13T18:01:18.870Z"
   },
   {
    "duration": 186,
    "start_time": "2024-12-13T18:01:19.059Z"
   },
   {
    "duration": 4,
    "start_time": "2024-12-13T18:01:19.247Z"
   },
   {
    "duration": 20,
    "start_time": "2024-12-13T18:01:19.253Z"
   },
   {
    "duration": 14,
    "start_time": "2024-12-13T18:01:19.275Z"
   },
   {
    "duration": 37,
    "start_time": "2024-12-13T18:01:19.291Z"
   },
   {
    "duration": 514,
    "start_time": "2024-12-13T18:01:19.330Z"
   },
   {
    "duration": 462,
    "start_time": "2024-12-13T18:01:19.846Z"
   },
   {
    "duration": 422,
    "start_time": "2024-12-13T18:01:20.310Z"
   },
   {
    "duration": 6,
    "start_time": "2024-12-13T18:01:20.734Z"
   },
   {
    "duration": 4,
    "start_time": "2024-12-13T18:01:20.742Z"
   },
   {
    "duration": 7,
    "start_time": "2024-12-13T18:01:20.747Z"
   },
   {
    "duration": 39,
    "start_time": "2024-12-13T18:01:20.755Z"
   },
   {
    "duration": 59,
    "start_time": "2024-12-13T18:01:20.795Z"
   },
   {
    "duration": 18,
    "start_time": "2024-12-13T18:01:20.856Z"
   },
   {
    "duration": 11,
    "start_time": "2024-12-13T18:01:20.876Z"
   },
   {
    "duration": 8,
    "start_time": "2024-12-13T18:01:20.888Z"
   },
   {
    "duration": 166,
    "start_time": "2024-12-13T18:01:40.932Z"
   }
  ],
  "kernelspec": {
   "display_name": "Python 3 (ipykernel)",
   "language": "python",
   "name": "python3"
  },
  "language_info": {
   "codemirror_mode": {
    "name": "ipython",
    "version": 3
   },
   "file_extension": ".py",
   "mimetype": "text/x-python",
   "name": "python",
   "nbconvert_exporter": "python",
   "pygments_lexer": "ipython3",
   "version": "3.9.20"
  },
  "toc": {
   "base_numbering": 1,
   "nav_menu": {},
   "number_sections": true,
   "sideBar": true,
   "skip_h1_title": true,
   "title_cell": "Содержание",
   "title_sidebar": "Contents",
   "toc_cell": true,
   "toc_position": {
    "height": "calc(100% - 180px)",
    "left": "10px",
    "top": "150px",
    "width": "223.891px"
   },
   "toc_section_display": true,
   "toc_window_display": false
  }
 },
 "nbformat": 4,
 "nbformat_minor": 4
}
