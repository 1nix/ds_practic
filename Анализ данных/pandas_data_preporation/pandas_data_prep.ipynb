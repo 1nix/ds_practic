{
 "cells": [
  {
   "cell_type": "markdown",
   "id": "7f3de7e1",
   "metadata": {
    "deletable": false,
    "editable": false,
    "id": "c81daeeb"
   },
   "source": [
    "# Исследование надежности заемщиков\n"
   ]
  },
  {
   "cell_type": "markdown",
   "id": "9dfe613d",
   "metadata": {
    "deletable": false,
    "editable": false,
    "id": "827c20bf"
   },
   "source": [
    "Во второй части проекта вы выполните шаги 3 и 4. Их вручную проверит ревьюер.\n",
    "Чтобы вам не пришлось писать код заново для шагов 1 и 2, мы добавили авторские решения в ячейки с кодом. \n",
    "\n"
   ]
  },
  {
   "cell_type": "markdown",
   "id": "2f1d37d8",
   "metadata": {
    "deletable": false,
    "editable": false,
    "id": "744d7639"
   },
   "source": [
    "## Откройте таблицу и изучите общую информацию о данных"
   ]
  },
  {
   "cell_type": "markdown",
   "id": "e7cca66e",
   "metadata": {
    "deletable": false,
    "editable": false,
    "id": "e7a14c31"
   },
   "source": [
    "**Задание 1. Импортируйте библиотеку pandas. Считайте данные из csv-файла в датафрейм и сохраните в переменную `data`. Путь к файлу:**\n",
    "\n",
    "`/datasets/data.csv`"
   ]
  },
  {
   "cell_type": "code",
   "execution_count": 1,
   "id": "c4751f84",
   "metadata": {
    "deletable": false,
    "id": "7bcf75c9"
   },
   "outputs": [],
   "source": [
    "import pandas as pd\n",
    "\n",
    "try:\n",
    "    data = pd.read_csv('/datasets/data.csv')\n",
    "except:\n",
    "    data = pd.read_csv('https://code.s3.yandex.net/datasets/data.csv')"
   ]
  },
  {
   "cell_type": "markdown",
   "id": "14dde9b8",
   "metadata": {
    "deletable": false,
    "editable": false,
    "id": "b8038fe3"
   },
   "source": [
    "**Задание 2. Выведите первые 20 строчек датафрейма `data` на экран.**"
   ]
  },
  {
   "cell_type": "code",
   "execution_count": 2,
   "id": "daa1e10e",
   "metadata": {
    "deletable": false,
    "id": "2a7cab99",
    "outputId": "1a8f3ef2-d323-4ec2-ddf7-89670b5944c4"
   },
   "outputs": [
    {
     "data": {
      "text/html": [
       "<div>\n",
       "<style scoped>\n",
       "    .dataframe tbody tr th:only-of-type {\n",
       "        vertical-align: middle;\n",
       "    }\n",
       "\n",
       "    .dataframe tbody tr th {\n",
       "        vertical-align: top;\n",
       "    }\n",
       "\n",
       "    .dataframe thead th {\n",
       "        text-align: right;\n",
       "    }\n",
       "</style>\n",
       "<table border=\"1\" class=\"dataframe\">\n",
       "  <thead>\n",
       "    <tr style=\"text-align: right;\">\n",
       "      <th></th>\n",
       "      <th>children</th>\n",
       "      <th>days_employed</th>\n",
       "      <th>dob_years</th>\n",
       "      <th>education</th>\n",
       "      <th>education_id</th>\n",
       "      <th>family_status</th>\n",
       "      <th>family_status_id</th>\n",
       "      <th>gender</th>\n",
       "      <th>income_type</th>\n",
       "      <th>debt</th>\n",
       "      <th>total_income</th>\n",
       "      <th>purpose</th>\n",
       "    </tr>\n",
       "  </thead>\n",
       "  <tbody>\n",
       "    <tr>\n",
       "      <th>0</th>\n",
       "      <td>1</td>\n",
       "      <td>-8437.673028</td>\n",
       "      <td>42</td>\n",
       "      <td>высшее</td>\n",
       "      <td>0</td>\n",
       "      <td>женат / замужем</td>\n",
       "      <td>0</td>\n",
       "      <td>F</td>\n",
       "      <td>сотрудник</td>\n",
       "      <td>0</td>\n",
       "      <td>253875.639453</td>\n",
       "      <td>покупка жилья</td>\n",
       "    </tr>\n",
       "    <tr>\n",
       "      <th>1</th>\n",
       "      <td>1</td>\n",
       "      <td>-4024.803754</td>\n",
       "      <td>36</td>\n",
       "      <td>среднее</td>\n",
       "      <td>1</td>\n",
       "      <td>женат / замужем</td>\n",
       "      <td>0</td>\n",
       "      <td>F</td>\n",
       "      <td>сотрудник</td>\n",
       "      <td>0</td>\n",
       "      <td>112080.014102</td>\n",
       "      <td>приобретение автомобиля</td>\n",
       "    </tr>\n",
       "    <tr>\n",
       "      <th>2</th>\n",
       "      <td>0</td>\n",
       "      <td>-5623.422610</td>\n",
       "      <td>33</td>\n",
       "      <td>Среднее</td>\n",
       "      <td>1</td>\n",
       "      <td>женат / замужем</td>\n",
       "      <td>0</td>\n",
       "      <td>M</td>\n",
       "      <td>сотрудник</td>\n",
       "      <td>0</td>\n",
       "      <td>145885.952297</td>\n",
       "      <td>покупка жилья</td>\n",
       "    </tr>\n",
       "    <tr>\n",
       "      <th>3</th>\n",
       "      <td>3</td>\n",
       "      <td>-4124.747207</td>\n",
       "      <td>32</td>\n",
       "      <td>среднее</td>\n",
       "      <td>1</td>\n",
       "      <td>женат / замужем</td>\n",
       "      <td>0</td>\n",
       "      <td>M</td>\n",
       "      <td>сотрудник</td>\n",
       "      <td>0</td>\n",
       "      <td>267628.550329</td>\n",
       "      <td>дополнительное образование</td>\n",
       "    </tr>\n",
       "    <tr>\n",
       "      <th>4</th>\n",
       "      <td>0</td>\n",
       "      <td>340266.072047</td>\n",
       "      <td>53</td>\n",
       "      <td>среднее</td>\n",
       "      <td>1</td>\n",
       "      <td>гражданский брак</td>\n",
       "      <td>1</td>\n",
       "      <td>F</td>\n",
       "      <td>пенсионер</td>\n",
       "      <td>0</td>\n",
       "      <td>158616.077870</td>\n",
       "      <td>сыграть свадьбу</td>\n",
       "    </tr>\n",
       "    <tr>\n",
       "      <th>5</th>\n",
       "      <td>0</td>\n",
       "      <td>-926.185831</td>\n",
       "      <td>27</td>\n",
       "      <td>высшее</td>\n",
       "      <td>0</td>\n",
       "      <td>гражданский брак</td>\n",
       "      <td>1</td>\n",
       "      <td>M</td>\n",
       "      <td>компаньон</td>\n",
       "      <td>0</td>\n",
       "      <td>255763.565419</td>\n",
       "      <td>покупка жилья</td>\n",
       "    </tr>\n",
       "    <tr>\n",
       "      <th>6</th>\n",
       "      <td>0</td>\n",
       "      <td>-2879.202052</td>\n",
       "      <td>43</td>\n",
       "      <td>высшее</td>\n",
       "      <td>0</td>\n",
       "      <td>женат / замужем</td>\n",
       "      <td>0</td>\n",
       "      <td>F</td>\n",
       "      <td>компаньон</td>\n",
       "      <td>0</td>\n",
       "      <td>240525.971920</td>\n",
       "      <td>операции с жильем</td>\n",
       "    </tr>\n",
       "    <tr>\n",
       "      <th>7</th>\n",
       "      <td>0</td>\n",
       "      <td>-152.779569</td>\n",
       "      <td>50</td>\n",
       "      <td>СРЕДНЕЕ</td>\n",
       "      <td>1</td>\n",
       "      <td>женат / замужем</td>\n",
       "      <td>0</td>\n",
       "      <td>M</td>\n",
       "      <td>сотрудник</td>\n",
       "      <td>0</td>\n",
       "      <td>135823.934197</td>\n",
       "      <td>образование</td>\n",
       "    </tr>\n",
       "    <tr>\n",
       "      <th>8</th>\n",
       "      <td>2</td>\n",
       "      <td>-6929.865299</td>\n",
       "      <td>35</td>\n",
       "      <td>ВЫСШЕЕ</td>\n",
       "      <td>0</td>\n",
       "      <td>гражданский брак</td>\n",
       "      <td>1</td>\n",
       "      <td>F</td>\n",
       "      <td>сотрудник</td>\n",
       "      <td>0</td>\n",
       "      <td>95856.832424</td>\n",
       "      <td>на проведение свадьбы</td>\n",
       "    </tr>\n",
       "    <tr>\n",
       "      <th>9</th>\n",
       "      <td>0</td>\n",
       "      <td>-2188.756445</td>\n",
       "      <td>41</td>\n",
       "      <td>среднее</td>\n",
       "      <td>1</td>\n",
       "      <td>женат / замужем</td>\n",
       "      <td>0</td>\n",
       "      <td>M</td>\n",
       "      <td>сотрудник</td>\n",
       "      <td>0</td>\n",
       "      <td>144425.938277</td>\n",
       "      <td>покупка жилья для семьи</td>\n",
       "    </tr>\n",
       "    <tr>\n",
       "      <th>10</th>\n",
       "      <td>2</td>\n",
       "      <td>-4171.483647</td>\n",
       "      <td>36</td>\n",
       "      <td>высшее</td>\n",
       "      <td>0</td>\n",
       "      <td>женат / замужем</td>\n",
       "      <td>0</td>\n",
       "      <td>M</td>\n",
       "      <td>компаньон</td>\n",
       "      <td>0</td>\n",
       "      <td>113943.491460</td>\n",
       "      <td>покупка недвижимости</td>\n",
       "    </tr>\n",
       "    <tr>\n",
       "      <th>11</th>\n",
       "      <td>0</td>\n",
       "      <td>-792.701887</td>\n",
       "      <td>40</td>\n",
       "      <td>среднее</td>\n",
       "      <td>1</td>\n",
       "      <td>женат / замужем</td>\n",
       "      <td>0</td>\n",
       "      <td>F</td>\n",
       "      <td>сотрудник</td>\n",
       "      <td>0</td>\n",
       "      <td>77069.234271</td>\n",
       "      <td>покупка коммерческой недвижимости</td>\n",
       "    </tr>\n",
       "    <tr>\n",
       "      <th>12</th>\n",
       "      <td>0</td>\n",
       "      <td>NaN</td>\n",
       "      <td>65</td>\n",
       "      <td>среднее</td>\n",
       "      <td>1</td>\n",
       "      <td>гражданский брак</td>\n",
       "      <td>1</td>\n",
       "      <td>M</td>\n",
       "      <td>пенсионер</td>\n",
       "      <td>0</td>\n",
       "      <td>NaN</td>\n",
       "      <td>сыграть свадьбу</td>\n",
       "    </tr>\n",
       "    <tr>\n",
       "      <th>13</th>\n",
       "      <td>0</td>\n",
       "      <td>-1846.641941</td>\n",
       "      <td>54</td>\n",
       "      <td>неоконченное высшее</td>\n",
       "      <td>2</td>\n",
       "      <td>женат / замужем</td>\n",
       "      <td>0</td>\n",
       "      <td>F</td>\n",
       "      <td>сотрудник</td>\n",
       "      <td>0</td>\n",
       "      <td>130458.228857</td>\n",
       "      <td>приобретение автомобиля</td>\n",
       "    </tr>\n",
       "    <tr>\n",
       "      <th>14</th>\n",
       "      <td>0</td>\n",
       "      <td>-1844.956182</td>\n",
       "      <td>56</td>\n",
       "      <td>высшее</td>\n",
       "      <td>0</td>\n",
       "      <td>гражданский брак</td>\n",
       "      <td>1</td>\n",
       "      <td>F</td>\n",
       "      <td>компаньон</td>\n",
       "      <td>1</td>\n",
       "      <td>165127.911772</td>\n",
       "      <td>покупка жилой недвижимости</td>\n",
       "    </tr>\n",
       "    <tr>\n",
       "      <th>15</th>\n",
       "      <td>1</td>\n",
       "      <td>-972.364419</td>\n",
       "      <td>26</td>\n",
       "      <td>среднее</td>\n",
       "      <td>1</td>\n",
       "      <td>женат / замужем</td>\n",
       "      <td>0</td>\n",
       "      <td>F</td>\n",
       "      <td>сотрудник</td>\n",
       "      <td>0</td>\n",
       "      <td>116820.904450</td>\n",
       "      <td>строительство собственной недвижимости</td>\n",
       "    </tr>\n",
       "    <tr>\n",
       "      <th>16</th>\n",
       "      <td>0</td>\n",
       "      <td>-1719.934226</td>\n",
       "      <td>35</td>\n",
       "      <td>среднее</td>\n",
       "      <td>1</td>\n",
       "      <td>женат / замужем</td>\n",
       "      <td>0</td>\n",
       "      <td>F</td>\n",
       "      <td>сотрудник</td>\n",
       "      <td>0</td>\n",
       "      <td>289202.704229</td>\n",
       "      <td>недвижимость</td>\n",
       "    </tr>\n",
       "    <tr>\n",
       "      <th>17</th>\n",
       "      <td>0</td>\n",
       "      <td>-2369.999720</td>\n",
       "      <td>33</td>\n",
       "      <td>высшее</td>\n",
       "      <td>0</td>\n",
       "      <td>гражданский брак</td>\n",
       "      <td>1</td>\n",
       "      <td>M</td>\n",
       "      <td>сотрудник</td>\n",
       "      <td>0</td>\n",
       "      <td>90410.586745</td>\n",
       "      <td>строительство недвижимости</td>\n",
       "    </tr>\n",
       "    <tr>\n",
       "      <th>18</th>\n",
       "      <td>0</td>\n",
       "      <td>400281.136913</td>\n",
       "      <td>53</td>\n",
       "      <td>среднее</td>\n",
       "      <td>1</td>\n",
       "      <td>вдовец / вдова</td>\n",
       "      <td>2</td>\n",
       "      <td>F</td>\n",
       "      <td>пенсионер</td>\n",
       "      <td>0</td>\n",
       "      <td>56823.777243</td>\n",
       "      <td>на покупку подержанного автомобиля</td>\n",
       "    </tr>\n",
       "    <tr>\n",
       "      <th>19</th>\n",
       "      <td>0</td>\n",
       "      <td>-10038.818549</td>\n",
       "      <td>48</td>\n",
       "      <td>СРЕДНЕЕ</td>\n",
       "      <td>1</td>\n",
       "      <td>в разводе</td>\n",
       "      <td>3</td>\n",
       "      <td>F</td>\n",
       "      <td>сотрудник</td>\n",
       "      <td>0</td>\n",
       "      <td>242831.107982</td>\n",
       "      <td>на покупку своего автомобиля</td>\n",
       "    </tr>\n",
       "  </tbody>\n",
       "</table>\n",
       "</div>"
      ],
      "text/plain": [
       "    children  days_employed  dob_years            education  education_id  \\\n",
       "0          1   -8437.673028         42               высшее             0   \n",
       "1          1   -4024.803754         36              среднее             1   \n",
       "2          0   -5623.422610         33              Среднее             1   \n",
       "3          3   -4124.747207         32              среднее             1   \n",
       "4          0  340266.072047         53              среднее             1   \n",
       "5          0    -926.185831         27               высшее             0   \n",
       "6          0   -2879.202052         43               высшее             0   \n",
       "7          0    -152.779569         50              СРЕДНЕЕ             1   \n",
       "8          2   -6929.865299         35               ВЫСШЕЕ             0   \n",
       "9          0   -2188.756445         41              среднее             1   \n",
       "10         2   -4171.483647         36               высшее             0   \n",
       "11         0    -792.701887         40              среднее             1   \n",
       "12         0            NaN         65              среднее             1   \n",
       "13         0   -1846.641941         54  неоконченное высшее             2   \n",
       "14         0   -1844.956182         56               высшее             0   \n",
       "15         1    -972.364419         26              среднее             1   \n",
       "16         0   -1719.934226         35              среднее             1   \n",
       "17         0   -2369.999720         33               высшее             0   \n",
       "18         0  400281.136913         53              среднее             1   \n",
       "19         0  -10038.818549         48              СРЕДНЕЕ             1   \n",
       "\n",
       "       family_status  family_status_id gender income_type  debt  \\\n",
       "0    женат / замужем                 0      F   сотрудник     0   \n",
       "1    женат / замужем                 0      F   сотрудник     0   \n",
       "2    женат / замужем                 0      M   сотрудник     0   \n",
       "3    женат / замужем                 0      M   сотрудник     0   \n",
       "4   гражданский брак                 1      F   пенсионер     0   \n",
       "5   гражданский брак                 1      M   компаньон     0   \n",
       "6    женат / замужем                 0      F   компаньон     0   \n",
       "7    женат / замужем                 0      M   сотрудник     0   \n",
       "8   гражданский брак                 1      F   сотрудник     0   \n",
       "9    женат / замужем                 0      M   сотрудник     0   \n",
       "10   женат / замужем                 0      M   компаньон     0   \n",
       "11   женат / замужем                 0      F   сотрудник     0   \n",
       "12  гражданский брак                 1      M   пенсионер     0   \n",
       "13   женат / замужем                 0      F   сотрудник     0   \n",
       "14  гражданский брак                 1      F   компаньон     1   \n",
       "15   женат / замужем                 0      F   сотрудник     0   \n",
       "16   женат / замужем                 0      F   сотрудник     0   \n",
       "17  гражданский брак                 1      M   сотрудник     0   \n",
       "18    вдовец / вдова                 2      F   пенсионер     0   \n",
       "19         в разводе                 3      F   сотрудник     0   \n",
       "\n",
       "     total_income                                 purpose  \n",
       "0   253875.639453                           покупка жилья  \n",
       "1   112080.014102                 приобретение автомобиля  \n",
       "2   145885.952297                           покупка жилья  \n",
       "3   267628.550329              дополнительное образование  \n",
       "4   158616.077870                         сыграть свадьбу  \n",
       "5   255763.565419                           покупка жилья  \n",
       "6   240525.971920                       операции с жильем  \n",
       "7   135823.934197                             образование  \n",
       "8    95856.832424                   на проведение свадьбы  \n",
       "9   144425.938277                 покупка жилья для семьи  \n",
       "10  113943.491460                    покупка недвижимости  \n",
       "11   77069.234271       покупка коммерческой недвижимости  \n",
       "12            NaN                         сыграть свадьбу  \n",
       "13  130458.228857                 приобретение автомобиля  \n",
       "14  165127.911772              покупка жилой недвижимости  \n",
       "15  116820.904450  строительство собственной недвижимости  \n",
       "16  289202.704229                            недвижимость  \n",
       "17   90410.586745              строительство недвижимости  \n",
       "18   56823.777243      на покупку подержанного автомобиля  \n",
       "19  242831.107982            на покупку своего автомобиля  "
      ]
     },
     "execution_count": 2,
     "metadata": {},
     "output_type": "execute_result"
    }
   ],
   "source": [
    "data.head(20)"
   ]
  },
  {
   "cell_type": "markdown",
   "id": "d553adaf",
   "metadata": {
    "deletable": false,
    "editable": false,
    "id": "1c12e233"
   },
   "source": [
    "**Задание 3. Выведите основную информацию о датафрейме с помощью метода `info()`.**"
   ]
  },
  {
   "cell_type": "code",
   "execution_count": 3,
   "id": "818e08f7",
   "metadata": {
    "deletable": false,
    "id": "2b757bca",
    "outputId": "15376089-8dad-46c9-b520-c05248d43158"
   },
   "outputs": [
    {
     "name": "stdout",
     "output_type": "stream",
     "text": [
      "<class 'pandas.core.frame.DataFrame'>\n",
      "RangeIndex: 21525 entries, 0 to 21524\n",
      "Data columns (total 12 columns):\n",
      " #   Column            Non-Null Count  Dtype  \n",
      "---  ------            --------------  -----  \n",
      " 0   children          21525 non-null  int64  \n",
      " 1   days_employed     19351 non-null  float64\n",
      " 2   dob_years         21525 non-null  int64  \n",
      " 3   education         21525 non-null  object \n",
      " 4   education_id      21525 non-null  int64  \n",
      " 5   family_status     21525 non-null  object \n",
      " 6   family_status_id  21525 non-null  int64  \n",
      " 7   gender            21525 non-null  object \n",
      " 8   income_type       21525 non-null  object \n",
      " 9   debt              21525 non-null  int64  \n",
      " 10  total_income      19351 non-null  float64\n",
      " 11  purpose           21525 non-null  object \n",
      "dtypes: float64(2), int64(5), object(5)\n",
      "memory usage: 2.0+ MB\n"
     ]
    }
   ],
   "source": [
    "data.info()"
   ]
  },
  {
   "cell_type": "markdown",
   "id": "f00c1db8",
   "metadata": {
    "deletable": false,
    "editable": false,
    "id": "333ec665"
   },
   "source": [
    "## Предобработка данных"
   ]
  },
  {
   "cell_type": "markdown",
   "id": "2963670a",
   "metadata": {
    "deletable": false,
    "editable": false,
    "id": "02d92d53"
   },
   "source": [
    "### Удаление пропусков"
   ]
  },
  {
   "cell_type": "markdown",
   "id": "ff7215e4",
   "metadata": {
    "deletable": false,
    "editable": false,
    "id": "cd84967c"
   },
   "source": [
    "**Задание 4. Выведите количество пропущенных значений для каждого столбца. Используйте комбинацию двух методов.**"
   ]
  },
  {
   "cell_type": "code",
   "execution_count": 4,
   "id": "2b87d248",
   "metadata": {
    "deletable": false,
    "id": "7f9b2309",
    "outputId": "81f4d817-781c-465c-ed15-91ce4446810d"
   },
   "outputs": [
    {
     "data": {
      "text/plain": [
       "children               0\n",
       "days_employed       2174\n",
       "dob_years              0\n",
       "education              0\n",
       "education_id           0\n",
       "family_status          0\n",
       "family_status_id       0\n",
       "gender                 0\n",
       "income_type            0\n",
       "debt                   0\n",
       "total_income        2174\n",
       "purpose                0\n",
       "dtype: int64"
      ]
     },
     "execution_count": 4,
     "metadata": {},
     "output_type": "execute_result"
    }
   ],
   "source": [
    "data.isna().sum()"
   ]
  },
  {
   "cell_type": "markdown",
   "id": "ebdcd238",
   "metadata": {
    "deletable": false,
    "editable": false,
    "id": "db86e27b"
   },
   "source": [
    "**Задание 5. В двух столбцах есть пропущенные значения. Один из них — `days_employed`. Пропуски в этом столбце вы обработаете на следующем этапе. Другой столбец с пропущенными значениями — `total_income` — хранит данные о доходах. На сумму дохода сильнее всего влияет тип занятости, поэтому заполнить пропуски в этом столбце нужно медианным значением по каждому типу из столбца `income_type`. Например, у человека с типом занятости `сотрудник` пропуск в столбце `total_income` должен быть заполнен медианным доходом среди всех записей с тем же типом.**"
   ]
  },
  {
   "cell_type": "code",
   "execution_count": 5,
   "id": "bc5405d3",
   "metadata": {
    "deletable": false,
    "id": "42006a93"
   },
   "outputs": [],
   "source": [
    "for t in data['income_type'].unique():\n",
    "    data.loc[(data['income_type'] == t) & (data['total_income'].isna()), 'total_income'] = \\\n",
    "    data.loc[(data['income_type'] == t), 'total_income'].median()"
   ]
  },
  {
   "cell_type": "markdown",
   "id": "b3ba0dab",
   "metadata": {
    "deletable": false,
    "editable": false,
    "id": "89da5ece"
   },
   "source": [
    "### Обработка аномальных значений"
   ]
  },
  {
   "cell_type": "markdown",
   "id": "a8587e79",
   "metadata": {
    "deletable": false,
    "editable": false,
    "id": "57964554"
   },
   "source": [
    "**Задание 6. В данных могут встречаться артефакты (аномалии) — значения, которые не отражают действительность и появились по какой-то ошибке. таким артефактом будет отрицательное количество дней трудового стажа в столбце `days_employed`. Для реальных данных это нормально. Обработайте значения в этом столбце: замените все отрицательные значения положительными с помощью метода `abs()`.**"
   ]
  },
  {
   "cell_type": "code",
   "execution_count": 6,
   "id": "ccb28ce4",
   "metadata": {
    "deletable": false,
    "id": "f6f055bf"
   },
   "outputs": [],
   "source": [
    "data['days_employed'] = data['days_employed'].abs()"
   ]
  },
  {
   "cell_type": "markdown",
   "id": "100d3ec3",
   "metadata": {
    "deletable": false,
    "editable": false,
    "id": "6107dd2f"
   },
   "source": [
    "**Задание 7. Для каждого типа занятости выведите медианное значение трудового стажа `days_employed` в днях.**"
   ]
  },
  {
   "cell_type": "code",
   "execution_count": 7,
   "id": "7a4ca5ff",
   "metadata": {
    "deletable": false,
    "id": "85a5faf6",
    "outputId": "801ef80e-522b-4668-f34e-565af7432bcf"
   },
   "outputs": [
    {
     "data": {
      "text/plain": [
       "income_type\n",
       "безработный        366413.652744\n",
       "в декрете            3296.759962\n",
       "госслужащий          2689.368353\n",
       "компаньон            1547.382223\n",
       "пенсионер          365213.306266\n",
       "предприниматель       520.848083\n",
       "сотрудник            1574.202821\n",
       "студент               578.751554\n",
       "Name: days_employed, dtype: float64"
      ]
     },
     "execution_count": 7,
     "metadata": {},
     "output_type": "execute_result"
    }
   ],
   "source": [
    "data.groupby('income_type')['days_employed'].agg('median')"
   ]
  },
  {
   "cell_type": "markdown",
   "id": "0bbf2289",
   "metadata": {
    "deletable": false,
    "editable": false,
    "id": "38d1a030"
   },
   "source": [
    "У двух типов (безработные и пенсионеры) получатся аномально большие значения. Исправить такие значения сложно, поэтому оставьте их как есть. Тем более этот столбец не понадобится вам для исследования."
   ]
  },
  {
   "cell_type": "markdown",
   "id": "4e3b9d41",
   "metadata": {
    "deletable": false,
    "editable": false,
    "id": "d8a9f147"
   },
   "source": [
    "**Задание 8. Выведите перечень уникальных значений столбца `children`.**"
   ]
  },
  {
   "cell_type": "code",
   "execution_count": 8,
   "id": "95f84dab",
   "metadata": {
    "deletable": false,
    "id": "ef5056eb",
    "outputId": "6975b15c-7f95-4697-d16d-a0c79b657b03"
   },
   "outputs": [
    {
     "data": {
      "text/plain": [
       "array([ 1,  0,  3,  2, -1,  4, 20,  5])"
      ]
     },
     "execution_count": 8,
     "metadata": {},
     "output_type": "execute_result"
    }
   ],
   "source": [
    "data['children'].unique()"
   ]
  },
  {
   "cell_type": "markdown",
   "id": "fc04f11e",
   "metadata": {
    "deletable": false,
    "editable": false,
    "id": "40b9ebf2"
   },
   "source": [
    "**Задание 9. В столбце `children` есть два аномальных значения. Удалите строки, в которых встречаются такие аномальные значения из датафрейма `data`.**"
   ]
  },
  {
   "cell_type": "code",
   "execution_count": 9,
   "id": "65cddc58",
   "metadata": {
    "deletable": false,
    "id": "3ff9801d"
   },
   "outputs": [],
   "source": [
    "data = data[(data['children'] != -1) & (data['children'] != 20)]"
   ]
  },
  {
   "cell_type": "markdown",
   "id": "743af3a5",
   "metadata": {
    "deletable": false,
    "editable": false,
    "id": "bbc4d0ce"
   },
   "source": [
    "**Задание 10. Ещё раз выведите перечень уникальных значений столбца `children`, чтобы убедиться, что артефакты удалены.**"
   ]
  },
  {
   "cell_type": "code",
   "execution_count": 10,
   "id": "0e3c64e7",
   "metadata": {
    "deletable": false,
    "id": "ad4fa8b7",
    "outputId": "b2097101-d49d-44d9-901b-32a65c9463d1"
   },
   "outputs": [
    {
     "data": {
      "text/plain": [
       "array([1, 0, 3, 2, 4, 5])"
      ]
     },
     "execution_count": 10,
     "metadata": {},
     "output_type": "execute_result"
    }
   ],
   "source": [
    "data['children'].unique()"
   ]
  },
  {
   "cell_type": "markdown",
   "id": "b6775812",
   "metadata": {
    "deletable": false,
    "editable": false,
    "id": "75440b63"
   },
   "source": [
    "### Удаление пропусков (продолжение)"
   ]
  },
  {
   "cell_type": "markdown",
   "id": "1a9e55db",
   "metadata": {
    "deletable": false,
    "editable": false,
    "id": "f4ea573f"
   },
   "source": [
    "**Задание 11. Заполните пропуски в столбце `days_employed` медианными значениями по каждого типа занятости `income_type`.**"
   ]
  },
  {
   "cell_type": "code",
   "execution_count": 11,
   "id": "67219f5b",
   "metadata": {
    "deletable": false,
    "id": "af6b1a7e"
   },
   "outputs": [],
   "source": [
    "for t in data['income_type'].unique():\n",
    "    data.loc[(data['income_type'] == t) & (data['days_employed'].isna()), 'days_employed'] = \\\n",
    "    data.loc[(data['income_type'] == t), 'days_employed'].median()"
   ]
  },
  {
   "cell_type": "markdown",
   "id": "4100eaee",
   "metadata": {
    "deletable": false,
    "editable": false,
    "id": "2753f40d"
   },
   "source": [
    "**Задание 12. Убедитесь, что все пропуски заполнены. Проверьте себя и ещё раз выведите количество пропущенных значений для каждого столбца с помощью двух методов.**"
   ]
  },
  {
   "cell_type": "code",
   "execution_count": 12,
   "id": "8a1d8b91",
   "metadata": {
    "deletable": false,
    "id": "55f78bc2",
    "outputId": "8da1e4e1-358e-4e87-98c9-f261bce0a7b2"
   },
   "outputs": [
    {
     "data": {
      "text/plain": [
       "children            0\n",
       "days_employed       0\n",
       "dob_years           0\n",
       "education           0\n",
       "education_id        0\n",
       "family_status       0\n",
       "family_status_id    0\n",
       "gender              0\n",
       "income_type         0\n",
       "debt                0\n",
       "total_income        0\n",
       "purpose             0\n",
       "dtype: int64"
      ]
     },
     "execution_count": 12,
     "metadata": {},
     "output_type": "execute_result"
    }
   ],
   "source": [
    "data.isna().sum()"
   ]
  },
  {
   "cell_type": "markdown",
   "id": "28a3e296",
   "metadata": {
    "deletable": false,
    "editable": false,
    "id": "ddc81e43"
   },
   "source": [
    "### Изменение типов данных"
   ]
  },
  {
   "cell_type": "markdown",
   "id": "431ee589",
   "metadata": {
    "deletable": false,
    "editable": false,
    "id": "42d19d24"
   },
   "source": [
    "**Задание 13. Замените вещественный тип данных в столбце `total_income` на целочисленный с помощью метода `astype()`.**"
   ]
  },
  {
   "cell_type": "code",
   "execution_count": 13,
   "id": "051731f8",
   "metadata": {
    "deletable": false,
    "id": "920b65ad"
   },
   "outputs": [],
   "source": [
    "data['total_income'] = data['total_income'].astype(int)"
   ]
  },
  {
   "cell_type": "markdown",
   "id": "5f934e53",
   "metadata": {
    "deletable": false,
    "editable": false,
    "id": "80c420ba"
   },
   "source": [
    "### Обработка дубликатов"
   ]
  },
  {
   "cell_type": "markdown",
   "id": "035ddcb1",
   "metadata": {
    "deletable": false,
    "editable": false
   },
   "source": [
    "**Задание 14. Обработайте неявные дубликаты в столбце `education`. В этом столбце есть одни и те же значения, но записанные по-разному: с использованием заглавных и строчных букв. Приведите их к нижнему регистру. Проверьте остальные столбцы.**"
   ]
  },
  {
   "cell_type": "code",
   "execution_count": 14,
   "id": "6538d01b",
   "metadata": {
    "deletable": false
   },
   "outputs": [],
   "source": [
    "data['education'] = data['education'].str.lower()"
   ]
  },
  {
   "cell_type": "markdown",
   "id": "afd59a69",
   "metadata": {
    "deletable": false,
    "editable": false,
    "id": "dc587695"
   },
   "source": [
    "**Задание 15. Выведите на экран количество строк-дубликатов в данных. Если такие строки присутствуют, удалите их.**"
   ]
  },
  {
   "cell_type": "code",
   "execution_count": 15,
   "id": "502318f0",
   "metadata": {
    "deletable": false,
    "id": "3ee445e4",
    "outputId": "9684deba-1934-42d1-99e1-cda61740f822"
   },
   "outputs": [
    {
     "data": {
      "text/plain": [
       "71"
      ]
     },
     "execution_count": 15,
     "metadata": {},
     "output_type": "execute_result"
    }
   ],
   "source": [
    "data.duplicated().sum()"
   ]
  },
  {
   "cell_type": "code",
   "execution_count": 16,
   "id": "9a4a15d8",
   "metadata": {
    "deletable": false,
    "id": "8575fe05"
   },
   "outputs": [],
   "source": [
    "data = data.drop_duplicates()"
   ]
  },
  {
   "cell_type": "markdown",
   "id": "9415b205",
   "metadata": {
    "deletable": false,
    "editable": false,
    "id": "9904cf55"
   },
   "source": [
    "### Категоризация данных"
   ]
  },
  {
   "cell_type": "markdown",
   "id": "5cc50947",
   "metadata": {
    "deletable": false,
    "editable": false,
    "id": "72fcc8a2"
   },
   "source": [
    "**Задание 16. На основании диапазонов, указанных ниже, создайте в датафрейме `data` столбец `total_income_category` с категориями:**\n",
    "\n",
    "- 0–30000 — `'E'`;\n",
    "- 30001–50000 — `'D'`;\n",
    "- 50001–200000 — `'C'`;\n",
    "- 200001–1000000 — `'B'`;\n",
    "- 1000001 и выше — `'A'`.\n",
    "\n",
    "\n",
    "**Например, кредитополучателю с доходом 25000 нужно назначить категорию `'E'`, а клиенту, получающему 235000, — `'B'`. Используйте собственную функцию с именем `categorize_income()` и метод `apply()`.**"
   ]
  },
  {
   "cell_type": "code",
   "execution_count": 17,
   "id": "1d9e4539",
   "metadata": {
    "deletable": false,
    "id": "e1771346"
   },
   "outputs": [],
   "source": [
    "def categorize_income(income):\n",
    "    try:\n",
    "        if 0 <= income <= 30000:\n",
    "            return 'E'\n",
    "        elif 30001 <= income <= 50000:\n",
    "            return 'D'\n",
    "        elif 50001 <= income <= 200000:\n",
    "            return 'C'\n",
    "        elif 200001 <= income <= 1000000:\n",
    "            return 'B'\n",
    "        elif income >= 1000001:\n",
    "            return 'A'\n",
    "    except:\n",
    "        pass"
   ]
  },
  {
   "cell_type": "code",
   "execution_count": 18,
   "id": "b20405a0",
   "metadata": {
    "deletable": false,
    "id": "d5f3586d"
   },
   "outputs": [],
   "source": [
    "data['total_income_category'] = data['total_income'].apply(categorize_income)"
   ]
  },
  {
   "cell_type": "markdown",
   "id": "d6718abf",
   "metadata": {
    "deletable": false,
    "editable": false,
    "id": "dde49b5c"
   },
   "source": [
    "**Задание 17. Выведите на экран перечень уникальных целей взятия кредита из столбца `purpose`.**"
   ]
  },
  {
   "cell_type": "code",
   "execution_count": 19,
   "id": "12908835",
   "metadata": {
    "deletable": false,
    "id": "f67ce9b3",
    "outputId": "673c12d9-7d7e-4ae0-9812-c622c89dd244"
   },
   "outputs": [
    {
     "data": {
      "text/plain": [
       "array(['покупка жилья', 'приобретение автомобиля',\n",
       "       'дополнительное образование', 'сыграть свадьбу',\n",
       "       'операции с жильем', 'образование', 'на проведение свадьбы',\n",
       "       'покупка жилья для семьи', 'покупка недвижимости',\n",
       "       'покупка коммерческой недвижимости', 'покупка жилой недвижимости',\n",
       "       'строительство собственной недвижимости', 'недвижимость',\n",
       "       'строительство недвижимости', 'на покупку подержанного автомобиля',\n",
       "       'на покупку своего автомобиля',\n",
       "       'операции с коммерческой недвижимостью',\n",
       "       'строительство жилой недвижимости', 'жилье',\n",
       "       'операции со своей недвижимостью', 'автомобили',\n",
       "       'заняться образованием', 'сделка с подержанным автомобилем',\n",
       "       'получение образования', 'автомобиль', 'свадьба',\n",
       "       'получение дополнительного образования', 'покупка своего жилья',\n",
       "       'операции с недвижимостью', 'получение высшего образования',\n",
       "       'свой автомобиль', 'сделка с автомобилем',\n",
       "       'профильное образование', 'высшее образование',\n",
       "       'покупка жилья для сдачи', 'на покупку автомобиля', 'ремонт жилью',\n",
       "       'заняться высшим образованием'], dtype=object)"
      ]
     },
     "execution_count": 19,
     "metadata": {},
     "output_type": "execute_result"
    }
   ],
   "source": [
    "data['purpose'].unique()"
   ]
  },
  {
   "cell_type": "markdown",
   "id": "fa253b2d",
   "metadata": {
    "deletable": false,
    "editable": false,
    "id": "85d0aef0"
   },
   "source": [
    "**Задание 18. Создайте функцию, которая на основании данных из столбца `purpose` сформирует новый столбец `purpose_category`, в который войдут следующие категории:**\n",
    "\n",
    "- `'операции с автомобилем'`,\n",
    "- `'операции с недвижимостью'`,\n",
    "- `'проведение свадьбы'`,\n",
    "- `'получение образования'`.\n",
    "\n",
    "**Например, если в столбце `purpose` находится подстрока `'на покупку автомобиля'`, то в столбце `purpose_category` должна появиться строка `'операции с автомобилем'`.**\n",
    "\n",
    "**Используйте собственную функцию с именем `categorize_purpose()` и метод `apply()`. Изучите данные в столбце `purpose` и определите, какие подстроки помогут вам правильно определить категорию.**"
   ]
  },
  {
   "cell_type": "code",
   "execution_count": 20,
   "id": "3e21efd7",
   "metadata": {
    "deletable": false,
    "id": "e149fab4"
   },
   "outputs": [],
   "source": [
    "def categorize_purpose(row):\n",
    "    try:\n",
    "        if 'автом' in row:\n",
    "            return 'операции с автомобилем'\n",
    "        elif 'жил' in row or 'недвиж' in row:\n",
    "            return 'операции с недвижимостью'\n",
    "        elif 'свад' in row:\n",
    "            return 'проведение свадьбы'\n",
    "        elif 'образов' in row:\n",
    "            return 'получение образования'\n",
    "    except:\n",
    "        return 'нет категории'"
   ]
  },
  {
   "cell_type": "code",
   "execution_count": 21,
   "id": "37373411",
   "metadata": {
    "deletable": false,
    "id": "bf36e69b"
   },
   "outputs": [],
   "source": [
    "data['purpose_category'] = data['purpose'].apply(categorize_purpose)"
   ]
  },
  {
   "cell_type": "markdown",
   "id": "be4911d8",
   "metadata": {
    "deletable": false,
    "editable": false,
    "id": "09b242bf"
   },
   "source": [
    "### Шаг 3. Исследуйте данные и ответьте на вопросы"
   ]
  },
  {
   "cell_type": "markdown",
   "id": "caf6fa4a",
   "metadata": {},
   "source": [
    "<div class=\"alert alert-info\"; style=\"border-left: 7px solid SteelBlue\">\n",
    "<h5> <font color=\"SteelBlue\">Комментарий от студента (синий)</font></h5>    \n",
    "\n",
    "Ну, если знать заранее, что тут код везде будет одинаков, конечно соглашусь\n",
    "\n",
    "</div>\n"
   ]
  },
  {
   "cell_type": "code",
   "execution_count": 22,
   "id": "5c89ff53",
   "metadata": {},
   "outputs": [],
   "source": [
    "def grouping (target, row): # группировка по колонке \n",
    "    try:\n",
    "        return row.groupby([target]).agg({'debt':['mean','sum','count']}).round(2)\n",
    "    except:\n",
    "        print('smth wrong')\n",
    "        "
   ]
  },
  {
   "cell_type": "markdown",
   "id": "77413f80",
   "metadata": {
    "deletable": false,
    "editable": false,
    "id": "c5d66278"
   },
   "source": [
    "#### 3.1 Есть ли зависимость между количеством детей и возвратом кредита в срок?"
   ]
  },
  {
   "cell_type": "code",
   "execution_count": 23,
   "id": "f3e5a546",
   "metadata": {
    "deletable": false,
    "id": "2cacfc4a"
   },
   "outputs": [
    {
     "data": {
      "text/html": [
       "<div>\n",
       "<style scoped>\n",
       "    .dataframe tbody tr th:only-of-type {\n",
       "        vertical-align: middle;\n",
       "    }\n",
       "\n",
       "    .dataframe tbody tr th {\n",
       "        vertical-align: top;\n",
       "    }\n",
       "\n",
       "    .dataframe thead th {\n",
       "        text-align: right;\n",
       "    }\n",
       "</style>\n",
       "<table border=\"1\" class=\"dataframe\">\n",
       "  <thead>\n",
       "    <tr style=\"text-align: right;\">\n",
       "      <th></th>\n",
       "      <th>children</th>\n",
       "      <th>days_employed</th>\n",
       "      <th>dob_years</th>\n",
       "      <th>education</th>\n",
       "      <th>education_id</th>\n",
       "      <th>family_status</th>\n",
       "      <th>family_status_id</th>\n",
       "      <th>gender</th>\n",
       "      <th>income_type</th>\n",
       "      <th>debt</th>\n",
       "      <th>total_income</th>\n",
       "      <th>purpose</th>\n",
       "      <th>total_income_category</th>\n",
       "      <th>purpose_category</th>\n",
       "    </tr>\n",
       "  </thead>\n",
       "  <tbody>\n",
       "    <tr>\n",
       "      <th>0</th>\n",
       "      <td>1</td>\n",
       "      <td>8437.673028</td>\n",
       "      <td>42</td>\n",
       "      <td>высшее</td>\n",
       "      <td>0</td>\n",
       "      <td>женат / замужем</td>\n",
       "      <td>0</td>\n",
       "      <td>F</td>\n",
       "      <td>сотрудник</td>\n",
       "      <td>0</td>\n",
       "      <td>253875</td>\n",
       "      <td>покупка жилья</td>\n",
       "      <td>B</td>\n",
       "      <td>операции с недвижимостью</td>\n",
       "    </tr>\n",
       "    <tr>\n",
       "      <th>1</th>\n",
       "      <td>1</td>\n",
       "      <td>4024.803754</td>\n",
       "      <td>36</td>\n",
       "      <td>среднее</td>\n",
       "      <td>1</td>\n",
       "      <td>женат / замужем</td>\n",
       "      <td>0</td>\n",
       "      <td>F</td>\n",
       "      <td>сотрудник</td>\n",
       "      <td>0</td>\n",
       "      <td>112080</td>\n",
       "      <td>приобретение автомобиля</td>\n",
       "      <td>C</td>\n",
       "      <td>операции с автомобилем</td>\n",
       "    </tr>\n",
       "    <tr>\n",
       "      <th>2</th>\n",
       "      <td>0</td>\n",
       "      <td>5623.422610</td>\n",
       "      <td>33</td>\n",
       "      <td>среднее</td>\n",
       "      <td>1</td>\n",
       "      <td>женат / замужем</td>\n",
       "      <td>0</td>\n",
       "      <td>M</td>\n",
       "      <td>сотрудник</td>\n",
       "      <td>0</td>\n",
       "      <td>145885</td>\n",
       "      <td>покупка жилья</td>\n",
       "      <td>C</td>\n",
       "      <td>операции с недвижимостью</td>\n",
       "    </tr>\n",
       "    <tr>\n",
       "      <th>3</th>\n",
       "      <td>3</td>\n",
       "      <td>4124.747207</td>\n",
       "      <td>32</td>\n",
       "      <td>среднее</td>\n",
       "      <td>1</td>\n",
       "      <td>женат / замужем</td>\n",
       "      <td>0</td>\n",
       "      <td>M</td>\n",
       "      <td>сотрудник</td>\n",
       "      <td>0</td>\n",
       "      <td>267628</td>\n",
       "      <td>дополнительное образование</td>\n",
       "      <td>B</td>\n",
       "      <td>получение образования</td>\n",
       "    </tr>\n",
       "    <tr>\n",
       "      <th>4</th>\n",
       "      <td>0</td>\n",
       "      <td>340266.072047</td>\n",
       "      <td>53</td>\n",
       "      <td>среднее</td>\n",
       "      <td>1</td>\n",
       "      <td>гражданский брак</td>\n",
       "      <td>1</td>\n",
       "      <td>F</td>\n",
       "      <td>пенсионер</td>\n",
       "      <td>0</td>\n",
       "      <td>158616</td>\n",
       "      <td>сыграть свадьбу</td>\n",
       "      <td>C</td>\n",
       "      <td>проведение свадьбы</td>\n",
       "    </tr>\n",
       "  </tbody>\n",
       "</table>\n",
       "</div>"
      ],
      "text/plain": [
       "   children  days_employed  dob_years education  education_id  \\\n",
       "0         1    8437.673028         42    высшее             0   \n",
       "1         1    4024.803754         36   среднее             1   \n",
       "2         0    5623.422610         33   среднее             1   \n",
       "3         3    4124.747207         32   среднее             1   \n",
       "4         0  340266.072047         53   среднее             1   \n",
       "\n",
       "      family_status  family_status_id gender income_type  debt  total_income  \\\n",
       "0   женат / замужем                 0      F   сотрудник     0        253875   \n",
       "1   женат / замужем                 0      F   сотрудник     0        112080   \n",
       "2   женат / замужем                 0      M   сотрудник     0        145885   \n",
       "3   женат / замужем                 0      M   сотрудник     0        267628   \n",
       "4  гражданский брак                 1      F   пенсионер     0        158616   \n",
       "\n",
       "                      purpose total_income_category          purpose_category  \n",
       "0               покупка жилья                     B  операции с недвижимостью  \n",
       "1     приобретение автомобиля                     C    операции с автомобилем  \n",
       "2               покупка жилья                     C  операции с недвижимостью  \n",
       "3  дополнительное образование                     B     получение образования  \n",
       "4             сыграть свадьбу                     C        проведение свадьбы  "
      ]
     },
     "execution_count": 23,
     "metadata": {},
     "output_type": "execute_result"
    }
   ],
   "source": [
    "data.head(5)# Ваш код будет здесь. Вы можете создавать новые ячейки."
   ]
  },
  {
   "cell_type": "code",
   "execution_count": 24,
   "id": "3d25de98",
   "metadata": {},
   "outputs": [
    {
     "data": {
      "text/html": [
       "<div>\n",
       "<style scoped>\n",
       "    .dataframe tbody tr th:only-of-type {\n",
       "        vertical-align: middle;\n",
       "    }\n",
       "\n",
       "    .dataframe tbody tr th {\n",
       "        vertical-align: top;\n",
       "    }\n",
       "\n",
       "    .dataframe thead tr th {\n",
       "        text-align: left;\n",
       "    }\n",
       "\n",
       "    .dataframe thead tr:last-of-type th {\n",
       "        text-align: right;\n",
       "    }\n",
       "</style>\n",
       "<table border=\"1\" class=\"dataframe\">\n",
       "  <thead>\n",
       "    <tr>\n",
       "      <th></th>\n",
       "      <th colspan=\"3\" halign=\"left\">debt</th>\n",
       "    </tr>\n",
       "    <tr>\n",
       "      <th></th>\n",
       "      <th>mean</th>\n",
       "      <th>sum</th>\n",
       "      <th>count</th>\n",
       "    </tr>\n",
       "    <tr>\n",
       "      <th>children</th>\n",
       "      <th></th>\n",
       "      <th></th>\n",
       "      <th></th>\n",
       "    </tr>\n",
       "  </thead>\n",
       "  <tbody>\n",
       "    <tr>\n",
       "      <th>0</th>\n",
       "      <td>0.08</td>\n",
       "      <td>1063.0</td>\n",
       "      <td>14091.0</td>\n",
       "    </tr>\n",
       "    <tr>\n",
       "      <th>1</th>\n",
       "      <td>0.09</td>\n",
       "      <td>444.0</td>\n",
       "      <td>4808.0</td>\n",
       "    </tr>\n",
       "    <tr>\n",
       "      <th>2</th>\n",
       "      <td>0.09</td>\n",
       "      <td>194.0</td>\n",
       "      <td>2052.0</td>\n",
       "    </tr>\n",
       "    <tr>\n",
       "      <th>3+</th>\n",
       "      <td>0.18</td>\n",
       "      <td>31.0</td>\n",
       "      <td>380.0</td>\n",
       "    </tr>\n",
       "  </tbody>\n",
       "</table>\n",
       "</div>"
      ],
      "text/plain": [
       "          debt                 \n",
       "          mean     sum    count\n",
       "children                       \n",
       "0         0.08  1063.0  14091.0\n",
       "1         0.09   444.0   4808.0\n",
       "2         0.09   194.0   2052.0\n",
       "3+        0.18    31.0    380.0"
      ]
     },
     "execution_count": 24,
     "metadata": {},
     "output_type": "execute_result"
    }
   ],
   "source": [
    "df_group = grouping('children', data) # группировка по children\n",
    "df_group.loc['3+'] = df_group.loc[3] + df_group.loc[4] + df_group.loc[5] #создание новой категории, что увеличить выборку\n",
    "df_group.drop(index=[3,4,5])"
   ]
  },
  {
   "cell_type": "markdown",
   "id": "9d1ba288",
   "metadata": {
    "deletable": false,
    "id": "3a6b99ec"
   },
   "source": [
    "**Вывод:** \n",
    "<!-- Общее сравнение медианой и средним арифметическим, не выявляет различий между детьми и сроками возврата. Если предположить, что нету выбросов в колонке total_income, сравниваем среднее относительно количеством детей и рейтингом. \n",
    "- Для клиентов с рейтингом А наличие 2 и 3 детей уменьшает средний total_income\n",
    "- Для клиентов с рейтингом В наличие от 0 до 3 детей увеличивает срединй total_income, но уменьшается с количеством детей 4 и 5\n",
    "- Для клиентов с рейтингом С наличие 0, 2, 5 среднее практическо одинаковое, а вот для 1, 3 и 4 среднее выше по категории\n",
    "- Для клиентов с рейтингом D и E среднее увеличивается с ростом количеством детей.\n",
    "\n",
    "<!-- Зависимость от количества долгов:\n",
    "- Для группы С процент долгов не изменяется от количества детей\n",
    "- Для группы В процент долгов увеличивается в два раза от среднего при 4 детях\n",
    "- Для группы D процент долгов увеличивается при увеличении количества детей\n",
    "- Для группы Е процент резко падает при 1 ребенке, а для группы А при 2, что вносит сомнения в корректность данных\n",
    "\n",
    "Зависимость от количества долгов:\n",
    "- Для некоторых категорий А, Е и 4, 5 детей данных мало относительно остальных групп\n",
    "- У категорий B , C есть разница в 1 %, 2 % в количесте непогашенных кредитов, если детей нет\n",
    "- В категории D увеличивается вероятность непогашенного кредита от количества детей\n",
    " \n",
    "Таким образом, гипотеза потвердилась зависимость между количеством детей и возвратом кредита в срок -->\n",
    "\n",
    "Посчитал среднее количетсов задолжностей по количеству детей. Для клиентов с 3,4,5 детьми выборка небольшая, поэтому объединил в общую группу 3+.\n",
    "Сравнение задолжностей и количеством детей показало:\n",
    "- Без детей средняя задолжность 8%\n",
    "- Для 1 и 2 ребенка 9%\n",
    "- Для группы 3+ составляет 18%, что в два раза больше, чем у 1 и 2 детей, но данных мало\n",
    "\n",
    "Гипотеза частично потвердилась."
   ]
  },
  {
   "cell_type": "markdown",
   "id": "3209ce25",
   "metadata": {
    "deletable": false,
    "editable": false,
    "id": "97be82ca"
   },
   "source": [
    "#### 3.2 Есть ли зависимость между семейным положением и возвратом кредита в срок?"
   ]
  },
  {
   "cell_type": "code",
   "execution_count": 25,
   "id": "180d474b",
   "metadata": {
    "deletable": false,
    "id": "dc3f7ee8",
    "scrolled": true
   },
   "outputs": [
    {
     "data": {
      "text/html": [
       "<div>\n",
       "<style scoped>\n",
       "    .dataframe tbody tr th:only-of-type {\n",
       "        vertical-align: middle;\n",
       "    }\n",
       "\n",
       "    .dataframe tbody tr th {\n",
       "        vertical-align: top;\n",
       "    }\n",
       "\n",
       "    .dataframe thead tr th {\n",
       "        text-align: left;\n",
       "    }\n",
       "\n",
       "    .dataframe thead tr:last-of-type th {\n",
       "        text-align: right;\n",
       "    }\n",
       "</style>\n",
       "<table border=\"1\" class=\"dataframe\">\n",
       "  <thead>\n",
       "    <tr>\n",
       "      <th></th>\n",
       "      <th colspan=\"5\" halign=\"left\">sum</th>\n",
       "    </tr>\n",
       "    <tr>\n",
       "      <th>family_status</th>\n",
       "      <th>Не женат / не замужем</th>\n",
       "      <th>в разводе</th>\n",
       "      <th>вдовец / вдова</th>\n",
       "      <th>гражданский брак</th>\n",
       "      <th>женат / замужем</th>\n",
       "    </tr>\n",
       "    <tr>\n",
       "      <th>total_income_category</th>\n",
       "      <th></th>\n",
       "      <th></th>\n",
       "      <th></th>\n",
       "      <th></th>\n",
       "      <th></th>\n",
       "    </tr>\n",
       "  </thead>\n",
       "  <tbody>\n",
       "    <tr>\n",
       "      <th>A</th>\n",
       "      <td>0.0</td>\n",
       "      <td>0.0</td>\n",
       "      <td>NaN</td>\n",
       "      <td>1.0</td>\n",
       "      <td>1.0</td>\n",
       "    </tr>\n",
       "    <tr>\n",
       "      <th>B</th>\n",
       "      <td>62.0</td>\n",
       "      <td>18.0</td>\n",
       "      <td>9.0</td>\n",
       "      <td>64.0</td>\n",
       "      <td>201.0</td>\n",
       "    </tr>\n",
       "    <tr>\n",
       "      <th>C</th>\n",
       "      <td>209.0</td>\n",
       "      <td>64.0</td>\n",
       "      <td>54.0</td>\n",
       "      <td>315.0</td>\n",
       "      <td>711.0</td>\n",
       "    </tr>\n",
       "    <tr>\n",
       "      <th>D</th>\n",
       "      <td>2.0</td>\n",
       "      <td>2.0</td>\n",
       "      <td>0.0</td>\n",
       "      <td>5.0</td>\n",
       "      <td>12.0</td>\n",
       "    </tr>\n",
       "    <tr>\n",
       "      <th>E</th>\n",
       "      <td>0.0</td>\n",
       "      <td>NaN</td>\n",
       "      <td>NaN</td>\n",
       "      <td>0.0</td>\n",
       "      <td>2.0</td>\n",
       "    </tr>\n",
       "  </tbody>\n",
       "</table>\n",
       "</div>"
      ],
      "text/plain": [
       "                                        sum                           \\\n",
       "family_status         Не женат / не замужем в разводе вдовец / вдова   \n",
       "total_income_category                                                  \n",
       "A                                       0.0       0.0            NaN   \n",
       "B                                      62.0      18.0            9.0   \n",
       "C                                     209.0      64.0           54.0   \n",
       "D                                       2.0       2.0            0.0   \n",
       "E                                       0.0       NaN            NaN   \n",
       "\n",
       "                                                        \n",
       "family_status         гражданский брак женат / замужем  \n",
       "total_income_category                                   \n",
       "A                                  1.0             1.0  \n",
       "B                                 64.0           201.0  \n",
       "C                                315.0           711.0  \n",
       "D                                  5.0            12.0  \n",
       "E                                  0.0             2.0  "
      ]
     },
     "execution_count": 25,
     "metadata": {},
     "output_type": "execute_result"
    }
   ],
   "source": [
    "data_pivot_family=data.pivot_table(index=['total_income_category'], columns='family_status', values='debt', aggfunc=['sum'])# Ваш код будет здесь. Вы можете создавать новые ячейки.\n",
    "data_pivot_family"
   ]
  },
  {
   "cell_type": "code",
   "execution_count": 26,
   "id": "5d7a361c",
   "metadata": {},
   "outputs": [
    {
     "data": {
      "text/html": [
       "<div>\n",
       "<style scoped>\n",
       "    .dataframe tbody tr th:only-of-type {\n",
       "        vertical-align: middle;\n",
       "    }\n",
       "\n",
       "    .dataframe tbody tr th {\n",
       "        vertical-align: top;\n",
       "    }\n",
       "\n",
       "    .dataframe thead tr th {\n",
       "        text-align: left;\n",
       "    }\n",
       "</style>\n",
       "<table border=\"1\" class=\"dataframe\">\n",
       "  <thead>\n",
       "    <tr>\n",
       "      <th></th>\n",
       "      <th>family_status</th>\n",
       "      <th colspan=\"3\" halign=\"left\">debt</th>\n",
       "    </tr>\n",
       "    <tr>\n",
       "      <th></th>\n",
       "      <th></th>\n",
       "      <th>mean</th>\n",
       "      <th>sum</th>\n",
       "      <th>count</th>\n",
       "    </tr>\n",
       "  </thead>\n",
       "  <tbody>\n",
       "    <tr>\n",
       "      <th>0</th>\n",
       "      <td>Не женат / не замужем</td>\n",
       "      <td>0.10</td>\n",
       "      <td>273</td>\n",
       "      <td>2796</td>\n",
       "    </tr>\n",
       "    <tr>\n",
       "      <th>1</th>\n",
       "      <td>в разводе</td>\n",
       "      <td>0.07</td>\n",
       "      <td>84</td>\n",
       "      <td>1189</td>\n",
       "    </tr>\n",
       "    <tr>\n",
       "      <th>2</th>\n",
       "      <td>вдовец / вдова</td>\n",
       "      <td>0.07</td>\n",
       "      <td>63</td>\n",
       "      <td>951</td>\n",
       "    </tr>\n",
       "    <tr>\n",
       "      <th>3</th>\n",
       "      <td>гражданский брак</td>\n",
       "      <td>0.09</td>\n",
       "      <td>385</td>\n",
       "      <td>4134</td>\n",
       "    </tr>\n",
       "    <tr>\n",
       "      <th>4</th>\n",
       "      <td>женат / замужем</td>\n",
       "      <td>0.08</td>\n",
       "      <td>927</td>\n",
       "      <td>12261</td>\n",
       "    </tr>\n",
       "  </tbody>\n",
       "</table>\n",
       "</div>"
      ],
      "text/plain": [
       "           family_status  debt            \n",
       "                          mean  sum  count\n",
       "0  Не женат / не замужем  0.10  273   2796\n",
       "1              в разводе  0.07   84   1189\n",
       "2         вдовец / вдова  0.07   63    951\n",
       "3       гражданский брак  0.09  385   4134\n",
       "4        женат / замужем  0.08  927  12261"
      ]
     },
     "execution_count": 26,
     "metadata": {},
     "output_type": "execute_result"
    }
   ],
   "source": [
    "data_group_family = grouping('family_status',data).reset_index() # группировка по family_status\n",
    "data_group_family"
   ]
  },
  {
   "cell_type": "code",
   "execution_count": 27,
   "id": "4a3fb8bf",
   "metadata": {},
   "outputs": [
    {
     "data": {
      "text/html": [
       "<div>\n",
       "<style scoped>\n",
       "    .dataframe tbody tr th:only-of-type {\n",
       "        vertical-align: middle;\n",
       "    }\n",
       "\n",
       "    .dataframe tbody tr th {\n",
       "        vertical-align: top;\n",
       "    }\n",
       "\n",
       "    .dataframe thead tr th {\n",
       "        text-align: left;\n",
       "    }\n",
       "</style>\n",
       "<table border=\"1\" class=\"dataframe\">\n",
       "  <thead>\n",
       "    <tr>\n",
       "      <th></th>\n",
       "      <th>family_status</th>\n",
       "      <th colspan=\"3\" halign=\"left\">debt</th>\n",
       "    </tr>\n",
       "    <tr>\n",
       "      <th></th>\n",
       "      <th></th>\n",
       "      <th>mean</th>\n",
       "      <th>sum</th>\n",
       "      <th>count</th>\n",
       "    </tr>\n",
       "  </thead>\n",
       "  <tbody>\n",
       "    <tr>\n",
       "      <th>5</th>\n",
       "      <td>Не женат / не замужемв разводевдовец / вдова</td>\n",
       "      <td>0.24</td>\n",
       "      <td>420</td>\n",
       "      <td>4936</td>\n",
       "    </tr>\n",
       "    <tr>\n",
       "      <th>6</th>\n",
       "      <td>гражданский бракженат / замужем</td>\n",
       "      <td>0.17</td>\n",
       "      <td>1312</td>\n",
       "      <td>16395</td>\n",
       "    </tr>\n",
       "  </tbody>\n",
       "</table>\n",
       "</div>"
      ],
      "text/plain": [
       "                                  family_status  debt             \n",
       "                                                 mean   sum  count\n",
       "5  Не женат / не замужемв разводевдовец / вдова  0.24   420   4936\n",
       "6               гражданский бракженат / замужем  0.17  1312  16395"
      ]
     },
     "execution_count": 27,
     "metadata": {},
     "output_type": "execute_result"
    }
   ],
   "source": [
    "data_group_family.loc[5] = data_group_family.loc[[0,1,2]].sum() # разделяем по 2ум категориям  \n",
    "data_group_family.loc[6] = data_group_family.loc[[3,4]].sum()\n",
    "data_group_family.drop(index=[i for i in range(5)]) "
   ]
  },
  {
   "cell_type": "markdown",
   "id": "2a635396",
   "metadata": {
    "deletable": false,
    "id": "1cef7837"
   },
   "source": [
    "**Вывод:** \n",
    "<!-- - Для рейтинга A D E недостаточно данных для сравнения гипотезы\n",
    "- Для рейтинга B есть разница между 'Не женат / не замужем' и всеми остальными статусами в 2-3% количество непогашенных кредитов  \n",
    "- Для рейтинга С есть разница между 'гражданский брак' и 'Не женат / не замужем' и всеми остальными в 2-3% количество непогашенных кредитов есть разница между \n",
    "\n",
    "Таким образом, можно частично потвердить гипотезу  -->\n",
    "\n",
    "Сформируем заемщиков по семейному статусу, в первой строке не находятся в браке, во второй строке в браке\n",
    "- Количество задолжностей не в браке 24%\n",
    "- Количество задолжностей в браке 17%\n",
    "Гипотеза потвердилась, семейный статус влияет на возврат долга."
   ]
  },
  {
   "cell_type": "markdown",
   "id": "87549450",
   "metadata": {},
   "source": [
    "<div class=\"alert alert-success\"; style=\"border-left: 7px solid green\">\n",
    "<h5> ✔️ <font color=\"green\">v2 Комментарий ревьюера (зеленый)</font></h5>\n",
    "\n",
    "✅ Верное исправление 👍 По результатам мы можем сказать, что заемщики, состоящие или состоявшие в браке, реже допускают просрочку. \n",
    " \n",
    "</div>"
   ]
  },
  {
   "cell_type": "markdown",
   "id": "86aae086",
   "metadata": {
    "deletable": false,
    "editable": false,
    "id": "1e8b2fca"
   },
   "source": [
    "#### 3.3 Есть ли зависимость между уровнем дохода и возвратом кредита в срок?"
   ]
  },
  {
   "cell_type": "code",
   "execution_count": 28,
   "id": "d78516c2",
   "metadata": {
    "deletable": false,
    "id": "cd7e3720"
   },
   "outputs": [
    {
     "data": {
      "text/html": [
       "<div>\n",
       "<style scoped>\n",
       "    .dataframe tbody tr th:only-of-type {\n",
       "        vertical-align: middle;\n",
       "    }\n",
       "\n",
       "    .dataframe tbody tr th {\n",
       "        vertical-align: top;\n",
       "    }\n",
       "\n",
       "    .dataframe thead tr th {\n",
       "        text-align: left;\n",
       "    }\n",
       "\n",
       "    .dataframe thead tr:last-of-type th {\n",
       "        text-align: right;\n",
       "    }\n",
       "</style>\n",
       "<table border=\"1\" class=\"dataframe\">\n",
       "  <thead>\n",
       "    <tr>\n",
       "      <th></th>\n",
       "      <th colspan=\"3\" halign=\"left\">debt</th>\n",
       "    </tr>\n",
       "    <tr>\n",
       "      <th></th>\n",
       "      <th>mean</th>\n",
       "      <th>sum</th>\n",
       "      <th>count</th>\n",
       "    </tr>\n",
       "    <tr>\n",
       "      <th>total_income_category</th>\n",
       "      <th></th>\n",
       "      <th></th>\n",
       "      <th></th>\n",
       "    </tr>\n",
       "  </thead>\n",
       "  <tbody>\n",
       "    <tr>\n",
       "      <th>A</th>\n",
       "      <td>0.08</td>\n",
       "      <td>2</td>\n",
       "      <td>25</td>\n",
       "    </tr>\n",
       "    <tr>\n",
       "      <th>B</th>\n",
       "      <td>0.07</td>\n",
       "      <td>354</td>\n",
       "      <td>5014</td>\n",
       "    </tr>\n",
       "    <tr>\n",
       "      <th>C</th>\n",
       "      <td>0.08</td>\n",
       "      <td>1353</td>\n",
       "      <td>15921</td>\n",
       "    </tr>\n",
       "    <tr>\n",
       "      <th>D</th>\n",
       "      <td>0.06</td>\n",
       "      <td>21</td>\n",
       "      <td>349</td>\n",
       "    </tr>\n",
       "    <tr>\n",
       "      <th>E</th>\n",
       "      <td>0.09</td>\n",
       "      <td>2</td>\n",
       "      <td>22</td>\n",
       "    </tr>\n",
       "  </tbody>\n",
       "</table>\n",
       "</div>"
      ],
      "text/plain": [
       "                       debt             \n",
       "                       mean   sum  count\n",
       "total_income_category                   \n",
       "A                      0.08     2     25\n",
       "B                      0.07   354   5014\n",
       "C                      0.08  1353  15921\n",
       "D                      0.06    21    349\n",
       "E                      0.09     2     22"
      ]
     },
     "execution_count": 28,
     "metadata": {},
     "output_type": "execute_result"
    }
   ],
   "source": [
    "data.groupby(['total_income_category']).agg({'debt':['mean','sum','count']}).round(2)"
   ]
  },
  {
   "cell_type": "markdown",
   "id": "6dd119d3",
   "metadata": {
    "deletable": false,
    "id": "e8593def"
   },
   "source": [
    "**Вывод:** \n",
    "- Для группы А и Е недостаточно данных относительно других рейтингов \n",
    "- Для группы B, C увеличивается непогашенных задолжностей на 1%\n",
    "- Для группы D уменьшается на 2%\n",
    "Гипотеза зависимость между уровнем дохода и возвратом кредита в срок частично не потверждается."
   ]
  },
  {
   "cell_type": "markdown",
   "id": "beb87dc0",
   "metadata": {},
   "source": [
    "<div class=\"alert alert-info\"; style=\"border-left: 7px solid SteelBlue\">\n",
    "<h5><font color=\"SteelBlue\">Комментарий от студента (синий)</font></h5>    \n",
    "\n",
    "Я разделил на категории согласно заданию выше. А то что выборка маленькая, мы даже не проходили эту тему\n",
    "    \n",
    "</div>"
   ]
  },
  {
   "cell_type": "markdown",
   "id": "307a5e42",
   "metadata": {},
   "source": [
    "<div class=\"alert alert-success\"; style=\"border-left: 7px solid green\">\n",
    "<h5> ✔️ <font color=\"green\">v2 Комментарий ревьюера (зеленый)</font></h5>\n",
    "\n",
    "Без новой группировки мы видим, что основные категории — B и C, и мы можем сказать, что заемщики с более высоким уровнем дохода реже допускают просрочку.  \n",
    "    \n",
    "</div>    "
   ]
  },
  {
   "cell_type": "markdown",
   "id": "8064e804",
   "metadata": {},
   "source": [
    "<div class=\"alert alert-success\"; style=\"border-left: 7px solid green\">\n",
    "<h5> ✔️ <font color=\"green\">v2 Комментарий ревьюера (зеленый)</font></h5>\n",
    "\n",
    "✅ Отлично, что ты внимательно следуешь заданию! Действительно, работа с выборкой – это немного более глубокая тема, и ты пока не был с ней знаком. В реальных задачах бывает полезно объединять маленькие группы, чтобы получить более стабильные результаты, но в рамках текущего задания можно оставить, как есть. \n",
    "    \n",
    "Ниже поделюсь методом [pd.qcut](https://pandas.pydata.org/pandas-docs/stable/reference/api/pandas.qcut.html), который помогает создавать примерно равные сегменты.   \n",
    " \n",
    "</div>"
   ]
  },
  {
   "cell_type": "code",
   "execution_count": 29,
   "id": "34207f57",
   "metadata": {},
   "outputs": [
    {
     "data": {
      "text/html": [
       "<div>\n",
       "<style scoped>\n",
       "    .dataframe tbody tr th:only-of-type {\n",
       "        vertical-align: middle;\n",
       "    }\n",
       "\n",
       "    .dataframe tbody tr th {\n",
       "        vertical-align: top;\n",
       "    }\n",
       "\n",
       "    .dataframe thead th {\n",
       "        text-align: right;\n",
       "    }\n",
       "</style>\n",
       "<table border=\"1\" class=\"dataframe\">\n",
       "  <thead>\n",
       "    <tr style=\"text-align: right;\">\n",
       "      <th></th>\n",
       "      <th>count</th>\n",
       "      <th>sum</th>\n",
       "      <th>mean</th>\n",
       "    </tr>\n",
       "    <tr>\n",
       "      <th>total_income_category2</th>\n",
       "      <th></th>\n",
       "      <th></th>\n",
       "      <th></th>\n",
       "    </tr>\n",
       "  </thead>\n",
       "  <tbody>\n",
       "    <tr>\n",
       "      <th>Ниже среднего</th>\n",
       "      <td>5450</td>\n",
       "      <td>480</td>\n",
       "      <td>0.088073</td>\n",
       "    </tr>\n",
       "    <tr>\n",
       "      <th>Средний</th>\n",
       "      <td>5216</td>\n",
       "      <td>444</td>\n",
       "      <td>0.085123</td>\n",
       "    </tr>\n",
       "    <tr>\n",
       "      <th>Низкий</th>\n",
       "      <td>5333</td>\n",
       "      <td>427</td>\n",
       "      <td>0.080068</td>\n",
       "    </tr>\n",
       "    <tr>\n",
       "      <th>Высокий</th>\n",
       "      <td>5332</td>\n",
       "      <td>381</td>\n",
       "      <td>0.071455</td>\n",
       "    </tr>\n",
       "  </tbody>\n",
       "</table>\n",
       "</div>"
      ],
      "text/plain": [
       "                        count  sum      mean\n",
       "total_income_category2                      \n",
       "Ниже среднего            5450  480  0.088073\n",
       "Средний                  5216  444  0.085123\n",
       "Низкий                   5333  427  0.080068\n",
       "Высокий                  5332  381  0.071455"
      ]
     },
     "metadata": {},
     "output_type": "display_data"
    }
   ],
   "source": [
    "# Код ревьюера\n",
    "\n",
    "# Делим на равнозначные группы\n",
    "data['total_income_category2'] = pd.qcut(data['total_income'], q=4, labels=['Низкий', 'Ниже среднего', 'Средний', 'Высокий'])\n",
    "\n",
    "# Выводим сводную\n",
    "display(data.groupby('total_income_category2')['debt'].agg(['count', 'sum', 'mean'])\\\n",
    "        .sort_values(by = 'mean', ascending = False))"
   ]
  },
  {
   "cell_type": "markdown",
   "id": "01a2e2b5",
   "metadata": {
    "deletable": false,
    "editable": false,
    "id": "99ecbd1f"
   },
   "source": [
    "#### 3.4 Как разные цели кредита влияют на его возврат в срок?"
   ]
  },
  {
   "cell_type": "code",
   "execution_count": 30,
   "id": "417a3cea",
   "metadata": {
    "deletable": false,
    "id": "2b687290"
   },
   "outputs": [
    {
     "data": {
      "text/html": [
       "<div>\n",
       "<style scoped>\n",
       "    .dataframe tbody tr th:only-of-type {\n",
       "        vertical-align: middle;\n",
       "    }\n",
       "\n",
       "    .dataframe tbody tr th {\n",
       "        vertical-align: top;\n",
       "    }\n",
       "\n",
       "    .dataframe thead tr th {\n",
       "        text-align: left;\n",
       "    }\n",
       "\n",
       "    .dataframe thead tr:last-of-type th {\n",
       "        text-align: right;\n",
       "    }\n",
       "</style>\n",
       "<table border=\"1\" class=\"dataframe\">\n",
       "  <thead>\n",
       "    <tr>\n",
       "      <th></th>\n",
       "      <th colspan=\"3\" halign=\"left\">debt</th>\n",
       "    </tr>\n",
       "    <tr>\n",
       "      <th></th>\n",
       "      <th>mean</th>\n",
       "      <th>sum</th>\n",
       "      <th>count</th>\n",
       "    </tr>\n",
       "    <tr>\n",
       "      <th>purpose_category</th>\n",
       "      <th></th>\n",
       "      <th></th>\n",
       "      <th></th>\n",
       "    </tr>\n",
       "  </thead>\n",
       "  <tbody>\n",
       "    <tr>\n",
       "      <th>операции с автомобилем</th>\n",
       "      <td>0.09</td>\n",
       "      <td>400</td>\n",
       "      <td>4279</td>\n",
       "    </tr>\n",
       "    <tr>\n",
       "      <th>операции с недвижимостью</th>\n",
       "      <td>0.07</td>\n",
       "      <td>780</td>\n",
       "      <td>10751</td>\n",
       "    </tr>\n",
       "    <tr>\n",
       "      <th>получение образования</th>\n",
       "      <td>0.09</td>\n",
       "      <td>369</td>\n",
       "      <td>3988</td>\n",
       "    </tr>\n",
       "    <tr>\n",
       "      <th>проведение свадьбы</th>\n",
       "      <td>0.08</td>\n",
       "      <td>183</td>\n",
       "      <td>2313</td>\n",
       "    </tr>\n",
       "  </tbody>\n",
       "</table>\n",
       "</div>"
      ],
      "text/plain": [
       "                          debt            \n",
       "                          mean  sum  count\n",
       "purpose_category                          \n",
       "операции с автомобилем    0.09  400   4279\n",
       "операции с недвижимостью  0.07  780  10751\n",
       "получение образования     0.09  369   3988\n",
       "проведение свадьбы        0.08  183   2313"
      ]
     },
     "execution_count": 30,
     "metadata": {},
     "output_type": "execute_result"
    }
   ],
   "source": [
    "data.groupby(['purpose_category']).agg({'debt':['mean','sum','count']}).round(2)# Ваш код будет здесь. Вы можете создавать новые ячейки."
   ]
  },
  {
   "cell_type": "markdown",
   "id": "7ae115d3",
   "metadata": {
    "deletable": false,
    "id": "b4bb2ce6"
   },
   "source": [
    "**Вывод:** \n",
    "Операции с недвижимостью чаще возвращают в срок, чем операции с автомобилем\tи получение образования на 2%, а \n",
    "проведение свадьбы на 1%"
   ]
  },
  {
   "cell_type": "markdown",
   "id": "0b9c99a4",
   "metadata": {
    "deletable": false,
    "editable": false,
    "id": "09c3ac4c"
   },
   "source": [
    "#### 3.5 Приведите возможные причины появления пропусков в исходных данных."
   ]
  },
  {
   "cell_type": "markdown",
   "id": "0c55bb0f",
   "metadata": {
    "deletable": false,
    "id": "9da2ceda"
   },
   "source": [
    "*Ответ:* \n",
    "- Некорректно заполненные данные \n",
    "- Ошибки в выгрузке данных\n",
    "- Некоррентная зависимость от других значений таблицы(безработные и пенсионеры)"
   ]
  },
  {
   "cell_type": "markdown",
   "id": "980c4d7d",
   "metadata": {
    "deletable": false,
    "editable": false,
    "id": "7b0487d6"
   },
   "source": [
    "#### 3.6 Объясните, почему заполнить пропуски медианным значением — лучшее решение для количественных переменных."
   ]
  },
  {
   "cell_type": "markdown",
   "id": "663f1a9b",
   "metadata": {
    "deletable": false,
    "id": "7ecf2b8e"
   },
   "source": [
    "*Ответ:* \n",
    "Если в данных есть аномалии или разница между максимальным(минимальным) и средним значением большая, они будут искажать реальные данные, простой пример средняя температура по больнице."
   ]
  },
  {
   "cell_type": "markdown",
   "id": "58611cab",
   "metadata": {
    "deletable": false,
    "editable": false,
    "id": "6db5255a"
   },
   "source": [
    "### Шаг 4: общий вывод."
   ]
  },
  {
   "cell_type": "markdown",
   "id": "2a409e3d",
   "metadata": {
    "deletable": false,
    "id": "bad65432"
   },
   "source": [
    "#### Предобрабока данных \n",
    "Заполнили пропуски в total_income медианным значением, не трогали days_employed из за недостатка данных.\n",
    "#### Исследование данных\n",
    "Результатом исследования было проверка гипотез, которые будут учитываться в составление кредитного скоринга \n",
    "##### Есть ли зависимость между количеством детей и возвратом кредита в срок?\n",
    "    Гипотеза потвердилась частично. Зависимость есть при увеличении количества детей, \n",
    "    \n",
    "    - Средняя задолжность увеличивается на 1%, \n",
    "    - При 3+ на 9%\n",
    "##### Есть ли зависимость между семейным положением и возвратом кредита в срок?\n",
    "    Сформировали заемщиков по семейному статусу(находится в браке)\n",
    "    \n",
    "    - Количество задолжностей не в браке 24%\n",
    "    - Количество задолжностей в браке 17% \n",
    "    \n",
    "    Гипотеза потвердилась, семейный статус влияет на возврат долга\n",
    "##### Есть ли зависимость между уровнем дохода и возвратом кредита в срок?\n",
    "     \n",
    "     Гипотеза частично не потвердилась, разница для разных рейтингов дохода около 1%\n",
    "     \n",
    "##### Как разные цели кредита влияют на его возврат в срок?\n",
    "        \n",
    "     Категории с наибольшей долей задолженности\n",
    "     - операции с автомобилем и образование (по 9%), в то время как \n",
    "     - недвижимость и свадьба возвращаются более своевременно (7.3% и 7.9%).\n",
    "\n",
    "**В общем, можно сказать что наибольший вклад в задолжность оказывают семейный статус, количества детей больше 3 и цели кредита.**"
   ]
  },
  {
   "cell_type": "markdown",
   "id": "d4766f75",
   "metadata": {},
   "source": [
    "<div class=\"alert alert-danger\"; style=\"border-left: 7px solid FireBrick\">\n",
    "<h5> ❌ <font color=\"FireBrick\">Комментарий ревьюера (красный)</font></h5>\n",
    "\n",
    "В общем выводе хочется тезисно видеть все промежуточные выводы с цифрами. Это очень важно, поскольку топ-менеджеры, в большинстве своем, смотрят сразу сюда и только сюда...\n",
    "\n",
    "Тут важно обратиться к целям, которые были озвучены в самом начале и ответить на все вопросы. Важно оформить все тезисно и с цифрами. Еще важно описать все промежуточные выводы, которых не прописано в целях.\n",
    "Вкратце структура такая:\n",
    "- как были предобработаны данные(тут важно написать про изменения, если заполнялись пропуски или преобразовывались строки)\n",
    "- пройдись по целям и ответь на вопросы\n",
    "- добавь промежуточные выводы, которые считаешь нужным отметить\n",
    "\n",
    "Еще очень важно помнить, для кого ты делаешь проект, в зависимости от этого нужно сделать определенные акценты. В данном случае проект учебный, поэтому нужно ориентироваться по описанию.\n",
    "\n",
    "Для красивого оформления можешь воспользоваться [Кратким руководством по Маркдауну](https://paulradzkov.com/2014/markdown_cheatsheet/).\n",
    "\n",
    "</div>"
   ]
  }
 ],
 "metadata": {
  "ExecuteTimeLog": [
   {
    "duration": 54,
    "start_time": "2024-11-06T15:39:09.514Z"
   },
   {
    "duration": 543,
    "start_time": "2024-11-06T15:39:20.635Z"
   },
   {
    "duration": 24,
    "start_time": "2024-11-06T15:39:21.180Z"
   },
   {
    "duration": 33,
    "start_time": "2024-11-06T15:39:21.206Z"
   },
   {
    "duration": 21,
    "start_time": "2024-11-06T15:39:21.241Z"
   },
   {
    "duration": 48,
    "start_time": "2024-11-06T15:39:21.264Z"
   },
   {
    "duration": 3,
    "start_time": "2024-11-06T15:39:21.314Z"
   },
   {
    "duration": 20,
    "start_time": "2024-11-06T15:39:21.318Z"
   },
   {
    "duration": 25,
    "start_time": "2024-11-06T15:39:21.340Z"
   },
   {
    "duration": 8,
    "start_time": "2024-11-06T15:39:21.367Z"
   },
   {
    "duration": 4,
    "start_time": "2024-11-06T15:39:21.378Z"
   },
   {
    "duration": 39,
    "start_time": "2024-11-06T15:39:21.384Z"
   },
   {
    "duration": 11,
    "start_time": "2024-11-06T15:39:21.425Z"
   },
   {
    "duration": 10,
    "start_time": "2024-11-06T15:39:21.451Z"
   },
   {
    "duration": 15,
    "start_time": "2024-11-06T15:39:21.463Z"
   },
   {
    "duration": 31,
    "start_time": "2024-11-06T15:39:21.480Z"
   },
   {
    "duration": 18,
    "start_time": "2024-11-06T15:39:21.513Z"
   },
   {
    "duration": 3,
    "start_time": "2024-11-06T15:39:21.533Z"
   },
   {
    "duration": 21,
    "start_time": "2024-11-06T15:39:21.538Z"
   },
   {
    "duration": 6,
    "start_time": "2024-11-06T15:39:21.561Z"
   },
   {
    "duration": 7,
    "start_time": "2024-11-06T15:39:21.569Z"
   },
   {
    "duration": 37,
    "start_time": "2024-11-06T15:39:21.578Z"
   },
   {
    "duration": 18,
    "start_time": "2024-11-06T15:39:24.808Z"
   },
   {
    "duration": 29,
    "start_time": "2024-11-06T15:47:07.954Z"
   },
   {
    "duration": 7,
    "start_time": "2024-11-06T15:47:16.917Z"
   },
   {
    "duration": 11,
    "start_time": "2024-11-06T15:48:21.288Z"
   },
   {
    "duration": 17,
    "start_time": "2024-11-06T15:48:55.635Z"
   },
   {
    "duration": 9,
    "start_time": "2024-11-06T15:48:56.748Z"
   },
   {
    "duration": 7,
    "start_time": "2024-11-06T15:48:57.873Z"
   },
   {
    "duration": 9,
    "start_time": "2024-11-06T15:50:27.593Z"
   },
   {
    "duration": 8,
    "start_time": "2024-11-06T15:50:45.922Z"
   },
   {
    "duration": 82,
    "start_time": "2024-11-06T15:54:27.349Z"
   },
   {
    "duration": 81,
    "start_time": "2024-11-06T15:54:56.651Z"
   },
   {
    "duration": 22,
    "start_time": "2024-11-06T15:55:16.831Z"
   },
   {
    "duration": 15,
    "start_time": "2024-11-06T15:58:12.973Z"
   },
   {
    "duration": 21,
    "start_time": "2024-11-06T15:58:27.155Z"
   },
   {
    "duration": 13,
    "start_time": "2024-11-06T15:59:23.032Z"
   },
   {
    "duration": 318,
    "start_time": "2024-11-06T15:59:31.960Z"
   },
   {
    "duration": 13,
    "start_time": "2024-11-06T16:00:38.441Z"
   },
   {
    "duration": 44,
    "start_time": "2024-11-06T16:01:30.028Z"
   },
   {
    "duration": 19,
    "start_time": "2024-11-06T16:06:25.482Z"
   },
   {
    "duration": 21,
    "start_time": "2024-11-06T16:06:39.453Z"
   },
   {
    "duration": 25,
    "start_time": "2024-11-06T16:08:54.561Z"
   },
   {
    "duration": 44,
    "start_time": "2024-11-06T16:09:01.068Z"
   },
   {
    "duration": 11,
    "start_time": "2024-11-06T16:09:21.368Z"
   },
   {
    "duration": 16,
    "start_time": "2024-11-06T16:10:03.928Z"
   },
   {
    "duration": 9,
    "start_time": "2024-11-06T16:10:53.363Z"
   },
   {
    "duration": 8,
    "start_time": "2024-11-06T16:13:07.532Z"
   },
   {
    "duration": 9,
    "start_time": "2024-11-06T16:13:17.065Z"
   },
   {
    "duration": 13,
    "start_time": "2024-11-06T16:34:00.138Z"
   },
   {
    "duration": 36,
    "start_time": "2024-11-06T16:34:52.818Z"
   },
   {
    "duration": 43,
    "start_time": "2024-11-06T16:35:04.697Z"
   },
   {
    "duration": 25,
    "start_time": "2024-11-06T16:38:40.476Z"
   },
   {
    "duration": 3,
    "start_time": "2024-11-06T16:39:04.137Z"
   },
   {
    "duration": 8,
    "start_time": "2024-11-06T16:42:29.012Z"
   },
   {
    "duration": 43,
    "start_time": "2024-11-06T16:43:26.148Z"
   },
   {
    "duration": 2,
    "start_time": "2024-11-06T16:54:02.470Z"
   },
   {
    "duration": 44,
    "start_time": "2024-11-07T11:12:12.449Z"
   },
   {
    "duration": 697,
    "start_time": "2024-11-07T11:12:24.118Z"
   },
   {
    "duration": 21,
    "start_time": "2024-11-07T11:12:24.817Z"
   },
   {
    "duration": 13,
    "start_time": "2024-11-07T11:12:24.839Z"
   },
   {
    "duration": 13,
    "start_time": "2024-11-07T11:12:24.854Z"
   },
   {
    "duration": 43,
    "start_time": "2024-11-07T11:12:24.868Z"
   },
   {
    "duration": 3,
    "start_time": "2024-11-07T11:12:24.912Z"
   },
   {
    "duration": 9,
    "start_time": "2024-11-07T11:12:24.916Z"
   },
   {
    "duration": 6,
    "start_time": "2024-11-07T11:12:24.927Z"
   },
   {
    "duration": 22,
    "start_time": "2024-11-07T11:12:24.934Z"
   },
   {
    "duration": 16,
    "start_time": "2024-11-07T11:12:24.958Z"
   },
   {
    "duration": 36,
    "start_time": "2024-11-07T11:12:24.976Z"
   },
   {
    "duration": 11,
    "start_time": "2024-11-07T11:12:25.014Z"
   },
   {
    "duration": 19,
    "start_time": "2024-11-07T11:12:25.026Z"
   },
   {
    "duration": 31,
    "start_time": "2024-11-07T11:12:25.046Z"
   },
   {
    "duration": 32,
    "start_time": "2024-11-07T11:12:25.079Z"
   },
   {
    "duration": 16,
    "start_time": "2024-11-07T11:12:25.113Z"
   },
   {
    "duration": 4,
    "start_time": "2024-11-07T11:12:25.130Z"
   },
   {
    "duration": 23,
    "start_time": "2024-11-07T11:12:25.136Z"
   },
   {
    "duration": 6,
    "start_time": "2024-11-07T11:12:25.160Z"
   },
   {
    "duration": 10,
    "start_time": "2024-11-07T11:12:25.168Z"
   },
   {
    "duration": 32,
    "start_time": "2024-11-07T11:12:25.180Z"
   },
   {
    "duration": 21,
    "start_time": "2024-11-07T11:12:25.213Z"
   },
   {
    "duration": 47,
    "start_time": "2024-11-07T11:12:25.235Z"
   },
   {
    "duration": 10,
    "start_time": "2024-11-07T11:12:25.284Z"
   },
   {
    "duration": 50,
    "start_time": "2024-11-07T11:12:25.295Z"
   },
   {
    "duration": 3,
    "start_time": "2024-11-07T11:12:25.346Z"
   },
   {
    "duration": 5,
    "start_time": "2024-11-07T11:12:28.905Z"
   },
   {
    "duration": 4,
    "start_time": "2024-11-07T11:12:38.329Z"
   },
   {
    "duration": 5,
    "start_time": "2024-11-07T11:12:43.896Z"
   },
   {
    "duration": 37,
    "start_time": "2024-11-07T11:14:13.278Z"
   },
   {
    "duration": 22,
    "start_time": "2024-11-07T11:14:37.283Z"
   },
   {
    "duration": 46,
    "start_time": "2024-11-07T11:17:32.358Z"
   },
   {
    "duration": 24,
    "start_time": "2024-11-07T11:17:38.815Z"
   },
   {
    "duration": 41,
    "start_time": "2024-11-07T11:18:00.570Z"
   },
   {
    "duration": 23,
    "start_time": "2024-11-07T11:26:00.220Z"
   },
   {
    "duration": 20,
    "start_time": "2024-11-07T11:27:19.918Z"
   },
   {
    "duration": 25,
    "start_time": "2024-11-07T11:28:18.225Z"
   },
   {
    "duration": 21,
    "start_time": "2024-11-07T11:30:31.419Z"
   },
   {
    "duration": 21,
    "start_time": "2024-11-07T11:30:55.915Z"
   },
   {
    "duration": 22,
    "start_time": "2024-11-07T11:31:42.752Z"
   },
   {
    "duration": 22,
    "start_time": "2024-11-07T11:40:17.792Z"
   },
   {
    "duration": 22,
    "start_time": "2024-11-07T11:40:30.473Z"
   },
   {
    "duration": 22,
    "start_time": "2024-11-07T11:43:15.432Z"
   },
   {
    "duration": 21,
    "start_time": "2024-11-07T11:44:13.597Z"
   },
   {
    "duration": 16,
    "start_time": "2024-11-07T11:45:20.291Z"
   },
   {
    "duration": 41,
    "start_time": "2024-11-07T11:45:32.427Z"
   },
   {
    "duration": 276,
    "start_time": "2024-11-07T11:47:24.378Z"
   },
   {
    "duration": 14,
    "start_time": "2024-11-07T11:47:41.099Z"
   },
   {
    "duration": 21,
    "start_time": "2024-11-07T11:49:20.986Z"
   },
   {
    "duration": 22,
    "start_time": "2024-11-07T11:54:29.212Z"
   },
   {
    "duration": 4,
    "start_time": "2024-11-07T12:08:13.857Z"
   },
   {
    "duration": 13,
    "start_time": "2024-11-07T12:29:08.068Z"
   },
   {
    "duration": 35,
    "start_time": "2024-11-07T12:30:16.532Z"
   },
   {
    "duration": 21,
    "start_time": "2024-11-07T12:30:38.052Z"
   },
   {
    "duration": 23,
    "start_time": "2024-11-07T12:33:26.310Z"
   },
   {
    "duration": 29,
    "start_time": "2024-11-07T12:33:41.345Z"
   },
   {
    "duration": 20,
    "start_time": "2024-11-07T12:33:55.698Z"
   },
   {
    "duration": 20,
    "start_time": "2024-11-07T12:34:06.412Z"
   },
   {
    "duration": 20,
    "start_time": "2024-11-07T12:34:28.953Z"
   },
   {
    "duration": 22,
    "start_time": "2024-11-07T12:34:36.707Z"
   },
   {
    "duration": 48,
    "start_time": "2024-11-07T12:35:49.843Z"
   },
   {
    "duration": 23,
    "start_time": "2024-11-07T12:39:36.562Z"
   },
   {
    "duration": 25,
    "start_time": "2024-11-07T12:39:42.280Z"
   },
   {
    "duration": 26,
    "start_time": "2024-11-07T12:40:04.547Z"
   },
   {
    "duration": 23,
    "start_time": "2024-11-07T12:40:23.697Z"
   },
   {
    "duration": 24,
    "start_time": "2024-11-07T12:40:29.091Z"
   },
   {
    "duration": 25,
    "start_time": "2024-11-07T12:47:25.613Z"
   },
   {
    "duration": 8,
    "start_time": "2024-11-07T12:52:28.632Z"
   },
   {
    "duration": 19,
    "start_time": "2024-11-07T12:52:34.228Z"
   },
   {
    "duration": 7,
    "start_time": "2024-11-07T12:52:46.618Z"
   },
   {
    "duration": 19,
    "start_time": "2024-11-07T12:52:51.479Z"
   },
   {
    "duration": 7,
    "start_time": "2024-11-07T12:55:19.246Z"
   },
   {
    "duration": 24,
    "start_time": "2024-11-07T12:56:08.152Z"
   },
   {
    "duration": 25,
    "start_time": "2024-11-07T12:57:50.902Z"
   },
   {
    "duration": 21,
    "start_time": "2024-11-07T12:59:58.424Z"
   },
   {
    "duration": 22,
    "start_time": "2024-11-07T13:00:22.800Z"
   },
   {
    "duration": 25,
    "start_time": "2024-11-07T13:01:06.620Z"
   },
   {
    "duration": 25,
    "start_time": "2024-11-07T13:01:24.873Z"
   },
   {
    "duration": 12,
    "start_time": "2024-11-07T13:05:39.548Z"
   },
   {
    "duration": 4,
    "start_time": "2024-11-07T13:05:49.695Z"
   },
   {
    "duration": 4,
    "start_time": "2024-11-07T13:06:18.695Z"
   },
   {
    "duration": 4,
    "start_time": "2024-11-07T13:06:36.912Z"
   },
   {
    "duration": 4,
    "start_time": "2024-11-07T13:07:39.536Z"
   },
   {
    "duration": 4,
    "start_time": "2024-11-07T13:07:52.396Z"
   },
   {
    "duration": 4,
    "start_time": "2024-11-07T13:08:00.564Z"
   },
   {
    "duration": 4,
    "start_time": "2024-11-07T13:08:20.614Z"
   },
   {
    "duration": 3,
    "start_time": "2024-11-07T13:08:31.990Z"
   },
   {
    "duration": 28,
    "start_time": "2024-11-07T13:08:38.242Z"
   },
   {
    "duration": 5,
    "start_time": "2024-11-07T13:09:47.954Z"
   },
   {
    "duration": 7,
    "start_time": "2024-11-07T13:10:11.481Z"
   },
   {
    "duration": 497,
    "start_time": "2024-11-07T13:10:29.226Z"
   },
   {
    "duration": 22,
    "start_time": "2024-11-07T13:10:29.724Z"
   },
   {
    "duration": 15,
    "start_time": "2024-11-07T13:10:29.748Z"
   },
   {
    "duration": 9,
    "start_time": "2024-11-07T13:10:29.765Z"
   },
   {
    "duration": 39,
    "start_time": "2024-11-07T13:10:29.775Z"
   },
   {
    "duration": 4,
    "start_time": "2024-11-07T13:10:29.815Z"
   },
   {
    "duration": 29,
    "start_time": "2024-11-07T13:10:29.820Z"
   },
   {
    "duration": 4,
    "start_time": "2024-11-07T13:10:29.851Z"
   },
   {
    "duration": 8,
    "start_time": "2024-11-07T13:10:29.857Z"
   },
   {
    "duration": 4,
    "start_time": "2024-11-07T13:10:29.868Z"
   },
   {
    "duration": 47,
    "start_time": "2024-11-07T13:10:29.873Z"
   },
   {
    "duration": 27,
    "start_time": "2024-11-07T13:10:29.922Z"
   },
   {
    "duration": 3,
    "start_time": "2024-11-07T13:10:29.950Z"
   },
   {
    "duration": 23,
    "start_time": "2024-11-07T13:10:29.954Z"
   },
   {
    "duration": 39,
    "start_time": "2024-11-07T13:10:29.978Z"
   },
   {
    "duration": 20,
    "start_time": "2024-11-07T13:10:30.019Z"
   },
   {
    "duration": 20,
    "start_time": "2024-11-07T13:10:30.041Z"
   },
   {
    "duration": 38,
    "start_time": "2024-11-07T13:10:30.062Z"
   },
   {
    "duration": 33,
    "start_time": "2024-11-07T13:10:30.102Z"
   },
   {
    "duration": 11,
    "start_time": "2024-11-07T13:10:30.136Z"
   },
   {
    "duration": 55,
    "start_time": "2024-11-07T13:10:30.148Z"
   },
   {
    "duration": 48,
    "start_time": "2024-11-07T13:10:30.204Z"
   },
   {
    "duration": 47,
    "start_time": "2024-11-07T13:10:30.254Z"
   },
   {
    "duration": 25,
    "start_time": "2024-11-07T13:10:30.303Z"
   },
   {
    "duration": 45,
    "start_time": "2024-11-07T13:10:30.330Z"
   },
   {
    "duration": 2,
    "start_time": "2024-11-07T13:10:30.376Z"
   },
   {
    "duration": 44,
    "start_time": "2024-11-07T13:10:30.380Z"
   },
   {
    "duration": 24,
    "start_time": "2024-11-07T13:10:30.426Z"
   },
   {
    "duration": 11,
    "start_time": "2024-11-07T13:10:30.451Z"
   },
   {
    "duration": 47,
    "start_time": "2024-11-07T13:10:30.463Z"
   },
   {
    "duration": 20,
    "start_time": "2024-11-07T13:10:30.511Z"
   },
   {
    "duration": 5,
    "start_time": "2024-11-07T13:10:35.895Z"
   },
   {
    "duration": 13,
    "start_time": "2024-11-07T13:10:38.209Z"
   },
   {
    "duration": 14,
    "start_time": "2024-11-07T13:10:46.718Z"
   },
   {
    "duration": 26,
    "start_time": "2024-11-07T13:10:51.271Z"
   },
   {
    "duration": 1229,
    "start_time": "2024-11-07T13:15:11.775Z"
   },
   {
    "duration": 11,
    "start_time": "2024-11-07T13:15:33.790Z"
   },
   {
    "duration": 7,
    "start_time": "2024-11-07T13:16:25.616Z"
   },
   {
    "duration": 9,
    "start_time": "2024-11-07T13:17:17.616Z"
   },
   {
    "duration": 29,
    "start_time": "2024-11-07T13:18:13.534Z"
   },
   {
    "duration": 15,
    "start_time": "2024-11-07T13:19:39.461Z"
   },
   {
    "duration": 27,
    "start_time": "2024-11-07T13:20:57.907Z"
   },
   {
    "duration": 13,
    "start_time": "2024-11-07T14:00:15.154Z"
   },
   {
    "duration": 6,
    "start_time": "2024-11-07T14:00:43.265Z"
   },
   {
    "duration": 5,
    "start_time": "2024-11-07T14:00:52.877Z"
   },
   {
    "duration": 26,
    "start_time": "2024-11-07T15:14:51.610Z"
   },
   {
    "duration": 26,
    "start_time": "2024-11-07T15:14:57.512Z"
   },
   {
    "duration": 27,
    "start_time": "2024-11-07T15:15:02.383Z"
   },
   {
    "duration": 14,
    "start_time": "2024-11-07T15:16:42.267Z"
   },
   {
    "duration": 25,
    "start_time": "2024-11-07T15:16:48.238Z"
   },
   {
    "duration": 22,
    "start_time": "2024-11-07T15:16:57.277Z"
   },
   {
    "duration": 26,
    "start_time": "2024-11-07T15:17:00.100Z"
   },
   {
    "duration": 945,
    "start_time": "2024-11-07T15:17:44.162Z"
   },
   {
    "duration": 10,
    "start_time": "2024-11-07T15:18:00.501Z"
   },
   {
    "duration": 6,
    "start_time": "2024-11-07T15:18:14.373Z"
   },
   {
    "duration": 11,
    "start_time": "2024-11-07T15:42:14.502Z"
   },
   {
    "duration": 22,
    "start_time": "2024-11-07T15:42:19.008Z"
   },
   {
    "duration": 30,
    "start_time": "2024-11-07T15:42:35.762Z"
   },
   {
    "duration": 25,
    "start_time": "2024-11-07T15:44:04.504Z"
   },
   {
    "duration": 24,
    "start_time": "2024-11-07T15:46:13.478Z"
   },
   {
    "duration": 23,
    "start_time": "2024-11-07T15:46:20.307Z"
   },
   {
    "duration": 37,
    "start_time": "2024-11-07T15:46:31.072Z"
   },
   {
    "duration": 11,
    "start_time": "2024-11-07T15:47:54.282Z"
   },
   {
    "duration": 26,
    "start_time": "2024-11-07T15:48:22.054Z"
   },
   {
    "duration": 26,
    "start_time": "2024-11-07T15:49:25.871Z"
   },
   {
    "duration": 22,
    "start_time": "2024-11-07T15:49:32.907Z"
   },
   {
    "duration": 26,
    "start_time": "2024-11-07T15:49:47.615Z"
   },
   {
    "duration": 23,
    "start_time": "2024-11-07T15:49:59.173Z"
   },
   {
    "duration": 25,
    "start_time": "2024-11-07T15:50:05.571Z"
   },
   {
    "duration": 7,
    "start_time": "2024-11-07T15:54:49.196Z"
   },
   {
    "duration": 12,
    "start_time": "2024-11-07T15:54:58.504Z"
   },
   {
    "duration": 23,
    "start_time": "2024-11-07T15:56:16.536Z"
   },
   {
    "duration": 13,
    "start_time": "2024-11-07T15:56:59.063Z"
   },
   {
    "duration": 17,
    "start_time": "2024-11-07T15:57:44.081Z"
   },
   {
    "duration": 55,
    "start_time": "2024-11-07T15:58:09.679Z"
   },
   {
    "duration": 33,
    "start_time": "2024-11-07T15:58:20.551Z"
   },
   {
    "duration": 24,
    "start_time": "2024-11-07T15:58:42.009Z"
   },
   {
    "duration": 30,
    "start_time": "2024-11-07T15:59:06.165Z"
   },
   {
    "duration": 22,
    "start_time": "2024-11-07T16:01:05.928Z"
   },
   {
    "duration": 25,
    "start_time": "2024-11-07T16:09:59.592Z"
   },
   {
    "duration": 23,
    "start_time": "2024-11-07T16:11:16.256Z"
   },
   {
    "duration": 15,
    "start_time": "2024-11-07T16:19:29.676Z"
   },
   {
    "duration": 18,
    "start_time": "2024-11-07T16:24:10.491Z"
   },
   {
    "duration": 19,
    "start_time": "2024-11-07T16:25:13.342Z"
   },
   {
    "duration": 15,
    "start_time": "2024-11-07T16:25:20.070Z"
   },
   {
    "duration": 502,
    "start_time": "2024-11-07T20:50:29.797Z"
   },
   {
    "duration": 23,
    "start_time": "2024-11-07T20:50:30.301Z"
   },
   {
    "duration": 20,
    "start_time": "2024-11-07T20:50:30.325Z"
   },
   {
    "duration": 19,
    "start_time": "2024-11-07T20:50:30.346Z"
   },
   {
    "duration": 54,
    "start_time": "2024-11-07T20:50:30.367Z"
   },
   {
    "duration": 3,
    "start_time": "2024-11-07T20:50:30.423Z"
   },
   {
    "duration": 27,
    "start_time": "2024-11-07T20:50:30.428Z"
   },
   {
    "duration": 5,
    "start_time": "2024-11-07T20:50:30.457Z"
   },
   {
    "duration": 20,
    "start_time": "2024-11-07T20:50:30.464Z"
   },
   {
    "duration": 9,
    "start_time": "2024-11-07T20:50:30.486Z"
   },
   {
    "duration": 48,
    "start_time": "2024-11-07T20:50:30.497Z"
   },
   {
    "duration": 11,
    "start_time": "2024-11-07T20:50:30.547Z"
   },
   {
    "duration": 6,
    "start_time": "2024-11-07T20:50:30.559Z"
   },
   {
    "duration": 13,
    "start_time": "2024-11-07T20:50:30.569Z"
   },
   {
    "duration": 49,
    "start_time": "2024-11-07T20:50:30.584Z"
   },
   {
    "duration": 18,
    "start_time": "2024-11-07T20:50:30.635Z"
   },
   {
    "duration": 14,
    "start_time": "2024-11-07T20:50:30.655Z"
   },
   {
    "duration": 15,
    "start_time": "2024-11-07T20:50:30.671Z"
   },
   {
    "duration": 15,
    "start_time": "2024-11-07T20:50:30.688Z"
   },
   {
    "duration": 4,
    "start_time": "2024-11-07T20:50:30.720Z"
   },
   {
    "duration": 37,
    "start_time": "2024-11-07T20:50:30.725Z"
   },
   {
    "duration": 43,
    "start_time": "2024-11-07T20:50:30.764Z"
   },
   {
    "duration": 17,
    "start_time": "2024-11-07T20:50:30.809Z"
   },
   {
    "duration": 33,
    "start_time": "2024-11-07T20:50:30.828Z"
   },
   {
    "duration": 57,
    "start_time": "2024-11-07T20:50:30.863Z"
   },
   {
    "duration": 2,
    "start_time": "2024-11-07T20:50:30.922Z"
   },
   {
    "duration": 52,
    "start_time": "2024-11-07T20:50:30.925Z"
   },
   {
    "duration": 22,
    "start_time": "2024-11-07T20:50:30.978Z"
   },
   {
    "duration": 28,
    "start_time": "2024-11-07T20:50:31.001Z"
   },
   {
    "duration": 29,
    "start_time": "2024-11-07T20:50:31.031Z"
   },
   {
    "duration": 29,
    "start_time": "2024-11-07T20:50:31.061Z"
   },
   {
    "duration": 34,
    "start_time": "2024-11-07T20:50:31.092Z"
   },
   {
    "duration": 52,
    "start_time": "2024-11-07T20:50:31.128Z"
   },
   {
    "duration": 495,
    "start_time": "2024-11-07T21:33:49.902Z"
   },
   {
    "duration": 21,
    "start_time": "2024-11-07T21:33:50.399Z"
   },
   {
    "duration": 15,
    "start_time": "2024-11-07T21:33:50.422Z"
   },
   {
    "duration": 31,
    "start_time": "2024-11-07T21:33:50.439Z"
   },
   {
    "duration": 57,
    "start_time": "2024-11-07T21:33:50.471Z"
   },
   {
    "duration": 4,
    "start_time": "2024-11-07T21:33:50.530Z"
   },
   {
    "duration": 12,
    "start_time": "2024-11-07T21:33:50.536Z"
   },
   {
    "duration": 5,
    "start_time": "2024-11-07T21:33:50.550Z"
   },
   {
    "duration": 7,
    "start_time": "2024-11-07T21:33:50.557Z"
   },
   {
    "duration": 4,
    "start_time": "2024-11-07T21:33:50.569Z"
   },
   {
    "duration": 72,
    "start_time": "2024-11-07T21:33:50.575Z"
   },
   {
    "duration": 11,
    "start_time": "2024-11-07T21:33:50.649Z"
   },
   {
    "duration": 5,
    "start_time": "2024-11-07T21:33:50.661Z"
   },
   {
    "duration": 55,
    "start_time": "2024-11-07T21:33:50.668Z"
   },
   {
    "duration": 30,
    "start_time": "2024-11-07T21:33:50.726Z"
   },
   {
    "duration": 24,
    "start_time": "2024-11-07T21:33:50.758Z"
   },
   {
    "duration": 8,
    "start_time": "2024-11-07T21:33:50.784Z"
   },
   {
    "duration": 17,
    "start_time": "2024-11-07T21:33:50.822Z"
   },
   {
    "duration": 7,
    "start_time": "2024-11-07T21:33:50.841Z"
   },
   {
    "duration": 5,
    "start_time": "2024-11-07T21:33:50.850Z"
   },
   {
    "duration": 15,
    "start_time": "2024-11-07T21:33:50.857Z"
   },
   {
    "duration": 48,
    "start_time": "2024-11-07T21:33:50.874Z"
   },
   {
    "duration": 8,
    "start_time": "2024-11-07T21:33:50.924Z"
   },
   {
    "duration": 9,
    "start_time": "2024-11-07T21:33:50.933Z"
   },
   {
    "duration": 80,
    "start_time": "2024-11-07T21:33:50.945Z"
   },
   {
    "duration": 3,
    "start_time": "2024-11-07T21:33:51.026Z"
   },
   {
    "duration": 27,
    "start_time": "2024-11-07T21:33:51.030Z"
   },
   {
    "duration": 21,
    "start_time": "2024-11-07T21:33:51.059Z"
   },
   {
    "duration": 70,
    "start_time": "2024-11-07T21:33:51.082Z"
   },
   {
    "duration": 34,
    "start_time": "2024-11-07T21:33:51.154Z"
   },
   {
    "duration": 40,
    "start_time": "2024-11-07T21:33:51.189Z"
   },
   {
    "duration": 22,
    "start_time": "2024-11-07T21:33:51.231Z"
   },
   {
    "duration": 45,
    "start_time": "2024-11-07T21:33:51.255Z"
   },
   {
    "duration": 52,
    "start_time": "2024-11-08T17:47:04.384Z"
   },
   {
    "duration": 589,
    "start_time": "2024-11-08T17:47:20.240Z"
   },
   {
    "duration": 24,
    "start_time": "2024-11-08T17:47:20.831Z"
   },
   {
    "duration": 17,
    "start_time": "2024-11-08T17:47:20.857Z"
   },
   {
    "duration": 12,
    "start_time": "2024-11-08T17:47:20.876Z"
   },
   {
    "duration": 38,
    "start_time": "2024-11-08T17:47:20.890Z"
   },
   {
    "duration": 4,
    "start_time": "2024-11-08T17:47:20.930Z"
   },
   {
    "duration": 30,
    "start_time": "2024-11-08T17:47:20.936Z"
   },
   {
    "duration": 7,
    "start_time": "2024-11-08T17:47:20.968Z"
   },
   {
    "duration": 14,
    "start_time": "2024-11-08T17:47:20.977Z"
   },
   {
    "duration": 5,
    "start_time": "2024-11-08T17:47:20.994Z"
   },
   {
    "duration": 46,
    "start_time": "2024-11-08T17:47:21.001Z"
   },
   {
    "duration": 27,
    "start_time": "2024-11-08T17:47:21.048Z"
   },
   {
    "duration": 4,
    "start_time": "2024-11-08T17:47:21.077Z"
   },
   {
    "duration": 20,
    "start_time": "2024-11-08T17:47:21.082Z"
   },
   {
    "duration": 30,
    "start_time": "2024-11-08T17:47:21.104Z"
   },
   {
    "duration": 29,
    "start_time": "2024-11-08T17:47:21.136Z"
   },
   {
    "duration": 5,
    "start_time": "2024-11-08T17:47:21.166Z"
   },
   {
    "duration": 17,
    "start_time": "2024-11-08T17:47:21.173Z"
   },
   {
    "duration": 12,
    "start_time": "2024-11-08T17:47:21.192Z"
   },
   {
    "duration": 6,
    "start_time": "2024-11-08T17:47:21.206Z"
   },
   {
    "duration": 12,
    "start_time": "2024-11-08T17:47:21.214Z"
   },
   {
    "duration": 25,
    "start_time": "2024-11-08T17:47:21.227Z"
   },
   {
    "duration": 18,
    "start_time": "2024-11-08T17:47:21.253Z"
   },
   {
    "duration": 33,
    "start_time": "2024-11-08T17:47:21.272Z"
   },
   {
    "duration": 46,
    "start_time": "2024-11-08T17:47:21.307Z"
   },
   {
    "duration": 2,
    "start_time": "2024-11-08T17:47:21.355Z"
   },
   {
    "duration": 36,
    "start_time": "2024-11-08T17:47:21.358Z"
   },
   {
    "duration": 20,
    "start_time": "2024-11-08T17:47:21.397Z"
   },
   {
    "duration": 15,
    "start_time": "2024-11-08T17:47:26.455Z"
   },
   {
    "duration": 5,
    "start_time": "2024-11-08T18:05:50.784Z"
   },
   {
    "duration": 47,
    "start_time": "2024-11-08T18:08:23.155Z"
   },
   {
    "duration": 15,
    "start_time": "2024-11-08T18:09:10.538Z"
   },
   {
    "duration": 24,
    "start_time": "2024-11-08T18:10:39.613Z"
   },
   {
    "duration": 16,
    "start_time": "2024-11-08T18:10:52.315Z"
   },
   {
    "duration": 15,
    "start_time": "2024-11-08T18:30:07.645Z"
   },
   {
    "duration": 935,
    "start_time": "2024-11-08T18:32:01.381Z"
   },
   {
    "duration": 929,
    "start_time": "2024-11-08T18:32:47.622Z"
   },
   {
    "duration": 964,
    "start_time": "2024-11-08T18:33:14.261Z"
   },
   {
    "duration": 18,
    "start_time": "2024-11-08T18:33:27.659Z"
   },
   {
    "duration": 13,
    "start_time": "2024-11-08T18:33:43.042Z"
   },
   {
    "duration": 15,
    "start_time": "2024-11-08T18:33:57.604Z"
   },
   {
    "duration": 904,
    "start_time": "2024-11-08T18:35:11.801Z"
   },
   {
    "duration": 274,
    "start_time": "2024-11-08T18:35:33.562Z"
   },
   {
    "duration": 15,
    "start_time": "2024-11-08T18:36:00.290Z"
   },
   {
    "duration": 20,
    "start_time": "2024-11-08T18:36:03.777Z"
   },
   {
    "duration": 16,
    "start_time": "2024-11-08T18:36:15.822Z"
   },
   {
    "duration": 16,
    "start_time": "2024-11-08T18:36:24.476Z"
   },
   {
    "duration": 896,
    "start_time": "2024-11-08T18:42:33.310Z"
   },
   {
    "duration": 21,
    "start_time": "2024-11-08T18:42:46.397Z"
   },
   {
    "duration": 237,
    "start_time": "2024-11-08T18:43:07.564Z"
   },
   {
    "duration": 16,
    "start_time": "2024-11-08T18:43:36.440Z"
   },
   {
    "duration": 26,
    "start_time": "2024-11-08T18:43:55.952Z"
   },
   {
    "duration": 21,
    "start_time": "2024-11-08T18:46:33.244Z"
   },
   {
    "duration": 23,
    "start_time": "2024-11-08T18:46:47.030Z"
   },
   {
    "duration": 16,
    "start_time": "2024-11-08T19:08:38.152Z"
   },
   {
    "duration": 18,
    "start_time": "2024-11-08T19:08:53.963Z"
   },
   {
    "duration": 19,
    "start_time": "2024-11-08T19:18:05.655Z"
   },
   {
    "duration": 9,
    "start_time": "2024-11-08T19:18:29.072Z"
   },
   {
    "duration": 71,
    "start_time": "2024-11-08T19:19:49.788Z"
   },
   {
    "duration": 64,
    "start_time": "2024-11-08T19:19:59.624Z"
   },
   {
    "duration": 117,
    "start_time": "2024-11-08T19:21:32.192Z"
   },
   {
    "duration": 79,
    "start_time": "2024-11-08T19:21:54.068Z"
   },
   {
    "duration": 69,
    "start_time": "2024-11-08T19:22:41.777Z"
   },
   {
    "duration": 8,
    "start_time": "2024-11-08T19:23:01.557Z"
   },
   {
    "duration": 7,
    "start_time": "2024-11-08T19:23:45.109Z"
   },
   {
    "duration": 7,
    "start_time": "2024-11-08T19:24:54.383Z"
   },
   {
    "duration": 857,
    "start_time": "2024-11-08T19:27:15.398Z"
   },
   {
    "duration": 846,
    "start_time": "2024-11-08T19:27:38.491Z"
   },
   {
    "duration": 943,
    "start_time": "2024-11-08T19:28:14.536Z"
   },
   {
    "duration": 12,
    "start_time": "2024-11-08T19:28:36.417Z"
   },
   {
    "duration": 874,
    "start_time": "2024-11-08T19:29:04.059Z"
   },
   {
    "duration": 884,
    "start_time": "2024-11-08T19:29:43.147Z"
   },
   {
    "duration": 19,
    "start_time": "2024-11-08T19:30:05.939Z"
   },
   {
    "duration": 886,
    "start_time": "2024-11-08T19:30:09.512Z"
   },
   {
    "duration": 869,
    "start_time": "2024-11-08T19:31:07.450Z"
   },
   {
    "duration": 12,
    "start_time": "2024-11-08T19:31:34.565Z"
   },
   {
    "duration": 17,
    "start_time": "2024-11-08T19:31:40.547Z"
   },
   {
    "duration": 11,
    "start_time": "2024-11-08T19:31:42.785Z"
   },
   {
    "duration": 13,
    "start_time": "2024-11-08T19:32:25.763Z"
   },
   {
    "duration": 12,
    "start_time": "2024-11-08T19:32:29.133Z"
   },
   {
    "duration": 6,
    "start_time": "2024-11-08T19:32:47.168Z"
   },
   {
    "duration": 18,
    "start_time": "2024-11-08T19:32:50.301Z"
   },
   {
    "duration": 4,
    "start_time": "2024-11-08T19:32:52.168Z"
   },
   {
    "duration": 902,
    "start_time": "2024-11-08T19:32:57.230Z"
   },
   {
    "duration": 77,
    "start_time": "2024-11-08T19:33:15.233Z"
   },
   {
    "duration": 920,
    "start_time": "2024-11-08T19:33:18.209Z"
   },
   {
    "duration": 17,
    "start_time": "2024-11-08T19:33:24.697Z"
   },
   {
    "duration": 19,
    "start_time": "2024-11-08T19:33:48.306Z"
   },
   {
    "duration": 900,
    "start_time": "2024-11-08T19:33:51.361Z"
   },
   {
    "duration": 857,
    "start_time": "2024-11-08T19:34:25.292Z"
   },
   {
    "duration": 7,
    "start_time": "2024-11-08T19:34:40.679Z"
   },
   {
    "duration": 67,
    "start_time": "2024-11-08T19:34:54.406Z"
   },
   {
    "duration": 14,
    "start_time": "2024-11-08T19:35:52.219Z"
   },
   {
    "duration": 19,
    "start_time": "2024-11-08T19:35:59.785Z"
   },
   {
    "duration": 13,
    "start_time": "2024-11-08T19:36:27.934Z"
   },
   {
    "duration": 19,
    "start_time": "2024-11-08T19:36:45.923Z"
   },
   {
    "duration": 13,
    "start_time": "2024-11-08T19:36:49.849Z"
   },
   {
    "duration": 10,
    "start_time": "2024-11-08T19:37:06.627Z"
   },
   {
    "duration": 9,
    "start_time": "2024-11-08T19:37:12.829Z"
   },
   {
    "duration": 6,
    "start_time": "2024-11-08T19:37:21.561Z"
   },
   {
    "duration": 15,
    "start_time": "2024-11-08T19:38:10.846Z"
   },
   {
    "duration": 13,
    "start_time": "2024-11-08T19:39:14.698Z"
   },
   {
    "duration": 14,
    "start_time": "2024-11-08T19:39:39.192Z"
   },
   {
    "duration": 15,
    "start_time": "2024-11-08T19:39:44.375Z"
   },
   {
    "duration": 15,
    "start_time": "2024-11-08T19:39:54.362Z"
   },
   {
    "duration": 14,
    "start_time": "2024-11-08T19:40:05.958Z"
   },
   {
    "duration": 14,
    "start_time": "2024-11-08T19:40:15.518Z"
   },
   {
    "duration": 17,
    "start_time": "2024-11-08T19:40:20.917Z"
   },
   {
    "duration": 11,
    "start_time": "2024-11-08T19:49:03.205Z"
   },
   {
    "duration": 7,
    "start_time": "2024-11-08T19:53:21.352Z"
   },
   {
    "duration": 8,
    "start_time": "2024-11-08T19:54:23.701Z"
   },
   {
    "duration": 8,
    "start_time": "2024-11-08T19:55:33.766Z"
   },
   {
    "duration": 11,
    "start_time": "2024-11-08T19:55:40.703Z"
   },
   {
    "duration": 10,
    "start_time": "2024-11-08T19:56:02.518Z"
   },
   {
    "duration": 17,
    "start_time": "2024-11-08T19:56:24.325Z"
   },
   {
    "duration": 765,
    "start_time": "2024-11-08T19:56:43.544Z"
   },
   {
    "duration": 15,
    "start_time": "2024-11-08T19:57:16.181Z"
   },
   {
    "duration": 14,
    "start_time": "2024-11-08T19:57:30.414Z"
   },
   {
    "duration": 18,
    "start_time": "2024-11-08T19:57:39.815Z"
   },
   {
    "duration": 18,
    "start_time": "2024-11-08T19:57:56.464Z"
   },
   {
    "duration": 16,
    "start_time": "2024-11-08T19:58:25.740Z"
   },
   {
    "duration": 13,
    "start_time": "2024-11-08T19:58:34.190Z"
   },
   {
    "duration": 23,
    "start_time": "2024-11-08T19:58:36.685Z"
   },
   {
    "duration": 21,
    "start_time": "2024-11-08T19:58:38.316Z"
   },
   {
    "duration": 10,
    "start_time": "2024-11-08T19:59:58.240Z"
   },
   {
    "duration": 17,
    "start_time": "2024-11-08T20:00:19.886Z"
   },
   {
    "duration": 79,
    "start_time": "2024-11-08T20:01:30.617Z"
   },
   {
    "duration": 73,
    "start_time": "2024-11-08T20:01:43.312Z"
   },
   {
    "duration": 17,
    "start_time": "2024-11-08T20:02:13.804Z"
   },
   {
    "duration": 16,
    "start_time": "2024-11-08T20:02:36.860Z"
   },
   {
    "duration": 16,
    "start_time": "2024-11-08T20:02:50.406Z"
   },
   {
    "duration": 66,
    "start_time": "2024-11-11T10:13:05.092Z"
   },
   {
    "duration": 575,
    "start_time": "2024-11-11T10:13:11.927Z"
   },
   {
    "duration": 24,
    "start_time": "2024-11-11T10:13:12.505Z"
   },
   {
    "duration": 17,
    "start_time": "2024-11-11T10:13:12.530Z"
   },
   {
    "duration": 11,
    "start_time": "2024-11-11T10:13:12.549Z"
   },
   {
    "duration": 59,
    "start_time": "2024-11-11T10:13:12.562Z"
   },
   {
    "duration": 4,
    "start_time": "2024-11-11T10:13:12.622Z"
   },
   {
    "duration": 17,
    "start_time": "2024-11-11T10:13:12.627Z"
   },
   {
    "duration": 4,
    "start_time": "2024-11-11T10:13:12.645Z"
   },
   {
    "duration": 10,
    "start_time": "2024-11-11T10:13:12.651Z"
   },
   {
    "duration": 11,
    "start_time": "2024-11-11T10:13:12.663Z"
   },
   {
    "duration": 48,
    "start_time": "2024-11-11T10:13:12.676Z"
   },
   {
    "duration": 11,
    "start_time": "2024-11-11T10:13:12.726Z"
   },
   {
    "duration": 4,
    "start_time": "2024-11-11T10:13:12.738Z"
   },
   {
    "duration": 12,
    "start_time": "2024-11-11T10:13:12.743Z"
   },
   {
    "duration": 20,
    "start_time": "2024-11-11T10:13:12.757Z"
   },
   {
    "duration": 48,
    "start_time": "2024-11-11T10:13:12.779Z"
   },
   {
    "duration": 6,
    "start_time": "2024-11-11T10:13:12.828Z"
   },
   {
    "duration": 19,
    "start_time": "2024-11-11T10:13:12.836Z"
   },
   {
    "duration": 7,
    "start_time": "2024-11-11T10:13:12.857Z"
   },
   {
    "duration": 3,
    "start_time": "2024-11-11T10:13:12.865Z"
   },
   {
    "duration": 13,
    "start_time": "2024-11-11T10:13:12.870Z"
   },
   {
    "duration": 3,
    "start_time": "2024-11-11T10:13:12.884Z"
   },
   {
    "duration": 32,
    "start_time": "2024-11-11T10:13:12.889Z"
   },
   {
    "duration": 7,
    "start_time": "2024-11-11T10:13:12.923Z"
   },
   {
    "duration": 6,
    "start_time": "2024-11-11T10:13:12.932Z"
   },
   {
    "duration": 44,
    "start_time": "2024-11-11T10:13:12.939Z"
   },
   {
    "duration": 2,
    "start_time": "2024-11-11T10:13:12.985Z"
   },
   {
    "duration": 50,
    "start_time": "2024-11-11T10:13:12.990Z"
   },
   {
    "duration": 22,
    "start_time": "2024-11-11T10:13:13.041Z"
   },
   {
    "duration": 22,
    "start_time": "2024-11-11T10:13:13.064Z"
   },
   {
    "duration": 52,
    "start_time": "2024-11-11T10:13:13.087Z"
   },
   {
    "duration": 23,
    "start_time": "2024-11-11T10:13:13.141Z"
   },
   {
    "duration": 18,
    "start_time": "2024-11-11T10:13:13.165Z"
   },
   {
    "duration": 47,
    "start_time": "2024-11-11T10:13:13.184Z"
   },
   {
    "duration": 15,
    "start_time": "2024-11-11T10:13:13.233Z"
   },
   {
    "duration": 16,
    "start_time": "2024-11-11T10:13:13.249Z"
   },
   {
    "duration": 58,
    "start_time": "2024-11-11T13:47:19.828Z"
   },
   {
    "duration": 594,
    "start_time": "2024-11-11T13:47:35.514Z"
   },
   {
    "duration": 26,
    "start_time": "2024-11-11T13:47:43.182Z"
   },
   {
    "duration": 514,
    "start_time": "2024-11-11T13:52:06.244Z"
   },
   {
    "duration": 25,
    "start_time": "2024-11-11T13:52:06.760Z"
   },
   {
    "duration": 28,
    "start_time": "2024-11-11T13:52:06.787Z"
   },
   {
    "duration": 18,
    "start_time": "2024-11-11T13:52:06.817Z"
   },
   {
    "duration": 55,
    "start_time": "2024-11-11T13:52:06.837Z"
   },
   {
    "duration": 4,
    "start_time": "2024-11-11T13:52:06.894Z"
   },
   {
    "duration": 23,
    "start_time": "2024-11-11T13:52:06.900Z"
   },
   {
    "duration": 27,
    "start_time": "2024-11-11T13:52:06.925Z"
   },
   {
    "duration": 10,
    "start_time": "2024-11-11T13:52:06.954Z"
   },
   {
    "duration": 83,
    "start_time": "2024-11-11T13:52:06.968Z"
   },
   {
    "duration": 52,
    "start_time": "2024-11-11T13:52:07.053Z"
   },
   {
    "duration": 13,
    "start_time": "2024-11-11T13:52:07.106Z"
   },
   {
    "duration": 27,
    "start_time": "2024-11-11T13:52:07.121Z"
   },
   {
    "duration": 15,
    "start_time": "2024-11-11T13:52:07.150Z"
   },
   {
    "duration": 97,
    "start_time": "2024-11-11T13:52:07.167Z"
   },
   {
    "duration": 28,
    "start_time": "2024-11-11T13:52:07.266Z"
   },
   {
    "duration": 5,
    "start_time": "2024-11-11T13:52:07.296Z"
   },
   {
    "duration": 50,
    "start_time": "2024-11-11T13:52:07.304Z"
   },
   {
    "duration": 35,
    "start_time": "2024-11-11T13:52:07.356Z"
   },
   {
    "duration": 22,
    "start_time": "2024-11-11T13:52:07.393Z"
   },
   {
    "duration": 29,
    "start_time": "2024-11-11T13:52:07.416Z"
   },
   {
    "duration": 19,
    "start_time": "2024-11-11T13:52:07.446Z"
   },
   {
    "duration": 35,
    "start_time": "2024-11-11T13:52:07.467Z"
   },
   {
    "duration": 37,
    "start_time": "2024-11-11T13:52:07.504Z"
   },
   {
    "duration": 39,
    "start_time": "2024-11-11T13:52:07.542Z"
   },
   {
    "duration": 18,
    "start_time": "2024-11-11T13:52:07.582Z"
   },
   {
    "duration": 30,
    "start_time": "2024-11-11T13:52:07.620Z"
   },
   {
    "duration": 28,
    "start_time": "2024-11-11T13:52:07.653Z"
   },
   {
    "duration": 29,
    "start_time": "2024-11-11T13:52:07.682Z"
   },
   {
    "duration": 18,
    "start_time": "2024-11-11T13:52:07.713Z"
   }
  ],
  "colab": {
   "name": "dpp_template_part2.ipynb",
   "provenance": []
  },
  "kernelspec": {
   "display_name": "Python 3 (ipykernel)",
   "language": "python",
   "name": "python3"
  },
  "language_info": {
   "codemirror_mode": {
    "name": "ipython",
    "version": 3
   },
   "file_extension": ".py",
   "mimetype": "text/x-python",
   "name": "python",
   "nbconvert_exporter": "python",
   "pygments_lexer": "ipython3",
   "version": "3.9.20"
  },
  "toc": {
   "base_numbering": 1,
   "nav_menu": {},
   "number_sections": true,
   "sideBar": true,
   "skip_h1_title": true,
   "title_cell": "Table of Contents",
   "title_sidebar": "Contents",
   "toc_cell": false,
   "toc_position": {
    "height": "calc(100% - 180px)",
    "left": "10px",
    "top": "150px",
    "width": "315.391px"
   },
   "toc_section_display": true,
   "toc_window_display": true
  }
 },
 "nbformat": 4,
 "nbformat_minor": 5
}
