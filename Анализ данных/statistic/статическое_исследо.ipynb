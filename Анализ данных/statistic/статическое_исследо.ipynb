{
 "cells": [
  {
   "cell_type": "markdown",
   "id": "06d4fbf3",
   "metadata": {},
   "source": [
    "# Исследование поездок по городам сервиса GoFast"
   ]
  },
  {
   "cell_type": "markdown",
   "id": "ff54060c",
   "metadata": {},
   "source": [
    "Есть выборка пользователей по нескольким городам, а также поездка по ним. Необходимо проанализировать данные, провести предобработку, подсчитать выручку и проверить несколько гипотез по эффективности подписок и будущих акций компании для увеличения прибыли."
   ]
  },
  {
   "cell_type": "markdown",
   "id": "c1fcdbc8",
   "metadata": {
    "toc": true
   },
   "source": [
    "<h1>Содержание<span class=\"tocSkip\"></span></h1>\n",
    "<div class=\"toc\"><ul class=\"toc-item\"><li><span><a href=\"#Описание-данных\" data-toc-modified-id=\"Описание-данных-1\"><span class=\"toc-item-num\">1&nbsp;&nbsp;</span>Описание данных</a></span><ul class=\"toc-item\"><li><span><a href=\"#Шаг-1.-Загрузка-данных\" data-toc-modified-id=\"Шаг-1.-Загрузка-данных-1.1\"><span class=\"toc-item-num\">1.1&nbsp;&nbsp;</span>Шаг 1. Загрузка данных</a></span></li></ul></li><li><span><a href=\"#Шаг-2.-Предобработка-данных\" data-toc-modified-id=\"Шаг-2.-Предобработка-данных-2\"><span class=\"toc-item-num\">2&nbsp;&nbsp;</span>Шаг 2. Предобработка данных</a></span><ul class=\"toc-item\"><li><span><a href=\"#Проверим-на-пропуски\" data-toc-modified-id=\"Проверим-на-пропуски-2.1\"><span class=\"toc-item-num\">2.1&nbsp;&nbsp;</span>Проверим на пропуски</a></span></li><li><span><a href=\"#Изменение-типа-данных\" data-toc-modified-id=\"Изменение-типа-данных-2.2\"><span class=\"toc-item-num\">2.2&nbsp;&nbsp;</span>Изменение типа данных</a></span></li><li><span><a href=\"#Добавление-столбца-номер-месяца\" data-toc-modified-id=\"Добавление-столбца-номер-месяца-2.3\"><span class=\"toc-item-num\">2.3&nbsp;&nbsp;</span>Добавление столбца номер месяца</a></span></li><li><span><a href=\"#Проверка-неявные-и-явные-дубликаты\" data-toc-modified-id=\"Проверка-неявные-и-явные-дубликаты-2.4\"><span class=\"toc-item-num\">2.4&nbsp;&nbsp;</span>Проверка неявные и явные дубликаты</a></span></li><li><span><a href=\"#Вывод\" data-toc-modified-id=\"Вывод-2.5\"><span class=\"toc-item-num\">2.5&nbsp;&nbsp;</span>Вывод</a></span></li></ul></li><li><span><a href=\"#Шаг-3.-Исследовательский-анализ-данных\" data-toc-modified-id=\"Шаг-3.-Исследовательский-анализ-данных-3\"><span class=\"toc-item-num\">3&nbsp;&nbsp;</span>Шаг 3. Исследовательский анализ данных</a></span><ul class=\"toc-item\"><li><span><a href=\"#Частота-встречаемости-городов\" data-toc-modified-id=\"Частота-встречаемости-городов-3.1\"><span class=\"toc-item-num\">3.1&nbsp;&nbsp;</span>Частота встречаемости городов</a></span></li><li><span><a href=\"#Cоотношение-пользователей-с-подпиской-и-без-подписки\" data-toc-modified-id=\"Cоотношение-пользователей-с-подпиской-и-без-подписки-3.2\"><span class=\"toc-item-num\">3.2&nbsp;&nbsp;</span>Cоотношение пользователей с подпиской и без подписки</a></span></li><li><span><a href=\"#Возраст-пользователей\" data-toc-modified-id=\"Возраст-пользователей-3.3\"><span class=\"toc-item-num\">3.3&nbsp;&nbsp;</span>Возраст пользователей</a></span></li><li><span><a href=\"#Расстояние,-которое-пользователь-преодолел-за-одну-поездку\" data-toc-modified-id=\"Расстояние,-которое-пользователь-преодолел-за-одну-поездку-3.4\"><span class=\"toc-item-num\">3.4&nbsp;&nbsp;</span>Расстояние, которое пользователь преодолел за одну поездку</a></span></li><li><span><a href=\"#Продолжительность-поездок\" data-toc-modified-id=\"Продолжительность-поездок-3.5\"><span class=\"toc-item-num\">3.5&nbsp;&nbsp;</span>Продолжительность поездок</a></span></li><li><span><a href=\"#Промежуточный-вывод:\" data-toc-modified-id=\"Промежуточный-вывод:-3.6\"><span class=\"toc-item-num\">3.6&nbsp;&nbsp;</span>Промежуточный вывод:</a></span></li></ul></li><li><span><a href=\"#Шаг-4.-Объединение-данных\" data-toc-modified-id=\"Шаг-4.-Объединение-данных-4\"><span class=\"toc-item-num\">4&nbsp;&nbsp;</span>Шаг 4. Объединение данных</a></span><ul class=\"toc-item\"><li><span><a href=\"#Промежуточный-вывод:\" data-toc-modified-id=\"Промежуточный-вывод:-4.1\"><span class=\"toc-item-num\">4.1&nbsp;&nbsp;</span>Промежуточный вывод:</a></span></li></ul></li><li><span><a href=\"#Шаг-5.-Подсчёт-выручки\" data-toc-modified-id=\"Шаг-5.-Подсчёт-выручки-5\"><span class=\"toc-item-num\">5&nbsp;&nbsp;</span>Шаг 5. Подсчёт выручки</a></span><ul class=\"toc-item\"><li><span><a href=\"#Вывод:\" data-toc-modified-id=\"Вывод:-5.1\"><span class=\"toc-item-num\">5.1&nbsp;&nbsp;</span>Вывод:</a></span></li></ul></li><li><span><a href=\"#Шаг-6.-Проверка-гипотез\" data-toc-modified-id=\"Шаг-6.-Проверка-гипотез-6\"><span class=\"toc-item-num\">6&nbsp;&nbsp;</span>Шаг 6. Проверка гипотез</a></span><ul class=\"toc-item\"><li><span><a href=\"#Гипотеза-о-продолжительности-времени-пользователей\" data-toc-modified-id=\"Гипотеза-о-продолжительности-времени-пользователей-6.1\"><span class=\"toc-item-num\">6.1&nbsp;&nbsp;</span>Гипотеза о продолжительности времени пользователей</a></span></li><li><span><a href=\"#Cреднее-расстояние,-которое-проезжают-пользователи-с-подпиской\" data-toc-modified-id=\"Cреднее-расстояние,-которое-проезжают-пользователи-с-подпиской-6.2\"><span class=\"toc-item-num\">6.2&nbsp;&nbsp;</span>Cреднее расстояние, которое проезжают пользователи с подпиской</a></span></li><li><span><a href=\"#Помесячная-выручка-от-пользователей-с-подпиской\" data-toc-modified-id=\"Помесячная-выручка-от-пользователей-с-подпиской-6.3\"><span class=\"toc-item-num\">6.3&nbsp;&nbsp;</span>Помесячная выручка от пользователей с подпиской</a></span></li><li><span><a href=\"#Задание-о-изменение-количества-обращений-в-техподдержку\" data-toc-modified-id=\"Задание-о-изменение-количества-обращений-в-техподдержку-6.4\"><span class=\"toc-item-num\">6.4&nbsp;&nbsp;</span>Задание о изменение количества обращений в техподдержку</a></span></li><li><span><a href=\"#Промежуточный-вывод\" data-toc-modified-id=\"Промежуточный-вывод-6.5\"><span class=\"toc-item-num\">6.5&nbsp;&nbsp;</span>Промежуточный вывод</a></span></li></ul></li><li><span><a href=\"#Шаг-7.-Распределения\" data-toc-modified-id=\"Шаг-7.-Распределения-7\"><span class=\"toc-item-num\">7&nbsp;&nbsp;</span>Шаг 7. Распределения</a></span><ul class=\"toc-item\"><li><span><a href=\"#Акции-с-бесплатной-раздачей-промокодов\" data-toc-modified-id=\"Акции-с-бесплатной-раздачей-промокодов-7.1\"><span class=\"toc-item-num\">7.1&nbsp;&nbsp;</span>Акции с бесплатной раздачей промокодов</a></span></li><li><span><a href=\"#Количество-открывших-push-уведомления\" data-toc-modified-id=\"Количество-открывших-push-уведомления-7.2\"><span class=\"toc-item-num\">7.2&nbsp;&nbsp;</span>Количество открывших push-уведомления</a></span></li></ul></li><li><span><a href=\"#Вывод\" data-toc-modified-id=\"Вывод-8\"><span class=\"toc-item-num\">8&nbsp;&nbsp;</span>Вывод</a></span><ul class=\"toc-item\"><li><span><a href=\"#Предобработка-данных\" data-toc-modified-id=\"Предобработка-данных-8.1\"><span class=\"toc-item-num\">8.1&nbsp;&nbsp;</span>Предобработка данных</a></span></li><li><span><a href=\"#Исследовательнский-анализ-данных\" data-toc-modified-id=\"Исследовательнский-анализ-данных-8.2\"><span class=\"toc-item-num\">8.2&nbsp;&nbsp;</span>Исследовательнский анализ данных</a></span></li><li><span><a href=\"#Создание-сводной-таблицы\" data-toc-modified-id=\"Создание-сводной-таблицы-8.3\"><span class=\"toc-item-num\">8.3&nbsp;&nbsp;</span>Создание сводной таблицы</a></span></li><li><span><a href=\"#Подсчет-выручки\" data-toc-modified-id=\"Подсчет-выручки-8.4\"><span class=\"toc-item-num\">8.4&nbsp;&nbsp;</span>Подсчет выручки</a></span></li><li><span><a href=\"#Проверка-гипотез\" data-toc-modified-id=\"Проверка-гипотез-8.5\"><span class=\"toc-item-num\">8.5&nbsp;&nbsp;</span>Проверка гипотез</a></span></li><li><span><a href=\"#Распределения\" data-toc-modified-id=\"Распределения-8.6\"><span class=\"toc-item-num\">8.6&nbsp;&nbsp;</span>Распределения</a></span></li><li><span><a href=\"#Общий-вывод\" data-toc-modified-id=\"Общий-вывод-8.7\"><span class=\"toc-item-num\">8.7&nbsp;&nbsp;</span>Общий вывод</a></span></li></ul></li></ul></div>"
   ]
  },
  {
   "cell_type": "markdown",
   "id": "db98f994",
   "metadata": {},
   "source": [
    "## Описание данных "
   ]
  },
  {
   "cell_type": "code",
   "execution_count": 1,
   "id": "bd79eee7",
   "metadata": {},
   "outputs": [],
   "source": [
    "import pandas as pd\n",
    "import matplotlib.pyplot as plt\n",
    "from scipy import stats as st\n",
    "import seaborn as sns\n",
    "import numpy as np\n",
    "from scipy.stats import binom\n",
    "from scipy.stats import norm"
   ]
  },
  {
   "cell_type": "markdown",
   "id": "c42cbe00",
   "metadata": {},
   "source": [
    "### Шаг 1. Загрузка данных"
   ]
  },
  {
   "cell_type": "code",
   "execution_count": 2,
   "id": "e95d004d",
   "metadata": {},
   "outputs": [],
   "source": [
    "data_users = pd.read_csv('/datasets/users_go.csv')\n",
    "data_riders = pd.read_csv('/datasets/rides_go.csv')\n",
    "data_subs = pd.read_csv('/datasets/subscriptions_go.csv')\n",
    "data = [data_users,data_riders,data_subs]"
   ]
  },
  {
   "cell_type": "code",
   "execution_count": 3,
   "id": "499644fc",
   "metadata": {},
   "outputs": [
    {
     "name": "stdout",
     "output_type": "stream",
     "text": [
      "Index(['user_id', 'name', 'age', 'city', 'subscription_type'], dtype='object')\n",
      "\n",
      "Index(['user_id', 'distance', 'duration', 'date'], dtype='object')\n",
      "\n",
      "Index(['subscription_type', 'minute_price', 'start_ride_price',\n",
      "       'subscription_fee'],\n",
      "      dtype='object')\n",
      "\n"
     ]
    }
   ],
   "source": [
    "for i in data:\n",
    "    print(i.columns)\n",
    "    print()"
   ]
  },
  {
   "cell_type": "code",
   "execution_count": 4,
   "id": "018de165",
   "metadata": {
    "scrolled": true
   },
   "outputs": [
    {
     "name": "stdout",
     "output_type": "stream",
     "text": [
      "   user_id        name  age            city subscription_type\n",
      "0        1        Кира   22          Тюмень             ultra\n",
      "1        2   Станислав   31            Омск             ultra\n",
      "2        3     Алексей   20          Москва             ultra\n",
      "3        4  Константин   26  Ростов-на-Дону             ultra\n",
      "4        5       Адель   28            Омск             ultra\n",
      "5        6      Регина   25       Краснодар             ultra\n",
      "6        7       Игорь   23            Омск             ultra\n",
      "7        8        Юрий   23       Краснодар             ultra\n",
      "8        9          Ян   21       Пятигорск             ultra\n",
      "9       10     Валерий   18    Екатеринбург             ultra\n",
      "\n",
      "   user_id     distance   duration        date\n",
      "0        1  4409.919140  25.599769  2021-01-01\n",
      "1        1  2617.592153  15.816871  2021-01-18\n",
      "2        1   754.159807   6.232113  2021-04-20\n",
      "3        1  2694.783254  18.511000  2021-08-11\n",
      "4        1  4028.687306  26.265803  2021-08-28\n",
      "5        1  2770.890808  16.650138  2021-10-09\n",
      "6        1  3039.020292  14.927879  2021-10-19\n",
      "7        1  2842.118050  23.117468  2021-11-06\n",
      "8        1  3412.690668  15.238072  2021-11-14\n",
      "9        1   748.690645  15.041884  2021-11-22\n",
      "\n",
      "  subscription_type  minute_price  start_ride_price  subscription_fee\n",
      "0              free             8                50                 0\n",
      "1             ultra             6                 0               199\n",
      "\n"
     ]
    }
   ],
   "source": [
    "for i in data:\n",
    "    print(i.head(10))\n",
    "    print()"
   ]
  },
  {
   "cell_type": "code",
   "execution_count": 5,
   "id": "3d0281da",
   "metadata": {},
   "outputs": [
    {
     "name": "stdout",
     "output_type": "stream",
     "text": [
      "<class 'pandas.core.frame.DataFrame'>\n",
      "RangeIndex: 1565 entries, 0 to 1564\n",
      "Data columns (total 5 columns):\n",
      " #   Column             Non-Null Count  Dtype \n",
      "---  ------             --------------  ----- \n",
      " 0   user_id            1565 non-null   int64 \n",
      " 1   name               1565 non-null   object\n",
      " 2   age                1565 non-null   int64 \n",
      " 3   city               1565 non-null   object\n",
      " 4   subscription_type  1565 non-null   object\n",
      "dtypes: int64(2), object(3)\n",
      "memory usage: 61.3+ KB\n",
      "None\n",
      "\n",
      "<class 'pandas.core.frame.DataFrame'>\n",
      "RangeIndex: 18068 entries, 0 to 18067\n",
      "Data columns (total 4 columns):\n",
      " #   Column    Non-Null Count  Dtype  \n",
      "---  ------    --------------  -----  \n",
      " 0   user_id   18068 non-null  int64  \n",
      " 1   distance  18068 non-null  float64\n",
      " 2   duration  18068 non-null  float64\n",
      " 3   date      18068 non-null  object \n",
      "dtypes: float64(2), int64(1), object(1)\n",
      "memory usage: 564.8+ KB\n",
      "None\n",
      "\n",
      "<class 'pandas.core.frame.DataFrame'>\n",
      "RangeIndex: 2 entries, 0 to 1\n",
      "Data columns (total 4 columns):\n",
      " #   Column             Non-Null Count  Dtype \n",
      "---  ------             --------------  ----- \n",
      " 0   subscription_type  2 non-null      object\n",
      " 1   minute_price       2 non-null      int64 \n",
      " 2   start_ride_price   2 non-null      int64 \n",
      " 3   subscription_fee   2 non-null      int64 \n",
      "dtypes: int64(3), object(1)\n",
      "memory usage: 192.0+ bytes\n",
      "None\n",
      "\n"
     ]
    }
   ],
   "source": [
    "for i in data:\n",
    "    print(i.info())\n",
    "    print()"
   ]
  },
  {
   "cell_type": "markdown",
   "id": "6d857c04",
   "metadata": {},
   "source": [
    "Вывод: На первый взгляд можно сказать, что явных пропусков нету, нужно привести колонку date к типу datetime и проверить на дубликаты"
   ]
  },
  {
   "cell_type": "code",
   "execution_count": 6,
   "id": "111f57aa",
   "metadata": {
    "scrolled": true
   },
   "outputs": [
    {
     "data": {
      "image/png": "[encoded data removed]",
      "text/plain": [
       "<Figure size 432x288 with 2 Axes>"
      ]
     },
     "metadata": {
      "needs_background": "light"
     },
     "output_type": "display_data"
    },
    {
     "name": "stdout",
     "output_type": "stream",
     "text": [
      "\n"
     ]
    },
    {
     "data": {
      "image/png": "[encoded data removed]",
      "text/plain": [
       "<Figure size 432x288 with 4 Axes>"
      ]
     },
     "metadata": {
      "needs_background": "light"
     },
     "output_type": "display_data"
    },
    {
     "name": "stdout",
     "output_type": "stream",
     "text": [
      "\n"
     ]
    },
    {
     "data": {
      "image/png": "[encoded data removed]",
      "text/plain": [
       "<Figure size 432x288 with 4 Axes>"
      ]
     },
     "metadata": {
      "needs_background": "light"
     },
     "output_type": "display_data"
    },
    {
     "name": "stdout",
     "output_type": "stream",
     "text": [
      "\n"
     ]
    }
   ],
   "source": [
    "for i in data:\n",
    "    i.hist()\n",
    "    plt.show()\n",
    "    print()"
   ]
  },
  {
   "cell_type": "markdown",
   "id": "a6b03e3f",
   "metadata": {},
   "source": [
    "Вывод: Выборки age, distance, duration нормально распределены без явных выбросов "
   ]
  },
  {
   "cell_type": "markdown",
   "id": "e95ebca7",
   "metadata": {},
   "source": [
    "## Шаг 2. Предобработка данных"
   ]
  },
  {
   "cell_type": "markdown",
   "id": "01bd52e8",
   "metadata": {},
   "source": [
    "### Проверим на пропуски "
   ]
  },
  {
   "cell_type": "code",
   "execution_count": 7,
   "id": "f64d7e57",
   "metadata": {},
   "outputs": [
    {
     "name": "stdout",
     "output_type": "stream",
     "text": [
      "user_id              0\n",
      "name                 0\n",
      "age                  0\n",
      "city                 0\n",
      "subscription_type    0\n",
      "dtype: int64\n",
      "\n",
      "user_id     0\n",
      "distance    0\n",
      "duration    0\n",
      "date        0\n",
      "dtype: int64\n",
      "\n",
      "subscription_type    0\n",
      "minute_price         0\n",
      "start_ride_price     0\n",
      "subscription_fee     0\n",
      "dtype: int64\n",
      "\n"
     ]
    }
   ],
   "source": [
    "for i in data:\n",
    "    print(i.isna().sum())\n",
    "    print()"
   ]
  },
  {
   "cell_type": "markdown",
   "id": "171c6465",
   "metadata": {},
   "source": [
    "### Изменение типа данных"
   ]
  },
  {
   "cell_type": "code",
   "execution_count": 8,
   "id": "6b3202c6",
   "metadata": {},
   "outputs": [],
   "source": [
    "data_riders['date'] = pd.to_datetime(data_riders['date'],format='%Y-%m-%d')#2021-01-01"
   ]
  },
  {
   "cell_type": "code",
   "execution_count": 9,
   "id": "3a114308",
   "metadata": {
    "scrolled": true
   },
   "outputs": [
    {
     "data": {
      "text/plain": [
       "0   2021-01-01\n",
       "1   2021-01-18\n",
       "2   2021-04-20\n",
       "3   2021-08-11\n",
       "4   2021-08-28\n",
       "Name: date, dtype: datetime64[ns]"
      ]
     },
     "execution_count": 9,
     "metadata": {},
     "output_type": "execute_result"
    }
   ],
   "source": [
    "data_riders['date'].head(5)#привели к пандас, проверили"
   ]
  },
  {
   "cell_type": "markdown",
   "id": "48511e03",
   "metadata": {},
   "source": [
    "### Добавление столбца номер месяца"
   ]
  },
  {
   "cell_type": "code",
   "execution_count": 10,
   "id": "4bf3256f",
   "metadata": {},
   "outputs": [],
   "source": [
    "data_riders['month'] = data_riders['date'].dt.month"
   ]
  },
  {
   "cell_type": "code",
   "execution_count": 11,
   "id": "376e4979",
   "metadata": {},
   "outputs": [
    {
     "data": {
      "text/html": [
       "<div>\n",
       "<style scoped>\n",
       "    .dataframe tbody tr th:only-of-type {\n",
       "        vertical-align: middle;\n",
       "    }\n",
       "\n",
       "    .dataframe tbody tr th {\n",
       "        vertical-align: top;\n",
       "    }\n",
       "\n",
       "    .dataframe thead th {\n",
       "        text-align: right;\n",
       "    }\n",
       "</style>\n",
       "<table border=\"1\" class=\"dataframe\">\n",
       "  <thead>\n",
       "    <tr style=\"text-align: right;\">\n",
       "      <th></th>\n",
       "      <th>user_id</th>\n",
       "      <th>distance</th>\n",
       "      <th>duration</th>\n",
       "      <th>date</th>\n",
       "      <th>month</th>\n",
       "    </tr>\n",
       "  </thead>\n",
       "  <tbody>\n",
       "    <tr>\n",
       "      <th>0</th>\n",
       "      <td>1</td>\n",
       "      <td>4409.919140</td>\n",
       "      <td>25.599769</td>\n",
       "      <td>2021-01-01</td>\n",
       "      <td>1</td>\n",
       "    </tr>\n",
       "    <tr>\n",
       "      <th>1</th>\n",
       "      <td>1</td>\n",
       "      <td>2617.592153</td>\n",
       "      <td>15.816871</td>\n",
       "      <td>2021-01-18</td>\n",
       "      <td>1</td>\n",
       "    </tr>\n",
       "    <tr>\n",
       "      <th>2</th>\n",
       "      <td>1</td>\n",
       "      <td>754.159807</td>\n",
       "      <td>6.232113</td>\n",
       "      <td>2021-04-20</td>\n",
       "      <td>4</td>\n",
       "    </tr>\n",
       "    <tr>\n",
       "      <th>3</th>\n",
       "      <td>1</td>\n",
       "      <td>2694.783254</td>\n",
       "      <td>18.511000</td>\n",
       "      <td>2021-08-11</td>\n",
       "      <td>8</td>\n",
       "    </tr>\n",
       "    <tr>\n",
       "      <th>4</th>\n",
       "      <td>1</td>\n",
       "      <td>4028.687306</td>\n",
       "      <td>26.265803</td>\n",
       "      <td>2021-08-28</td>\n",
       "      <td>8</td>\n",
       "    </tr>\n",
       "  </tbody>\n",
       "</table>\n",
       "</div>"
      ],
      "text/plain": [
       "   user_id     distance   duration       date  month\n",
       "0        1  4409.919140  25.599769 2021-01-01      1\n",
       "1        1  2617.592153  15.816871 2021-01-18      1\n",
       "2        1   754.159807   6.232113 2021-04-20      4\n",
       "3        1  2694.783254  18.511000 2021-08-11      8\n",
       "4        1  4028.687306  26.265803 2021-08-28      8"
      ]
     },
     "execution_count": 11,
     "metadata": {},
     "output_type": "execute_result"
    }
   ],
   "source": [
    "data_riders.head(5)"
   ]
  },
  {
   "cell_type": "markdown",
   "id": "1d10c7a6",
   "metadata": {},
   "source": [
    "### Проверка неявные и явные дубликаты"
   ]
  },
  {
   "cell_type": "code",
   "execution_count": 12,
   "id": "794c43cd",
   "metadata": {
    "scrolled": true
   },
   "outputs": [
    {
     "name": "stdout",
     "output_type": "stream",
     "text": [
      "      user_id        name  age          city subscription_type\n",
      "1534      293       Агата   26     Краснодар             ultra\n",
      "1535       16      Амалия   27     Краснодар             ultra\n",
      "1536      909  Константин   20  Екатеринбург              free\n",
      "1537      403      Полина   19          Сочи             ultra\n",
      "1538      908      Рустам   30        Тюмень              free\n",
      "\n",
      "Empty DataFrame\n",
      "Columns: [user_id, distance, duration, date, month]\n",
      "Index: []\n",
      "\n",
      "Empty DataFrame\n",
      "Columns: [subscription_type, minute_price, start_ride_price, subscription_fee]\n",
      "Index: []\n",
      "\n"
     ]
    }
   ],
   "source": [
    "for i in data:\n",
    "    print(i[i.duplicated()].head(5))\n",
    "    print()\n"
   ]
  },
  {
   "cell_type": "code",
   "execution_count": 13,
   "id": "62a3d4f1",
   "metadata": {},
   "outputs": [
    {
     "name": "stdout",
     "output_type": "stream",
     "text": [
      "31\n",
      "\n",
      "0\n",
      "\n",
      "0\n",
      "\n"
     ]
    }
   ],
   "source": [
    "for i in data:\n",
    "    print(i.duplicated().sum())\n",
    "    print()"
   ]
  },
  {
   "cell_type": "code",
   "execution_count": 14,
   "id": "28f7d641",
   "metadata": {},
   "outputs": [],
   "source": [
    "data_users = data_users.drop_duplicates()"
   ]
  },
  {
   "cell_type": "code",
   "execution_count": 15,
   "id": "6353eac2",
   "metadata": {},
   "outputs": [
    {
     "data": {
      "text/plain": [
       "0"
      ]
     },
     "execution_count": 15,
     "metadata": {},
     "output_type": "execute_result"
    }
   ],
   "source": [
    "data_users.duplicated().sum()"
   ]
  },
  {
   "cell_type": "markdown",
   "id": "d17f5a4e",
   "metadata": {},
   "source": [
    "Вывод: Удалили явные дубликаты в data_users 31шт"
   ]
  },
  {
   "cell_type": "code",
   "execution_count": 16,
   "id": "16bc846f",
   "metadata": {
    "scrolled": true
   },
   "outputs": [
    {
     "name": "stdout",
     "output_type": "stream",
     "text": [
      "user_id              1534\n",
      "name                  194\n",
      "age                    29\n",
      "city                    8\n",
      "subscription_type       2\n",
      "dtype: int64\n",
      "\n",
      "user_id      1534\n",
      "distance    18068\n",
      "duration    17974\n",
      "date          364\n",
      "month          12\n",
      "dtype: int64\n",
      "\n",
      "subscription_type    2\n",
      "minute_price         2\n",
      "start_ride_price     2\n",
      "subscription_fee     2\n",
      "dtype: int64\n",
      "\n"
     ]
    }
   ],
   "source": [
    "for i in data:\n",
    "    print(i.nunique())\n",
    "    print()"
   ]
  },
  {
   "cell_type": "code",
   "execution_count": 17,
   "id": "dc671632",
   "metadata": {
    "scrolled": true
   },
   "outputs": [
    {
     "data": {
      "text/plain": [
       "array(['Тюмень', 'Омск', 'Москва', 'Ростов-на-Дону', 'Краснодар',\n",
       "       'Пятигорск', 'Екатеринбург', 'Сочи'], dtype=object)"
      ]
     },
     "execution_count": 17,
     "metadata": {},
     "output_type": "execute_result"
    }
   ],
   "source": [
    "data_users['city'].unique()"
   ]
  },
  {
   "cell_type": "markdown",
   "id": "04799623",
   "metadata": {},
   "source": [
    "Вывод: Неявных дубликатов не найдено "
   ]
  },
  {
   "cell_type": "markdown",
   "id": "a99336fc",
   "metadata": {},
   "source": [
    "### Вывод\n",
    "Убрали дубликаты и добавили колонку месяц"
   ]
  },
  {
   "cell_type": "markdown",
   "id": "212593c7",
   "metadata": {},
   "source": [
    "## Шаг 3. Исследовательский анализ данных"
   ]
  },
  {
   "cell_type": "markdown",
   "id": "9ea53957",
   "metadata": {},
   "source": [
    "### Частота встречаемости городов"
   ]
  },
  {
   "cell_type": "code",
   "execution_count": 18,
   "id": "e3a4274c",
   "metadata": {},
   "outputs": [
    {
     "data": {
      "image/png": "[encoded data removed]",
      "text/plain": [
       "<Figure size 432x288 with 1 Axes>"
      ]
     },
     "metadata": {
      "needs_background": "light"
     },
     "output_type": "display_data"
    }
   ],
   "source": [
    "data_users['city'].value_counts().plot.bar() # частота встречаемости городов\n",
    "plt.title('Частота встречаемости городов')\n",
    "plt.ylabel('Частота')\n",
    "plt.show()"
   ]
  },
  {
   "cell_type": "code",
   "execution_count": 19,
   "id": "01d545e2",
   "metadata": {},
   "outputs": [
    {
     "data": {
      "text/plain": [
       "Пятигорск         219\n",
       "Екатеринбург      204\n",
       "Ростов-на-Дону    198\n",
       "Краснодар         193\n",
       "Сочи              189\n",
       "Омск              183\n",
       "Тюмень            180\n",
       "Москва            168\n",
       "Name: city, dtype: int64"
      ]
     },
     "execution_count": 19,
     "metadata": {},
     "output_type": "execute_result"
    }
   ],
   "source": [
    "data_users['city'].value_counts()"
   ]
  },
  {
   "cell_type": "markdown",
   "id": "a1e4304e",
   "metadata": {},
   "source": [
    "Вывод: больше в выборке встречается город Пятигорск, меньше Москва"
   ]
  },
  {
   "cell_type": "markdown",
   "id": "da61ffb3",
   "metadata": {},
   "source": [
    "### Cоотношение пользователей с подпиской и без подписки"
   ]
  },
  {
   "cell_type": "code",
   "execution_count": 20,
   "id": "fa796e72",
   "metadata": {},
   "outputs": [
    {
     "name": "stdout",
     "output_type": "stream",
     "text": [
      "free     54.432855\n",
      "ultra    45.567145\n",
      "Name: subscription_type, dtype: float64\n"
     ]
    },
    {
     "data": {
      "image/png": "[encoded data removed]",
      "text/plain": [
       "<Figure size 432x288 with 1 Axes>"
      ]
     },
     "metadata": {},
     "output_type": "display_data"
    }
   ],
   "source": [
    "pie_ = data_users['subscription_type'].value_counts()\n",
    "total_ = data_users['subscription_type'].count()\n",
    "print(pie_ / total_*100)\n",
    "data_users['subscription_type'].value_counts().plot(kind='pie')\n",
    "plt.title('Cоотношение пользователей с подпиской и без подписки')\n",
    "plt.show() #соотношение пользователей с подпиской и без подписки;"
   ]
  },
  {
   "cell_type": "markdown",
   "id": "06105c13",
   "metadata": {},
   "source": [
    "Вывод: Количество с подпиской free 54% с ultra 45% в предложенной выборке"
   ]
  },
  {
   "cell_type": "markdown",
   "id": "f5b051ec",
   "metadata": {},
   "source": [
    "### Возраст пользователей"
   ]
  },
  {
   "cell_type": "code",
   "execution_count": 21,
   "id": "c84d9f25",
   "metadata": {
    "scrolled": true
   },
   "outputs": [
    {
     "data": {
      "image/png": "[encoded data removed]",
      "text/plain": [
       "<Figure size 432x288 with 1 Axes>"
      ]
     },
     "metadata": {
      "needs_background": "light"
     },
     "output_type": "display_data"
    }
   ],
   "source": [
    "data_users['age'].plot(kind='hist',grid=True,bins = 60)\n",
    "plt.title('Распределение пользователей')\n",
    "plt.xlabel('Возраст')\n",
    "plt.show()"
   ]
  },
  {
   "cell_type": "code",
   "execution_count": 22,
   "id": "7c330844",
   "metadata": {},
   "outputs": [
    {
     "data": {
      "text/plain": [
       "median      25.00000\n",
       "mean        24.90352\n",
       "<lambda>    25.00000\n",
       "Name: age, dtype: float64"
      ]
     },
     "execution_count": 22,
     "metadata": {},
     "output_type": "execute_result"
    }
   ],
   "source": [
    "data_users['age'].agg(['median', 'mean', lambda x: x.mode()[0]])"
   ]
  },
  {
   "cell_type": "code",
   "execution_count": 23,
   "id": "770c2d7b",
   "metadata": {},
   "outputs": [
    {
     "data": {
      "text/plain": [
       "count    1534.000000\n",
       "mean       24.903520\n",
       "std         4.572367\n",
       "min        12.000000\n",
       "25%        22.000000\n",
       "50%        25.000000\n",
       "75%        28.000000\n",
       "max        43.000000\n",
       "Name: age, dtype: float64"
      ]
     },
     "execution_count": 23,
     "metadata": {},
     "output_type": "execute_result"
    }
   ],
   "source": [
    "data_users['age'].describe()"
   ]
  },
  {
   "cell_type": "code",
   "execution_count": 24,
   "id": "62d1e5d9",
   "metadata": {
    "scrolled": true
   },
   "outputs": [
    {
     "data": {
      "image/png": "[encoded data removed]",
      "text/plain": [
       "<Figure size 432x288 with 1 Axes>"
      ]
     },
     "metadata": {
      "needs_background": "light"
     },
     "output_type": "display_data"
    }
   ],
   "source": [
    "data_users.boxplot(column='age')\n",
    "plt.title('Диаграмма размаха возраста')\n",
    "plt.show()"
   ]
  },
  {
   "cell_type": "markdown",
   "id": "68a8ca45",
   "metadata": {},
   "source": [
    "Вывод: В колонке возраст есть выбросы, лица больше 36 = 0.7% и меньше 13 = 0.26%\n",
    "Медиана, мода и среднее ~ 25 лет"
   ]
  },
  {
   "cell_type": "markdown",
   "id": "da81fbfa",
   "metadata": {},
   "source": [
    "### Расстояние, которое пользователь преодолел за одну поездку"
   ]
  },
  {
   "cell_type": "code",
   "execution_count": 25,
   "id": "58d893fd",
   "metadata": {
    "scrolled": true
   },
   "outputs": [
    {
     "data": {
      "image/png": "[encoded data removed]",
      "text/plain": [
       "<Figure size 432x288 with 1 Axes>"
      ]
     },
     "metadata": {
      "needs_background": "light"
     },
     "output_type": "display_data"
    }
   ],
   "source": [
    "data_riders['distance'].hist(bins=100)\n",
    "plt.title('Гистограмма расстояния')\n",
    "plt.xlabel('Расстояния')\n",
    "plt.ylabel('Частота')\n",
    "plt.show()"
   ]
  },
  {
   "cell_type": "code",
   "execution_count": 26,
   "id": "3023573e",
   "metadata": {
    "scrolled": true
   },
   "outputs": [
    {
     "data": {
      "text/html": [
       "<div>\n",
       "<style scoped>\n",
       "    .dataframe tbody tr th:only-of-type {\n",
       "        vertical-align: middle;\n",
       "    }\n",
       "\n",
       "    .dataframe tbody tr th {\n",
       "        vertical-align: top;\n",
       "    }\n",
       "\n",
       "    .dataframe thead th {\n",
       "        text-align: right;\n",
       "    }\n",
       "</style>\n",
       "<table border=\"1\" class=\"dataframe\">\n",
       "  <thead>\n",
       "    <tr style=\"text-align: right;\">\n",
       "      <th></th>\n",
       "      <th>user_id</th>\n",
       "      <th>distance</th>\n",
       "      <th>duration</th>\n",
       "      <th>date</th>\n",
       "      <th>month</th>\n",
       "    </tr>\n",
       "  </thead>\n",
       "  <tbody>\n",
       "    <tr>\n",
       "      <th>10341</th>\n",
       "      <td>981</td>\n",
       "      <td>6671.969833</td>\n",
       "      <td>27.297078</td>\n",
       "      <td>2021-12-06</td>\n",
       "      <td>12</td>\n",
       "    </tr>\n",
       "    <tr>\n",
       "      <th>10915</th>\n",
       "      <td>1022</td>\n",
       "      <td>6535.386520</td>\n",
       "      <td>30.008799</td>\n",
       "      <td>2021-10-14</td>\n",
       "      <td>10</td>\n",
       "    </tr>\n",
       "    <tr>\n",
       "      <th>11319</th>\n",
       "      <td>1052</td>\n",
       "      <td>6503.600402</td>\n",
       "      <td>26.008309</td>\n",
       "      <td>2021-07-01</td>\n",
       "      <td>7</td>\n",
       "    </tr>\n",
       "    <tr>\n",
       "      <th>11385</th>\n",
       "      <td>1057</td>\n",
       "      <td>6601.197575</td>\n",
       "      <td>0.500000</td>\n",
       "      <td>2021-02-07</td>\n",
       "      <td>2</td>\n",
       "    </tr>\n",
       "    <tr>\n",
       "      <th>12086</th>\n",
       "      <td>1108</td>\n",
       "      <td>6538.937375</td>\n",
       "      <td>29.649276</td>\n",
       "      <td>2021-09-27</td>\n",
       "      <td>9</td>\n",
       "    </tr>\n",
       "    <tr>\n",
       "      <th>15580</th>\n",
       "      <td>1361</td>\n",
       "      <td>6908.491343</td>\n",
       "      <td>23.816983</td>\n",
       "      <td>2021-03-27</td>\n",
       "      <td>3</td>\n",
       "    </tr>\n",
       "    <tr>\n",
       "      <th>16309</th>\n",
       "      <td>1411</td>\n",
       "      <td>7211.007745</td>\n",
       "      <td>0.500000</td>\n",
       "      <td>2021-04-15</td>\n",
       "      <td>4</td>\n",
       "    </tr>\n",
       "    <tr>\n",
       "      <th>16484</th>\n",
       "      <td>1422</td>\n",
       "      <td>7066.003772</td>\n",
       "      <td>23.619318</td>\n",
       "      <td>2021-02-12</td>\n",
       "      <td>2</td>\n",
       "    </tr>\n",
       "    <tr>\n",
       "      <th>17171</th>\n",
       "      <td>1471</td>\n",
       "      <td>6760.940067</td>\n",
       "      <td>32.043760</td>\n",
       "      <td>2021-08-03</td>\n",
       "      <td>8</td>\n",
       "    </tr>\n",
       "    <tr>\n",
       "      <th>17242</th>\n",
       "      <td>1477</td>\n",
       "      <td>6724.932981</td>\n",
       "      <td>0.500000</td>\n",
       "      <td>2021-01-12</td>\n",
       "      <td>1</td>\n",
       "    </tr>\n",
       "  </tbody>\n",
       "</table>\n",
       "</div>"
      ],
      "text/plain": [
       "       user_id     distance   duration       date  month\n",
       "10341      981  6671.969833  27.297078 2021-12-06     12\n",
       "10915     1022  6535.386520  30.008799 2021-10-14     10\n",
       "11319     1052  6503.600402  26.008309 2021-07-01      7\n",
       "11385     1057  6601.197575   0.500000 2021-02-07      2\n",
       "12086     1108  6538.937375  29.649276 2021-09-27      9\n",
       "15580     1361  6908.491343  23.816983 2021-03-27      3\n",
       "16309     1411  7211.007745   0.500000 2021-04-15      4\n",
       "16484     1422  7066.003772  23.619318 2021-02-12      2\n",
       "17171     1471  6760.940067  32.043760 2021-08-03      8\n",
       "17242     1477  6724.932981   0.500000 2021-01-12      1"
      ]
     },
     "execution_count": 26,
     "metadata": {},
     "output_type": "execute_result"
    }
   ],
   "source": [
    "data_riders.query('distance>6500').head(10)"
   ]
  },
  {
   "cell_type": "code",
   "execution_count": 27,
   "id": "4897d210",
   "metadata": {},
   "outputs": [
    {
     "data": {
      "text/plain": [
       "549.2484838581698"
      ]
     },
     "execution_count": 27,
     "metadata": {},
     "output_type": "execute_result"
    }
   ],
   "source": [
    "data_riders.query('distance<1000')['distance'].mean()"
   ]
  },
  {
   "cell_type": "code",
   "execution_count": 28,
   "id": "c4ba74ee",
   "metadata": {},
   "outputs": [
    {
     "data": {
      "text/plain": [
       "median      3133.609994\n",
       "mean        3070.659976\n",
       "<lambda>       0.855683\n",
       "Name: distance, dtype: float64"
      ]
     },
     "execution_count": 28,
     "metadata": {},
     "output_type": "execute_result"
    }
   ],
   "source": [
    "data_riders['distance'].agg(['median', 'mean', lambda x: x.mode()[0]])"
   ]
  },
  {
   "cell_type": "code",
   "execution_count": 29,
   "id": "e6062fe0",
   "metadata": {},
   "outputs": [
    {
     "data": {
      "image/png": "[encoded data removed]",
      "text/plain": [
       "<Figure size 432x288 with 1 Axes>"
      ]
     },
     "metadata": {
      "needs_background": "light"
     },
     "output_type": "display_data"
    }
   ],
   "source": [
    "sns.kdeplot(data_riders['distance'], shade=True, color=\"blue\")  # Гистограмма плотности\n",
    "plt.show()"
   ]
  },
  {
   "cell_type": "code",
   "execution_count": 30,
   "id": "e67a023b",
   "metadata": {},
   "outputs": [
    {
     "data": {
      "image/png": "[encoded data removed]",
      "text/plain": [
       "<Figure size 432x288 with 1 Axes>"
      ]
     },
     "metadata": {
      "needs_background": "light"
     },
     "output_type": "display_data"
    }
   ],
   "source": [
    "data_riders.boxplot(column=['distance'])\n",
    "plt.title('Диаграмма размаха расстояния')\n",
    "plt.show()"
   ]
  },
  {
   "cell_type": "markdown",
   "id": "6eaefe91",
   "metadata": {},
   "source": [
    "Вывод: Гистограмма показывает, что выборка близка к нормальному, есть локальный пик до 549 м и просадка около 1500 м, возможно связана с непонными данными. Среднее расстояние поездки 3133 м , Медиана 3070 м"
   ]
  },
  {
   "cell_type": "markdown",
   "id": "4712d109",
   "metadata": {},
   "source": [
    "### Продолжительность поездок"
   ]
  },
  {
   "cell_type": "code",
   "execution_count": 31,
   "id": "e3e4bef1",
   "metadata": {},
   "outputs": [
    {
     "data": {
      "image/png": "[encoded data removed]",
      "text/plain": [
       "<Figure size 432x288 with 1 Axes>"
      ]
     },
     "metadata": {
      "needs_background": "light"
     },
     "output_type": "display_data"
    }
   ],
   "source": [
    "data_riders['duration'].hist(bins=100)\n",
    "plt.title('Гистограмма продолжительность поездок')\n",
    "plt.xlabel('Продолжительность')\n",
    "plt.ylabel('Частота')\n",
    "plt.show()"
   ]
  },
  {
   "cell_type": "code",
   "execution_count": 32,
   "id": "e35d6f6f",
   "metadata": {},
   "outputs": [
    {
     "data": {
      "text/html": [
       "<div>\n",
       "<style scoped>\n",
       "    .dataframe tbody tr th:only-of-type {\n",
       "        vertical-align: middle;\n",
       "    }\n",
       "\n",
       "    .dataframe tbody tr th {\n",
       "        vertical-align: top;\n",
       "    }\n",
       "\n",
       "    .dataframe thead th {\n",
       "        text-align: right;\n",
       "    }\n",
       "</style>\n",
       "<table border=\"1\" class=\"dataframe\">\n",
       "  <thead>\n",
       "    <tr style=\"text-align: right;\">\n",
       "      <th></th>\n",
       "      <th>user_id</th>\n",
       "      <th>distance</th>\n",
       "      <th>duration</th>\n",
       "      <th>date</th>\n",
       "      <th>month</th>\n",
       "    </tr>\n",
       "  </thead>\n",
       "  <tbody>\n",
       "    <tr>\n",
       "      <th>6531</th>\n",
       "      <td>701</td>\n",
       "      <td>4196.445201</td>\n",
       "      <td>0.500000</td>\n",
       "      <td>2021-08-31</td>\n",
       "      <td>8</td>\n",
       "    </tr>\n",
       "    <tr>\n",
       "      <th>6570</th>\n",
       "      <td>704</td>\n",
       "      <td>4830.824371</td>\n",
       "      <td>0.500000</td>\n",
       "      <td>2021-10-14</td>\n",
       "      <td>10</td>\n",
       "    </tr>\n",
       "    <tr>\n",
       "      <th>6680</th>\n",
       "      <td>712</td>\n",
       "      <td>4684.004397</td>\n",
       "      <td>0.500000</td>\n",
       "      <td>2021-03-04</td>\n",
       "      <td>3</td>\n",
       "    </tr>\n",
       "    <tr>\n",
       "      <th>6691</th>\n",
       "      <td>712</td>\n",
       "      <td>23.963062</td>\n",
       "      <td>2.053251</td>\n",
       "      <td>2021-11-22</td>\n",
       "      <td>11</td>\n",
       "    </tr>\n",
       "    <tr>\n",
       "      <th>6695</th>\n",
       "      <td>713</td>\n",
       "      <td>5215.642710</td>\n",
       "      <td>0.500000</td>\n",
       "      <td>2021-02-25</td>\n",
       "      <td>2</td>\n",
       "    </tr>\n",
       "    <tr>\n",
       "      <th>6768</th>\n",
       "      <td>718</td>\n",
       "      <td>5197.436649</td>\n",
       "      <td>0.500000</td>\n",
       "      <td>2021-02-11</td>\n",
       "      <td>2</td>\n",
       "    </tr>\n",
       "    <tr>\n",
       "      <th>6801</th>\n",
       "      <td>720</td>\n",
       "      <td>102.323624</td>\n",
       "      <td>2.292353</td>\n",
       "      <td>2021-09-20</td>\n",
       "      <td>9</td>\n",
       "    </tr>\n",
       "    <tr>\n",
       "      <th>6860</th>\n",
       "      <td>724</td>\n",
       "      <td>6225.520342</td>\n",
       "      <td>0.500000</td>\n",
       "      <td>2021-12-16</td>\n",
       "      <td>12</td>\n",
       "    </tr>\n",
       "    <tr>\n",
       "      <th>6883</th>\n",
       "      <td>726</td>\n",
       "      <td>4452.491518</td>\n",
       "      <td>0.500000</td>\n",
       "      <td>2021-03-01</td>\n",
       "      <td>3</td>\n",
       "    </tr>\n",
       "    <tr>\n",
       "      <th>7018</th>\n",
       "      <td>735</td>\n",
       "      <td>4406.954812</td>\n",
       "      <td>0.500000</td>\n",
       "      <td>2021-04-13</td>\n",
       "      <td>4</td>\n",
       "    </tr>\n",
       "    <tr>\n",
       "      <th>7160</th>\n",
       "      <td>745</td>\n",
       "      <td>5286.167732</td>\n",
       "      <td>0.500000</td>\n",
       "      <td>2021-08-17</td>\n",
       "      <td>8</td>\n",
       "    </tr>\n",
       "    <tr>\n",
       "      <th>7364</th>\n",
       "      <td>760</td>\n",
       "      <td>4881.391865</td>\n",
       "      <td>0.500000</td>\n",
       "      <td>2021-08-29</td>\n",
       "      <td>8</td>\n",
       "    </tr>\n",
       "    <tr>\n",
       "      <th>7437</th>\n",
       "      <td>766</td>\n",
       "      <td>4539.088310</td>\n",
       "      <td>0.500000</td>\n",
       "      <td>2021-12-22</td>\n",
       "      <td>12</td>\n",
       "    </tr>\n",
       "    <tr>\n",
       "      <th>7453</th>\n",
       "      <td>768</td>\n",
       "      <td>273.136262</td>\n",
       "      <td>2.744917</td>\n",
       "      <td>2021-02-20</td>\n",
       "      <td>2</td>\n",
       "    </tr>\n",
       "    <tr>\n",
       "      <th>7508</th>\n",
       "      <td>772</td>\n",
       "      <td>4718.820996</td>\n",
       "      <td>0.500000</td>\n",
       "      <td>2021-05-22</td>\n",
       "      <td>5</td>\n",
       "    </tr>\n",
       "    <tr>\n",
       "      <th>7537</th>\n",
       "      <td>774</td>\n",
       "      <td>5488.141903</td>\n",
       "      <td>0.500000</td>\n",
       "      <td>2021-05-27</td>\n",
       "      <td>5</td>\n",
       "    </tr>\n",
       "    <tr>\n",
       "      <th>7612</th>\n",
       "      <td>780</td>\n",
       "      <td>6112.644835</td>\n",
       "      <td>0.500000</td>\n",
       "      <td>2021-11-23</td>\n",
       "      <td>11</td>\n",
       "    </tr>\n",
       "    <tr>\n",
       "      <th>7679</th>\n",
       "      <td>784</td>\n",
       "      <td>5202.815712</td>\n",
       "      <td>0.500000</td>\n",
       "      <td>2021-06-03</td>\n",
       "      <td>6</td>\n",
       "    </tr>\n",
       "    <tr>\n",
       "      <th>7791</th>\n",
       "      <td>792</td>\n",
       "      <td>5353.189287</td>\n",
       "      <td>0.500000</td>\n",
       "      <td>2021-11-06</td>\n",
       "      <td>11</td>\n",
       "    </tr>\n",
       "    <tr>\n",
       "      <th>7830</th>\n",
       "      <td>795</td>\n",
       "      <td>6262.302747</td>\n",
       "      <td>0.500000</td>\n",
       "      <td>2021-09-09</td>\n",
       "      <td>9</td>\n",
       "    </tr>\n",
       "    <tr>\n",
       "      <th>7883</th>\n",
       "      <td>800</td>\n",
       "      <td>5052.410425</td>\n",
       "      <td>0.500000</td>\n",
       "      <td>2021-07-19</td>\n",
       "      <td>7</td>\n",
       "    </tr>\n",
       "    <tr>\n",
       "      <th>7932</th>\n",
       "      <td>804</td>\n",
       "      <td>5547.830031</td>\n",
       "      <td>0.500000</td>\n",
       "      <td>2021-05-10</td>\n",
       "      <td>5</td>\n",
       "    </tr>\n",
       "    <tr>\n",
       "      <th>8329</th>\n",
       "      <td>836</td>\n",
       "      <td>4958.922077</td>\n",
       "      <td>0.500000</td>\n",
       "      <td>2021-01-12</td>\n",
       "      <td>1</td>\n",
       "    </tr>\n",
       "    <tr>\n",
       "      <th>8472</th>\n",
       "      <td>847</td>\n",
       "      <td>4770.172208</td>\n",
       "      <td>0.500000</td>\n",
       "      <td>2021-03-26</td>\n",
       "      <td>3</td>\n",
       "    </tr>\n",
       "    <tr>\n",
       "      <th>8676</th>\n",
       "      <td>863</td>\n",
       "      <td>466.343107</td>\n",
       "      <td>2.999307</td>\n",
       "      <td>2021-04-11</td>\n",
       "      <td>4</td>\n",
       "    </tr>\n",
       "    <tr>\n",
       "      <th>8906</th>\n",
       "      <td>880</td>\n",
       "      <td>11.283615</td>\n",
       "      <td>2.035632</td>\n",
       "      <td>2021-03-28</td>\n",
       "      <td>3</td>\n",
       "    </tr>\n",
       "    <tr>\n",
       "      <th>9049</th>\n",
       "      <td>890</td>\n",
       "      <td>4848.485014</td>\n",
       "      <td>0.500000</td>\n",
       "      <td>2021-11-20</td>\n",
       "      <td>11</td>\n",
       "    </tr>\n",
       "    <tr>\n",
       "      <th>9077</th>\n",
       "      <td>893</td>\n",
       "      <td>4762.120493</td>\n",
       "      <td>0.500000</td>\n",
       "      <td>2021-03-18</td>\n",
       "      <td>3</td>\n",
       "    </tr>\n",
       "    <tr>\n",
       "      <th>9135</th>\n",
       "      <td>896</td>\n",
       "      <td>5466.265687</td>\n",
       "      <td>0.500000</td>\n",
       "      <td>2021-10-13</td>\n",
       "      <td>10</td>\n",
       "    </tr>\n",
       "    <tr>\n",
       "      <th>9268</th>\n",
       "      <td>906</td>\n",
       "      <td>5258.160917</td>\n",
       "      <td>0.500000</td>\n",
       "      <td>2021-02-02</td>\n",
       "      <td>2</td>\n",
       "    </tr>\n",
       "  </tbody>\n",
       "</table>\n",
       "</div>"
      ],
      "text/plain": [
       "      user_id     distance  duration       date  month\n",
       "6531      701  4196.445201  0.500000 2021-08-31      8\n",
       "6570      704  4830.824371  0.500000 2021-10-14     10\n",
       "6680      712  4684.004397  0.500000 2021-03-04      3\n",
       "6691      712    23.963062  2.053251 2021-11-22     11\n",
       "6695      713  5215.642710  0.500000 2021-02-25      2\n",
       "6768      718  5197.436649  0.500000 2021-02-11      2\n",
       "6801      720   102.323624  2.292353 2021-09-20      9\n",
       "6860      724  6225.520342  0.500000 2021-12-16     12\n",
       "6883      726  4452.491518  0.500000 2021-03-01      3\n",
       "7018      735  4406.954812  0.500000 2021-04-13      4\n",
       "7160      745  5286.167732  0.500000 2021-08-17      8\n",
       "7364      760  4881.391865  0.500000 2021-08-29      8\n",
       "7437      766  4539.088310  0.500000 2021-12-22     12\n",
       "7453      768   273.136262  2.744917 2021-02-20      2\n",
       "7508      772  4718.820996  0.500000 2021-05-22      5\n",
       "7537      774  5488.141903  0.500000 2021-05-27      5\n",
       "7612      780  6112.644835  0.500000 2021-11-23     11\n",
       "7679      784  5202.815712  0.500000 2021-06-03      6\n",
       "7791      792  5353.189287  0.500000 2021-11-06     11\n",
       "7830      795  6262.302747  0.500000 2021-09-09      9\n",
       "7883      800  5052.410425  0.500000 2021-07-19      7\n",
       "7932      804  5547.830031  0.500000 2021-05-10      5\n",
       "8329      836  4958.922077  0.500000 2021-01-12      1\n",
       "8472      847  4770.172208  0.500000 2021-03-26      3\n",
       "8676      863   466.343107  2.999307 2021-04-11      4\n",
       "8906      880    11.283615  2.035632 2021-03-28      3\n",
       "9049      890  4848.485014  0.500000 2021-11-20     11\n",
       "9077      893  4762.120493  0.500000 2021-03-18      3\n",
       "9135      896  5466.265687  0.500000 2021-10-13     10\n",
       "9268      906  5258.160917  0.500000 2021-02-02      2"
      ]
     },
     "execution_count": 32,
     "metadata": {},
     "output_type": "execute_result"
    }
   ],
   "source": [
    "data_riders[data_riders['duration']<3].head(30)"
   ]
  },
  {
   "cell_type": "code",
   "execution_count": 33,
   "id": "237e4619",
   "metadata": {},
   "outputs": [
    {
     "data": {
      "text/plain": [
       "user_id     95\n",
       "distance    95\n",
       "duration    95\n",
       "date        95\n",
       "month       95\n",
       "dtype: int64"
      ]
     },
     "execution_count": 33,
     "metadata": {},
     "output_type": "execute_result"
    }
   ],
   "source": [
    "data_riders[data_riders['duration']<2].count()"
   ]
  },
  {
   "cell_type": "code",
   "execution_count": 34,
   "id": "c8da060a",
   "metadata": {
    "scrolled": true
   },
   "outputs": [
    {
     "data": {
      "image/png": "[encoded data removed]",
      "text/plain": [
       "<Figure size 432x288 with 1 Axes>"
      ]
     },
     "metadata": {
      "needs_background": "light"
     },
     "output_type": "display_data"
    }
   ],
   "source": [
    "data_riders.boxplot(column=['duration'])\n",
    "plt.title('Диаграмма размаха продолжительности заезда')\n",
    "plt.show()"
   ]
  },
  {
   "cell_type": "code",
   "execution_count": 35,
   "id": "9d170100",
   "metadata": {},
   "outputs": [
    {
     "name": "stdout",
     "output_type": "stream",
     "text": [
      "0.7084348018596414\n",
      "0.07748505645339827\n"
     ]
    }
   ],
   "source": [
    "print((data_riders['duration']<3).mean()*100)\n",
    "print((data_riders['duration']>36).mean()*100)"
   ]
  },
  {
   "cell_type": "code",
   "execution_count": 36,
   "id": "0d38a600",
   "metadata": {
    "scrolled": true
   },
   "outputs": [
    {
     "data": {
      "text/plain": [
       "median      17.678395\n",
       "mean        17.805011\n",
       "<lambda>     0.500000\n",
       "Name: duration, dtype: float64"
      ]
     },
     "execution_count": 36,
     "metadata": {},
     "output_type": "execute_result"
    }
   ],
   "source": [
    "data_riders['duration'].agg(['median', 'mean', lambda x: x.mode()[0]])"
   ]
  },
  {
   "cell_type": "code",
   "execution_count": 37,
   "id": "5f10dd3a",
   "metadata": {},
   "outputs": [],
   "source": [
    "data_riders = data_riders[(data_riders['duration'] >= 2)]"
   ]
  },
  {
   "cell_type": "code",
   "execution_count": 38,
   "id": "ef8e6059",
   "metadata": {
    "scrolled": true
   },
   "outputs": [
    {
     "data": {
      "image/png": "[encoded data removed]",
      "text/plain": [
       "<Figure size 432x288 with 1 Axes>"
      ]
     },
     "metadata": {
      "needs_background": "light"
     },
     "output_type": "display_data"
    }
   ],
   "source": [
    "data_riders['duration'].hist(bins=100)\n",
    "plt.title('Гистограмма продолжительность поездок')\n",
    "plt.xlabel('Продолжительность')\n",
    "plt.ylabel('Частота')\n",
    "plt.show()"
   ]
  },
  {
   "cell_type": "code",
   "execution_count": 39,
   "id": "72ab653a",
   "metadata": {
    "scrolled": true
   },
   "outputs": [
    {
     "data": {
      "text/plain": [
       "median      17.714122\n",
       "mean        17.896480\n",
       "<lambda>     2.035632\n",
       "Name: duration, dtype: float64"
      ]
     },
     "execution_count": 39,
     "metadata": {},
     "output_type": "execute_result"
    }
   ],
   "source": [
    "data_riders['duration'].agg(['median', 'mean', lambda x: x.mode()[0]])"
   ]
  },
  {
   "cell_type": "markdown",
   "id": "020d7613",
   "metadata": {},
   "source": [
    "### Промежуточный вывод:\n",
    "- Больше всего в выборке присутствуют `города` Пятигорска и меньше Москвы. \n",
    "- Количество с подпиской free 54% с ultra 45% в предложенной выборке\n",
    "- Средний `возраст` пользователей 25 лет\n",
    "- Среднее `расстояние за одну сессию` 3133 метров, а также есть локальный максимум в 549 метров\n",
    "- Избавились от выбросов в колонке `Продолжительность поездок`. 95 поездок было с продолжительностью 0.5 минут,\n",
    "    что возможно связано с какой-то ошибкой в получение данных. Средняя продолжительность поездки 18 минут "
   ]
  },
  {
   "cell_type": "markdown",
   "id": "4ef51331",
   "metadata": {},
   "source": [
    "## Шаг 4. Объединение данных"
   ]
  },
  {
   "cell_type": "code",
   "execution_count": 40,
   "id": "6bf288b5",
   "metadata": {},
   "outputs": [],
   "source": [
    "data_merge = data_users.merge(data_riders, on='user_id')\n",
    "data_merge = data_merge.merge(data_subs, on='subscription_type')"
   ]
  },
  {
   "cell_type": "code",
   "execution_count": 41,
   "id": "56d01843",
   "metadata": {},
   "outputs": [
    {
     "data": {
      "text/html": [
       "<div>\n",
       "<style scoped>\n",
       "    .dataframe tbody tr th:only-of-type {\n",
       "        vertical-align: middle;\n",
       "    }\n",
       "\n",
       "    .dataframe tbody tr th {\n",
       "        vertical-align: top;\n",
       "    }\n",
       "\n",
       "    .dataframe thead th {\n",
       "        text-align: right;\n",
       "    }\n",
       "</style>\n",
       "<table border=\"1\" class=\"dataframe\">\n",
       "  <thead>\n",
       "    <tr style=\"text-align: right;\">\n",
       "      <th></th>\n",
       "      <th>user_id</th>\n",
       "      <th>name</th>\n",
       "      <th>age</th>\n",
       "      <th>city</th>\n",
       "      <th>subscription_type</th>\n",
       "      <th>distance</th>\n",
       "      <th>duration</th>\n",
       "      <th>date</th>\n",
       "      <th>month</th>\n",
       "      <th>minute_price</th>\n",
       "      <th>start_ride_price</th>\n",
       "      <th>subscription_fee</th>\n",
       "    </tr>\n",
       "  </thead>\n",
       "  <tbody>\n",
       "    <tr>\n",
       "      <th>0</th>\n",
       "      <td>1</td>\n",
       "      <td>Кира</td>\n",
       "      <td>22</td>\n",
       "      <td>Тюмень</td>\n",
       "      <td>ultra</td>\n",
       "      <td>4409.919140</td>\n",
       "      <td>25.599769</td>\n",
       "      <td>2021-01-01</td>\n",
       "      <td>1</td>\n",
       "      <td>6</td>\n",
       "      <td>0</td>\n",
       "      <td>199</td>\n",
       "    </tr>\n",
       "    <tr>\n",
       "      <th>1</th>\n",
       "      <td>1</td>\n",
       "      <td>Кира</td>\n",
       "      <td>22</td>\n",
       "      <td>Тюмень</td>\n",
       "      <td>ultra</td>\n",
       "      <td>2617.592153</td>\n",
       "      <td>15.816871</td>\n",
       "      <td>2021-01-18</td>\n",
       "      <td>1</td>\n",
       "      <td>6</td>\n",
       "      <td>0</td>\n",
       "      <td>199</td>\n",
       "    </tr>\n",
       "    <tr>\n",
       "      <th>2</th>\n",
       "      <td>1</td>\n",
       "      <td>Кира</td>\n",
       "      <td>22</td>\n",
       "      <td>Тюмень</td>\n",
       "      <td>ultra</td>\n",
       "      <td>754.159807</td>\n",
       "      <td>6.232113</td>\n",
       "      <td>2021-04-20</td>\n",
       "      <td>4</td>\n",
       "      <td>6</td>\n",
       "      <td>0</td>\n",
       "      <td>199</td>\n",
       "    </tr>\n",
       "    <tr>\n",
       "      <th>3</th>\n",
       "      <td>1</td>\n",
       "      <td>Кира</td>\n",
       "      <td>22</td>\n",
       "      <td>Тюмень</td>\n",
       "      <td>ultra</td>\n",
       "      <td>2694.783254</td>\n",
       "      <td>18.511000</td>\n",
       "      <td>2021-08-11</td>\n",
       "      <td>8</td>\n",
       "      <td>6</td>\n",
       "      <td>0</td>\n",
       "      <td>199</td>\n",
       "    </tr>\n",
       "    <tr>\n",
       "      <th>4</th>\n",
       "      <td>1</td>\n",
       "      <td>Кира</td>\n",
       "      <td>22</td>\n",
       "      <td>Тюмень</td>\n",
       "      <td>ultra</td>\n",
       "      <td>4028.687306</td>\n",
       "      <td>26.265803</td>\n",
       "      <td>2021-08-28</td>\n",
       "      <td>8</td>\n",
       "      <td>6</td>\n",
       "      <td>0</td>\n",
       "      <td>199</td>\n",
       "    </tr>\n",
       "  </tbody>\n",
       "</table>\n",
       "</div>"
      ],
      "text/plain": [
       "   user_id  name  age    city subscription_type     distance   duration  \\\n",
       "0        1  Кира   22  Тюмень             ultra  4409.919140  25.599769   \n",
       "1        1  Кира   22  Тюмень             ultra  2617.592153  15.816871   \n",
       "2        1  Кира   22  Тюмень             ultra   754.159807   6.232113   \n",
       "3        1  Кира   22  Тюмень             ultra  2694.783254  18.511000   \n",
       "4        1  Кира   22  Тюмень             ultra  4028.687306  26.265803   \n",
       "\n",
       "        date  month  minute_price  start_ride_price  subscription_fee  \n",
       "0 2021-01-01      1             6                 0               199  \n",
       "1 2021-01-18      1             6                 0               199  \n",
       "2 2021-04-20      4             6                 0               199  \n",
       "3 2021-08-11      8             6                 0               199  \n",
       "4 2021-08-28      8             6                 0               199  "
      ]
     },
     "execution_count": 41,
     "metadata": {},
     "output_type": "execute_result"
    }
   ],
   "source": [
    "data_merge.head(5)"
   ]
  },
  {
   "cell_type": "code",
   "execution_count": 42,
   "id": "d7d6809e",
   "metadata": {
    "scrolled": true
   },
   "outputs": [
    {
     "name": "stdout",
     "output_type": "stream",
     "text": [
      "<class 'pandas.core.frame.DataFrame'>\n",
      "Int64Index: 17973 entries, 0 to 17972\n",
      "Data columns (total 12 columns):\n",
      " #   Column             Non-Null Count  Dtype         \n",
      "---  ------             --------------  -----         \n",
      " 0   user_id            17973 non-null  int64         \n",
      " 1   name               17973 non-null  object        \n",
      " 2   age                17973 non-null  int64         \n",
      " 3   city               17973 non-null  object        \n",
      " 4   subscription_type  17973 non-null  object        \n",
      " 5   distance           17973 non-null  float64       \n",
      " 6   duration           17973 non-null  float64       \n",
      " 7   date               17973 non-null  datetime64[ns]\n",
      " 8   month              17973 non-null  int64         \n",
      " 9   minute_price       17973 non-null  int64         \n",
      " 10  start_ride_price   17973 non-null  int64         \n",
      " 11  subscription_fee   17973 non-null  int64         \n",
      "dtypes: datetime64[ns](1), float64(2), int64(6), object(3)\n",
      "memory usage: 1.8+ MB\n",
      "\n",
      "user_id              0\n",
      "name                 0\n",
      "age                  0\n",
      "city                 0\n",
      "subscription_type    0\n",
      "distance             0\n",
      "duration             0\n",
      "date                 0\n",
      "month                0\n",
      "minute_price         0\n",
      "start_ride_price     0\n",
      "subscription_fee     0\n",
      "dtype: int64\n"
     ]
    }
   ],
   "source": [
    "data_merge.info()\n",
    "print()\n",
    "print(data_merge.isna().sum())"
   ]
  },
  {
   "cell_type": "code",
   "execution_count": 43,
   "id": "342e6139",
   "metadata": {},
   "outputs": [],
   "source": [
    "data_free_sub = data_merge.query('subscription_type == \"free\"')"
   ]
  },
  {
   "cell_type": "code",
   "execution_count": 44,
   "id": "90e2eca8",
   "metadata": {},
   "outputs": [],
   "source": [
    "data_ultra_sub = data_merge.query('subscription_type == \"ultra\"')"
   ]
  },
  {
   "cell_type": "code",
   "execution_count": 45,
   "id": "c39320a0",
   "metadata": {},
   "outputs": [
    {
     "data": {
      "text/plain": [
       "(11473, 12)"
      ]
     },
     "execution_count": 45,
     "metadata": {},
     "output_type": "execute_result"
    }
   ],
   "source": [
    "data_free_sub.shape"
   ]
  },
  {
   "cell_type": "code",
   "execution_count": 46,
   "id": "63cda65d",
   "metadata": {},
   "outputs": [
    {
     "data": {
      "text/plain": [
       "(6500, 12)"
      ]
     },
     "execution_count": 46,
     "metadata": {},
     "output_type": "execute_result"
    }
   ],
   "source": [
    "data_ultra_sub.shape"
   ]
  },
  {
   "cell_type": "code",
   "execution_count": 47,
   "id": "1fc4730b",
   "metadata": {},
   "outputs": [
    {
     "data": {
      "text/plain": [
       "4973"
      ]
     },
     "execution_count": 47,
     "metadata": {},
     "output_type": "execute_result"
    }
   ],
   "source": [
    "data_free_sub.shape[0] - data_ultra_sub.shape[0]"
   ]
  },
  {
   "cell_type": "code",
   "execution_count": 48,
   "id": "ccc8170d",
   "metadata": {},
   "outputs": [],
   "source": [
    "columns = ['distance','duration']"
   ]
  },
  {
   "cell_type": "code",
   "execution_count": 49,
   "id": "2c73605a",
   "metadata": {
    "scrolled": true
   },
   "outputs": [
    {
     "data": {
      "image/png": "[encoded data removed]",
      "text/plain": [
       "<Figure size 432x288 with 4 Axes>"
      ]
     },
     "metadata": {
      "needs_background": "light"
     },
     "output_type": "display_data"
    }
   ],
   "source": [
    "ax1 = data_free_sub[columns]\n",
    "pd.plotting.scatter_matrix(ax1)\n",
    "plt.suptitle('Матрица колонок distance, duration для free подписок')\n",
    "plt.show()"
   ]
  },
  {
   "cell_type": "code",
   "execution_count": 50,
   "id": "79ed8541",
   "metadata": {
    "scrolled": true
   },
   "outputs": [
    {
     "data": {
      "image/png": "[encoded data removed]",
      "text/plain": [
       "<Figure size 432x288 with 4 Axes>"
      ]
     },
     "metadata": {
      "needs_background": "light"
     },
     "output_type": "display_data"
    }
   ],
   "source": [
    "ax2 = data_ultra_sub[columns]\n",
    "pd.plotting.scatter_matrix(ax2)\n",
    "plt.suptitle('Матрица колонок distance, duration для ultra подписок')\n",
    "plt.show()"
   ]
  },
  {
   "cell_type": "code",
   "execution_count": 51,
   "id": "ff655946",
   "metadata": {
    "scrolled": true
   },
   "outputs": [
    {
     "data": {
      "image/png": "[encoded data removed]",
      "text/plain": [
       "<Figure size 432x288 with 1 Axes>"
      ]
     },
     "metadata": {
      "needs_background": "light"
     },
     "output_type": "display_data"
    }
   ],
   "source": [
    "# data_free_sub[columns].hist(label='Распределение 1')\n",
    "# data_ultra_sub[columns].hist(label='Распределение 2', color='red')\n",
    "plt.hist(data_free_sub['distance'],label='free')\n",
    "plt.hist(data_ultra_sub['distance'],label='ultra')\n",
    "plt.legend()\n",
    "plt.xlabel('Значения')\n",
    "plt.ylabel('Частота')\n",
    "plt.title('Наложенные графики распределений distance')\n",
    "plt.show()"
   ]
  },
  {
   "cell_type": "code",
   "execution_count": 52,
   "id": "2613cb90",
   "metadata": {},
   "outputs": [
    {
     "data": {
      "image/png": "[encoded data removed]",
      "text/plain": [
       "<Figure size 432x288 with 1 Axes>"
      ]
     },
     "metadata": {
      "needs_background": "light"
     },
     "output_type": "display_data"
    }
   ],
   "source": [
    "plt.hist(data_free_sub['duration'],label='free')\n",
    "plt.hist(data_ultra_sub['duration'],label='ultra')\n",
    "plt.legend()\n",
    "plt.xlabel('Значения')\n",
    "plt.ylabel('Частота')\n",
    "plt.title('Наложенные графики распределений duration')\n",
    "plt.show()"
   ]
  },
  {
   "cell_type": "code",
   "execution_count": 53,
   "id": "db3ed0f1",
   "metadata": {
    "scrolled": true
   },
   "outputs": [
    {
     "data": {
      "text/plain": [
       "3148.6372291760854"
      ]
     },
     "execution_count": 53,
     "metadata": {},
     "output_type": "execute_result"
    }
   ],
   "source": [
    "data_ultra_sub['distance'].median()"
   ]
  },
  {
   "cell_type": "markdown",
   "id": "dc89e024",
   "metadata": {},
   "source": [
    "### Промежуточный вывод:\n",
    "Объединили таблицы, построили гистограммы и график рассеяния для разных подписок.Визуализировали информацию о расстоянии и времени поездок. Количество пользователей с подпиской `ultra` в 2 раза меньше в данной выборке. Пользователи оформляют подписку чаще если ездят от 3км."
   ]
  },
  {
   "cell_type": "markdown",
   "id": "402d620f",
   "metadata": {},
   "source": [
    "## Шаг 5. Подсчёт выручки"
   ]
  },
  {
   "cell_type": "code",
   "execution_count": 54,
   "id": "c962eeed",
   "metadata": {
    "scrolled": true
   },
   "outputs": [
    {
     "data": {
      "text/html": [
       "<div>\n",
       "<style scoped>\n",
       "    .dataframe tbody tr th:only-of-type {\n",
       "        vertical-align: middle;\n",
       "    }\n",
       "\n",
       "    .dataframe tbody tr th {\n",
       "        vertical-align: top;\n",
       "    }\n",
       "\n",
       "    .dataframe thead th {\n",
       "        text-align: right;\n",
       "    }\n",
       "</style>\n",
       "<table border=\"1\" class=\"dataframe\">\n",
       "  <thead>\n",
       "    <tr style=\"text-align: right;\">\n",
       "      <th></th>\n",
       "      <th>user_id</th>\n",
       "      <th>month</th>\n",
       "      <th>distance</th>\n",
       "      <th>duration</th>\n",
       "      <th>subscription_type</th>\n",
       "      <th>counts</th>\n",
       "    </tr>\n",
       "  </thead>\n",
       "  <tbody>\n",
       "    <tr>\n",
       "      <th>0</th>\n",
       "      <td>1</td>\n",
       "      <td>1</td>\n",
       "      <td>7027.511294</td>\n",
       "      <td>42.0</td>\n",
       "      <td>ultra</td>\n",
       "      <td>2</td>\n",
       "    </tr>\n",
       "    <tr>\n",
       "      <th>1</th>\n",
       "      <td>1</td>\n",
       "      <td>4</td>\n",
       "      <td>754.159807</td>\n",
       "      <td>7.0</td>\n",
       "      <td>ultra</td>\n",
       "      <td>1</td>\n",
       "    </tr>\n",
       "    <tr>\n",
       "      <th>2</th>\n",
       "      <td>1</td>\n",
       "      <td>8</td>\n",
       "      <td>6723.470560</td>\n",
       "      <td>46.0</td>\n",
       "      <td>ultra</td>\n",
       "      <td>2</td>\n",
       "    </tr>\n",
       "    <tr>\n",
       "      <th>3</th>\n",
       "      <td>1</td>\n",
       "      <td>10</td>\n",
       "      <td>5809.911100</td>\n",
       "      <td>32.0</td>\n",
       "      <td>ultra</td>\n",
       "      <td>2</td>\n",
       "    </tr>\n",
       "    <tr>\n",
       "      <th>4</th>\n",
       "      <td>1</td>\n",
       "      <td>11</td>\n",
       "      <td>7003.499363</td>\n",
       "      <td>56.0</td>\n",
       "      <td>ultra</td>\n",
       "      <td>3</td>\n",
       "    </tr>\n",
       "    <tr>\n",
       "      <th>...</th>\n",
       "      <td>...</td>\n",
       "      <td>...</td>\n",
       "      <td>...</td>\n",
       "      <td>...</td>\n",
       "      <td>...</td>\n",
       "      <td>...</td>\n",
       "    </tr>\n",
       "    <tr>\n",
       "      <th>11295</th>\n",
       "      <td>1534</td>\n",
       "      <td>6</td>\n",
       "      <td>3409.468534</td>\n",
       "      <td>26.0</td>\n",
       "      <td>free</td>\n",
       "      <td>2</td>\n",
       "    </tr>\n",
       "    <tr>\n",
       "      <th>11296</th>\n",
       "      <td>1534</td>\n",
       "      <td>8</td>\n",
       "      <td>7622.453034</td>\n",
       "      <td>48.0</td>\n",
       "      <td>free</td>\n",
       "      <td>2</td>\n",
       "    </tr>\n",
       "    <tr>\n",
       "      <th>11297</th>\n",
       "      <td>1534</td>\n",
       "      <td>9</td>\n",
       "      <td>4928.173852</td>\n",
       "      <td>23.0</td>\n",
       "      <td>free</td>\n",
       "      <td>1</td>\n",
       "    </tr>\n",
       "    <tr>\n",
       "      <th>11298</th>\n",
       "      <td>1534</td>\n",
       "      <td>11</td>\n",
       "      <td>13350.015305</td>\n",
       "      <td>78.0</td>\n",
       "      <td>free</td>\n",
       "      <td>4</td>\n",
       "    </tr>\n",
       "    <tr>\n",
       "      <th>11299</th>\n",
       "      <td>1534</td>\n",
       "      <td>12</td>\n",
       "      <td>2371.711192</td>\n",
       "      <td>16.0</td>\n",
       "      <td>free</td>\n",
       "      <td>1</td>\n",
       "    </tr>\n",
       "  </tbody>\n",
       "</table>\n",
       "<p>11300 rows × 6 columns</p>\n",
       "</div>"
      ],
      "text/plain": [
       "       user_id  month      distance  duration subscription_type  counts\n",
       "0            1      1   7027.511294      42.0             ultra       2\n",
       "1            1      4    754.159807       7.0             ultra       1\n",
       "2            1      8   6723.470560      46.0             ultra       2\n",
       "3            1     10   5809.911100      32.0             ultra       2\n",
       "4            1     11   7003.499363      56.0             ultra       3\n",
       "...        ...    ...           ...       ...               ...     ...\n",
       "11295     1534      6   3409.468534      26.0              free       2\n",
       "11296     1534      8   7622.453034      48.0              free       2\n",
       "11297     1534      9   4928.173852      23.0              free       1\n",
       "11298     1534     11  13350.015305      78.0              free       4\n",
       "11299     1534     12   2371.711192      16.0              free       1\n",
       "\n",
       "[11300 rows x 6 columns]"
      ]
     },
     "execution_count": 54,
     "metadata": {},
     "output_type": "execute_result"
    }
   ],
   "source": [
    "data_merge['duration'] = np.ceil(data_merge['duration'])\n",
    "\n",
    "group_users = data_merge.groupby(['user_id','month']).agg({'distance':'sum','duration':'sum','subscription_type':'first','user_id':'count'})\n",
    "group_users = group_users.rename(columns={'user_id':'counts'})\n",
    "group_users=group_users.reset_index()\n",
    "group_users"
   ]
  },
  {
   "cell_type": "code",
   "execution_count": 55,
   "id": "6e4ace58",
   "metadata": {},
   "outputs": [
    {
     "data": {
      "text/html": [
       "<div>\n",
       "<style scoped>\n",
       "    .dataframe tbody tr th:only-of-type {\n",
       "        vertical-align: middle;\n",
       "    }\n",
       "\n",
       "    .dataframe tbody tr th {\n",
       "        vertical-align: top;\n",
       "    }\n",
       "\n",
       "    .dataframe thead th {\n",
       "        text-align: right;\n",
       "    }\n",
       "</style>\n",
       "<table border=\"1\" class=\"dataframe\">\n",
       "  <thead>\n",
       "    <tr style=\"text-align: right;\">\n",
       "      <th></th>\n",
       "      <th>subscription_type</th>\n",
       "      <th>minute_price</th>\n",
       "      <th>start_ride_price</th>\n",
       "      <th>subscription_fee</th>\n",
       "    </tr>\n",
       "  </thead>\n",
       "  <tbody>\n",
       "    <tr>\n",
       "      <th>0</th>\n",
       "      <td>free</td>\n",
       "      <td>8</td>\n",
       "      <td>50</td>\n",
       "      <td>0</td>\n",
       "    </tr>\n",
       "    <tr>\n",
       "      <th>1</th>\n",
       "      <td>ultra</td>\n",
       "      <td>6</td>\n",
       "      <td>0</td>\n",
       "      <td>199</td>\n",
       "    </tr>\n",
       "  </tbody>\n",
       "</table>\n",
       "</div>"
      ],
      "text/plain": [
       "  subscription_type  minute_price  start_ride_price  subscription_fee\n",
       "0              free             8                50                 0\n",
       "1             ultra             6                 0               199"
      ]
     },
     "execution_count": 55,
     "metadata": {},
     "output_type": "execute_result"
    }
   ],
   "source": [
    "data_subs"
   ]
  },
  {
   "cell_type": "code",
   "execution_count": 56,
   "id": "d264a50a",
   "metadata": {},
   "outputs": [],
   "source": [
    "def func_monthly_revenue(row):\n",
    "    try: \n",
    "        if row['subscription_type'] == 'ultra':\n",
    "            return data_subs['start_ride_price'].iloc[1]*row['counts']+row['duration']*data_subs['minute_price'].iloc[1]+data_subs['subscription_fee'].iloc[1]\n",
    "        elif row['subscription_type'] == 'free': \n",
    "            return data_subs['start_ride_price'].iloc[0]*row['counts']+row['duration']*data_subs['minute_price'].iloc[0]+data_subs['subscription_fee'].iloc[0]\n",
    "    except:\n",
    "        print('smt wrong')"
   ]
  },
  {
   "cell_type": "code",
   "execution_count": 57,
   "id": "fad446ab",
   "metadata": {},
   "outputs": [
    {
     "data": {
      "text/html": [
       "<div>\n",
       "<style scoped>\n",
       "    .dataframe tbody tr th:only-of-type {\n",
       "        vertical-align: middle;\n",
       "    }\n",
       "\n",
       "    .dataframe tbody tr th {\n",
       "        vertical-align: top;\n",
       "    }\n",
       "\n",
       "    .dataframe thead th {\n",
       "        text-align: right;\n",
       "    }\n",
       "</style>\n",
       "<table border=\"1\" class=\"dataframe\">\n",
       "  <thead>\n",
       "    <tr style=\"text-align: right;\">\n",
       "      <th></th>\n",
       "      <th>user_id</th>\n",
       "      <th>month</th>\n",
       "      <th>distance</th>\n",
       "      <th>duration</th>\n",
       "      <th>subscription_type</th>\n",
       "      <th>counts</th>\n",
       "      <th>monthly_revenue</th>\n",
       "    </tr>\n",
       "  </thead>\n",
       "  <tbody>\n",
       "    <tr>\n",
       "      <th>0</th>\n",
       "      <td>1</td>\n",
       "      <td>1</td>\n",
       "      <td>7027.511294</td>\n",
       "      <td>42.0</td>\n",
       "      <td>ultra</td>\n",
       "      <td>2</td>\n",
       "      <td>451.0</td>\n",
       "    </tr>\n",
       "    <tr>\n",
       "      <th>1</th>\n",
       "      <td>1</td>\n",
       "      <td>4</td>\n",
       "      <td>754.159807</td>\n",
       "      <td>7.0</td>\n",
       "      <td>ultra</td>\n",
       "      <td>1</td>\n",
       "      <td>241.0</td>\n",
       "    </tr>\n",
       "    <tr>\n",
       "      <th>2</th>\n",
       "      <td>1</td>\n",
       "      <td>8</td>\n",
       "      <td>6723.470560</td>\n",
       "      <td>46.0</td>\n",
       "      <td>ultra</td>\n",
       "      <td>2</td>\n",
       "      <td>475.0</td>\n",
       "    </tr>\n",
       "    <tr>\n",
       "      <th>3</th>\n",
       "      <td>1</td>\n",
       "      <td>10</td>\n",
       "      <td>5809.911100</td>\n",
       "      <td>32.0</td>\n",
       "      <td>ultra</td>\n",
       "      <td>2</td>\n",
       "      <td>391.0</td>\n",
       "    </tr>\n",
       "    <tr>\n",
       "      <th>4</th>\n",
       "      <td>1</td>\n",
       "      <td>11</td>\n",
       "      <td>7003.499363</td>\n",
       "      <td>56.0</td>\n",
       "      <td>ultra</td>\n",
       "      <td>3</td>\n",
       "      <td>535.0</td>\n",
       "    </tr>\n",
       "    <tr>\n",
       "      <th>...</th>\n",
       "      <td>...</td>\n",
       "      <td>...</td>\n",
       "      <td>...</td>\n",
       "      <td>...</td>\n",
       "      <td>...</td>\n",
       "      <td>...</td>\n",
       "      <td>...</td>\n",
       "    </tr>\n",
       "    <tr>\n",
       "      <th>11295</th>\n",
       "      <td>1534</td>\n",
       "      <td>6</td>\n",
       "      <td>3409.468534</td>\n",
       "      <td>26.0</td>\n",
       "      <td>free</td>\n",
       "      <td>2</td>\n",
       "      <td>308.0</td>\n",
       "    </tr>\n",
       "    <tr>\n",
       "      <th>11296</th>\n",
       "      <td>1534</td>\n",
       "      <td>8</td>\n",
       "      <td>7622.453034</td>\n",
       "      <td>48.0</td>\n",
       "      <td>free</td>\n",
       "      <td>2</td>\n",
       "      <td>484.0</td>\n",
       "    </tr>\n",
       "    <tr>\n",
       "      <th>11297</th>\n",
       "      <td>1534</td>\n",
       "      <td>9</td>\n",
       "      <td>4928.173852</td>\n",
       "      <td>23.0</td>\n",
       "      <td>free</td>\n",
       "      <td>1</td>\n",
       "      <td>234.0</td>\n",
       "    </tr>\n",
       "    <tr>\n",
       "      <th>11298</th>\n",
       "      <td>1534</td>\n",
       "      <td>11</td>\n",
       "      <td>13350.015305</td>\n",
       "      <td>78.0</td>\n",
       "      <td>free</td>\n",
       "      <td>4</td>\n",
       "      <td>824.0</td>\n",
       "    </tr>\n",
       "    <tr>\n",
       "      <th>11299</th>\n",
       "      <td>1534</td>\n",
       "      <td>12</td>\n",
       "      <td>2371.711192</td>\n",
       "      <td>16.0</td>\n",
       "      <td>free</td>\n",
       "      <td>1</td>\n",
       "      <td>178.0</td>\n",
       "    </tr>\n",
       "  </tbody>\n",
       "</table>\n",
       "<p>11300 rows × 7 columns</p>\n",
       "</div>"
      ],
      "text/plain": [
       "       user_id  month      distance  duration subscription_type  counts  \\\n",
       "0            1      1   7027.511294      42.0             ultra       2   \n",
       "1            1      4    754.159807       7.0             ultra       1   \n",
       "2            1      8   6723.470560      46.0             ultra       2   \n",
       "3            1     10   5809.911100      32.0             ultra       2   \n",
       "4            1     11   7003.499363      56.0             ultra       3   \n",
       "...        ...    ...           ...       ...               ...     ...   \n",
       "11295     1534      6   3409.468534      26.0              free       2   \n",
       "11296     1534      8   7622.453034      48.0              free       2   \n",
       "11297     1534      9   4928.173852      23.0              free       1   \n",
       "11298     1534     11  13350.015305      78.0              free       4   \n",
       "11299     1534     12   2371.711192      16.0              free       1   \n",
       "\n",
       "       monthly_revenue  \n",
       "0                451.0  \n",
       "1                241.0  \n",
       "2                475.0  \n",
       "3                391.0  \n",
       "4                535.0  \n",
       "...                ...  \n",
       "11295            308.0  \n",
       "11296            484.0  \n",
       "11297            234.0  \n",
       "11298            824.0  \n",
       "11299            178.0  \n",
       "\n",
       "[11300 rows x 7 columns]"
      ]
     },
     "execution_count": 57,
     "metadata": {},
     "output_type": "execute_result"
    }
   ],
   "source": [
    "group_users['monthly_revenue'] = group_users.apply(func_monthly_revenue,axis=1)\n",
    "group_users"
   ]
  },
  {
   "cell_type": "markdown",
   "id": "6ff0efd1",
   "metadata": {},
   "source": [
    "### Вывод:\n",
    "Создали агрегированную таблицу для каждого пользователя по каждому месяцу. Подсчитали помесячную выручку."
   ]
  },
  {
   "cell_type": "markdown",
   "id": "41545ac0",
   "metadata": {},
   "source": [
    "## Шаг 6. Проверка гипотез"
   ]
  },
  {
   "cell_type": "markdown",
   "id": "5a22cd8b",
   "metadata": {},
   "source": [
    "### Гипотеза о продолжительности времени пользователей"
   ]
  },
  {
   "cell_type": "markdown",
   "id": "511052b0",
   "metadata": {},
   "source": [
    "**Гипотеза H0**: Среднее время, которое проводят подписчики и пользователи без подписки, одинаково. То есть, нет разницы в продолжительности поездок.\n",
    "\n",
    "**Альтернативная гипотеза H1** Среднее время, которое тратят подписчики больше, чем среднее время без подписки"
   ]
  },
  {
   "cell_type": "code",
   "execution_count": 58,
   "id": "a0b2011d",
   "metadata": {
    "scrolled": true
   },
   "outputs": [
    {
     "name": "stdout",
     "output_type": "stream",
     "text": [
      "p-value: 8.577910347796266e-28\n",
      "Отвергаем нулевую гипотезу\n"
     ]
    }
   ],
   "source": [
    "alpha = 0.05\n",
    "\n",
    "subs_duration_on = data_merge[data_merge['subscription_type'] == 'ultra']['duration']\n",
    "subs_duration_off = data_merge[data_merge['subscription_type'] == 'free']['duration']\n",
    "\n",
    "results = st.ttest_ind(subs_duration_on,subs_duration_off,alternative='greater')\n",
    "\n",
    "print(f'p-value: {results.pvalue}')\n",
    "\n",
    "if results.pvalue < alpha:\n",
    "    print('Отвергаем нулевую гипотезу')\n",
    "else:\n",
    "    print('Нет оснований отвергнуть нулевую гипотезу')"
   ]
  },
  {
   "cell_type": "markdown",
   "id": "56227da2",
   "metadata": {},
   "source": [
    "Вывод: Полученное значение p-value, значимо меньше заданного. Есть основания предпологать, что пользователи с подпиской тратят больше времени на поезду"
   ]
  },
  {
   "cell_type": "markdown",
   "id": "ec3297a2",
   "metadata": {},
   "source": [
    "### Cреднее расстояние, которое проезжают пользователи с подпиской"
   ]
  },
  {
   "cell_type": "markdown",
   "id": "917f3a64",
   "metadata": {},
   "source": [
    "**Гипотеза H0**: Cреднее расстояние, которое проезжают пользователи с подпиской за одну поездку, равно 3130 метров\n",
    "\n",
    "**Альтернативная гипотеза H1:** Cреднее расстояние, которое проезжают пользователи с подпиской за одну поездку, превышеют оптимальное значение 3130 метров"
   ]
  },
  {
   "cell_type": "code",
   "execution_count": 59,
   "id": "d8d6862e",
   "metadata": {
    "scrolled": true
   },
   "outputs": [
    {
     "name": "stdout",
     "output_type": "stream",
     "text": [
      "p-value: 0.9195368847849785\n",
      "Нет оснований отвергнуть нулевую гипотезу\n"
     ]
    }
   ],
   "source": [
    "subs_distance = data_merge[data_merge['subscription_type'] == 'ultra']['distance']\n",
    "\n",
    "alpha=0.05\n",
    "value=3130\n",
    "\n",
    "results_2 = st.ttest_1samp(subs_distance,value, alternative = 'greater')\n",
    "\n",
    "print(f'p-value: {results_2.pvalue}')\n",
    "\n",
    "if results_2.pvalue < alpha:\n",
    "    print('Отвергаем нулевую гипотезу')\n",
    "else:\n",
    "    print('Нет оснований отвергнуть нулевую гипотезу')"
   ]
  },
  {
   "cell_type": "markdown",
   "id": "1642d31f",
   "metadata": {},
   "source": [
    "Вывод: p-value 91%, среднее расстояние значимо близко к 3130 метрам. Подписчики в среднем **не проезжают больше** оптимального значения."
   ]
  },
  {
   "cell_type": "markdown",
   "id": "0d5ccd81",
   "metadata": {},
   "source": [
    "### Помесячная выручка от пользователей с подпиской"
   ]
  },
  {
   "cell_type": "markdown",
   "id": "894622dc",
   "metadata": {},
   "source": [
    "**Гипотеза H0:** Помесячная выручка от пользователей с подпиской равна выручке от пользователей без подписки.\n",
    "\n",
    "**Альтернативная гипотеза H1:** Помесячная выручка от пользователей с подпиской по месяцам выше, чем выручка от пользователей без подписки. "
   ]
  },
  {
   "cell_type": "code",
   "execution_count": 60,
   "id": "b77ff818",
   "metadata": {},
   "outputs": [
    {
     "name": "stdout",
     "output_type": "stream",
     "text": [
      "p-value: 2.0314113674863288e-30\n",
      "Отвергаем нулевую гипотезу\n"
     ]
    }
   ],
   "source": [
    "alpha = 0.05\n",
    "\n",
    "subs_monthly_revenue_on = group_users[group_users['subscription_type'] == 'ultra']['monthly_revenue']\n",
    "subs_monthly_revenue_off = group_users[group_users['subscription_type'] == 'free']['monthly_revenue']\n",
    "\n",
    "results_3 = st.ttest_ind(subs_monthly_revenue_on,subs_monthly_revenue_off,alternative='greater')\n",
    "\n",
    "print(f'p-value: {results_3.pvalue}')\n",
    "\n",
    "if results_3.pvalue < alpha:\n",
    "    print('Отвергаем нулевую гипотезу')\n",
    "else:\n",
    "    print('Нет оснований отвергнуть нулевую гипотезу')"
   ]
  },
  {
   "cell_type": "markdown",
   "id": "3bbe82ab",
   "metadata": {},
   "source": [
    "Вывод: Отвергаем нулевую гипотезу: выручка от пользователей с подпиской значимо больше"
   ]
  },
  {
   "cell_type": "markdown",
   "id": "690c99b9",
   "metadata": {},
   "source": [
    "### Задание о изменение количества обращений в техподдержку"
   ]
  },
  {
   "cell_type": "markdown",
   "id": "0daf3da1",
   "metadata": {},
   "source": [
    "Техническая команда сервиса обновила сервера, с которыми взаимодействует мобильное приложение. Она надеется, что из-за этого количество обращений в техподдержку значимо снизилось. Некоторый файл содержит для каждого пользователя данные о количестве обращений до обновления и после него.\n",
    "\n",
    "Так как у нас два **зависимых датасета** до и после изменений, нам понадобится тест  о равенстве средних двух зависимых выборок\n",
    "scipy.stats.ttest_rel()"
   ]
  },
  {
   "cell_type": "markdown",
   "id": "f304126e",
   "metadata": {},
   "source": [
    "### Промежуточный вывод\n",
    "- Гипотеза: Среднее время, которое тратят подписчики больше, чем среднее время без подписки **не потвердилась**. Полученное значение p-value, значимо меньше заданного. Есть основания предпологать, что пользователи с подпиской тратят больше времени на поезду\n",
    "- Cреднее расстояние, которое проезжают пользователи с подпиской за одну поездку, равно 3130 метров. Оснований отвергать гипотезу нет. p-value = 16%\n",
    "- Гипотеза: Помесячная выручка от пользователей с подпиской равна выручке от пользователей без подписки **не потвердилась**.  Выручка от пользователей с подпиской значимо больше"
   ]
  },
  {
   "cell_type": "markdown",
   "id": "61213c5e",
   "metadata": {},
   "source": [
    "## Шаг 7. Распределения"
   ]
  },
  {
   "cell_type": "markdown",
   "id": "1aeb31c5",
   "metadata": {},
   "source": [
    "### Акции с бесплатной раздачей промокодов\n",
    "Выясните, какое минимальное количество промокодов нужно разослать, чтобы вероятность не выполнить план была примерно 5 % Минимум 100 существующих клиентов должны продлить эту подписку\n",
    "\n",
    "Выбранную задачу можно описать биноминальным распределением\n",
    "- фиксированное число попыток(пользователей)\n",
    "- два исхода(продлил/не продлил)\n",
    "- события независимы между собой\n",
    "- вероятность успеха одинаково\n",
    "\n",
    "Далее апроксимируем биноминальное распределение нормальным распределением для нахождения минимального количества промокодов, чтобы не выполнить план равнялась 5%"
   ]
  },
  {
   "cell_type": "code",
   "execution_count": 61,
   "id": "c49e19e7",
   "metadata": {},
   "outputs": [
    {
     "name": "stdout",
     "output_type": "stream",
     "text": [
      "Минимальное количество промокодов = 1172\n",
      "Вероятность не продлить подписку = 0.04954795210203071\n"
     ]
    }
   ],
   "source": [
    "p = 0.1\n",
    "k= 100 # так как binom.cdf() находит значения от P(X<=100),а нам необходимо мин 100\n",
    "    \n",
    "for i in range(500,2000):\n",
    "    res = binom.cdf(k,i,p)\n",
    "    if res <= 0.05:\n",
    "        print(f'Минимальное количество промокодов = {i}')\n",
    "        print(f'Вероятность не продлить подписку = {res}')\n",
    "        break"
   ]
  },
  {
   "cell_type": "code",
   "execution_count": 62,
   "id": "932cd70a",
   "metadata": {
    "scrolled": true
   },
   "outputs": [
    {
     "data": {
      "image/png": "[encoded data removed]",
      "text/plain": [
       "<Figure size 432x288 with 1 Axes>"
      ]
     },
     "metadata": {
      "needs_background": "light"
     },
     "output_type": "display_data"
    }
   ],
   "source": [
    "p = 0.1\n",
    "\n",
    "distr = []\n",
    "\n",
    "for i in range(500,2000):\n",
    "    current_value =1 -binom.cdf(100, i, p) \n",
    "    distr.append(current_value)\n",
    "    \n",
    "plt.bar(range(500, 2000), distr)\n",
    "plt.title('Распределение, что 100 клиентов продлят подписку')\n",
    "plt.xlabel('Количества промокодов')\n",
    "plt.ylabel('Вероятность')\n",
    "plt.show()"
   ]
  },
  {
   "cell_type": "markdown",
   "id": "65064e0a",
   "metadata": {},
   "source": [
    "Вывод: - Минимальное количество промокодов на один бесплатный месяц подписки при котором, вероятно, не выполнится план в 5%,то что минимум 100 пользователь не продлит следущую подписку равен **1172** клиентам"
   ]
  },
  {
   "cell_type": "markdown",
   "id": "f9c23c49",
   "metadata": {},
   "source": [
    "### Количество открывших push-уведомления"
   ]
  },
  {
   "cell_type": "markdown",
   "id": "7547d459",
   "metadata": {},
   "source": [
    "Выбранную задачу можно описать биноминальным распределением\n",
    "\n",
    "- фиксированное число попыток\n",
    "- два исхода(открыл/не открыл)\n",
    "- события независимы между собой\n",
    "- вероятность успеха одинаково\n",
    "\n",
    "Постройть примерный график распределения и оцените вероятность того, что уведомление откроют не более 399,5 тыс. пользователей."
   ]
  },
  {
   "cell_type": "code",
   "execution_count": null,
   "id": "53c1f507-0a40-4139-ac8f-7731e3376901",
   "metadata": {
    "scrolled": true
   },
   "outputs": [],
   "source": [
    "p = 0.4\n",
    "n = 1000000\n",
    "u = n*p\n",
    "sigma = sqrt(n*p*(1 - p))\n",
    "if (u - (3 * sigma) >= 0) and ((u + (3 * sigma) <= n)):\n",
    "    print('Условие выполняется')\n",
    "else:\n",
    "    print('Условие не выполняется')"
   ]
  },
  {
   "cell_type": "code",
   "execution_count": null,
   "id": "bd341403",
   "metadata": {
    "scrolled": true
   },
   "outputs": [],
   "source": [
    "distr = st.norm(u,sigma)\n",
    "\n",
    "x = np.linspace(int(n * p - 4 * sqrt(n * p * (1 - p))),  int(n * p + 4 * sqrt(n * p * (1 - p))),10000)\n",
    "y = norm.pdf(x,u,sigma)\n",
    "\n",
    "plt.plot(x,y,'b-',lw=3)\n",
    "plt.title('Апроксимация биноминального распределения')\n",
    "plt.show()"
   ]
  },
  {
   "cell_type": "code",
   "execution_count": null,
   "id": "97dae44e",
   "metadata": {
    "scrolled": true
   },
   "outputs": [],
   "source": [
    "distr.cdf(399500)"
   ]
  },
  {
   "cell_type": "markdown",
   "id": "1043d977",
   "metadata": {},
   "source": [
    "Вывод: Вероятность, что уведомление откроют не более 399500 человек из 1миллиона разосланных, равна **15%**"
   ]
  },
  {
   "cell_type": "markdown",
   "id": "ec1e95f8",
   "metadata": {},
   "source": [
    "## Вывод"
   ]
  },
  {
   "cell_type": "markdown",
   "id": "05c71f21",
   "metadata": {},
   "source": [
    "### Предобработка данных\n",
    "- Данные хорошо подготовлены, отсутствуют какие либо пропуски\n",
    "- Убрали явные дубликаты \n",
    "- Добавили колонку месяц"
   ]
  },
  {
   "cell_type": "markdown",
   "id": "b8c74776",
   "metadata": {},
   "source": [
    "### Исследовательнский анализ данных\n",
    "- Больше в выборке встречается город Пятигорск, меньше Москва\n",
    "- Количество с подпиской free 54% с ultra 45% в предложенной выборке\n",
    "- Средний возраст пользователей 25 лет\n",
    "- Больше всего в выборке присутствуют города Пятигорска и меньше Москвы.\n",
    "- Среднее расстояние за одну сессию 3133 метров, а также есть локальный максимум в 549 метров\n",
    "- Избавились от выбросов в колонке `Продолжительность поездок`. 95 поездок было с продолжительностью 0.5 минут, что возможно связано с какой-то ошибкой в получение данных. Средняя продолжительность поездки 18 минут"
   ]
  },
  {
   "cell_type": "markdown",
   "id": "b7562b35",
   "metadata": {},
   "source": [
    "### Создание сводной таблицы\n",
    "\n",
    "- Объединили таблицы, построили гистограммы и график рассеяния для разных подписок.\n",
    "- Визуализировали информацию о расстоянии и времени поездок. \n",
    "- Количество пользователей с подпиской ultra в 2 раза меньше в данной выборке. \n",
    "- Пользователи оформляют подписку чаще если ездят от 3км в данной выборке"
   ]
  },
  {
   "cell_type": "markdown",
   "id": "7e4793bb",
   "metadata": {},
   "source": [
    "### Подсчет выручки\n",
    "- Создали агрегированную таблицу для каждого пользователя по каждому месяцу. \n",
    "- Подсчитали помесячную выручку."
   ]
  },
  {
   "cell_type": "markdown",
   "id": "6e310efd",
   "metadata": {},
   "source": [
    "### Проверка гипотез\n",
    "- Гипотеза: Среднее время, которое тратят подписчики больше, чем среднее время без подписки **не потвердилась.** Полученное значение p-value, значимо меньше заданного. Есть основания предпологать, что пользователи с подпиской **тратят больше времени на поезду**\n",
    "- p-value 91%, среднее расстояние значимо близко к 3130 метрам. Подписчики в среднем не проезжают больше оптимального значения\n",
    "- Гипотеза: Помесячная выручка от пользователей с подпиской равна выручке от пользователей без подписки **не потвердилась**. Выручка от пользователей с подпиской **значимо больше**."
   ]
  },
  {
   "cell_type": "markdown",
   "id": "7a0f4ae9",
   "metadata": {},
   "source": [
    "### Распределения \n",
    "1. Минимальное количество промокодов на один бесплатный месяц подписки при котором, вероятно, не выполнится план в 5%,то что минимум 100 пользователь не продлит следущую подписку равен 1172 клиентам\n",
    "\n",
    "2. Для задачи про push-уведомления создана апроксимация биноминольного распределния нормальным и оценена вероятность. Вероятность, что уведомление откроют не более 399500 человек из 1миллиона разосланных push, равна **15%**"
   ]
  },
  {
   "cell_type": "markdown",
   "id": "c38402fe",
   "metadata": {},
   "source": [
    "### Общий вывод\n",
    "Было проведено исследование поездок по городам сервиса GoFast\n",
    "выполнена предобработку, подсчитана выручка и проверить несколько гипотез по эффективности подписок и будущих акций компании для увеличения прибыли, среднее расстояние поездок пользователей, различие между клиентами с подпиской и без и оценка их прибыльности "
   ]
  }
 ],
 "metadata": {
  "ExecuteTimeLog": [
   {
    "duration": 3,
    "start_time": "2024-12-02T07:27:24.891Z"
   },
   {
    "duration": 2,
    "start_time": "2024-12-02T07:27:27.192Z"
   },
   {
    "duration": 376,
    "start_time": "2024-12-02T07:27:34.707Z"
   },
   {
    "duration": 815,
    "start_time": "2024-12-02T07:29:55.970Z"
   },
   {
    "duration": 276,
    "start_time": "2024-12-02T07:32:16.589Z"
   },
   {
    "duration": 61,
    "start_time": "2024-12-02T07:33:06.520Z"
   },
   {
    "duration": 3,
    "start_time": "2024-12-02T07:33:31.226Z"
   },
   {
    "duration": 9,
    "start_time": "2024-12-02T07:33:40.996Z"
   },
   {
    "duration": 9,
    "start_time": "2024-12-02T07:33:53.215Z"
   },
   {
    "duration": 8,
    "start_time": "2024-12-02T07:34:06.469Z"
   },
   {
    "duration": 15,
    "start_time": "2024-12-02T07:34:45.263Z"
   },
   {
    "duration": 26,
    "start_time": "2024-12-02T07:34:56.090Z"
   },
   {
    "duration": 19,
    "start_time": "2024-12-02T07:38:23.774Z"
   },
   {
    "duration": 644,
    "start_time": "2024-12-02T07:39:11.785Z"
   },
   {
    "duration": 680,
    "start_time": "2024-12-02T07:39:23.700Z"
   },
   {
    "duration": 618,
    "start_time": "2024-12-02T07:39:34.286Z"
   },
   {
    "duration": 8,
    "start_time": "2024-12-02T07:45:54.632Z"
   },
   {
    "duration": 1141,
    "start_time": "2024-12-02T07:51:05.564Z"
   },
   {
    "duration": 7,
    "start_time": "2024-12-02T07:51:49.190Z"
   },
   {
    "duration": 9,
    "start_time": "2024-12-02T07:51:59.982Z"
   },
   {
    "duration": 5,
    "start_time": "2024-12-02T07:52:16.209Z"
   },
   {
    "duration": 4,
    "start_time": "2024-12-02T07:53:12.511Z"
   },
   {
    "duration": 4,
    "start_time": "2024-12-02T07:55:03.188Z"
   },
   {
    "duration": 8,
    "start_time": "2024-12-02T07:55:17.690Z"
   },
   {
    "duration": 14,
    "start_time": "2024-12-02T07:58:36.509Z"
   },
   {
    "duration": 10,
    "start_time": "2024-12-02T07:58:41.240Z"
   },
   {
    "duration": 9,
    "start_time": "2024-12-02T07:58:50.333Z"
   },
   {
    "duration": 7,
    "start_time": "2024-12-02T07:59:18.928Z"
   },
   {
    "duration": 17,
    "start_time": "2024-12-02T07:59:25.377Z"
   },
   {
    "duration": 14,
    "start_time": "2024-12-02T07:59:37.372Z"
   },
   {
    "duration": 9,
    "start_time": "2024-12-02T08:00:15.925Z"
   },
   {
    "duration": 4,
    "start_time": "2024-12-02T08:01:01.278Z"
   },
   {
    "duration": 5,
    "start_time": "2024-12-02T08:01:10.026Z"
   },
   {
    "duration": 11,
    "start_time": "2024-12-02T08:04:22.380Z"
   },
   {
    "duration": 11,
    "start_time": "2024-12-02T08:04:32.920Z"
   },
   {
    "duration": 4,
    "start_time": "2024-12-02T08:05:36.124Z"
   },
   {
    "duration": 86,
    "start_time": "2024-12-02T08:06:31.685Z"
   },
   {
    "duration": 4,
    "start_time": "2024-12-02T08:07:02.655Z"
   },
   {
    "duration": 104,
    "start_time": "2024-12-02T08:23:25.472Z"
   },
   {
    "duration": 382,
    "start_time": "2024-12-02T08:27:58.798Z"
   },
   {
    "duration": 136,
    "start_time": "2024-12-02T08:28:15.853Z"
   },
   {
    "duration": 15,
    "start_time": "2024-12-02T08:29:31.680Z"
   },
   {
    "duration": 15,
    "start_time": "2024-12-02T08:30:11.723Z"
   },
   {
    "duration": 15,
    "start_time": "2024-12-02T08:31:03.770Z"
   },
   {
    "duration": 15,
    "start_time": "2024-12-02T08:31:49.196Z"
   },
   {
    "duration": 55,
    "start_time": "2024-12-02T08:31:55.948Z"
   },
   {
    "duration": 56,
    "start_time": "2024-12-02T08:32:06.640Z"
   },
   {
    "duration": 15,
    "start_time": "2024-12-02T08:32:24.067Z"
   },
   {
    "duration": 15,
    "start_time": "2024-12-02T08:32:46.411Z"
   },
   {
    "duration": 56,
    "start_time": "2024-12-02T08:33:08.618Z"
   },
   {
    "duration": 56,
    "start_time": "2024-12-02T08:33:40.738Z"
   },
   {
    "duration": 55,
    "start_time": "2024-12-02T08:33:46.823Z"
   },
   {
    "duration": 55,
    "start_time": "2024-12-02T08:33:51.807Z"
   },
   {
    "duration": 100,
    "start_time": "2024-12-02T08:36:24.287Z"
   },
   {
    "duration": 57,
    "start_time": "2024-12-02T08:36:33.208Z"
   },
   {
    "duration": 126,
    "start_time": "2024-12-02T08:37:04.333Z"
   },
   {
    "duration": 60,
    "start_time": "2024-12-02T08:37:14.984Z"
   },
   {
    "duration": 108,
    "start_time": "2024-12-02T08:39:38.418Z"
   },
   {
    "duration": 115,
    "start_time": "2024-12-02T08:39:45.634Z"
   },
   {
    "duration": 130,
    "start_time": "2024-12-02T08:39:59.937Z"
   },
   {
    "duration": 116,
    "start_time": "2024-12-02T08:40:13.875Z"
   },
   {
    "duration": 91,
    "start_time": "2024-12-02T08:40:36.426Z"
   },
   {
    "duration": 124,
    "start_time": "2024-12-02T08:40:43.703Z"
   },
   {
    "duration": 69,
    "start_time": "2024-12-02T08:40:58.204Z"
   },
   {
    "duration": 6,
    "start_time": "2024-12-02T08:44:39.740Z"
   },
   {
    "duration": 7,
    "start_time": "2024-12-02T08:44:50.710Z"
   },
   {
    "duration": 8,
    "start_time": "2024-12-02T08:45:22.332Z"
   },
   {
    "duration": 104,
    "start_time": "2024-12-02T08:45:27.292Z"
   },
   {
    "duration": 107,
    "start_time": "2024-12-02T08:45:57.997Z"
   },
   {
    "duration": 187,
    "start_time": "2024-12-02T08:46:15.789Z"
   },
   {
    "duration": 119,
    "start_time": "2024-12-02T08:48:00.017Z"
   },
   {
    "duration": 115,
    "start_time": "2024-12-02T08:48:10.494Z"
   },
   {
    "duration": 8,
    "start_time": "2024-12-02T08:48:25.678Z"
   },
   {
    "duration": 7,
    "start_time": "2024-12-02T08:48:33.479Z"
   },
   {
    "duration": 88,
    "start_time": "2024-12-02T08:49:30.657Z"
   },
   {
    "duration": 79,
    "start_time": "2024-12-02T08:49:37.295Z"
   },
   {
    "duration": 176,
    "start_time": "2024-12-02T08:50:06.287Z"
   },
   {
    "duration": 175,
    "start_time": "2024-12-02T08:50:15.962Z"
   },
   {
    "duration": 158,
    "start_time": "2024-12-02T08:50:20.046Z"
   },
   {
    "duration": 82,
    "start_time": "2024-12-02T08:51:32.534Z"
   },
   {
    "duration": 5,
    "start_time": "2024-12-02T08:52:26.733Z"
   },
   {
    "duration": 4,
    "start_time": "2024-12-02T08:53:01.857Z"
   },
   {
    "duration": 4,
    "start_time": "2024-12-02T08:53:11.485Z"
   },
   {
    "duration": 4,
    "start_time": "2024-12-02T08:53:18.761Z"
   },
   {
    "duration": 4,
    "start_time": "2024-12-02T08:53:23.257Z"
   },
   {
    "duration": 4,
    "start_time": "2024-12-02T08:53:34.803Z"
   },
   {
    "duration": 4,
    "start_time": "2024-12-02T08:53:44.947Z"
   },
   {
    "duration": 4,
    "start_time": "2024-12-02T08:53:49.487Z"
   },
   {
    "duration": 5,
    "start_time": "2024-12-02T08:53:54.317Z"
   },
   {
    "duration": 5,
    "start_time": "2024-12-02T08:54:19.801Z"
   },
   {
    "duration": 5,
    "start_time": "2024-12-02T08:54:22.741Z"
   },
   {
    "duration": 4,
    "start_time": "2024-12-02T08:54:47.633Z"
   },
   {
    "duration": 5,
    "start_time": "2024-12-02T08:56:28.323Z"
   },
   {
    "duration": 4,
    "start_time": "2024-12-02T08:56:34.506Z"
   },
   {
    "duration": 4,
    "start_time": "2024-12-02T08:56:52.573Z"
   },
   {
    "duration": 360,
    "start_time": "2024-12-02T08:57:14.674Z"
   },
   {
    "duration": 6,
    "start_time": "2024-12-02T08:57:15.532Z"
   },
   {
    "duration": 4,
    "start_time": "2024-12-02T08:57:51.427Z"
   },
   {
    "duration": 73,
    "start_time": "2024-12-02T08:57:53.458Z"
   },
   {
    "duration": 4,
    "start_time": "2024-12-02T09:00:07.705Z"
   },
   {
    "duration": 4,
    "start_time": "2024-12-02T09:00:22.376Z"
   },
   {
    "duration": 4,
    "start_time": "2024-12-02T09:00:34.412Z"
   },
   {
    "duration": 7,
    "start_time": "2024-12-02T09:00:57.660Z"
   },
   {
    "duration": 4,
    "start_time": "2024-12-02T09:01:00.702Z"
   },
   {
    "duration": 4,
    "start_time": "2024-12-02T09:02:30.846Z"
   },
   {
    "duration": 6,
    "start_time": "2024-12-02T09:03:41.212Z"
   },
   {
    "duration": 6,
    "start_time": "2024-12-02T09:03:47.969Z"
   },
   {
    "duration": 6,
    "start_time": "2024-12-02T09:04:57.933Z"
   },
   {
    "duration": 128,
    "start_time": "2024-12-02T09:05:32.602Z"
   },
   {
    "duration": 89,
    "start_time": "2024-12-02T09:05:36.247Z"
   },
   {
    "duration": 4,
    "start_time": "2024-12-02T09:05:41.008Z"
   },
   {
    "duration": 12,
    "start_time": "2024-12-02T09:05:46.963Z"
   },
   {
    "duration": 12,
    "start_time": "2024-12-02T09:05:54.828Z"
   },
   {
    "duration": 6,
    "start_time": "2024-12-02T09:05:59.559Z"
   },
   {
    "duration": 2,
    "start_time": "2024-12-02T09:10:40.220Z"
   },
   {
    "duration": 107,
    "start_time": "2024-12-02T09:12:42.284Z"
   },
   {
    "duration": 197,
    "start_time": "2024-12-02T09:13:02.607Z"
   },
   {
    "duration": 188,
    "start_time": "2024-12-02T09:13:12.494Z"
   },
   {
    "duration": 186,
    "start_time": "2024-12-02T09:13:18.439Z"
   },
   {
    "duration": 49,
    "start_time": "2024-12-02T09:15:14.181Z"
   },
   {
    "duration": 323,
    "start_time": "2024-12-02T09:15:45.358Z"
   },
   {
    "duration": 12,
    "start_time": "2024-12-02T09:18:09.448Z"
   },
   {
    "duration": 6,
    "start_time": "2024-12-02T09:20:05.410Z"
   },
   {
    "duration": 9,
    "start_time": "2024-12-02T09:20:24.652Z"
   },
   {
    "duration": 8,
    "start_time": "2024-12-02T09:20:34.094Z"
   },
   {
    "duration": 5,
    "start_time": "2024-12-02T09:20:40.486Z"
   },
   {
    "duration": 5,
    "start_time": "2024-12-02T09:21:05.202Z"
   },
   {
    "duration": 9,
    "start_time": "2024-12-02T09:21:12.802Z"
   },
   {
    "duration": 7,
    "start_time": "2024-12-02T09:21:24.924Z"
   },
   {
    "duration": 9,
    "start_time": "2024-12-02T09:21:43.759Z"
   },
   {
    "duration": 5,
    "start_time": "2024-12-02T09:21:53.182Z"
   },
   {
    "duration": 203,
    "start_time": "2024-12-02T09:22:56.089Z"
   },
   {
    "duration": 4,
    "start_time": "2024-12-02T09:23:20.301Z"
   },
   {
    "duration": 5,
    "start_time": "2024-12-02T09:23:27.232Z"
   },
   {
    "duration": 5,
    "start_time": "2024-12-02T09:23:31.790Z"
   },
   {
    "duration": 100,
    "start_time": "2024-12-02T09:34:55.112Z"
   },
   {
    "duration": 271,
    "start_time": "2024-12-02T10:24:55.633Z"
   },
   {
    "duration": 195,
    "start_time": "2024-12-02T10:25:23.391Z"
   },
   {
    "duration": 104,
    "start_time": "2024-12-02T10:26:13.035Z"
   },
   {
    "duration": 101,
    "start_time": "2024-12-02T10:26:52.313Z"
   },
   {
    "duration": 5,
    "start_time": "2024-12-02T10:27:19.441Z"
   },
   {
    "duration": 4,
    "start_time": "2024-12-02T10:27:25.634Z"
   },
   {
    "duration": 5,
    "start_time": "2024-12-02T10:27:28.942Z"
   },
   {
    "duration": 4,
    "start_time": "2024-12-02T10:27:37.676Z"
   },
   {
    "duration": 5,
    "start_time": "2024-12-02T10:28:00.617Z"
   },
   {
    "duration": 5,
    "start_time": "2024-12-02T10:28:04.988Z"
   },
   {
    "duration": 5,
    "start_time": "2024-12-02T10:28:10.244Z"
   },
   {
    "duration": 4,
    "start_time": "2024-12-02T10:28:14.122Z"
   },
   {
    "duration": 4,
    "start_time": "2024-12-02T10:28:19.372Z"
   },
   {
    "duration": 107,
    "start_time": "2024-12-02T10:29:59.959Z"
   },
   {
    "duration": 1437,
    "start_time": "2024-12-02T10:30:21.899Z"
   },
   {
    "duration": 8,
    "start_time": "2024-12-02T10:30:26.145Z"
   },
   {
    "duration": 4,
    "start_time": "2024-12-02T10:31:44.260Z"
   },
   {
    "duration": 13,
    "start_time": "2024-12-02T10:31:51.839Z"
   },
   {
    "duration": 12,
    "start_time": "2024-12-02T10:33:24.752Z"
   },
   {
    "duration": 8,
    "start_time": "2024-12-02T10:33:37.112Z"
   },
   {
    "duration": 13,
    "start_time": "2024-12-02T10:34:15.053Z"
   },
   {
    "duration": 4,
    "start_time": "2024-12-02T10:34:16.996Z"
   },
   {
    "duration": 5,
    "start_time": "2024-12-02T10:34:26.652Z"
   },
   {
    "duration": 7,
    "start_time": "2024-12-02T10:34:49.149Z"
   },
   {
    "duration": 4,
    "start_time": "2024-12-02T10:34:51.456Z"
   },
   {
    "duration": 8,
    "start_time": "2024-12-02T10:34:52.271Z"
   },
   {
    "duration": 8,
    "start_time": "2024-12-02T10:34:57.274Z"
   },
   {
    "duration": 87,
    "start_time": "2024-12-02T10:35:15.717Z"
   },
   {
    "duration": 194,
    "start_time": "2024-12-02T10:35:33.653Z"
   },
   {
    "duration": 157,
    "start_time": "2024-12-02T10:36:08.859Z"
   },
   {
    "duration": 5,
    "start_time": "2024-12-02T10:37:06.695Z"
   },
   {
    "duration": 4,
    "start_time": "2024-12-02T10:37:09.860Z"
   },
   {
    "duration": 5,
    "start_time": "2024-12-02T10:37:13.014Z"
   },
   {
    "duration": 4,
    "start_time": "2024-12-02T10:37:17.314Z"
   },
   {
    "duration": 4,
    "start_time": "2024-12-02T10:37:20.359Z"
   },
   {
    "duration": 5,
    "start_time": "2024-12-02T10:37:26.861Z"
   },
   {
    "duration": 303,
    "start_time": "2024-12-02T10:37:27.756Z"
   },
   {
    "duration": 11,
    "start_time": "2024-12-02T10:37:34.864Z"
   },
   {
    "duration": 194,
    "start_time": "2024-12-02T10:37:58.586Z"
   },
   {
    "duration": 9,
    "start_time": "2024-12-02T10:38:16.660Z"
   },
   {
    "duration": 9,
    "start_time": "2024-12-02T10:38:20.977Z"
   },
   {
    "duration": 9,
    "start_time": "2024-12-02T10:38:24.703Z"
   },
   {
    "duration": 10,
    "start_time": "2024-12-02T10:38:27.984Z"
   },
   {
    "duration": 10,
    "start_time": "2024-12-02T10:38:32.589Z"
   },
   {
    "duration": 9,
    "start_time": "2024-12-02T10:38:39.594Z"
   },
   {
    "duration": 10,
    "start_time": "2024-12-02T10:38:49.801Z"
   },
   {
    "duration": 5,
    "start_time": "2024-12-02T10:39:31.305Z"
   },
   {
    "duration": 5,
    "start_time": "2024-12-02T10:39:34.700Z"
   },
   {
    "duration": 5,
    "start_time": "2024-12-02T10:39:38.853Z"
   },
   {
    "duration": 5,
    "start_time": "2024-12-02T10:39:53.828Z"
   },
   {
    "duration": 4,
    "start_time": "2024-12-02T10:39:56.721Z"
   },
   {
    "duration": 4,
    "start_time": "2024-12-02T10:40:02.416Z"
   },
   {
    "duration": 4,
    "start_time": "2024-12-02T10:40:07.245Z"
   },
   {
    "duration": 4,
    "start_time": "2024-12-02T10:40:36.710Z"
   },
   {
    "duration": 178,
    "start_time": "2024-12-02T10:40:37.294Z"
   },
   {
    "duration": 10,
    "start_time": "2024-12-02T10:41:52.792Z"
   },
   {
    "duration": 12,
    "start_time": "2024-12-02T10:42:14.269Z"
   },
   {
    "duration": 6,
    "start_time": "2024-12-02T10:42:55.280Z"
   },
   {
    "duration": 193,
    "start_time": "2024-12-02T10:42:55.872Z"
   },
   {
    "duration": 7,
    "start_time": "2024-12-02T10:43:54.212Z"
   },
   {
    "duration": 6,
    "start_time": "2024-12-02T10:49:55.498Z"
   },
   {
    "duration": 4,
    "start_time": "2024-12-02T10:50:00.790Z"
   },
   {
    "duration": 13,
    "start_time": "2024-12-02T10:55:06.080Z"
   },
   {
    "duration": 12,
    "start_time": "2024-12-02T10:55:12.539Z"
   },
   {
    "duration": 11,
    "start_time": "2024-12-02T10:55:26.637Z"
   },
   {
    "duration": 11,
    "start_time": "2024-12-02T10:55:37.855Z"
   },
   {
    "duration": 14,
    "start_time": "2024-12-02T10:56:20.541Z"
   },
   {
    "duration": 7,
    "start_time": "2024-12-02T10:58:39.857Z"
   },
   {
    "duration": 6,
    "start_time": "2024-12-02T10:58:40.451Z"
   },
   {
    "duration": 10,
    "start_time": "2024-12-02T10:58:46.877Z"
   },
   {
    "duration": 3,
    "start_time": "2024-12-02T11:00:56.747Z"
   },
   {
    "duration": 307,
    "start_time": "2024-12-02T11:02:20.201Z"
   },
   {
    "duration": 294,
    "start_time": "2024-12-02T11:02:26.227Z"
   },
   {
    "duration": 400,
    "start_time": "2024-12-02T11:04:05.531Z"
   },
   {
    "duration": 237,
    "start_time": "2024-12-02T11:04:28.739Z"
   },
   {
    "duration": 297,
    "start_time": "2024-12-02T11:04:55.543Z"
   },
   {
    "duration": 8,
    "start_time": "2024-12-02T11:05:32.786Z"
   },
   {
    "duration": 516,
    "start_time": "2024-12-02T11:05:41.892Z"
   },
   {
    "duration": 296,
    "start_time": "2024-12-02T11:05:53.332Z"
   },
   {
    "duration": 305,
    "start_time": "2024-12-02T11:06:35.159Z"
   },
   {
    "duration": 433,
    "start_time": "2024-12-02T11:06:58.024Z"
   },
   {
    "duration": 8,
    "start_time": "2024-12-02T11:07:50.461Z"
   },
   {
    "duration": 3,
    "start_time": "2024-12-02T11:07:58.269Z"
   },
   {
    "duration": 3,
    "start_time": "2024-12-02T11:08:12.120Z"
   },
   {
    "duration": 259,
    "start_time": "2024-12-02T11:08:33.431Z"
   },
   {
    "duration": 3,
    "start_time": "2024-12-02T11:11:08.447Z"
   },
   {
    "duration": 86,
    "start_time": "2024-12-02T11:11:33.155Z"
   },
   {
    "duration": 4,
    "start_time": "2024-12-02T11:11:37.427Z"
   },
   {
    "duration": 3,
    "start_time": "2024-12-02T11:12:04.878Z"
   },
   {
    "duration": 6,
    "start_time": "2024-12-02T11:36:40.205Z"
   },
   {
    "duration": 4,
    "start_time": "2024-12-02T11:40:33.412Z"
   },
   {
    "duration": 82,
    "start_time": "2024-12-02T11:41:06.577Z"
   },
   {
    "duration": 8,
    "start_time": "2024-12-02T11:41:11.665Z"
   },
   {
    "duration": 25,
    "start_time": "2024-12-02T11:41:17.164Z"
   },
   {
    "duration": 22,
    "start_time": "2024-12-02T11:41:28.951Z"
   },
   {
    "duration": 59,
    "start_time": "2024-12-02T11:41:36.653Z"
   },
   {
    "duration": 97,
    "start_time": "2024-12-02T11:41:50.093Z"
   },
   {
    "duration": 23,
    "start_time": "2024-12-02T11:41:57.368Z"
   },
   {
    "duration": 9,
    "start_time": "2024-12-02T11:42:06.466Z"
   },
   {
    "duration": 8,
    "start_time": "2024-12-02T11:42:28.693Z"
   },
   {
    "duration": 8,
    "start_time": "2024-12-02T11:42:50.882Z"
   },
   {
    "duration": 9,
    "start_time": "2024-12-02T11:42:51.423Z"
   },
   {
    "duration": 9,
    "start_time": "2024-12-02T11:42:58.438Z"
   },
   {
    "duration": 9,
    "start_time": "2024-12-02T11:43:03.485Z"
   },
   {
    "duration": 9,
    "start_time": "2024-12-02T11:43:09.163Z"
   },
   {
    "duration": 11,
    "start_time": "2024-12-02T11:44:38.467Z"
   },
   {
    "duration": 2884,
    "start_time": "2024-12-02T11:45:03.049Z"
   },
   {
    "duration": 9,
    "start_time": "2024-12-02T11:45:11.660Z"
   },
   {
    "duration": 5,
    "start_time": "2024-12-02T11:47:52.276Z"
   },
   {
    "duration": 7,
    "start_time": "2024-12-02T11:47:54.757Z"
   },
   {
    "duration": 4,
    "start_time": "2024-12-02T11:48:09.222Z"
   },
   {
    "duration": 193,
    "start_time": "2024-12-02T11:48:09.993Z"
   },
   {
    "duration": 9,
    "start_time": "2024-12-02T11:48:15.193Z"
   },
   {
    "duration": 12,
    "start_time": "2024-12-02T11:49:18.513Z"
   },
   {
    "duration": 9,
    "start_time": "2024-12-02T11:49:19.132Z"
   },
   {
    "duration": 20,
    "start_time": "2024-12-02T11:49:22.789Z"
   },
   {
    "duration": 6,
    "start_time": "2024-12-02T11:49:26.751Z"
   },
   {
    "duration": 5,
    "start_time": "2024-12-02T11:49:29.395Z"
   },
   {
    "duration": 3,
    "start_time": "2024-12-02T11:49:29.825Z"
   },
   {
    "duration": 3,
    "start_time": "2024-12-02T11:49:30.731Z"
   },
   {
    "duration": 3,
    "start_time": "2024-12-02T11:49:33.349Z"
   },
   {
    "duration": 2,
    "start_time": "2024-12-02T11:49:35.274Z"
   },
   {
    "duration": 293,
    "start_time": "2024-12-02T11:49:35.891Z"
   },
   {
    "duration": 263,
    "start_time": "2024-12-02T11:49:37.482Z"
   },
   {
    "duration": 4,
    "start_time": "2024-12-02T11:53:16.027Z"
   },
   {
    "duration": 9,
    "start_time": "2024-12-02T12:00:23.113Z"
   },
   {
    "duration": 8,
    "start_time": "2024-12-02T12:00:43.046Z"
   },
   {
    "duration": 1448,
    "start_time": "2024-12-03T09:51:15.193Z"
   },
   {
    "duration": 316,
    "start_time": "2024-12-03T09:51:16.643Z"
   },
   {
    "duration": 5,
    "start_time": "2024-12-03T09:51:16.961Z"
   },
   {
    "duration": 12,
    "start_time": "2024-12-03T09:51:16.968Z"
   },
   {
    "duration": 27,
    "start_time": "2024-12-03T09:51:16.982Z"
   },
   {
    "duration": 825,
    "start_time": "2024-12-03T09:51:17.011Z"
   },
   {
    "duration": 11,
    "start_time": "2024-12-03T09:51:17.838Z"
   },
   {
    "duration": 9,
    "start_time": "2024-12-03T09:51:17.850Z"
   },
   {
    "duration": 21,
    "start_time": "2024-12-03T09:51:17.860Z"
   },
   {
    "duration": 6,
    "start_time": "2024-12-03T09:51:17.893Z"
   },
   {
    "duration": 30,
    "start_time": "2024-12-03T09:51:17.901Z"
   },
   {
    "duration": 30,
    "start_time": "2024-12-03T09:51:17.934Z"
   },
   {
    "duration": 12,
    "start_time": "2024-12-03T09:51:17.966Z"
   },
   {
    "duration": 6,
    "start_time": "2024-12-03T09:51:17.980Z"
   },
   {
    "duration": 8,
    "start_time": "2024-12-03T09:51:17.992Z"
   },
   {
    "duration": 17,
    "start_time": "2024-12-03T09:51:18.002Z"
   },
   {
    "duration": 5,
    "start_time": "2024-12-03T09:51:18.021Z"
   },
   {
    "duration": 160,
    "start_time": "2024-12-03T09:51:18.027Z"
   },
   {
    "duration": 125,
    "start_time": "2024-12-03T09:51:18.189Z"
   },
   {
    "duration": 279,
    "start_time": "2024-12-03T09:51:18.316Z"
   },
   {
    "duration": 7,
    "start_time": "2024-12-03T09:51:18.596Z"
   },
   {
    "duration": 113,
    "start_time": "2024-12-03T09:51:18.605Z"
   },
   {
    "duration": 249,
    "start_time": "2024-12-03T09:51:18.720Z"
   },
   {
    "duration": 12,
    "start_time": "2024-12-03T09:51:18.970Z"
   },
   {
    "duration": 11,
    "start_time": "2024-12-03T09:51:18.991Z"
   },
   {
    "duration": 9,
    "start_time": "2024-12-03T09:51:19.004Z"
   },
   {
    "duration": 10,
    "start_time": "2024-12-03T09:51:19.014Z"
   },
   {
    "duration": 398,
    "start_time": "2024-12-03T09:51:19.028Z"
   },
   {
    "duration": 115,
    "start_time": "2024-12-03T09:51:19.428Z"
   },
   {
    "duration": 253,
    "start_time": "2024-12-03T09:51:19.544Z"
   },
   {
    "duration": 13,
    "start_time": "2024-12-03T09:51:19.799Z"
   },
   {
    "duration": 8,
    "start_time": "2024-12-03T09:51:19.814Z"
   },
   {
    "duration": 139,
    "start_time": "2024-12-03T09:51:19.823Z"
   },
   {
    "duration": 5,
    "start_time": "2024-12-03T09:51:19.963Z"
   },
   {
    "duration": 23,
    "start_time": "2024-12-03T09:51:19.969Z"
   },
   {
    "duration": 4,
    "start_time": "2024-12-03T09:51:19.994Z"
   },
   {
    "duration": 336,
    "start_time": "2024-12-03T09:51:19.999Z"
   },
   {
    "duration": 9,
    "start_time": "2024-12-03T09:51:20.337Z"
   },
   {
    "duration": 16,
    "start_time": "2024-12-03T09:51:20.348Z"
   },
   {
    "duration": 29,
    "start_time": "2024-12-03T09:51:20.366Z"
   },
   {
    "duration": 22,
    "start_time": "2024-12-03T09:51:20.396Z"
   },
   {
    "duration": 8,
    "start_time": "2024-12-03T09:51:20.419Z"
   },
   {
    "duration": 5,
    "start_time": "2024-12-03T09:51:20.429Z"
   },
   {
    "duration": 4,
    "start_time": "2024-12-03T09:51:20.436Z"
   },
   {
    "duration": 6,
    "start_time": "2024-12-03T09:51:20.441Z"
   },
   {
    "duration": 5,
    "start_time": "2024-12-03T09:51:20.448Z"
   },
   {
    "duration": 11,
    "start_time": "2024-12-03T09:51:20.454Z"
   },
   {
    "duration": 367,
    "start_time": "2024-12-03T09:51:20.491Z"
   },
   {
    "duration": 311,
    "start_time": "2024-12-03T09:51:20.860Z"
   },
   {
    "duration": 5,
    "start_time": "2024-12-03T09:51:21.172Z"
   },
   {
    "duration": 4,
    "start_time": "2024-12-03T09:51:32.156Z"
   },
   {
    "duration": 19,
    "start_time": "2024-12-03T09:53:32.028Z"
   },
   {
    "duration": 26,
    "start_time": "2024-12-03T09:53:37.733Z"
   },
   {
    "duration": 47,
    "start_time": "2024-12-03T10:06:45.690Z"
   },
   {
    "duration": 1237,
    "start_time": "2024-12-03T10:06:51.089Z"
   },
   {
    "duration": 315,
    "start_time": "2024-12-03T10:06:52.327Z"
   },
   {
    "duration": 4,
    "start_time": "2024-12-03T10:06:52.643Z"
   },
   {
    "duration": 21,
    "start_time": "2024-12-03T10:06:52.649Z"
   },
   {
    "duration": 25,
    "start_time": "2024-12-03T10:06:52.672Z"
   },
   {
    "duration": 785,
    "start_time": "2024-12-03T10:06:52.699Z"
   },
   {
    "duration": 14,
    "start_time": "2024-12-03T10:06:53.486Z"
   },
   {
    "duration": 7,
    "start_time": "2024-12-03T10:06:53.502Z"
   },
   {
    "duration": 7,
    "start_time": "2024-12-03T10:06:53.510Z"
   },
   {
    "duration": 5,
    "start_time": "2024-12-03T10:06:53.519Z"
   },
   {
    "duration": 10,
    "start_time": "2024-12-03T10:06:53.526Z"
   },
   {
    "duration": 14,
    "start_time": "2024-12-03T10:06:53.538Z"
   },
   {
    "duration": 11,
    "start_time": "2024-12-03T10:06:53.591Z"
   },
   {
    "duration": 5,
    "start_time": "2024-12-03T10:06:53.603Z"
   },
   {
    "duration": 14,
    "start_time": "2024-12-03T10:06:53.609Z"
   },
   {
    "duration": 13,
    "start_time": "2024-12-03T10:06:53.624Z"
   },
   {
    "duration": 4,
    "start_time": "2024-12-03T10:06:53.639Z"
   },
   {
    "duration": 160,
    "start_time": "2024-12-03T10:06:53.644Z"
   },
   {
    "duration": 92,
    "start_time": "2024-12-03T10:06:53.806Z"
   },
   {
    "duration": 285,
    "start_time": "2024-12-03T10:06:53.900Z"
   },
   {
    "duration": 11,
    "start_time": "2024-12-03T10:06:54.186Z"
   },
   {
    "duration": 139,
    "start_time": "2024-12-03T10:06:54.198Z"
   },
   {
    "duration": 249,
    "start_time": "2024-12-03T10:06:54.338Z"
   },
   {
    "duration": 11,
    "start_time": "2024-12-03T10:06:54.591Z"
   },
   {
    "duration": 33,
    "start_time": "2024-12-03T10:06:54.604Z"
   },
   {
    "duration": 9,
    "start_time": "2024-12-03T10:06:54.639Z"
   },
   {
    "duration": 10,
    "start_time": "2024-12-03T10:06:54.649Z"
   },
   {
    "duration": 378,
    "start_time": "2024-12-03T10:06:54.663Z"
   },
   {
    "duration": 122,
    "start_time": "2024-12-03T10:06:55.043Z"
   },
   {
    "duration": 273,
    "start_time": "2024-12-03T10:06:55.166Z"
   },
   {
    "duration": 14,
    "start_time": "2024-12-03T10:06:55.441Z"
   },
   {
    "duration": 7,
    "start_time": "2024-12-03T10:06:55.457Z"
   },
   {
    "duration": 140,
    "start_time": "2024-12-03T10:06:55.465Z"
   },
   {
    "duration": 5,
    "start_time": "2024-12-03T10:06:55.606Z"
   },
   {
    "duration": 21,
    "start_time": "2024-12-03T10:06:55.612Z"
   },
   {
    "duration": 4,
    "start_time": "2024-12-03T10:06:55.634Z"
   },
   {
    "duration": 346,
    "start_time": "2024-12-03T10:06:55.640Z"
   },
   {
    "duration": 10,
    "start_time": "2024-12-03T10:06:55.992Z"
   },
   {
    "duration": 15,
    "start_time": "2024-12-03T10:06:56.003Z"
   },
   {
    "duration": 12,
    "start_time": "2024-12-03T10:06:56.019Z"
   },
   {
    "duration": 19,
    "start_time": "2024-12-03T10:06:56.033Z"
   },
   {
    "duration": 8,
    "start_time": "2024-12-03T10:06:56.053Z"
   },
   {
    "duration": 7,
    "start_time": "2024-12-03T10:06:56.092Z"
   },
   {
    "duration": 7,
    "start_time": "2024-12-03T10:06:56.100Z"
   },
   {
    "duration": 4,
    "start_time": "2024-12-03T10:06:56.108Z"
   },
   {
    "duration": 5,
    "start_time": "2024-12-03T10:06:56.113Z"
   },
   {
    "duration": 4,
    "start_time": "2024-12-03T10:06:56.119Z"
   },
   {
    "duration": 372,
    "start_time": "2024-12-03T10:06:56.124Z"
   },
   {
    "duration": 300,
    "start_time": "2024-12-03T10:06:56.498Z"
   },
   {
    "duration": 4,
    "start_time": "2024-12-03T10:06:56.800Z"
   },
   {
    "duration": 1225,
    "start_time": "2024-12-03T10:07:09.506Z"
   },
   {
    "duration": 315,
    "start_time": "2024-12-03T10:07:10.733Z"
   },
   {
    "duration": 5,
    "start_time": "2024-12-03T10:07:11.049Z"
   },
   {
    "duration": 12,
    "start_time": "2024-12-03T10:07:11.057Z"
   },
   {
    "duration": 24,
    "start_time": "2024-12-03T10:07:11.071Z"
   },
   {
    "duration": 810,
    "start_time": "2024-12-03T10:07:11.097Z"
   },
   {
    "duration": 10,
    "start_time": "2024-12-03T10:07:11.908Z"
   },
   {
    "duration": 9,
    "start_time": "2024-12-03T10:07:11.920Z"
   },
   {
    "duration": 5,
    "start_time": "2024-12-03T10:07:11.930Z"
   },
   {
    "duration": 19,
    "start_time": "2024-12-03T10:07:11.937Z"
   },
   {
    "duration": 10,
    "start_time": "2024-12-03T10:07:11.958Z"
   },
   {
    "duration": 34,
    "start_time": "2024-12-03T10:07:11.970Z"
   },
   {
    "duration": 12,
    "start_time": "2024-12-03T10:07:12.006Z"
   },
   {
    "duration": 6,
    "start_time": "2024-12-03T10:07:12.019Z"
   },
   {
    "duration": 33,
    "start_time": "2024-12-03T10:07:12.026Z"
   },
   {
    "duration": 14,
    "start_time": "2024-12-03T10:07:12.061Z"
   },
   {
    "duration": 4,
    "start_time": "2024-12-03T10:07:12.077Z"
   },
   {
    "duration": 157,
    "start_time": "2024-12-03T10:07:12.082Z"
   },
   {
    "duration": 92,
    "start_time": "2024-12-03T10:07:12.240Z"
   },
   {
    "duration": 284,
    "start_time": "2024-12-03T10:07:12.333Z"
   },
   {
    "duration": 8,
    "start_time": "2024-12-03T10:07:12.618Z"
   },
   {
    "duration": 115,
    "start_time": "2024-12-03T10:07:12.627Z"
   },
   {
    "duration": 252,
    "start_time": "2024-12-03T10:07:12.744Z"
   },
   {
    "duration": 12,
    "start_time": "2024-12-03T10:07:12.997Z"
   },
   {
    "duration": 14,
    "start_time": "2024-12-03T10:07:13.011Z"
   },
   {
    "duration": 11,
    "start_time": "2024-12-03T10:07:13.026Z"
   },
   {
    "duration": 10,
    "start_time": "2024-12-03T10:07:13.038Z"
   },
   {
    "duration": 389,
    "start_time": "2024-12-03T10:07:13.051Z"
   },
   {
    "duration": 121,
    "start_time": "2024-12-03T10:07:13.442Z"
   },
   {
    "duration": 249,
    "start_time": "2024-12-03T10:07:13.565Z"
   },
   {
    "duration": 14,
    "start_time": "2024-12-03T10:07:13.815Z"
   },
   {
    "duration": 18,
    "start_time": "2024-12-03T10:07:13.830Z"
   },
   {
    "duration": 128,
    "start_time": "2024-12-03T10:07:13.849Z"
   },
   {
    "duration": 13,
    "start_time": "2024-12-03T10:07:13.979Z"
   },
   {
    "duration": 8,
    "start_time": "2024-12-03T10:07:13.994Z"
   },
   {
    "duration": 4,
    "start_time": "2024-12-03T10:07:14.004Z"
   },
   {
    "duration": 349,
    "start_time": "2024-12-03T10:07:14.009Z"
   },
   {
    "duration": 9,
    "start_time": "2024-12-03T10:07:14.360Z"
   },
   {
    "duration": 25,
    "start_time": "2024-12-03T10:07:14.371Z"
   },
   {
    "duration": 11,
    "start_time": "2024-12-03T10:07:14.398Z"
   },
   {
    "duration": 26,
    "start_time": "2024-12-03T10:07:14.411Z"
   },
   {
    "duration": 7,
    "start_time": "2024-12-03T10:07:14.439Z"
   },
   {
    "duration": 12,
    "start_time": "2024-12-03T10:07:14.447Z"
   },
   {
    "duration": 12,
    "start_time": "2024-12-03T10:07:14.461Z"
   },
   {
    "duration": 10,
    "start_time": "2024-12-03T10:07:14.474Z"
   },
   {
    "duration": 4,
    "start_time": "2024-12-03T10:07:14.491Z"
   },
   {
    "duration": 3,
    "start_time": "2024-12-03T10:07:14.497Z"
   },
   {
    "duration": 361,
    "start_time": "2024-12-03T10:07:14.501Z"
   },
   {
    "duration": 306,
    "start_time": "2024-12-03T10:07:14.863Z"
   },
   {
    "duration": 4,
    "start_time": "2024-12-03T10:07:15.170Z"
   },
   {
    "duration": 59,
    "start_time": "2024-12-03T10:07:58.132Z"
   },
   {
    "duration": 1576,
    "start_time": "2024-12-03T10:09:27.663Z"
   },
   {
    "duration": 2326,
    "start_time": "2024-12-03T10:09:37.182Z"
   },
   {
    "duration": 1527,
    "start_time": "2024-12-03T10:10:03.299Z"
   },
   {
    "duration": 2671,
    "start_time": "2024-12-03T10:10:29.157Z"
   },
   {
    "duration": 1531,
    "start_time": "2024-12-03T10:10:44.412Z"
   },
   {
    "duration": 36,
    "start_time": "2024-12-03T10:10:50.118Z"
   },
   {
    "duration": 1088,
    "start_time": "2024-12-03T10:11:00.173Z"
   },
   {
    "duration": 1204,
    "start_time": "2024-12-03T10:11:16.285Z"
   },
   {
    "duration": 33,
    "start_time": "2024-12-03T10:15:23.673Z"
   },
   {
    "duration": 50,
    "start_time": "2024-12-03T10:15:27.529Z"
   },
   {
    "duration": 1415,
    "start_time": "2024-12-03T10:16:44.840Z"
   },
   {
    "duration": 16,
    "start_time": "2024-12-03T10:23:31.792Z"
   },
   {
    "duration": 31,
    "start_time": "2024-12-03T10:23:57.170Z"
   },
   {
    "duration": 33,
    "start_time": "2024-12-03T10:24:37.597Z"
   },
   {
    "duration": 29,
    "start_time": "2024-12-03T10:25:27.047Z"
   },
   {
    "duration": 374,
    "start_time": "2024-12-03T10:27:41.180Z"
   },
   {
    "duration": 400,
    "start_time": "2024-12-03T10:27:49.711Z"
   },
   {
    "duration": 359,
    "start_time": "2024-12-03T10:27:52.628Z"
   },
   {
    "duration": 30,
    "start_time": "2024-12-03T10:28:01.833Z"
   },
   {
    "duration": 38,
    "start_time": "2024-12-03T10:29:50.742Z"
   },
   {
    "duration": 29,
    "start_time": "2024-12-03T10:29:58.538Z"
   },
   {
    "duration": 32,
    "start_time": "2024-12-03T10:30:03.349Z"
   },
   {
    "duration": 33,
    "start_time": "2024-12-03T10:30:49.733Z"
   },
   {
    "duration": 1227,
    "start_time": "2024-12-03T10:31:50.519Z"
   },
   {
    "duration": 1098,
    "start_time": "2024-12-03T10:32:12.363Z"
   },
   {
    "duration": 32,
    "start_time": "2024-12-03T10:32:17.433Z"
   },
   {
    "duration": 35,
    "start_time": "2024-12-03T10:39:59.648Z"
   },
   {
    "duration": 33,
    "start_time": "2024-12-03T10:40:32.086Z"
   },
   {
    "duration": 34,
    "start_time": "2024-12-03T10:40:37.014Z"
   },
   {
    "duration": 31,
    "start_time": "2024-12-03T10:41:03.264Z"
   },
   {
    "duration": 31,
    "start_time": "2024-12-03T10:41:07.646Z"
   },
   {
    "duration": 29,
    "start_time": "2024-12-03T10:42:07.887Z"
   },
   {
    "duration": 36,
    "start_time": "2024-12-03T10:42:26.276Z"
   },
   {
    "duration": 38,
    "start_time": "2024-12-03T10:47:57.866Z"
   },
   {
    "duration": 42,
    "start_time": "2024-12-03T10:48:19.120Z"
   },
   {
    "duration": 2123,
    "start_time": "2024-12-03T10:48:29.575Z"
   },
   {
    "duration": 34,
    "start_time": "2024-12-03T10:51:16.481Z"
   },
   {
    "duration": 36,
    "start_time": "2024-12-03T10:56:57.695Z"
   },
   {
    "duration": 34,
    "start_time": "2024-12-03T10:57:06.470Z"
   },
   {
    "duration": 36,
    "start_time": "2024-12-03T10:57:11.002Z"
   },
   {
    "duration": 31,
    "start_time": "2024-12-03T10:57:16.703Z"
   },
   {
    "duration": 36,
    "start_time": "2024-12-03T10:58:04.252Z"
   },
   {
    "duration": 23,
    "start_time": "2024-12-03T10:58:41.024Z"
   },
   {
    "duration": 385,
    "start_time": "2024-12-03T10:59:16.457Z"
   },
   {
    "duration": 31,
    "start_time": "2024-12-03T10:59:31.594Z"
   },
   {
    "duration": 35,
    "start_time": "2024-12-03T11:02:52.111Z"
   },
   {
    "duration": 40,
    "start_time": "2024-12-03T11:03:17.135Z"
   },
   {
    "duration": 1423,
    "start_time": "2024-12-03T11:03:34.405Z"
   },
   {
    "duration": 23,
    "start_time": "2024-12-03T11:04:04.314Z"
   },
   {
    "duration": 25,
    "start_time": "2024-12-03T11:04:32.396Z"
   },
   {
    "duration": 42,
    "start_time": "2024-12-03T11:04:49.265Z"
   },
   {
    "duration": 36,
    "start_time": "2024-12-03T11:05:30.121Z"
   },
   {
    "duration": 23,
    "start_time": "2024-12-03T11:07:33.145Z"
   },
   {
    "duration": 34,
    "start_time": "2024-12-03T11:09:51.924Z"
   },
   {
    "duration": 106,
    "start_time": "2024-12-03T11:10:57.397Z"
   },
   {
    "duration": 36,
    "start_time": "2024-12-03T11:11:07.179Z"
   },
   {
    "duration": 32,
    "start_time": "2024-12-03T11:12:00.479Z"
   },
   {
    "duration": 14,
    "start_time": "2024-12-03T11:12:25.884Z"
   },
   {
    "duration": 12,
    "start_time": "2024-12-03T11:15:48.130Z"
   },
   {
    "duration": 4,
    "start_time": "2024-12-03T11:16:05.465Z"
   },
   {
    "duration": 4,
    "start_time": "2024-12-03T11:16:31.478Z"
   },
   {
    "duration": 970,
    "start_time": "2024-12-03T11:16:37.143Z"
   },
   {
    "duration": 2674,
    "start_time": "2024-12-03T11:16:49.031Z"
   },
   {
    "duration": 5,
    "start_time": "2024-12-03T11:20:27.726Z"
   },
   {
    "duration": 19,
    "start_time": "2024-12-03T11:21:10.724Z"
   },
   {
    "duration": 12,
    "start_time": "2024-12-03T11:21:49.765Z"
   },
   {
    "duration": 17,
    "start_time": "2024-12-03T11:21:56.878Z"
   },
   {
    "duration": 17,
    "start_time": "2024-12-03T11:22:15.592Z"
   },
   {
    "duration": 80,
    "start_time": "2024-12-03T11:22:28.678Z"
   },
   {
    "duration": 17,
    "start_time": "2024-12-03T11:22:52.963Z"
   },
   {
    "duration": 18,
    "start_time": "2024-12-03T11:24:25.590Z"
   },
   {
    "duration": 21,
    "start_time": "2024-12-03T11:25:06.086Z"
   },
   {
    "duration": 20,
    "start_time": "2024-12-03T11:25:15.377Z"
   },
   {
    "duration": 21,
    "start_time": "2024-12-03T11:26:18.238Z"
   },
   {
    "duration": 3,
    "start_time": "2024-12-03T11:26:30.233Z"
   },
   {
    "duration": 19,
    "start_time": "2024-12-03T11:27:40.842Z"
   },
   {
    "duration": 22,
    "start_time": "2024-12-03T11:27:45.166Z"
   },
   {
    "duration": 22,
    "start_time": "2024-12-03T11:28:18.428Z"
   },
   {
    "duration": 3,
    "start_time": "2024-12-03T11:28:35.703Z"
   },
   {
    "duration": 12,
    "start_time": "2024-12-03T11:28:40.170Z"
   },
   {
    "duration": 23,
    "start_time": "2024-12-03T11:28:43.947Z"
   },
   {
    "duration": 21,
    "start_time": "2024-12-03T11:28:53.306Z"
   },
   {
    "duration": 137,
    "start_time": "2024-12-03T11:34:59.242Z"
   },
   {
    "duration": 24,
    "start_time": "2024-12-03T11:35:08.590Z"
   },
   {
    "duration": 33,
    "start_time": "2024-12-03T11:35:39.366Z"
   },
   {
    "duration": 25,
    "start_time": "2024-12-03T11:35:47.914Z"
   },
   {
    "duration": 20,
    "start_time": "2024-12-03T11:37:22.314Z"
   },
   {
    "duration": 17,
    "start_time": "2024-12-03T11:37:45.026Z"
   },
   {
    "duration": 13,
    "start_time": "2024-12-03T11:37:51.069Z"
   },
   {
    "duration": 14,
    "start_time": "2024-12-03T11:38:02.876Z"
   },
   {
    "duration": 22,
    "start_time": "2024-12-03T11:38:14.218Z"
   },
   {
    "duration": 20,
    "start_time": "2024-12-03T11:38:58.860Z"
   },
   {
    "duration": 25,
    "start_time": "2024-12-03T11:39:03.202Z"
   },
   {
    "duration": 26,
    "start_time": "2024-12-03T11:41:36.255Z"
   },
   {
    "duration": 18,
    "start_time": "2024-12-03T11:41:48.647Z"
   },
   {
    "duration": 10,
    "start_time": "2024-12-03T11:42:38.760Z"
   },
   {
    "duration": 8,
    "start_time": "2024-12-03T11:42:56.669Z"
   },
   {
    "duration": 10,
    "start_time": "2024-12-03T11:43:12.268Z"
   },
   {
    "duration": 8,
    "start_time": "2024-12-03T11:43:13.891Z"
   },
   {
    "duration": 12,
    "start_time": "2024-12-03T11:43:19.760Z"
   },
   {
    "duration": 11,
    "start_time": "2024-12-03T11:43:20.369Z"
   },
   {
    "duration": 26,
    "start_time": "2024-12-03T11:43:29.560Z"
   },
   {
    "duration": 25,
    "start_time": "2024-12-03T11:43:57.041Z"
   },
   {
    "duration": 11,
    "start_time": "2024-12-03T11:44:41.095Z"
   },
   {
    "duration": 11,
    "start_time": "2024-12-03T11:44:56.033Z"
   },
   {
    "duration": 26,
    "start_time": "2024-12-03T11:47:31.321Z"
   },
   {
    "duration": 26,
    "start_time": "2024-12-03T11:47:35.921Z"
   },
   {
    "duration": 4,
    "start_time": "2024-12-03T11:48:52.745Z"
   },
   {
    "duration": 60,
    "start_time": "2024-12-03T11:59:50.544Z"
   },
   {
    "duration": 27,
    "start_time": "2024-12-03T12:00:08.483Z"
   },
   {
    "duration": 23,
    "start_time": "2024-12-03T12:03:51.057Z"
   },
   {
    "duration": 24,
    "start_time": "2024-12-03T12:03:56.559Z"
   },
   {
    "duration": 10,
    "start_time": "2024-12-03T12:04:21.488Z"
   },
   {
    "duration": 7,
    "start_time": "2024-12-03T12:04:26.255Z"
   },
   {
    "duration": 1438,
    "start_time": "2024-12-03T12:06:21.115Z"
   },
   {
    "duration": 54,
    "start_time": "2024-12-03T12:06:27.891Z"
   },
   {
    "duration": 5,
    "start_time": "2024-12-03T12:06:32.309Z"
   },
   {
    "duration": 5,
    "start_time": "2024-12-03T12:06:37.662Z"
   },
   {
    "duration": 4,
    "start_time": "2024-12-03T12:09:23.546Z"
   },
   {
    "duration": 13118,
    "start_time": "2024-12-03T12:09:24.500Z"
   },
   {
    "duration": 18,
    "start_time": "2024-12-03T12:09:57.602Z"
   },
   {
    "duration": 4,
    "start_time": "2024-12-03T12:10:43.690Z"
   },
   {
    "duration": 437,
    "start_time": "2024-12-03T12:10:46.155Z"
   },
   {
    "duration": 7,
    "start_time": "2024-12-03T12:12:07.356Z"
   },
   {
    "duration": 10,
    "start_time": "2024-12-03T13:21:17.464Z"
   },
   {
    "duration": 11,
    "start_time": "2024-12-03T13:21:19.876Z"
   },
   {
    "duration": 11,
    "start_time": "2024-12-03T13:21:31.892Z"
   },
   {
    "duration": 18,
    "start_time": "2024-12-03T13:22:53.665Z"
   },
   {
    "duration": 11,
    "start_time": "2024-12-03T13:23:01.877Z"
   },
   {
    "duration": 10,
    "start_time": "2024-12-03T13:23:26.146Z"
   },
   {
    "duration": 10,
    "start_time": "2024-12-03T13:23:31.957Z"
   },
   {
    "duration": 9,
    "start_time": "2024-12-03T13:23:37.749Z"
   },
   {
    "duration": 10,
    "start_time": "2024-12-03T13:23:42.783Z"
   },
   {
    "duration": 11,
    "start_time": "2024-12-03T13:26:26.324Z"
   },
   {
    "duration": 10,
    "start_time": "2024-12-03T13:26:32.930Z"
   },
   {
    "duration": 1427,
    "start_time": "2024-12-03T14:07:36.947Z"
   },
   {
    "duration": 6,
    "start_time": "2024-12-03T14:07:45.069Z"
   },
   {
    "duration": 12,
    "start_time": "2024-12-03T14:07:50.674Z"
   },
   {
    "duration": 7,
    "start_time": "2024-12-03T14:08:33.519Z"
   },
   {
    "duration": 81,
    "start_time": "2024-12-03T14:08:45.311Z"
   },
   {
    "duration": 53,
    "start_time": "2024-12-04T11:07:55.395Z"
   },
   {
    "duration": 1411,
    "start_time": "2024-12-04T11:08:03.086Z"
   },
   {
    "duration": 298,
    "start_time": "2024-12-04T11:08:04.499Z"
   },
   {
    "duration": 5,
    "start_time": "2024-12-04T11:08:04.799Z"
   },
   {
    "duration": 66,
    "start_time": "2024-12-04T11:08:04.806Z"
   },
   {
    "duration": 26,
    "start_time": "2024-12-04T11:08:04.874Z"
   },
   {
    "duration": 817,
    "start_time": "2024-12-04T11:08:04.902Z"
   },
   {
    "duration": 8,
    "start_time": "2024-12-04T11:08:05.721Z"
   },
   {
    "duration": 145,
    "start_time": "2024-12-04T11:08:05.731Z"
   },
   {
    "duration": 43,
    "start_time": "2024-12-04T11:08:05.878Z"
   },
   {
    "duration": 21,
    "start_time": "2024-12-04T11:08:05.923Z"
   },
   {
    "duration": 83,
    "start_time": "2024-12-04T11:08:05.946Z"
   },
   {
    "duration": 29,
    "start_time": "2024-12-04T11:08:06.030Z"
   },
   {
    "duration": 14,
    "start_time": "2024-12-04T11:08:06.061Z"
   },
   {
    "duration": 5,
    "start_time": "2024-12-04T11:08:06.077Z"
   },
   {
    "duration": 36,
    "start_time": "2024-12-04T11:08:06.083Z"
   },
   {
    "duration": 17,
    "start_time": "2024-12-04T11:08:06.121Z"
   },
   {
    "duration": 4,
    "start_time": "2024-12-04T11:08:06.140Z"
   },
   {
    "duration": 153,
    "start_time": "2024-12-04T11:08:06.146Z"
   },
   {
    "duration": 90,
    "start_time": "2024-12-04T11:08:06.300Z"
   },
   {
    "duration": 296,
    "start_time": "2024-12-04T11:08:06.392Z"
   },
   {
    "duration": 8,
    "start_time": "2024-12-04T11:08:06.690Z"
   },
   {
    "duration": 124,
    "start_time": "2024-12-04T11:08:06.699Z"
   },
   {
    "duration": 269,
    "start_time": "2024-12-04T11:08:06.824Z"
   },
   {
    "duration": 12,
    "start_time": "2024-12-04T11:08:07.095Z"
   },
   {
    "duration": 19,
    "start_time": "2024-12-04T11:08:07.108Z"
   },
   {
    "duration": 24,
    "start_time": "2024-12-04T11:08:07.129Z"
   },
   {
    "duration": 368,
    "start_time": "2024-12-04T11:08:07.154Z"
   },
   {
    "duration": 127,
    "start_time": "2024-12-04T11:08:07.525Z"
   },
   {
    "duration": 270,
    "start_time": "2024-12-04T11:08:07.653Z"
   },
   {
    "duration": 14,
    "start_time": "2024-12-04T11:08:07.924Z"
   },
   {
    "duration": 81,
    "start_time": "2024-12-04T11:08:07.939Z"
   },
   {
    "duration": 134,
    "start_time": "2024-12-04T11:08:08.022Z"
   },
   {
    "duration": 6,
    "start_time": "2024-12-04T11:08:08.158Z"
   },
   {
    "duration": 24,
    "start_time": "2024-12-04T11:08:08.166Z"
   },
   {
    "duration": 4,
    "start_time": "2024-12-04T11:08:08.191Z"
   },
   {
    "duration": 364,
    "start_time": "2024-12-04T11:08:08.197Z"
   },
   {
    "duration": 11,
    "start_time": "2024-12-04T11:08:08.562Z"
   },
   {
    "duration": 16,
    "start_time": "2024-12-04T11:08:08.574Z"
   },
   {
    "duration": 12,
    "start_time": "2024-12-04T11:08:08.592Z"
   },
   {
    "duration": 49,
    "start_time": "2024-12-04T11:08:08.606Z"
   },
   {
    "duration": 15,
    "start_time": "2024-12-04T11:08:08.657Z"
   },
   {
    "duration": 6,
    "start_time": "2024-12-04T11:08:08.674Z"
   },
   {
    "duration": 18,
    "start_time": "2024-12-04T11:08:08.682Z"
   },
   {
    "duration": 36,
    "start_time": "2024-12-04T11:08:08.702Z"
   },
   {
    "duration": 31,
    "start_time": "2024-12-04T11:08:08.739Z"
   },
   {
    "duration": 25,
    "start_time": "2024-12-04T11:08:08.772Z"
   },
   {
    "duration": 411,
    "start_time": "2024-12-04T11:08:08.799Z"
   },
   {
    "duration": 329,
    "start_time": "2024-12-04T11:08:09.211Z"
   },
   {
    "duration": 4,
    "start_time": "2024-12-04T11:08:09.541Z"
   },
   {
    "duration": 27,
    "start_time": "2024-12-04T11:08:10.010Z"
   },
   {
    "duration": 27,
    "start_time": "2024-12-04T11:08:14.302Z"
   },
   {
    "duration": 4,
    "start_time": "2024-12-04T11:08:28.558Z"
   },
   {
    "duration": 490,
    "start_time": "2024-12-04T11:08:31.309Z"
   },
   {
    "duration": 70,
    "start_time": "2024-12-04T11:10:19.261Z"
   },
   {
    "duration": 10,
    "start_time": "2024-12-04T11:10:30.956Z"
   },
   {
    "duration": 9,
    "start_time": "2024-12-04T11:10:47.761Z"
   },
   {
    "duration": 9,
    "start_time": "2024-12-04T11:10:51.295Z"
   },
   {
    "duration": 6,
    "start_time": "2024-12-04T11:11:50.654Z"
   },
   {
    "duration": 5,
    "start_time": "2024-12-04T11:11:55.423Z"
   },
   {
    "duration": 6,
    "start_time": "2024-12-04T11:12:05.456Z"
   },
   {
    "duration": 10,
    "start_time": "2024-12-04T11:13:11.704Z"
   },
   {
    "duration": 14,
    "start_time": "2024-12-04T11:27:53.871Z"
   },
   {
    "duration": 6,
    "start_time": "2024-12-04T11:54:02.577Z"
   },
   {
    "duration": 4,
    "start_time": "2024-12-04T11:54:13.393Z"
   },
   {
    "duration": 13,
    "start_time": "2024-12-04T13:01:47.806Z"
   },
   {
    "duration": 4,
    "start_time": "2024-12-04T13:02:01.477Z"
   },
   {
    "duration": 233,
    "start_time": "2024-12-04T13:06:48.023Z"
   },
   {
    "duration": 2478,
    "start_time": "2024-12-04T13:07:35.403Z"
   },
   {
    "duration": 632,
    "start_time": "2024-12-04T13:08:44.912Z"
   },
   {
    "duration": 2298,
    "start_time": "2024-12-04T13:08:58.328Z"
   },
   {
    "duration": 5,
    "start_time": "2024-12-04T13:15:05.401Z"
   },
   {
    "duration": 5,
    "start_time": "2024-12-04T13:52:20.360Z"
   },
   {
    "duration": 31,
    "start_time": "2024-12-04T13:55:56.858Z"
   },
   {
    "duration": 80,
    "start_time": "2024-12-04T13:56:05.103Z"
   },
   {
    "duration": 30,
    "start_time": "2024-12-04T13:56:15.794Z"
   },
   {
    "duration": 81,
    "start_time": "2024-12-04T13:56:28.279Z"
   },
   {
    "duration": 61,
    "start_time": "2024-12-04T13:56:40.681Z"
   },
   {
    "duration": 82,
    "start_time": "2024-12-04T13:57:11.662Z"
   },
   {
    "duration": 118,
    "start_time": "2024-12-04T13:57:40.758Z"
   },
   {
    "duration": 58,
    "start_time": "2024-12-04T13:57:52.382Z"
   },
   {
    "duration": 46,
    "start_time": "2024-12-04T13:58:25.754Z"
   },
   {
    "duration": 6,
    "start_time": "2024-12-04T13:59:20.845Z"
   },
   {
    "duration": 55,
    "start_time": "2024-12-04T13:59:30.065Z"
   },
   {
    "duration": 170,
    "start_time": "2024-12-04T14:03:59.816Z"
   },
   {
    "duration": 4,
    "start_time": "2024-12-04T14:04:14.710Z"
   },
   {
    "duration": 59,
    "start_time": "2024-12-04T14:04:30.141Z"
   },
   {
    "duration": 5,
    "start_time": "2024-12-04T14:05:07.981Z"
   },
   {
    "duration": 5,
    "start_time": "2024-12-04T14:05:29.762Z"
   },
   {
    "duration": 142,
    "start_time": "2024-12-04T14:05:33.068Z"
   },
   {
    "duration": 521,
    "start_time": "2024-12-04T14:05:39.737Z"
   },
   {
    "duration": 172,
    "start_time": "2024-12-04T14:06:19.256Z"
   },
   {
    "duration": 175,
    "start_time": "2024-12-04T14:06:22.103Z"
   },
   {
    "duration": 533,
    "start_time": "2024-12-04T14:07:03.885Z"
   },
   {
    "duration": 170,
    "start_time": "2024-12-04T14:07:13.541Z"
   },
   {
    "duration": 174,
    "start_time": "2024-12-04T14:09:37.269Z"
   },
   {
    "duration": 4,
    "start_time": "2024-12-04T14:10:01.708Z"
   },
   {
    "duration": 4,
    "start_time": "2024-12-04T14:10:21.375Z"
   },
   {
    "duration": 2437,
    "start_time": "2024-12-04T14:12:26.345Z"
   },
   {
    "duration": 322,
    "start_time": "2024-12-04T14:13:32.114Z"
   },
   {
    "duration": 20,
    "start_time": "2024-12-04T14:21:00.921Z"
   },
   {
    "duration": 2412,
    "start_time": "2024-12-04T14:21:17.421Z"
   },
   {
    "duration": 2835,
    "start_time": "2024-12-04T14:26:11.522Z"
   },
   {
    "duration": 2337,
    "start_time": "2024-12-04T14:26:27.538Z"
   },
   {
    "duration": 266,
    "start_time": "2024-12-04T14:26:41.698Z"
   },
   {
    "duration": 587,
    "start_time": "2024-12-04T14:27:13.572Z"
   },
   {
    "duration": 532,
    "start_time": "2024-12-04T14:27:20.772Z"
   },
   {
    "duration": 2442,
    "start_time": "2024-12-04T14:59:04.504Z"
   },
   {
    "duration": 2581,
    "start_time": "2024-12-04T15:17:29.065Z"
   },
   {
    "duration": 24,
    "start_time": "2024-12-04T15:22:41.340Z"
   },
   {
    "duration": 2557,
    "start_time": "2024-12-04T15:23:17.925Z"
   },
   {
    "duration": 5,
    "start_time": "2024-12-04T16:01:50.081Z"
   },
   {
    "duration": 13,
    "start_time": "2024-12-04T16:06:33.257Z"
   },
   {
    "duration": 11,
    "start_time": "2024-12-04T16:10:45.467Z"
   },
   {
    "duration": 118,
    "start_time": "2024-12-04T16:11:01.359Z"
   },
   {
    "duration": 143,
    "start_time": "2024-12-04T16:11:13.592Z"
   },
   {
    "duration": 131,
    "start_time": "2024-12-04T16:11:18.187Z"
   },
   {
    "duration": 285,
    "start_time": "2024-12-04T16:12:10.354Z"
   },
   {
    "duration": 136,
    "start_time": "2024-12-04T16:12:15.722Z"
   },
   {
    "duration": 161,
    "start_time": "2024-12-04T16:13:05.892Z"
   },
   {
    "duration": 152,
    "start_time": "2024-12-04T16:13:29.770Z"
   },
   {
    "duration": 155,
    "start_time": "2024-12-04T16:13:43.451Z"
   },
   {
    "duration": 164,
    "start_time": "2024-12-04T16:17:12.278Z"
   },
   {
    "duration": 167,
    "start_time": "2024-12-04T16:17:36.703Z"
   },
   {
    "duration": 154,
    "start_time": "2024-12-04T16:19:21.357Z"
   },
   {
    "duration": 5,
    "start_time": "2024-12-04T16:21:11.909Z"
   },
   {
    "duration": 3,
    "start_time": "2024-12-04T16:30:53.678Z"
   },
   {
    "duration": 5,
    "start_time": "2024-12-04T16:31:39.460Z"
   },
   {
    "duration": 4,
    "start_time": "2024-12-04T16:32:03.475Z"
   },
   {
    "duration": 53,
    "start_time": "2024-12-05T10:19:12.834Z"
   },
   {
    "duration": 1500,
    "start_time": "2024-12-05T10:19:16.768Z"
   },
   {
    "duration": 372,
    "start_time": "2024-12-05T10:19:18.270Z"
   },
   {
    "duration": 4,
    "start_time": "2024-12-05T10:19:18.644Z"
   },
   {
    "duration": 21,
    "start_time": "2024-12-05T10:19:18.650Z"
   },
   {
    "duration": 27,
    "start_time": "2024-12-05T10:19:18.672Z"
   },
   {
    "duration": 883,
    "start_time": "2024-12-05T10:19:18.701Z"
   },
   {
    "duration": 9,
    "start_time": "2024-12-05T10:19:19.598Z"
   },
   {
    "duration": 16,
    "start_time": "2024-12-05T10:19:19.609Z"
   },
   {
    "duration": 17,
    "start_time": "2024-12-05T10:19:19.627Z"
   },
   {
    "duration": 11,
    "start_time": "2024-12-05T10:19:19.647Z"
   },
   {
    "duration": 28,
    "start_time": "2024-12-05T10:19:19.659Z"
   },
   {
    "duration": 19,
    "start_time": "2024-12-05T10:19:19.689Z"
   },
   {
    "duration": 13,
    "start_time": "2024-12-05T10:19:19.710Z"
   },
   {
    "duration": 18,
    "start_time": "2024-12-05T10:19:19.726Z"
   },
   {
    "duration": 39,
    "start_time": "2024-12-05T10:19:19.745Z"
   },
   {
    "duration": 30,
    "start_time": "2024-12-05T10:19:19.786Z"
   },
   {
    "duration": 5,
    "start_time": "2024-12-05T10:19:19.817Z"
   },
   {
    "duration": 196,
    "start_time": "2024-12-05T10:19:19.823Z"
   },
   {
    "duration": 94,
    "start_time": "2024-12-05T10:19:20.021Z"
   },
   {
    "duration": 299,
    "start_time": "2024-12-05T10:19:20.117Z"
   },
   {
    "duration": 8,
    "start_time": "2024-12-05T10:19:20.418Z"
   },
   {
    "duration": 128,
    "start_time": "2024-12-05T10:19:20.428Z"
   },
   {
    "duration": 270,
    "start_time": "2024-12-05T10:19:20.557Z"
   },
   {
    "duration": 12,
    "start_time": "2024-12-05T10:19:20.828Z"
   },
   {
    "duration": 42,
    "start_time": "2024-12-05T10:19:20.842Z"
   },
   {
    "duration": 27,
    "start_time": "2024-12-05T10:19:20.885Z"
   },
   {
    "duration": 341,
    "start_time": "2024-12-05T10:19:20.913Z"
   },
   {
    "duration": 124,
    "start_time": "2024-12-05T10:19:21.258Z"
   },
   {
    "duration": 262,
    "start_time": "2024-12-05T10:19:21.383Z"
   },
   {
    "duration": 13,
    "start_time": "2024-12-05T10:19:21.647Z"
   },
   {
    "duration": 19,
    "start_time": "2024-12-05T10:19:21.661Z"
   },
   {
    "duration": 133,
    "start_time": "2024-12-05T10:19:21.682Z"
   },
   {
    "duration": 5,
    "start_time": "2024-12-05T10:19:21.816Z"
   },
   {
    "duration": 14,
    "start_time": "2024-12-05T10:19:21.823Z"
   },
   {
    "duration": 7,
    "start_time": "2024-12-05T10:19:21.839Z"
   },
   {
    "duration": 275,
    "start_time": "2024-12-05T10:19:21.848Z"
   },
   {
    "duration": 11,
    "start_time": "2024-12-05T10:19:22.125Z"
   },
   {
    "duration": 29,
    "start_time": "2024-12-05T10:19:22.137Z"
   },
   {
    "duration": 12,
    "start_time": "2024-12-05T10:19:22.167Z"
   },
   {
    "duration": 51,
    "start_time": "2024-12-05T10:19:22.181Z"
   },
   {
    "duration": 8,
    "start_time": "2024-12-05T10:19:22.234Z"
   },
   {
    "duration": 8,
    "start_time": "2024-12-05T10:19:22.243Z"
   },
   {
    "duration": 20,
    "start_time": "2024-12-05T10:19:22.253Z"
   },
   {
    "duration": 8,
    "start_time": "2024-12-05T10:19:22.275Z"
   },
   {
    "duration": 105,
    "start_time": "2024-12-05T10:19:22.285Z"
   },
   {
    "duration": 7,
    "start_time": "2024-12-05T10:19:22.397Z"
   },
   {
    "duration": 354,
    "start_time": "2024-12-05T10:19:22.405Z"
   },
   {
    "duration": 318,
    "start_time": "2024-12-05T10:19:22.761Z"
   },
   {
    "duration": 5,
    "start_time": "2024-12-05T10:19:23.081Z"
   },
   {
    "duration": 67,
    "start_time": "2024-12-05T10:19:23.087Z"
   },
   {
    "duration": 7,
    "start_time": "2024-12-05T10:19:23.155Z"
   },
   {
    "duration": 22,
    "start_time": "2024-12-05T10:19:23.163Z"
   },
   {
    "duration": 486,
    "start_time": "2024-12-05T10:19:23.187Z"
   },
   {
    "duration": 23,
    "start_time": "2024-12-05T10:19:23.675Z"
   },
   {
    "duration": 7,
    "start_time": "2024-12-05T10:19:23.700Z"
   },
   {
    "duration": 17,
    "start_time": "2024-12-05T10:19:23.709Z"
   },
   {
    "duration": 79,
    "start_time": "2024-12-05T10:19:23.728Z"
   },
   {
    "duration": 0,
    "start_time": "2024-12-05T10:19:23.809Z"
   },
   {
    "duration": 0,
    "start_time": "2024-12-05T10:19:23.810Z"
   },
   {
    "duration": 0,
    "start_time": "2024-12-05T10:19:23.812Z"
   },
   {
    "duration": 0,
    "start_time": "2024-12-05T10:19:23.813Z"
   },
   {
    "duration": 0,
    "start_time": "2024-12-05T10:19:23.814Z"
   },
   {
    "duration": 0,
    "start_time": "2024-12-05T10:19:23.816Z"
   },
   {
    "duration": 0,
    "start_time": "2024-12-05T10:19:23.817Z"
   },
   {
    "duration": 12,
    "start_time": "2024-12-05T10:19:42.501Z"
   },
   {
    "duration": 8,
    "start_time": "2024-12-05T10:20:35.482Z"
   },
   {
    "duration": 4,
    "start_time": "2024-12-05T10:30:03.525Z"
   },
   {
    "duration": 2385,
    "start_time": "2024-12-05T10:30:17.776Z"
   },
   {
    "duration": 23,
    "start_time": "2024-12-05T10:30:29.031Z"
   },
   {
    "duration": 5,
    "start_time": "2024-12-05T10:30:31.990Z"
   },
   {
    "duration": 23,
    "start_time": "2024-12-05T10:30:32.626Z"
   },
   {
    "duration": 5,
    "start_time": "2024-12-05T10:30:37.096Z"
   },
   {
    "duration": 3,
    "start_time": "2024-12-05T10:30:37.782Z"
   },
   {
    "duration": 3,
    "start_time": "2024-12-05T10:30:50.397Z"
   },
   {
    "duration": 4,
    "start_time": "2024-12-05T10:31:01.881Z"
   },
   {
    "duration": 306,
    "start_time": "2024-12-05T10:31:02.516Z"
   },
   {
    "duration": 4,
    "start_time": "2024-12-05T10:31:05.287Z"
   },
   {
    "duration": 3,
    "start_time": "2024-12-05T10:31:54.318Z"
   },
   {
    "duration": 4,
    "start_time": "2024-12-05T10:31:58.296Z"
   },
   {
    "duration": 2466,
    "start_time": "2024-12-05T10:32:03.356Z"
   },
   {
    "duration": 2589,
    "start_time": "2024-12-05T10:32:16.457Z"
   },
   {
    "duration": 1493,
    "start_time": "2024-12-05T11:12:02.765Z"
   },
   {
    "duration": 371,
    "start_time": "2024-12-05T11:12:04.260Z"
   },
   {
    "duration": 4,
    "start_time": "2024-12-05T11:12:04.633Z"
   },
   {
    "duration": 24,
    "start_time": "2024-12-05T11:12:04.639Z"
   },
   {
    "duration": 30,
    "start_time": "2024-12-05T11:12:04.665Z"
   },
   {
    "duration": 888,
    "start_time": "2024-12-05T11:12:04.697Z"
   },
   {
    "duration": 9,
    "start_time": "2024-12-05T11:12:05.587Z"
   },
   {
    "duration": 7,
    "start_time": "2024-12-05T11:12:05.598Z"
   },
   {
    "duration": 19,
    "start_time": "2024-12-05T11:12:05.607Z"
   },
   {
    "duration": 27,
    "start_time": "2024-12-05T11:12:05.628Z"
   },
   {
    "duration": 36,
    "start_time": "2024-12-05T11:12:05.657Z"
   },
   {
    "duration": 43,
    "start_time": "2024-12-05T11:12:05.695Z"
   },
   {
    "duration": 11,
    "start_time": "2024-12-05T11:12:05.739Z"
   },
   {
    "duration": 91,
    "start_time": "2024-12-05T11:12:05.752Z"
   },
   {
    "duration": 39,
    "start_time": "2024-12-05T11:12:05.845Z"
   },
   {
    "duration": 19,
    "start_time": "2024-12-05T11:12:05.886Z"
   },
   {
    "duration": 23,
    "start_time": "2024-12-05T11:12:05.906Z"
   },
   {
    "duration": 182,
    "start_time": "2024-12-05T11:12:05.930Z"
   },
   {
    "duration": 102,
    "start_time": "2024-12-05T11:12:06.114Z"
   },
   {
    "duration": 340,
    "start_time": "2024-12-05T11:12:06.217Z"
   },
   {
    "duration": 13,
    "start_time": "2024-12-05T11:12:06.560Z"
   },
   {
    "duration": 138,
    "start_time": "2024-12-05T11:12:06.576Z"
   },
   {
    "duration": 305,
    "start_time": "2024-12-05T11:12:06.715Z"
   },
   {
    "duration": 13,
    "start_time": "2024-12-05T11:12:07.021Z"
   },
   {
    "duration": 17,
    "start_time": "2024-12-05T11:12:07.036Z"
   },
   {
    "duration": 18,
    "start_time": "2024-12-05T11:12:07.054Z"
   },
   {
    "duration": 461,
    "start_time": "2024-12-05T11:12:07.074Z"
   },
   {
    "duration": 130,
    "start_time": "2024-12-05T11:12:07.539Z"
   },
   {
    "duration": 308,
    "start_time": "2024-12-05T11:12:07.674Z"
   },
   {
    "duration": 14,
    "start_time": "2024-12-05T11:12:07.983Z"
   },
   {
    "duration": 25,
    "start_time": "2024-12-05T11:12:07.999Z"
   },
   {
    "duration": 150,
    "start_time": "2024-12-05T11:12:08.026Z"
   },
   {
    "duration": 5,
    "start_time": "2024-12-05T11:12:08.178Z"
   },
   {
    "duration": 58,
    "start_time": "2024-12-05T11:12:08.184Z"
   },
   {
    "duration": 4,
    "start_time": "2024-12-05T11:12:08.243Z"
   },
   {
    "duration": 319,
    "start_time": "2024-12-05T11:12:08.249Z"
   },
   {
    "duration": 13,
    "start_time": "2024-12-05T11:12:08.571Z"
   },
   {
    "duration": 25,
    "start_time": "2024-12-05T11:12:08.586Z"
   },
   {
    "duration": 12,
    "start_time": "2024-12-05T11:12:08.613Z"
   },
   {
    "duration": 49,
    "start_time": "2024-12-05T11:12:08.626Z"
   },
   {
    "duration": 11,
    "start_time": "2024-12-05T11:12:08.677Z"
   },
   {
    "duration": 7,
    "start_time": "2024-12-05T11:12:08.689Z"
   },
   {
    "duration": 9,
    "start_time": "2024-12-05T11:12:08.697Z"
   },
   {
    "duration": 24,
    "start_time": "2024-12-05T11:12:08.708Z"
   },
   {
    "duration": 118,
    "start_time": "2024-12-05T11:12:08.734Z"
   },
   {
    "duration": 16,
    "start_time": "2024-12-05T11:12:08.854Z"
   },
   {
    "duration": 432,
    "start_time": "2024-12-05T11:12:08.873Z"
   },
   {
    "duration": 374,
    "start_time": "2024-12-05T11:12:09.307Z"
   },
   {
    "duration": 5,
    "start_time": "2024-12-05T11:12:09.682Z"
   },
   {
    "duration": 30,
    "start_time": "2024-12-05T11:12:09.688Z"
   },
   {
    "duration": 7,
    "start_time": "2024-12-05T11:12:09.719Z"
   },
   {
    "duration": 28,
    "start_time": "2024-12-05T11:12:09.727Z"
   },
   {
    "duration": 593,
    "start_time": "2024-12-05T11:12:09.760Z"
   },
   {
    "duration": 15,
    "start_time": "2024-12-05T11:12:10.356Z"
   },
   {
    "duration": 10,
    "start_time": "2024-12-05T11:12:10.373Z"
   },
   {
    "duration": 22,
    "start_time": "2024-12-05T11:12:10.385Z"
   },
   {
    "duration": 2826,
    "start_time": "2024-12-05T11:12:10.408Z"
   },
   {
    "duration": 46,
    "start_time": "2024-12-05T11:12:13.236Z"
   },
   {
    "duration": 4,
    "start_time": "2024-12-05T11:12:13.284Z"
   },
   {
    "duration": 26,
    "start_time": "2024-12-05T11:12:13.290Z"
   },
   {
    "duration": 7,
    "start_time": "2024-12-05T11:12:13.317Z"
   },
   {
    "duration": 372,
    "start_time": "2024-12-05T11:12:13.326Z"
   },
   {
    "duration": 5,
    "start_time": "2024-12-05T11:12:13.700Z"
   },
   {
    "duration": 1246,
    "start_time": "2024-12-05T11:18:05.334Z"
   },
   {
    "duration": 76,
    "start_time": "2024-12-05T11:18:06.582Z"
   },
   {
    "duration": 7,
    "start_time": "2024-12-05T11:18:06.661Z"
   },
   {
    "duration": 23,
    "start_time": "2024-12-05T11:18:06.670Z"
   },
   {
    "duration": 48,
    "start_time": "2024-12-05T11:18:06.694Z"
   },
   {
    "duration": 913,
    "start_time": "2024-12-05T11:18:06.743Z"
   },
   {
    "duration": 14,
    "start_time": "2024-12-05T11:18:07.659Z"
   },
   {
    "duration": 18,
    "start_time": "2024-12-05T11:18:07.676Z"
   },
   {
    "duration": 26,
    "start_time": "2024-12-05T11:18:07.696Z"
   },
   {
    "duration": 21,
    "start_time": "2024-12-05T11:18:07.725Z"
   },
   {
    "duration": 39,
    "start_time": "2024-12-05T11:18:07.749Z"
   },
   {
    "duration": 33,
    "start_time": "2024-12-05T11:18:07.790Z"
   },
   {
    "duration": 17,
    "start_time": "2024-12-05T11:18:07.825Z"
   },
   {
    "duration": 12,
    "start_time": "2024-12-05T11:18:07.844Z"
   },
   {
    "duration": 36,
    "start_time": "2024-12-05T11:18:07.859Z"
   },
   {
    "duration": 30,
    "start_time": "2024-12-05T11:18:07.897Z"
   },
   {
    "duration": 5,
    "start_time": "2024-12-05T11:18:07.928Z"
   },
   {
    "duration": 180,
    "start_time": "2024-12-05T11:18:07.935Z"
   },
   {
    "duration": 109,
    "start_time": "2024-12-05T11:18:08.117Z"
   },
   {
    "duration": 337,
    "start_time": "2024-12-05T11:18:08.228Z"
   },
   {
    "duration": 8,
    "start_time": "2024-12-05T11:18:08.567Z"
   },
   {
    "duration": 119,
    "start_time": "2024-12-05T11:18:08.576Z"
   },
   {
    "duration": 269,
    "start_time": "2024-12-05T11:18:08.697Z"
   },
   {
    "duration": 13,
    "start_time": "2024-12-05T11:18:08.968Z"
   },
   {
    "duration": 56,
    "start_time": "2024-12-05T11:18:08.983Z"
   },
   {
    "duration": 28,
    "start_time": "2024-12-05T11:18:09.041Z"
   },
   {
    "duration": 356,
    "start_time": "2024-12-05T11:18:09.072Z"
   },
   {
    "duration": 151,
    "start_time": "2024-12-05T11:18:09.432Z"
   },
   {
    "duration": 295,
    "start_time": "2024-12-05T11:18:09.584Z"
   },
   {
    "duration": 15,
    "start_time": "2024-12-05T11:18:09.883Z"
   },
   {
    "duration": 20,
    "start_time": "2024-12-05T11:18:09.899Z"
   },
   {
    "duration": 135,
    "start_time": "2024-12-05T11:18:09.921Z"
   },
   {
    "duration": 8,
    "start_time": "2024-12-05T11:18:10.060Z"
   },
   {
    "duration": 38,
    "start_time": "2024-12-05T11:18:10.070Z"
   },
   {
    "duration": 24,
    "start_time": "2024-12-05T11:18:10.110Z"
   },
   {
    "duration": 308,
    "start_time": "2024-12-05T11:18:10.136Z"
   },
   {
    "duration": 15,
    "start_time": "2024-12-05T11:18:10.451Z"
   },
   {
    "duration": 34,
    "start_time": "2024-12-05T11:18:10.468Z"
   },
   {
    "duration": 14,
    "start_time": "2024-12-05T11:18:10.503Z"
   },
   {
    "duration": 63,
    "start_time": "2024-12-05T11:18:10.519Z"
   },
   {
    "duration": 21,
    "start_time": "2024-12-05T11:18:10.584Z"
   },
   {
    "duration": 24,
    "start_time": "2024-12-05T11:18:10.607Z"
   },
   {
    "duration": 12,
    "start_time": "2024-12-05T11:18:10.632Z"
   },
   {
    "duration": 50,
    "start_time": "2024-12-05T11:18:10.646Z"
   },
   {
    "duration": 15,
    "start_time": "2024-12-05T11:18:10.698Z"
   },
   {
    "duration": 18,
    "start_time": "2024-12-05T11:18:10.714Z"
   },
   {
    "duration": 534,
    "start_time": "2024-12-05T11:18:10.734Z"
   },
   {
    "duration": 385,
    "start_time": "2024-12-05T11:18:11.271Z"
   },
   {
    "duration": 5,
    "start_time": "2024-12-05T11:18:11.658Z"
   },
   {
    "duration": 46,
    "start_time": "2024-12-05T11:18:11.665Z"
   },
   {
    "duration": 7,
    "start_time": "2024-12-05T11:18:11.713Z"
   },
   {
    "duration": 19,
    "start_time": "2024-12-05T11:18:11.721Z"
   },
   {
    "duration": 587,
    "start_time": "2024-12-05T11:18:11.742Z"
   },
   {
    "duration": 10,
    "start_time": "2024-12-05T11:18:12.331Z"
   },
   {
    "duration": 23,
    "start_time": "2024-12-05T11:18:12.353Z"
   },
   {
    "duration": 24,
    "start_time": "2024-12-05T11:18:12.378Z"
   },
   {
    "duration": 2594,
    "start_time": "2024-12-05T11:18:12.403Z"
   },
   {
    "duration": 27,
    "start_time": "2024-12-05T11:18:14.998Z"
   },
   {
    "duration": 75,
    "start_time": "2024-12-05T11:18:15.026Z"
   },
   {
    "duration": 228,
    "start_time": "2024-12-05T11:18:15.102Z"
   },
   {
    "duration": 33,
    "start_time": "2024-12-05T11:18:15.332Z"
   },
   {
    "duration": 374,
    "start_time": "2024-12-05T11:18:15.367Z"
   },
   {
    "duration": 8,
    "start_time": "2024-12-05T11:18:15.751Z"
   },
   {
    "duration": 4,
    "start_time": "2024-12-05T11:19:45.116Z"
   },
   {
    "duration": 4,
    "start_time": "2024-12-05T11:19:51.490Z"
   },
   {
    "duration": 121,
    "start_time": "2024-12-05T11:20:40.191Z"
   },
   {
    "duration": 8,
    "start_time": "2024-12-05T11:20:46.918Z"
   },
   {
    "duration": 15,
    "start_time": "2024-12-05T11:20:51.353Z"
   },
   {
    "duration": 272,
    "start_time": "2024-12-05T17:04:17.671Z"
   },
   {
    "duration": 268,
    "start_time": "2024-12-05T17:06:25.538Z"
   },
   {
    "duration": 267,
    "start_time": "2024-12-05T17:06:45.459Z"
   },
   {
    "duration": 247,
    "start_time": "2024-12-05T17:07:14.357Z"
   },
   {
    "duration": 462,
    "start_time": "2024-12-05T17:07:21.592Z"
   },
   {
    "duration": 253,
    "start_time": "2024-12-05T17:07:37.774Z"
   },
   {
    "duration": 10,
    "start_time": "2024-12-05T17:08:06.517Z"
   },
   {
    "duration": 144,
    "start_time": "2024-12-05T17:12:16.839Z"
   },
   {
    "duration": 203,
    "start_time": "2024-12-05T17:17:09.392Z"
   },
   {
    "duration": 144,
    "start_time": "2024-12-05T17:18:15.265Z"
   },
   {
    "duration": 152,
    "start_time": "2024-12-05T17:18:47.433Z"
   },
   {
    "duration": 162,
    "start_time": "2024-12-05T17:19:06.945Z"
   },
   {
    "duration": 156,
    "start_time": "2024-12-05T17:20:29.641Z"
   },
   {
    "duration": 241,
    "start_time": "2024-12-05T17:20:49.687Z"
   },
   {
    "duration": 140,
    "start_time": "2024-12-05T17:20:54.430Z"
   },
   {
    "duration": 142,
    "start_time": "2024-12-05T17:21:09.207Z"
   },
   {
    "duration": 135,
    "start_time": "2024-12-05T17:21:12.588Z"
   },
   {
    "duration": 5,
    "start_time": "2024-12-05T17:21:51.379Z"
   },
   {
    "duration": 104,
    "start_time": "2024-12-05T17:22:54.843Z"
   },
   {
    "duration": 121,
    "start_time": "2024-12-05T17:23:23.786Z"
   },
   {
    "duration": 135,
    "start_time": "2024-12-05T17:23:55.290Z"
   },
   {
    "duration": 641,
    "start_time": "2024-12-05T17:25:31.869Z"
   },
   {
    "duration": 506,
    "start_time": "2024-12-05T17:26:22.045Z"
   },
   {
    "duration": 410,
    "start_time": "2024-12-05T17:31:34.620Z"
   },
   {
    "duration": 413,
    "start_time": "2024-12-05T17:32:28.644Z"
   },
   {
    "duration": 409,
    "start_time": "2024-12-05T17:32:35.354Z"
   },
   {
    "duration": 426,
    "start_time": "2024-12-05T17:32:52.765Z"
   },
   {
    "duration": 152,
    "start_time": "2024-12-05T17:34:12.032Z"
   },
   {
    "duration": 115,
    "start_time": "2024-12-05T17:34:32.633Z"
   },
   {
    "duration": 218,
    "start_time": "2024-12-05T17:35:16.679Z"
   },
   {
    "duration": 193,
    "start_time": "2024-12-05T17:36:03.664Z"
   },
   {
    "duration": 178,
    "start_time": "2024-12-05T17:37:07.254Z"
   },
   {
    "duration": 173,
    "start_time": "2024-12-05T17:37:24.712Z"
   },
   {
    "duration": 174,
    "start_time": "2024-12-05T17:37:54.473Z"
   },
   {
    "duration": 167,
    "start_time": "2024-12-05T17:37:55.305Z"
   },
   {
    "duration": 206,
    "start_time": "2024-12-05T17:38:36.669Z"
   },
   {
    "duration": 305,
    "start_time": "2024-12-05T17:38:37.333Z"
   },
   {
    "duration": 25,
    "start_time": "2024-12-05T17:46:32.270Z"
   },
   {
    "duration": 4,
    "start_time": "2024-12-05T17:47:45.405Z"
   },
   {
    "duration": 461,
    "start_time": "2024-12-05T17:47:46.306Z"
   },
   {
    "duration": 9,
    "start_time": "2024-12-05T17:49:39.939Z"
   },
   {
    "duration": 8,
    "start_time": "2024-12-05T17:49:49.230Z"
   },
   {
    "duration": 9,
    "start_time": "2024-12-05T17:49:56.428Z"
   },
   {
    "duration": 11,
    "start_time": "2024-12-05T17:50:09.147Z"
   },
   {
    "duration": 8,
    "start_time": "2024-12-05T17:50:12.529Z"
   },
   {
    "duration": 6,
    "start_time": "2024-12-05T18:09:39.808Z"
   },
   {
    "duration": 4,
    "start_time": "2024-12-05T18:13:33.454Z"
   },
   {
    "duration": 70,
    "start_time": "2024-12-05T18:13:55.438Z"
   },
   {
    "duration": 5,
    "start_time": "2024-12-05T18:14:40.630Z"
   },
   {
    "duration": 4,
    "start_time": "2024-12-05T18:14:51.969Z"
   },
   {
    "duration": 21,
    "start_time": "2024-12-05T18:14:55.878Z"
   },
   {
    "duration": 5,
    "start_time": "2024-12-05T18:15:34.146Z"
   },
   {
    "duration": 5,
    "start_time": "2024-12-05T18:15:38.473Z"
   },
   {
    "duration": 4,
    "start_time": "2024-12-05T18:15:41.873Z"
   },
   {
    "duration": 4,
    "start_time": "2024-12-05T18:15:43.607Z"
   },
   {
    "duration": 37,
    "start_time": "2024-12-05T18:15:48.388Z"
   },
   {
    "duration": 4,
    "start_time": "2024-12-05T18:15:50.124Z"
   },
   {
    "duration": 5,
    "start_time": "2024-12-05T18:15:50.654Z"
   },
   {
    "duration": 25,
    "start_time": "2024-12-05T18:15:58.690Z"
   },
   {
    "duration": 2461,
    "start_time": "2024-12-05T18:19:29.407Z"
   },
   {
    "duration": 2530,
    "start_time": "2024-12-05T18:21:22.289Z"
   },
   {
    "duration": 4099,
    "start_time": "2024-12-05T18:22:09.211Z"
   },
   {
    "duration": 2501,
    "start_time": "2024-12-05T18:22:23.224Z"
   },
   {
    "duration": 2726,
    "start_time": "2024-12-05T18:22:41.171Z"
   },
   {
    "duration": 391,
    "start_time": "2024-12-05T18:22:59.546Z"
   },
   {
    "duration": 2375,
    "start_time": "2024-12-05T18:23:15.100Z"
   },
   {
    "duration": 5,
    "start_time": "2024-12-05T18:24:45.300Z"
   },
   {
    "duration": 170,
    "start_time": "2024-12-05T18:25:04.071Z"
   },
   {
    "duration": 162,
    "start_time": "2024-12-05T18:25:07.615Z"
   },
   {
    "duration": 5,
    "start_time": "2024-12-05T18:25:17.799Z"
   },
   {
    "duration": 28,
    "start_time": "2024-12-05T18:26:01.706Z"
   },
   {
    "duration": 176,
    "start_time": "2024-12-05T18:27:37.855Z"
   },
   {
    "duration": 4,
    "start_time": "2024-12-05T18:27:47.262Z"
   },
   {
    "duration": 4,
    "start_time": "2024-12-05T18:27:55.005Z"
   },
   {
    "duration": 49,
    "start_time": "2024-12-06T09:26:48.099Z"
   },
   {
    "duration": 1387,
    "start_time": "2024-12-06T09:26:53.064Z"
   },
   {
    "duration": 321,
    "start_time": "2024-12-06T09:26:54.453Z"
   },
   {
    "duration": 4,
    "start_time": "2024-12-06T09:26:54.776Z"
   },
   {
    "duration": 11,
    "start_time": "2024-12-06T09:26:54.782Z"
   },
   {
    "duration": 22,
    "start_time": "2024-12-06T09:26:54.794Z"
   },
   {
    "duration": 713,
    "start_time": "2024-12-06T09:26:54.817Z"
   },
   {
    "duration": 7,
    "start_time": "2024-12-06T09:26:55.531Z"
   },
   {
    "duration": 29,
    "start_time": "2024-12-06T09:26:55.539Z"
   },
   {
    "duration": 24,
    "start_time": "2024-12-06T09:26:55.569Z"
   },
   {
    "duration": 6,
    "start_time": "2024-12-06T09:26:55.595Z"
   },
   {
    "duration": 9,
    "start_time": "2024-12-06T09:26:55.602Z"
   },
   {
    "duration": 13,
    "start_time": "2024-12-06T09:26:55.612Z"
   },
   {
    "duration": 10,
    "start_time": "2024-12-06T09:26:55.626Z"
   },
   {
    "duration": 4,
    "start_time": "2024-12-06T09:26:55.637Z"
   },
   {
    "duration": 10,
    "start_time": "2024-12-06T09:26:55.642Z"
   },
   {
    "duration": 29,
    "start_time": "2024-12-06T09:26:55.653Z"
   },
   {
    "duration": 4,
    "start_time": "2024-12-06T09:26:55.684Z"
   },
   {
    "duration": 139,
    "start_time": "2024-12-06T09:26:55.690Z"
   },
   {
    "duration": 5,
    "start_time": "2024-12-06T09:26:55.830Z"
   },
   {
    "duration": 129,
    "start_time": "2024-12-06T09:26:55.837Z"
   },
   {
    "duration": 248,
    "start_time": "2024-12-06T09:26:55.968Z"
   },
   {
    "duration": 6,
    "start_time": "2024-12-06T09:26:56.217Z"
   },
   {
    "duration": 77,
    "start_time": "2024-12-06T09:26:56.224Z"
   },
   {
    "duration": 105,
    "start_time": "2024-12-06T09:26:56.303Z"
   },
   {
    "duration": 260,
    "start_time": "2024-12-06T09:26:56.410Z"
   },
   {
    "duration": 17,
    "start_time": "2024-12-06T09:26:56.684Z"
   },
   {
    "duration": 20,
    "start_time": "2024-12-06T09:26:56.703Z"
   },
   {
    "duration": 12,
    "start_time": "2024-12-06T09:26:56.727Z"
   },
   {
    "duration": 368,
    "start_time": "2024-12-06T09:26:56.740Z"
   },
   {
    "duration": 114,
    "start_time": "2024-12-06T09:26:57.110Z"
   },
   {
    "duration": 262,
    "start_time": "2024-12-06T09:26:57.227Z"
   },
   {
    "duration": 15,
    "start_time": "2024-12-06T09:26:57.491Z"
   },
   {
    "duration": 17,
    "start_time": "2024-12-06T09:26:57.508Z"
   },
   {
    "duration": 115,
    "start_time": "2024-12-06T09:26:57.526Z"
   },
   {
    "duration": 5,
    "start_time": "2024-12-06T09:26:57.643Z"
   },
   {
    "duration": 36,
    "start_time": "2024-12-06T09:26:57.650Z"
   },
   {
    "duration": 4,
    "start_time": "2024-12-06T09:26:57.689Z"
   },
   {
    "duration": 256,
    "start_time": "2024-12-06T09:26:57.695Z"
   },
   {
    "duration": 10,
    "start_time": "2024-12-06T09:26:57.952Z"
   },
   {
    "duration": 34,
    "start_time": "2024-12-06T09:26:57.963Z"
   },
   {
    "duration": 14,
    "start_time": "2024-12-06T09:26:57.999Z"
   },
   {
    "duration": 33,
    "start_time": "2024-12-06T09:26:58.015Z"
   },
   {
    "duration": 7,
    "start_time": "2024-12-06T09:26:58.050Z"
   },
   {
    "duration": 9,
    "start_time": "2024-12-06T09:26:58.058Z"
   },
   {
    "duration": 19,
    "start_time": "2024-12-06T09:26:58.069Z"
   },
   {
    "duration": 4,
    "start_time": "2024-12-06T09:26:58.089Z"
   },
   {
    "duration": 146,
    "start_time": "2024-12-06T09:26:58.094Z"
   },
   {
    "duration": 7,
    "start_time": "2024-12-06T09:26:58.242Z"
   },
   {
    "duration": 366,
    "start_time": "2024-12-06T09:26:58.250Z"
   },
   {
    "duration": 281,
    "start_time": "2024-12-06T09:26:58.617Z"
   },
   {
    "duration": 197,
    "start_time": "2024-12-06T09:26:58.900Z"
   },
   {
    "duration": 161,
    "start_time": "2024-12-06T09:26:59.098Z"
   },
   {
    "duration": 3,
    "start_time": "2024-12-06T09:26:59.261Z"
   },
   {
    "duration": 83,
    "start_time": "2024-12-06T09:26:59.265Z"
   },
   {
    "duration": 6,
    "start_time": "2024-12-06T09:26:59.349Z"
   },
   {
    "duration": 5,
    "start_time": "2024-12-06T09:26:59.357Z"
   },
   {
    "duration": 498,
    "start_time": "2024-12-06T09:26:59.363Z"
   },
   {
    "duration": 16,
    "start_time": "2024-12-06T09:26:59.863Z"
   },
   {
    "duration": 18,
    "start_time": "2024-12-06T09:26:59.881Z"
   },
   {
    "duration": 8,
    "start_time": "2024-12-06T09:26:59.901Z"
   },
   {
    "duration": 91,
    "start_time": "2024-12-06T09:26:59.911Z"
   },
   {
    "duration": 0,
    "start_time": "2024-12-06T09:27:00.003Z"
   },
   {
    "duration": 0,
    "start_time": "2024-12-06T09:27:00.004Z"
   },
   {
    "duration": 0,
    "start_time": "2024-12-06T09:27:00.005Z"
   },
   {
    "duration": 0,
    "start_time": "2024-12-06T09:27:00.006Z"
   },
   {
    "duration": 0,
    "start_time": "2024-12-06T09:27:00.007Z"
   },
   {
    "duration": 0,
    "start_time": "2024-12-06T09:27:00.008Z"
   },
   {
    "duration": 0,
    "start_time": "2024-12-06T09:27:00.009Z"
   },
   {
    "duration": 0,
    "start_time": "2024-12-06T09:27:00.010Z"
   },
   {
    "duration": 8,
    "start_time": "2024-12-06T09:27:15.119Z"
   },
   {
    "duration": 2006,
    "start_time": "2024-12-06T09:27:16.055Z"
   },
   {
    "duration": 41,
    "start_time": "2024-12-06T09:27:18.063Z"
   },
   {
    "duration": 12,
    "start_time": "2024-12-06T09:27:22.586Z"
   },
   {
    "duration": 94,
    "start_time": "2024-12-06T09:27:27.197Z"
   },
   {
    "duration": 6,
    "start_time": "2024-12-06T09:27:32.467Z"
   },
   {
    "duration": 14,
    "start_time": "2024-12-06T09:40:18.787Z"
   },
   {
    "duration": 62,
    "start_time": "2024-12-06T09:40:38.749Z"
   },
   {
    "duration": 159,
    "start_time": "2024-12-06T09:40:52.875Z"
   },
   {
    "duration": 2,
    "start_time": "2024-12-06T09:41:27.820Z"
   },
   {
    "duration": 3,
    "start_time": "2024-12-06T09:41:39.984Z"
   },
   {
    "duration": 2,
    "start_time": "2024-12-06T09:41:40.472Z"
   },
   {
    "duration": 133,
    "start_time": "2024-12-06T09:50:16.504Z"
   },
   {
    "duration": 131,
    "start_time": "2024-12-06T09:50:31.577Z"
   },
   {
    "duration": 76,
    "start_time": "2024-12-06T09:53:03.545Z"
   },
   {
    "duration": 79,
    "start_time": "2024-12-06T09:53:13.735Z"
   },
   {
    "duration": 85,
    "start_time": "2024-12-06T09:53:19.397Z"
   },
   {
    "duration": 89,
    "start_time": "2024-12-06T09:53:23.438Z"
   },
   {
    "duration": 113,
    "start_time": "2024-12-06T09:53:46.530Z"
   },
   {
    "duration": 78,
    "start_time": "2024-12-06T10:00:06.403Z"
   },
   {
    "duration": 355,
    "start_time": "2024-12-06T10:04:25.547Z"
   },
   {
    "duration": 5,
    "start_time": "2024-12-06T10:04:43.904Z"
   },
   {
    "duration": 1918,
    "start_time": "2024-12-06T10:04:54.312Z"
   },
   {
    "duration": 2068,
    "start_time": "2024-12-06T10:05:58.279Z"
   },
   {
    "duration": 6,
    "start_time": "2024-12-06T10:06:49.914Z"
   },
   {
    "duration": 3,
    "start_time": "2024-12-06T10:07:06.058Z"
   },
   {
    "duration": 4,
    "start_time": "2024-12-06T10:07:24.528Z"
   },
   {
    "duration": 4,
    "start_time": "2024-12-06T10:07:33.133Z"
   },
   {
    "duration": 4,
    "start_time": "2024-12-06T10:08:40.906Z"
   },
   {
    "duration": 4,
    "start_time": "2024-12-06T11:02:37.049Z"
   },
   {
    "duration": 4,
    "start_time": "2024-12-06T11:02:52.225Z"
   },
   {
    "duration": 5,
    "start_time": "2024-12-06T11:02:58.938Z"
   },
   {
    "duration": 5,
    "start_time": "2024-12-06T11:03:12.825Z"
   },
   {
    "duration": 5,
    "start_time": "2024-12-06T11:03:27.309Z"
   },
   {
    "duration": 188,
    "start_time": "2024-12-06T11:03:32.396Z"
   },
   {
    "duration": 235,
    "start_time": "2024-12-06T11:03:42.286Z"
   },
   {
    "duration": 6,
    "start_time": "2024-12-06T11:03:56.796Z"
   },
   {
    "duration": 4,
    "start_time": "2024-12-06T11:04:02.505Z"
   },
   {
    "duration": 101,
    "start_time": "2024-12-06T11:04:07.903Z"
   },
   {
    "duration": 15,
    "start_time": "2024-12-06T11:21:13.767Z"
   },
   {
    "duration": 4,
    "start_time": "2024-12-06T11:21:31.042Z"
   },
   {
    "duration": 4,
    "start_time": "2024-12-06T11:21:36.905Z"
   },
   {
    "duration": 4,
    "start_time": "2024-12-06T11:21:42.040Z"
   },
   {
    "duration": 4,
    "start_time": "2024-12-06T11:21:45.994Z"
   },
   {
    "duration": 1992,
    "start_time": "2024-12-06T11:21:53.099Z"
   },
   {
    "duration": 5,
    "start_time": "2024-12-06T11:22:07.429Z"
   },
   {
    "duration": 10,
    "start_time": "2024-12-06T11:22:16.872Z"
   },
   {
    "duration": 4,
    "start_time": "2024-12-06T11:22:34.256Z"
   },
   {
    "duration": 5,
    "start_time": "2024-12-06T11:22:49.584Z"
   },
   {
    "duration": 4,
    "start_time": "2024-12-06T11:23:00.380Z"
   },
   {
    "duration": 4,
    "start_time": "2024-12-06T11:26:48.092Z"
   },
   {
    "duration": 4,
    "start_time": "2024-12-06T11:26:53.907Z"
   },
   {
    "duration": 4,
    "start_time": "2024-12-06T11:27:00.581Z"
   },
   {
    "duration": 216,
    "start_time": "2024-12-06T11:28:07.883Z"
   },
   {
    "duration": 78,
    "start_time": "2024-12-06T11:28:57.381Z"
   },
   {
    "duration": 4,
    "start_time": "2024-12-06T11:29:41.713Z"
   },
   {
    "duration": 48,
    "start_time": "2024-12-06T11:29:48.898Z"
   },
   {
    "duration": 4,
    "start_time": "2024-12-06T11:29:58.499Z"
   },
   {
    "duration": 81,
    "start_time": "2024-12-06T11:30:08.736Z"
   },
   {
    "duration": 1993,
    "start_time": "2024-12-06T11:33:59.983Z"
   },
   {
    "duration": 1922,
    "start_time": "2024-12-06T11:34:18.992Z"
   },
   {
    "duration": 3,
    "start_time": "2024-12-06T11:35:07.896Z"
   },
   {
    "duration": 1907,
    "start_time": "2024-12-06T11:35:19.812Z"
   },
   {
    "duration": 5,
    "start_time": "2024-12-06T11:35:38.624Z"
   },
   {
    "duration": 1962,
    "start_time": "2024-12-06T11:37:29.127Z"
   },
   {
    "duration": 1928,
    "start_time": "2024-12-06T11:38:30.384Z"
   },
   {
    "duration": 2101,
    "start_time": "2024-12-06T11:39:00.953Z"
   },
   {
    "duration": 1946,
    "start_time": "2024-12-06T11:39:31.667Z"
   },
   {
    "duration": 276,
    "start_time": "2024-12-06T11:59:07.724Z"
   },
   {
    "duration": 42,
    "start_time": "2024-12-06T12:37:34.628Z"
   },
   {
    "duration": 99,
    "start_time": "2024-12-06T12:39:44.934Z"
   },
   {
    "duration": 1985,
    "start_time": "2024-12-06T12:39:55.674Z"
   },
   {
    "duration": 1890,
    "start_time": "2024-12-06T12:41:42.634Z"
   },
   {
    "duration": 2051,
    "start_time": "2024-12-06T12:42:02.811Z"
   },
   {
    "duration": 4,
    "start_time": "2024-12-06T12:45:01.431Z"
   },
   {
    "duration": 105,
    "start_time": "2024-12-06T12:45:41.253Z"
   },
   {
    "duration": 77,
    "start_time": "2024-12-06T12:45:55.473Z"
   },
   {
    "duration": 85,
    "start_time": "2024-12-06T12:58:56.826Z"
   },
   {
    "duration": 93,
    "start_time": "2024-12-06T12:59:02.264Z"
   },
   {
    "duration": 75,
    "start_time": "2024-12-06T13:08:18.777Z"
   },
   {
    "duration": 5,
    "start_time": "2024-12-06T13:12:53.096Z"
   },
   {
    "duration": 82,
    "start_time": "2024-12-06T13:18:22.184Z"
   },
   {
    "duration": 1905,
    "start_time": "2024-12-06T13:27:48.024Z"
   },
   {
    "duration": 1946,
    "start_time": "2024-12-06T13:27:57.662Z"
   },
   {
    "duration": 2251,
    "start_time": "2024-12-06T17:42:28.660Z"
   },
   {
    "duration": 373,
    "start_time": "2024-12-06T17:42:30.913Z"
   },
   {
    "duration": 5,
    "start_time": "2024-12-06T17:42:31.288Z"
   },
   {
    "duration": 29,
    "start_time": "2024-12-06T17:42:31.295Z"
   },
   {
    "duration": 46,
    "start_time": "2024-12-06T17:42:31.326Z"
   },
   {
    "duration": 1442,
    "start_time": "2024-12-06T17:42:31.374Z"
   },
   {
    "duration": 10,
    "start_time": "2024-12-06T17:42:32.818Z"
   },
   {
    "duration": 73,
    "start_time": "2024-12-06T17:42:32.830Z"
   },
   {
    "duration": 33,
    "start_time": "2024-12-06T17:42:32.904Z"
   },
   {
    "duration": 6,
    "start_time": "2024-12-06T17:42:32.940Z"
   },
   {
    "duration": 57,
    "start_time": "2024-12-06T17:42:32.948Z"
   },
   {
    "duration": 35,
    "start_time": "2024-12-06T17:42:33.007Z"
   },
   {
    "duration": 62,
    "start_time": "2024-12-06T17:42:33.044Z"
   },
   {
    "duration": 32,
    "start_time": "2024-12-06T17:42:33.108Z"
   },
   {
    "duration": 57,
    "start_time": "2024-12-06T17:42:33.142Z"
   },
   {
    "duration": 18,
    "start_time": "2024-12-06T17:42:33.201Z"
   },
   {
    "duration": 15,
    "start_time": "2024-12-06T17:42:33.221Z"
   },
   {
    "duration": 314,
    "start_time": "2024-12-06T17:42:33.297Z"
   },
   {
    "duration": 6,
    "start_time": "2024-12-06T17:42:33.613Z"
   },
   {
    "duration": 204,
    "start_time": "2024-12-06T17:42:33.620Z"
   },
   {
    "duration": 614,
    "start_time": "2024-12-06T17:42:33.825Z"
   },
   {
    "duration": 64,
    "start_time": "2024-12-06T17:42:34.440Z"
   },
   {
    "duration": 28,
    "start_time": "2024-12-06T17:42:34.505Z"
   },
   {
    "duration": 273,
    "start_time": "2024-12-06T17:42:34.535Z"
   },
   {
    "duration": 522,
    "start_time": "2024-12-06T17:42:34.809Z"
   },
   {
    "duration": 12,
    "start_time": "2024-12-06T17:42:35.332Z"
   },
   {
    "duration": 27,
    "start_time": "2024-12-06T17:42:35.397Z"
   },
   {
    "duration": 27,
    "start_time": "2024-12-06T17:42:35.429Z"
   },
   {
    "duration": 540,
    "start_time": "2024-12-06T17:42:35.458Z"
   },
   {
    "duration": 510,
    "start_time": "2024-12-06T17:42:36.000Z"
   },
   {
    "duration": 801,
    "start_time": "2024-12-06T17:42:36.512Z"
   },
   {
    "duration": 13,
    "start_time": "2024-12-06T17:42:37.315Z"
   },
   {
    "duration": 73,
    "start_time": "2024-12-06T17:42:37.330Z"
   },
   {
    "duration": 502,
    "start_time": "2024-12-06T17:42:37.404Z"
   },
   {
    "duration": 5,
    "start_time": "2024-12-06T17:42:37.908Z"
   },
   {
    "duration": 16,
    "start_time": "2024-12-06T17:42:37.915Z"
   },
   {
    "duration": 66,
    "start_time": "2024-12-06T17:42:37.933Z"
   },
   {
    "duration": 1002,
    "start_time": "2024-12-06T17:42:38.001Z"
   },
   {
    "duration": 99,
    "start_time": "2024-12-06T17:42:39.006Z"
   },
   {
    "duration": 98,
    "start_time": "2024-12-06T17:42:39.109Z"
   },
   {
    "duration": 21,
    "start_time": "2024-12-06T17:42:39.209Z"
   },
   {
    "duration": 86,
    "start_time": "2024-12-06T17:42:39.232Z"
   },
   {
    "duration": 11,
    "start_time": "2024-12-06T17:42:39.320Z"
   },
   {
    "duration": 71,
    "start_time": "2024-12-06T17:42:39.333Z"
   },
   {
    "duration": 6,
    "start_time": "2024-12-06T17:42:39.406Z"
   },
   {
    "duration": 84,
    "start_time": "2024-12-06T17:42:39.415Z"
   },
   {
    "duration": 405,
    "start_time": "2024-12-06T17:42:39.501Z"
   },
   {
    "duration": 4,
    "start_time": "2024-12-06T17:42:39.908Z"
   },
   {
    "duration": 811,
    "start_time": "2024-12-06T17:42:39.913Z"
   },
   {
    "duration": 800,
    "start_time": "2024-12-06T17:42:40.726Z"
   },
   {
    "duration": 406,
    "start_time": "2024-12-06T17:42:41.528Z"
   },
   {
    "duration": 472,
    "start_time": "2024-12-06T17:42:41.936Z"
   },
   {
    "duration": 6,
    "start_time": "2024-12-06T17:42:42.410Z"
   },
   {
    "duration": 89,
    "start_time": "2024-12-06T17:42:42.417Z"
   },
   {
    "duration": 8,
    "start_time": "2024-12-06T17:42:42.508Z"
   },
   {
    "duration": 9,
    "start_time": "2024-12-06T17:42:42.518Z"
   },
   {
    "duration": 1093,
    "start_time": "2024-12-06T17:42:42.529Z"
   },
   {
    "duration": 16,
    "start_time": "2024-12-06T17:42:43.624Z"
   },
   {
    "duration": 62,
    "start_time": "2024-12-06T17:42:43.642Z"
   },
   {
    "duration": 9,
    "start_time": "2024-12-06T17:42:43.706Z"
   },
   {
    "duration": 215,
    "start_time": "2024-12-06T17:42:43.717Z"
   },
   {
    "duration": 5113,
    "start_time": "2024-12-06T17:42:43.999Z"
   },
   {
    "duration": 3,
    "start_time": "2024-12-06T17:42:49.115Z"
   },
   {
    "duration": 31,
    "start_time": "2024-12-06T17:42:49.120Z"
   },
   {
    "duration": 24,
    "start_time": "2024-12-06T17:42:49.197Z"
   },
   {
    "duration": 279,
    "start_time": "2024-12-06T17:42:49.223Z"
   },
   {
    "duration": 0,
    "start_time": "2024-12-06T17:42:49.504Z"
   },
   {
    "duration": 0,
    "start_time": "2024-12-06T17:42:49.505Z"
   }
  ],
  "kernelspec": {
   "display_name": "Python 3 (ipykernel)",
   "language": "python",
   "name": "python3"
  },
  "language_info": {
   "codemirror_mode": {
    "name": "ipython",
    "version": 3
   },
   "file_extension": ".py",
   "mimetype": "text/x-python",
   "name": "python",
   "nbconvert_exporter": "python",
   "pygments_lexer": "ipython3",
   "version": "3.9.20"
  },
  "toc": {
   "base_numbering": 1,
   "nav_menu": {},
   "number_sections": true,
   "sideBar": true,
   "skip_h1_title": true,
   "title_cell": "Содержание",
   "title_sidebar": "Contents",
   "toc_cell": true,
   "toc_position": {
    "height": "calc(100% - 180px)",
    "left": "10px",
    "top": "150px",
    "width": "273.188px"
   },
   "toc_section_display": true,
   "toc_window_display": false
  }
 },
 "nbformat": 4,
 "nbformat_minor": 5
}
